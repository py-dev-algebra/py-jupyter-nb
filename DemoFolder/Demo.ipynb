{
 "cells": [
  {
   "cell_type": "code",
   "execution_count": 1,
   "id": "3d090e0d-0a23-47e8-8cfc-a8c1518b7a43",
   "metadata": {},
   "outputs": [
    {
     "name": "stdout",
     "output_type": "stream",
     "text": [
      "Hello, world!\n"
     ]
    }
   ],
   "source": [
    "print('Hello, world!')"
   ]
  },
  {
   "cell_type": "markdown",
   "id": "715d122d-5a6a-4fa7-b832-e01d84005144",
   "metadata": {},
   "source": [
    "# Ovo je header razine 1\n",
    "\n",
    "`print('Hello, world!')`"
   ]
  },
  {
   "cell_type": "code",
   "execution_count": 2,
   "id": "fe3cedd5-34b0-44bc-b7ac-d68076dcac85",
   "metadata": {},
   "outputs": [],
   "source": [
    "name = 'Pero Peric'"
   ]
  },
  {
   "cell_type": "code",
   "execution_count": 3,
   "id": "8a5836b6-f3dd-44dd-ba94-f9a84ef9cbc5",
   "metadata": {},
   "outputs": [
    {
     "name": "stdout",
     "output_type": "stream",
     "text": [
      "Pero PEric\n"
     ]
    }
   ],
   "source": [
    "first_name = 'Pero PEric'\n",
    "print(first_name)"
   ]
  },
  {
   "cell_type": "code",
   "execution_count": 4,
   "id": "f0e6e313-f767-42b8-a1db-1ee0d508d57d",
   "metadata": {},
   "outputs": [],
   "source": [
    "import time"
   ]
  },
  {
   "cell_type": "code",
   "execution_count": 5,
   "id": "8ca9cb65-cb4e-4660-8ea4-3f2251dfb225",
   "metadata": {},
   "outputs": [],
   "source": [
    "time.sleep(5)"
   ]
  },
  {
   "cell_type": "code",
   "execution_count": 8,
   "id": "32c43e15-6315-457d-9f57-c05189ac6031",
   "metadata": {},
   "outputs": [
    {
     "data": {
      "text/plain": [
       "\u001b[1;31mType:\u001b[0m        str\n",
       "\u001b[1;31mString form:\u001b[0m Pero Peric\n",
       "\u001b[1;31mLength:\u001b[0m      10\n",
       "\u001b[1;31mDocstring:\u001b[0m  \n",
       "str(object='') -> str\n",
       "str(bytes_or_buffer[, encoding[, errors]]) -> str\n",
       "\n",
       "Create a new string object from the given object. If encoding or\n",
       "errors is specified, then the object must expose a data buffer\n",
       "that will be decoded using the given encoding and error handler.\n",
       "Otherwise, returns the result of object.__str__() (if defined)\n",
       "or repr(object).\n",
       "encoding defaults to sys.getdefaultencoding().\n",
       "errors defaults to 'strict'."
      ]
     },
     "metadata": {},
     "output_type": "display_data"
    }
   ],
   "source": [
    "name?"
   ]
  },
  {
   "cell_type": "code",
   "execution_count": null,
   "id": "745d9f66-2fa4-411f-9214-481bb32d606b",
   "metadata": {},
   "outputs": [],
   "source": []
  },
  {
   "cell_type": "code",
   "execution_count": null,
   "id": "8f3a646c-0aad-4b3a-ab3b-6af48d90a355",
   "metadata": {},
   "outputs": [],
   "source": []
  },
  {
   "cell_type": "code",
   "execution_count": null,
   "id": "ba21b58a-fbc5-4749-a64e-9e17d95136fb",
   "metadata": {},
   "outputs": [],
   "source": []
  },
  {
   "cell_type": "code",
   "execution_count": 11,
   "id": "4a587af2-d538-4985-b0b9-e763a0c2bf69",
   "metadata": {},
   "outputs": [
    {
     "name": "stdout",
     "output_type": "stream",
     "text": [
      "<method-wrapper '__str__' of User object at 0x00000176C6373620>\n",
      "<method-wrapper '__repr__' of User object at 0x00000176C6373620>\n",
      "{'first_name': 'Pero', 'last_name': 'Peric'}\n",
      "Pero\n",
      "{\"first_name\": \"Pero\", \"last_name\": \"Peric\"}\n"
     ]
    }
   ],
   "source": [
    "import json\n",
    "\n",
    "\n",
    "class User:\n",
    "    def __init__(self):\n",
    "        self.first_name = 'Pero'\n",
    "        self.last_name = 'Peric'\n",
    "\n",
    "\n",
    "user = User()\n",
    "\n",
    "print(user.__str__)\n",
    "print(user.__repr__)\n",
    "print(user.__dict__)\n",
    "print(user.first_name)\n",
    "\n",
    "print(json.dumps(user.__dict__))\n",
    "\n",
    "# {\n",
    "#     \"first_name\": 'Pero',\n",
    "#     \"last_name\": \"Peric'\n",
    "# }"
   ]
  },
  {
   "cell_type": "code",
   "execution_count": null,
   "id": "4cc9d1c4-013e-436f-8470-bc0041fc116b",
   "metadata": {},
   "outputs": [],
   "source": []
  }
 ],
 "metadata": {
  "kernelspec": {
   "display_name": "Python 3 (ipykernel)",
   "language": "python",
   "name": "python3"
  },
  "language_info": {
   "codemirror_mode": {
    "name": "ipython",
    "version": 3
   },
   "file_extension": ".py",
   "mimetype": "text/x-python",
   "name": "python",
   "nbconvert_exporter": "python",
   "pygments_lexer": "ipython3",
   "version": "3.12.0"
  }
 },
 "nbformat": 4,
 "nbformat_minor": 5
}
