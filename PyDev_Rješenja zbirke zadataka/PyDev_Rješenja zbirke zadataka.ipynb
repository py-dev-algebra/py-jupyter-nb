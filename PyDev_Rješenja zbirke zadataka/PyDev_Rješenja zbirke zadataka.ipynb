{
 "cells": [
  {
   "attachments": {},
   "cell_type": "markdown",
   "id": "65440b13-b26b-425f-86e4-7fd7a45e34d6",
   "metadata": {
    "deletable": false,
    "editable": false,
    "tags": []
   },
   "source": [
    "<a href=\"https://www.algebra.hr/cjelozivotno-obrazovanje/\" target=\"_blank\">\n",
    "    <img src=\"media/algebra_logo.jpg\" alt=\"Algebra d.o.o. obrazovanje odraslih\" height=\"50\">\n",
    "</a>\n"
   ]
  },
  {
   "attachments": {},
   "cell_type": "markdown",
   "id": "2849e7b1-2135-4328-b476-3e7ea7fceb40",
   "metadata": {
    "deletable": false,
    "editable": false,
    "tags": []
   },
   "source": [
    "### <center>Algebra - Obrazovanje odraslih</center>\n",
    "\n",
    "\n",
    "# <center>Zbirka zadataka: Python developer  </center>\n",
    "\n",
    "## <center>Rješenja zadataka</center>"
   ]
  },
  {
   "attachments": {},
   "cell_type": "markdown",
   "id": "025ed952-3709-40a3-b865-14881ab381f1",
   "metadata": {
    "deletable": false,
    "editable": false,
    "tags": []
   },
   "source": [
    "---"
   ]
  },
  {
   "attachments": {},
   "cell_type": "markdown",
   "id": "7ae3943a",
   "metadata": {
    "deletable": false,
    "editable": false,
    "tags": []
   },
   "source": [
    "## Autori:\n",
    "\n",
    "\n",
    "* Grđan Andreas\n",
    "* Lujić Krunoslav\n",
    "* Šantl Dino\n",
    "* Škalec Davor\n",
    "* Zbodulja Vesna\n",
    "\n",
    "*Popis autora je naveden abecednim redom prvog slova prezimena.*"
   ]
  },
  {
   "attachments": {},
   "cell_type": "markdown",
   "id": "c102195e-2d7d-4d8f-8c11-063d3b6afb68",
   "metadata": {
    "deletable": false,
    "editable": false,
    "tags": []
   },
   "source": [
    "***Sva prava pridržana. Niti jedan dio ove zbirke ne smije se reproducirati ili prenositi u bilo kojem obliku, niti na koji način. Zabranjeno je svako kopiranje, citiranje te upotreba zbirke u javnim i privatnim edukacijskim organizacijama u svrhu organiziranih školovanja, a bez pisanog odobrenja autorskih prava.***\n",
    "\n",
    "**Copyright &copy; Algebra d.o.o.**"
   ]
  },
  {
   "attachments": {},
   "cell_type": "markdown",
   "id": "e11e6f82-763d-4f88-b69a-8981826efb99",
   "metadata": {
    "deletable": false,
    "editable": false,
    "tags": []
   },
   "source": [
    "## Sadržaj\n",
    "\n",
    "* [Uvod](#uvod)\n",
    "* [Seminar 1 - Uvod u računalno razmišljanje](#modul1)\n",
    "    * [Dekompozicija](#modul1-dekompozicija)\n",
    "    * [Uočavanje uzoraka](#modul1-uocavanje-uzoraka)\n",
    "    * [Apstrakcija](#modul1-apstrakcija)\n",
    "    * [Algoritam i pseudo kod](#modul1-algoritam)\n",
    "    * [Provjera rješenja](#modul1-provjera-rjesenja)\n",
    "    * [Pseudo kôd](#modul1-pseudo-kod)\n",
    "* [Seminar 2 - Osnove programiranja u Pythonu](#modul2)\n",
    "    * [IDE](#modul2-ide)\n",
    "    * [Varijable i tipovi podataka](#modul2-varijable)\n",
    "    * [print() / input()](#modul2-print-input)\n",
    "    * [Debugging](#modul2-debugging)\n",
    "    * [FOR petlja](#modul2-for)\n",
    "    * [Lista](#modul2-lista)\n",
    "    * [Tuple, n-torka](#modul2-tuple)\n",
    "    * [Set](#modul2-set)\n",
    "    * [Dictionary / rječnik](#modul2-dictionay)\n",
    "    * [IF, WHILE petlja](#modul2-if-while)\n",
    "    * [Funkcije](#modul2-funkcije)\n",
    "* [Seminar 3 - Programiranje u programskom jeziku Python](#modul3)\n",
    "    * [Klase / razredi](#modul3-klase)\n",
    "    * [Moduli i paketi](#modul3-moduli)\n",
    "    * [Datetime, Pillow, Beautiful Soup …](#modul3-datetime)\n",
    "    * [TRY EXCEPT FINALLY](#modul3-try-except)\n",
    "    * [Datoteke](#modul3-datoteke)\n",
    "    * [JSON i WebAPI usluge](#modul3-json)\n",
    "    * [Baze](#modul3-baze)\n",
    "    * [SQL jezik](#modul3-sql)\n",
    "    * [SQLite](#modul3-sqlite)\n",
    "    * [SQL Alchemy](#modul3-sql-alchemy)\n",
    "    * [GUI](#modul3-gui)\n",
    "* [Seminar 4 - IoT](#modul4)\n",
    "    * [SenseHAT emulator](#modul4-sense-hat-emu)\n",
    "    * [Primjena senzora u aplikacijama](#modul4-primjena-senzora)\n",
    "* [Seminar 5 - Data science](#modul5)\n",
    "    * [Pandas](#modul5-pandas)\n",
    "    * [Matplotlib](#modul5-matplotlib)\n",
    "    * [NumPy](#modul5-numpy)\n"
   ]
  },
  {
   "attachments": {},
   "cell_type": "markdown",
   "id": "1015be2e-9cba-41c2-8899-111b755e9df1",
   "metadata": {
    "deletable": false,
    "editable": false,
    "tags": []
   },
   "source": [
    "## Seminar 1 - Uvod u računalno razmišljanje <a class=\"anchor\" id=\"modul1\"></a>"
   ]
  },
  {
   "attachments": {},
   "cell_type": "markdown",
   "id": "f64ab6f0-df39-4489-b6d9-cd166987d9b7",
   "metadata": {
    "deletable": false,
    "editable": false,
    "tags": []
   },
   "source": [
    "Računalno razmišljanje je misaoni proces tijekom kojeg definiramo problem te njegove manje dijelove na način da se rješenje može opisati kao slijed jednoznačno definiranih koraka. Važno je primjetiti da računalno razmišljanje nije vezano samo uz računalnu znanost, nego općenito na na rješavanje velikih i malih problema iz svakodnevnog života. Velika je vjerojatnost da neke elemente računalnog razmišljanja već koristite u rješavanju svakodnenvih problem, ali toga niste svjesni. \n",
    "\n",
    "Računalnim razmišljanjem možemo doći do rješenja za kompleksni problem te dobiveno rješenje predstaviti na način kojeg mogu razumjeti osobe, računala ili oboje."
   ]
  },
  {
   "attachments": {},
   "cell_type": "markdown",
   "id": "67f3eae6-7a6a-4a96-bbeb-7f2d628e8dbe",
   "metadata": {
    "deletable": false,
    "editable": false,
    "tags": []
   },
   "source": [
    "#### Ključni elementi računalnog razmišljanja\n",
    "\n",
    "- **Dekompozicija** - rastavi problem na manje djelove\n",
    "- **Uočavanje uzoraka** - uoči ponavljanja i sličnosti\n",
    "- **Apstrakcija** - identifikacija i fokus samo na važne elemente rješenja\n",
    "- **Algoritam** - uputa korak po korak kako doći do rješenja\n",
    "- **Provjera kvalitete rješenja / testiranje dobivenog rješenja** ne ulazi u osnovne elemente, ali to je nužan korak za kvalitetno i ispravno rješavanje problema.\n",
    "\n",
    "Ako računalno razmišljanje primjenjujemo za rješavanje problema vezanih za računalnu znanost, onda je, nakon što prođemo sve prethodno navedene korake procesa računalnog razmišljanja, zadnji korak **pisanje programskog kôda** koristeći pravila, odnosno sintaksu kako bi računala razumjela instrukcije."
   ]
  },
  {
   "attachments": {},
   "cell_type": "markdown",
   "id": "d4b2a7fa-287c-4cee-9e71-9091a9ec084d",
   "metadata": {
    "deletable": false,
    "editable": false,
    "tags": []
   },
   "source": [
    "#### Pesudo kôd\n",
    "\n",
    "Pseudo kôd **nije programski kôd**, nego predstavlja primjenu govornog, svakodnevnog jezika kako bi se opisalo rješenje nekog problema ili koraci algoritma. Pseudo kôd nije vezan uz određeni programski jezik, kao niti uz bilo koji govorni, nacionalni jezik. Dakle pseudo kôd možete pisati na hrvatskom, engleskom, njemačkom ili bilo kojem drugom jeziku i bilo kojim pismom. To je isključivo Vaš izbor. Ipak, preporuka je koristiti engleski jezik jer je velika vjerojatnost rada u timovima u kojima je jezik sporazumijevanja engleski jezik.\n",
    "\n",
    "Pseudo kôd može sličiti programskom kôdu nekog programskog jezika, ali pseudo kôd **nema definiranu sintaksu**."
   ]
  },
  {
   "attachments": {},
   "cell_type": "markdown",
   "id": "ddaa4fa9-3931-43f5-ac23-7e341f8a9b9b",
   "metadata": {
    "deletable": false,
    "editable": false,
    "tags": []
   },
   "source": [
    "### Dekompozicija <a class=\"anchor\" id=\"modul1-dekompozicija\"></a>"
   ]
  },
  {
   "attachments": {},
   "cell_type": "markdown",
   "id": "9e77b606-acb6-49eb-9d40-ee876a72e18b",
   "metadata": {
    "deletable": false,
    "editable": false,
    "tags": []
   },
   "source": [
    "#### Zadaci"
   ]
  },
  {
   "attachments": {},
   "cell_type": "markdown",
   "id": "6dd9d6a3-e801-455f-91e9-061a69b15a62",
   "metadata": {
    "deletable": false,
    "editable": false,
    "tags": []
   },
   "source": [
    "**Zadatak 1**\n",
    "\n",
    "Nekada su videoteke bile neizostavni dio svakog kvarta. Razvojem Interneta i povećanjem brzine pristupa, videoteke su se preselile na Internet. Vlasnik kvartovske videoteke želi svojim članovima omogućiti pristup filmovima videoteke, ali naravno preko Interneta, odnosno *online*. Zamolio Vas je da mu pomognete kod izrade računalnog sustava koji bi mu omogućio realizaciju takve ideje. \n",
    "\n",
    "Napišite koje sve komponente i podkomponente bi takav sustav trebao imati."
   ]
  },
  {
   "attachments": {},
   "cell_type": "markdown",
   "id": "89dd0315-27f2-49eb-84a7-aaf324ebab57",
   "metadata": {},
   "source": [
    "```\n",
    "Rješenja ovog zadatka mogu imati odstupanja. Ovo je jedno od mogućih rješenja:\n",
    "\n",
    "1. Web aplikacija - glavno sučelje između korisnika i sustava. To bi mogla biti web stranica koja omogućuje korisnicima pretraživanje, pregledavanje i rezervaciju filmova, prikazivanje informacija o računu i pregled njihove povijesti. To može biti i mobilna palikacija s istim funkcionalnostima.\n",
    "2. Baza podataka - za pohranu informacija o korisnicima, filmovima, rezervacijama, uplatama i drugim transakcijama. Baza podataka trebala bi biti pouzdana, sigurna i lako dostupna.\n",
    "3. Integracija s plaćanjem - osigurava da korisnici mogu sigurno platiti za rezervacije, iznajmljivanje i druge usluge preko Interneta. Ova komponenta bi mogla biti integrirana s različitim sustavima plaćanja, kao što su kartice, PayPal i dr.\n",
    "4. Online streaming - omogućuje korisnicima da gledaju filmove online, bez potrebe za preuzimanjem. Ova komponenta bi trebala osigurati visoku kvalitetu reprodukcije, brzo učitavanje i lako navigiranje kroz sadržaj.\n",
    "5. Sigurnost i zaštita privatnosti - osigurava da korisnički podaci budu sigurni i privatni. Ova komponenta bi trebala uključivati različite sigurnosne mehanizme, poput autentifikacije korisnika, šifriranja podataka i sigurnosnih kopija podataka.\n",
    "6. Analitika i izvještavanje - omogućuje vlasniku videoteke praćenje prodaje, pregledavanje trendova i praćenje uspjeha marketinških kampanja. Ova komponenta bi mogla pružati različita izvješća i analize u realnom vremenu.\n",
    "```"
   ]
  },
  {
   "attachments": {},
   "cell_type": "markdown",
   "id": "426a2ed0-4594-43cf-9d69-5227ca9ac388",
   "metadata": {
    "deletable": false,
    "editable": false,
    "tags": []
   },
   "source": [
    "**Zadatak 2**\n",
    "\n",
    "Tijekom razrade ideje, odlučeno je da će se članovima nuditi svi filmovi. To znači da je, osim novih filmova koji su vlasniku videoteke dostupni u obliku koji je već pripremljen za *streaming*, potrebno omogućiti i pristup filmovima koje videoteka posjeduje i za koje ima pravo iznajmljivanja. Međutim, ti filmovi su na raznim medijima: VHS kazete, DVD te BlueRay diskovi. \n",
    "\n",
    "Što sve treba osigurati te na što sve treba paziti da bi se i ti filmovi digitalizirali i pripremili za *streaming* preko Interneta?"
   ]
  },
  {
   "attachments": {},
   "cell_type": "markdown",
   "id": "4a220fed-acaa-47fb-8812-964e11af0455",
   "metadata": {},
   "source": [
    "```\n",
    "1. Računalni sustav za digitalizaciju\n",
    "    - Računalo s odgovarajućim softverom za digitalizaciju i obradu video zapisa\n",
    "    - Adapter za povezivanje uređaja za čitanje VHS kazeta i DVD diskova\n",
    "    - BlueRay čitač za BlueRay diskove\n",
    "    - Hard disk, odnosno dovoljno diskovnog prostora za pohranu digitaliziranih filmova\n",
    "2. Softver za streaming\n",
    "    - Softver za streaming videozapisa koji podržava formate koje je moguće digitalizirati\n",
    "3. Web stranica za streaming\n",
    "    - Izrada web stranice s kojom će korisnici moći pristupiti filmovima\n",
    "    - Sustav za autentifikaciju i autorizaciju korisnika\n",
    "    - Sustav za pretraživanje filmova\n",
    "    - Sustav za prikazivanje opisa filma, glumaca, redatelja i drugih relevantnih informacija\n",
    "\n",
    "Pri digitalizaciji i pripremi filmova za streaming preko Interneta treba paziti na sljedeće stvari:\n",
    "- Kvaliteta digitaliziranih filmova mora biti dovoljno dobra za gledanje preko Interneta\n",
    "- Potrebno je provjeriti jesu li filmovi koje videoteka posjeduje dostupni za digitalizaciju i streaming te imaju li i vrijede li prava za njihovo prikazivanje i iznajmljivanje\n",
    "- Potrebno je provjeriti jesu li svi filmovi ispravno označeni i kategorizirani kako bi korisnici mogli lakše pronaći filmove koji ih zanimaju.\n",
    "```"
   ]
  },
  {
   "attachments": {},
   "cell_type": "markdown",
   "id": "10e667e1-2866-4656-8dd1-06c5595839dc",
   "metadata": {
    "deletable": false,
    "editable": false,
    "tags": []
   },
   "source": [
    "### Uočavanje uzoraka <a class=\"anchor\" id=\"modul1-uocavanje-uzoraka\"></a>"
   ]
  },
  {
   "attachments": {},
   "cell_type": "markdown",
   "id": "e5458417-dd75-4f11-b2cc-188a47e036c0",
   "metadata": {
    "deletable": false,
    "editable": false,
    "tags": []
   },
   "source": [
    "#### Zadaci"
   ]
  },
  {
   "attachments": {},
   "cell_type": "markdown",
   "id": "703266a0-4902-4f1b-8233-dd5cc6e253f1",
   "metadata": {
    "deletable": false,
    "editable": false,
    "tags": []
   },
   "source": [
    "**Zadatak 1**\n",
    "\n",
    "Iz prethodna dva zadatka izdvojite sve elemente koji se ponavljaju, odnosno koji se mogu koristiti unutar nekoliko elemenata kako ih ne biste trebali raditi više puta. \n",
    "\n",
    "Na primjer, provjera je li korisnik prijavljen na sustav te ima li pravo pristupa i pokretanja željenih akcija. *Ovo je zaseban dio koji se proteže kroz gotovo sve komponente sustava.*"
   ]
  },
  {
   "attachments": {},
   "cell_type": "markdown",
   "id": "29c1efc5-be0f-4ba1-83ba-fadd4de7dea3",
   "metadata": {},
   "source": [
    "```\n",
    "1. Provjera korisničkog prava pristupa i autentikacija korisnika.\n",
    "2. Sustav za upravljanje korisničkim računima.\n",
    "3. Sustav za upravljanje filmovima (informacijama o filmovima, kategorizacija, pretraživanje itd.).\n",
    "4. Sustav za naplatu i transakcije (za iznajmljivanje filmova, pretplate, plaćanje usluga itd.).\n",
    "5. Sustav za prikazivanje filmova na zahtjev (streaming, on-demand).\n",
    "6. Sustav za obradu narudžbi, iznajmljivanja i vraćanja filmova.\n",
    "7. Sustav za upravljanje zalihama i dostavom (u slučaju fizičkih medija kao što su DVD-i i BlueRay diskovi).\n",
    "\n",
    "Ideja - Kako bi se izbjeglo ponavljanje kodova, potrebno je implementirati ove elemente kao nezavisne module koji se mogu koristiti unutar različitih komponenti sustava.\n",
    "```"
   ]
  },
  {
   "attachments": {},
   "cell_type": "markdown",
   "id": "d6fd35c3-9122-4009-b2d7-1434413f31af",
   "metadata": {
    "deletable": false,
    "editable": false,
    "tags": []
   },
   "source": [
    "### Apstrakcija <a class=\"anchor\" id=\"modul1-apstrakcija\"></a>"
   ]
  },
  {
   "attachments": {},
   "cell_type": "markdown",
   "id": "a1eb122d-15f0-4ebb-9b16-41ac39499210",
   "metadata": {
    "deletable": false,
    "editable": false,
    "tags": []
   },
   "source": [
    "#### Zadaci"
   ]
  },
  {
   "attachments": {},
   "cell_type": "markdown",
   "id": "5766d428-f17a-4886-864d-7721454a0065",
   "metadata": {
    "deletable": false,
    "editable": false,
    "tags": []
   },
   "source": [
    "**Zadatak 1**\n",
    "\n",
    "Izradite listu svojstava i funkcionalnosti koje će objekti prethodno opisanog sustava imati? Što više objekata izdvojite - to bolje. \n",
    "\n",
    "Primjer objekta je Član videoteke koji ima ime i prezime, adresu, email i broj telefona. Isto tako, ima pridružen drugi objekt, korisnički račun koji ima email kao korisničkko ime, lozinku, datum zadnje prijave te informaciju je li zaključan zbog krivog pokušaja prijave, odnosno je li aktivan."
   ]
  },
  {
   "attachments": {},
   "cell_type": "markdown",
   "id": "defeac03-8c08-4a3d-a3c6-d6cd1b4552f3",
   "metadata": {},
   "source": [
    "```\n",
    "1. Film:\n",
    "    - Naslov\n",
    "    - Godina izdavanja\n",
    "    - Trajanje\n",
    "    - Opis\n",
    "    - Zanr\n",
    "    - Autori\n",
    "    - Ocjena\n",
    "    - Dostupnost (ukoliko je film na stanju ili dostupan za streaming)\n",
    "\n",
    "2. Narudžba:\n",
    "    - Broj narudžbe\n",
    "    - Datum narudžbe\n",
    "    - Kupac (povezan s objektom član)\n",
    "    - Filmovi (povezani s objektom film)\n",
    "    - Ukupna cijena\n",
    "\n",
    "3. Član:\n",
    "    - Ime i prezime\n",
    "    - Adresa\n",
    "    - Email\n",
    "    - Broj telefona\n",
    "    - Korisnički račun (povezan s objektom korisnički račun)\n",
    "\n",
    "4. Korisnički račun:\n",
    "    - Email kao korisničko ime\n",
    "    - Lozinka\n",
    "    - Datum zadnje prijave\n",
    "    - Informacija o zaključavanju računa zbog krivog pokušaja prijave\n",
    "    - Informacija o aktivnosti računa\n",
    "\n",
    "5. Recenzija:\n",
    "    - Autor (povezan s objektom član)\n",
    "    - Film (povezan s objektom film)\n",
    "    - Ocjena\n",
    "    - Komentar\n",
    "    - Datum recenzije\n",
    "```"
   ]
  },
  {
   "attachments": {},
   "cell_type": "markdown",
   "id": "2b7d4965-a986-4dd8-bfa5-51687bc9a5d4",
   "metadata": {
    "deletable": false,
    "editable": false,
    "tags": []
   },
   "source": [
    "### Algoritam i pseudo kod <a class=\"anchor\" id=\"modul1-algoritam\"></a>\n",
    "\n",
    "Algoritam je slijed koraka koje je potrebno napraviti kako bi se postigao određeni cilj."
   ]
  },
  {
   "attachments": {},
   "cell_type": "markdown",
   "id": "a940f316-07a4-4dfd-b5ab-d72ab15ce37c",
   "metadata": {
    "deletable": false,
    "editable": false,
    "tags": []
   },
   "source": [
    "#### Zadaci"
   ]
  },
  {
   "attachments": {},
   "cell_type": "markdown",
   "id": "d538bb7b-7458-4cfd-8437-49fa589f6c41",
   "metadata": {
    "deletable": false,
    "editable": false,
    "tags": []
   },
   "source": [
    "**Zadatak 1**\n",
    "\n",
    "Izradite algoritam, odnosno slijed koraka za:\n",
    "- registraciju novog člana videoteke\n",
    "- posudbu filma"
   ]
  },
  {
   "attachments": {},
   "cell_type": "markdown",
   "id": "af333251-cc45-440c-8332-04d4bbe4bc9d",
   "metadata": {},
   "source": [
    "```\n",
    "Algoritam za registraciju novog člana videoteke:\n",
    "1. Korisnik pristupa web stranici videoteke.\n",
    "2. Klikne na gumb \"Registracija\".\n",
    "3. Otvara se obrazac za registraciju na kojem korisnik unosi svoje osobne podatke (ime, prezime, adresa, e-mail, broj telefona).\n",
    "4. Nakon što je korisnik popunio obrazac, klikne na gumb \"Registriraj se\".\n",
    "5. Sustav provjerava jesu li svi podaci uneseni ispravno i jesu li svi obvezni podaci ispunjeni.\n",
    "6. Ako su svi podaci ispravno uneseni, korisniku se prikazuje poruka o uspješnoj registraciji i šalje se potvrdni e-mail na navedenu adresu.\n",
    "\n",
    "Algoritam za posudbu filma:\n",
    "1. Korisnik se prijavljuje na web stranicu videoteke pomoću korisničkog računa.\n",
    "2. Korisnik pretražuje katalog filmova te odabire željeni film.\n",
    "3. Sustav provjerava je li željeni film dostupan za posudbu, odnosno stream preko Interneta.\n",
    "4. Ako je film dostupan, sustav daje korisniku mogućnost da ga posudi.\n",
    "5. Korisnik odabire datum kada će vratiti film i potvrđuje posudbu.\n",
    "6. Sustav rezervira film za korisnika i bilježi datum posudbe i datum vraćanja.\n",
    "7. Korisniku se šalje obavijest o uspješnoj posudbi filma.\n",
    "8. Nakon što korisnik vrati film, sustav bilježi vraćanje filma i oslobađa film za druge korisnike.\n",
    "```"
   ]
  },
  {
   "attachments": {},
   "cell_type": "markdown",
   "id": "a5305b8e-355d-4488-aedc-58e17ea9d0bf",
   "metadata": {
    "deletable": false,
    "editable": false,
    "tags": []
   },
   "source": [
    "### Provjera rješenja <a class=\"anchor\" id=\"modul1-provjera-rjesenja\"></a>"
   ]
  },
  {
   "attachments": {},
   "cell_type": "markdown",
   "id": "bbf4a409-0a54-4f57-b035-9def22c15656",
   "metadata": {
    "deletable": false,
    "editable": false,
    "tags": []
   },
   "source": [
    "#### Zadaci"
   ]
  },
  {
   "attachments": {},
   "cell_type": "markdown",
   "id": "09fb224f-c8b5-4ec5-8f0f-1e174f09f99e",
   "metadata": {
    "deletable": false,
    "editable": false,
    "tags": []
   },
   "source": [
    "**Zadatak 1**\n",
    "\n",
    "Provjerite uspješnost slijeda koraka za mogućnost gledanja filma:\n",
    "\n",
    "- gledanje filma:\n",
    "    1. pokreni video\n",
    "    2. prikaži opcije za izbor poglavlja, glasnoće\n",
    "    3. zatvori gledanje filma\n",
    "    4. vrati se na početnu stranicu\n",
    "    \n",
    "Je li raspisani slijed koraka u redu? Ako je, zašto je? Ako nije, zašto nije?"
   ]
  },
  {
   "attachments": {},
   "cell_type": "markdown",
   "id": "4252f2c2-f158-4304-b30c-ead70572008e",
   "metadata": {},
   "source": [
    "```\n",
    "Raspisani redoslijed bi mogao biti detaljnije raspisan, ali je u redu.\n",
    "NAPOMENA: Moguće je da se koraci 2. i 1. zamjene tako da korisnik prvo dobije uvid u popis poglavlja i postavke glasnoće kako bi mogao birati hoće li pokrenuti film od početka ili od točke gdje je prestao s gledanjem.\n",
    "```"
   ]
  },
  {
   "attachments": {},
   "cell_type": "markdown",
   "id": "963087ad-2fd6-4956-b3b6-9fe14d0d1e6c",
   "metadata": {
    "deletable": false,
    "editable": false,
    "tags": []
   },
   "source": [
    "### Pesudo kôd <a class=\"anchor\" id=\"modul1-pseudo-kod\"></a>"
   ]
  },
  {
   "attachments": {},
   "cell_type": "markdown",
   "id": "0b1f7b27-a9b1-4122-a315-e40d9ace5e73",
   "metadata": {
    "deletable": false,
    "editable": false,
    "tags": []
   },
   "source": [
    "#### Zadaci"
   ]
  },
  {
   "attachments": {},
   "cell_type": "markdown",
   "id": "41fa7812-fd64-4bd0-b163-e2b86aafe818",
   "metadata": {
    "deletable": false,
    "editable": false,
    "tags": []
   },
   "source": [
    "**Zadatak 1**\n",
    "\n",
    "Koristeći pesudo kôd, napišite rješenje za komponentu sustava za dodavanje novog filma u ponudu."
   ]
  },
  {
   "attachments": {},
   "cell_type": "markdown",
   "id": "d5170179-c0b7-4724-8ca1-5767d494d385",
   "metadata": {},
   "source": [
    "```\n",
    "Početak Funkcija DodajFilm(nazivFilma, godinaIzdanja, trajanje, zanr, cijena, dostupnost)\n",
    "    ProvjeriKorisnika()\n",
    "    ProvjeriDozvole()\n",
    "    ProvjeriUnos(nazivFilma, godinaIzdanja, trajanje, zanr, cijena, dostupnost)\n",
    "    SpremiUBazu(nazivFilma, godinaIzdanja, trajanje, zanr, cijena, dostupnost)\n",
    "    PotvrdiAkciju(\"Novi film je uspješno dodan u ponudu!\")\n",
    "Kraj FunFunkcije\n",
    "\n",
    "\n",
    "Objašnjenje:\n",
    "1. `DodajFilm()` - Glavna funkcija koja dodaje novi film u ponudu.\n",
    "2. `nazivFilma`, `godinaIzdanja`, `trajanje`, `zanr`, `cijena`, `dostupnost` - Ulazni parametri koji sadrže informacije o filmu koje su unesene u formu za dodavanje.\n",
    "3. `ProvjeriKorisnika()` - Funkcija koja provjerava je li korisnik prijavljen u sustav.\n",
    "4. `ProvjeriDozvole()` - Funkcija koja provjerava ima li korisnik dozvolu za dodavanje novog filma u ponudu.\n",
    "5. `provjeriUnos()` - Funkcija koja provjerava jesu li svi podaci uneseni ispravno i validiraju se u skladu s unaprijed definiranim pravilima.\n",
    "6. `SpremiUBazu()` - Funkcija koja sprema informacije o novom filmu u bazu podataka.\n",
    "7. `PotvrdiAkciju()` - Funkcija koja potvrđuje da je novi film uspješno dodan u ponudu.\n",
    "\n",
    "```"
   ]
  },
  {
   "attachments": {},
   "cell_type": "markdown",
   "id": "4b6b2c95-769b-4633-b97d-e69ded1a524f",
   "metadata": {
    "deletable": false,
    "editable": false,
    "tags": []
   },
   "source": [
    "**Zadatak 2**\n",
    "\n",
    "Koristeći pesudo kôd, napišite rješenje za komponentu sustava za registraciju, prijavu te prvo pokretanje aplikacije."
   ]
  },
  {
   "attachments": {},
   "cell_type": "markdown",
   "id": "81b56c24-c69d-4116-ba18-bd84134ef285",
   "metadata": {},
   "source": [
    "```\n",
    "Registracija korisnika:\n",
    "Funkcija registriraj_korisnika():\n",
    "    unesi_ime()\n",
    "    unesi_prezime()\n",
    "    unesi_adresu()\n",
    "    unesi_email()\n",
    "    unesi_telefon()\n",
    "    generiraj_lozinku()\n",
    "    spremi_podatke()\n",
    "    prikazi_poruku_uspjesna_registracija()\n",
    "\n",
    "\n",
    "Prijava korisnika:\n",
    "Funkcija prijavi_korisnika():\n",
    "    unesi_email()\n",
    "    unesi_lozinku()\n",
    "    provjeri_ispravnost_podataka()\n",
    "    zapamti_podatke_o_prijavi()\n",
    "    prikazi_poruku_dobrodoslice()\n",
    "\n",
    "\n",
    "Pokretanje aplikacije:\n",
    "Funkcija pokreni_aplikaciju():\n",
    "    provjeri_postojanje_datoteke_s_podacima()\n",
    "    provjeri_ispravnost_podataka_u_datoteci()\n",
    "    ucitaj_podatke()\n",
    "    prikazi_pocetni_izbornik()\n",
    "```"
   ]
  },
  {
   "attachments": {},
   "cell_type": "markdown",
   "id": "f746bb18-3294-4bef-94f3-f21b58ef6cf6",
   "metadata": {
    "deletable": false,
    "editable": false,
    "tags": []
   },
   "source": [
    "## Seminar 2 - Osnove programiranja u Pythonu <a class=\"anchor\" id=\"modul2\"></a>\n",
    "\n",
    "Python je programski jezik nastao krajem 80-ih godina prošlog stoljeća. Međutim, prva objava bila je **1991. godine**. Autor jezika je nizozemac Guido van Rossum, a jezik je dobio ime po popularnoj humorističnoj TV seriji *Monty Python's Flying Circus*."
   ]
  },
  {
   "attachments": {},
   "cell_type": "markdown",
   "id": "e588b3de-7f5c-4c46-b60c-c67ceb83a63a",
   "metadata": {
    "deletable": false,
    "editable": false,
    "tags": []
   },
   "source": [
    "**Python PEP *(Python Enhancement Proposals)***\n",
    "\n",
    "Python PEP predstavlja skup dokumenta i pravila koji definiraju dizajn, pravila i konvenciju pisanja Python kôda napisanih za Python korisnike. Prvotni je oblik bio mailing lista na koju su prvi korisnici slali prijedloge za poboljšanja jezika. \n",
    "\n",
    "Svaki prijedlog ima svoj broj. Najpoznatiji je *PEP 20* poznatiji kao *The Zen of Python*, autora Tim Petersa, u kojem su opisane glavne smjernice za razvoj i korištenje Python programskog jezika. Ove smjernice su napisane u obliku 20 aforizama, ali ih je samo 19 zapisano.\n",
    "\n",
    " <a href=\"https://peps.python.org/pep-0020/\" target=\"_blank\">The Zen of Python</a>\n",
    "\n",
    "Drugi, isto tako bitan prijedlog, je *PEP 8 – Style Guide for Python Code* (<a href=\"https://peps.python.org/pep-0008/\" target=\"_blank\">Style Guide for Python Code</a>). Ovaj prijedlog opisuje kako treba pisati nazive varijabli, funkcija, objekata, razreda/ klasa itd. u programskom jeziku Python."
   ]
  },
  {
   "attachments": {},
   "cell_type": "markdown",
   "id": "fffa572a-c1c0-43c1-8305-2583f6b8f3a9",
   "metadata": {
    "deletable": false,
    "editable": false,
    "tags": []
   },
   "source": [
    "**Instalacija programskog jezika Python**\n",
    "\n",
    "Prije nego počnete razvijati aplikacije u programskom jeziku Python, potrebno je provjeriti imate li instaliran programski jezik na računalu. Ovisno o operacijskom sustavu, Python može biti predinstaliran ili ga je potrebno instalirati. Ako koristite Linux operacijski sustav, uključujući i MacOS onda sigurano imate instaliran Python 2, a moguće (uz neke distribucije) i Python 3. Ako koristite Windows operacijski sustav ili Linux na kojem nemate instaliranu verziju Python 3 (jedina trenutno podržana verzija programskog jezika Python), onda instalacijski paket možete preuzeti s ovog lika <a href=\"https://www.python.org/downloads/\" target=\"_blank\">Python Download</a>."
   ]
  },
  {
   "attachments": {},
   "cell_type": "markdown",
   "id": "7924b9e7-d33c-40c0-a8bf-39c0c9855c0c",
   "metadata": {
    "deletable": false,
    "editable": false,
    "tags": []
   },
   "source": [
    "### IDE <a class=\"anchor\" id=\"modul2-ide\"></a>\n",
    "\n",
    "Za pisanje programskog koda (izvorni kod / *source code*) koristimo integrirano razvojno okruženje (eng. *Integrated Development Environment - IDE*). \n",
    "\n",
    "Jupyter Notebook, u kojem je pisana ova zbirka je jedno od njih. Najčešće korištena razvojna okruženja za razvoj aplikacija u Python programskom jeziku su (navedena abecednim redom):\n",
    "\n",
    "* JetBrains PyCharm - <a href=\"https://www.jetbrains.com/products/compare/?product=pycharm&product=pycharm-ce\" target=\"_blank\"> Link za preuzimanje instalacije</a>\n",
    "* Microsoft Visual Studio Code - <a href=\"https://code.visualstudio.com/\" target=\"_blank\"> Link za preuzimanje instalacije</a>\n",
    "\n",
    "Svako od gore navedenih okruženja, uključujući i Jupyter Notebook, ima svoje prednosti i mane. Svi alati rade na danas najkoristenijim operacijskim sustavima: Windows, Linux te MacOS."
   ]
  },
  {
   "attachments": {},
   "cell_type": "markdown",
   "id": "52fd4ea8-f6a9-4541-b10b-7ea54c58ca81",
   "metadata": {
    "deletable": false,
    "editable": false,
    "tags": []
   },
   "source": [
    "### Varijable i tipovi podataka <a class=\"anchor\" id=\"modul2-varijable\"></a>\n",
    "\n",
    "Varijable su ljudima čitljivi nazivi memorijskih lokacija na kojima su u računalu pohranjeni određeni podaci. Dakle, ako u računalo želimo pohraniti neki podatak koji ćemo koristiti u našoj aplikaciji, onda za pristup do tog podatka koristimo nama lako čitljiv i pamtljiv naziv umjesto šifru memorijske lokacije.\n",
    "\n",
    "*Primjer varijable:* `movie_title` - predstavlja varijablu u kojoj čuvajmo podatak o nazivu filma. Lako razumljiv i pamtljiv.<br/>\n",
    "*Primjer memorijske adrese:* `0x1025c4ed0` ili `0x10e2f23ab` - teško je zapamtiti koji podatak je na kojoj memorijskoj lokaciji.\n",
    "\n",
    "**Imenovanje varijabli**\n",
    "\n",
    "Varijable u Pythonu pišemo **malim slovima**. Ako varijabla ima više riječi, tada se riječi odvajaju podvlakom (znak: _ ) zato jer je **razmak zabranjen znak u imenovanju** općenito u svim programskim jezicima.\n",
    "\n",
    "Općenito, u nazivima se mogu koristiti sva velika i mala slova engleskog alfabeta, brojevi, -, _ . Naziv ne smije početi brojkom te ne smije biti isti kao ključne riječi u Pythonu. Popis ključnih riječi mozete pronaći <a href=\"https://docs.python.org/3/reference/lexical_analysis.html#keywords\" target=\"_blank\">ovdje</a>."
   ]
  },
  {
   "attachments": {},
   "cell_type": "markdown",
   "id": "a521eecf-9ff5-4ca5-9811-f2920c4f4275",
   "metadata": {
    "deletable": false,
    "editable": false,
    "tags": []
   },
   "source": [
    "**Tipovi podataka**\n",
    "\n",
    "Osim naziva varijable, moramo voditi računa o tipu podatka - vrijednosti koja će biti pohranjena u tu varijablu. Postoje ugrađeni tipovi podataka ili *primitivni* tipovi podataka. To su oni tipovi podataka od koji su svi drugi građeni. To su:\n",
    "- *Integer* - predstavlja cijele brojeve - `int()`\n",
    "- *Float* - predstavlja decimalne brojeve - `float()`\n",
    "- *Char* - predstavlja znak - `chr()`\n",
    "- *String* - predstavlja tekstualni tip podatka - `str()` (*NAPOMENA*: String ili tekstualni tip podatka je u stvari izvedeni tip, jer je to kolekcija znakova, ali ga ubrajamo u osnovne tipove podataka.)\n",
    "\n",
    "*Izvedeni tipovi podataka* su razne kolekcije primitivnih tipova podataka ili njihovih izvedenica, kao i korisnički definirani tipovi podataka, odnosno klase (razredi). Više će riječi o tom tipu podataka biti u nastavku zbirke zadataka."
   ]
  },
  {
   "attachments": {},
   "cell_type": "markdown",
   "id": "c77b5aac-1537-42c3-b225-98b0d531ebd0",
   "metadata": {
    "deletable": false,
    "editable": false,
    "tags": []
   },
   "source": [
    "#### Zadaci"
   ]
  },
  {
   "attachments": {},
   "cell_type": "markdown",
   "id": "a5c08324-2d70-47f3-8377-18f28660c926",
   "metadata": {
    "deletable": false,
    "editable": false,
    "tags": []
   },
   "source": [
    "**Zadatak 1**\n",
    "\n",
    "Koristeći Python preporuke za imenovanje varijabli, kreirajte varijablu u kojoj ćete čuvati podatak o nazivu filma."
   ]
  },
  {
   "cell_type": "code",
   "execution_count": 3,
   "id": "bbaaada1-11a2-4b93-841d-e099ecf3e381",
   "metadata": {},
   "outputs": [],
   "source": [
    "movie_title = \"Naziv filma\""
   ]
  },
  {
   "attachments": {},
   "cell_type": "markdown",
   "id": "9c77b77e-902f-4a4f-b2f4-3b1e07e311b2",
   "metadata": {
    "deletable": false,
    "editable": false,
    "tags": []
   },
   "source": [
    "**Zadatak 2**\n",
    "\n",
    "Koristeći Python preporuke za imenovanje varijabli, kreirajte varijable u kojima ćete čuvati podatke o:\n",
    "* nazivu filma\n",
    "* godini proizvodnje filma\n",
    "* žanru \n",
    "* zemlji prijekla\n",
    "* prosječnoj cjeni od gledatelja"
   ]
  },
  {
   "cell_type": "code",
   "execution_count": 4,
   "id": "4e083b1d-a057-4f24-8a3d-7a45e7c80495",
   "metadata": {},
   "outputs": [],
   "source": [
    "movie_title = \"The Godfather\"\n",
    "release_year = 1972\n",
    "genre = \"kriminalistički, drama\"\n",
    "country_of_origin = \"SAD\"\n",
    "average_ticket_price = 10.50"
   ]
  },
  {
   "attachments": {},
   "cell_type": "markdown",
   "id": "48f0c038-42e0-44e7-8ec5-45aec9100b0d",
   "metadata": {
    "deletable": false,
    "editable": false,
    "tags": []
   },
   "source": [
    "**Zadatak 3**\n",
    "\n",
    "Koristeći Python preporuke za imenovanje varijabli, kreirajte varijable u kojima ćete čuvati podatke o:\n",
    "* nazivu videoteke\n",
    "* godini, mjesecu i danu osnivanja tvrtke,\n",
    "* adresi sjedišta (ulica i broj, poštanski broj, naziv grada te države)\n",
    "* zemlji porijekla"
   ]
  },
  {
   "cell_type": "code",
   "execution_count": 9,
   "id": "aea5f3d9-5b7c-4ed0-9e19-816713ee0017",
   "metadata": {},
   "outputs": [],
   "source": [
    "store_name = \"Internet Video Kvart\"\n",
    "establishment_date = 1998\n",
    "headquarters_address = \"Ulica Grada Vukovara, 269, 10000 Zagreb, Hrvatska\"\n",
    "origin_country = \"Hrvatska\""
   ]
  },
  {
   "attachments": {},
   "cell_type": "markdown",
   "id": "1863639a-b721-4535-a596-e4b347ba4c24",
   "metadata": {
    "deletable": false,
    "editable": false,
    "tags": []
   },
   "source": [
    "**Zadatak 4**\n",
    "\n",
    "Koristeći Python preporuke za imenovanje varijabli, kreirajte varijable u kojima ćete čuvati podatke o korisničkom računu člana. Kreirajte sve potrebne podatke koje korisnički račun treba imati."
   ]
  },
  {
   "cell_type": "code",
   "execution_count": 6,
   "id": "82625bc4-2a64-41a0-a73d-ac7159c56dec",
   "metadata": {},
   "outputs": [],
   "source": [
    "username = \"korisnicko_ime123\"\n",
    "password = \"lozinka123\"\n",
    "email = \"korisnik@email.com\"\n",
    "first_name = \"Ivan\"\n",
    "last_name = \"Horvat\"\n",
    "address = \"Ulica Grada Vukovara 123\"\n",
    "city = \"Zagreb\"\n",
    "zip_code = \"10000\"\n",
    "country = \"Hrvatska\"\n",
    "membership_status = \"active\""
   ]
  },
  {
   "attachments": {},
   "cell_type": "markdown",
   "id": "be314a36-8db7-4b18-a61e-ee2f4a9aabdd",
   "metadata": {
    "deletable": false,
    "editable": false,
    "tags": []
   },
   "source": [
    "**Zadatak 5**\n",
    "\n",
    "Koristeći Python preporuke za imenovanje varijabli, kreirajte varijable u kojima ćete čuvati sve osobne podatke o osnivaču videoteke, g. Peri Periću."
   ]
  },
  {
   "cell_type": "code",
   "execution_count": 7,
   "id": "fbc49928-6fef-4dfc-ae67-c5d8a423db62",
   "metadata": {},
   "outputs": [],
   "source": [
    "firstName = \"Pero\"\n",
    "lastName = \"Perić\"\n",
    "birthDate = \"01.01.1970.\"\n",
    "birthPlace = \"Split\"\n",
    "nationality = \"Croatian\"\n",
    "address = \"Ulica grada Vukovara 123\"\n",
    "postalCode = \"10000\"\n",
    "city = \"Zagreb\"\n",
    "country = \"Croatia\"\n",
    "email = \"pero.peric@videoteka.hr\"\n",
    "phoneNumber = \"+385 1 1234 567\""
   ]
  },
  {
   "attachments": {},
   "cell_type": "markdown",
   "id": "85c65ea5-df1e-4ab3-b617-551498147004",
   "metadata": {
    "deletable": false,
    "editable": false,
    "tags": []
   },
   "source": [
    "### print() / input() <a class=\"anchor\" id=\"modul2-print-input\"></a>\n",
    "\n",
    "Naredbe `print()` i `input()` služe za prikaz i unos podataka korisniku aplikacije."
   ]
  },
  {
   "attachments": {},
   "cell_type": "markdown",
   "id": "c7fd4007-18d6-46de-bd6e-dbdf2d0f6086",
   "metadata": {
    "deletable": false,
    "editable": false,
    "tags": []
   },
   "source": [
    "**<code>print()</code>**\n",
    "\n",
    "Naredba <code>print()</code> služi za ispis tekstualne poruke u konzolu (naredbena linija, command line, terminal).\n",
    "\n",
    "*Primjer:* `print('Pozdrav. Nalazite se u PyDev zbirci zadataka.')`"
   ]
  },
  {
   "attachments": {},
   "cell_type": "markdown",
   "id": "b7f535be-f922-4e82-ae06-e93303c6b36d",
   "metadata": {
    "deletable": false,
    "editable": false,
    "tags": []
   },
   "source": [
    "**<code>input()</code>**\n",
    "\n",
    "Naredba <code>input()</code> služi za unos **tekstualnog** tipa podataka u aplikaciju od strane korisnika aplikacije, ali s tipkovnice. Dakle, ova naredba n.\n",
    "\n",
    "*Primjer:* `varijabla = input('Upisite neku vrijednost u varijablu: ')`"
   ]
  },
  {
   "attachments": {},
   "cell_type": "markdown",
   "id": "454efffb-b286-46de-ac28-211767ee706d",
   "metadata": {
    "deletable": false,
    "editable": false,
    "tags": []
   },
   "source": [
    "#### Zadaci"
   ]
  },
  {
   "attachments": {},
   "cell_type": "markdown",
   "id": "fb39de82-7e6b-444d-8ea3-482d4fe97bc1",
   "metadata": {
    "deletable": false,
    "editable": false,
    "tags": []
   },
   "source": [
    "**Zadatak 1**\n",
    "\n",
    "Primjenom `input()` i `print()` funkcija prepravite prva tri zadatka iz prethodnog poglavlja (*Varijable i tipovi podataka*), ali tako da podatke unosi korisnik i nakon unosa svih podataka te podatke ispišite na ekran korisniku. Iako se radi o aplikaciji koja nema grafičko sučelje, vodite računa o korisničkom iskustvu - dodajte sve potrebne upute korisniku te neka ispis bude lijepo formatiran.\n",
    "\n",
    "*NAPOMENA*: Nije nužno raditi kompleksne validacije unosa podataka."
   ]
  },
  {
   "cell_type": "code",
   "execution_count": 8,
   "id": "90177a79-8f75-4106-a5f9-ea30926bad66",
   "metadata": {},
   "outputs": [
    {
     "name": "stdout",
     "output_type": "stream",
     "text": [
      "Unesite naziv filma:  Naziv filma\n"
     ]
    },
    {
     "name": "stdout",
     "output_type": "stream",
     "text": [
      "Unijeli ste naziv filma: Naziv filma\n"
     ]
    }
   ],
   "source": [
    "# Zadatak 1\n",
    "movie_title = input(\"Unesite naziv filma: \")\n",
    "print(\"Unijeli ste naziv filma:\", movie_title)"
   ]
  },
  {
   "cell_type": "code",
   "execution_count": null,
   "id": "725fa098-a120-4f6d-a033-1a77426de5ac",
   "metadata": {},
   "outputs": [],
   "source": [
    "# Zadatak 2\n",
    "movie_title = input(\"Unesite naziv filma: \")\n",
    "release_year = input(\"Unesite godinu proizvodnje filma: \")\n",
    "genre = input(\"Unesite žanr filma: \")\n",
    "country_of_origin = input(\"Unesite zemlju porijekla filma: \")\n",
    "average_ticket_price = input(\"Unesite prosječnu cijenu ulaznice za film: \")\n",
    "print(\"Unijeli ste sljedeće podatke o filmu:\")\n",
    "print(\"Naziv filma:\", movie_title)\n",
    "print(\"Godina proizvodnje filma:\", release_year)\n",
    "print(\"Žanr filma:\", genre)\n",
    "print(\"Zemlja porijekla filma:\", country_of_origin)\n",
    "print(\"Prosječna cijena ulaznice za film:\", average_ticket_price)"
   ]
  },
  {
   "cell_type": "code",
   "execution_count": null,
   "id": "7ba2c525-dc68-4ae3-b487-d1ca5c82de4e",
   "metadata": {},
   "outputs": [],
   "source": [
    "# Zadatak 3\n",
    "store_name = input(\"Unesite naziv videoteke: \")\n",
    "establishment_date = input(\"Unesite godinu osnivanja videoteke: \")\n",
    "headquarters_address = input(\"Unesite adresu sjedišta videoteke: \")\n",
    "origin_country = input(\"Unesite zemlju porijekla videoteke: \")\n",
    "print(\"Unijeli ste sljedeće podatke o videoteke:\")\n",
    "print(\"Naziv videoteke:\", store_name)\n",
    "print(\"Godina osnivanja videoteke:\", establishment_date)\n",
    "print(\"Adresa sjedišta videoteke:\", headquarters_address)\n",
    "print(\"Zemlja porijekla videoteke:\", origin_country)"
   ]
  },
  {
   "attachments": {},
   "cell_type": "markdown",
   "id": "b1cee46b-5f15-4b1d-8608-220255483c91",
   "metadata": {
    "deletable": false,
    "editable": false,
    "tags": []
   },
   "source": [
    "**Zadatak 2**\n",
    "\n",
    "Napišite program koji ispisuje zaglavlje s nazivom videoteke \"Internet Video Kvart\". Zatim, neka u glavnom dijelu programa bude dio za prijavu člana videoteke u sustav. Nakon što se član prijavi, ispišite sve podatke o članu."
   ]
  },
  {
   "cell_type": "code",
   "execution_count": null,
   "id": "a19314bf-0778-4654-b143-fff783ae6906",
   "metadata": {},
   "outputs": [],
   "source": [
    "# Zaglavlje videoteke\n",
    "print(\"=====================================\")\n",
    "print(\"|   INTERNET VIDEO KVART            |\")\n",
    "print(\"=====================================\\n\")\n",
    "\n",
    "\n",
    "# Podaci o članu videoteke\n",
    "print(\"Dobrodošli u sustav prijave članova videoteke!\")\n",
    "member_name = input(\"Unesite vaše ime i prezime: \")\n",
    "member_id = input(\"Unesite vaš identifikacijski broj: \")\n",
    "member_address = input(\"Unesite vašu adresu: \")\n",
    "member_phone = input(\"Unesite vaš broj telefona: \")\n",
    "\n",
    "\n",
    "# Ispis podataka o članu\n",
    "print(\"\\nPodaci o članu:\")\n",
    "print(\"Ime i prezime:\", member_name)\n",
    "print(\"ID broj:\", member_id)\n",
    "print(\"Adresa:\", member_address)\n",
    "print(\"Telefonski broj:\", member_phone)"
   ]
  },
  {
   "attachments": {},
   "cell_type": "markdown",
   "id": "d2108cb7-9164-4367-b022-ffcdf03eaf39",
   "metadata": {
    "deletable": false,
    "editable": false,
    "tags": []
   },
   "source": [
    "### Debugging <a class=\"anchor\" id=\"modul2-debugging\"></a>\n",
    "\n",
    "Često se dogodi da se kôd ne izvršava onako kako smo planirali, odnosno željeli. Razloga može biti jako puno i njih se nećemo doticati. Svi programeri griješe i svi trebaju pomoć kod otklanjanja grešaka. Jedan od razloga korištenja integriranih razvojnih okruženja je i otklanjanje grešaka, odnosno *Debugging*.\n",
    "\n",
    "*Debugging* je pokretanje naše aplikacije u posebnom načinu koji nam omogućava da zaustavimo izvršavanje aplikacije u točno određenoj liniji (*Breakpoint*) te nakon toga kontroliramo izvršavanje aplikacije do razine da pokrećemo liniju po liniju ako nam to odgovara. Najvažniji dio ovog procesa je uvid u vrijednosti koje naše variajble, objekti imaju te kojim smjerom se u određenom trenutku izvršava naša aplikacija. Na taj način lako možemo uočiti u kojoj liniji aplikacije je uzrok problema i otkloniti ga.\n",
    "\n",
    "Ovaj način pokretanja kôda koristite kada god \"zapnete\" i ne znate kako riješiti problem."
   ]
  },
  {
   "attachments": {},
   "cell_type": "markdown",
   "id": "a05582eb-cffd-46e5-aa19-37cb1bb1192b",
   "metadata": {
    "deletable": false,
    "editable": false,
    "tags": []
   },
   "source": [
    "### FOR petlja <a class=\"anchor\" id=\"modul2-for\"></a>"
   ]
  },
  {
   "attachments": {},
   "cell_type": "markdown",
   "id": "e2b3c8fe-b17e-4e5e-bc03-8401b4bbd2e0",
   "metadata": {
    "deletable": false,
    "editable": false,
    "tags": []
   },
   "source": [
    "FOR petlja omogućava pokretanje jedne li više linija kôda ne više od predefiniranog konačnog broj. Točan broj ponavljanja može ovisiti o broju elemenata neke kolekcije ili broju ponavljanja koji je upisao korisnik aplikacije, ali važno je da će se taj blok koda izvršiti **maksimalno onoliko puta koliko je definirano gornjom granicom**. Moguć je manji broj ponavljanja ako se ispuni neki od potencijalnih uvjeta."
   ]
  },
  {
   "attachments": {},
   "cell_type": "markdown",
   "id": "7fe66e36-4201-4343-8a7d-70e840ed184e",
   "metadata": {
    "deletable": false,
    "editable": false,
    "tags": []
   },
   "source": [
    "Sintaksa FOR petlje:\\\n",
    "`for element in kolekcija:`\\\n",
    "&nbsp;&nbsp;&nbsp;&nbsp;`naredbe vezane uz element`"
   ]
  },
  {
   "attachments": {},
   "cell_type": "markdown",
   "id": "d881ba35-260e-4aff-bfbe-d2c892769e19",
   "metadata": {
    "deletable": false,
    "editable": false,
    "tags": []
   },
   "source": [
    "### Lista <a class=\"anchor\" id=\"modul2-lista\"></a>"
   ]
  },
  {
   "attachments": {},
   "cell_type": "markdown",
   "id": "6e0f9fc7-37cc-4ee2-9907-23fdb482a9f4",
   "metadata": {
    "deletable": false,
    "editable": false,
    "tags": []
   },
   "source": [
    "Lista je tip podatka u Pythonu kojeg je najbolje opisati kao kolekciju podataka. Elementi liste su međusobno odvojeni zarezima te zokruženi uglatim zagradama:\\\n",
    "`lista = [element1, element2, ...].`\n",
    "\n",
    "Pri tome je važno da **članovi liste mogu biti iz različitih tipova podataka** pa čak i drugih lista. Svaka lista, osim vrijednosti, čuva i indeks pozicije člana u listi. Indeks je isključivo cijeli broj koji počinje od broj 0 (nula) za prvi element.\n",
    "\n",
    "Za dohvat nekog elementa liste koristimo indeks na način:\\\n",
    "`naziv_liste[indeks]`\n",
    "\n",
    "Primjenom indeksa možemo dohvatiti neki element liste te ga pohraniti u neku varijablu ili iskoristiti kao argument funkcije i sl. Isti način možemo iskoristiti i da promjenu vrijednosti elementa na određenom indeksu."
   ]
  },
  {
   "attachments": {},
   "cell_type": "markdown",
   "id": "c8fc17b7-dd19-4dff-9bd1-7892183e708d",
   "metadata": {
    "deletable": false,
    "editable": false,
    "tags": []
   },
   "source": [
    "**Metode za rad s članovima liste**\n",
    "\n",
    "- `list.append(novi_clan)` - dodaje novi element *novi_clan* na kraj liste, odnosno kao zadnji element liste.\n",
    "- `list.extend(druga_kolekcija)` - proširuje listu tako da na kraj nadoda članove *druga_kolekcija* kolekcije.\n",
    "- `list.insert(indeks, novi_clan)` - na poziciju označenu brojem *indeks*, ubacuje *novi_clan* u listu.\n",
    "- `list.remove(clan_liste)` - briše člana *clan_liste* iz liste. Ukoliko član nije u listi onda prijavi *ValueError* grešku.\n",
    "- `list.pop([i])` - Remove the item at the given position in the list, and return it. If no index is specified, a.pop() removes and returns the last item in the list. (The square brackets around the i in the method signature denote that the parameter is optional, not that you should type square brackets at that position. You will see this notation frequently in the Python Library Reference.).\n",
    "- `list.clear()` - Briše sve članove s liste. Ekvivalentna del a[:].\n",
    "- `list.index(x[, start[, end]])` - Return zero-based index in the list of the first item whose value is equal to x. Raises a ValueError if there is no such item.\\\n",
    "    The optional arguments start and end are interpreted as in the slice notation and are used to limit the search to a particular subsequence of the list. The returned index is computed relative to the beginning of the full sequence rather than the start argument.\n",
    "- `list.count(x)` - Return the number of times x appears in the list.\n",
    "- `list.sort(*, key=None, reverse=False)` - Sort the items of the list in place (the arguments can be used for sort customization, see sorted() for their explanation).\n",
    "- `list.reverse()` - Reverse the elements of the list in place.\n",
    "- `list.copy()` - Return a shallow copy of the list. Equivalent to a[:]."
   ]
  },
  {
   "attachments": {},
   "cell_type": "markdown",
   "id": "e0ff9a4c-6d3b-48e5-829a-3a3412703281",
   "metadata": {
    "deletable": false,
    "editable": false,
    "tags": []
   },
   "source": [
    "**Slice notation**\n",
    "\n",
    "Već smo spomenuli indekse. *Slice notation* je prošireni način korištenja indeksa. To možemo opisati kao način kako možemo dohvatiti specifični segment neke liste, odnosno kolekcije.\\\n",
    "Sintaksa `naziv_liste[pocetni_indeks : zavrsni_indeks, korak]`\\\n",
    "- *pocetni_indeks* - predstavlja indeks elementa kojim segment počinje. Ovaj element je uključen u segment.\n",
    "- *zavrsni_indeks* - predstavlja indeks elementa kojim segment završava . Ovaj element NIJE uključen u segment, nego je u segment uključen element prije njega.\n",
    "- *korak* - predstavlja korak, odnosno broj koliko će se indeksa preskočiti. Isto tako, ako je ovaj broj negativan, onda označava smjer koji element je prvi, a koji posljednji u segmentu na način da je smjer od desna prema lijevo.\n",
    "\n",
    "Primjeri:\n",
    "* naziv_liste[0] - prvi element liste\n",
    "* naziv_liste[1] - drugi element liste\n",
    "* naziv_liste[-1] - zadnji element liste\n",
    "* naziv_liste[1 : 4] - segment od drugog elementa (uključivo) do petog elementa, ali peti element nije uključen\n",
    "* naziv_liste[4 : 1 : -1] - segment od petog elementa (uključivo) do prvog elementa, ali tako da je smjer kretanja indeksa negativan"
   ]
  },
  {
   "attachments": {},
   "cell_type": "markdown",
   "id": "bf75c5a5-ae7f-48d5-a2e3-91f77511306d",
   "metadata": {
    "deletable": false,
    "editable": false,
    "tags": []
   },
   "source": [
    "#### Zadaci"
   ]
  },
  {
   "attachments": {},
   "cell_type": "markdown",
   "id": "fcc22230-d687-4df0-add7-496f1f5fda69",
   "metadata": {
    "deletable": false,
    "editable": false,
    "tags": []
   },
   "source": [
    "**Zadatak 1**\n",
    "\n",
    "Kreirajte listu koja čuva podatke o:\n",
    "* 5 žanrova filmova\n",
    "* nazivima 5 filmova"
   ]
  },
  {
   "cell_type": "code",
   "execution_count": 11,
   "id": "9b5ecb03-ccb7-420f-9d46-65dd8dcdb9b3",
   "metadata": {},
   "outputs": [],
   "source": [
    "genre_list = [\"Akcijski\", \"Komedija\", \"Drama\", \"Horror\", \"Triler\"]\n",
    "movie_list = [\"The Godfather\", \"Pulp Fiction\", \"The Shawshank Redemption\", \"The Dark Knight\", \"Forrest Gump\"]"
   ]
  },
  {
   "attachments": {},
   "cell_type": "markdown",
   "id": "6fcfcae8-69ec-484d-af5b-46c44d2d2237",
   "metadata": {
    "deletable": false,
    "editable": false,
    "tags": []
   },
   "source": [
    "**Zadatak 2**\n",
    "\n",
    "Kreirajte listu koja čuva podatke o imenima i prezimenima 10 glumica i glumaca, ali tako da imena i prezimena unese korisnik. Nakon unosa liste, ispišite listu tako da svaki element liste bude ispisan u novom redu na način:\\\n",
    "`Ime: ime_glumca - Prezime: prezime_glumca`\\\n",
    "`...`"
   ]
  },
  {
   "cell_type": "code",
   "execution_count": null,
   "id": "8fb42cd0-0e93-4b67-b329-109d063a1032",
   "metadata": {},
   "outputs": [],
   "source": [
    "# kreiraj praznu listu za spremanje imena i prezimena glumaca\n",
    "actors = []\n",
    "\n",
    "\n",
    "# petlja za unos imena i prezimena\n",
    "for i in range(10):\n",
    "    # unesi ime glumca\n",
    "    first_name = input(\"Unesi ime glumca: \")\n",
    "    # unesi prezime glumca\n",
    "    last_name = input(\"Unesi prezime glumca: \")\n",
    "    \n",
    "    # dodaj podatke glumca u međulistu actor_name_data  [ime, prezime] pa onda u listu actors\n",
    "    actor_name_data = []\n",
    "    actor_name_data.append(first_name)\n",
    "    actor_name_data.append(last_name])\n",
    "    actors.append(actor_name_data)\n",
    "    \n",
    "    # ili kraće dodaj glumca u listu actors kao listu [ime, prezime]\n",
    "    actors.append([first_name, last_name])\n",
    "    \n",
    "\n",
    "    \n",
    "# ispis svakog glumca u novom redu\n",
    "for actor in actors:\n",
    "    print(\"Ime:\", actor[0], \"-\", \"Prezime:\", actor[1])"
   ]
  },
  {
   "attachments": {},
   "cell_type": "markdown",
   "id": "adbd26a6-edb2-492d-836e-f37f1621459a",
   "metadata": {
    "deletable": false,
    "editable": false,
    "tags": []
   },
   "source": [
    "**Zadatak 3**\n",
    "\n",
    "Kreirajte listu koja čuva podatke (naziv, godina proizvodnje, žanr, glavna uloga, redatelj) za 10 filmova, ali tako da podatke unese korisnik. Nakon unosa liste, ispišite listu tako da svaki element liste bude ispisan u novom redu, ali odvojen razmakom te da svaki podatka filma također bude ispisan u novi red\\\n",
    "`Naziv: naziv_filma`\\\n",
    "`Godina proizvodnje: godina_proizvodnje`\\\n",
    "`...`"
   ]
  },
  {
   "cell_type": "code",
   "execution_count": null,
   "id": "2f3e9e1e-3ca9-48d4-be20-978ab8314a2a",
   "metadata": {},
   "outputs": [],
   "source": [
    "# kreiranje prazne liste za filmove\n",
    "movies = []\n",
    "\n",
    "\n",
    "# unos podataka za svaki film pojedinačno\n",
    "for i in range(10):\n",
    "    # unos podataka za svaki film\n",
    "    movie_name = input(\"Unesite naziv filma: \")\n",
    "    production_year = input(\"Unesite godinu proizvodnje filma: \")\n",
    "    genre = input(\"Unesite žanr filma: \")\n",
    "    lead_actor = input(\"Unesite ime i prezime glavne uloge: \")\n",
    "    director = input(\"Unesite ime i prezime redatelja filma: \")\n",
    "\n",
    "    # dodavanje podataka o filmu u listu\n",
    "    movies.append([movie_name, production_year, genre, lead_actor, director])\n",
    "\n",
    "    \n",
    "# ispisivanje podataka o filmovima\n",
    "for movie in movies:\n",
    "    print(\"Naziv:\", movie[0])\n",
    "    print(\"Godina proizvodnje:\", movie[1])\n",
    "    print(\"Žanr:\", movie[2])\n",
    "    print(\"Glavna uloga:\", movie[3])\n",
    "    print(\"Redatelj:\", movie[4])\n",
    "    print()\n"
   ]
  },
  {
   "attachments": {},
   "cell_type": "markdown",
   "id": "1c2108d9-e2d6-44a4-820e-2230ea26abac",
   "metadata": {
    "deletable": false,
    "editable": false,
    "tags": []
   },
   "source": [
    "**Zadatak 4**\n",
    "\n",
    "Proširite prethodni zadatak tako da uz svaki film dodate i popis glumaca i glumica kojeg će upisivati korisnik i isto tako će biti primjereno ispisan popis glumaca."
   ]
  },
  {
   "cell_type": "code",
   "execution_count": null,
   "id": "4f54fd5f-d8b2-4337-acfc-2cd5b3298e71",
   "metadata": {},
   "outputs": [],
   "source": [
    "# Varijanta 1\n",
    "\n",
    "# kreiranje prazne liste za filmove\n",
    "movies = []\n",
    "\n",
    "# unos podataka za svaki film pojedinačno\n",
    "for i in range(10):\n",
    "    # unos podataka za svaki film\n",
    "    movie_name = input(\"Unesite naziv filma: \")\n",
    "    production_year = input(\"Unesite godinu proizvodnje filma: \")\n",
    "    genre = input(\"Unesite žanr filma: \")\n",
    "    lead_actor = input(\"Unesite ime i prezime glavne uloge: \")\n",
    "    director = input(\"Unesite ime i prezime redatelja filma: \")\n",
    "    actors = input(\"Unesite imena i prezimena glumaca i glumica (odvojeno zarezima): \")\n",
    "    actor_list = actors.split(\",\") # stvaramo listu glumaca iz stringa korisničkog unosa\n",
    "\n",
    "    # dodavanje podataka o filmu u listu\n",
    "    movies.append([movie_name, production_year, genre, lead_actor, director, actor_list])\n",
    "\n",
    "# ispisivanje podataka o filmovima\n",
    "for movie in movies:\n",
    "    print(\"Naziv:\", movie[0])\n",
    "    print(\"Godina proizvodnje:\", movie[1])\n",
    "    print(\"Žanr:\", movie[2])\n",
    "    print(\"Glavna uloga:\", movie[3])\n",
    "    print(\"Redatelj:\", movie[4])\n",
    "    print(\"Glumci/glumice:\", \", \".join(movie[5])) # ispisujemo popis glumaca za svaki film\n",
    "    print()"
   ]
  },
  {
   "attachments": {},
   "cell_type": "markdown",
   "id": "ee5f0c50-02b4-48a2-ae7a-ceb16b2fbd1b",
   "metadata": {
    "deletable": false,
    "editable": false,
    "tags": []
   },
   "source": [
    "**Zadatak 5**\n",
    "\n",
    "Napravite listu s deset omiljenih filmova, sortirajte ih abecedno i ispišite ih na ekran."
   ]
  },
  {
   "cell_type": "code",
   "execution_count": null,
   "id": "b579e817-cb34-4f9e-9c9f-b4086c836188",
   "metadata": {},
   "outputs": [],
   "source": [
    "favorite_movies = [\n",
    "    \"The Godfather\",\n",
    "    \"Pulp Fiction\",\n",
    "    \"The Dark Knight\",\n",
    "    \"Forrest Gump\",\n",
    "    \"The Shawshank Redemption\",\n",
    "    \"The Silence of the Lambs\",\n",
    "    \"Fight Club\",\n",
    "    \"Goodfellas\",\n",
    "    \"Inception\",\n",
    "    \"The Matrix\"\n",
    "]\n",
    "\n",
    "favorite_movies.sort()\n",
    "\n",
    "for movie in favorite_movies:\n",
    "print(movie)"
   ]
  },
  {
   "attachments": {},
   "cell_type": "markdown",
   "id": "4bc8f7cf-71dc-4da1-949f-3f9e3b12685d",
   "metadata": {
    "deletable": false,
    "editable": false,
    "tags": []
   },
   "source": [
    "**Zadatak 6**\n",
    "\n",
    "Izračunajte prosječnu ocjenu za pet filmova koje ste nedavno pogledali. Unesite ocjene u listu i iskoristite funkciju za izračun prosjeka."
   ]
  },
  {
   "cell_type": "code",
   "execution_count": null,
   "id": "0b29602f-3afc-4930-b60e-e926dbd232a7",
   "metadata": {},
   "outputs": [],
   "source": [
    "# unos ocjena\n",
    "ratings = []\n",
    "for i in range(5):\n",
    "    rating = float(input(\"Unesite ocjenu filma: \"))\n",
    "    ratings.append(rating)\n",
    "\n",
    "    \n",
    "# izračun prosječne ocjene\n",
    "average_rating = sum(ratings) / len(ratings)\n",
    "\n",
    "\n",
    "# ispis prosječne ocjene\n",
    "print(\"Prosječna ocjena:\", average_rating)"
   ]
  },
  {
   "attachments": {},
   "cell_type": "markdown",
   "id": "9ed5a18e-d46e-4fdf-9220-d8b10c3c76aa",
   "metadata": {
    "deletable": false,
    "editable": false,
    "tags": []
   },
   "source": [
    "**Zadatak 7**\n",
    "\n",
    "Napravite dvije liste s naslovima filmova i njihovim godinama izlaska. Zatim spojite te dvije liste u jednu listu tako da svaki element bude niz koji sadrži naziv filma i godinu izlaska."
   ]
  },
  {
   "cell_type": "code",
   "execution_count": null,
   "id": "37afd5be-6185-42f5-a3a0-03c5ed6af9f1",
   "metadata": {},
   "outputs": [],
   "source": [
    "movies = [\"Povratak u budućnost\", \"Ratovi zvijezda\", \"Kum\", \"Titanic\", \"Avatar\"]\n",
    "years = [1985, 1977, 1972, 1997, 2009]\n",
    "\n",
    "movies_years = []\n",
    "for i in range(len(movies)):\n",
    "    movies_years.append([movies[i], years[i]])\n",
    "\n",
    "print(movies_years)"
   ]
  },
  {
   "attachments": {},
   "cell_type": "markdown",
   "id": "8c08f1ab-1fe9-4f48-b4c7-f07bb04eed56",
   "metadata": {
    "deletable": false,
    "editable": false,
    "tags": []
   },
   "source": [
    "**Zadatak 8**\n",
    "\n",
    "Napravite listu s pet različitih žanrova filmova i ispišite ih na ekran. Zatim izradite drugu listu koja sadrži pet filmova, pri čemu svaki film pripada jednom od žanrova iz prve liste."
   ]
  },
  {
   "cell_type": "code",
   "execution_count": 13,
   "id": "0360e026-0c75-4cd7-86d5-ecd50a8e37e2",
   "metadata": {},
   "outputs": [
    {
     "name": "stdout",
     "output_type": "stream",
     "text": [
      "akcijski: The Matrix\n",
      "komedija: Borat\n",
      "drama: Forrest Gump\n",
      "sf: Interstellar\n",
      "horor: The Exorcist\n"
     ]
    }
   ],
   "source": [
    "# lista žanrova filmova\n",
    "genres = ['akcijski', 'komedija', 'drama', 'sf', 'horor']\n",
    "\n",
    "\n",
    "# lista filmova po žanrovima\n",
    "movies = [\n",
    "    'The Matrix',        # akcijski\n",
    "    'Borat',             # komedija\n",
    "    'Forrest Gump',      # drama\n",
    "    'Interstellar',      # sf\n",
    "    'The Exorcist'       # horor\n",
    "]\n",
    "\n",
    "\n",
    "# ispisivanje žanrova i filmova\n",
    "for i in range(len(genres)):\n",
    "    print(genres[i] + ': ' + movies[i])\n"
   ]
  },
  {
   "attachments": {},
   "cell_type": "markdown",
   "id": "0e99f852-93b9-4d59-bc7f-0541df8469f0",
   "metadata": {
    "deletable": false,
    "editable": false,
    "tags": []
   },
   "source": [
    "**Zadatak 9**\n",
    "\n",
    "Napravite listu s pet filmova koje želite pogledati i listu s pet filmova koje ste već pogledali. Zatim napravite novu listu koja će sadržavati filmove koje ste pogledali i koje biste ponovno pogledali."
   ]
  },
  {
   "cell_type": "code",
   "execution_count": null,
   "id": "46458ed3-459c-4a17-9926-3fe3a5c3e73b",
   "metadata": {},
   "outputs": [],
   "source": [
    "# Varijnta 1\n",
    "movies_to_watch = ['Dune', 'No Time to Die', 'The French Dispatch', 'The Matrix 4', 'The Last Duel']\n",
    "movies_watched = ['The Green Knight', 'Old', 'Jungle Cruise', 'Shang-Chi and the Legend of the Ten Rings', 'Black Widow']\n",
    "\n",
    "movies_to_rewatch = []\n",
    "\n",
    "for movie in movies_watched:\n",
    "    if movie in movies_to_watch:\n",
    "        movies_to_rewatch.append(movie)\n",
    "\n",
    "print(movies_to_rewatch)\n",
    "\n",
    "\n",
    "# Varijnta 2\n",
    "films_to_watch = ['Zvjezdane staze', 'Kum', 'Kad jaganjci utihnu', 'Osvetnici', 'Harry Potter']\n",
    "watched_films = ['Kum', 'Osvetnici', 'Harry Potter', 'Titanik', 'Pirati s Kariba']\n",
    "rewatch_films = []\n",
    "\n",
    "rewatch_films.extend(film for film in watched_films if film in films_to_watch)\n",
    "\n",
    "print(rewatch_films)"
   ]
  },
  {
   "attachments": {},
   "cell_type": "markdown",
   "id": "91a31e72-4926-4d12-9ce4-9616dbc8f96a",
   "metadata": {
    "deletable": false,
    "editable": false,
    "tags": []
   },
   "source": [
    "**Zadatak 10**\n",
    "\n",
    "Izračunajte prosječno trajanje filmova u listi koju ste odabrali."
   ]
  },
  {
   "cell_type": "code",
   "execution_count": null,
   "id": "264175df-bdbc-498b-8a54-2a7265d094e4",
   "metadata": {},
   "outputs": [],
   "source": [
    "import random\n",
    "\n",
    "# lista filmova\n",
    "movies = [\n",
    "    \"The Shawshank Redemption\",\n",
    "    \"The Godfather\",\n",
    "    \"The Dark Knight\",\n",
    "    \"Pulp Fiction\",\n",
    "    \"Fight Club\",\n",
    "    \"Forrest Gump\",\n",
    "    \"The Lord of the Rings: The Fellowship of the Ring\",\n",
    "    \"The Matrix\",\n",
    "    \"Goodfellas\",\n",
    "    \"Star Wars: Episode IV - A New Hope\"\n",
    "]\n",
    "\n",
    "\n",
    "# lista trajanja filmova\n",
    "durations = []\n",
    "\n",
    "\n",
    "# generiranje trajanja za svaki film u listi\n",
    "for movie in movies:\n",
    "    duration = random.randint(60, 180)\n",
    "    durations.append(duration)\n",
    "    print(f\"{movie} - {duration} min\")\n",
    "\n",
    "    \n",
    "# izračun prosječne dužine filma\n",
    "average_duration = sum(durations) / len(durations)\n",
    "\n",
    "# ispis prosječne dužine filma\n",
    "print(f\"Average duration: {average_duration} min\")"
   ]
  },
  {
   "attachments": {},
   "cell_type": "markdown",
   "id": "41c88b6f-5e49-43b0-aba3-59fef81db215",
   "metadata": {
    "deletable": false,
    "editable": false,
    "tags": []
   },
   "source": [
    "**Zadatak 11**\n",
    "\n",
    "Napravite listu s naslovima filmova i njihovim glavnim glumcima. Zatim izradite drugu listu koja sadrži samo imena glumaca."
   ]
  },
  {
   "cell_type": "code",
   "execution_count": 14,
   "id": "c949e618-a3b2-4117-96db-5526cade7ec9",
   "metadata": {},
   "outputs": [
    {
     "name": "stdout",
     "output_type": "stream",
     "text": [
      "['Tim Robbins', 'Morgan Freeman', 'Bob Gunton', 'Marlon Brando', 'Al Pacino', 'James Caan', 'Christian Bale', 'Heath Ledger', 'Aaron Eckhart', 'John Travolta', 'Samuel L. Jackson', 'Uma Thurman', 'Elijah Wood', 'Viggo Mortensen', 'Ian McKellen', 'Tom Hanks', 'Robin Wright', 'Gary Sinise', 'Leonardo DiCaprio', 'Joseph Gordon-Levitt', 'Ellen Page', 'Keanu Reeves', 'Laurence Fishburne', 'Carrie-Anne Moss', 'Matthew McConaughey', 'Anne Hathaway', 'Jessica Chastain', 'Jodie Foster', 'Anthony Hopkins', 'Lawrence A. Bonney']\n"
     ]
    }
   ],
   "source": [
    "# stvaramo listu filmova s listom glumaca za svaki film\n",
    "films_with_actors = [\n",
    "    [\"The Shawshank Redemption\", [\"Tim Robbins\", \"Morgan Freeman\", \"Bob Gunton\"]],\n",
    "    [\"The Godfather\", [\"Marlon Brando\", \"Al Pacino\", \"James Caan\"]],\n",
    "    [\"The Dark Knight\", [\"Christian Bale\", \"Heath Ledger\", \"Aaron Eckhart\"]],\n",
    "    [\"Pulp Fiction\", [\"John Travolta\", \"Samuel L. Jackson\", \"Uma Thurman\"]],\n",
    "    [\"The Lord of the Rings: The Return of the King\", [\"Elijah Wood\", \"Viggo Mortensen\", \"Ian McKellen\"]],\n",
    "    [\"Forrest Gump\", [\"Tom Hanks\", \"Robin Wright\", \"Gary Sinise\"]],\n",
    "    [\"Inception\", [\"Leonardo DiCaprio\", \"Joseph Gordon-Levitt\", \"Ellen Page\"]],\n",
    "    [\"The Matrix\", [\"Keanu Reeves\", \"Laurence Fishburne\", \"Carrie-Anne Moss\"]],\n",
    "    [\"Interstellar\", [\"Matthew McConaughey\", \"Anne Hathaway\", \"Jessica Chastain\"]],\n",
    "    [\"The Silence of the Lambs\", [\"Jodie Foster\", \"Anthony Hopkins\", \"Lawrence A. Bonney\"]]\n",
    "]\n",
    "\n",
    "# izdvajamo listu glumaca\n",
    "actors_only = [actor for film in films_with_actors for actor in film[1]]\n",
    "\n",
    "# ispisujemo drugu listu\n",
    "print(actors_only)"
   ]
  },
  {
   "attachments": {},
   "cell_type": "markdown",
   "id": "456510b9-d8d2-4c0b-86c8-2caf83d20d6f",
   "metadata": {
    "deletable": false,
    "editable": false,
    "tags": []
   },
   "source": [
    "**Zadatak 12**\n",
    "\n",
    "Napravite listu koja sadrži nekoliko filmskih redatelja. Zatim napravite pet listi, pri čemu svaka lista sadrži pet filmova koje je režirao jedan od redatelja iz prve liste."
   ]
  },
  {
   "cell_type": "code",
   "execution_count": null,
   "id": "4244fb69-8e4a-473e-8c59-ce2d0ca3090f",
   "metadata": {},
   "outputs": [],
   "source": [
    "# lista redatelja\n",
    "directors = ['Christopher Nolan', 'Quentin Tarantino', 'Steven Spielberg', 'Martin Scorsese', 'David Fincher']\n",
    "\n",
    "# lista filmova svakog redatelja\n",
    "nolan_movies = ['The Dark Knight', 'Inception', 'Interstellar', 'Memento', 'The Prestige']\n",
    "tarantino_movies = ['Pulp Fiction', 'Kill Bill: Vol. 1', 'Kill Bill: Vol. 2', 'Django Unchained', 'Once Upon a Time in Hollywood']\n",
    "spielberg_movies = ['Jurassic Park', 'Saving Private Ryan', 'E.T. the Extra-Terrestrial', 'Jaws', 'Indiana Jones and the Raiders of the Lost Ark']\n",
    "scorsese_movies = ['Goodfellas', 'Taxi Driver', 'The Departed', 'Raging Bull', 'The Wolf of Wall Street']\n",
    "fincher_movies = ['Fight Club', 'Se7en', 'The Social Network', 'Gone Girl', 'Mank']\n",
    "\n",
    "\n",
    "# lista liste filmova\n",
    "movies_by_director = [nolan_movies, tarantino_movies, spielberg_movies, scorsese_movies, fincher_movies]"
   ]
  },
  {
   "attachments": {},
   "cell_type": "markdown",
   "id": "a9d0946c-1c0c-42c5-be50-13fac6ad47be",
   "metadata": {
    "deletable": false,
    "editable": false,
    "tags": []
   },
   "source": [
    "**Zadatak 13**\n",
    "\n",
    "Napravite listu koja sadrži pet filmova s najboljim ocjenama na IMDB-u. Zatim pronađite godine izlaska tih filmova i izračunajte prosječnu dob filma."
   ]
  },
  {
   "cell_type": "code",
   "execution_count": null,
   "id": "c268952e-c604-496f-a453-b39dd527de40",
   "metadata": {},
   "outputs": [],
   "source": [
    "import datetime\n",
    "\n",
    "# lista filmova\n",
    "movies = [\n",
    "    [\"The Shawshank Redemption\", \"Frank Darabont\", 1994, 9.2],\n",
    "    [\"The Godfather\", \"Francis Ford Coppola\", 1972, 9.1],\n",
    "    [\"The Godfather: Part II\", \"Francis Ford Coppola\", 1974, 9.0],\n",
    "    [\"The Dark Knight\", \"Christopher Nolan\", 2008, 9.0],\n",
    "    [\"12 Angry Men\", \"Sidney Lumet\", 1957, 8.9]\n",
    "]\n",
    "\n",
    "\n",
    "# izračunaj prosječnu dob filma\n",
    "now = datetime.datetime.now().year\n",
    "age_sum = 0\n",
    "for movie in movies:\n",
    "    age_sum += now - movie[2]\n",
    "\n",
    "    \n",
    "average_age = age_sum / len(movies)\n",
    "\n",
    "print(\"Prosječna dob filmova je:\", round(average_age, 2), \"godina.\")"
   ]
  },
  {
   "attachments": {},
   "cell_type": "markdown",
   "id": "091afcfa-8568-45ad-ad5d-03b984c4bb33",
   "metadata": {
    "deletable": false,
    "editable": false,
    "tags": []
   },
   "source": [
    "**Zadatak 14**\n",
    "\n",
    "Napravite listu koja sadrži pet filmova koji su osvojili nagradu Oscar za najbolji film. Zatim napravite drugu listu koja sadrži sve glavne glumce koji su glumili u tim filmovima."
   ]
  },
  {
   "cell_type": "code",
   "execution_count": null,
   "id": "c6aa0d3d-b052-4bba-8909-77657b973451",
   "metadata": {},
   "outputs": [],
   "source": [
    "# lista filmova koji su osvojili nagradu Oscar za najbolji film\n",
    "oscar_films = ['The Godfather', 'The Silence of the Lambs', 'Schindler\\'s List', 'Forrest Gump', 'The Lord of the Rings: The Return of the King']\n",
    "\n",
    "\n",
    "# lista glumaca koji su glumili u tim filmovima\n",
    "oscar_actors = ['Marlon Brando', 'Al Pacino', 'Robert De Niro', 'Anthony Hopkins', 'Jodie Foster', 'Liam Neeson', 'Ralph Fiennes', 'Tom Hanks', 'Robin Wright', 'Viggo Mortensen', 'Elijah Wood', 'Ian McKellen']\n",
    "\n",
    "\n",
    "# prazna lista za glavne glumce u filmovima koji su osvojili nagradu Oscar za najbolji film\n",
    "oscar_main_actors = []\n",
    "\n",
    "\n",
    "# iteriraj kroz svaki film i dodaj glumce u listu oscar_main_actors\n",
    "for film in oscar_films:\n",
    "    if film == 'The Godfather':\n",
    "        oscar_main_actors.extend(['Marlon Brando', 'Al Pacino'])\n",
    "    elif film == 'The Silence of the Lambs':\n",
    "        oscar_main_actors.extend(['Anthony Hopkins', 'Jodie Foster'])\n",
    "    elif film == 'Schindler\\'s List':\n",
    "        oscar_main_actors.extend(['Liam Neeson', 'Ralph Fiennes'])\n",
    "    elif film == 'Forrest Gump':\n",
    "        oscar_main_actors.extend(['Tom Hanks', 'Robin Wright'])\n",
    "    elif film == 'The Lord of the Rings: The Return of the King':\n",
    "        oscar_main_actors.extend(['Viggo Mortensen', 'Elijah Wood', 'Ian McKellen'])\n",
    "\n",
    "        \n",
    "print(oscar_main_actors)"
   ]
  },
  {
   "attachments": {},
   "cell_type": "markdown",
   "id": "1b1a1a97-002c-47a8-bf46-b8ffcdcd6ae5",
   "metadata": {
    "deletable": false,
    "editable": false,
    "tags": []
   },
   "source": [
    "### Tuple, n-torka <a class=\"anchor\" id=\"modul2-tuple\"></a>\n",
    "\n",
    "Tuple, n-terac ili n-torka je kolekcija podataka koje **nakon kreiranja nije moguće promjeniti**. Elementi n-torke također imaju indekse za manipulaciju elementima (kao i lista), ali nije moguće mijenjati vrijednosti elemenata.\n",
    "\n",
    "`n_torka1 = (element1, element2, ...)` ili\\\n",
    "`n_torka2 = element1, element2, ...`"
   ]
  },
  {
   "attachments": {},
   "cell_type": "markdown",
   "id": "f8b5c1a4-3e1a-4460-88fc-210f0093ad3a",
   "metadata": {
    "deletable": false,
    "editable": false,
    "tags": []
   },
   "source": [
    "#### Zadaci"
   ]
  },
  {
   "attachments": {},
   "cell_type": "markdown",
   "id": "46566813-35ff-4186-b161-5e74a0a9ff74",
   "metadata": {
    "deletable": false,
    "editable": false,
    "tags": []
   },
   "source": [
    "**Zadatak 1**\n",
    "\n",
    "Napravite tuple s imenima svojih najdražih glumaca i ispišite ih."
   ]
  },
  {
   "cell_type": "code",
   "execution_count": null,
   "id": "67bd0633-3b7e-4c9a-8060-e0a78e2f8b5b",
   "metadata": {},
   "outputs": [],
   "source": [
    "# tuple s imenima najdražih glumaca\n",
    "favorite_actors = ('Leonardo DiCaprio', 'Meryl Streep', 'Tom Hanks', 'Cate Blanchett', 'Denzel Washington')\n",
    "\n",
    "# ispis\n",
    "for actor in favorite_actors:\n",
    "    print(actor)"
   ]
  },
  {
   "attachments": {},
   "cell_type": "markdown",
   "id": "7b11643c-eefd-4301-b1e3-150afeb3a2fe",
   "metadata": {
    "deletable": false,
    "editable": false,
    "tags": []
   },
   "source": [
    "**Zadatak 2**\n",
    "\n",
    "Napravite tuple s ocjenama svojih najdražih filmova te izračunajte prosječnu ocjenu."
   ]
  },
  {
   "cell_type": "code",
   "execution_count": null,
   "id": "d24d80e7-8373-4d36-a8ae-39d3a31b1fb7",
   "metadata": {},
   "outputs": [],
   "source": [
    "# definiranje tuplea s ocjenama filmova\n",
    "favorite_movie_ratings = (9, 8, 9.5, 10, 8.5)\n",
    "\n",
    "\n",
    "# izračun prosječne ocjene\n",
    "average_rating = sum(favorite_movie_ratings) / len(favorite_movie_ratings)\n",
    "\n",
    "\n",
    "# ispis prosječne ocjene\n",
    "print(\"Prosječna ocjena mojih najdražih filmova je:\", average_rating)"
   ]
  },
  {
   "attachments": {},
   "cell_type": "markdown",
   "id": "d3bef84e-eaec-4e96-93d8-2c5e68d6df88",
   "metadata": {
    "deletable": false,
    "editable": false,
    "tags": []
   },
   "source": [
    "**Zadatak 3**\n",
    "\n",
    "Napravite tuple s imenima filmova te izbacite zadnji element iz tupla."
   ]
  },
  {
   "cell_type": "code",
   "execution_count": null,
   "id": "e497e864-2099-43f8-8ab6-3f20e3aba9ed",
   "metadata": {},
   "outputs": [],
   "source": [
    "movies = (\"Titanic\", \"The Shawshank Redemption\", \"Forrest Gump\", \"The Godfather\", \"The Dark Knight\")\n",
    "\n",
    "movies = movies[:-1]\n",
    "\n",
    "print(movies)"
   ]
  },
  {
   "attachments": {},
   "cell_type": "markdown",
   "id": "27b2fc9f-fcdf-4555-8322-91a232319ee7",
   "metadata": {
    "deletable": false,
    "editable": false,
    "tags": []
   },
   "source": [
    "**Zadatak 4**\n",
    "\n",
    "Napravite tuple s brojevima od 1 do 10, a zatim ih ispišite u obrnutom redoslijedu."
   ]
  },
  {
   "cell_type": "code",
   "execution_count": null,
   "id": "ce128deb-9032-4045-8bd5-a4cdaba20019",
   "metadata": {},
   "outputs": [],
   "source": [
    "numbers = (1, 2, 3, 4, 5, 6, 7, 8, 9, 10)\n",
    "\n",
    "print(numbers[::-1])"
   ]
  },
  {
   "attachments": {},
   "cell_type": "markdown",
   "id": "3f6eea34-47fd-4e4b-9f56-8fcc81ea4712",
   "metadata": {
    "deletable": false,
    "editable": false,
    "tags": []
   },
   "source": [
    "**Zadatak 5**\n",
    "\n",
    "Napravite dva tupla i spojite ih u jedan novi tuple."
   ]
  },
  {
   "cell_type": "code",
   "execution_count": null,
   "id": "b367d212-d15e-49fd-8d24-f940f6c20a18",
   "metadata": {},
   "outputs": [],
   "source": [
    "# dva primjera tupla\n",
    "tuple1 = (1, 2, 3)\n",
    "tuple2 = (4, 5, 6)\n",
    "\n",
    "\n",
    "# spajanje tuplova\n",
    "tuple3 = tuple1 + tuple2\n",
    "\n",
    "\n",
    "# ispis novog tupla\n",
    "print(tuple3)"
   ]
  },
  {
   "attachments": {},
   "cell_type": "markdown",
   "id": "b1fd4f11-52fc-442c-9cf6-5411bc638aaa",
   "metadata": {
    "deletable": false,
    "editable": false,
    "tags": []
   },
   "source": [
    "**Zadatak 6**\n",
    "\n",
    "Napravite tuple s brojevima te izračunajte sumu prvih pet brojeva."
   ]
  },
  {
   "cell_type": "code",
   "execution_count": null,
   "id": "85071f93-2f7d-4d47-bbd4-6d4c7ec49e32",
   "metadata": {},
   "outputs": [],
   "source": [
    "numbers = (1, 2, 3, 4, 5, 6, 7, 8, 9, 10)\n",
    "\n",
    "sum_first_five = sum(numbers[:5])\n",
    "\n",
    "print(sum_first_five)"
   ]
  },
  {
   "attachments": {},
   "cell_type": "markdown",
   "id": "01642f00-bde1-4a52-b6f0-3b5b0372fa48",
   "metadata": {
    "deletable": false,
    "editable": false,
    "tags": []
   },
   "source": [
    "### Set <a class=\"anchor\" id=\"modul2-set\"></a>\n",
    "\n",
    "Set je promjenjiva kolekcija podataka u Pythonu koja je specifična po tome što ne dopušta dodavanja istih elemenata, odnosno **dva ista elementa ne mogu biti unutar Set kolekcije podataka**. Specifična je i po tome što umjesto uglatih zagrada koristi vitičaste {}.\n",
    "\n",
    "`set_01 = {element_1, element_2, ...}`"
   ]
  },
  {
   "attachments": {},
   "cell_type": "markdown",
   "id": "edf35e4a-b174-4501-8844-39945f1815dc",
   "metadata": {
    "deletable": false,
    "editable": false,
    "tags": []
   },
   "source": [
    "#### Zadaci"
   ]
  },
  {
   "attachments": {},
   "cell_type": "markdown",
   "id": "9ac6d80f-7a30-4e39-978a-75e261e1a46a",
   "metadata": {
    "deletable": false,
    "editable": false,
    "tags": []
   },
   "source": [
    "**Zadatak 1**\n",
    "\n",
    "Napravi set s imenima svojih najdražih režisera."
   ]
  },
  {
   "cell_type": "code",
   "execution_count": null,
   "id": "eb2d6ae1-f584-4fa3-b8f8-5892bd6f5c04",
   "metadata": {},
   "outputs": [],
   "source": [
    "favorite_directors = {\"Quentin Tarantino\", \"Christopher Nolan\", \"Martin Scorsese\", \"David Fincher\"}\n",
    "\n",
    "print(favorite_directors)"
   ]
  },
  {
   "attachments": {},
   "cell_type": "markdown",
   "id": "7196a000-fa85-4d2e-a0ed-533697574a17",
   "metadata": {
    "deletable": false,
    "editable": false,
    "tags": []
   },
   "source": [
    "**Zadatak 2**\n",
    "\n",
    "Napravite set s imenima filmova koje ste pogledali ove godine."
   ]
  },
  {
   "cell_type": "code",
   "execution_count": null,
   "id": "de42347a-64a9-41c3-8181-dcfb4c44cb83",
   "metadata": {},
   "outputs": [],
   "source": [
    "movies_set = {'Dune', 'The French Dispatch', 'No Time to Die', 'Spider-Man: No Way Home', 'The Matrix Resurrections'}\n",
    "\n",
    "print(movies_set)"
   ]
  },
  {
   "attachments": {},
   "cell_type": "markdown",
   "id": "1c42d981-f674-47f8-a6ac-822fd1ba1686",
   "metadata": {
    "deletable": false,
    "editable": false,
    "tags": []
   },
   "source": [
    "**Zadatak 3**\n",
    "\n",
    "Napravite set s imenima serija koje ste pogledali ove godine."
   ]
  },
  {
   "cell_type": "code",
   "execution_count": null,
   "id": "0439b4e8-a1d6-464e-ae7c-40cf34743427",
   "metadata": {},
   "outputs": [],
   "source": [
    "tv_shows = {\"Game of Thrones\", \"Stranger Things\", \"Breaking Bad\", \"The Crown\"}\n",
    "\n",
    "print(tv_shows)"
   ]
  },
  {
   "attachments": {},
   "cell_type": "markdown",
   "id": "79c3f967-3c2f-4cd5-b8bf-345fe33c295f",
   "metadata": {
    "deletable": false,
    "editable": false,
    "tags": []
   },
   "source": [
    "**Zadatak 4**\n",
    "\n",
    "Napravite dva seta i izračunajte njihov presjek."
   ]
  },
  {
   "cell_type": "code",
   "execution_count": null,
   "id": "4ddaa6fc-690a-404d-ad75-281e0dc3ff81",
   "metadata": {},
   "outputs": [],
   "source": [
    "import random\n",
    "\n",
    "\n",
    "# generate two sets of random numbers\n",
    "set1 = set(random.sample(range(1, 101), 20))\n",
    "set2 = set(random.sample(range(1, 101), 25))\n",
    "\n",
    "\n",
    "# find the intersection of the two sets\n",
    "intersection = set1.intersection(set2)\n",
    "\n",
    "\n",
    "# print the intersection\n",
    "print(intersection)"
   ]
  },
  {
   "attachments": {},
   "cell_type": "markdown",
   "id": "6d170ba8-126d-4cb9-98ee-27dfdee94e5a",
   "metadata": {
    "deletable": false,
    "editable": false,
    "tags": []
   },
   "source": [
    "**Zadatak 5**\n",
    "\n",
    "Napravite set s imenima filmova u kojima glume vaši najdraži glumci."
   ]
  },
  {
   "cell_type": "code",
   "execution_count": null,
   "id": "447f0324-30b5-42b5-aa67-3a56595fe6da",
   "metadata": {},
   "outputs": [],
   "source": [
    "favorite_actors = {'Leonardo DiCaprio', 'Meryl Streep', 'Tom Hanks', 'Kate Winslet'}\n",
    "\n",
    "movie1_actors = {'Leonardo DiCaprio', 'Tom Hardy', 'Ellen Page'}\n",
    "movie2_actors = {'Meryl Streep', 'Anne Hathaway', 'Emily Blunt', 'Stanley Tucci'}\n",
    "movie3_actors = {'Tom Hanks', 'Robin Wright', 'Gary Sinise'}\n",
    "movie4_actors = {'Kate Winslet', 'Jim Carrey', 'Elijah Wood'}\n",
    "\n",
    "\n",
    "favorite_movies = set()\n",
    "if 'Leonardo DiCaprio' in favorite_actors:\n",
    "    favorite_movies.update({'Inception', 'The Departed'})\n",
    "if 'Meryl Streep' in favorite_actors:\n",
    "    favorite_movies.update({'The Devil Wears Prada', 'Mamma Mia!'})\n",
    "if 'Tom Hanks' in favorite_actors:\n",
    "    favorite_movies.update({'Forrest Gump', 'Cast Away'})\n",
    "if 'Kate Winslet' in favorite_actors:\n",
    "    favorite_movies.update({'Titanic', 'Eternal Sunshine of the Spotless Mind'})\n",
    "\n",
    "    \n",
    "movie1_actors_set = set(movie1_actors)\n",
    "movie2_actors_set = set(movie2_actors)\n",
    "movie3_actors_set = set(movie3_actors)\n",
    "movie4_actors_set = set(movie4_actors)\n",
    "\n",
    "favorite_actors_movies = movie1_actors_set.union(movie2_actors_set, movie3_actors_set, movie4_actors_set).intersection(favorite_movies)\n",
    "\n",
    "print(favorite_actors_movies)"
   ]
  },
  {
   "attachments": {},
   "cell_type": "markdown",
   "id": "4c182839-8eae-4ffd-a773-20ba8cc2e643",
   "metadata": {
    "deletable": false,
    "editable": false,
    "tags": []
   },
   "source": [
    "**Zadatak 6**\n",
    "\n",
    "Napravite set s imenima žanrova filmova te izbacite duplikate."
   ]
  },
  {
   "cell_type": "code",
   "execution_count": null,
   "id": "c34b7997-add6-471c-b72a-3288864dc424",
   "metadata": {},
   "outputs": [],
   "source": [
    "genres = [\"akcija\", \"drama\", \"komedija\", \"triler\", \n",
    "          \"dokumentarni\", \"animirani\", \"fantastika\", \n",
    "          \"horor\", \"vestern\", \"romantični\", \"dokumentarni\",\n",
    "          \"kriminalistički\", \"znanstvena fantastika\", \"triler\"]\n",
    "\n",
    "unique_genres = set(genres)\n",
    "\n",
    "print(unique_genres)"
   ]
  },
  {
   "attachments": {},
   "cell_type": "markdown",
   "id": "535939ca-66f0-4766-8fb4-d4600fe9b48c",
   "metadata": {
    "deletable": false,
    "editable": false,
    "tags": []
   },
   "source": [
    "**Zadatak 7**\n",
    "\n",
    "Napravite set s imenima filmova i ispišite ih abecednim redom."
   ]
  },
  {
   "cell_type": "code",
   "execution_count": null,
   "id": "ca2f2fbf-2524-4780-8963-5f0ec2e03334",
   "metadata": {},
   "outputs": [],
   "source": [
    "movies = {'Gospodar prstenova', 'Pirati s Kariba', 'Ratovi zvijezda', 'Kum', 'Brzi i žestoki'}\n",
    "\n",
    "sorted_movies = sorted(movies)\n",
    "for movie in sorted_movies:\n",
    "    print(movie)\n",
    "\n",
    "    \n",
    "# ili\n",
    "for movie in sorted(movies):\n",
    "    print(movie)"
   ]
  },
  {
   "attachments": {},
   "cell_type": "markdown",
   "id": "b2a6d3f7-a4ae-4036-bfb4-8b9f56771454",
   "metadata": {
    "deletable": false,
    "editable": false,
    "tags": []
   },
   "source": [
    "### Dictionary / rječnik <a class=\"anchor\" id=\"modul2-dictionay\"></a>\n",
    "\n",
    "Rječnik je najčešće korištena kolekcija u Pythonu. Specifičan je po tome što svaki element rječnika predstavlja par podataka: *ključ i vrijednost*. Dakle, umjesto indeksa koristi se ključ.\n",
    "\n",
    "* `rjecnik_01.keys()` - je metoda koja dohvaća kolekciju klučeva u rječniku, bez vrijednosti.\n",
    "* `rjecnik_01.values()` - je metoda koja dohvaća kolekciju vrijednosti u rječniku, bez ključeva.\n",
    "* `rjecnik_01.items()` - je metoda koja dohvaća kolekciju elementa rječnika tako da uvijek vrati i ključ i vrijednost elementa."
   ]
  },
  {
   "attachments": {},
   "cell_type": "markdown",
   "id": "2ade4b27-9309-4dec-8a93-c1455624a10b",
   "metadata": {
    "deletable": false,
    "editable": false,
    "tags": []
   },
   "source": [
    "#### Zadaci"
   ]
  },
  {
   "attachments": {},
   "cell_type": "markdown",
   "id": "8422ce07-0741-442f-86bb-5a422188c06a",
   "metadata": {
    "deletable": false,
    "editable": false,
    "tags": []
   },
   "source": [
    "**Zadatak 1**\n",
    "\n",
    "Napravite dictionary s imenima filmova i njihovim godinama izlaska."
   ]
  },
  {
   "cell_type": "code",
   "execution_count": null,
   "id": "a7ada963-8694-43a2-ad8c-fff09a79ab10",
   "metadata": {},
   "outputs": [],
   "source": [
    "movie_years = {\n",
    "    'Titanic': 1997,\n",
    "    'The Godfather': 1972,\n",
    "    'Jurassic Park': 1993,\n",
    "    'Forrest Gump': 1994,\n",
    "    'Pulp Fiction': 1994,\n",
    "    'The Shawshank Redemption': 1994,\n",
    "    'The Dark Knight': 2008,\n",
    "    'The Lord of the Rings: The Return of the King': 2003,\n",
    "    'Star Wars: Episode IV - A New Hope': 1977,\n",
    "    'The Matrix': 1999\n",
    "}"
   ]
  },
  {
   "attachments": {},
   "cell_type": "markdown",
   "id": "24d05dd2-27c4-481a-b757-c821b144c7fd",
   "metadata": {
    "deletable": false,
    "editable": false,
    "tags": []
   },
   "source": [
    "**Zadatak 2**\n",
    "\n",
    "Napravite dictionary s imenima glumaca i njihovim najpoznatijim ulogama."
   ]
  },
  {
   "cell_type": "code",
   "execution_count": null,
   "id": "d885bd97-83b7-4fc6-8e3a-9de380f5af9c",
   "metadata": {},
   "outputs": [],
   "source": [
    "actors_movies = {\n",
    "    \"Meryl Streep\": \"The Devil Wears Prada\",\n",
    "    \"Tom Hanks\": \"Forrest Gump\",\n",
    "    \"Leonardo DiCaprio\": \"Titanic\",\n",
    "    \"Emma Stone\": \"La La Land\",\n",
    "    \"Johnny Depp\": \"Pirates of the Caribbean\"\n",
    "}"
   ]
  },
  {
   "attachments": {},
   "cell_type": "markdown",
   "id": "ac6a1d0f-331c-4e4f-984e-e0d3a9355200",
   "metadata": {
    "deletable": false,
    "editable": false,
    "tags": []
   },
   "source": [
    "**Zadatak 3**\n",
    "\n",
    "Napravite dictionary s ocjenama svojih najdražih filmova."
   ]
  },
  {
   "cell_type": "code",
   "execution_count": null,
   "id": "5b403dab-d544-45af-8f80-1b7328b43fdd",
   "metadata": {},
   "outputs": [],
   "source": [
    "favorite_movies_ratings = {\n",
    "    \"The Shawshank Redemption\": 9.3,\n",
    "    \"The Godfather\": 9.2,\n",
    "    \"The Godfather: Part II\": 9.0,\n",
    "    \"The Dark Knight\": 9.0,\n",
    "    \"12 Angry Men\": 8.9,\n",
    "    \"Schindler's List\": 8.9,\n",
    "    \"The Lord of the Rings: The Return of the King\": 8.9,\n",
    "    \"Pulp Fiction\": 8.9,\n",
    "    \"Fight Club\": 8.8,\n",
    "    \"Forrest Gump\": 8.8\n",
    "}"
   ]
  },
  {
   "attachments": {},
   "cell_type": "markdown",
   "id": "dd78d1e6-7e3f-41ce-a49e-4b569f2303c1",
   "metadata": {
    "deletable": false,
    "editable": false,
    "tags": []
   },
   "source": [
    "**Zadatak 4**\n",
    "\n",
    "Napravite dictionary s imenima filmova i njihovim žanrovima."
   ]
  },
  {
   "cell_type": "code",
   "execution_count": null,
   "id": "7fedc495-c3e5-4b63-9c39-80fdb6d13a63",
   "metadata": {},
   "outputs": [],
   "source": [
    "genre_dict = {\n",
    "    'Forrest Gump': ['drama', 'romantika'],\n",
    "    'The Dark Knight': ['akcija', 'krimi', 'drama'],\n",
    "    'Pulp Fiction': ['krimi', 'drama'],\n",
    "    'The Godfather': ['krimi', 'drama'],\n",
    "    'Star Wars: Episode IV - A New Hope': ['akcija', 'avantura', 'fantazija'],\n",
    "    'The Shawshank Redemption': ['drama'],\n",
    "    'The Matrix': ['akcija', 'znanstvena fantastika']\n",
    "}"
   ]
  },
  {
   "attachments": {},
   "cell_type": "markdown",
   "id": "a256ed85-723d-4654-85d6-9496880d4831",
   "metadata": {
    "deletable": false,
    "editable": false,
    "tags": []
   },
   "source": [
    "**Zadatak 5**\n",
    "\n",
    "Napravite dictionary s imenima filmova i glavnim glumcima."
   ]
  },
  {
   "cell_type": "code",
   "execution_count": null,
   "id": "604e3ffd-2910-434a-9906-53a8bc497c21",
   "metadata": {},
   "outputs": [],
   "source": [
    "filmovi_glumci = {\n",
    "    \"Kum\": \"Marlon Brando\",\n",
    "    \"Umri muški\": \"Bruce Willis\",\n",
    "    \"Zeleno svjetlo\": \"Gatsby\",\n",
    "    \"Forrest Gump\": \"Tom Hanks\",\n",
    "    \"Titanic\": \"Leonardo DiCaprio\"\n",
    "}\n",
    "\n",
    "\n",
    "# Ispis imena filmova i njihovih glavnih glumaca\n",
    "for film, glumac in filmovi_glumci.items():\n",
    "    print(f\"{film}: {glumac}\")"
   ]
  },
  {
   "attachments": {},
   "cell_type": "markdown",
   "id": "98c4ea02-7b43-45cd-af08-200868286437",
   "metadata": {
    "deletable": false,
    "editable": false,
    "tags": []
   },
   "source": [
    "**Zadatak 6**\n",
    "\n",
    "Napravite dictionary s imenima filmova i njihovim trajanjima u minutama."
   ]
  },
  {
   "cell_type": "code",
   "execution_count": null,
   "id": "30b01640-a4a9-4077-8fc8-c447bc9c4c9e",
   "metadata": {},
   "outputs": [],
   "source": [
    "# kreiranje dictionary-a s imenima filmova i trajanjima u minutama\n",
    "film_trajanje = {\n",
    "    \"Titanic\": 195,\n",
    "    \"Gladiator\": 155,\n",
    "    \"Forrest Gump\": 142,\n",
    "    \"Pulp Fiction\": 154,\n",
    "    \"The Godfather\": 175\n",
    "}\n",
    "\n",
    "\n",
    "# ispis imena filmova i trajanja u minutama\n",
    "for film, trajanje in film_trajanje.items():\n",
    "    print(f\"Film: {film}, Trajanje: {trajanje} min\")"
   ]
  },
  {
   "attachments": {},
   "cell_type": "markdown",
   "id": "ec894599-19ff-46cc-b77b-450afc3755ff",
   "metadata": {
    "deletable": false,
    "editable": false,
    "tags": []
   },
   "source": [
    "**Zadatak 7**\n",
    "\n",
    "Napravite dictionary s imenima režisera i brojem filmova koje su režirali."
   ]
  },
  {
   "cell_type": "code",
   "execution_count": null,
   "id": "722a0133-ad43-4eb4-be97-4f40c8990a79",
   "metadata": {},
   "outputs": [],
   "source": [
    "# dictionary s imenima režisera i brojem filmova koje su režirali\n",
    "directors = {\n",
    "    'Christopher Nolan': 10,\n",
    "    'Quentin Tarantino': 9,\n",
    "    'Martin Scorsese': 25,\n",
    "    'Steven Spielberg': 34,\n",
    "    'Stanley Kubrick': 13\n",
    "}\n",
    "\n",
    "\n",
    "# ispisimena režisera i broja filmova koje su režirali\n",
    "for director, num_movies in directors.items():\n",
    "    print(f\"{director} je režirao {num_movies} filmova.\")"
   ]
  },
  {
   "attachments": {},
   "cell_type": "markdown",
   "id": "5c174a39-bc79-414c-bd7d-19d4ce6fdcbc",
   "metadata": {
    "deletable": false,
    "editable": false,
    "tags": []
   },
   "source": [
    "### IF, WHILE petlja <a class=\"anchor\" id=\"modul2-if-while\"></a>\n",
    "\n",
    "IF kao i WHILE petlje, za izvršavanje nekog bloka kôda, zahtijevaju ispunjavanje određenog uvjeta. Samo ako je rezultat logičkog uvjeta točan (True), onda će se taj dio kôda izvršiti, u protivnom će se preškočiti."
   ]
  },
  {
   "attachments": {},
   "cell_type": "markdown",
   "id": "6fb90941-2add-4ac3-bfdd-92c0c133f0c8",
   "metadata": {
    "deletable": false,
    "editable": false,
    "tags": []
   },
   "source": [
    "`if uvjet==True:`\\\n",
    "&nbsp;&nbsp;&nbsp;&nbsp;`pokreni blok kôda`"
   ]
  },
  {
   "attachments": {},
   "cell_type": "markdown",
   "id": "340d10b2-9a6e-4eee-a277-163a05d1de15",
   "metadata": {
    "deletable": false,
    "editable": false,
    "tags": []
   },
   "source": [
    "#### Zadaci"
   ]
  },
  {
   "attachments": {},
   "cell_type": "markdown",
   "id": "4af5d3bc-ee2d-4945-98fa-56503c1f1426",
   "metadata": {
    "deletable": false,
    "editable": false,
    "tags": []
   },
   "source": [
    "**Zadatak 1**\n",
    "\n",
    "Napravite program koji pita korisnika da unese svoj omiljeni film, a zatim ispisuje poruku \"To je sjajan izbor!\" ako je film \"The Godfather\", \"To je odličan izbor!\" ako je film \"Pulp Fiction\" i \"To je dobar izbor!\" za sve ostale filmove."
   ]
  },
  {
   "cell_type": "code",
   "execution_count": null,
   "id": "d76d712c-7749-43c9-a797-a073f52bf514",
   "metadata": {},
   "outputs": [],
   "source": [
    "# Pitaj korisnika za unos njegovog omiljenog filma\n",
    "favorite_movie = input(\"Koji je tvoj omiljeni film? \")\n",
    "\n",
    "\n",
    "# Provjeri kojem filmu pripada korisnikov omiljeni film\n",
    "if favorite_movie == \"The Godfather\":\n",
    "    print(\"To je sjajan izbor!\")\n",
    "elif favorite_movie == \"Pulp Fiction\":\n",
    "    print(\"To je odličan izbor!\")\n",
    "else:\n",
    "    print(\"To je dobar izbor!\")"
   ]
  },
  {
   "attachments": {},
   "cell_type": "markdown",
   "id": "abf152cb-b8c8-4c76-b8d2-8ffb5c084d53",
   "metadata": {
    "deletable": false,
    "editable": false,
    "tags": []
   },
   "source": [
    "**Zadatak 2**\n",
    "\n",
    "Napravite program koji ima listu filmova i provjerava postoji li film \"The Shawshank Redemption\" u listi. Ako postoji, ispišite poruku \"Ovo je jedan od najboljih filmova svih vremena!\", a ako ne postoji, ispišite poruku \"Ovaj film nije na listi.\""
   ]
  },
  {
   "cell_type": "code",
   "execution_count": null,
   "id": "92b818e2-21e9-4031-a599-f859a3105c7f",
   "metadata": {},
   "outputs": [],
   "source": [
    "# Definiranje liste filmova\n",
    "movies = [\"The Godfather\", \"The Shawshank Redemption\", \"The Dark Knight\", \"Pulp Fiction\", \"Forrest Gump\"]\n",
    "\n",
    "\n",
    "# Provjera da li se film \"The Shawshank Redemption\" nalazi u listi\n",
    "if \"The Shawshank Redemption\" in movies:\n",
    "    print(\"Ovo je jedan od najboljih filmova svih vremena!\")\n",
    "else:\n",
    "    print(\"Ovaj film nije na listi.\")"
   ]
  },
  {
   "attachments": {},
   "cell_type": "markdown",
   "id": "6c2996db-da20-4e21-8aa6-009ef429f502",
   "metadata": {
    "deletable": false,
    "editable": false,
    "tags": []
   },
   "source": [
    "**Zadatak 3**\n",
    "\n",
    "Napravite program koji ima listu filmova i vraća najstariji film u listi."
   ]
  },
  {
   "cell_type": "code",
   "execution_count": null,
   "id": "456b7bd6-2d6d-4315-aeb1-46c96c3ba5f3",
   "metadata": {},
   "outputs": [],
   "source": [
    "movies = {\n",
    "    \"The Godfather\": 1972,\n",
    "    \"Pulp Fiction\": 1994,\n",
    "    \"The Shawshank Redemption\": 1994,\n",
    "    \"The Dark Knight\": 2008,\n",
    "    \"Fight Club\": 1999\n",
    "}\n",
    "\n",
    "# Pronađi najstariji film\n",
    "oldest_movie = None\n",
    "for movie, year in movies.items():\n",
    "    if oldest_movie is None or year < oldest_movie[1]:\n",
    "        oldest_movie = (movie, year)\n",
    "\n",
    "\n",
    "\n",
    "print(f\"Najstariji film je '{oldest_movie[0]}' objavljen {oldest_movie[1]}.\")"
   ]
  },
  {
   "attachments": {},
   "cell_type": "markdown",
   "id": "ca33471b-dcb7-4439-b349-543857e1096b",
   "metadata": {
    "deletable": false,
    "editable": false,
    "tags": []
   },
   "source": [
    "**Zadatak 4**\n",
    "\n",
    "Napravite program koji ima rječnik filmova s godinama izlaska kao vrijednostima i provjerava je li film \"The Matrix\" izašao prije filma \"The Shawshank Redemption\". Ako je točno, ispišite poruku \"The Matrix je izašao prije The Shawshank Redemptiona!\", a ako nije, ispišite poruku \"The Shawshank Redemption je izašao prije The Matrixa!\"."
   ]
  },
  {
   "cell_type": "code",
   "execution_count": null,
   "id": "b3f57ad3-997e-4470-a0ba-6e9b6f7cd437",
   "metadata": {},
   "outputs": [],
   "source": [
    "# rječnik filmova s godinama izlaska\n",
    "movies = {\n",
    "    \"The Matrix\": 1999,\n",
    "    \"The Shawshank Redemption\": 1994,\n",
    "    \"Forrest Gump\": 1994,\n",
    "    \"The Godfather\": 1972\n",
    "}\n",
    "\n",
    "\n",
    "# provjeri jesu li filmovi izišli u ispravnom redoslijedu\n",
    "if movies[\"The Matrix\"] < movies[\"The Shawshank Redemption\"]:\n",
    "    print(\"The Matrix je izašao prije The Shawshank Redemptiona!\")\n",
    "else:\n",
    "    print(\"The Shawshank Redemption je izašao prije The Matrixa!\")"
   ]
  },
  {
   "attachments": {},
   "cell_type": "markdown",
   "id": "d1c30a98-04ac-4350-9c99-6cb7324e35ea",
   "metadata": {
    "deletable": false,
    "editable": false,
    "tags": []
   },
   "source": [
    "**Zadatak 5**\n",
    "\n",
    "Napravite program koji ima listu filmova i provjerava je li film \"The Godfather\" u njoj. Ako je, izbrišite ga iz liste i ispišite poruku \"The Godfather je uklonjen iz liste!\", a ako ne, ispišite poruku \"The Godfather nije na listi!\"."
   ]
  },
  {
   "cell_type": "code",
   "execution_count": null,
   "id": "ddf8cece-299c-4f9d-839b-a9a30529cd2a",
   "metadata": {},
   "outputs": [],
   "source": [
    "film_list = [\"Pulp Fiction\", \"The Godfather\", \"The Shawshank Redemption\", \"The Dark Knight\"]\n",
    "\n",
    "if \"The Godfather\" in film_list:\n",
    "    film_list.remove(\"The Godfather\")\n",
    "    print(\"The Godfather je uklonjen iz liste!\")\n",
    "else:\n",
    "    print(\"The Godfather nije u listi!\")\n",
    "\n",
    "print(\"Nova lista filmova:\", film_list)"
   ]
  },
  {
   "attachments": {},
   "cell_type": "markdown",
   "id": "c5155cf8-8fd0-4f72-b2dc-8891881092d3",
   "metadata": {
    "deletable": false,
    "editable": false,
    "tags": []
   },
   "source": [
    "**Zadatak 6**\n",
    "\n",
    "Napravite program koji ima listu filmova i vraća najnoviji film u listi."
   ]
  },
  {
   "cell_type": "code",
   "execution_count": null,
   "id": "eceba453-4217-482e-975b-1b73ca1355b0",
   "metadata": {},
   "outputs": [],
   "source": [
    "# definiraj listu filmova s godinama izlaska\n",
    "films = {'The Godfather': 1972, 'The Shawshank Redemption': 1994, 'The Matrix': 1999, 'Pulp Fiction': 1994}\n",
    "\n",
    "\n",
    "# inicijaliziraj varijablu najnoviji_film s naslovom prvog filma u listi\n",
    "najnoviji_film = list(films.keys())[0]\n",
    "\n",
    "\n",
    "# iteriraj kroz sve filmove u listi i provjeri koja ima najveću godinu izlaska\n",
    "for film in films:\n",
    "    if films[film] > films[najnoviji_film]:\n",
    "        najnoviji_film = film\n",
    "\n",
    "        \n",
    "# ispiši najnoviji film\n",
    "print(\"Najnoviji film u listi je:\", najnoviji_film)"
   ]
  },
  {
   "attachments": {},
   "cell_type": "markdown",
   "id": "b11b2aa0-5a0b-4a19-8f04-6191a4e34108",
   "metadata": {
    "deletable": false,
    "editable": false,
    "tags": []
   },
   "source": [
    "**Zadatak 7**\n",
    "\n",
    "Napravite program koji ima listu filmova i broji koliko filmova u njoj počinje slovom \"T\"."
   ]
  },
  {
   "cell_type": "code",
   "execution_count": null,
   "id": "b9477121-fe58-4a12-a8a0-21eefd108ee4",
   "metadata": {},
   "outputs": [],
   "source": [
    "# stvaramo listu filmova\n",
    "movies = [\"Titanic\", \"The Godfather\", \"The Shawshank Redemption\", \"Toy Story\", \"Terminator\", \"The Lion King\", \"The Matrix\"]\n",
    "\n",
    "# inicijaliziramo brojač na 0\n",
    "count = 0\n",
    "\n",
    "# iteriramo kroz listu i povećavamo brojač za svaki film koji počinje s \"T\"\n",
    "for movie in movies:\n",
    "    if movie.startswith(\"T\"):\n",
    "        count += 1\n",
    "\n",
    "# ispisujemo rezultat\n",
    "print(f\"U kolekciji ima {count} filmova koji počinju s T.\")"
   ]
  },
  {
   "attachments": {},
   "cell_type": "markdown",
   "id": "fc873a37-7f51-4699-aa41-3dfc46d0455f",
   "metadata": {
    "deletable": false,
    "editable": false,
    "tags": []
   },
   "source": [
    "**Zadatak 8**\n",
    "\n",
    "Napravite program koji ima rječnik u kojem su ključevi nazivi filmova, a vrijednosti su godine izlaska tih filmova. Korisnik treba unijeti godinu, a program treba ispisati sve filmove koji su izašli nakon te godine."
   ]
  },
  {
   "cell_type": "code",
   "execution_count": null,
   "id": "31b4d380-1453-4526-b06d-9b59fe94e42f",
   "metadata": {},
   "outputs": [],
   "source": [
    "# stvaranje rječnika filmova s godinama izlaska kao vrijednostima\n",
    "movies = {'The Shawshank Redemption': 1994,\n",
    "          'The Godfather': 1972,\n",
    "          'The Dark Knight': 2008,\n",
    "          'Pulp Fiction': 1994,\n",
    "          'The Lord of the Rings: The Fellowship of the Ring': 2001}\n",
    "\n",
    "# traženje godine od korisnika i spremanje u varijablu godina\n",
    "year = int(input(\"Enter a year: \"))\n",
    "\n",
    "# prolazak kroz rječnik i ispis svakog filma koji je izašao nakon unesene godine\n",
    "print(\"Movies released after\", year, \":\")\n",
    "for title, release_year in movies.items():\n",
    "    if release_year > year:\n",
    "        print(title)"
   ]
  },
  {
   "attachments": {},
   "cell_type": "markdown",
   "id": "542f59bd-8497-4da9-ba40-69a258a4c061",
   "metadata": {
    "deletable": false,
    "editable": false,
    "tags": []
   },
   "source": [
    "**Zadatak 9**\n",
    "\n",
    "Napravite program koji ima set s imenima glumaca. Korisnik treba unijeti ime glumca, a program treba provjeriti nalazi li se to ime u setu. Ako se nalazi, ispišite poruku \"Ovo je popularan glumac!\", a ako ne, ispišite poruku \"Ovo nije popularan glumac.\""
   ]
  },
  {
   "cell_type": "code",
   "execution_count": null,
   "id": "279f8948-1fc7-4914-a967-82d1823c344e",
   "metadata": {},
   "outputs": [],
   "source": [
    "# Stvaranje seta s imenima glumaca\n",
    "actors_set = {\"Tom Hanks\", \"Meryl Streep\", \"Leonardo DiCaprio\", \"Emma Stone\"}\n",
    "\n",
    "\n",
    "# Traženje imena glumca od korisnika\n",
    "actor_name = input(\"Unesite ime glumca: \")\n",
    "\n",
    "\n",
    "# Provjera da li se ime glumca nalazi u setu\n",
    "if actor_name in actors_set:\n",
    "    print(\"Ovo je popularan glumac!\")\n",
    "else:\n",
    "    print(\"Ovo nije popularan glumac.\")"
   ]
  },
  {
   "attachments": {},
   "cell_type": "markdown",
   "id": "9c57638a-893e-45cd-8df7-e1b0cc3b38e2",
   "metadata": {
    "deletable": false,
    "editable": false,
    "tags": []
   },
   "source": [
    "**Zadatak 10**\n",
    "\n",
    "Napravite program koji ima listu filmova i broji koliko se puta svaki film pojavljuje u listi."
   ]
  },
  {
   "cell_type": "code",
   "execution_count": null,
   "id": "7b909e8d-4b40-4116-a412-10a28f37d8a3",
   "metadata": {},
   "outputs": [],
   "source": [
    "# Kreiranje liste filmova\n",
    "films = ['Titanic', 'Forrest Gump', 'The Godfather', 'Titanic', 'The Godfather', 'The Shawshank Redemption', 'Forrest Gump', 'The Matrix', 'The Matrix']\n",
    "\n",
    "\n",
    "# Kreiranje praznog rječnika koji će sadržavati broj pojavljivanja svakog filma\n",
    "film_counts = {}\n",
    "\n",
    "\n",
    "# Iteriranje kroz svaki film u listi\n",
    "for film in films:\n",
    "    # Ako film nije dodan u rječnik, dodaj ga i postavi broj pojavljivanja na 1\n",
    "    if film not in film_counts:\n",
    "        film_counts[film] = 1\n",
    "    # Ako je film već u rječniku, povećaj broj pojavljivanja za 1\n",
    "    else:\n",
    "        film_counts[film] += 1\n",
    "\n",
    "        \n",
    "# Ispisivanje broja pojavljivanja svakog filma\n",
    "for film, count in film_counts.items():\n",
    "    print(f\"{film} se pojavljuje {count} puta u listi.\")"
   ]
  },
  {
   "attachments": {},
   "cell_type": "markdown",
   "id": "ad899c07-71f6-4fb9-9271-bb75f7a9aeb5",
   "metadata": {
    "deletable": false,
    "editable": false,
    "tags": []
   },
   "source": [
    "### Funkcije <a class=\"anchor\" id=\"modul2-funkcije\"></a>\n",
    "\n",
    "Funkcije, kao i u svakom programskom jeziku omogućavaju da **izdvojimo dio kôda koji se ponavlja te ga po potrebi \"pozovemo\"**, odnosno pokrenemo kada nam treba. Isto tako moguće je u funkciju proslijediti neke vrijednosti, pomoću argumenata funkcije. Ako funkcija treba \"vratiti\" određeni rezultat obrade dobivenih podatka, onda se koristi ključna riječ `return`."
   ]
  },
  {
   "attachments": {},
   "cell_type": "markdown",
   "id": "87634ff9-a6ac-4a81-b83c-914705ec1dec",
   "metadata": {
    "deletable": false,
    "editable": false,
    "tags": []
   },
   "source": [
    "**Deklaracija funkcije:**\\\n",
    "`def naziv_funkcije(argument1, argument2, ...):`\\\n",
    "&nbsp;&nbsp;&nbsp;&nbsp;`blok koda unutar funkcije koji radi željenu aktivnost`\n",
    "\n",
    "**Poziv funkcije:**\\\n",
    "`naziv_funkcije(vrijednost1, vrijednost, ...)`"
   ]
  },
  {
   "attachments": {},
   "cell_type": "markdown",
   "id": "a133ea36-4032-47d6-a1c9-f8da34156022",
   "metadata": {
    "deletable": false,
    "editable": false,
    "tags": []
   },
   "source": [
    "#### Zadaci"
   ]
  },
  {
   "attachments": {},
   "cell_type": "markdown",
   "id": "d09cfabe-2df5-45a6-88f8-bb51f6ee1b79",
   "metadata": {
    "deletable": false,
    "editable": false,
    "tags": []
   },
   "source": [
    "**Zadatak 1**\n",
    "\n",
    "Napišite funkciju koja prima listu filmova i vraća samo one filmove čije su godine izlaska veće od 2000."
   ]
  },
  {
   "cell_type": "code",
   "execution_count": null,
   "id": "f14f5137-ae50-4a49-a8a8-1272ee4eb0e6",
   "metadata": {},
   "outputs": [],
   "source": [
    "def filter_movies_by_year(movies_list):\n",
    "    \"\"\"\n",
    "    Funkcija prima listu filmova i vraća samo one filmove čije su godine izlaska veće od 2000.\n",
    "    \"\"\"\n",
    "    filtered_movies = [] # inicijalizacija prazne liste\n",
    "    for movie in movies_list:\n",
    "        if movie[\"godina\"] > 2000:\n",
    "            filtered_movies.append(movie)\n",
    "    return filtered_movies\n",
    "\n",
    "\n",
    "# Primjer s listom filmova i pozivom funkcije\n",
    "movies = [\n",
    "    {\"naslov\": \"Titanic\", \"godina\": 1997},\n",
    "    {\"naslov\": \"Harry Potter i kamen mudraca\", \"godina\": 2001},\n",
    "    {\"naslov\": \"Memento\", \"godina\": 2000},\n",
    "    {\"naslov\": \"Gospodar prstenova: Dvije kule\", \"godina\": 2002},\n",
    "    {\"naslov\": \"Povratak kralja\", \"godina\": 2003},\n",
    "    {\"naslov\": \"Batman: Početak\", \"godina\": 2005},\n",
    "]\n",
    "\n",
    "new_movies = filter_movies_by_year(movies)\n",
    "\n",
    "print(\"Originalna lista filmova:\")\n",
    "for movie in movies:\n",
    "    print(f\"Film: {film['naslov']}, Godina: {film['godina']}\")\n",
    "\n",
    "print(\"\\nNova lista filmova:\")\n",
    "for movie in new_movies:\n",
    "    print(f\"Film: {film['naslov']}, Godina: {film['godina']}\")"
   ]
  },
  {
   "attachments": {},
   "cell_type": "markdown",
   "id": "30ced491-47c5-4e7c-a01c-8414e2af9f31",
   "metadata": {
    "deletable": false,
    "editable": false,
    "tags": []
   },
   "source": [
    "**Zadatak 2**\n",
    "\n",
    "Napišite funkciju koja prima rječnik sa žanrovima filmova i vraća samo one žanrove koji se pojavljuju u više od 5 filmova."
   ]
  },
  {
   "cell_type": "code",
   "execution_count": null,
   "id": "fa82734f-6b95-4901-b223-dbf4d129e361",
   "metadata": {},
   "outputs": [],
   "source": [
    "def popular_genres(films_dict):\n",
    "    \"\"\"\n",
    "    Funkcija prima rječnik sa žanrovima filmova i vraća samo one žanrove koji se\n",
    "    pojavljuju u više od 5 filmova.\n",
    "    \"\"\"\n",
    "    popular_genres = []\n",
    "    for genre, films in films_dict.items():\n",
    "        if len(films) > 5:\n",
    "            popular_genres.append(genre)\n",
    "    return popular_genres\n",
    "\n",
    "\n",
    "# definiramo rječnik sa žanrovima filmova\n",
    "genres = {\n",
    "    'akcija': ['Terminator', 'Die Hard', 'Rambo', 'Lethal Weapon', 'Predator', 'The Matrix', 'John Wick'],\n",
    "    'komedija': ['Borat', 'Airplane!', 'The Hangover', 'Dumb and Dumber', 'Naked Gun'],\n",
    "    'drama': ['Forrest Gump', 'The Shawshank Redemption', 'Schindler\\'s List', 'The Godfather', 'Casablanca'],\n",
    "    'horor': ['Halloween', 'A Nightmare on Elm Street', 'The Shining', 'Scream', 'The Exorcist', 'Psycho', 'Alien']\n",
    "}\n",
    "\n",
    "# pozivamo funkciju i ispisujemo rezultat\n",
    "genres_more_five = popular_genres(genres)\n",
    "print('Žanrovi s više od 5 filmova:', genres_more_five)\n"
   ]
  },
  {
   "attachments": {},
   "cell_type": "markdown",
   "id": "6207cd72-f5f3-4c61-b85d-b990c72c071c",
   "metadata": {
    "deletable": false,
    "editable": false,
    "tags": []
   },
   "source": [
    "**Zadatak 3**\n",
    "\n",
    "Napišite funkciju koja prima listu filmova i vraća rječnik u kojem su ključevi godine izlaska, a vrijednosti su liste filmova koji su izašli te godine."
   ]
  },
  {
   "cell_type": "code",
   "execution_count": null,
   "id": "1272cf4e-caf2-4065-be1c-9b27c23fb266",
   "metadata": {},
   "outputs": [],
   "source": [
    "# NAPOMENA: Nazivi na hrvatskom jeziku su namjerno korišteni.\n",
    "\n",
    "\n",
    "def grupiraj_po_godinama(filmovi):\n",
    "    \"\"\"\n",
    "    Grupira filmove po godinama izlaska i vraća rječnik s godinama kao ključevima i listama filmova kao vrijednostima.\n",
    "    \n",
    "    :param filmovi: lista filmova\n",
    "    :type filmovi: list\n",
    "    :return: rječnik s godinama kao ključevima i listama filmova kao vrijednostima\n",
    "    :rtype: dict\n",
    "    \"\"\"\n",
    "    grupirano = {}\n",
    "    for film in filmovi:\n",
    "        godina = film[\"godina\"]\n",
    "        if godina in grupirano:\n",
    "            grupirano[godina].append(film)\n",
    "        else:\n",
    "            grupirano[godina] = [film]\n",
    "    return grupirano\n",
    "\n",
    "\n",
    "filmovi = [\n",
    "    {\"naslov\": \"Titanic\", \"godina\": 1997},\n",
    "    {\"naslov\": \"Pulp Fiction\", \"godina\": 1994},\n",
    "    {\"naslov\": \"The Matrix\", \"godina\": 1999},\n",
    "    {\"naslov\": \"Gladiator\", \"godina\": 2000},\n",
    "    {\"naslov\": \"The Lord of the Rings: The Fellowship of the Ring\", \"godina\": 2001},\n",
    "    {\"naslov\": \"The Dark Knight\", \"godina\": 2008},\n",
    "    {\"naslov\": \"Inception\", \"godina\": 2010},\n",
    "    {\"naslov\": \"Interstellar\", \"godina\": 2014},\n",
    "    {\"naslov\": \"Parasite\", \"godina\": 2019},\n",
    "    {\"naslov\": \"Nomadland\", \"godina\": 2020}\n",
    "]\n",
    "\n",
    "grupirano_po_godinama = grupiraj_po_godinama(filmovi)\n",
    "for godina, filmovi in grupirano_po_godinama.items():\n",
    "    print(f\"Godina: {godina}\")\n",
    "    for film in filmovi:\n",
    "        print(f\"  - {film['naslov']}\")"
   ]
  },
  {
   "attachments": {},
   "cell_type": "markdown",
   "id": "1a33220f-208b-45e6-9939-9641dbb53472",
   "metadata": {
    "deletable": false,
    "editable": false,
    "tags": []
   },
   "source": [
    "**Zadatak 4**\n",
    "\n",
    "Napišite funkciju koja prima listu filmova i vraća samo one filmove koji sadrže riječ \"*action*\" u nazivu."
   ]
  },
  {
   "cell_type": "code",
   "execution_count": null,
   "id": "5981bbdc-63e7-4a1f-bc79-e4d1ef32db45",
   "metadata": {},
   "outputs": [],
   "source": [
    "def filter_action_movies(movies):\n",
    "    \"\"\"\n",
    "    Funkcija prima listu filmova i vraća samo one filmove koji sadrže riječ \"action\" u nazivu.\n",
    "\n",
    "    :param movies: lista filmova\n",
    "    :return: nova lista koja sadrži samo filmove koji sadrže riječ \"action\" u nazivu\n",
    "    \"\"\"\n",
    "    filtered_movies = []\n",
    "    for movie in movies:\n",
    "        if \"action\" in movie.lower():\n",
    "            filtered_movies.append(movie)\n",
    "    return filtered_movies\n",
    "\n",
    "\n",
    "# primjer poziva funkcije\n",
    "movies = [\"The Matrix\", \"Terminator 2: Judgment Day\", \"Die Hard\", \"Pulp Fiction\", \"The Bourne Identity\"]\n",
    "\n",
    "action_movies = filter_action_movies(movies)\n",
    "print(\"Akcijski filmovi:\")\n",
    "for movie in action_movies:\n",
    "    print(movie)"
   ]
  },
  {
   "attachments": {},
   "cell_type": "markdown",
   "id": "2bd02c48-e15b-4d75-ae7b-c97239ffbf11",
   "metadata": {
    "deletable": false,
    "editable": false,
    "tags": []
   },
   "source": [
    "**Zadatak 5**\n",
    "\n",
    "Napišite funkciju koja prima listu filmova i sortira ih po godinama izlaska, od najstarijeg prema najnovijem."
   ]
  },
  {
   "cell_type": "code",
   "execution_count": null,
   "id": "7050d253-13ae-4ef6-84ec-fecb0197814b",
   "metadata": {},
   "outputs": [],
   "source": [
    "def sort_films_by_year(films):\n",
    "    \"\"\"Sortira filmove prema godinama izlaska, od najstarijeg prema najnovijem.\"\"\"\n",
    "    sorted_films = sorted(films, key=lambda f: f[\"year\"])\n",
    "    return sorted_films\n",
    "\n",
    "\n",
    "films = [\n",
    "    {\"title\": \"Film 1\", \"year\": 2005},\n",
    "    {\"title\": \"Film 2\", \"year\": 1999},\n",
    "    {\"title\": \"Film 3\", \"year\": 2010},\n",
    "    {\"title\": \"Film 4\", \"year\": 2000},\n",
    "]\n",
    "\n",
    "\n",
    "sorted_films = sort_films_by_year(films)\n",
    "\n",
    "for film in sorted_films:\n",
    "    print(film[\"title\"], film[\"year\"])"
   ]
  },
  {
   "attachments": {},
   "cell_type": "markdown",
   "id": "2d7ce6cd-01e6-4675-becf-ab0754dbcc05",
   "metadata": {
    "deletable": false,
    "editable": false,
    "tags": []
   },
   "source": [
    "**Zadatak 6**\n",
    "\n",
    "Napišite funkciju koja prima rječnik sa žanrovima filmova i vraća samo one žanrove koji sadrže riječ \"*comedy*\"."
   ]
  },
  {
   "cell_type": "code",
   "execution_count": null,
   "id": "48d0f407-63df-4727-bf22-0931d94995a1",
   "metadata": {},
   "outputs": [],
   "source": [
    "def filter_genres(genres):\n",
    "    \"\"\"\n",
    "    Funkcija prima rječnik sa žanrovima filmova i vraća samo one žanrove koji sadrže riječ \"comedy\".\n",
    "    \n",
    "    :param genres: rječnik sa žanrovima filmova\n",
    "    :return: nova lista žanrova koji sadrže riječ \"comedy\"\n",
    "    \"\"\"\n",
    "    filtered_genres = [genre for genre in genres if 'comedy' in genre.lower()]\n",
    "    return filtered_genres\n",
    "\n",
    "# primjer liste žanrova\n",
    "genres = ['Action', 'Comedy', 'Drama', 'Romance', 'Comedy-Drama', 'Horror']\n",
    "\n",
    "# poziv funkcije\n",
    "filtered_genres = filter_genres(genres)\n",
    "\n",
    "# ispis rezultata\n",
    "print(\"Originalni žanrovi: \", genres)\n",
    "print(\"Filtrirani žanrovi: \", filtered_genres)"
   ]
  },
  {
   "attachments": {},
   "cell_type": "markdown",
   "id": "e9c520c5-408c-423b-b3f4-b87a7f93c540",
   "metadata": {
    "deletable": false,
    "editable": false,
    "tags": []
   },
   "source": [
    "**Zadatak 7**\n",
    "\n",
    "Napišite funkciju koja prima listu filmova i vraća broj filmova koji su izašli u posljednjih 5 godina."
   ]
  },
  {
   "cell_type": "code",
   "execution_count": null,
   "id": "1f3b64e7-c125-4c06-844c-11366b79a29c",
   "metadata": {},
   "outputs": [],
   "source": [
    "from datetime import datetime\n",
    "\n",
    "\n",
    "def broj_novih_filmova(lista_filmova):\n",
    "    \"\"\"\n",
    "    Funkcija prima listu filmova i vraća broj filmova koji su izašli u posljednjih 5 godina.\n",
    "\n",
    "    Ulazni parametri:\n",
    "    - lista_filmova: lista rječnika sa podacima o filmovima\n",
    "\n",
    "    Povratna vrijednost:\n",
    "    - broj_filmova: broj filmova koji su izašli u posljednjih 5 godina\n",
    "    \"\"\"\n",
    "\n",
    "    # dobivamo trenutnu godinu\n",
    "    trenutna_godina = datetime.now().year\n",
    "\n",
    "    # brojimo koliko filmova je izašlo u posljednjih 5 godina\n",
    "    broj_filmova = 0\n",
    "    for film in lista_filmova:\n",
    "        if trenutna_godina - film[\"godina_izlaska\"] <= 5:\n",
    "            broj_filmova += 1\n",
    "\n",
    "    return broj_filmova\n",
    "\n",
    "\n",
    "# primjer poziva funkcije\n",
    "filmovi = [\n",
    "    {\"naziv\": \"Avengers: Endgame\", \"godina_izlaska\": 2019},\n",
    "    {\"naziv\": \"Joker\", \"godina_izlaska\": 2019},\n",
    "    {\"naziv\": \"Spider-Man: Far From Home\", \"godina_izlaska\": 2019},\n",
    "    {\"naziv\": \"Parasite\", \"godina_izlaska\": 2019},\n",
    "    {\"naziv\": \"Star Wars: The Rise of Skywalker\", \"godina_izlaska\": 2019},\n",
    "    {\"naziv\": \"Sonic the Hedgehog\", \"godina_izlaska\": 2020},\n",
    "    {\"naziv\": \"Wonder Woman 1984\", \"godina_izlaska\": 2020},\n",
    "    {\"naziv\": \"Godzilla vs. Kong\", \"godina_izlaska\": 2021},\n",
    "    {\"naziv\": \"Black Widow\", \"godina_izlaska\": 2021},\n",
    "    {\"naziv\": \"Dune\", \"godina_izlaska\": 2021}\n",
    "]\n",
    "\n",
    "broj_novih = broj_novih_filmova(filmovi)\n",
    "print(f\"U posljednjih 5 godina izašlo je {broj_novih} filmova.\")"
   ]
  },
  {
   "attachments": {},
   "cell_type": "markdown",
   "id": "07aa303e-8224-43bd-9b86-84f9cf75a03d",
   "metadata": {
    "deletable": false,
    "editable": false,
    "tags": []
   },
   "source": [
    "**Zadatak 8**\n",
    "\n",
    "Napišite funkciju koja prima listu filmova i vraća samo one filmove koji su trajanja dužeg od 2 sata."
   ]
  },
  {
   "cell_type": "code",
   "execution_count": null,
   "id": "9846a636-1f95-41ae-999a-e9ad3b1278dc",
   "metadata": {},
   "outputs": [],
   "source": [
    "def long_movies(movies):\n",
    "    \"\"\"\n",
    "    Funkcija prima listu filmova i vraća samo one filmove koji su trajanja dužeg od 2 sata.\n",
    "\n",
    "    :param movies: rječnik filmova\n",
    "    :return: nova lista filmova čije trajanje je duže od 2 sata\n",
    "    \"\"\"\n",
    "    long_movies = []\n",
    "    for movie in movies:\n",
    "        if movie[\"duration\"] > 120:\n",
    "            long_movies.append(movie)\n",
    "    return long_movies\n",
    "\n",
    "\n",
    "movies = [\n",
    "    {'title': 'The Dark Knight', 'year': 2008, 'duration': 152},\n",
    "    {'title': 'Avengers: Endgame', 'year': 2019, 'duration': 181},\n",
    "    {'title': 'Titanic', 'year': 1997, 'duration': 195},\n",
    "    {'title': 'Interstellar', 'year': 2014, 'duration': 169},\n",
    "    {'title': 'Inception', 'year': 2010, 'duration': 148},\n",
    "    {'title': 'The Lord of the Rings: The Return of the King', 'year': 2003, 'duration': 201}\n",
    "]\n",
    "\n",
    "long_movies_list = long_movies(movies)\n",
    "print(long_movies_list)"
   ]
  },
  {
   "attachments": {},
   "cell_type": "markdown",
   "id": "b4b7a648-5f32-4d20-9cfd-d7ba9cd3003a",
   "metadata": {
    "deletable": false,
    "editable": false,
    "tags": []
   },
   "source": [
    "**Zadatak 9**\n",
    "\n",
    "Napišite funkciju koja prima rječnik sa žanrovima filmova i vraća ukupan broj filmova po žanru."
   ]
  },
  {
   "cell_type": "code",
   "execution_count": null,
   "id": "77246e4c-9998-4861-be02-4106e4f1679c",
   "metadata": {},
   "outputs": [],
   "source": [
    "def count_movies_by_genre(genre_dict):\n",
    "    \"\"\"\n",
    "    Funkcija prima rječnik sa žanrovima filmova i vraća ukupan broj filmova po žanru.\n",
    "\n",
    "    Argumenti:\n",
    "    - genre_dict: rječnik sa žanrovima filmova, gdje su ključevi žanrovi, a vrijednosti su liste filmova u tom žanru\n",
    "\n",
    "    Povratna vrijednost:\n",
    "    - rječnik sa žanrovima filmova i brojem filmova u svakom žanru\n",
    "    \"\"\"\n",
    "\n",
    "    count_dict = {}\n",
    "    for genre, movies in genre_dict.items():\n",
    "        count_dict[genre] = len(movies)\n",
    "    return count_dict\n",
    "\n",
    "\n",
    "\n",
    "# rječnik sa žanrovima filmova\n",
    "genre_dict = {\n",
    "    \"Comedy\": [\"Borat\", \"The Hangover\", \"Zoolander\"],\n",
    "    \"Action\": [\"Die Hard\", \"The Terminator\", \"Rambo\"],\n",
    "    \"Drama\": [\"The Godfather\", \"Schindler's List\", \"Forrest Gump\"]\n",
    "}\n",
    "\n",
    "\n",
    "# brojanje filmova po žanru\n",
    "counts = count_movies_by_genre(genre_dict)\n",
    "\n",
    "\n",
    "# ispis rezultata\n",
    "for genre, count in counts.items():\n",
    "    print(f\"{genre}: {count} filmova\")"
   ]
  },
  {
   "attachments": {},
   "cell_type": "markdown",
   "id": "1b0c32ae-5c8c-4dad-9647-c199a42b15f5",
   "metadata": {
    "deletable": false,
    "editable": false,
    "tags": []
   },
   "source": [
    "**Zadatak 10**\n",
    "\n",
    "Napišite funkciju koja prima listu filmova i vraća naziv filma s najdužim nazivom."
   ]
  },
  {
   "cell_type": "code",
   "execution_count": null,
   "id": "09861807-d4ac-4604-bfe0-97110f50c464",
   "metadata": {},
   "outputs": [],
   "source": [
    "def longest_movie_title(movies):\n",
    "    \"\"\"\n",
    "    Funkcija prima listu filmova i vraća naziv filma s najdužim nazivom.\n",
    "\n",
    "    :param movies: lista filmova\n",
    "    :return: naziv filma s najdužim nazivom\n",
    "    \"\"\"\n",
    "    longest_title = \"\"\n",
    "    for movie in movies:\n",
    "        if len(movie[\"title\"]) > len(longest_title):\n",
    "            longest_title = movie[\"title\"]\n",
    "    return longest_title\n",
    "\n",
    "\n",
    "\n",
    "movies = [\n",
    "    {\"title\": \"The Shawshank Redemption\", \"year\": 1994, \"genre\": \"Drama\"},\n",
    "    {\"title\": \"The Godfather\", \"year\": 1972, \"genre\": \"Crime\"},\n",
    "    {\"title\": \"The Dark Knight\", \"year\": 2008, \"genre\": \"Action\"},\n",
    "    {\"title\": \"12 Angry Men\", \"year\": 1957, \"genre\": \"Drama\"},\n",
    "    {\"title\": \"Schindler's List\", \"year\": 1993, \"genre\": \"Drama\"}\n",
    "]\n",
    "\n",
    "\n",
    "longest_title = longest_movie_title(movies)\n",
    "print(f\"Naziv filma s najdužim nazivom: {longest_title}\")"
   ]
  },
  {
   "attachments": {},
   "cell_type": "markdown",
   "id": "808556b7-b66a-4ac0-88d7-89f063fef1b0",
   "metadata": {
    "deletable": false,
    "editable": false,
    "tags": []
   },
   "source": [
    "## Seminar 3 - Programiranje u programskom jeziku Python <a class=\"anchor\" id=\"modul3\"></a>"
   ]
  },
  {
   "attachments": {},
   "cell_type": "markdown",
   "id": "8db817eb-c8d0-4b31-8de7-270749efcd5f",
   "metadata": {
    "deletable": false,
    "editable": false,
    "tags": []
   },
   "source": [
    "### Klase / razredi <a class=\"anchor\" id=\"modul3-klase\"></a>\n",
    "\n",
    "Klase ili razredi predstavljaju korisnički tip podatka, predložak, odnosno **nacrt na temelju kojeg se kreiraju varijable** koje ćemo koristiti u programu. Prilikom kreiranja klase definiramo svojstva ili atribute i radnje ili funkcije koje varijable tog tipa mogu obavljati. \n",
    "\n",
    "Klase se primjenjuju u **objektno orjentiranom programiranju**. To je tehnika programiranja koja omogućava organizaciju programskog kôda u kolekcije objekata koje se mogu više puta koristiti te čija međusobna interakcija osigurava traženo rješenje problema."
   ]
  },
  {
   "attachments": {},
   "cell_type": "markdown",
   "id": "ac6cee4b-1072-4460-a063-fb020bed8e01",
   "metadata": {
    "deletable": false,
    "editable": false,
    "tags": []
   },
   "source": [
    "Kada konkretiziramo varijablu određene klase, dobili smo objekt kao instancu te klase. \n",
    "Primjeri klase i objekata:"
   ]
  },
  {
   "attachments": {},
   "cell_type": "markdown",
   "id": "225b45ed-10e4-4f36-be58-89fe9cf94e97",
   "metadata": {
    "deletable": false,
    "editable": false,
    "tags": []
   },
   "source": [
    "- klasa **Osoba** sa svojstvima: ime, prezime, OIB, adresa, mobitel, zaposlenost i sl. - objekti: Marko Marković, Ana Anić...\n",
    "- klasa **Knjiga** sa svojstvima: naslov, autor, godina izdanja, broj stranica, izdavačka kuća... - objekti: Zlatarovo zlato, Vlak u snijegu...\n",
    "- klasa **Vozilo** sa svojstvima: tip, marka, godina prve registracije, masa, registracija, cijena... - objekti: kamion reg. oznake ZG-001AA, automobil reg. oznake RI-002AB..."
   ]
  },
  {
   "attachments": {},
   "cell_type": "markdown",
   "id": "29d6e265",
   "metadata": {
    "deletable": false,
    "editable": false,
    "tags": []
   },
   "source": [
    "Kada uočimo da bi se u nekoliko klasa mogla definirati ista svojstva i/ili metode, koristimo svojstvo nasljeđivanja. U tom slučaju jedna klasa postaje **klasa-roditelj (_parent class_)**, a klasa koja ju nasljeđuje postaje **klasa-dijete (_child class_)**.  \n",
    "Primjeri ovakvih klasa:\n",
    "- klasa **Osoba** kao klasa roditelj, a klase Ucenik, Kupac, Djelatnik, Student, Umirovljenik mogu biti klase djeca - zajednička svojstva: ime, prezime, OIB, adresa, mobitel, e-mail...\n",
    "- klasa **Vozilo** kao klasa roditelj, klase Automobil, Autobus, Motocikl kao klase djeca - zajednička svojstva i metode: proizvođač, godina proizvodnje, broj kotača, konjske snage, maksimalna brzina..."
   ]
  },
  {
   "attachments": {},
   "cell_type": "markdown",
   "id": "d43d5dcb-838b-4353-b81b-65ea7f69e13d",
   "metadata": {
    "deletable": false,
    "editable": false,
    "tags": []
   },
   "source": [
    "#### Zadaci"
   ]
  },
  {
   "attachments": {},
   "cell_type": "markdown",
   "id": "4c824b8e",
   "metadata": {
    "deletable": false,
    "editable": false,
    "tags": []
   },
   "source": [
    "**Zadatak 1**\n",
    "\n",
    "Zadan je rječnik **vozni_park**:\n"
   ]
  },
  {
   "cell_type": "code",
   "execution_count": 1,
   "id": "b9dcc65c",
   "metadata": {},
   "outputs": [],
   "source": [
    "vozni_park = {\n",
    "    1 : ['Kamion', 'Iveco', 'OS 001 ZZ', 2015, 45000.00],\n",
    "    2 : ['Kamion', 'Iveco', 'OS 002 ZZ', 2015, 47000.00],\n",
    "    3 : ['Tegljač', 'MAN', 'RI 001 ZZ', 2018, 78000.00],\n",
    "    4 : ['Tegljač', 'MAN', 'RI 002 ZZ', 2020, 97000.00],\n",
    "    5 : ['Kombi', 'Mercedes Benz', 'ST 001 ZZ',2013, 12000.00],\n",
    "    6 : ['Kombi', 'Volkswagen', 'ST 002 ZZ', 2021, 35000.00],\n",
    "    7 : ['Dostavno vozilo', 'Volkswagen', 'ZG 001 ZZ', 2010, 9000.00],\n",
    "    8 : ['Dostavno vozilo', 'Volkswagen', 'ZG 002 ZZ', 2010, 9300.00]\n",
    "}"
   ]
  },
  {
   "attachments": {},
   "cell_type": "markdown",
   "id": "0c5ed121",
   "metadata": {
    "deletable": false,
    "editable": false,
    "tags": []
   },
   "source": [
    "1.1. Prema rječniku __vozni_park__ kreirati klasu **Vozilo**, a zatim kreirati 8 objekata te klase (prema podacima iz rječnika)."
   ]
  },
  {
   "attachments": {},
   "cell_type": "markdown",
   "id": "cd9a0133",
   "metadata": {
    "deletable": false,
    "editable": false,
    "tags": []
   },
   "source": [
    "1.2. Napraviti metode za:\n",
    "\n",
    "- ispis svih vozila starijih od 2015. godine\n",
    "- ispis svih vozila marke Volkswagen\n",
    "- ispis svih vozila skupljih od 20000 eura\n",
    "- ispis svih podataka o vozilu određene registracije (traži se unosom)"
   ]
  },
  {
   "cell_type": "code",
   "execution_count": null,
   "id": "97f1c689-62a1-458b-a4bf-581b7501edaa",
   "metadata": {},
   "outputs": [],
   "source": [
    "class Vozilo:\n",
    "    def __init__(self, tip, marka, registracija, godina_proizvodnje, cijena):\n",
    "        self.tip = tip\n",
    "        self.marka = marka\n",
    "        self.registracija = registracija\n",
    "        self.godina_proizvodnje = godina_proizvodnje\n",
    "        self.cijena = cijena\n",
    "    \n",
    "    def ispis_vozila_starijih_od(self, godina):\n",
    "        if self.godina_proizvodnje < godina:\n",
    "            self.ispis_vozila()\n",
    "\n",
    "    def ispis_vozila_marke(self, marka):\n",
    "        if self.marka == marka:\n",
    "            self.ispis_vozila()\n",
    "\n",
    "    def ispis_skupljih_od(self, cijena):\n",
    "        if self.cijena > cijena:\n",
    "            self.ispis_vozila()\n",
    "\n",
    "    def ispis_vozila(self):\n",
    "        print(f\"Tip vozila: {self.tip}\")\n",
    "        print(f\"Marka vozila: {self.marka}\")\n",
    "        print(f\"Registracija vozila: {self.registracija}\")\n",
    "        print(f\"Godina proizvodnje: {self.godina_proizvodnje}\")\n",
    "        print(f\"Cijena vozila: {self.cijena:.2f} EUR\\n\")\n",
    "\n",
    "    def ispis_vozila_po_registraciji(self, registracija):\n",
    "        if self.registracija == registracija:\n",
    "            self.ispis_vozila()\n",
    "\n",
    "            \n",
    "\n",
    "# Create instances of the Vozilo class\n",
    "vozni_park = {\n",
    "    1 : ['Kamion', 'Iveco', 'OS 001 ZZ', 2015, 45000.00],\n",
    "    2 : ['Kamion', 'Iveco', 'OS 002 ZZ', 2015, 47000.00],\n",
    "    3 : ['Tegljač', 'MAN', 'RI 001 ZZ', 2018, 78000.00],\n",
    "    4 : ['Tegljač', 'MAN', 'RI 002 ZZ', 2020, 97000.00],\n",
    "    5 : ['Kombi', 'Mercedes Benz', 'ST 001 ZZ',2013, 12000.00],\n",
    "    6 : ['Kombi', 'Volkswagen', 'ST 002 ZZ', 2021, 35000.00],\n",
    "    7 : ['Dostavno vozilo', 'Volkswagen', 'ZG 001 ZZ', 2010, 9000.00],\n",
    "    8 : ['Dostavno vozilo', 'Volkswagen', 'ZG 002 ZZ', 2010, 9300.00]\n",
    "}\n",
    "\n",
    "vozila = []\n",
    "for key, value in vozni_park.items():\n",
    "    vozilo = Vozilo(value[0], value[1], value[2], value[3], value[4])\n",
    "    vozila.append(vozilo)\n",
    "\n",
    "# Ispis svih vozila starijih od 2015. godine\n",
    "print(\"Vozila starija od 2015. godine:\")\n",
    "for vozilo in vozila:\n",
    "    vozilo.ispis_vozila_starijih_od(2015)\n",
    "\n",
    "# Ispis svih vozila marke Volkswagen\n",
    "print(\"\\nVozila marke Volkswagen:\")\n",
    "for vozilo in vozila:\n",
    "    if vozilo.marka == \"Volkswagen\":\n",
    "        print(vozilo)\n",
    "\n",
    "        \n",
    "# Ispis svih vozila skupljih od 20000 eura\n",
    "print(\"\\nVozila skuplja od 20000 eura:\")\n",
    "for vozilo in vozila:\n",
    "    if vozilo.cijena > 20000:\n",
    "        print(vozilo)\n",
    "\n",
    "        \n",
    "# Ispis svih podataka o vozilu određene registracije (traži se unosom)\n",
    "registracija = input(\"\\nUnesite registraciju vozila za ispis podataka: \")\n",
    "for vozilo in vozila:\n",
    "    if vozilo.registracija == registracija:\n",
    "        print(\"\\nPodaci o vozilu s registracijom\", registracija + \":\", vozilo)"
   ]
  },
  {
   "attachments": {},
   "cell_type": "markdown",
   "id": "b98c2c54-6fec-465d-8b99-c773b371be89",
   "metadata": {
    "deletable": false,
    "editable": false,
    "tags": []
   },
   "source": [
    "**Zadatak 2**\n",
    "\n",
    "Zadana su tri rječnika o proizvodima: Proizvodi, Svjetiljke i Stolovi:"
   ]
  },
  {
   "cell_type": "code",
   "execution_count": 3,
   "id": "bf356843-e2dd-4cf8-b570-ccb18f8fd8b4",
   "metadata": {},
   "outputs": [],
   "source": [
    "stolovi_rjecnik = {\n",
    "    '0186': ['stol Jack', 700.00, True, 'smeđa', 'drvo', 4],\n",
    "    '0203': ['stol Kathy', 880.00, True, 'smeđa', 'staklo', 3],\n",
    "    '1234': ['stol Tomy', 1250.00, True, 'bijela', 'staklo', 4],\n",
    "    '4002': ['stol Ohm', 940.00, True, 'crna', 'metal', 1],\n",
    "    '0923': ['stol Heda', 940.00, False, 'crna', 'drvo', 1],\n",
    "    '1773': ['stol Lucas', 940.00, True, 'crna', 'drvo', 4]\n",
    "}\n",
    "\n",
    "svjetiljke_rjecnik = {\n",
    "    '0001': ['svjetiljka Zadar', 1200.00, True, 'zlatna', 'zlato', 'zarulja'],\n",
    "    '0002': ['svjetiljka Zagreb', 2800.00, True, 'plava', 'staklo', 'zarulja'],\n",
    "    '0003': ['svjetiljka Dubrava', 800.00, False, 'zelena', 'srebro', 'bez'],\n",
    "    '0004': ['svjetiljka Rijeka', 400.00, False, 'roza', 'zlato', 'bez'],\n",
    "    '0005': ['svjetiljka Dubrovnik', 5400.00, True, 'magenta', 'platina', 'zarulja'],\n",
    "    '0006': ['svjetiljka Madrid', 55950.00, True, 'crvena', 'platina', 'bez']\n",
    "}\n",
    "\n",
    "tepisi_rjecnik = {\n",
    "    '0007': ['tepih Melita', 8000.00, True, 'zlatna', 'pamuk', 'okrugao'],\n",
    "    '0008': ['tepih Lana', 7200.00, True, 'plava', 'svila', 'pravokutni'],\n",
    "    '0009': ['tepih Sanja', 480.00, False, 'zelena', 'pamuk', 'okrugao'],\n",
    "    '0010': ['tepih Emina', 525.00, False, 'roza', 'plastika', 'pravokutni'],\n",
    "    '0011': ['tepih Laura', 320.00, True, 'magenta', 'plastika', 'okrugao'],\n",
    "    '0012': ['tepih Tea', 12524.00, True, 'crvena', 'svila', 'pravokutni']\n",
    "}\n"
   ]
  },
  {
   "attachments": {},
   "cell_type": "markdown",
   "id": "05e71baa-2874-4b32-9c96-2bec51008814",
   "metadata": {
    "deletable": false,
    "editable": false,
    "tags": []
   },
   "source": [
    "2.1. Izradite klasu **Proizvod** te tri klase **Stol**, **Svjetiljka** i **Tepih** koje nasljeđuju klasu Proizvod. (predložena svojstva: šifra, cijena, raspoloživost, boja, dimenzije, materijal, oblik, žarulja….)"
   ]
  },
  {
   "cell_type": "code",
   "execution_count": null,
   "id": "45eaaaf5-0534-4d3f-8a5c-62466df66bf7",
   "metadata": {},
   "outputs": [],
   "source": [
    "class Product:\n",
    "    def __init__(self, code, price, availability, color, material, dimensions):\n",
    "        self.code = code\n",
    "        self.price = price\n",
    "        self.availability = availability\n",
    "        self.color = color\n",
    "        self.material = material\n",
    "        self.dimensions = dimensions\n",
    "        \n",
    "class Table(Product):\n",
    "    def __init__(self, code, price, availability, color, material, dimensions, legs):\n",
    "        super().__init__(code, price, availability, color, material, dimensions)\n",
    "        self.legs = legs\n",
    "        \n",
    "class Lamp(Product):\n",
    "    def __init__(self, code, price, availability, color, material, dimensions, bulb):\n",
    "        super().__init__(code, price, availability, color, material, dimensions)\n",
    "        self.bulb = bulb\n",
    "        \n",
    "class Carpet(Product):\n",
    "    def __init__(self, code, price, availability, color, material, dimensions, shape):\n",
    "        super().__init__(code, price, availability, color, material, dimensions)\n",
    "        self.shape = shape"
   ]
  },
  {
   "attachments": {},
   "cell_type": "markdown",
   "id": "49ebda0a",
   "metadata": {
    "deletable": false,
    "editable": false,
    "tags": []
   },
   "source": [
    "2.2. Od pripremljenih rječnika s podacima izradite objekte za sve elemente."
   ]
  },
  {
   "cell_type": "code",
   "execution_count": null,
   "id": "481a1927-3bb4-4fa4-a5cc-a3a9e81e36ef",
   "metadata": {},
   "outputs": [],
   "source": [
    "# Primjeri upotrebe\n",
    "table = Table('0186', 700.00, True, 'smeđa', 'drvo', 4, 4)\n",
    "lamp = Lamp('0001', 1200.00, True, 'zlatna', 'zlato', 'zarulja', 'zarulja')\n",
    "carpet = Carpet('0007', 8000.00, True, 'zlatna', 'pamuk', 'okrugao', 'okrugao')\n",
    "\n",
    "\n",
    "# Ispis primjera upotrebe\n",
    "print(\"Primjer korištenja klase Stol:\")\n",
    "print(f\"Šifra: {table.code}\")\n",
    "print(f\"Cijena: {table.price}\")\n",
    "print(f\"Raspoloživost: {table.availability}\")\n",
    "print(f\"Boja: {table.color}\")\n",
    "print(f\"Materijal: {table.material}\")\n",
    "print(f\"Dimenzije: {table.dimensions}\")\n",
    "print(f\"Broj nogu: {table.legs}\\n\")\n",
    "\n",
    "print(\"Primjer korištenja klase Svjetiljka:\")\n",
    "print(f\"Šifra: {lamp.code}\")\n",
    "print(f\"Cijena: {lamp.price}\")\n",
    "print(f\"Raspoloživost: {lamp.availability}\")\n",
    "print(f\"Boja: {lamp.color}\")\n",
    "print(f\"Materijal: {lamp.material}\")\n",
    "print(f\"Dimenzije: {lamp.dimensions}\")\n",
    "print(f\"Vrsta žarulje: {lamp.bulb}\\n\")\n",
    "\n",
    "print(\"Primjer korištenja klase Tepih:\")\n",
    "print(f\"Šifra: {carpet.code}\")\n",
    "print(f\"Cijena: {carpet.price}\")\n",
    "print(f\"Raspoloživost: {carpet.availability}\")\n",
    "print(f\"Boja: {carpet.color}\")\n",
    "print(f\"Materijal: {carpet.material}\")\n",
    "print(f\"Dimenzije: {carpet.dimensions}\")\n",
    "print(f\"Oblik: {carpet.shape}\")"
   ]
  },
  {
   "attachments": {},
   "cell_type": "markdown",
   "id": "eb6c17f5",
   "metadata": {
    "deletable": false,
    "editable": false,
    "tags": []
   },
   "source": [
    "2.3. Napišite metode za pronalazak i ispis:\n",
    "\n",
    "- svjetiljke sa žaruljom\n",
    "- drveni stolovi\n",
    "- okrugli tepisi\n",
    "- proizvodi s cijenom ispod 1000 kn\n",
    "- raspoložive proizvode\n",
    "- ukupnu cijenu svih svjetiljki\n",
    " "
   ]
  },
  {
   "cell_type": "code",
   "execution_count": null,
   "id": "f8c3de1c-b557-456d-b44e-58e09ed14042",
   "metadata": {},
   "outputs": [],
   "source": [
    "class Product:\n",
    "    def init(self, code, price, availability, color, dimensions, material):\n",
    "        self.code = code\n",
    "        self.price = price\n",
    "        self.availability = availability\n",
    "        self.color = color\n",
    "        self.dimensions = dimensions\n",
    "        self.material = material\n",
    "\n",
    "class Table(Product):\n",
    "    def init(self, code, price, availability, color, dimensions, material, legs):\n",
    "        super().init(code, price, availability, color, dimensions, material)\n",
    "        self.legs = legs\n",
    "\n",
    "class Lamp(Product):\n",
    "    def init(self, code, price, availability, color, dimensions, material, bulb):\n",
    "        super().init(code, price, availability, color, dimensions, material)\n",
    "        self.bulb = bulb\n",
    "\n",
    "class Carpet(Product):\n",
    "    def init(self, code, price, availability, color, dimensions, material, shape):\n",
    "        super().init(code, price, availability, color, dimensions, material)\n",
    "        self.shape = shape\n",
    "\n",
    "class Shop:\n",
    "    def init(self, tables_dict, lamps_dict, carpets_dict):\n",
    "        self.tables_dict = tables_dict\n",
    "        self.lamps_dict = lamps_dict\n",
    "        self.carpets_dict = carpets_dict\n",
    "        \n",
    "    def lamps_with_bulbs(self):\n",
    "        lamps_with_bulbs = []\n",
    "        for lamp in self.lamps_dict.values():\n",
    "            if lamp.bulb != 'bez':\n",
    "                lamps_with_bulbs.append(lamp)\n",
    "        return lamps_with_bulbs\n",
    "\n",
    "    def wooden_tables(self):\n",
    "        wooden_tables = []\n",
    "        for table in self.tables_dict.values():\n",
    "            if table.material == 'drvo':\n",
    "                wooden_tables.append(table)\n",
    "        return wooden_tables\n",
    "\n",
    "    def round_carpets(self):\n",
    "        round_carpets = []\n",
    "        for carpet in self.carpets_dict.values():\n",
    "            if carpet.shape == 'okrugao':\n",
    "                round_carpets.append(carpet)\n",
    "        return round_carpets\n",
    "\n",
    "    def products_under_1000(self):\n",
    "        products_under_1000 = []\n",
    "        for product in self.tables_dict.values():\n",
    "            if product.price < 1000 and product.availability:\n",
    "                products_under_1000.append(product)\n",
    "        for product in self.lamps_dict.values():\n",
    "            if product.price < 1000 and product.availability:\n",
    "                products_under_1000.append(product)\n",
    "        for product in self.carpets_dict.values():\n",
    "            if product.price < 1000 and product.availability:\n",
    "                products_under_1000.append(product)\n",
    "        return products_under_1000\n",
    "\n",
    "    def available_products(self):\n",
    "        available_products = []\n",
    "        for product in self.tables_dict.values():\n",
    "            if product.availability:\n",
    "                available_products.append(product)\n",
    "        for product in self.lamps_dict.values():\n",
    "            if product.availability:\n",
    "                available_products.append(product)\n",
    "        for product in self.carpets_dict.values():\n",
    "            if product.availability:\n",
    "                available_products.append(product)\n",
    "        return available_products\n",
    "\n",
    "    def total_lamp_price(self):\n",
    "        total_price = 0\n",
    "        for lamp in self.lamps_dict.values():\n",
    "            if lamp.availability:\n",
    "                total_price += lamp.price\n",
    "        return total_price"
   ]
  },
  {
   "attachments": {},
   "cell_type": "markdown",
   "id": "9945336a-b0ba-4dd3-997c-0c641daa7231",
   "metadata": {
    "deletable": false,
    "editable": false,
    "tags": []
   },
   "source": [
    "**Zadatak 3**\n",
    "\n",
    "Napravite razred Film koji sadrži atribute ime filma, žanr i godinu izlaska filma. Upišite tri različita filma kao objekte ovog razreda te ispišite njihove atribute."
   ]
  },
  {
   "cell_type": "code",
   "execution_count": null,
   "id": "383a5f9f-7827-4ac7-9141-d49bcbfe7f0d",
   "metadata": {},
   "outputs": [],
   "source": [
    "class Film:\n",
    "    def __init__(self, ime_filma, zanr, godina_izlaska):\n",
    "        self.ime_filma = ime_filma\n",
    "        self.zanr = zanr\n",
    "        self.godina_izlaska = godina_izlaska\n",
    "        \n",
    "        \n",
    "film1 = Film(\"The Godfather\", \"drama\", 1972)\n",
    "film2 = Film(\"The Shawshank Redemption\", \"drama\", 1994)\n",
    "film3 = Film(\"The Dark Knight\", \"akcija\", 2008)\n",
    "\n",
    "\n",
    "# Ispis atribute svakog filma\n",
    "print(f\"Ime filma: {film1.ime_filma}, Žanr: {film1.zanr}, Godina izlaska: {film1.godina_izlaska}\")\n",
    "print(f\"Ime filma: {film2.ime_filma}, Žanr: {film2.zanr}, Godina izlaska: {film2.godina_izlaska}\")\n",
    "print(f\"Ime filma: {film3.ime_filma}, Žanr: {film3.zanr}, Godina izlaska: {film3.godina_izlaska}\")"
   ]
  },
  {
   "attachments": {},
   "cell_type": "markdown",
   "id": "f8d8b85d-10b4-4fbc-ba2c-a9bb9487110f",
   "metadata": {
    "deletable": false,
    "editable": false,
    "tags": []
   },
   "source": [
    "**Zadatak 4**\n",
    "\n",
    "Napravite razred Glumac koji sadrži atribute ime, prezime, godinu rođenja i popis filmova u kojima je glumio. Upišite tri različita glumca kao objekte ovog razreda te ispišite njihove atribute."
   ]
  },
  {
   "cell_type": "code",
   "execution_count": null,
   "id": "b96dfb14-f87f-4d9d-9d90-b760215761ff",
   "metadata": {},
   "outputs": [],
   "source": [
    "class Actor:\n",
    "    def __init__(self, first_name, last_name, birth_year, movies):\n",
    "        self.first_name = first_name\n",
    "        self.last_name = last_name\n",
    "        self.birth_year = birth_year\n",
    "        self.movies = movies\n",
    "\n",
    "        \n",
    "actor1 = Actor(\"Tom\", \"Hanks\", 1956, [\"Forrest Gump\", \"Saving Private Ryan\", \"Cast Away\"])\n",
    "actor2 = Actor(\"Meryl\", \"Streep\", 1949, [\"The Devil Wears Prada\", \"Mamma Mia!\", \"Sophie's Choice\"])\n",
    "actor3 = Actor(\"Leonardo\", \"DiCaprio\", 1974, [\"Titanic\", \"The Wolf of Wall Street\", \"Inception\"])\n",
    "\n",
    "\n",
    "# ispis atributa prvog glumca\n",
    "print(\"Ime glumca:\", actor1.first_name)\n",
    "print(\"Prezime glumca:\", actor1.last_name)\n",
    "print(\"Godina rođenja glumca:\", actor1.birth_year)\n",
    "print(\"Filmovi u kojima je glumio:\", actor1.movies)\n",
    "\n",
    "\n",
    "# ispis atributa drugog glumca\n",
    "print(\"Ime glumice:\", actor2.first_name)\n",
    "print(\"Prezime glumice:\", actor2.last_name)\n",
    "print(\"Godina rođenja glumice:\", actor2.birth_year)\n",
    "print(\"Filmovi u kojima je glumila:\", actor2.movies)\n",
    "\n",
    "\n",
    "# ispis atributa trećeg glumca\n",
    "print(\"Ime glumca:\", actor3.first_name)\n",
    "print(\"Prezime glumca:\", actor3.last_name)\n",
    "print(\"Godina rođenja glumca:\", actor3.birth_year)\n",
    "print(\"Filmovi u kojima je glumio:\", actor3.movies)"
   ]
  },
  {
   "attachments": {},
   "cell_type": "markdown",
   "id": "d8e5087f-f14a-4ec7-bcc2-858d5637af3d",
   "metadata": {
    "deletable": false,
    "editable": false,
    "tags": []
   },
   "source": [
    "**Zadatak 5**\n",
    "\n",
    "Napravite razred Kino koji sadrži atribute naziv kina, adresu i popis filmova koji se prikazuju u kinu. Dodajte metodu dodaj_film koja omogućava dodavanje novog filma u popis filmova u kinu. Upišite dva različita kina kao objekte ovog razreda te dodajte po tri različita filma u svako kino."
   ]
  },
  {
   "cell_type": "code",
   "execution_count": null,
   "id": "0888ee1c-ccda-4603-a180-57f984c49e2d",
   "metadata": {},
   "outputs": [],
   "source": [
    "class Cinema:\n",
    "    def __init__(self, name, address):\n",
    "        self.name = name\n",
    "        self.address = address\n",
    "        self.movies = []\n",
    "\n",
    "    def add_movie(self, movie):\n",
    "        self.movies.append(movie)\n",
    "\n",
    "cinema1 = Cinema(\"Kaptol Boutique Cinema\", \"Nova Ves 17, 10000 Zagreb\")\n",
    "cinema1.add_movie(\"Avengers: Endgame\")\n",
    "cinema1.add_movie(\"Joker\")\n",
    "cinema1.add_movie(\"The Irishman\")\n",
    "\n",
    "cinema2 = Cinema(\"Cineplexx Zagreb East\", \"Avenija Dubrava 240, 10040 Zagreb\")\n",
    "cinema2.add_movie(\"Fast & Furious 9\")\n",
    "cinema2.add_movie(\"A Quiet Place Part II\")\n",
    "cinema2.add_movie(\"Cruella\")\n",
    "\n",
    "print(f\"{cinema1.name} ({cinema1.address}) prikazuje sljedeće filmove:\")\n",
    "for movie in cinema1.movies:\n",
    "    print(\"- \" + movie)\n",
    "print()\n",
    "\n",
    "print(f\"{cinema2.name} ({cinema2.address}) prikazuje sljedeće filmove:\")\n",
    "for movie in cinema2.movies:\n",
    "    print(\"- \" + movie)"
   ]
  },
  {
   "attachments": {},
   "cell_type": "markdown",
   "id": "1d5304fd-7135-476f-81d3-f0f2b1caebc9",
   "metadata": {
    "deletable": false,
    "editable": false,
    "tags": []
   },
   "source": [
    "**Zadatak 6**\n",
    "\n",
    "Napravite razred Projekcija koji sadrži atribute film, vrijeme početka i dvoranu u kojoj se film prikazuje. Upišite tri različite projekcije kao objekte ovog razreda te ispišite njihove atribute."
   ]
  },
  {
   "cell_type": "code",
   "execution_count": null,
   "id": "7e6ac6a8-36c7-43fc-972a-bfcc828963e0",
   "metadata": {},
   "outputs": [],
   "source": [
    "class Projection:\n",
    "    def __init__(self, film, start_time, hall):\n",
    "        self.film = film\n",
    "        self.start_time = start_time\n",
    "        self.hall = hall\n",
    "\n",
    "proj1 = Projection(\"Jurassic Park\", \"18:00\", \"Dvorana 1\")\n",
    "proj2 = Projection(\"The Godfather\", \"20:30\", \"Dvorana 2\")\n",
    "proj3 = Projection(\"Pulp Fiction\", \"22:00\", \"Dvorana 3\")\n",
    "\n",
    "print(\"Projekcija 1:\")\n",
    "print(\"Film:\", proj1.film)\n",
    "print(\"Vrijeme početka:\", proj1.start_time)\n",
    "print(\"Dvorana:\", proj1.hall)\n",
    "\n",
    "print(\"Projekcija 2:\")\n",
    "print(\"Film:\", proj2.film)\n",
    "print(\"Vrijeme početka:\", proj2.start_time)\n",
    "print(\"Dvorana:\", proj2.hall)\n",
    "\n",
    "print(\"Projekcija 3:\")\n",
    "print(\"Film:\", proj3.film)\n",
    "print(\"Vrijeme početka:\", proj3.start_time)\n",
    "print(\"Dvorana:\", proj3.hall)"
   ]
  },
  {
   "attachments": {},
   "cell_type": "markdown",
   "id": "3e3ee42a-2bf4-4982-93c4-60429a97d750",
   "metadata": {
    "deletable": false,
    "editable": false,
    "tags": []
   },
   "source": [
    "**Zadatak 7**\n",
    "\n",
    "Napravite razred Statistika koji sadrži atribute poput ukupnog broja filmova, broja filmova po žanrovima, najuspješnijih glumaca po broju filmova i slično. Dodajte metode za izračunavanje ovih atributa te ispišite njihove vrijednosti za zadani skup filmova."
   ]
  },
  {
   "cell_type": "code",
   "execution_count": null,
   "id": "45fa76e5-0e27-4350-a2c9-f59701668b46",
   "metadata": {},
   "outputs": [],
   "source": [
    "class Statistics:\n",
    "    def __init__(self, films):\n",
    "        self.films = films\n",
    "\n",
    "    def total_number_of_movies(self):\n",
    "        return len(self.films)\n",
    "\n",
    "    def number_of_movies_by_genre(self):\n",
    "        genre_counts = {}\n",
    "        for film in self.films:\n",
    "            if film.genre not in genre_counts:\n",
    "                genre_counts[film.genre] = 1\n",
    "            else:\n",
    "                genre_counts[film.genre] += 1\n",
    "        return genre_counts\n",
    "\n",
    "    def most_successful_actors(self):\n",
    "        actor_counts = {}\n",
    "        for film in self.films:\n",
    "            for actor in film.actors:\n",
    "                if actor not in actor_counts:\n",
    "                    actor_counts[actor] = 1\n",
    "                else:\n",
    "                    actor_counts[actor] += 1\n",
    "        sorted_actors = sorted(actor_counts.items(), key=lambda x: x[1], reverse=True)\n",
    "        return sorted_actors[:3]\n",
    "\n",
    "    \n",
    "# Primjer upotrebe\n",
    "films = [film1, film2, film3] # pretpostavljamo da postoje objekti razreda Film\n",
    "stats = Statistics(films)\n",
    "\n",
    "\n",
    "print(\"Ukupan broj filmova: \", stats.total_number_of_movies())\n",
    "print(\"Broj filmova po žanrovima: \", stats.number_of_movies_by_genre())\n",
    "print(\"Najuspješniji glumci: \", stats.most_successful_actors())"
   ]
  },
  {
   "attachments": {},
   "cell_type": "markdown",
   "id": "3851c0c4-11bb-4026-853f-f28b6204e0ca",
   "metadata": {
    "deletable": false,
    "editable": false,
    "tags": []
   },
   "source": [
    "### Moduli i paketi <a class=\"anchor\" id=\"modul3-moduli\"></a>\n",
    "\n",
    "Moduli i paketi pridonose optimizaciji programskog koda na način da se **jedan (veliki) programski kod (Python datoteka) razdijeli u više datoteka** koje se zovu moduli. Također, prilikom timskog rada, svaki član može raditi na jednom modulu koji se kasnije jednostavno uključuje u aplikaciju i poziva u glavnom programu. Najčešće se u zasebne datoteke izdvajaju slične funkcionalnosti. Primjerice, sve funkcionalnosti vezane za rad s datotekama su u jednoj datoteci, sve funkcionalnosti vezane uz rad s proizvodima neke tvrtke su u drugoj i slično - ovisno o namjeni aplikacije.\n"
   ]
  },
  {
   "attachments": {},
   "cell_type": "markdown",
   "id": "aa6a1c90-f063-4897-a540-d388aa0d46b7",
   "metadata": {
    "deletable": false,
    "editable": false,
    "tags": []
   },
   "source": [
    "Po definiciji, modul predstavlja **svaku .py datoteku s programskim kôdom**. Dok bi paket bio jedna mapa u kojoj je jedna ili više .py datoteka s programskim kôdom te obvezno s jednom \\__init__.py datotekom. Ova \\__init__.py datoteka je važna jer omogućava jednostavniji import klasa, metoda i funkcija iz Paketa. Ta datoteka može biti i prazna (tada nema spomenutih funkcionalnosti), ali svakako mora biti u mapi kako bi Python tu mapu s .py datotekama prepoznao kao paket.\n"
   ]
  },
  {
   "attachments": {},
   "cell_type": "markdown",
   "id": "ab7c03a2-005c-463e-a904-cff0c1aa4d96",
   "metadata": {
    "deletable": false,
    "editable": false,
    "tags": []
   },
   "source": [
    "#### Zadaci"
   ]
  },
  {
   "attachments": {},
   "cell_type": "markdown",
   "id": "2792b17e-95b6-46e7-8c63-3ad0e83c8d05",
   "metadata": {
    "deletable": false,
    "editable": false,
    "tags": []
   },
   "source": [
    "**Zadatak 1**\n",
    "\n",
    "Kreirajte modul koji uključuje funkciju za čitanje JSON datoteke koja sadrži informacije o filmovima, kao što su naslov, godina i redatelj. Upotrijebite biblioteku zahtjeva za dobivanje podataka iz API-ja poput IMDb."
   ]
  },
  {
   "cell_type": "code",
   "execution_count": null,
   "id": "6ab58fe0-76de-4b6d-9ef4-c6492512e0fe",
   "metadata": {},
   "outputs": [],
   "source": [
    "import requests\n",
    "import json\n",
    "\n",
    "def read_movie_data(file_path):\n",
    "    with open(file_path, 'r') as file:\n",
    "        movie_data = json.load(file)\n",
    "    return movie_data\n",
    "\n",
    "def get_movie_info(movie_title):\n",
    "    api_url = f'http://www.omdbapi.com/?t={movie_title}&apikey=YOUR_API_KEY'\n",
    "    response = requests.get(api_url)\n",
    "    if response.status_code == 200:\n",
    "        movie_info = response.json()\n",
    "        return movie_info\n",
    "    else:\n",
    "        return None\n",
    "\n",
    "\n",
    "# Primjer korištenja funkcija\n",
    "\n",
    "# Čitanje podataka o filmovima iz JSON datoteke\n",
    "movie_data = read_movie_data('movies.json')\n",
    "\n",
    "# Dohvaćanje informacija o filmu \"The Shawshank Redemption\" iz IMDb API-ja\n",
    "movie_info = get_movie_info('The Shawshank Redemption')\n",
    "\n",
    "if movie_info:\n",
    "    # Ispis informacija o filmu\n",
    "    print(f\"Naslov filma: {movie_info['Title']}\")\n",
    "    print(f\"Godina: {movie_info['Year']}\")\n",
    "    print(f\"Redatelj: {movie_info['Director']}\")\n",
    "else:\n",
    "    print(\"Nije moguće dohvatiti informacije o filmu.\")"
   ]
  },
  {
   "attachments": {},
   "cell_type": "markdown",
   "id": "8574fa77-0b78-442f-a468-12506e293e37",
   "metadata": {
    "deletable": false,
    "editable": false,
    "tags": []
   },
   "source": [
    "**Zadatak 2**\n",
    "\n",
    "Kreirajte modul koji uključuje klasu za predstavljanje filma, s atributima kao što su naslov, godina, redatelj i ocjena. Upotrijebite funkcije za rukovanje datotekama u Pythonu za čitanje i pisanje informacija o filmu u tekstualnu datoteku."
   ]
  },
  {
   "cell_type": "code",
   "execution_count": null,
   "id": "06180295-b941-4132-b11c-3669c6932d8b",
   "metadata": {},
   "outputs": [],
   "source": [
    "# datoteka movie.py\n",
    "\n",
    "class Movie:\n",
    "    def __init__(self, title, year, director, rating):\n",
    "        self.title = title\n",
    "        self.year = year\n",
    "        self.director = director\n",
    "        self.rating = rating\n",
    "\n",
    "    def display_info(self):\n",
    "        print(f\"Naslov filma: {self.title}\")\n",
    "        print(f\"Godina: {self.year}\")\n",
    "        print(f\"Redatelj: {self.director}\")\n",
    "        print(f\"Ocjena: {self.rating}\")\n",
    "\n",
    "    @staticmethod\n",
    "    def save_to_file(movie, file):\n",
    "        with open(file, 'w') as f:\n",
    "            f.write(f\"Naslov: {movie.title}\\n\")\n",
    "            f.write(f\"Godina: {movie.year}\\n\")\n",
    "            f.write(f\"Redatelj: {movie.director}\\n\")\n",
    "            f.write(f\"Ocjena: {movie.rating}\\n\")\n",
    "\n",
    "    @staticmethod\n",
    "    def load_from_file(file):\n",
    "        with open(file, 'r') as f:\n",
    "            title = f.readline().strip().split(': ')[1]\n",
    "            year = f.readline().strip().split(': ')[1]\n",
    "            director = f.readline().strip().split(': ')[1]\n",
    "            rating = f.readline().strip().split(': ')[1]\n",
    "            return Movie(title, year, director, rating)\n",
    "\n",
    "\n",
    "# Primjer korištenja klase i funkcija\n",
    "\n",
    "# Stvaranje objekta filma\n",
    "film = Movie(\"The Shawshank Redemption\", 1994, \"Frank Darabont\", 9.3)\n",
    "\n",
    "# Prikaz informacija o filmu\n",
    "film.display_info()\n",
    "\n",
    "# Spremanje informacija o filmu u datoteku\n",
    "Movie.save_to_file(film, \"film.txt\")\n",
    "\n",
    "# Učitavanje informacija o filmu iz datoteke\n",
    "ucitani_film = Movie.load_from_file(\"film.txt\")\n",
    "ucitani_film.display_info()\n",
    "\n",
    "\n",
    "# datoteka main.py\n",
    "from movie import Movie\n",
    "\n",
    "def main():\n",
    "    # Stvaranje objekta filma\n",
    "    film = Movie(\"The Shawshank Redemption\", 1994, \"Frank Darabont\", 9.3)\n",
    "\n",
    "    # Prikaz informacija o filmu\n",
    "    film.display_info()\n",
    "\n",
    "    # Spremanje informacija o filmu u datoteku\n",
    "    Movie.save_to_file(film, \"film.txt\")\n",
    "\n",
    "    # Učitavanje informacija o filmu iz datoteke\n",
    "    ucitani_film = Movie.load_from_file(\"film.txt\")\n",
    "    ucitani_film.display_info()\n",
    "\n",
    "if __name__ == \"__main__\":\n",
    "    main()"
   ]
  },
  {
   "attachments": {},
   "cell_type": "markdown",
   "id": "a2f8a38b-892f-4097-acdb-c2d46183603f",
   "metadata": {
    "deletable": false,
    "editable": false,
    "tags": []
   },
   "source": [
    "**Zadatak 3**\n",
    "\n",
    "Kreirajte modul koji uključuje funkciju za dohvaćanje informacija o filmu iz API-ja poput IMDb i funkciju za pisanje informacija u CSV datoteku."
   ]
  },
  {
   "cell_type": "code",
   "execution_count": null,
   "id": "3ecc032f-10ef-4535-8709-10f339409e74",
   "metadata": {},
   "outputs": [],
   "source": [
    "# datoteka film_api.py\n",
    "\n",
    "import requests\n",
    "import csv\n",
    "\n",
    "def get_movie_info(movie_title):\n",
    "    # Dohvaćanje informacija o filmu iz API-ja\n",
    "    url = f\"https://api.example.com/movies/{movie_title}\"\n",
    "    response = requests.get(url)\n",
    "\n",
    "    if response.status_code == 200:\n",
    "        movie_info = response.json()\n",
    "        return movie_info\n",
    "    else:\n",
    "        return None\n",
    "\n",
    "def write_to_csv(movie_info, filename):\n",
    "    # Pisanje informacija o filmu u CSV datoteku\n",
    "    with open(filename, mode='w', newline='') as file:\n",
    "        writer = csv.writer(file)\n",
    "        writer.writerow(['Title', 'Year', 'Director', 'Rating'])\n",
    "        writer.writerow([movie_info['title'], movie_info['year'], movie_info['director'], movie_info['rating']])\n",
    "\n",
    "        \n",
    "        \n",
    "# datoteka main.py\n",
    "from film_api import get_movie_info, write_to_csv\n",
    "\n",
    "def main():\n",
    "    # Unos naziva filma od korisnika\n",
    "    film_naziv = input(\"Unesite naziv filma: \")\n",
    "\n",
    "    # Dohvaćanje informacija o filmu iz API-ja\n",
    "    movie_info = get_movie_info(film_naziv)\n",
    "\n",
    "    if movie_info:\n",
    "        # Ispis informacija o filmu\n",
    "        print(\"Informacije o filmu:\")\n",
    "        print(f\"Naslov: {movie_info['title']}\")\n",
    "        print(f\"Godina: {movie_info['year']}\")\n",
    "        print(f\"Redatelj: {movie_info['director']}\")\n",
    "        print(f\"Ocjena: {movie_info['rating']}\")\n",
    "\n",
    "        # Pisanje informacija o filmu u CSV datoteku\n",
    "        write_to_csv(movie_info, \"filmovi.csv\")\n",
    "        print(\"Informacije su zapisane u datoteku 'filmovi.csv'.\")\n",
    "    else:\n",
    "        print(\"Nije moguće pronaći informacije o filmu.\")\n",
    "\n",
    "if __name__ == \"__main__\":\n",
    "    main()"
   ]
  },
  {
   "attachments": {},
   "cell_type": "markdown",
   "id": "b746bf22-7943-466a-97e9-f2629f1fd177",
   "metadata": {
    "deletable": false,
    "editable": false,
    "tags": []
   },
   "source": [
    "**Zadatak 4**\n",
    "\n",
    "Kreirajte modul koji uključuje klasu za predstavljanje baze podataka filmova s metodama za dodavanje, uklanjanje i ažuriranje informacija o filmu. Upotrijebite SQLite za spremanje podataka."
   ]
  },
  {
   "cell_type": "code",
   "execution_count": null,
   "id": "e8ec9212-20df-4844-b921-24d418d9bcab",
   "metadata": {},
   "outputs": [],
   "source": [
    "# film_database.py\n",
    "\n",
    "import sqlite3\n",
    "\n",
    "class FilmDatabase:\n",
    "    def __init__(self, db_file):\n",
    "        # Povezivanje s bazom podataka\n",
    "        self.conn = sqlite3.connect(db_file)\n",
    "        self.cursor = self.conn.cursor()\n",
    "\n",
    "        # Kreiranje tablice \"filmovi\" ako ne postoji\n",
    "        self.cursor.execute(\"\"\"\n",
    "            CREATE TABLE IF NOT EXISTS filmovi (\n",
    "                id INTEGER PRIMARY KEY AUTOINCREMENT,\n",
    "                naslov TEXT,\n",
    "                godina INTEGER,\n",
    "                redatelj TEXT\n",
    "            )\n",
    "        \"\"\")\n",
    "        self.conn.commit()\n",
    "\n",
    "    def dodaj_film(self, naslov, godina, redatelj):\n",
    "        # Dodavanje novog filma u bazu podataka\n",
    "        self.cursor.execute(\"\"\"\n",
    "            INSERT INTO filmovi (naslov, godina, redatelj)\n",
    "            VALUES (?, ?, ?)\n",
    "        \"\"\", (naslov, godina, redatelj))\n",
    "        self.conn.commit()\n",
    "        return self.cursor.lastrowid\n",
    "\n",
    "    def ukloni_film(self, film_id):\n",
    "        # Uklanjanje filma iz baze podataka\n",
    "        self.cursor.execute(\"\"\"\n",
    "            DELETE FROM filmovi\n",
    "            WHERE id = ?\n",
    "        \"\"\", (film_id,))\n",
    "        self.conn.commit()\n",
    "\n",
    "    def azuriraj_film(self, film_id, naslov, godina, redatelj):\n",
    "        # Ažuriranje informacija o filmu u bazi podataka\n",
    "        self.cursor.execute(\"\"\"\n",
    "            UPDATE filmovi\n",
    "            SET naslov = ?, godina = ?, redatelj = ?\n",
    "            WHERE id = ?\n",
    "        \"\"\", (naslov, godina, redatelj, film_id))\n",
    "        self.conn.commit()\n",
    "\n",
    "    def zatvori_bazu(self):\n",
    "        # Zatvaranje veze s bazom podataka\n",
    "        self.conn.close()\n",
    "\n",
    "        \n",
    "        \n",
    "        \n",
    "# datoteka main.py\n",
    "from film_database import FilmDatabase\n",
    "\n",
    "def main():\n",
    "    # Stvaranje instance baze podataka\n",
    "    db = FilmDatabase(\"filmovi.db\")\n",
    "\n",
    "    while True:\n",
    "        # Ispis opcija\n",
    "        print(\"Odaberite opciju:\")\n",
    "        print(\"1. Dodaj film\")\n",
    "        print(\"2. Ažuriraj film\")\n",
    "        print(\"3. Ukloni film\")\n",
    "        print(\"4. Prikaz svih filmova\")\n",
    "        print(\"5. Izlaz\")\n",
    "\n",
    "        opcija = input(\"Unesite broj opcije: \")\n",
    "\n",
    "        if opcija == \"1\":\n",
    "            # Unos informacija o filmu\n",
    "            naslov = input(\"Unesite naslov filma: \")\n",
    "            godina = input(\"Unesite godinu filma: \")\n",
    "            redatelj = input(\"Unesite ime redatelja: \")\n",
    "            ocjena = input(\"Unesite ocjenu filma: \")\n",
    "\n",
    "            # Dodavanje filma u bazu podataka\n",
    "            db.dodaj_film(naslov, godina, redatelj, ocjena)\n",
    "            print(\"Film je dodan u bazu podataka.\")\n",
    "\n",
    "        elif opcija == \"2\":\n",
    "            # Unos ID-a filma za ažuriranje\n",
    "            film_id = input(\"Unesite ID filma koji želite ažurirati: \")\n",
    "\n",
    "            # Provjera postojanja filma u bazi podataka\n",
    "            if db.provjeri_film(film_id):\n",
    "                # Unos novih informacija o filmu\n",
    "                naslov = input(\"Unesite novi naslov filma: \")\n",
    "                godina = input(\"Unesite novu godinu filma: \")\n",
    "                redatelj = input(\"Unesite novo ime redatelja: \")\n",
    "                ocjena = input(\"Unesite novu ocjenu filma: \")\n",
    "\n",
    "                # Ažuriranje filma u bazi podataka\n",
    "                db.azuriraj_film(film_id, naslov, godina, redatelj, ocjena)\n",
    "                print(\"Film je ažuriran.\")\n",
    "\n",
    "            else:\n",
    "                print(\"Film s unesenim ID-om ne postoji.\")\n",
    "\n",
    "        elif opcija == \"3\":\n",
    "            # Unos ID-a filma za uklanjanje\n",
    "            film_id = input(\"Unesite ID filma koji želite ukloniti: \")\n",
    "\n",
    "            # Uklanjanje filma iz baze podataka\n",
    "            db.ukloni_film(film_id)\n",
    "            print(\"Film je uklonjen iz baze podataka.\")\n",
    "\n",
    "        elif opcija == \"4\":\n",
    "            # Prikaz svih filmova iz baze podataka\n",
    "            filmovi = db.prikazi_filmove()\n",
    "\n",
    "            if filmovi:\n",
    "                print(\"Popis svih filmova:\")\n",
    "                for film in filmovi:\n",
    "                    print(film)\n",
    "            else:\n",
    "                print(\"Baza podataka je prazna.\")\n",
    "\n",
    "        elif opcija == \"5\":\n",
    "            # Zatvaranje veze s bazom podataka\n",
    "            db.zatvori_bazu()\n",
    "            break\n",
    "\n",
    "        else:\n",
    "            print(\"Neispravna opcija. Molimo odaberite ponovno.\")\n",
    "\n",
    "if __name__ == \"__main__\":\n",
    "    main()"
   ]
  },
  {
   "attachments": {},
   "cell_type": "markdown",
   "id": "2e46ef80-f4e0-4b5d-9585-277853fa2c72",
   "metadata": {
    "deletable": false,
    "editable": false,
    "tags": []
   },
   "source": [
    "**Zadatak 5**\n",
    "\n",
    "Kreirajte modul koji uključuje klasu za predstavljanje kina s metodama za dodavanje, uklanjanje i ažuriranje vremena prikazivanja filmova. Upotrijebite modul datetime u Pythonu za rad s datumima i vremenima."
   ]
  },
  {
   "cell_type": "code",
   "execution_count": null,
   "id": "eafebb0e-2fe3-4682-b563-bcfc9b9bcc6c",
   "metadata": {},
   "outputs": [],
   "source": [
    "# datoteka cinema.py\n",
    "\n",
    "from datetime import datetime\n",
    "\n",
    "class Cinema:\n",
    "    def __init__(self, name, address):\n",
    "        self.name = name\n",
    "        self.address = address\n",
    "        self.showtimes = {}\n",
    "\n",
    "    def add_showtime(self, film, showtime):\n",
    "        if film in self.showtimes:\n",
    "            self.showtimes[film].append(showtime)\n",
    "        else:\n",
    "            self.showtimes[film] = [showtime]\n",
    "\n",
    "        print(f\"Vrijeme prikazivanja filma '{film}' je dodano u kino '{self.name}'.\")\n",
    "\n",
    "    def remove_showtime(self, film, showtime):\n",
    "        if film in self.showtimes and showtime in self.showtimes[film]:\n",
    "            self.showtimes[film].remove(showtime)\n",
    "            print(f\"Vrijeme prikazivanja filma '{film}' je uklonjeno iz kina '{self.name}'.\")\n",
    "        else:\n",
    "            print(f\"Film '{film}' ili vrijeme prikazivanja '{showtime}' nije pronađeno u kinu '{self.name}'.\")\n",
    "\n",
    "    def update_showtime(self, film, old_showtime, new_showtime):\n",
    "        if film in self.showtimes and old_showtime in self.showtimes[film]:\n",
    "            index = self.showtimes[film].index(old_showtime)\n",
    "            self.showtimes[film][index] = new_showtime\n",
    "            print(f\"Vrijeme prikazivanja filma '{film}' je ažurirano u kina '{self.name}'.\")\n",
    "        else:\n",
    "            print(f\"Film '{film}' ili vrijeme prikazivanja '{old_showtime}' nije pronađeno u kinu '{self.name}'.\")\n",
    "\n",
    "    def display_showtimes(self):\n",
    "        if self.showtimes:\n",
    "            print(f\"Vremena prikazivanja u kinu '{self.name}':\")\n",
    "            for film, showtimes in self.showtimes.items():\n",
    "                print(f\"Film: {film}\")\n",
    "                print(\"Vremena:\")\n",
    "                for showtime in showtimes:\n",
    "                    print(showtime.strftime(\"%d.%m.%Y %H:%M\"))\n",
    "                print()\n",
    "        else:\n",
    "            print(f\"U kinu '{self.name}' nema trenutno rasporeda prikazivanja.\")\n",
    "\n",
    "\n",
    "            \n",
    "\n",
    "# main.py\n",
    "from datetime import datetime\n",
    "from cinema import Cinema\n",
    "\n",
    "def main():\n",
    "    kino1 = Cinema(\"Kino 1\", \"Adresa 1\")\n",
    "    kino2 = Cinema(\"Kino 2\", \"Adresa 2\")\n",
    "\n",
    "    kino1.add_showtime(\"Film 1\", datetime(2023, 5, 18, 15, 30))\n",
    "    kino1.add_showtime(\"Film 1\", datetime(2023, 5, 18, 20, 0))\n",
    "    kino1.add_showtime(\"Film 2\", datetime(2023, 5, 18, 18, 0))\n",
    "\n",
    "    kino2.add_showtime(\"Film 3\", datetime(2023, 5, 19, 17, 30))\n",
    "    kino2.add_showtime(\"Film 4\", datetime(2023, 5, 19, 20, 0))\n",
    "    kino2.add_showtime(\"Film 4\", datetime(2023, 5, 19, 22, 30))\n",
    "\n",
    "    kino1.display_showtimes()\n",
    "    kino2.display_showtimes()\n",
    "\n",
    "    kino1.remove_showtime(\"Film 1\", datetime(2023, 5, 18, 15, 30))\n",
    "    kino2.update_showtime(\"Film 4\", datetime(2023, 5, 19, 20, 0), datetime(2023, 5, 19, 21, 0))\n",
    "\n",
    "    kino1.display_showtimes()\n",
    "    kino2.display_showtimes()\n",
    "\n",
    "    \n",
    "if __name__ == \"__main__\":\n",
    "    main()\n"
   ]
  },
  {
   "attachments": {},
   "cell_type": "markdown",
   "id": "8fa48862-fc44-448c-b0eb-a781a207f1fd",
   "metadata": {
    "deletable": false,
    "editable": false,
    "tags": []
   },
   "source": [
    "**Zadatak 6**\n",
    "\n",
    "Kreirajte modul koji uključuje klasu za predstavljanje dućana za iznajmljivanje filmova s metodama za iznajmljivanje i vraćanje filmova, i praćenje informacija o kupcu. Upotrijebite principe objektno orijentiranog programiranja za dizajn klase."
   ]
  },
  {
   "cell_type": "code",
   "execution_count": null,
   "id": "a13a5c23-66d6-4cc9-a894-8e526dfd4529",
   "metadata": {},
   "outputs": [],
   "source": [
    "# movie.py\n",
    "class Movie:\n",
    "    def __init__(self, title, year, director):\n",
    "        self.title = title\n",
    "        self.year = year\n",
    "        self.director = director\n",
    "        self.is_rented = False\n",
    "        self.rented_by = None\n",
    "\n",
    "        \n",
    "        \n",
    "# movie_store.py\n",
    "from movie import Movie\n",
    "\n",
    "class MovieStore:\n",
    "    def __init__(self, name):\n",
    "        self.name = name\n",
    "        self.movies = []\n",
    "\n",
    "    def rent_movie(self, movie_title, customer_name):\n",
    "        movie = self.find_movie(movie_title)\n",
    "        if movie is None:\n",
    "            print(f\"Film '{movie_title}' nije dostupan za iznajmljivanje.\")\n",
    "            return\n",
    "\n",
    "        if movie.is_rented:\n",
    "            print(f\"Film '{movie_title}' je već iznajmljen.\")\n",
    "        else:\n",
    "            movie.is_rented = True\n",
    "            movie.rented_by = customer_name\n",
    "            print(f\"Film '{movie_title}' je iznajmljen od strane kupca '{customer_name}'.\")\n",
    "\n",
    "    def return_movie(self, movie_title):\n",
    "        movie = self.find_movie(movie_title)\n",
    "        if movie is None:\n",
    "            print(f\"Film '{movie_title}' nije pronađen.\")\n",
    "            return\n",
    "\n",
    "        if movie.is_rented:\n",
    "            movie.is_rented = False\n",
    "            movie.rented_by = None\n",
    "            print(f\"Film '{movie_title}' je vraćen.\")\n",
    "        else:\n",
    "            print(f\"Film '{movie_title}' već je dostupan.\")\n",
    "\n",
    "    def find_movie(self, movie_title):\n",
    "        for movie in self.movies:\n",
    "            if movie.title == movie_title:\n",
    "                return movie\n",
    "        return None\n",
    "\n",
    "    def add_movie(self, movie):\n",
    "        self.movies.append(movie)\n",
    "\n",
    "        \n",
    "        \n",
    "# main.py\n",
    "from movie_store import MovieStore\n",
    "from movie import Movie\n",
    "\n",
    "def main():\n",
    "    store = MovieStore(\"Video klub\")\n",
    "\n",
    "    movie1 = Movie(\"Film 1\", 2000, \"Redatelj 1\")\n",
    "    movie2 = Movie(\"Film 2\", 2005, \"Redatelj 2\")\n",
    "    movie3 = Movie(\"Film 3\", 2010, \"Redatelj 3\")\n",
    "\n",
    "    store.add_movie(movie1)\n",
    "    store.add_movie(movie2)\n",
    "    store.add_movie(movie3)\n",
    "\n",
    "    store.rent_movie(\"Film 1\", \"Kupac 1\")\n",
    "    store.rent_movie(\"Film 2\", \"Kupac 2\")\n",
    "\n",
    "    store.return_movie(\"Film 2\")\n",
    "    store.return_movie(\"Film 3\")\n",
    "\n",
    "    \n",
    "if __name__ == \"__main__\":\n",
    "    main()"
   ]
  },
  {
   "attachments": {},
   "cell_type": "markdown",
   "id": "48be37bb-5b56-4b77-aa48-090e93a1cb33",
   "metadata": {
    "deletable": false,
    "editable": false,
    "tags": []
   },
   "source": [
    "### Datetime, Pillow, Beautiful Soup … <a class=\"anchor\" id=\"modul3-datetime\"></a>\n",
    "\n",
    "\n",
    "#### Datetime\n",
    "\n",
    "Modul *datetime* je modul koji je već integriran u Pythonu, a omogućava programiranje aplikacija ili dijelova aplikacije kojima je namjena računanje datuma i vremena. Uz njega za rad s vremenskim zonama koristimo još jedan pomoćni modul dateutil. \n",
    "\n",
    "Za rad s datumima i vremenom možemo koristiti i *time modul*. Specifičnost ovog modula je rad s UNIX Epoch vremenom. UNIX Epoch predstavlja vrijeme izraženo u sekundama proteklim od 01.01.1970. točno u 00:00:00. Dakle, vrijeme je predstavljeno jednim cijelim brojem koji predstavlja protekle sekunde od UNIX Epoch trenutka i za prikaz nekog vremenskog trenutka potrebno je preračunati koliko je sekundi između tog trenutka i UNIX Epoch vremena. Mi ćemo datume i vrijeme upisivati u nama razumljivijem formatu i za to koristiti datetime + dateutil module, a time modul većinom za pauziranje izvršavanja programa pomoću metode time.sleep() kojoj kao argument prosljeđujemo broj sekundi koliko želimo pauzirati izvršavanje programa.\n"
   ]
  },
  {
   "attachments": {},
   "cell_type": "markdown",
   "id": "864db6b4-7a0c-495f-8507-387718d91c53",
   "metadata": {
    "deletable": false,
    "editable": false,
    "tags": []
   },
   "source": [
    "#### PIL ili *Python Imaging Library*\n",
    "\n",
    "Biblioteka za rad s foto datotekama u Pythonu.\n",
    "\n",
    "Instalacija: `pip install Pillow`"
   ]
  },
  {
   "attachments": {},
   "cell_type": "markdown",
   "id": "6a990938-17d4-4e3c-a5e4-3e4756798595",
   "metadata": {
    "deletable": false,
    "editable": false,
    "tags": []
   },
   "source": [
    "#### Beautiful Soup - biblioteka za \"čitanje\" podataka s Internet stranica\n",
    "\n",
    "Instalacija: `pip install beautifulsoup4`"
   ]
  },
  {
   "attachments": {},
   "cell_type": "markdown",
   "id": "fcc8c137-7afd-4196-918c-09187eee87a0",
   "metadata": {
    "deletable": false,
    "editable": false,
    "tags": []
   },
   "source": [
    "#### Zadaci"
   ]
  },
  {
   "attachments": {},
   "cell_type": "markdown",
   "id": "1f3cf759-1b3d-422c-9ebb-a077582e7129",
   "metadata": {
    "deletable": false,
    "editable": false,
    "tags": []
   },
   "source": [
    "**Zadatak 1**\n",
    "\n",
    "Napraviti aplikaciju koja će tražiti korisnika da unese datum i vrijeme te ispisati samo dan ili samo godinu ili samo dio koji se odnosi na dio za vrijeme, a datum ignorira. "
   ]
  },
  {
   "cell_type": "code",
   "execution_count": null,
   "id": "16cd83c7-1fd3-42b2-91d2-4e138a6770f1",
   "metadata": {},
   "outputs": [],
   "source": [
    "from datetime import datetime\n",
    "\n",
    "def unesi_datum_i_vrijeme():\n",
    "    unos = input(\"Unesite datum i vrijeme u formatu 'dd.mm.gggg. hh:mm': \")\n",
    "    try:\n",
    "        datum_vrijeme = datetime.strptime(unos, \"%d.%m.%Y. %H:%M\")\n",
    "        return datum_vrijeme\n",
    "    except ValueError:\n",
    "        print(\"Neispravan unos. Molimo unesite datum i vrijeme u ispravnom formatu.\")\n",
    "        return None\n",
    "\n",
    "def ispis_dana(datum_vrijeme):\n",
    "    dan = datum_vrijeme.day\n",
    "    print(f\"Datum: {dan}.\")\n",
    "\n",
    "def ispis_godine(datum_vrijeme):\n",
    "    godina = datum_vrijeme.year\n",
    "    print(f\"Godina: {godina}.\")\n",
    "\n",
    "def ispis_sata_i_minuta(datum_vrijeme):\n",
    "    sati = datum_vrijeme.hour\n",
    "    minute = datum_vrijeme.minute\n",
    "    print(f\"Sat i minute: {sati}:{minute}.\")\n",
    "\n",
    "def main():\n",
    "    datum_vrijeme = unesi_datum_i_vrijeme()\n",
    "    if datum_vrijeme is not None:\n",
    "        ispis_dana(datum_vrijeme)\n",
    "        ispis_godine(datum_vrijeme)\n",
    "        ispis_sata_i_minuta(datum_vrijeme)\n",
    "\n",
    "if __name__ == \"__main__\":\n",
    "    main()\n"
   ]
  },
  {
   "attachments": {},
   "cell_type": "markdown",
   "id": "79762a15-eea9-4a7e-86e9-0d7b1e0ac012",
   "metadata": {
    "deletable": false,
    "editable": false,
    "tags": []
   },
   "source": [
    "**Zadatak 2**\n",
    "\n",
    "Neka korisnik unese datum i vrijeme, a aplikacija neka ispiše koji će dan u tjednu biti na uneseni datum."
   ]
  },
  {
   "cell_type": "code",
   "execution_count": null,
   "id": "41268db2-7c90-42f5-8246-0cd86efdceba",
   "metadata": {},
   "outputs": [],
   "source": [
    "from datetime import datetime\n",
    "\n",
    "def unesi_datum_i_vrijeme():\n",
    "    unos = input(\"Unesite datum i vrijeme u formatu 'dd.mm.gggg. hh:mm': \")\n",
    "    try:\n",
    "        datum_vrijeme = datetime.strptime(unos, \"%d.%m.%Y. %H:%M\")\n",
    "        return datum_vrijeme\n",
    "    except ValueError:\n",
    "        print(\"Neispravan unos. Molimo unesite datum i vrijeme u ispravnom formatu.\")\n",
    "        return None\n",
    "\n",
    "def ispis_dana_u_tjednu(datum_vrijeme):\n",
    "    dani_u_tjednu = [\"ponedjeljak\", \"utorak\", \"srijeda\", \"četvrtak\", \"petak\", \"subota\", \"nedjelja\"]\n",
    "    dan_u_tjednu = datum_vrijeme.weekday()\n",
    "    print(f\"Dan u tjednu: {dani_u_tjednu[dan_u_tjednu]}\")\n",
    "\n",
    "def main():\n",
    "    datum_vrijeme = unesi_datum_i_vrijeme()\n",
    "    if datum_vrijeme is not None:\n",
    "        ispis_dana_u_tjednu(datum_vrijeme)\n",
    "\n",
    "        \n",
    "if __name__ == \"__main__\":\n",
    "    main()\n"
   ]
  },
  {
   "attachments": {},
   "cell_type": "markdown",
   "id": "4e7a5c70",
   "metadata": {
    "deletable": false,
    "editable": false,
    "tags": []
   },
   "source": [
    "**Zadatak 3**\n",
    "\n",
    "Ako su Olimpijske igre u Tokiju od 23.07.2021. do 08.08.2021. Koji dan u tjednu je ceremonija otvaranja, a koji dan ceremonija zatvaranja? Koliko dana ima do početka, a koliko do završetka od današnjeg datuma (.today()) i od sadašnjeg trenutka (.now()). Koliko dana i sati ima do početka OI ako se nalazimo u Tokiju, Melbourneu, Dubaiju, Moskvi, Zagrebu, Londonu, New Yorku i Los Angelesu?"
   ]
  },
  {
   "cell_type": "code",
   "execution_count": null,
   "id": "4daf0b81",
   "metadata": {},
   "outputs": [],
   "source": [
    "from datetime import datetime, timedelta\n",
    "\n",
    "\n",
    "\n",
    "class OlympicGames:\n",
    "    def __init__(self, start_date, end_date):\n",
    "        self.start_date = start_date\n",
    "        self.end_date = end_date\n",
    "\n",
    "    def get_opening_ceremony_day(self):\n",
    "        return self.start_date.strftime(\"%A\")\n",
    "\n",
    "    def get_closing_ceremony_day(self):\n",
    "        return self.end_date.strftime(\"%A\")\n",
    "\n",
    "    def get_days_until_start(self):\n",
    "        today = datetime.today().date()\n",
    "        days_until_start = (self.start_date.date() - today).days\n",
    "        return days_until_start\n",
    "\n",
    "    def get_days_until_end(self):\n",
    "        today = datetime.today().date()\n",
    "        days_until_end = (self.end_date.date() - today).days\n",
    "        return days_until_end\n",
    "\n",
    "    def get_time_until_start(self, location):\n",
    "        now = datetime.now()\n",
    "        start_datetime = datetime.combine(self.start_date.date(), now.time())\n",
    "        time_until_start = start_datetime - now\n",
    "        return time_until_start, location\n",
    "\n",
    "    \n",
    "    \n",
    "def main():\n",
    "    # Definiranje datuma Olimpijskih igara\n",
    "    start_date = datetime(2021, 7, 23)\n",
    "    end_date = datetime(2021, 8, 8)\n",
    "\n",
    "    # Stvaranje instance klase OlympicGames\n",
    "    olympics = OlympicGames(start_date, end_date)\n",
    "\n",
    "    # Ceremonija otvaranja\n",
    "    opening_ceremony_day = olympics.get_opening_ceremony_day()\n",
    "    print(\"Ceremonija otvaranja je u {}.\".format(opening_ceremony_day))\n",
    "\n",
    "    # Ceremonija zatvaranja\n",
    "    closing_ceremony_day = olympics.get_closing_ceremony_day()\n",
    "    print(\"Ceremonija zatvaranja je u {}.\".format(closing_ceremony_day))\n",
    "\n",
    "    # Broj dana do početka\n",
    "    days_until_start = olympics.get_days_until_start()\n",
    "    print(\"Do početka OI ima {} dana.\".format(days_until_start))\n",
    "\n",
    "    # Broj dana do završetka\n",
    "    days_until_end = olympics.get_days_until_end()\n",
    "    print(\"Do završetka OI ima {} dana.\".format(days_until_end))\n",
    "\n",
    "    # Vremenski razmak do početka u različitim gradovima\n",
    "    locations = {\n",
    "        \"Tokio\": timedelta(hours=9),\n",
    "        \"Melbourne\": timedelta(hours=10),\n",
    "        \"Dubai\": timedelta(hours=4),\n",
    "        \"Moskva\": timedelta(hours=3),\n",
    "        \"Zagreb\": timedelta(hours=2),\n",
    "        \"London\": timedelta(hours=1),\n",
    "        \"New York\": timedelta(hours=-4),\n",
    "        \"Los Angeles\": timedelta(hours=-7)\n",
    "    }\n",
    "\n",
    "    for location, offset in locations.items():\n",
    "        time_until_start, location = olympics.get_time_until_start(location)\n",
    "        local_start_time = datetime.now() + offset + time_until_start\n",
    "        days_hours_until_start = divmod(time_until_start.total_seconds(), 3600 * 24)\n",
    "        print(\"Do početka OI u {} ima {} dana i {} sati.\".format(location, int(days_hours_until_start[0]), int(days_hours_until_start[1])))\n",
    "\n",
    "        \n",
    "        \n",
    "        \n",
    "if __name__ == \"__main__\":\n",
    "    main()\n"
   ]
  },
  {
   "attachments": {},
   "cell_type": "markdown",
   "id": "2209e9a1-59cb-48bf-adbb-b82c0f926e16",
   "metadata": {
    "deletable": false,
    "editable": false,
    "tags": []
   },
   "source": [
    "**Zadatak 4**\n",
    "\n",
    "Napravite program koji iz web stranice <a href=\"https://www.imdb.com/chart/top\" target=\"_blank\">\"https://www.imdb.com/chart/top\"</a> izvlači nazive prvih 10 filmova, njihove ocjene i godine izdavanja te ih sprema u rječnik. Ispišite dobiveni rječnik."
   ]
  },
  {
   "cell_type": "code",
   "execution_count": null,
   "id": "89eff916-a16a-4684-ab9c-67851f195570",
   "metadata": {},
   "outputs": [],
   "source": [
    "import requests\n",
    "from bs4 import BeautifulSoup\n",
    "\n",
    "\n",
    "def extract_top_movies():\n",
    "    url = \"https://www.imdb.com/chart/top\"\n",
    "    response = requests.get(url)\n",
    "    soup = BeautifulSoup(response.content, \"html.parser\")\n",
    "    movie_tags = soup.select(\"td.titleColumn\")\n",
    "    rating_tags = soup.select(\"td.imdbRating strong\")\n",
    "    \n",
    "    movies = {}\n",
    "    for i in range(10):\n",
    "        movie_title = movie_tags[i].find(\"a\").text.strip()\n",
    "        movie_year = int(movie_tags[i].find(\"span\", class_=\"secondaryInfo\").text.strip(\"()\"))\n",
    "        movie_rating = float(rating_tags[i].text.strip())\n",
    "        movies[movie_title] = {\"Year\": movie_year, \"Rating\": movie_rating}\n",
    "    \n",
    "    return movies\n",
    "\n",
    "\n",
    "def main():\n",
    "    movies = extract_top_movies()\n",
    "    print(\"Top 10 movies:\")\n",
    "    for title, info in movies.items():\n",
    "        year = info[\"Year\"]\n",
    "        rating = info[\"Rating\"]\n",
    "        print(\"Film: {}, Godina: {}, Ocjena: {}\".format(title, year, rating))\n",
    "\n",
    "        \n",
    "if __name__ == \"__main__\":\n",
    "    main()\n"
   ]
  },
  {
   "attachments": {},
   "cell_type": "markdown",
   "id": "017c36eb-4901-4729-806b-37f6d69acba8",
   "metadata": {
    "deletable": false,
    "editable": false,
    "tags": []
   },
   "source": [
    "**Zadatak 5**\n",
    "\n",
    "Napravite program koji iz web stranice <a href=\"https://www.boxofficemojo.com/year/world/\" target=\"_blank\">\"https://www.boxofficemojo.com/year/world/\"</a> izvlači nazive prvih 10 filmova po zaradi u zadnjoj godini, njihove zarade i godine izdavanja te ih sprema u rječnik. Ispišite dobiveni rječnik."
   ]
  },
  {
   "cell_type": "code",
   "execution_count": null,
   "id": "8b7a41f8-590a-4de9-b71a-800d5604a697",
   "metadata": {},
   "outputs": [],
   "source": [
    "import requests\n",
    "from bs4 import BeautifulSoup\n",
    "\n",
    "def extract_top_movies():\n",
    "    url = \"https://www.boxofficemojo.com/year/world/\"\n",
    "    response = requests.get(url)\n",
    "    soup = BeautifulSoup(response.content, \"html.parser\")\n",
    "    movie_rows = soup.select(\"table.mojo-body-table tr\")\n",
    "\n",
    "    movies = {}\n",
    "    for row in movie_rows[1:11]:\n",
    "        cells = row.find_all(\"td\")\n",
    "        movie_title = cells[1].text.strip()\n",
    "        movie_earnings = cells[2].text.strip().replace(\"$\", \"\").replace(\",\", \"\")\n",
    "        movie_year = int(cells[3].text.strip())\n",
    "\n",
    "        movies[movie_title] = {\"Earnings\": movie_earnings, \"Year\": movie_year}\n",
    "\n",
    "    return movies\n",
    "\n",
    "def main():\n",
    "    movies = extract_top_movies()\n",
    "    print(\"Top 10 movies by earnings:\")\n",
    "    for title, info in movies.items():\n",
    "        earnings = info[\"Earnings\"]\n",
    "        year = info[\"Year\"]\n",
    "        print(\"Film: {}, Zarada: {}, Godina: {}\".format(title, earnings, year))\n",
    "\n",
    "if __name__ == \"__main__\":\n",
    "    main()\n"
   ]
  },
  {
   "attachments": {},
   "cell_type": "markdown",
   "id": "3231e01f-e012-48c6-88ff-9ab6b50ce8d4",
   "metadata": {
    "deletable": false,
    "editable": false,
    "tags": []
   },
   "source": [
    "**Zadatak 6**\n",
    "\n",
    "Napišite program koji učitava sliku filma i smanjuje njenu širinu i visinu za polovicu.\\\n",
    "*NAPOMENA*: Učitajte sliku po želji."
   ]
  },
  {
   "cell_type": "code",
   "execution_count": null,
   "id": "5c9e6234-6822-49f8-bd25-ce0e173680b0",
   "metadata": {},
   "outputs": [],
   "source": [
    "from PIL import Image\n",
    "\n",
    "\n",
    "def resize_image(image_path):\n",
    "    # Učitavanje slike\n",
    "    image = Image.open(image_path)\n",
    "\n",
    "    # Izračun nove širine i visine\n",
    "    width = image.width // 2\n",
    "    height = image.height // 2\n",
    "\n",
    "    # Promjena veličine slike\n",
    "    resized_image = image.resize((width, height))\n",
    "\n",
    "    # Spremanje smanjene slike\n",
    "    resized_image.save(\"resized_image.jpg\")\n",
    "\n",
    "    print(\"Slika je uspješno smanjena.\")\n",
    "\n",
    "    \n",
    "def main():\n",
    "    image_path = \"original_image.jpg\"\n",
    "    resize_image(image_path)\n",
    "\n",
    "    \n",
    "    \n",
    "if __name__ == \"__main__\":\n",
    "    main()\n"
   ]
  },
  {
   "attachments": {},
   "cell_type": "markdown",
   "id": "ec52cc37-c27f-4a0d-bd60-729c4d22b0d6",
   "metadata": {
    "deletable": false,
    "editable": false,
    "tags": []
   },
   "source": [
    "**Zadatak 7**\n",
    "\n",
    "Napišite program koji učitava sliku filma i primjenjuje crno-bijeli filter.\\\n",
    "*NAPOMENA*: Učitajte sliku po želji."
   ]
  },
  {
   "cell_type": "code",
   "execution_count": null,
   "id": "27eacaa2-7d49-4d69-88c6-976072c734b6",
   "metadata": {},
   "outputs": [],
   "source": [
    "from PIL import Image\n",
    "\n",
    "\n",
    "def apply_black_and_white_filter(image_path):\n",
    "    # Učitavanje slike\n",
    "    image = Image.open(image_path)\n",
    "\n",
    "    # Primjena crno-bijelog filtera\n",
    "    black_white_image = image.convert(\"L\")\n",
    "\n",
    "    # Spremanje slike s primijenjenim filterom\n",
    "    black_white_image.save(\"black_white_image.jpg\")\n",
    "\n",
    "    print(\"Crno-bijeli filter je uspješno primijenjen.\")\n",
    "\n",
    "    \n",
    "    \n",
    "def main():\n",
    "    image_path = \"original_image.jpg\"\n",
    "    apply_black_and_white_filter(image_path)\n",
    "\n",
    "    \n",
    "    \n",
    "if __name__ == \"__main__\":\n",
    "    main()\n"
   ]
  },
  {
   "attachments": {},
   "cell_type": "markdown",
   "id": "65de1f47-12a2-4d3c-a720-598c39ff7f9e",
   "metadata": {
    "deletable": false,
    "editable": false,
    "tags": []
   },
   "source": [
    "### TRY EXCEPT FINALLY <a class=\"anchor\" id=\"modul3-try-except\"></a>\n",
    "\n",
    "Da se naš program ne bi \"raspao\" i korisniku se prikazala neka ružna, nerazumljiva poruka, u Pythonu, kao i u drugim programskim jezicima, za ove slučajeve se koristi mehanizam koji osigurava da program \"pokuša\" pristupiti, odnosno izvršiti jedan dio kôda i, ako uspije, super - idemo dalje. Ako ne uspije, onda se izvršava drugi dio kôda koji smo pripremili u toj situaciji.\n",
    "\n",
    "Taj mehanizam se u nekim jezicima zove zove *Try Catch* (pokušaj i ulovi grešku), a u Pythonu je *Try-Except* (pokušaj, a za iznimku napravi …). \n",
    "\n",
    "Python dodatno koristi i Else, no on se zaista rijetko koristi, tako da je najbolji način koristiti **try-except-finally**, a ponekad i samo **try-except**.  "
   ]
  },
  {
   "attachments": {},
   "cell_type": "markdown",
   "id": "a4cc0e19-e840-4f50-acbb-9aa83490796d",
   "metadata": {
    "deletable": false,
    "editable": false,
    "tags": []
   },
   "source": [
    "### Datoteke <a class=\"anchor\" id=\"modul3-datoteke\"></a>\n",
    "\n",
    "Gotovo svi programski jezici imaju ugrađenu potporu pristupa datotekama. Na kraju, programski kôd je zapisan u datoteku.\n",
    "\n",
    "Rad s datotekama u Pythonu je vrlo jednostavan. U ovom dijelu radit ćemo s tekstualnim datotekama. To su datoteke koje se mogu otvoriti pomoću Notepada ili nekog drugog *tekst editora*. Najčešća ekstenzija ovih datoteka je .txt, ali mogu biti i .json, .log, .ini, .config i slično."
   ]
  },
  {
   "attachments": {},
   "cell_type": "markdown",
   "id": "9729e715-6bf1-412a-a260-6ab5ea7aa102",
   "metadata": {
    "deletable": false,
    "editable": false,
    "tags": []
   },
   "source": [
    "Datoteke ulaze u resurse računala nad kojima nemamo izravnu kontrolu unutar našeg programskog kôda. Osim datoteka, to su baze podataka, druge aplikacije, Internet stranice i slično. Za datoteke najčešće ne smijemo pretpostaviti da će korisnik našeg programa imati prava pisati ili čitati po disku gdje smo pretpostavili da će biti datoteka. Možda te datoteke neće biti u mapi u kojoj je mi očekujemo, možda se datoteka ne zove onako kako smo očekivali ili postoji drugi razlog zbog kojeg se može dogoditi problem s pristupom do datoteke. "
   ]
  },
  {
   "attachments": {},
   "cell_type": "markdown",
   "id": "19335393-a194-4fec-a1c3-0c9d5ac78b8f",
   "metadata": {
    "deletable": false,
    "editable": false,
    "tags": []
   },
   "source": [
    "**Čitanje iz txt datoteke:**"
   ]
  },
  {
   "cell_type": "code",
   "execution_count": null,
   "id": "cf916db7",
   "metadata": {
    "deletable": false,
    "editable": false,
    "tags": []
   },
   "outputs": [],
   "source": [
    "try:\n",
    "    with open('adresar.txt', 'r') as file_reader:\n",
    "        file_data = file_reader.read()\n",
    "        print(file_data)\n",
    "            \n",
    "except Exception as e:\n",
    "    print(f'Dogodila se pogreska {e}')"
   ]
  },
  {
   "attachments": {},
   "cell_type": "markdown",
   "id": "34ff3468-d644-40b4-8e77-565c07a06b62",
   "metadata": {
    "deletable": false,
    "editable": false,
    "tags": []
   },
   "source": [
    "#### Zadaci"
   ]
  },
  {
   "attachments": {},
   "cell_type": "markdown",
   "id": "c88c3bb2-010e-41f6-b374-ab7e645c3a3a",
   "metadata": {
    "deletable": false,
    "editable": false,
    "tags": []
   },
   "source": [
    "**Zadatak 1**\n",
    "\n",
    "Napišite Python program koji će pročitati datoteku \"filmovi.txt\" i ispisati sve retke koji počinju s određenim slovom koje unosi korisnik."
   ]
  },
  {
   "cell_type": "code",
   "execution_count": null,
   "id": "0d7568a5-b13a-43ba-bd92-95e6a6830467",
   "metadata": {},
   "outputs": [],
   "source": [
    "def read_file(filename):\n",
    "    with open(filename, \"r\") as file:\n",
    "        lines = file.readlines()\n",
    "    return lines\n",
    "\n",
    "\n",
    "def filter_lines(lines, start_letter):\n",
    "    filtered_lines = [line.strip() for line in lines if line.startswith(start_letter)]\n",
    "    return filtered_lines\n",
    "\n",
    "\n",
    "def print_filtered_lines(filtered_lines):\n",
    "    if len(filtered_lines) == 0:\n",
    "        print(\"Nema pronađenih linija koje počinju s unesenim slovom.\")\n",
    "    else:\n",
    "        print(\"Linije koje počinju s unesenim slovom:\")\n",
    "        for line in filtered_lines:\n",
    "            print(line)\n",
    "\n",
    "            \n",
    "def main():\n",
    "    filename = \"filmovi.txt\"\n",
    "    start_letter = input(\"Unesite početno slovo: \")\n",
    "    lines = read_file(filename)\n",
    "    filtered_lines = filter_lines(lines, start_letter)\n",
    "    print_filtered_lines(filtered_lines)\n",
    "\n",
    "    \n",
    "if __name__ == \"__main__\":\n",
    "    main()\n"
   ]
  },
  {
   "attachments": {},
   "cell_type": "markdown",
   "id": "fd33648a-a741-4985-affc-a2c82225ab1f",
   "metadata": {
    "deletable": false,
    "editable": false,
    "tags": []
   },
   "source": [
    "**Zadatak 2**\n",
    "\n",
    "Napišite Python program koji će pročitati datoteku \"filmovi.txt\" i ispisati broj riječi u svakom retku."
   ]
  },
  {
   "cell_type": "code",
   "execution_count": null,
   "id": "6df2aad3-3aee-407b-b02c-0f84513e4af5",
   "metadata": {},
   "outputs": [],
   "source": [
    "def count_words_in_line(line):\n",
    "    words = line.split()\n",
    "    return len(words)\n",
    "\n",
    "\n",
    "def count_words(filename):\n",
    "    with open(filename, \"r\") as file:\n",
    "        lines = file.readlines()\n",
    "\n",
    "    word_counts = []\n",
    "    for line in lines:\n",
    "        line = line.strip()\n",
    "        word_count = count_words_in_line(line)\n",
    "        word_counts.append(word_count)\n",
    "\n",
    "    return word_counts\n",
    "\n",
    "\n",
    "def print_word_counts(word_counts):\n",
    "    print(\"Broj riječi po retku:\")\n",
    "    for i, count in enumerate(word_counts, 1):\n",
    "        print(f\"Red {i}: {count} riječi\")\n",
    "\n",
    "        \n",
    "def main():\n",
    "    filename = \"filmovi.txt\"\n",
    "    word_counts = count_words(filename)\n",
    "    print_word_counts(word_counts)\n",
    "\n",
    "    \n",
    "    \n",
    "if __name__ == \"__main__\":\n",
    "    main()\n"
   ]
  },
  {
   "attachments": {},
   "cell_type": "markdown",
   "id": "af070c95-19e4-4cf2-a819-07f9cd7fa9ac",
   "metadata": {
    "deletable": false,
    "editable": false,
    "tags": []
   },
   "source": [
    "**Zadatak 3**\n",
    "\n",
    "Napišite Python program koji će zapisati u datoteku \"filmovi.txt\" sve naslove filmova iz liste u novi red, svaki naslov u zasebnom retku."
   ]
  },
  {
   "cell_type": "code",
   "execution_count": null,
   "id": "3a8c5700-84e1-41d4-84f0-ec832db786d9",
   "metadata": {},
   "outputs": [],
   "source": [
    "def write_movie_titles(titles, filename):\n",
    "    with open(filename, \"w\") as file:\n",
    "        for title in titles:\n",
    "            file.write(title + \"\\n\")\n",
    "\n",
    "            \n",
    "            \n",
    "def main():\n",
    "    titles = [\"Naslov 1\", \"Naslov 2\", \"Naslov 3\"]  # Example list of movie titles\n",
    "\n",
    "    filename = \"filmovi.txt\"\n",
    "    write_movie_titles(titles, filename)\n",
    "    print(\"Naslovi filmova su zapisani u datoteku.\")\n",
    "\n",
    "    \n",
    "if __name__ == \"__main__\":\n",
    "    main()\n"
   ]
  },
  {
   "attachments": {},
   "cell_type": "markdown",
   "id": "1b9c5598-91e5-47cf-9f85-8ee500cb7574",
   "metadata": {
    "deletable": false,
    "editable": false,
    "tags": []
   },
   "source": [
    "**Zadatak 4**\n",
    "\n",
    "Napišite Python program koji će pročitati datoteku \"filmovi.txt\" i ispisati najduži naslov filma."
   ]
  },
  {
   "cell_type": "code",
   "execution_count": null,
   "id": "4e251ca6-3a5c-4ab5-99c2-6699c30b7d85",
   "metadata": {},
   "outputs": [],
   "source": [
    "def find_longest_title(filename):\n",
    "    longest_title = \"\"\n",
    "\n",
    "    with open(filename, \"r\") as file:\n",
    "        for line in file:\n",
    "            title = line.strip()\n",
    "            if len(title) > len(longest_title):\n",
    "                longest_title = title\n",
    "\n",
    "    return longest_title\n",
    "\n",
    "\n",
    "\n",
    "def main():\n",
    "    filename = \"filmovi.txt\"\n",
    "    longest_title = find_longest_title(filename)\n",
    "\n",
    "    if longest_title:\n",
    "        print(\"Najduži naslov filma je:\", longest_title)\n",
    "    else:\n",
    "        print(\"Datoteka je prazna.\")\n",
    "\n",
    "        \n",
    "if __name__ == \"__main__\":\n",
    "    main()\n"
   ]
  },
  {
   "attachments": {},
   "cell_type": "markdown",
   "id": "4843f4e9-898c-4077-a047-69484c056d2c",
   "metadata": {
    "deletable": false,
    "editable": false,
    "tags": []
   },
   "source": [
    "**Zadatak 5**\n",
    "\n",
    "Napišite Python program koji će pročitati datoteku \"filmovi.txt\" i ispisati prosječnu duljinu naslova filmova."
   ]
  },
  {
   "cell_type": "code",
   "execution_count": null,
   "id": "df1a9a5d-10e8-49e6-8466-ddcf68fc5a65",
   "metadata": {},
   "outputs": [],
   "source": [
    "def calculate_average_title_length(filename):\n",
    "    total_length = 0\n",
    "    count = 0\n",
    "\n",
    "    with open(filename, \"r\") as file:\n",
    "        for line in file:\n",
    "            title = line.strip()\n",
    "            total_length += len(title)\n",
    "            count += 1\n",
    "\n",
    "    if count > 0:\n",
    "        average_length = total_length / count\n",
    "        return average_length\n",
    "    else:\n",
    "        return 0\n",
    "\n",
    "    \n",
    "    \n",
    "def main():\n",
    "    filename = \"filmovi.txt\"\n",
    "    average_length = calculate_average_title_length(filename)\n",
    "\n",
    "    if average_length > 0:\n",
    "        print(\"Prosječna duljina naslova filmova je:\", average_length)\n",
    "    else:\n",
    "        print(\"Datoteka je prazna.\")\n",
    "\n",
    "        \n",
    "if __name__ == \"__main__\":\n",
    "    main()\n"
   ]
  },
  {
   "attachments": {},
   "cell_type": "markdown",
   "id": "b6afb966-f027-47bd-a0e3-e715d8a0f253",
   "metadata": {
    "deletable": false,
    "editable": false,
    "tags": []
   },
   "source": [
    "### JSON i WebAPI usluge <a class=\"anchor\" id=\"modul3-json\"></a>\n",
    "\n",
    "\n",
    "#### JSON ili *JavaScript Object Notation* \n",
    "JSON ili *JavaScript Object Notation* je način zapisivanja podataka u tekstualnim datotekama. Taj format nastao je kao odgovor na XML format koje je ljudima kompliciran za čitanje dok, naravno, računalima nije. Osim toga, nešto je kompliciranije programirati rješenje koje će čitati XML (zahtjeva puno programskog kôda).\n",
    "\n",
    "Zbog toga je JSON postao jako dobro prihvaćen. Ljudima ga je lako čitati, a programska rješenja koja ga koriste su jednostavna pa je format ubrzo postao opće prihvaćen te je, osim u nekim starijim sustavima, u cijelosti zamijenio kompliciraniji XML (ili se koristi paralelno s XML formatom te je krajnjim korisnicima ostavljeno na biranje).\n",
    "\n",
    "Specifičnost JSON formata je **sintaksa zapisa u formatu Key:Value**, što je format zapisa i za Dictionary."
   ]
  },
  {
   "attachments": {},
   "cell_type": "markdown",
   "id": "06ab1f76-1663-4851-aead-879ae47b1075",
   "metadata": {
    "deletable": false,
    "editable": false,
    "tags": []
   },
   "source": [
    "#### Zadaci"
   ]
  },
  {
   "attachments": {},
   "cell_type": "markdown",
   "id": "b6f344d0-48a3-4993-9457-1eaceac91acd",
   "metadata": {
    "deletable": false,
    "editable": false,
    "tags": []
   },
   "source": [
    "**Zadatak 1**\n",
    "\n",
    "1.1 Pripremljeni rječnik **user** spremite u user.json datoteku.\n",
    "\n",
    "user = {\n",
    "            \"id\": 1,\n",
    "            \"firstName\": \"Petar\",\n",
    "            \"lastName\": \"Peric\",\n",
    "            \"username\": \"pperic\",\n",
    "            \"email\": \"pperic@email.com\",\n",
    "            \"address\": {\n",
    "                \"street\": \"Ilica 256\",\n",
    "                \"city\": \"Zagreb\",\n",
    "                \"zipcode\": \"10000\"\n",
    "            },\n",
    "            \"phone\": \"+385 1 8031 564\",\n",
    "            \"website\": \"web.adresa\",\n",
    "            \"company\": {\n",
    "                \"name\": \"Medvednica d.o.o.\",\n",
    "                \"catchPhrase\": \"Razvoj specijaliziranih Python aplikacija\",\n",
    "                \"bs\": \"Najbolja poslovna rjesenja\"\n",
    "            }\n",
    "        }\n",
    "        \n",
    "1.2 Iz datoteke user.json pročitajte sadržaj i iz sadržaja ispišite na zaslon ime, prezime i točnu kućnu adresu za dostavu."
   ]
  },
  {
   "cell_type": "code",
   "execution_count": null,
   "id": "0c2fc4cb-4c99-444b-9859-5a1e065515a5",
   "metadata": {},
   "outputs": [],
   "source": [
    "import json\n",
    "\n",
    "\n",
    "user = {\n",
    "    \"id\": 1,\n",
    "    \"firstName\": \"Petar\",\n",
    "    \"lastName\": \"Peric\",\n",
    "    \"username\": \"pperic\",\n",
    "    \"email\": \"pperic@email.com\",\n",
    "    \"address\": {\n",
    "        \"street\": \"Ilica 256\",\n",
    "        \"city\": \"Zagreb\",\n",
    "        \"zipcode\": \"10000\"\n",
    "    },\n",
    "    \"phone\": \"+385 1 8031 564\",\n",
    "    \"website\": \"web.adresa\",\n",
    "    \"company\": {\n",
    "        \"name\": \"Medvednica d.o.o.\",\n",
    "        \"catchPhrase\": \"Razvoj specijaliziranih Python aplikacija\",\n",
    "        \"bs\": \"Najbolja poslovna rjesenja\"\n",
    "    }\n",
    "}\n",
    "\n",
    "\n",
    "filename = \"user.json\"\n",
    "\n",
    "\n",
    "with open(filename, \"w\") as file:\n",
    "    json.dump(user, file, indent=4)\n"
   ]
  },
  {
   "cell_type": "code",
   "execution_count": null,
   "id": "68e7f2eb-18d6-4d58-8d6f-642cb683534a",
   "metadata": {},
   "outputs": [],
   "source": [
    "import json\n",
    "\n",
    "\n",
    "filename = \"user.json\"\n",
    "\n",
    "\n",
    "with open(filename, \"r\") as file:\n",
    "    user_data = json.load(file)\n",
    "\n",
    "    \n",
    "    \n",
    "firstName = user_data[\"firstName\"]\n",
    "lastName = user_data[\"lastName\"]\n",
    "street = user_data[\"address\"][\"street\"]\n",
    "city = user_data[\"address\"][\"city\"]\n",
    "zipcode = user_data[\"address\"][\"zipcode\"]\n",
    "\n",
    "\n",
    "print(\"Ime:\", firstName)\n",
    "print(\"Prezime:\", lastName)\n",
    "print(\"Adresa za dostavu:\", street, \",\", city, \"-\", zipcode)\n"
   ]
  },
  {
   "attachments": {},
   "cell_type": "markdown",
   "id": "52e01730-d231-4433-ac1c-40a4d1f13e78",
   "metadata": {
    "deletable": false,
    "editable": false,
    "tags": []
   },
   "source": [
    "**Zadatak 2**\n",
    "\n",
    "Sadržaj s linka <a href=\"https://jsonplaceholder.typicode.com/users\" target=\"_blank\">\"https://jsonplaceholder.typicode.com/users\"</a> unesite u json datoteku, zatim pročitajte. Izdvojite podatke *ime, prezime i telefon* te kreirajte poseban rječnik od tih podataka (ključ možete koristiti id, a ostatak podataka vrijednost), zatim ga unesite u txt datoteku."
   ]
  },
  {
   "cell_type": "code",
   "execution_count": null,
   "id": "5a28340b-0766-4fb0-aab2-3208f0920318",
   "metadata": {},
   "outputs": [],
   "source": [
    "import requests\n",
    "import json\n",
    "\n",
    "\n",
    "# Dohvati podatke s linka\n",
    "url = \"https://jsonplaceholder.typicode.com/users\"\n",
    "response = requests.get(url)\n",
    "data = response.json()\n",
    "\n",
    "\n",
    "# Pohrani ih u JSON datoteku\n",
    "filename_json = \"data.json\"\n",
    "with open(filename_json, \"w\") as file:\n",
    "    json.dump(data, file, indent=4)\n",
    "\n",
    "    \n",
    "# Izdvoji ime, prezime i broj telefona\n",
    "users_dict = {}\n",
    "for user in data:\n",
    "    user_id = user[\"id\"]\n",
    "    first_name = user[\"name\"].split()[0]\n",
    "    last_name = user[\"name\"].split()[-1]\n",
    "    phone = user[\"phone\"]\n",
    "    users_dict[user_id] = {\"ime\": first_name, \"prezime\": last_name, \"telefon\": phone}\n",
    "\n",
    "    \n",
    "# Pohrani natrag u .txt datoteku\n",
    "filename_txt = \"users.txt\"\n",
    "with open(filename_txt, \"w\") as file:\n",
    "    for user_id, user_data in users_dict.items():\n",
    "        file.write(f\"ID: {user_id}\\n\")\n",
    "        file.write(f\"Ime: {user_data['ime']}\\n\")\n",
    "        file.write(f\"Prezime: {user_data['prezime']}\\n\")\n",
    "        file.write(f\"Telefon: {user_data['telefon']}\\n\")\n",
    "        file.write(\"\\n\")\n"
   ]
  },
  {
   "attachments": {},
   "cell_type": "markdown",
   "id": "170ca93a",
   "metadata": {
    "deletable": false,
    "editable": false,
    "tags": []
   },
   "source": [
    "#### WebAPI usluge - Internet podaci\n",
    "\n",
    "Internet predstavlja nepresušan izvor različitih podataka. Ako ih znamo koristiti, ti podaci mogu biti vrlo korisni.\n",
    "\n",
    "Na internetu se nalaze informacije u tekstualnom, audio, foto i video formatu. Pretraživanje tih podataka predstavlja izazov ako se pretražuje \"ručno\" - jednostavnije je koristiti računala koja za nas \"odrađuju posao\". Izradu uputa računalima kako dohvatiti željene informacije s Interneta zovemo *Web Scraping* ili, grubo prevedeno, *struganje Weba*.\n",
    "\n",
    "Za pristup Internet stranici iz programskog kôda u Pythonu koristi se integrirani modul **urllib**. \n",
    "\n",
    "Web Scraping predstavlja dohvat podataka s Interneta tako da ćemo uvijek koristiti **http request get metodu** koja je namijenjena za dohvat podataka. Osim toga, koristit ćemo samo javne stranice. Točnije, za primjere ćemo koristiti specijaliziranu stranicu koja je namijenjena podučavanju *Web Scraping* tehnika."
   ]
  },
  {
   "attachments": {},
   "cell_type": "markdown",
   "id": "31361f66",
   "metadata": {
    "deletable": false,
    "editable": false,
    "tags": []
   },
   "source": [
    "**Redoslijed koraka za pristup do web stranice u tekstualnom obliku (html):**"
   ]
  },
  {
   "cell_type": "code",
   "execution_count": null,
   "id": "b23173e5",
   "metadata": {
    "deletable": false,
    "editable": false,
    "tags": []
   },
   "outputs": [],
   "source": [
    "import urllib.request\n",
    "URL = 'https://www.algebra.hr'\n",
    "konekcija = urllib.request.urlopen(URL)\n",
    "sadrzaj = konekcija.read().decode()\n",
    "print(sadrzaj)"
   ]
  },
  {
   "attachments": {},
   "cell_type": "markdown",
   "id": "7f52b24f",
   "metadata": {
    "deletable": false,
    "editable": false,
    "tags": []
   },
   "source": [
    "Dohvaća se cijela stranica u html formatu. Kako bismo mogli iskoristiti podatke koje se nalaze na stranici, važno je poznavati strukturu html jezika, a nakon toga ćemo lako pronaći gdje se na stranici nalazi tražena informacija.\n",
    "\n",
    "Da se ne bismo \"mučili\" dok ne dobijemo informaciju koju želimo, koristit ćemo alat ili modul **_Beautiful Soup_** koji je namijenjen jednostavnom \"čitanju\" html dokumenata unutar Python programskog kôda. Autori _Beautiful Soup_ alata, html kôd koji učitamo sa Internet stranice smatraju kao \"juhu\" iz koje možemo izvući korisne informacije na jednostavan način."
   ]
  },
  {
   "attachments": {},
   "cell_type": "markdown",
   "id": "9322f779",
   "metadata": {},
   "source": [
    "Kôd kojim se ispisuju svi html elementi na stranici koji počinju oznakom \\<p> i završavaju \\</p>:"
   ]
  },
  {
   "cell_type": "code",
   "execution_count": null,
   "id": "2bcfa9bb",
   "metadata": {},
   "outputs": [],
   "source": [
    "import urllib.request\n",
    "from bs4 import BeautifulSoup\n",
    "\n",
    "URL = 'https://www.algebra.hr'\n",
    "konekcija = urllib.request.urlopen(URL)\n",
    "sadrzaj = konekcija.read().decode()\n",
    "\n",
    "podaci = BeautifulSoup(sadrzaj, 'html.parser')\n",
    "paragrafi = podaci.find_all('p')\n",
    "for paragraf in paragrafi:\n",
    "   print(paragraf)"
   ]
  },
  {
   "attachments": {},
   "cell_type": "markdown",
   "id": "27677e19-4bb0-4a31-a3d0-d0ccc63b846b",
   "metadata": {
    "deletable": false,
    "editable": false,
    "tags": []
   },
   "source": [
    "**Python Requests**\n",
    "\n",
    "Daleko jednostavnij rad s RESTapi servisima na Internetu je pomoću modula *requests*.\n",
    "\n",
    "Instalacija: `pip install requests`."
   ]
  },
  {
   "attachments": {},
   "cell_type": "markdown",
   "id": "a87e317e",
   "metadata": {
    "deletable": false,
    "editable": false,
    "tags": []
   },
   "source": [
    "**Zadatak 1**\n",
    "\n",
    "S navedene stranice <a href=\"https://www.klubsumica.com/manje-privatne-zabave/\" target=\"_blank\">\"https://www.klubsumica.com/manje-privatne-zabave/\"</a> izdvojite sve odlomke (tekstove) i spremite u txt datoteku. Izdvojite kontakt (e-mail i broj mobitela) prikažite ih na zaslonu."
   ]
  },
  {
   "cell_type": "code",
   "execution_count": null,
   "id": "6b9a97ef",
   "metadata": {},
   "outputs": [],
   "source": [
    "import requests\n",
    "from bs4 import BeautifulSoup\n",
    "\n",
    "\n",
    "url = \"https://www.klubsumica.com/manje-privatne-zabave/\"\n",
    "response = requests.get(url)\n",
    "html_content = response.text\n",
    "\n",
    "\n",
    "soup = BeautifulSoup(html_content, \"html.parser\")\n",
    "\n",
    "\n",
    "paragraphs = soup.find_all(\"p\")\n",
    "\n",
    "\n",
    "filename_txt = \"odlomci.txt\"\n",
    "with open(filename_txt, \"w\") as file:\n",
    "    for paragraph in paragraphs:\n",
    "        file.write(paragraph.text + \"\\n\")\n",
    "\n",
    "\n",
    "        \n",
    "email = soup.select_one(\"a[href^='mailto:']\").get(\"href\")[7:]\n",
    "phone = soup.select_one(\"a[href^='tel:']\").text\n",
    "\n",
    "\n",
    "\n",
    "print(\"Kontakt informacije:\")\n",
    "print(\"E-mail:\", email)\n",
    "print(\"Broj mobitela:\", phone)\n"
   ]
  },
  {
   "attachments": {},
   "cell_type": "markdown",
   "id": "0ae2cba6",
   "metadata": {
    "deletable": false,
    "editable": false,
    "tags": []
   },
   "source": [
    "**Zadatak 2**\n",
    "\n",
    "S navedene stranice <a href=\"https://www.scrapethissite.com/pages/simple/\" target=\"_blank\">\"https://www.scrapethissite.com/pages/simple/\"</a> dohvatiti podatke i modificirati na način da se spremaju:\n",
    "- Liste država, glavnih gradova, populacije i površina\n",
    "- Rječnici u kojem je država ključ, a ostatak vrijednost \n",
    "- Objekti klase Drzava – u klasi izraditi metode za:\n",
    "- Ispis najveće i najmanje države na svijetu\n",
    "- Ispis države s najmanje i najviše stanovništva\n",
    "- Spremiti dobivene podatke u txt i json datoteku\n",
    "- Spremiti dobivene podatke u SQLite bazu podataka"
   ]
  },
  {
   "cell_type": "code",
   "execution_count": null,
   "id": "f798e6ef",
   "metadata": {},
   "outputs": [],
   "source": [
    "import requests\n",
    "import json\n",
    "import sqlite3\n",
    "from bs4 import BeautifulSoup\n",
    "\n",
    "\n",
    "class Country:\n",
    "    def __init__(self, name, capital, population, area):\n",
    "        self.name = name\n",
    "        self.capital = capital\n",
    "        self.population = population\n",
    "        self.area = area\n",
    "\n",
    "    def __repr__(self):\n",
    "        return f\"Country(name='{self.name}', capital='{self.capital}', population={self.population}, area={self.area})\"\n",
    "\n",
    "\n",
    "\n",
    "url = \"https://www.scrapethissite.com/pages/simple/\"\n",
    "response = requests.get(url)\n",
    "json_data = response.json()\n",
    "\n",
    "countries = []\n",
    "for data in json_data:\n",
    "    country = Country(data[\"country\"], data[\"capital\"], data[\"population\"], data[\"area\"])\n",
    "    countries.append(country)\n",
    "\n",
    "largest_country = max(countries, key=lambda c: c.area)\n",
    "smallest_country = min(countries, key=lambda c: c.area)\n",
    "\n",
    "most_populous_country = max(countries, key=lambda c: c.population)\n",
    "least_populous_country = min(countries, key=lambda c: c.population)\n",
    "\n",
    "\n",
    "\n",
    "filename_txt = \"countries.txt\"\n",
    "with open(filename_txt, \"w\") as file:\n",
    "    for country in countries:\n",
    "        file.write(str(country) + \"\\n\")\n",
    "\n",
    "filename_json = \"countries.json\"\n",
    "with open(filename_json, \"w\") as file:\n",
    "    json.dump([country.__dict__ for country in countries], file, indent=4)\n",
    "\n",
    "\n",
    "    \n",
    "conn = sqlite3.connect(\"countries.db\")\n",
    "cursor = conn.cursor()\n",
    "\n",
    "cursor.execute('''CREATE TABLE IF NOT EXISTS countries\n",
    "                  (name TEXT, capital TEXT, population INTEGER, area REAL)''')\n",
    "\n",
    "for country in countries:\n",
    "    cursor.execute(\"INSERT INTO countries VALUES (?, ?, ?, ?)\",\n",
    "                   (country.name, country.capital, country.population, country.area))\n",
    "\n",
    "conn.commit()\n",
    "conn.close()\n",
    "\n",
    "\n",
    "\n",
    "print(\"Najveća država na svijetu:\", largest_country)\n",
    "print(\"Najmanja država na svijetu:\", smallest_country)\n",
    "print(\"Država s najviše stanovnika:\", most_populous_country)\n",
    "print(\"Država s najmanje stanovnika:\", least_populous_country)\n",
    "print(\"Podaci su spremljeni u datoteke:\", filename_txt, \"i\", filename_json)\n",
    "print(\"Podaci su spremljeni u SQLite bazu podataka: countries.db\")\n"
   ]
  },
  {
   "attachments": {},
   "cell_type": "markdown",
   "id": "9fd80edc-ccf5-4ef4-b232-abe71e9e6e30",
   "metadata": {
    "deletable": false,
    "editable": false,
    "tags": []
   },
   "source": [
    "**Zadatak 3**\n",
    "\n",
    "Napišite program koji će preuzeti podatke o filmu s ID brojem 123456 pomoću API-ja i ispisati naziv filma. Adresa API-ja je <a href=\"https://example.com/api/film/123456\" target=\"_blank\">\"https://example.com/api/film/123456\"</a>, a naziv filma se nalazi u ključu \"title\"."
   ]
  },
  {
   "cell_type": "code",
   "execution_count": null,
   "id": "e14986e7-6b89-48ad-aac4-d06d2f4a9eac",
   "metadata": {},
   "outputs": [],
   "source": [
    "import requests\n",
    "\n",
    "# API URL\n",
    "api_url = \"https://example.com/api/film/123456\"\n",
    "\n",
    "response = requests.get(api_url)\n",
    "\n",
    "\n",
    "if response.status_code == 200:\n",
    "    json_data = response.json()\n",
    "    \n",
    "    film_title = json_data.get(\"title\")\n",
    "    \n",
    "    if film_title:\n",
    "        print(\"Naziv filma:\", film_title)\n",
    "    else:\n",
    "        print(\"Film s ID brojem 123456 nije pronađen.\")\n",
    "else:\n",
    "    print(\"Došlo je do greške prilikom dohvaćanja podataka o filmu.\")\n"
   ]
  },
  {
   "attachments": {},
   "cell_type": "markdown",
   "id": "c1f81ddc-c119-4c31-9221-5764d7f76183",
   "metadata": {
    "deletable": false,
    "editable": false,
    "tags": []
   },
   "source": [
    "**Zadatak 4**\n",
    "\n",
    "Napišite program koji će preuzeti podatke o deset najpopularnijih filmova u 2022. godini pomoću API-ja i ispisati njihove nazive. Adresa API-ja je <a href=\"https://example.com/api/popular_movies?year=2022\" target=\"_blank\">\"https://example.com/api/popular_movies?year=2022\"</a>, a nazivi filmova se nalaze u ključu \"title\"."
   ]
  },
  {
   "cell_type": "code",
   "execution_count": null,
   "id": "987b7dcd-3841-446c-a7fe-18619dfc555a",
   "metadata": {},
   "outputs": [],
   "source": [
    "import requests\n",
    "\n",
    "# API URL\n",
    "api_url = \"https://example.com/api/popular_movies?year=2022\"\n",
    "\n",
    "response = requests.get(api_url)\n",
    "\n",
    "if response.status_code == 200:\n",
    "    json_data = response.json()\n",
    "    \n",
    "    movies = json_data.get(\"movies\")\n",
    "    \n",
    "    if movies:\n",
    "        print(\"Najpopularniji filmovi u 2022. godini:\")\n",
    "        for movie in movies:\n",
    "            film_title = movie.get(\"title\")\n",
    "            print(film_title)\n",
    "    else:\n",
    "        print(\"Nema dostupnih podataka o najpopularnim filmovima u 2022. godini.\")\n",
    "\n",
    "else:\n",
    "    print(\"Došlo je do greške prilikom dohvaćanja podataka.\")\n"
   ]
  },
  {
   "attachments": {},
   "cell_type": "markdown",
   "id": "a4a3f6c0-664a-403d-9473-3f73cb1b0c70",
   "metadata": {
    "deletable": false,
    "editable": false,
    "tags": []
   },
   "source": [
    "**Zadatak 5**\n",
    "\n",
    "Napišite program koji će preuzeti podatke o filmu po nazivu pomoću API-ja i ispisati godinu izlaska tog filma. Adresa API-ja je <a href=\"https://example.com/api/search?title=Naziv%20filma\" target=\"_blank\">\"https://example.com/api/search?title=Naziv%20filma\"</a>, a godina izlaska se nalazi u ključu \"release_year\"."
   ]
  },
  {
   "cell_type": "code",
   "execution_count": null,
   "id": "e41d9db4-9685-4827-8b00-65be9b4d8c59",
   "metadata": {},
   "outputs": [],
   "source": [
    "import requests\n",
    "\n",
    "def get_film_info(title):\n",
    "    encoded_title = requests.utils.quote(title)\n",
    "    \n",
    "    api_url = f\"https://example.com/api/search?title={encoded_title}\"\n",
    "    \n",
    "    response = requests.get(api_url)\n",
    "    \n",
    "    if response.status_code == 200:\n",
    "        json_data = response.json()\n",
    "        \n",
    "        film_info = json_data.get(\"film\")\n",
    "        \n",
    "        if film_info:\n",
    "            release_year = film_info.get(\"release_year\")\n",
    "            \n",
    "            if release_year:\n",
    "                return release_year\n",
    "            else:\n",
    "                return \"Nema dostupnih informacija o godini izlaska filma.\"\n",
    "        else:\n",
    "            return \"Film nije pronađen.\"\n",
    "    else:\n",
    "        return \"Došlo je do greške prilikom dohvaćanja podataka.\"\n",
    "\n",
    "\n",
    "film_title = input(\"Unesite naziv filma: \")\n",
    "film_year = get_film_info(film_title)\n",
    "print(f\"Godina izlaska filma '{film_title}': {film_year}\")"
   ]
  },
  {
   "attachments": {},
   "cell_type": "markdown",
   "id": "c2f58da8-933b-46a1-be5b-01b2ec5f471c",
   "metadata": {
    "deletable": false,
    "editable": false,
    "tags": []
   },
   "source": [
    "**Zadatak 6**\n",
    "\n",
    "Napišite program koji će preuzeti podatke o svim filmovima koje je režirao određeni redatelj pomoću API-ja i ispisati njihove nazive. Adresa API-ja je <a href=\"https://example.com/api/director_movies?name=Ime%20redatelja\" target=\"_blank\">\"https://example.com/api/director_movies?name=Ime%20redatelja\"</a>, a nazivi filmova se nalaze u ključu \"title\"."
   ]
  },
  {
   "cell_type": "code",
   "execution_count": null,
   "id": "6519bcfc-835d-4d24-920d-f8416dda65d3",
   "metadata": {},
   "outputs": [],
   "source": [
    "import requests\n",
    "\n",
    "def get_director_movies(director_name):\n",
    "    encoded_name = requests.utils.quote(director_name)\n",
    "\n",
    "    api_url = f\"https://example.com/api/director_movies?name={encoded_name}\"\n",
    "    response = requests.get(api_url)\n",
    "    \n",
    "    if response.status_code == 200:\n",
    "        json_data = response.json()        \n",
    "        film_titles = json_data.get(\"titles\")\n",
    "        \n",
    "        if film_titles:\n",
    "            return film_titles\n",
    "        else:\n",
    "            return [\"Nema dostupnih filmova za navedenog redatelja.\"]\n",
    "    else:\n",
    "        return [\"Došlo je do greške prilikom dohvaćanja podataka.\"]\n",
    "\n",
    "\n",
    "    \n",
    "director_name = input(\"Unesite ime redatelja: \")\n",
    "film_titles = get_director_movies(director_name)\n",
    "\n",
    "if film_titles:\n",
    "    print(f\"Filmovi koje je režirao {director_name}:\")\n",
    "    for title in film_titles:\n",
    "        print(title)"
   ]
  },
  {
   "attachments": {},
   "cell_type": "markdown",
   "id": "9198c760-22ad-4e83-865b-3c97364f7137",
   "metadata": {
    "deletable": false,
    "editable": false,
    "tags": []
   },
   "source": [
    "**Zadatak 7**\n",
    "\n",
    "Napišite program koji će preuzeti podatke o filmu s najvišom ocjenom pomoću API-ja i ispisati naziv filma i njegovu ocjenu. Adresa API-ja je <a href=\"https://example.com/api/top_rated_movie\" target=\"_blank\">\"https://example.com/api/top_rated_movie\"</a>, a naziv filma se nalazi u ključu \"title\", a ocjena u ključu \"rating\"."
   ]
  },
  {
   "cell_type": "code",
   "execution_count": null,
   "id": "7c909ecd-42ff-4948-a17c-a558066cf792",
   "metadata": {},
   "outputs": [],
   "source": [
    "import requests\n",
    "\n",
    "\n",
    "def get_top_rated_movie():\n",
    "    api_url = \"https://example.com/api/top_rated_movie\"\n",
    "    response = requests.get(api_url)\n",
    "\n",
    "    if response.status_code == 200:\n",
    "        json_data = response.json()\n",
    "\n",
    "        movie_title = json_data.get(\"title\")\n",
    "        movie_rating = json_data.get(\"rating\")\n",
    "\n",
    "        if movie_title and movie_rating:\n",
    "            return movie_title, movie_rating\n",
    "        else:\n",
    "            return \"Nema dostupnih podataka za film s najvišom ocjenom.\"\n",
    "    else:\n",
    "        return \"Došlo je do greške prilikom dohvaćanja podataka.\"\n",
    "\n",
    "\n",
    "\n",
    "movie_title, movie_rating = get_top_rated_movie()\n",
    "\n",
    "print(\"Film s najvišom ocjenom:\")\n",
    "print(f\"Naziv: {movie_title}\")\n",
    "print(f\"Ocjena: {movie_rating}\")"
   ]
  },
  {
   "attachments": {},
   "cell_type": "markdown",
   "id": "a462e2fa-c225-421f-bdde-ab9be693fb1c",
   "metadata": {
    "deletable": false,
    "editable": false,
    "tags": []
   },
   "source": [
    "### Baze <a class=\"anchor\" id=\"modul3-baze\"></a>\n",
    "\n",
    "Baze podatka u Pythonu, kao i u drugim programskim jezicima, služe za **trajnu i strukturiranu pohranu podataka**. Python podržava rad s više različitih tipova baza podatka, a mi ćemo raditi samo s **SQLite**, integriranom relacijskom bazom podataka."
   ]
  },
  {
   "attachments": {},
   "cell_type": "markdown",
   "id": "22ed45be-1a76-4793-8b95-d3188769d4e3",
   "metadata": {
    "deletable": false,
    "editable": false,
    "tags": []
   },
   "source": [
    "### SQL jezik <a class=\"anchor\" id=\"modul3-sql\"></a>"
   ]
  },
  {
   "attachments": {},
   "cell_type": "markdown",
   "id": "b825483f-9a70-4578-a9df-894d4ad70f7d",
   "metadata": {
    "deletable": false,
    "editable": false,
    "tags": []
   },
   "source": [
    "Programski jezik za manipulaciju elementima i podacima u relacijskoj bazi podataka."
   ]
  },
  {
   "attachments": {},
   "cell_type": "markdown",
   "id": "802b1ed2-a617-460e-b0b1-f7ba6c47ec9e",
   "metadata": {
    "deletable": false,
    "editable": false,
    "tags": []
   },
   "source": [
    "**Dohvat**\\\n",
    "`SELECT lista_stupaca`\\\n",
    "`FROM naziv_tabele`"
   ]
  },
  {
   "attachments": {},
   "cell_type": "markdown",
   "id": "0d4d15da-2069-4d4e-94c7-cbcbe6a4dbe8",
   "metadata": {
    "deletable": false,
    "editable": false,
    "tags": []
   },
   "source": [
    "**Dodavanje / *Insert***\\\n",
    "`INSERT INTO naziv_tabele (stupac1,stupac2 ,..)`\\\n",
    "`VALUES(vrijednost1,vrijednost2 ,...);`"
   ]
  },
  {
   "attachments": {},
   "cell_type": "markdown",
   "id": "27e4eec2-22e1-4382-ad6c-d61cb23fbc38",
   "metadata": {
    "deletable": false,
    "editable": false,
    "tags": []
   },
   "source": [
    "**Ažuriranje / *Update***\\\n",
    "`UPDATE naziv_tabele`\\\n",
    "`SET stupac1 = nova_vrijednost1,`\\\n",
    "&nbsp;&nbsp;&nbsp;&nbsp;`stupac2 = nova_vrijednost2`\\\n",
    "`WHERE`\\\n",
    "&nbsp;&nbsp;&nbsp;&nbsp;`uvjet`"
   ]
  },
  {
   "attachments": {},
   "cell_type": "markdown",
   "id": "41cbb89f-7b11-452e-ae79-4bc08acd594d",
   "metadata": {
    "deletable": false,
    "editable": false,
    "tags": []
   },
   "source": [
    "**Brisanje / *Delete***\\\n",
    "`DELETE FROM naziv_tabele`\\\n",
    "`WHERE uvjet;`"
   ]
  },
  {
   "attachments": {},
   "cell_type": "markdown",
   "id": "bfc8053d-4a23-40d8-9cbc-9ab866264af5",
   "metadata": {
    "deletable": false,
    "editable": false,
    "tags": []
   },
   "source": [
    "### SQLite <a class=\"anchor\" id=\"modul3-sqlite\"></a>"
   ]
  },
  {
   "attachments": {},
   "cell_type": "markdown",
   "id": "bc9c6088-f587-4ea4-b479-22e08cdb0c4b",
   "metadata": {
    "deletable": false,
    "editable": false,
    "tags": []
   },
   "source": [
    "Kako koristiti baze podataka pomoću sqlite3 ugrađenog Python modula:"
   ]
  },
  {
   "cell_type": "code",
   "execution_count": 2,
   "id": "1340ccc1-5f0e-44b8-9dca-7780f2220d57",
   "metadata": {
    "deletable": false,
    "editable": false,
    "tags": []
   },
   "outputs": [
    {
     "name": "stdout",
     "output_type": "stream",
     "text": [
      "[('3.39.4',)]\n"
     ]
    }
   ],
   "source": [
    "import sqlite3\n",
    "\n",
    "try:\n",
    "    # 1. korak otvori konekciju prema bazi\n",
    "    db_connection = sqlite3.connect('putanja do datoteke u kojoj je baza')\n",
    "    # 2. korak kreiranje kursora za izvršavanje akcija na bazi podataka\n",
    "    cursor = db_connection.cursor()\n",
    "\n",
    "    # 3. korak pokreni sql upit\n",
    "    #cursor.execute('SQL Query upit za rad s podacima u bazi')\n",
    "    cursor.execute('SELECT sqlite_version()')\n",
    "\n",
    "    # 3.1. korak ako je upit za dohvati podataka (select) onda pozovemo fetchall()\n",
    "    record_set = cursor.fetchall()\n",
    "    print(record_set)\n",
    "\n",
    "    # 3.2. korak a ako je upit za promjenu podataka (insert, update i delete) onda pozovemo commit()\n",
    "    # ili snimi izmjene u bazu\n",
    "    #db_connection.commit()\n",
    "\n",
    "    # 4. korak zatvorimo cursor objekt\n",
    "    cursor.close()\n",
    "\n",
    "except sqlite3.Error as error:\n",
    "    print(f'Dogodila se SQL greska: {error}')\n",
    "except Exception as ex:\n",
    "    print(f'Dogodila se greska: {ex}')\n",
    "\n",
    "finally:\n",
    "    # Finalni korak zatvoriti konekciju prema bazi podataka\n",
    "    if db_connection:\n",
    "        db_connection.close()"
   ]
  },
  {
   "attachments": {},
   "cell_type": "markdown",
   "id": "aa8d78fc-2d74-4d8d-b3b7-9bf910ce34f1",
   "metadata": {
    "deletable": false,
    "editable": false,
    "tags": []
   },
   "source": [
    "#### Zadaci"
   ]
  },
  {
   "attachments": {},
   "cell_type": "markdown",
   "id": "ea2ec200-2e20-4792-bdc0-3d9def311aaf",
   "metadata": {
    "deletable": false,
    "editable": false,
    "tags": []
   },
   "source": [
    "**Zadatak 1**\n",
    "\n",
    "Kreirajte bazu podataka \"filmovi.db\" koja sadrži tablicu \"filmovi\" s poljima \"naslov\" (tekst), \"godina\" (broj) i \"ocjena\" (broj). Dodajte tri filma u tablicu (npr. \"Titanik\", 1997, 9.5; \"Prijatelji s povlasticama\", 1989, 8.2; \"Zvjezdani ratovi: Epizoda IV - Nova nada\", 1977, 8.7)."
   ]
  },
  {
   "cell_type": "code",
   "execution_count": null,
   "id": "173e052d-0023-4f54-8f87-c2f8ef278d9c",
   "metadata": {},
   "outputs": [],
   "source": [
    "import sqlite3\n",
    "\n",
    "# Kreiranje baze podataka i tablice\n",
    "def create_database():\n",
    "    # Spajanje na bazu podataka\n",
    "    conn = sqlite3.connect(\"filmovi.db\")\n",
    "    c = conn.cursor()\n",
    "\n",
    "    # Kreiranje tablice \"filmovi\" s potrebnim poljima\n",
    "    c.execute('''CREATE TABLE IF NOT EXISTS filmovi\n",
    "                (naslov TEXT, godina INTEGER, ocjena REAL)''')\n",
    "\n",
    "    # Unos podataka o filmovima u tablicu\n",
    "    filmovi = [\n",
    "        (\"Titanik\", 1997, 9.5),\n",
    "        (\"Prijatelji s povlasticama\", 1989, 8.2),\n",
    "        (\"Zvjezdani ratovi: Epizoda IV - Nova nada\", 1977, 8.7)\n",
    "    ]\n",
    "    c.executemany(\"INSERT INTO filmovi VALUES (?, ?, ?)\", filmovi)\n",
    "\n",
    "    # Spremanje promjena i zatvaranje veze s bazom\n",
    "    conn.commit()\n",
    "    conn.close()\n",
    "\n",
    "    print(\"Baza podataka filmovi.db je uspješno kreirana i popunjena.\")\n",
    "\n",
    "# Poziv funkcije za kreiranje baze podataka\n",
    "create_database()"
   ]
  },
  {
   "attachments": {},
   "cell_type": "markdown",
   "id": "a8a1387d-951e-4076-93f6-c543bc1c64eb",
   "metadata": {
    "deletable": false,
    "editable": false,
    "tags": []
   },
   "source": [
    "**Zadatak 2**\n",
    "\n",
    "Kreirajte program koji korisniku omogućuje dodavanje novih filmova u bazu podataka \"filmovi.db\". Program treba pitati korisnika za unos naslova, godine i ocjene filma te ih spremiti u tablicu \"filmovi\"."
   ]
  },
  {
   "cell_type": "code",
   "execution_count": null,
   "id": "bf68d53b-9f09-4369-9c87-faf05c0d8e1d",
   "metadata": {},
   "outputs": [],
   "source": [
    "import sqlite3\n",
    "\n",
    "# Funkcija za unos novog filma\n",
    "def unos_novog_filma():\n",
    "    # Spajanje na bazu podataka\n",
    "    conn = sqlite3.connect(\"filmovi.db\")\n",
    "    c = conn.cursor()\n",
    "\n",
    "    # Unos podataka o filmu od korisnika\n",
    "    naslov = input(\"Unesite naslov filma: \")\n",
    "    godina = int(input(\"Unesite godinu filma: \"))\n",
    "    ocjena = float(input(\"Unesite ocjenu filma: \"))\n",
    "\n",
    "    # Unos podataka u tablicu \"filmovi\"\n",
    "    c.execute(\"INSERT INTO filmovi (naslov, godina, ocjena) VALUES (?, ?, ?)\",\n",
    "              (naslov, godina, ocjena))\n",
    "\n",
    "    # Spremanje promjena i zatvaranje veze s bazom\n",
    "    conn.commit()\n",
    "    conn.close()\n",
    "\n",
    "    print(\"Film je uspješno dodan u bazu podataka.\")\n",
    "\n",
    "    \n",
    "# Pozivanje funkcije za unos novog filma\n",
    "unos_novog_filma()\n"
   ]
  },
  {
   "attachments": {},
   "cell_type": "markdown",
   "id": "d636b005-a8c1-40c1-8f7a-fad5ba27a949",
   "metadata": {
    "deletable": false,
    "editable": false,
    "tags": []
   },
   "source": [
    "**Zadatak 3**\n",
    "\n",
    "Napravite program koji prikazuje sve filmove u bazi podataka \"filmovi.db\" sortirane po godini. Za svaki film prikažite naslov, godinu i ocjenu."
   ]
  },
  {
   "cell_type": "code",
   "execution_count": null,
   "id": "332aa77b-be80-4934-90ab-88ce1b3297b1",
   "metadata": {},
   "outputs": [],
   "source": [
    "import sqlite3\n",
    "\n",
    "\n",
    "# Funkcija za prikaz svih filmova iz baze podataka\n",
    "def prikazi_filmove():\n",
    "    # Spajanje na bazu podataka\n",
    "    conn = sqlite3.connect(\"filmovi.db\")\n",
    "    c = conn.cursor()\n",
    "\n",
    "    # Izvršavanje SQL upita za dohvaćanje svih filmova sortiranih po godini\n",
    "    c.execute(\"SELECT naslov, godina, ocjena FROM filmovi ORDER BY godina\")\n",
    "\n",
    "    # Dohvaćanje svih rezultata upita\n",
    "    rezultati = c.fetchall()\n",
    "\n",
    "    # Prikaz svih filmova\n",
    "    for film in rezultati:\n",
    "        naslov, godina, ocjena = film\n",
    "        print(\"Naslov:\", naslov)\n",
    "        print(\"Godina:\", godina)\n",
    "        print(\"Ocjena:\", ocjena)\n",
    "        print()\n",
    "\n",
    "    # Zatvaranje veze s bazom podataka\n",
    "    conn.close()\n",
    "\n",
    "    \n",
    "# Pozivanje funkcije za prikaz filmova\n",
    "prikazi_filmove()\n"
   ]
  },
  {
   "attachments": {},
   "cell_type": "markdown",
   "id": "776acdf0-77af-4b92-a0f4-ea60bc8be149",
   "metadata": {
    "deletable": false,
    "editable": false,
    "tags": []
   },
   "source": [
    "**Zadatak 4**\n",
    "\n",
    "Napravite program koji prikazuje sve filmove u bazi podataka \"filmovi.db\" čija je ocjena veća od 8.0. Za svaki film prikažite naslov, godinu i ocjenu."
   ]
  },
  {
   "cell_type": "code",
   "execution_count": null,
   "id": "941f1fea-48df-4cd8-8c74-e5abe8a404ba",
   "metadata": {},
   "outputs": [],
   "source": [
    "import sqlite3\n",
    "\n",
    "\n",
    "# Funkcija za prikaz filmova s ocjenom većom od 8.0\n",
    "def prikazi_filmove():\n",
    "    # Spajanje na bazu podataka\n",
    "    conn = sqlite3.connect(\"filmovi.db\")\n",
    "    c = conn.cursor()\n",
    "\n",
    "    # Izvršavanje SQL upita za dohvaćanje filmova s ocjenom većom od 8.0\n",
    "    c.execute(\"SELECT naslov, godina, ocjena FROM filmovi WHERE ocjena > 8.0\")\n",
    "\n",
    "    # Dohvaćanje svih rezultata upita\n",
    "    rezultati = c.fetchall()\n",
    "\n",
    "    # Prikaz filmova\n",
    "    if len(rezultati) == 0:\n",
    "        print(\"Nema filmova s ocjenom većom od 8.0.\")\n",
    "    else:\n",
    "        print(\"Filmovi s ocjenom većom od 8.0:\")\n",
    "        for film in rezultati:\n",
    "            naslov, godina, ocjena = film\n",
    "            print(\"Naslov:\", naslov)\n",
    "            print(\"Godina:\", godina)\n",
    "            print(\"Ocjena:\", ocjena)\n",
    "            print()\n",
    "\n",
    "    # Zatvaranje veze s bazom podataka\n",
    "    conn.close()\n",
    "\n",
    "    \n",
    "# Pozivanje funkcije za prikaz filmova\n",
    "prikazi_filmove()\n"
   ]
  },
  {
   "attachments": {},
   "cell_type": "markdown",
   "id": "fd5203f5-89e6-4288-a9b1-c4a9f829fdad",
   "metadata": {
    "deletable": false,
    "editable": false,
    "tags": []
   },
   "source": [
    "**Zadatak 5**\n",
    "\n",
    "Napravite program koji omogućuje korisniku ažuriranje ocjene filma u bazi podataka \"filmovi.db\". Program treba pitati korisnika za unos naslova filma te novu ocjenu. Potom treba ažurirati ocjenu filma u tablici \"filmovi\"."
   ]
  },
  {
   "cell_type": "code",
   "execution_count": null,
   "id": "c632fce5-e93e-4194-95e0-8c7d6e1d6087",
   "metadata": {},
   "outputs": [],
   "source": [
    "import sqlite3\n",
    "\n",
    "\n",
    "# Funkcija za ažuriranje ocjene filma\n",
    "def azuriraj_ocjenu_filma():\n",
    "    # Spajanje na bazu podataka\n",
    "    conn = sqlite3.connect(\"filmovi.db\")\n",
    "    c = conn.cursor()\n",
    "\n",
    "    # Unos naslova filma od strane korisnika\n",
    "    naslov = input(\"Unesite naslov filma: \")\n",
    "\n",
    "    # Provjera postojanja filma u bazi podataka\n",
    "    c.execute(\"SELECT * FROM filmovi WHERE naslov=?\", (naslov,))\n",
    "    film = c.fetchone()\n",
    "    if film is None:\n",
    "        print(\"Film s navedenim naslovom ne postoji u bazi podataka.\")\n",
    "        conn.close()\n",
    "        return\n",
    "\n",
    "    # Unos nove ocjene od strane korisnika\n",
    "    nova_ocjena = float(input(\"Unesite novu ocjenu filma: \"))\n",
    "\n",
    "    # Ažuriranje ocjene filma\n",
    "    c.execute(\"UPDATE filmovi SET ocjena=? WHERE naslov=?\", (nova_ocjena, naslov))\n",
    "    conn.commit()\n",
    "\n",
    "    print(\"Ocjena filma uspješno ažurirana.\")\n",
    "\n",
    "    # Zatvaranje veze s bazom podataka\n",
    "    conn.close()\n",
    "\n",
    "    \n",
    "# Pozivanje funkcije za ažuriranje ocjene filma\n",
    "azuriraj_ocjenu_filma()\n"
   ]
  },
  {
   "attachments": {},
   "cell_type": "markdown",
   "id": "b51d27e6-3c70-4718-85fc-bcce5324094f",
   "metadata": {
    "deletable": false,
    "editable": false,
    "tags": []
   },
   "source": [
    "### SQL Alchemy <a class=\"anchor\" id=\"modul3-sql-alchemy\"></a>\n",
    "\n",
    "SQL Alchemy je biblioteka koja omogućuje rad Python aplikacija s bazama podataka.\n",
    "\n",
    "Instalacija:\\\n",
    "`pip install SQLAlchemy`"
   ]
  },
  {
   "attachments": {},
   "cell_type": "markdown",
   "id": "7012df4c-34b0-4d40-8fc4-93c215bd4de7",
   "metadata": {
    "deletable": false,
    "editable": false,
    "tags": []
   },
   "source": [
    "Kako koristiti baze podataka pomoću SQL Alchemy biblioteke:"
   ]
  },
  {
   "cell_type": "code",
   "execution_count": null,
   "id": "974e1e9d-cb6c-423f-80bd-468a36be23dd",
   "metadata": {
    "deletable": false,
    "editable": false,
    "tags": []
   },
   "outputs": [],
   "source": [
    "from sqlalchemy import (create_engine,\n",
    "    Column, Integer, String, ForeignKey)\n",
    "\n",
    "from sqlalchemy.orm import (sessionmaker,\n",
    "    declarative_base, relationship, backref)\n",
    "\n",
    "\n",
    "Base = declarative_base()\n",
    "\n",
    "# Deklaracija Tablica\n",
    "class Company(Base):\n",
    "    __tablename__ = 'companies'\n",
    "    id = Column(Integer, primary_key=True, autoincrement=True)\n",
    "    name = Column(String(150), nullable=False)\n",
    "    vat_id = Column(String(11), nullable=False)\n",
    "    email = Column(String(150), nullable=True)\n",
    "    phone = Column(String(50), nullable=True)\n",
    "\n",
    "    employees = relationship('Employee', backref=backref('company'))\n",
    "\n",
    "\n",
    "class Employee(Base):\n",
    "    __tablename__ = 'employees'\n",
    "    id = Column(Integer, primary_key=True, autoincrement=True)\n",
    "    first_name = Column(String(150), nullable=True)\n",
    "    last_name = Column(String(150), nullable=False)\n",
    "    email = Column(String(150), nullable=True)\n",
    "    phone = Column(String(50), nullable=True)\n",
    "\n",
    "    company_id = Column(Integer, ForeignKey('companies.id'), nullable=False)\n",
    "\n",
    "\n",
    "# Kreiranje baze\n",
    "db_path = 'sqlite:///db_data/py_bank.db'\n",
    "db_engine = create_engine(db_path)\n",
    "Base.metadata.create_all(db_engine)\n",
    "\n",
    "# Kreiranje session objekta - slično kao cursor u sqlite3 modulu\n",
    "Session = sessionmaker()\n",
    "Session.configure(bind=db_engine)\n",
    "session = Session()\n",
    "\n",
    "\n",
    "company = Company(\n",
    "        name = 'Firma 01',\n",
    "        vat_id = '123',\n",
    "        email = 'firma01@firma01.com',\n",
    "        phone = '123456'\n",
    "    )\n",
    "\n",
    "session.add(company)\n",
    "session.commit()\n"
   ]
  },
  {
   "attachments": {},
   "cell_type": "markdown",
   "id": "77b985ba-75e7-49da-abba-534670d03500",
   "metadata": {
    "deletable": false,
    "editable": false,
    "tags": []
   },
   "source": [
    "#### Zadaci"
   ]
  },
  {
   "attachments": {},
   "cell_type": "markdown",
   "id": "224c6b47-37e9-4784-ad64-6d3affa2c1a2",
   "metadata": {
    "deletable": false,
    "editable": false,
    "tags": []
   },
   "source": [
    "**Zadatak 1**\n",
    "\n",
    "Kreirajte bazu podataka \"movies\" s tablicom \"filmovi\" koja ima sljedeće stupce: id (integer, primarni ključ), naslov (tekst), godina (integer), žanr (tekst), ocjena (integer)."
   ]
  },
  {
   "cell_type": "code",
   "execution_count": null,
   "id": "16ab97d8-7162-4546-a478-bc238da6bc99",
   "metadata": {},
   "outputs": [],
   "source": [
    "from sqlalchemy import Column, Integer, String\n",
    "from sqlalchemy.ext.declarative import declarative_base\n",
    "from sqlalchemy import create_engine\n",
    "\n",
    "\n",
    "Base = declarative_base()\n",
    "\n",
    "\n",
    "class Film(Base):\n",
    "    __tablename__ = 'filmovi'\n",
    "    id = Column(Integer, primary_key=True)\n",
    "    naslov = Column(String)\n",
    "    godina = Column(Integer)\n",
    "    zanr = Column(String)\n",
    "    ocjena = Column(Integer)\n",
    "\n",
    "    \n",
    "# Kreiranje baze podataka\n",
    "engine = create_engine('sqlite:///movies.db')\n",
    "Base.metadata.create_all(engine)\n"
   ]
  },
  {
   "attachments": {},
   "cell_type": "markdown",
   "id": "c42b2b02-4dab-45b9-a5db-9f95fbde7d8a",
   "metadata": {
    "deletable": false,
    "editable": false,
    "tags": []
   },
   "source": [
    "**Zadatak 2**\n",
    "\n",
    "Napravite funkciju \"unesi_film\" koja će omogućiti korisniku da unese novi film u bazu podataka. Funkcija treba tražiti unos naslova, godine, žanra i ocjene, a zatim spremiti te podatke u bazu."
   ]
  },
  {
   "cell_type": "code",
   "execution_count": null,
   "id": "b601acab-a9ad-4480-886f-c0d529a34d4e",
   "metadata": {},
   "outputs": [],
   "source": [
    "from sqlalchemy import create_engine, Column, Integer, String\n",
    "from sqlalchemy.orm import sessionmaker\n",
    "from sqlalchemy.ext.declarative import declarative_base\n",
    "\n",
    "Base = declarative_base()\n",
    "\n",
    "\n",
    "class Film(Base):\n",
    "    __tablename__ = 'filmovi'\n",
    "    id = Column(Integer, primary_key=True)\n",
    "    naslov = Column(String)\n",
    "    godina = Column(Integer)\n",
    "    zanr = Column(String)\n",
    "    ocjena = Column(Integer)\n",
    "\n",
    "\n",
    "def unesi_film():\n",
    "    # Stvaranje veze s bazom podataka\n",
    "    engine = create_engine('sqlite:///movies.db')\n",
    "    Base.metadata.bind = engine\n",
    "\n",
    "    # Stvaranje sesije\n",
    "    Session = sessionmaker(bind=engine)\n",
    "    session = Session()\n",
    "\n",
    "    # Unos podataka od korisnika\n",
    "    naslov = input('Unesite naslov filma: ')\n",
    "    godina = int(input('Unesite godinu filma: '))\n",
    "    zanr = input('Unesite žanr filma: ')\n",
    "    ocjena = int(input('Unesite ocjenu filma: '))\n",
    "\n",
    "    # Kreiranje novog objekta filma\n",
    "    film = Film(naslov=naslov, godina=godina, zanr=zanr, ocjena=ocjena)\n",
    "\n",
    "    # Spremanje filma u bazu podataka\n",
    "    session.add(film)\n",
    "    session.commit()\n",
    "\n",
    "    print('Film je uspješno dodan u bazu podataka.')\n",
    "\n",
    "\n",
    "# Poziv funkcije za unos filma\n",
    "unesi_film()\n"
   ]
  },
  {
   "attachments": {},
   "cell_type": "markdown",
   "id": "d5866d56-b3e3-492d-8ebd-b5d69a19ce62",
   "metadata": {
    "deletable": false,
    "editable": false,
    "tags": []
   },
   "source": [
    "**Zadatak 3**\n",
    "\n",
    "Napravite funkciju \"izlistaj_filmove\" koja će ispisati sve filmove iz baze podataka, sortirane po godini, a zatim po ocjeni. Funkcija treba ispisati naslov, godinu, žanr i ocjenu za svaki film."
   ]
  },
  {
   "cell_type": "code",
   "execution_count": null,
   "id": "f69a83a0-ff1a-45cb-a316-316df958690e",
   "metadata": {},
   "outputs": [],
   "source": [
    "from sqlalchemy import create_engine, Column, Integer, String\n",
    "from sqlalchemy.orm import sessionmaker\n",
    "from sqlalchemy.ext.declarative import declarative_base\n",
    "\n",
    "Base = declarative_base()\n",
    "\n",
    "\n",
    "class Film(Base):\n",
    "    __tablename__ = 'filmovi'\n",
    "    id = Column(Integer, primary_key=True)\n",
    "    naslov = Column(String)\n",
    "    godina = Column(Integer)\n",
    "    zanr = Column(String)\n",
    "    ocjena = Column(Integer)\n",
    "\n",
    "\n",
    "def izlistaj_filmove():\n",
    "    # Stvaranje veze s bazom podataka\n",
    "    engine = create_engine('sqlite:///movies.db')\n",
    "    Base.metadata.bind = engine\n",
    "\n",
    "    # Stvaranje sesije\n",
    "    Session = sessionmaker(bind=engine)\n",
    "    session = Session()\n",
    "\n",
    "    # Dohvaćanje svih filmova iz baze podataka, sortiranih po godini i ocjeni\n",
    "    filmovi = session.query(Film).order_by(Film.godina, Film.ocjena).all()\n",
    "\n",
    "    # Ispis podataka o filmovima\n",
    "    for film in filmovi:\n",
    "        print('Naslov: ', film.naslov)\n",
    "        print('Godina: ', film.godina)\n",
    "        print('Žanr: ', film.zanr)\n",
    "        print('Ocjena: ', film.ocjena)\n",
    "        print('---')\n",
    "\n",
    "    if not filmovi:\n",
    "        print('Nema dostupnih filmova.')\n",
    "\n",
    "        \n",
    "# Poziv funkcije za ispis filmova\n",
    "izlistaj_filmove()\n"
   ]
  },
  {
   "attachments": {},
   "cell_type": "markdown",
   "id": "95a988d3-e441-4102-b12d-aa0a302a7187",
   "metadata": {
    "deletable": false,
    "editable": false,
    "tags": []
   },
   "source": [
    "**Zadatak 4**\n",
    "\n",
    "Napravite funkciju \"promijeni_ocjenu\" koja će omogućiti korisniku da promijeni ocjenu nekog filma. Funkcija treba tražiti unos naslova filma i nove ocjene, a zatim ažurirati bazu podataka."
   ]
  },
  {
   "cell_type": "code",
   "execution_count": null,
   "id": "47fbcc08-6c1b-4fe3-b3e0-a43c29801554",
   "metadata": {},
   "outputs": [],
   "source": [
    "from sqlalchemy import create_engine, Column, Integer, String\n",
    "from sqlalchemy.orm import sessionmaker\n",
    "from sqlalchemy.ext.declarative import declarative_base\n",
    "\n",
    "Base = declarative_base()\n",
    "\n",
    "\n",
    "class Film(Base):\n",
    "    __tablename__ = 'filmovi'\n",
    "    id = Column(Integer, primary_key=True)\n",
    "    naslov = Column(String)\n",
    "    godina = Column(Integer)\n",
    "    zanr = Column(String)\n",
    "    ocjena = Column(Integer)\n",
    "\n",
    "\n",
    "def promijeni_ocjenu():\n",
    "    # Stvaranje veze s bazom podataka\n",
    "    engine = create_engine('sqlite:///movies.db')\n",
    "    Base.metadata.bind = engine\n",
    "\n",
    "    # Stvaranje sesije\n",
    "    Session = sessionmaker(bind=engine)\n",
    "    session = Session()\n",
    "\n",
    "    # Unos naslova filma i nove ocjene\n",
    "    naslov_filma = input('Unesite naslov filma: ')\n",
    "    nova_ocjena = int(input('Unesite novu ocjenu: '))\n",
    "\n",
    "    # Dohvaćanje filma iz baze podataka na temelju naslova\n",
    "    film = session.query(Film).filter_by(naslov=naslov_filma).first()\n",
    "\n",
    "    if film:\n",
    "        # Ažuriranje ocjene filma\n",
    "        film.ocjena = nova_ocjena\n",
    "        session.commit()\n",
    "        print('Ocjena filma je uspješno promijenjena.')\n",
    "    else:\n",
    "        print('Film s unesenim naslovom ne postoji.')\n",
    "\n",
    "        \n",
    "        \n",
    "# Poziv funkcije za promjenu ocjene filma\n",
    "promijeni_ocjenu()\n"
   ]
  },
  {
   "attachments": {},
   "cell_type": "markdown",
   "id": "ad55c3c8-bfd3-46f0-b411-7959a505c17b",
   "metadata": {
    "deletable": false,
    "editable": false,
    "tags": []
   },
   "source": [
    "**Zadatak 5**\n",
    "\n",
    "Napravite funkciju \"izbriši_film\" koja će omogućiti korisniku da izbriše neki film iz baze podataka. Funkcija treba tražiti unos naslova filma koji se briše, a zatim izbrisati taj film iz baze podataka."
   ]
  },
  {
   "cell_type": "code",
   "execution_count": null,
   "id": "f109be3a-078e-42f7-9eb5-177caab30b58",
   "metadata": {},
   "outputs": [],
   "source": [
    "from sqlalchemy import create_engine, Column, Integer, String\n",
    "from sqlalchemy.orm import sessionmaker\n",
    "from sqlalchemy.ext.declarative import declarative_base\n",
    "\n",
    "Base = declarative_base()\n",
    "\n",
    "\n",
    "class Film(Base):\n",
    "    __tablename__ = 'filmovi'\n",
    "    id = Column(Integer, primary_key=True)\n",
    "    naslov = Column(String)\n",
    "    godina = Column(Integer)\n",
    "    zanr = Column(String)\n",
    "    ocjena = Column(Integer)\n",
    "\n",
    "\n",
    "def izbrisi_film():\n",
    "    # Stvaranje veze s bazom podataka\n",
    "    engine = create_engine('sqlite:///movies.db')\n",
    "    Base.metadata.bind = engine\n",
    "\n",
    "    # Stvaranje sesije\n",
    "    Session = sessionmaker(bind=engine)\n",
    "    session = Session()\n",
    "\n",
    "    # Unos naslova filma za brisanje\n",
    "    naslov_filma = input('Unesite naslov filma koji želite izbrisati: ')\n",
    "\n",
    "    # Dohvaćanje filma iz baze podataka na temelju naslova\n",
    "    film = session.query(Film).filter_by(naslov=naslov_filma).first()\n",
    "\n",
    "    if film:\n",
    "        # Brisanje filma iz baze podataka\n",
    "        session.delete(film)\n",
    "        session.commit()\n",
    "        print('Film je uspješno izbrisan.')\n",
    "    else:\n",
    "        print('Film s unesenim naslovom ne postoji.')\n",
    "\n",
    "        \n",
    "        \n",
    "# Poziv funkcije za brisanje filma\n",
    "izbrisi_film()\n"
   ]
  },
  {
   "attachments": {},
   "cell_type": "markdown",
   "id": "5a59be06-6232-4af2-a7f4-4bdd4bd1744c",
   "metadata": {
    "deletable": false,
    "editable": false,
    "tags": []
   },
   "source": [
    "### GUI <a class=\"anchor\" id=\"modul3-gui\"></a>\n",
    "\n"
   ]
  },
  {
   "attachments": {},
   "cell_type": "markdown",
   "id": "b072e6cd",
   "metadata": {},
   "source": [
    "Grafičko korisničko sučelje (end. *Graphical User Interface*) danas je neizostavan dio bilo koje korisnički orijentirane aplikacije. Tkinter je modul koji se isporučuje uz Python, a namijenjen je za izradu grafičkog sučelja."
   ]
  },
  {
   "cell_type": "code",
   "execution_count": null,
   "id": "4d5cc89f-9fc4-4a9a-ab8b-dc2f85fabe21",
   "metadata": {
    "deletable": false,
    "editable": false,
    "tags": []
   },
   "outputs": [],
   "source": [
    "import tkinter\n",
    "\n",
    "\n",
    "def btn_save_handler():\n",
    "    print('Button Save je kliknut')\n",
    "\n",
    "\n",
    "def btn_cancel_handler():\n",
    "    print('Button Cancel je kliknut')\n",
    "\n",
    "\n",
    "\n",
    "main_window = tkinter.Tk()\n",
    "main_window.title('Naslov glavnog prozora')\n",
    "main_window.geometry('600x400')\n",
    "\n",
    "\n",
    "labela = tkinter.Label(main_window,\n",
    "                                   text='Tekstualna poruka:',\n",
    "                                   font=('Segoe UI', 14))\n",
    "labela.grid(row=0, column=0,\n",
    "            padx=10, pady=15,\n",
    "            sticky=tkinter.E)\n",
    "\n",
    "entry_var = tkinter.StringVar()\n",
    "entry = tkinter.Entry(main_window,\n",
    "                      font=('Segoe UI', 14),\n",
    "                      textvariable=entry_var)\n",
    "entry.grid(row=0, column=1, columnspan=2,\n",
    "           padx=10, pady=15,\n",
    "           sticky=tkinter.W)\n",
    "\n",
    "\n",
    "btn_save = tkinter.Button(main_window,\n",
    "                               text='Snimi',\n",
    "                               font=('Segoe UI', 12),\n",
    "                               command=btn_save_handler)\n",
    "btn_save.grid(row=1, column=0,\n",
    "                   padx=10, pady=15,\n",
    "                   sticky=tkinter.W)\n",
    "\n",
    "btn_cancel = tkinter.Button(main_window,\n",
    "                                 text='Odustani',\n",
    "                                 font=('Segoe UI', 12),\n",
    "                                 command=btn_cancel_handler)\n",
    "btn_cancel.grid(row=1, column=1,\n",
    "                     padx=10, pady=15,\n",
    "                     sticky=tkinter.E)\n",
    "\n",
    "\n",
    "\n",
    "main_window.mainloop()"
   ]
  },
  {
   "attachments": {},
   "cell_type": "markdown",
   "id": "f503d9fb-e7ce-438e-a98e-2ad9e0cc0ebb",
   "metadata": {
    "deletable": false,
    "editable": false,
    "tags": []
   },
   "source": [
    "#### Zadaci"
   ]
  },
  {
   "attachments": {},
   "cell_type": "markdown",
   "id": "90aa46de-071d-4daa-89bd-ab8fe86800e3",
   "metadata": {
    "deletable": false,
    "editable": false,
    "tags": []
   },
   "source": [
    "**Zadatak 1**\n",
    "\n",
    "Napravite program koji ima jedno polje za unos teksta, gumb za pretragu i tekstovno polje za prikaz rezultata pretrage. Korisnik će upisati ime filma u polje za unos teksta, pritiskom na gumb pretrage će se pretražiti baza podataka s filmovima i prikazati svi filmovi koji sadrže taj tekst u nazivu ili opisu filma."
   ]
  },
  {
   "cell_type": "code",
   "execution_count": null,
   "id": "0ee253a2-6c98-4df1-b513-49e3b96304be",
   "metadata": {},
   "outputs": [],
   "source": [
    "import tkinter as tk\n",
    "from tkinter import scrolledtext\n",
    "from sqlalchemy import create_engine, Column, Integer, String\n",
    "from sqlalchemy.orm import sessionmaker\n",
    "from sqlalchemy.ext.declarative import declarative_base\n",
    "\n",
    "Base = declarative_base()\n",
    "\n",
    "\n",
    "class Film(Base):\n",
    "    __tablename__ = 'filmovi'\n",
    "    id = Column(Integer, primary_key=True)\n",
    "    naslov = Column(String)\n",
    "    opis = Column(String)\n",
    "\n",
    "\n",
    "def pretrazi_filmove():\n",
    "    # Dohvaćanje unesenog teksta za pretragu\n",
    "    tekst_pretrage = unos_teksta.get()\n",
    "\n",
    "    # Stvaranje veze s bazom podataka\n",
    "    engine = create_engine('sqlite:///movies.db')\n",
    "    Base.metadata.bind = engine\n",
    "\n",
    "    # Stvaranje sesije\n",
    "    Session = sessionmaker(bind=engine)\n",
    "    session = Session()\n",
    "\n",
    "    # Pretraga baze podataka za filmove koji sadrže uneseni tekst u nazivu ili opisu\n",
    "    rezultati = session.query(Film).filter(Film.naslov.like(f\"%{tekst_pretrage}%\") |\n",
    "                                           Film.opis.like(f\"%{tekst_pretrage}%\")).all()\n",
    "\n",
    "    # Ispis rezultata pretrage\n",
    "    tekst_prikaza.delete(1.0, tk.END)  # Brišemo prethodne rezultate\n",
    "    for film in rezultati:\n",
    "        tekst_prikaza.insert(tk.END, f\"Naslov: {film.naslov}\\nOpis: {film.opis}\\n\\n\")\n",
    "\n",
    "\n",
    "        \n",
    "# Stvaranje glavnog prozora\n",
    "prozor = tk.Tk()\n",
    "prozor.title(\"Pretraga filmova\")\n",
    "\n",
    "# Polje za unos teksta\n",
    "unos_teksta = tk.Entry(prozor, width=30)\n",
    "unos_teksta.pack()\n",
    "\n",
    "# Gumb za pretragu\n",
    "gumb_pretrage = tk.Button(prozor, text=\"Pretraži\", command=pretrazi_filmove)\n",
    "gumb_pretrage.pack()\n",
    "\n",
    "# Tekstovno polje za prikaz rezultata pretrage\n",
    "tekst_prikaza = scrolledtext.ScrolledText(prozor, width=50, height=10)\n",
    "tekst_prikaza.pack()\n",
    "\n",
    "\n",
    "# Pokretanje glavne petlje programa\n",
    "prozor.mainloop()\n"
   ]
  },
  {
   "attachments": {},
   "cell_type": "markdown",
   "id": "2a2390b8-d712-4e7b-a56e-af1109522ff9",
   "metadata": {
    "deletable": false,
    "editable": false,
    "tags": []
   },
   "source": [
    "**Zadatak 2**\n",
    "\n",
    "Napravite program koji prikazuje naslovnicu određenog filma. Korisnik će upisati ime filma u polje za unos teksta, pritiskom na gumb prikazat će se naslovna slika filma, ako postoji u bazi podataka."
   ]
  },
  {
   "cell_type": "code",
   "execution_count": null,
   "id": "f46b04ec-a2c0-498e-9bc9-bc08c335834d",
   "metadata": {},
   "outputs": [],
   "source": [
    "# film.py\n",
    "\n",
    "from sqlalchemy import Column, Integer, String\n",
    "from sqlalchemy.ext.declarative import declarative_base\n",
    "\n",
    "Base = declarative_base()\n",
    "\n",
    "class Film(Base):\n",
    "    __tablename__ = 'filmovi'\n",
    "    id = Column(Integer, primary_key=True)\n",
    "    naslov = Column(String)\n",
    "    naslovna_slika = Column(String)\n",
    "\n",
    "    \n",
    "# baza.py - baza vec mora biti kreirana\n",
    "from sqlalchemy import create_engine\n",
    "from sqlalchemy.orm import sessionmaker\n",
    "from film import Film\n",
    "\n",
    "def povezi_bazu():\n",
    "    engine = create_engine('sqlite:///movies.db')\n",
    "    Base.metadata.bind = engine\n",
    "    Session = sessionmaker(bind=engine)\n",
    "    session = Session()\n",
    "    return session\n",
    "\n",
    "\n",
    "# gui.py\n",
    "import tkinter as tk\n",
    "import requests\n",
    "from PIL import ImageTk, Image\n",
    "from baza import povezi_bazu\n",
    "from film import Film\n",
    "\n",
    "def prikazi_naslovnicu():\n",
    "    unos = unos_teksta.get()\n",
    "\n",
    "    session = povezi_bazu()\n",
    "    film = session.query(Film).filter(Film.naslov.ilike(f\"%{unos}%\")).first()\n",
    "    session.close()\n",
    "\n",
    "    if film:\n",
    "        naslovna_slika = film.naslovna_slika\n",
    "        if naslovna_slika:\n",
    "            response = requests.get(naslovna_slika)\n",
    "            if response.status_code == 200:\n",
    "                # Preuzimanje slike i prikaz\n",
    "                slika = Image.open(BytesIO(response.content))\n",
    "                slika = slika.resize((300, 400), Image.ANTIALIAS)\n",
    "                naslovna_slika_labela.configure(image=ImageTk.PhotoImage(slika))\n",
    "                naslovna_slika_labela.image = ImageTk.PhotoImage(slika)\n",
    "            else:\n",
    "                naslovna_slika_labela.configure(image='')\n",
    "                naslovna_slika_labela.image = None\n",
    "        else:\n",
    "            naslovna_slika_labela.configure(image='')\n",
    "            naslovna_slika_labela.image = None\n",
    "    else:\n",
    "        naslovna_slika_labela.configure(image='')\n",
    "        naslovna_slika_labela.image = None\n",
    "\n",
    "        \n",
    "# Stvaranje glavnog prozora\n",
    "prozor = tk.Tk()\n",
    "prozor.title(\"Prikaz naslovnice filma\")\n",
    "\n",
    "\n",
    "# Polje za unos teksta\n",
    "unos_teksta = tk.Entry(prozor, width=30)\n",
    "unos_teksta.pack()\n",
    "\n",
    "\n",
    "# Gumb za prikaz naslovnice\n",
    "gumb_prikaza = tk.Button(prozor, text=\"Prikaži naslovnicu\", command=prikazi_naslovnicu)\n",
    "gumb_prikaza.pack()\n",
    "\n",
    "\n",
    "# Labela za prikaz naslovnice\n",
    "naslovna_slika_labela = tk.Label(prozor)\n",
    "naslovna_slika_labela.pack()\n",
    "\n",
    "\n",
    "# Pokretanje glavne petlje programa\n",
    "prozor.mainloop()\n"
   ]
  },
  {
   "attachments": {},
   "cell_type": "markdown",
   "id": "b00202df-4e03-431c-83be-e3cfb69cb9a6",
   "metadata": {
    "deletable": false,
    "editable": false,
    "tags": []
   },
   "source": [
    "**Zadatak 3**\n",
    "\n",
    "Napravite program koji ima padajući izbornik s popisom svih filmova u bazi podataka, gumb za prikaz detalja filma i tekstovno polje za prikaz detalja. Korisnik će odabrati film iz padajućeg izbornika, pritiskom na gumb prikazat će se detalji odabranog filma, ako postoje u bazi podataka."
   ]
  },
  {
   "cell_type": "code",
   "execution_count": null,
   "id": "0ce414c6-7f53-47cf-b0da-6f2178a8dde9",
   "metadata": {},
   "outputs": [],
   "source": [
    "# baza.py\n",
    "from sqlalchemy import create_engine\n",
    "from sqlalchemy.orm import sessionmaker\n",
    "from sqlalchemy.ext.declarative import declarative_base\n",
    "from sqlalchemy import Column, Integer, String\n",
    "\n",
    "Base = declarative_base()\n",
    "\n",
    "class Film(Base):\n",
    "    __tablename__ = 'filmovi'\n",
    "    id = Column(Integer, primary_key=True)\n",
    "    naslov = Column(String)\n",
    "    godina = Column(Integer)\n",
    "    zanr = Column(String)\n",
    "    ocjena = Column(Integer)\n",
    "    opis = Column(String)\n",
    "\n",
    "def povezi_bazu():\n",
    "    engine = create_engine('sqlite:///movies.db')\n",
    "    Base.metadata.create_all(engine)\n",
    "    Session = sessionmaker(bind=engine)\n",
    "    session = Session()\n",
    "    return session\n",
    "\n",
    "\n",
    "#gui.py\n",
    "import tkinter as tk\n",
    "from baza import povezi_bazu, Film\n",
    "\n",
    "def prikazi_detalje():\n",
    "    odabrani_film = izbornik_var.get()\n",
    "\n",
    "    session = povezi_bazu()\n",
    "    film = session.query(Film).filter_by(naslov=odabrani_film).first()\n",
    "    session.close()\n",
    "\n",
    "    if film:\n",
    "        detalji_text.delete(1.0, tk.END)\n",
    "        detalji_text.insert(tk.END, f\"Naslov: {film.naslov}\\n\")\n",
    "        detalji_text.insert(tk.END, f\"Godina: {film.godina}\\n\")\n",
    "        detalji_text.insert(tk.END, f\"Žanr: {film.zanr}\\n\")\n",
    "        detalji_text.insert(tk.END, f\"Ocjena: {film.ocjena}\\n\")\n",
    "        detalji_text.insert(tk.END, f\"Opis: {film.opis}\")\n",
    "    else:\n",
    "        detalji_text.delete(1.0, tk.END)\n",
    "        detalji_text.insert(tk.END, \"Film nije pronađen.\")\n",
    "\n",
    "        \n",
    "# Stvaranje glavnog prozora\n",
    "prozor = tk.Tk()\n",
    "prozor.title(\"Detalji filma\")\n",
    "\n",
    "# Povezivanje s bazom podataka\n",
    "session = povezi_bazu()\n",
    "filmovi = session.query(Film).all()\n",
    "session.close()\n",
    "\n",
    "# Izrada padajućeg izbornika s popisom filmova\n",
    "izbornik_var = tk.StringVar(prozor)\n",
    "izbornik_var.set(\"Odaberi film\")\n",
    "\n",
    "izbornik = tk.OptionMenu(prozor, izbornik_var, *filmovi)\n",
    "izbornik.pack()\n",
    "\n",
    "# Gumb za prikaz detalja filma\n",
    "gumb_detalji = tk.Button(prozor, text=\"Prikaži detalje\", command=prikazi_detalje)\n",
    "gumb_detalji.pack()\n",
    "\n",
    "# Tekstovno polje za prikaz detalja\n",
    "detalji_text = tk.Text(prozor, height=10, width=50)\n",
    "detalji_text.pack()\n",
    "\n",
    "# Pokretanje glavne petlje programa\n",
    "prozor.mainloop()\n"
   ]
  },
  {
   "attachments": {},
   "cell_type": "markdown",
   "id": "563c7448-3e2f-4f10-b1ce-1c7b65058354",
   "metadata": {
    "deletable": false,
    "editable": false,
    "tags": []
   },
   "source": [
    "**Zadatak 4**\n",
    "\n",
    "Napravite program za unos novog filma u bazu podataka. Program treba imati polja za unos naziva filma, godine izdanja, žanra i opisa filma te gumb za spremanje novog filma u bazu podataka."
   ]
  },
  {
   "cell_type": "code",
   "execution_count": null,
   "id": "dc827dd4-d975-40e6-bf88-2232355d619b",
   "metadata": {},
   "outputs": [],
   "source": [
    "# baza.py\n",
    "from sqlalchemy import create_engine\n",
    "from sqlalchemy.orm import sessionmaker\n",
    "from sqlalchemy.ext.declarative import declarative_base\n",
    "from sqlalchemy import Column, Integer, String\n",
    "\n",
    "Base = declarative_base()\n",
    "\n",
    "class Film(Base):\n",
    "    __tablename__ = 'filmovi'\n",
    "    id = Column(Integer, primary_key=True)\n",
    "    naslov = Column(String)\n",
    "    godina = Column(Integer)\n",
    "    zanr = Column(String)\n",
    "    opis = Column(String)\n",
    "\n",
    "def povezi_bazu():\n",
    "    engine = create_engine('sqlite:///movies.db')\n",
    "    Base.metadata.create_all(engine)\n",
    "    Session = sessionmaker(bind=engine)\n",
    "    session = Session()\n",
    "    return session\n",
    "\n",
    "\n",
    "# gui.py\n",
    "import tkinter as tk\n",
    "from baza import povezi_bazu, Film\n",
    "\n",
    "def spremi_film():\n",
    "    naslov = naslov_entry.get()\n",
    "    godina = int(godina_entry.get())\n",
    "    zanr = zanr_entry.get()\n",
    "    opis = opis_entry.get(\"1.0\", tk.END).strip()\n",
    "\n",
    "    if not naslov or not godina or not zanr or not opis:\n",
    "        tk.messagebox.showwarning(\"Upozorenje\", \"Molimo ispunite sva polja.\")\n",
    "        return\n",
    "\n",
    "    film = Film(naslov=naslov, godina=godina, zanr=zanr, opis=opis)\n",
    "\n",
    "    session = povezi_bazu()\n",
    "    session.add(film)\n",
    "    session.commit()\n",
    "    session.close()\n",
    "\n",
    "    tk.messagebox.showinfo(\"Uspjeh\", \"Film je uspješno spremljen.\")\n",
    "\n",
    "# Stvaranje glavnog prozora\n",
    "prozor = tk.Tk()\n",
    "prozor.title(\"Unos novog filma\")\n",
    "\n",
    "# Polje za unos naslova filma\n",
    "naslov_label = tk.Label(prozor, text=\"Naslov filma:\")\n",
    "naslov_label.pack()\n",
    "\n",
    "naslov_entry = tk.Entry(prozor)\n",
    "naslov_entry.pack()\n",
    "\n",
    "# Polje za unos godine izdanja filma\n",
    "godina_label = tk.Label(prozor, text=\"Godina izdanja:\")\n",
    "godina_label.pack()\n",
    "\n",
    "godina_entry = tk.Entry(prozor)\n",
    "godina_entry.pack()\n",
    "\n",
    "# Polje za unos žanra filma\n",
    "zanr_label = tk.Label(prozor, text=\"Žanr filma:\")\n",
    "zanr_label.pack()\n",
    "\n",
    "zanr_entry = tk.Entry(prozor)\n",
    "zanr_entry.pack()\n",
    "\n",
    "# Polje za unos opisa filma\n",
    "opis_label = tk.Label(prozor, text=\"Opis filma:\")\n",
    "opis_label.pack()\n",
    "\n",
    "opis_entry = tk.Text(prozor, height=5, width=30)\n",
    "opis_entry.pack()\n",
    "\n",
    "# Gumb za spremanje filma\n",
    "gumb_spremi = tk.Button(prozor, text=\"Spremi film\", command=spremi_film)\n",
    "gumb_spremi.pack()\n",
    "\n",
    "# Pokretanje glavne petlje programa\n",
    "prozor.mainloop()\n"
   ]
  },
  {
   "attachments": {},
   "cell_type": "markdown",
   "id": "6ca8c41a-9c9a-4790-a09c-a6f0aaf955f4",
   "metadata": {
    "deletable": false,
    "editable": false,
    "tags": []
   },
   "source": [
    "**Zadatak 5**\n",
    "\n",
    "Napravite program koji ima padajući izbornik s popisom svih žanrova u bazi podataka, gumb za prikaz filmova za odabrani žanr i tekstovno polje za prikaz rezultata pretrage. Korisnik će odabrati žanr iz padajućeg izbornika, pritiskom na gumb pretrage će se pretražiti baza podataka i prikazati svi filmovi koji pripadaju odabranom žanru."
   ]
  },
  {
   "cell_type": "code",
   "execution_count": null,
   "id": "72ecb6a4-19c3-4876-9d7d-92d9d2abac98",
   "metadata": {},
   "outputs": [],
   "source": [
    "# baza.py\n",
    "from sqlalchemy import create_engine\n",
    "from sqlalchemy.orm import sessionmaker\n",
    "from sqlalchemy.ext.declarative import declarative_base\n",
    "from sqlalchemy import Column, Integer, String\n",
    "\n",
    "Base = declarative_base()\n",
    "\n",
    "class Film(Base):\n",
    "    __tablename__ = 'filmovi'\n",
    "    id = Column(Integer, primary_key=True)\n",
    "    naslov = Column(String)\n",
    "    godina = Column(Integer)\n",
    "    zanr = Column(String)\n",
    "    ocjena = Column(Integer)\n",
    "\n",
    "def povezi_bazu():\n",
    "    engine = create_engine('sqlite:///movies.db')\n",
    "    Base.metadata.create_all(engine)\n",
    "    Session = sessionmaker(bind=engine)\n",
    "    session = Session()\n",
    "    return session\n",
    "\n",
    "\n",
    "\n",
    "# pretraga.py\n",
    "from baza import povezi_bazu, Film\n",
    "\n",
    "def pretrazi_filmove(zanr):\n",
    "    session = povezi_bazu()\n",
    "    filmovi = session.query(Film).filter_by(zanr=zanr).all()\n",
    "    session.close()\n",
    "    return filmovi\n",
    "\n",
    "\n",
    "\n",
    "# gui.py\n",
    "import tkinter as tk\n",
    "from tkinter import messagebox\n",
    "from baza import povezi_bazu\n",
    "from pretraga import pretrazi_filmove\n",
    "\n",
    "class MainWindow(tk.Tk):\n",
    "    def __init__(self):\n",
    "        super().__init__()\n",
    "        self.title(\"Pretraga filmova po žanru\")\n",
    "        \n",
    "        self.connect_to_database()\n",
    "        self.create_interface()\n",
    "    \n",
    "    def connect_to_database(self):\n",
    "        self.session = povezi_bazu()\n",
    "    \n",
    "    def create_interface(self):\n",
    "        self.genre_label = tk.Label(self, text=\"Odaberite žanr:\")\n",
    "        self.genre_label.pack()\n",
    "        \n",
    "        self.genre_var = tk.StringVar()\n",
    "        self.genre_menu = tk.OptionMenu(self, self.genre_var, *self.get_genres())\n",
    "        self.genre_menu.pack()\n",
    "        \n",
    "        self.search_button = tk.Button(self, text=\"Pretraži\", command=self.show_movies)\n",
    "        self.search_button.pack()\n",
    "        \n",
    "        self.result_text = tk.Text(self, height=10, width=50)\n",
    "        self.result_text.pack()\n",
    "    \n",
    "    def get_genres(self):\n",
    "        genres = self.session.query(Film.zanr).distinct().all()\n",
    "        return [genre[0] for genre in genres]\n",
    "    \n",
    "    def show_movies(self):\n",
    "        genre = self.genre_var.get()\n",
    "        movies = pretrazi_filmove(genre)\n",
    "        \n",
    "        self.result_text.delete(1.0, tk.END)\n",
    "        \n",
    "        if movies:\n",
    "            for movie in movies:\n",
    "                self.result_text.insert(tk.END, f\"Naslov: {movie.naslov}\\n\")\n",
    "                self.result_text.insert(tk.END, f\"Godina: {movie.godina}\\n\")\n",
    "                self.result_text.insert(tk.END, f\"Žanr: {movie.zanr}\\n\")\n",
    "                self.result_text.insert(tk.END, f\"Ocjena: {movie.ocjena}\\n\")\n",
    "                self.result_text.insert(tk.END, \"------------------------------\\n\")\n",
    "        else:\n",
    "            self.result_text.insert(tk.END, \"Nema rezultata za odabrani žanr.\")\n",
    "            messagebox.showinfo(\"Upozorenje\", \"Nema rezultata za odabrani žanr.\")\n",
    "\n",
    "# Stvaranje glavnog prozora\n",
    "if __name__ == \"__main__\":\n",
    "    prozor = MainWindow()\n",
    "    prozor.mainloop()\n"
   ]
  },
  {
   "attachments": {},
   "cell_type": "markdown",
   "id": "1c2637bc-06a2-476d-9cbb-084ae5baf96c",
   "metadata": {
    "deletable": false,
    "editable": false,
    "tags": []
   },
   "source": [
    "**Zadatak 6**\n",
    "\n",
    "Napravite program koji ima padajući izbornik s popisom svih godina izdanja filmova u bazi podataka, gumb za prikaz filmova iz odabrane godine i tekstovno polje za prikaz rezultata pretrage. Korisnik će odabrati godinu izdanja iz padajućeg izbornika, pritiskom na gumb pretrage će se pretražiti baza podataka i prikazati svi filmovi iz odabrane godine."
   ]
  },
  {
   "cell_type": "code",
   "execution_count": null,
   "id": "502294b5-f813-40c1-a8e2-0bc9c655be6a",
   "metadata": {},
   "outputs": [],
   "source": [
    "# baza.py\n",
    "from sqlalchemy import create_engine, Column, Integer, String\n",
    "from sqlalchemy.ext.declarative import declarative_base\n",
    "from sqlalchemy.orm import sessionmaker\n",
    "\n",
    "Base = declarative_base()\n",
    "\n",
    "class Film(Base):\n",
    "    __tablename__ = 'filmovi'\n",
    "\n",
    "    id = Column(Integer, primary_key=True)\n",
    "    naslov = Column(String)\n",
    "    godina = Column(Integer)\n",
    "    zanr = Column(String)\n",
    "    ocjena = Column(Integer)\n",
    "\n",
    "def povezi_bazu():\n",
    "    engine = create_engine('sqlite:///movies.db')\n",
    "    Base.metadata.create_all(engine)\n",
    "    Session = sessionmaker(bind=engine)\n",
    "    session = Session()\n",
    "    return session\n",
    "\n",
    "\n",
    "\n",
    "# pretraga.py\n",
    "def pretrazi_filmove(godina):\n",
    "    movies = session.query(Film).filter_by(godina=godina).all()\n",
    "    return movies\n",
    "\n",
    "\n",
    "\n",
    "# gui.py\n",
    "import tkinter as tk\n",
    "from tkinter import messagebox\n",
    "from baza import povezi_bazu, Film\n",
    "from pretraga import pretrazi_filmove\n",
    "\n",
    "class MainWindow(tk.Tk):\n",
    "    def __init__(self):\n",
    "        super().__init__()\n",
    "        self.title(\"Pretraga filmova po godini izdanja\")\n",
    "        \n",
    "        self.connect_to_database()\n",
    "        self.create_interface()\n",
    "    \n",
    "    def connect_to_database(self):\n",
    "        self.session = povezi_bazu()\n",
    "    \n",
    "    def create_interface(self):\n",
    "        self.year_label = tk.Label(self, text=\"Odaberite godinu izdanja:\")\n",
    "        self.year_label.pack()\n",
    "        \n",
    "        self.year_var = tk.StringVar()\n",
    "        self.year_menu = tk.OptionMenu(self, self.year_var, *self.get_years())\n",
    "        self.year_menu.pack()\n",
    "        \n",
    "        self.search_button = tk.Button(self, text=\"Pretraži\", command=self.show_movies)\n",
    "        self.search_button.pack()\n",
    "        \n",
    "        self.result_text = tk.Text(self, height=10, width=50)\n",
    "        self.result_text.pack()\n",
    "    \n",
    "    def get_years(self):\n",
    "        years = self.session.query(Film.godina).distinct().all()\n",
    "        return [year[0] for year in years]\n",
    "    \n",
    "    def show_movies(self):\n",
    "        year = int(self.year_var.get())\n",
    "        movies = pretrazi_filmove(year)\n",
    "        \n",
    "        self.result_text.delete(1.0, tk.END)\n",
    "        \n",
    "        if movies:\n",
    "            for movie in movies:\n",
    "                self.result_text.insert(tk.END, f\"Naslov: {movie.naslov}\\n\")\n",
    "                self.result_text.insert(tk.END, f\"Godina: {movie.godina}\\n\")\n",
    "                self.result_text.insert(tk.END, f\"Žanr: {movie.zanr}\\n\")\n",
    "                self.result_text.insert(tk.END, f\"Ocjena: {movie.ocjena}\\n\")\n",
    "                self.result_text.insert(tk.END, \"------------------------------\\n\")\n",
    "        else:\n",
    "            self.result_text.insert(tk.END, \"Nema rezultata za odabranu godinu.\")\n",
    "            messagebox.showinfo(\"Upozorenje\", \"Nema rezultata za odabranu godinu.\")\n",
    "\n",
    "# Stvaranje glavnog prozora\n",
    "if __name__ == \"__main__\":\n",
    "    prozor = MainWindow()\n",
    "    prozor.mainloop()\n"
   ]
  },
  {
   "attachments": {},
   "cell_type": "markdown",
   "id": "1c3ac103-b2f4-4549-93e5-9cf2d2fe3043",
   "metadata": {
    "deletable": false,
    "editable": false,
    "tags": []
   },
   "source": [
    "**Zadatak 7**\n",
    "\n",
    "Napravite program za uređivanje podataka o postojećem filmu u bazi podataka. Program treba imati padajući izbornik s popisom svih filmova u bazi podataka, polja za unos novih podataka (naziv filma, godina izdanja, žanr, opis) te gumb za spremanje izmjena u bazu podataka."
   ]
  },
  {
   "cell_type": "code",
   "execution_count": null,
   "id": "bf03548b-9a5f-4e41-a1b3-9f9db4dfeee5",
   "metadata": {},
   "outputs": [],
   "source": [
    "# baza.py\n",
    "from sqlalchemy import create_engine, Column, Integer, String\n",
    "from sqlalchemy.ext.declarative import declarative_base\n",
    "from sqlalchemy.orm import sessionmaker\n",
    "\n",
    "Base = declarative_base()\n",
    "\n",
    "class Film(Base):\n",
    "    __tablename__ = 'filmovi'\n",
    "\n",
    "    id = Column(Integer, primary_key=True)\n",
    "    naslov = Column(String)\n",
    "    godina = Column(Integer)\n",
    "    zanr = Column(String)\n",
    "    opis = Column(String)\n",
    "\n",
    "def povezi_bazu():\n",
    "    engine = create_engine('sqlite:///movies.db')\n",
    "    Base.metadata.create_all(engine)\n",
    "    Session = sessionmaker(bind=engine)\n",
    "    session = Session()\n",
    "    return session\n",
    "\n",
    "\n",
    "\n",
    "# uredi.py\n",
    "def dohvati_filmove():\n",
    "    movies = session.query(Film).all()\n",
    "    return movies\n",
    "\n",
    "def azuriraj_film(film_id, naslov, godina, zanr, opis):\n",
    "    film = session.query(Film).get(film_id)\n",
    "    if film:\n",
    "        film.naslov = naslov\n",
    "        film.godina = godina\n",
    "        film.zanr = zanr\n",
    "        film.opis = opis\n",
    "        session.commit()\n",
    "        return True\n",
    "    else:\n",
    "        return False\n",
    "\n",
    "\n",
    "\n",
    "# gui.py\n",
    "import tkinter as tk\n",
    "from tkinter import messagebox\n",
    "from baza import povezi_bazu, Film\n",
    "from uredi import dohvati_filmove, azuriraj_film\n",
    "\n",
    "class FilmEditorWindow(tk.Tk):\n",
    "    def __init__(self):\n",
    "        super().__init__()\n",
    "        self.title(\"Film Editor\")\n",
    "        \n",
    "        self.connect_to_database()\n",
    "        self.create_interface()\n",
    "    \n",
    "    def connect_to_database(self):\n",
    "        self.session = povezi_bazu()\n",
    "    \n",
    "    def create_interface(self):\n",
    "        self.filmovi = dohvati_filmove()\n",
    "        \n",
    "        self.film_label = tk.Label(self, text=\"Odaberite film:\")\n",
    "        self.film_label.pack()\n",
    "        \n",
    "        self.film_var = tk.StringVar()\n",
    "        self.film_menu = tk.OptionMenu(self, self.film_var, *self.get_movie_titles())\n",
    "        self.film_menu.pack()\n",
    "        \n",
    "        self.naslov_label = tk.Label(self, text=\"Novi naslov filma:\")\n",
    "        self.naslov_label.pack()\n",
    "        \n",
    "        self.naslov_entry = tk.Entry(self)\n",
    "        self.naslov_entry.pack()\n",
    "        \n",
    "        self.godina_label = tk.Label(self, text=\"Nova godina izdanja:\")\n",
    "        self.godina_label.pack()\n",
    "        \n",
    "        self.godina_entry = tk.Entry(self)\n",
    "        self.godina_entry.pack()\n",
    "        \n",
    "        self.zanr_label = tk.Label(self, text=\"Novi žanr filma:\")\n",
    "        self.zanr_label.pack()\n",
    "        \n",
    "        self.zanr_entry = tk.Entry(self)\n",
    "        self.zanr_entry.pack()\n",
    "        \n",
    "        self.opis_label = tk.Label(self, text=\"Novi opis filma:\")\n",
    "        self.opis_label.pack()\n",
    "        \n",
    "        self.opis_entry = tk.Entry(self)\n",
    "        self.opis_entry.pack()\n",
    "        \n",
    "        self.save_button = tk.Button(self, text=\"Spremi izmjene\", command=self.save_changes)\n",
    "        self.save_button.pack()\n",
    "    \n",
    "    def get_movie_titles(self):\n",
    "        titles = [film.naslov for film in self.filmovi]\n",
    "        return titles\n",
    "    \n",
    "    def get_selected_film_id(self):\n",
    "        selected_title = self.film_var.get()\n",
    "        for film in self.filmovi:\n",
    "            if film.naslov == selected_title:\n",
    "                return film.id\n",
    "    \n",
    "    def save_changes(self):\n",
    "        film_id = self.get_selected_film_id()\n",
    "        naslov = self.naslov_entry.get()\n",
    "        godina = self.godina_entry.get()\n",
    "        zanr = self.zanr_entry.get()\n",
    "        opis = self.opis_entry.get()\n",
    "        \n",
    "        if naslov and godina and zanr and opis:\n",
    "            if azuriraj_film(film_id, naslov, godina, zanr, opis):\n",
    "                messagebox.showinfo(\"Uspjeh\", \"Podaci o filmu su ažurirani.\")\n",
    "            else:\n",
    "                messagebox.showerror(\"Greška\", \"Film nije pronađen u bazi podataka.\")\n",
    "        else:\n",
    "            messagebox.showwarning(\"Upozorenje\", \"Sva polja moraju biti popunjena.\")\n",
    "\n",
    "# Stvaranje glavnog prozora\n",
    "if __name__ == \"__main__\":\n",
    "    prozor = FilmEditorWindow()\n",
    "    prozor.mainloop()\n"
   ]
  },
  {
   "attachments": {},
   "cell_type": "markdown",
   "id": "f4cfbe46-3128-49fd-94a0-92d3fd6ef2bf",
   "metadata": {
    "deletable": false,
    "editable": false,
    "tags": []
   },
   "source": [
    "**Zadatak 8**\n",
    "\n",
    "Napravite program za brisanje filma iz baze podataka. Program treba imati padajući izbornik s popisom svih filmova u bazi podataka te gumb za brisanje odabranog filma iz baze podataka."
   ]
  },
  {
   "cell_type": "code",
   "execution_count": null,
   "id": "bb44be37-9804-4dce-88e2-436d88800d86",
   "metadata": {},
   "outputs": [],
   "source": [
    "# baza.py\n",
    "from sqlalchemy import create_engine, Column, Integer, String\n",
    "from sqlalchemy.ext.declarative import declarative_base\n",
    "from sqlalchemy.orm import sessionmaker\n",
    "\n",
    "Base = declarative_base()\n",
    "\n",
    "class Film(Base):\n",
    "    __tablename__ = 'filmovi'\n",
    "\n",
    "    id = Column(Integer, primary_key=True)\n",
    "    naslov = Column(String)\n",
    "    godina = Column(Integer)\n",
    "    zanr = Column(String)\n",
    "    opis = Column(String)\n",
    "\n",
    "def povezi_bazu():\n",
    "    engine = create_engine('sqlite:///movies.db')\n",
    "    Base.metadata.create_all(engine)\n",
    "    Session = sessionmaker(bind=engine)\n",
    "    session = Session()\n",
    "    return session\n",
    "\n",
    "\n",
    "\n",
    "# brisanje.py\n",
    "def dohvati_filmove():\n",
    "    movies = session.query(Film).all()\n",
    "    return movies\n",
    "\n",
    "def obrisi_film(film_id):\n",
    "    film = session.query(Film).get(film_id)\n",
    "    if film:\n",
    "        session.delete(film)\n",
    "        session.commit()\n",
    "        return True\n",
    "    else:\n",
    "        return False\n",
    "\n",
    "\n",
    "\n",
    "# gui.py\n",
    "import tkinter as tk\n",
    "from tkinter import messagebox\n",
    "from baza import povezi_bazu, Film\n",
    "from brisanje import dohvati_filmove, obrisi_film\n",
    "\n",
    "class FilmDeleterWindow(tk.Tk):\n",
    "    def __init__(self):\n",
    "        super().__init__()\n",
    "        self.title(\"Brisanje filma\")\n",
    "        \n",
    "        self.connect_to_database()\n",
    "        self.create_interface()\n",
    "    \n",
    "    def connect_to_database(self):\n",
    "        self.session = povezi_bazu()\n",
    "    \n",
    "    def create_interface(self):\n",
    "        self.filmovi = dohvati_filmove()\n",
    "        \n",
    "        self.film_label = tk.Label(self, text=\"Odaberite film:\")\n",
    "        self.film_label.pack()\n",
    "        \n",
    "        self.film_var = tk.StringVar()\n",
    "        self.film_menu = tk.OptionMenu(self, self.film_var, *self.get_movie_titles())\n",
    "        self.film_menu.pack()\n",
    "        \n",
    "        self.delete_button = tk.Button(self, text=\"Obriši film\", command=self.delete_movie)\n",
    "        self.delete_button.pack()\n",
    "    \n",
    "    def get_movie_titles(self):\n",
    "        titles = [film.naslov for film in self.filmovi]\n",
    "        return titles\n",
    "    \n",
    "    def get_selected_film_id(self):\n",
    "        selected_title = self.film_var.get()\n",
    "        for film in self.filmovi:\n",
    "            if film.naslov == selected_title:\n",
    "                return film.id\n",
    "    \n",
    "    def delete_movie(self):\n",
    "        film_id = self.get_selected_film_id()\n",
    "        \n",
    "        if film_id:\n",
    "            if obrisi_film(film_id):\n",
    "                messagebox.showinfo(\"Uspjeh\", \"Film je uspješno obrisan iz baze podataka.\")\n",
    "                self.update_movie_list()\n",
    "            else:\n",
    "                messagebox.showerror(\"Greška\", \"Film nije pronađen u bazi podataka.\")\n",
    "        else:\n",
    "            messagebox.showwarning(\"Upozorenje\", \"Niste odabrali film za brisanje.\")\n",
    "    \n",
    "    def update_movie_list(self):\n",
    "        self.filmovi = dohvati_filmove()\n",
    "        self.film_menu['menu'].delete(0, 'end')\n",
    "        for title in self.get_movie_titles():\n",
    "            self.film_menu['menu'].add_command(label=title, command=tk._setit(self.film_var, title))\n",
    "\n",
    "# Stvaranje glavnog prozora\n",
    "if __name__ == \"__main__\":\n",
    "    prozor = FilmDeleterWindow()\n",
    "    prozor.mainloop()"
   ]
  },
  {
   "attachments": {},
   "cell_type": "markdown",
   "id": "91a2efd1-5da5-46d9-b5c3-f5d54157eb2f",
   "metadata": {
    "deletable": false,
    "editable": false,
    "tags": []
   },
   "source": [
    "## Seminar 4 - IoT <a class=\"anchor\" id=\"modul4\"></a>\n",
    "\n",
    "Pojam s kojim se sve česće susrećemo u svakodnevnom životu i primjećujemo da sve više stvari oko nas postaje \"pametno\". *Internet Of Things* (hrv. Internet stvari, u nastavku IoT) je **naziv za mrežu elektroničkih sustava povezanih putem Interneta**. Kada pričamo o IoT sustavima, to su sustavi koji sadrže *hardware* sa senzorima koji prikupljaju podatke, prenose ih putem radio signala do *collector* uređaja koji podatke distribuira na neko centralno mjesto (*cloud*) gdje se podaci obrađuju i koriste."
   ]
  },
  {
   "attachments": {},
   "cell_type": "markdown",
   "id": "74739a82-3ccf-44b6-b8b9-4054591c7d02",
   "metadata": {
    "deletable": false,
    "editable": false,
    "tags": []
   },
   "source": [
    "**Primjer sustava**\n",
    "\n",
    "Kada pričamo o hardware-u sustav se najčešće sastoji od *microcontrollera* (npr. Arduino) ili *single-board computera* (u nastavku SBC) (rjeđe, ali može se koristiti npr. Raspberry Pi) na koji je spojen neki senzor (ili više njih) ovisno o potrebi. Putem senzora se fizikalne veličine pretvaraju u digitalni signal i vrijednost. \n",
    "\n",
    "U pojedinim sustavima takvih uređaja može biti mnogo (npr. 100+) i mogu biti na nedostupnim mjestima. Omogućiti svakom takvom uređaju vezu s Internetom može biti skupo ili nemoguće. U takvim uvjetima ti uređaji najčešće nemaju pristup napajanju pa ih često pokreću baterije, što stvara nove izazove implementacije jer ti uređaji, iako rade na baterije, trebaju imati dug vijek trajanja (primjerice, minimalno tri godine). \n",
    "\n",
    "Kako bi ispunili sve prethodne kriterije, zaključak je kako je najbolji način implementacije (zbog potrošnje energije) da ti uređaji preko radio signala (npr. LoRa, Sigfox) šalju očitane vrijednosti na neki centralni uređaj (koji onda najčešće ima pristup napajanju i internetu) koji služi da bi prenio podatke (prethodno spomenutih 100+) uređaja u neki *cloud*. Taj centralni uređaj (*collector*) može također biti *microcontroller*, ali češće je SBC (npr. Raspberry Pi). "
   ]
  },
  {
   "attachments": {},
   "cell_type": "markdown",
   "id": "3296a953-38dc-4e85-854e-4c2b25b6708b",
   "metadata": {
    "deletable": false,
    "editable": false,
    "tags": []
   },
   "source": [
    "### SenseHAT emulator <a class=\"anchor\" id=\"modul4-sense-hat-emu\"></a>\n",
    "\n",
    "Na ovoj edukaciji koristit će se **RaspbianOS** - stvarni operacijski sustav koji se koristi na Raspberry Pi uređajima, sa **SenseHAT emulatorom** (softverska kopija stvarne elektroničke pločice koja se spaja s Raspberry Pi-om) koji simulira rad određenih senzora i elektroničkih komponenti kojima možemo upravljati preko Pythona.\n",
    "\n",
    "Emulator ima primjere koda koje možete koristiti kako biste dobili uvid u to kako koristiti vrijednosti pojedinog senzora."
   ]
  },
  {
   "attachments": {},
   "cell_type": "markdown",
   "id": "8b43946a",
   "metadata": {
    "deletable": false,
    "editable": false,
    "tags": []
   },
   "source": [
    "### Thread\n",
    "\n",
    "Kako su zadaci u IoT modulu složeniji, postoji potreba za korištenjem dretvi (Thread-ova) kako bi određene radnje i simulacije mogli izvršavati paralelno s našim aplikacijama. \n",
    "\n",
    "Do sada su se sve aplikacije odvijale sinkrono i nismo imali potrebe uvoditi paralelizam u aplikacije. Korištenjem senzora gdje aplikacija može primati podatke u pozadini (*background job*) neovisno o našem korištenju, da bi aplikacija radila bez prekida i nesmetano, koristimo Thread.\n",
    "\n",
    "Kako biste lakše razumjeli Threading u programiranju, slijedi nekoliko primjera:"
   ]
  },
  {
   "cell_type": "code",
   "execution_count": 11,
   "id": "3d14cefe",
   "metadata": {
    "deletable": false,
    "editable": false,
    "tags": []
   },
   "outputs": [
    {
     "name": "stdout",
     "output_type": "stream",
     "text": [
      "[Petlja 1]: 1\n",
      "[Petlja 1]: 2\n",
      "[Petlja 1]: 3\n",
      "[Petlja 1]: 4\n",
      "[Petlja 1]: 5\n",
      "[Petlja 2]: 1\n",
      "[Petlja 2]: 2\n",
      "[Petlja 2]: 3\n",
      "[Petlja 2]: 4\n",
      "[Petlja 2]: 5\n"
     ]
    }
   ],
   "source": [
    "from time import sleep as delay\n",
    "\n",
    "class Petlja:\n",
    "    \n",
    "    def __init__(self, name):\n",
    "        self.name = name\n",
    "        \n",
    "    def pokreni(self):\n",
    "        for i in range(5):\n",
    "            print(f\"[{self.name}]: {i + 1}\")\n",
    "            delay(1)\n",
    "\n",
    "if __name__ == '__main__':\n",
    "    p1 = Petlja(\"Petlja 1\")\n",
    "    p2 = Petlja(\"Petlja 2\")\n",
    "    p1.pokreni()\n",
    "    p2.pokreni()\n",
    "    "
   ]
  },
  {
   "attachments": {},
   "cell_type": "markdown",
   "id": "8bdf0b73",
   "metadata": {
    "deletable": false,
    "editable": false,
    "tags": []
   },
   "source": [
    "U primjeru iznad vidimo da, kad pokrenemo aplikaciju s dvije petlje, kada prva petlja krene u izvođenje,  aplikacija je \"zaključana\" i ne može raditi ništa drugo tako dugo dok petlja ne završi s izvođenjem (delay, odnosno sleep je korišten za bolji dojam, da nam petlja traje ~5 sekundi). Tek nakon što prva petlja završi s izvođenjem, kreće druga petlja koja opet \"zaključa\" aplikaciju i ne može se izvoditi ništa drugo kad traje izvođenje petlje. **Pokušajte na klik gumba u tkinter aplikaciji staviti petlju iz primjera iznad i probajte kliknuti nešto drugo u aplikaciji - što se dogodi?**"
   ]
  },
  {
   "cell_type": "code",
   "execution_count": 18,
   "id": "8619bd57",
   "metadata": {
    "deletable": false,
    "editable": false,
    "scrolled": true,
    "tags": []
   },
   "outputs": [
    {
     "name": "stdout",
     "output_type": "stream",
     "text": [
      "[Petlja 1]: 1\n",
      "[Petlja 2]: 1\n",
      "Obje dretve pokrenute\n",
      "[Petlja 1]: 2\n",
      "[Petlja 2]: 2\n",
      "[Petlja 1]: 3[Petlja 2]: 3\n",
      "\n",
      "[Petlja 2]: 4\n",
      "[Petlja 1]: 4\n",
      "[Petlja 1]: 5\n",
      "[Petlja 2]: 5\n",
      "[Petlja 1]: 6\n",
      "[Petlja 2]: 6\n",
      "[Petlja 1]: 7\n",
      "[Petlja 2]: 7\n",
      "[Petlja 1]: 8\n",
      "[Petlja 2]: 8\n",
      "[Petlja 1]: 9\n",
      "[Petlja 2]: 9\n",
      "[Petlja 1]: 10\n",
      "[Petlja 2]: 10\n",
      "[Petlja 1]: 1\n",
      "[Petlja 1]: 2\n",
      "[Petlja 1]: 3\n",
      "[Petlja 1]: 4\n",
      "[Petlja 1]: 5\n",
      "[Petlja 1]: 6\n",
      "[Petlja 1]: 7\n",
      "[Petlja 1]: 8\n",
      "[Petlja 1]: 9\n",
      "[Petlja 1]: 10\n",
      "[Petlja 2]: 1\n",
      "[Petlja 2]: 2\n",
      "[Petlja 2]: 3\n",
      "[Petlja 2]: 4\n",
      "[Petlja 2]: 5\n",
      "[Petlja 2]: 6\n",
      "[Petlja 2]: 7\n",
      "[Petlja 2]: 8\n",
      "[Petlja 2]: 9\n",
      "[Petlja 2]: 10\n",
      "Obje metode test zavrsene\n"
     ]
    }
   ],
   "source": [
    "from time import sleep as delay\n",
    "from threading import Thread\n",
    "\n",
    "class Dretva(Thread):\n",
    "\n",
    "    def __init__(self, name):\n",
    "        super().__init__()\n",
    "        self.name = name\n",
    "\n",
    "    def run(self):\n",
    "        for i in range(10):\n",
    "            print(f\"[{self.name}]: {i + 1}\")\n",
    "            delay(1)\n",
    "    \n",
    "    def test(self):\n",
    "        for i in range(10):\n",
    "            print(f\"[{self.name}]: {i + 1}\")\n",
    "            delay(0.5)\n",
    "    \n",
    "            \n",
    "if __name__ == '__main__':\n",
    "    d1 = Dretva(\"Petlja 1\")\n",
    "    d2 = Dretva(\"Petlja 2\")\n",
    "    d1.start()\n",
    "    d2.start()\n",
    "    print(\"Obje dretve pokrenute\")\n",
    "    delay(11)\n",
    "    d1.test()\n",
    "    d2.test()\n",
    "    print(\"Obje metode test zavrsene\")\n"
   ]
  },
  {
   "attachments": {},
   "cell_type": "markdown",
   "id": "7289d53d",
   "metadata": {
    "deletable": false,
    "editable": false,
    "tags": []
   },
   "source": [
    "S uvođenjem thread-a, petlje se izvršavaju paralelno.<br> \n",
    "\n",
    "**Bitno** kod implementacije Thredova:\n",
    " - Klasa koju implementiramo mora naslijediti klasu Thread.\n",
    " - Klasa koja je naslijedila Thread **obavezno** treba imati metodu **run()** jer kad pokrenemo thread preko          metode start() (dakle ne pozivamo objekt.run() nego obavezno objekt.start()), pokreće se metoda **run()** koja      je jedina metoda koja se izvršava asinkrono (vidimo da su se obje petlje pokrenule i da se ispisao print()        implementiran ispod, što nam daje informaciju da kad preko metode start() pokrenemo thread, aplikacija            nastavlja normalno izvršavati). Također, kad pozovemo metode test(), one se izvršavaju          jednako kao i u primjeru bez thredova.\n",
    " \n",
    "Metoda run() moze pokrenuti i beskonačnu while True: petlju koja se može izvršavati tokom cijelog izvođenja naše aplikacije."
   ]
  },
  {
   "attachments": {},
   "cell_type": "markdown",
   "id": "e5b4dea6",
   "metadata": {
    "deletable": false,
    "editable": false,
    "tags": []
   },
   "source": [
    "## MQTT\n",
    "\n",
    "MQTT je *messaging protokol* često korišten u IoT svijetu. Baziran je na TCP/IP protokolu, a radi na modelu *publish/subscribe*. MQTT radi na način da svaki uređaj u sustavu može primati poruke (na *topic* na koji je pretplaćen (*subscribe-an*)) i slati poruke na proizvoljan *topic* u sustavu (komunikacija je dvosmjerna za svaku aplikaciju koja ima *MQTT client*).\n",
    "\n",
    "Ako pričamo u uređajima IoT sustava, postoje oni koji sadrže senzore i pojedine fizikalne veličine (temperatura, vlaga, tlak i sl.) pretvaraju u digitalni signal (vrijednosti) te ih distribuiraju u sustav, dok su s druge strane aplikacijski sustavi koje te iste vrijednosti obrađuju, spremaju ili ih koriste na neki specifičan način.\n",
    "\n",
    "**Stvari koje su nam potrebne da koristimo MQTT su:**\n",
    " - internet veza\n",
    " - server (MQTT broker) koji služi za distribuiranje poruka kroz sustav\n",
    " - port (1883 ili 8883) ovisno o tome je li server otvoren ili su potrebni autorizacijski podaci da bi se mogli\n",
    "   spojiti. Default je 1883 i za isti nisu potrebni korisničko ime i lozinka.\n",
    "\n",
    "**Primjer sustava:**\n",
    "Aplikacija (*collector*) koja sakuplja podatke od senzora.\n",
    "Tri raspberry pi uređaja s temperaturnim senzorima koji očitavaju vrijednosti temperature svakih 30 minuta i šalju ih aplikaciji.\n",
    "\n",
    "Svakiom raspberry pi-u dodjelimo alias (da bi znali s kojeg uređaja je stigla vrijednost), npr.\n",
    "RPI-kupaona, RPI-dvoriste i RPI-spavaca.\n",
    "\n",
    "Topic nam je kanal koji nam služi kako bi jednoznačno dodjelili ime našem sustavu npr IoTHome.\n",
    "Da bi dobili predodžbu kako topici rade, u ovom slučaju imali bi tri topica (jedan za svaki raspberry pi):<br>\n",
    "topic IoTHome/RPI-kupaona<br>\n",
    "topic IoTHome/RPI-dvoriste<br>\n",
    "topic IoTHome/RPI-spavaca<br>\n",
    "\n",
    "Dakle, *root topic* nam je IoTHome, dok svaki od raspberry pi-a koristi svoj pojedinačni topic koji koristi kao kanal na koji šalje (*publish-a*) svoje temperature.\n",
    "Aplikacija bi se trebala pretplatiti (*subscribe-ati*) na tri topica spomenuta gore kako bi mogla prihvatiti poruke od svakog pojedinog raspberry pi-a. Kako bi izbjegli *subscribe* na tri različita topica i prilagodili se sustavu, topic na koji se *subscribe-amo* mozemo definirati na način da pretplatu napravimo na IoTHome/+ te na ovakav način preko jednog *subscribe-a* možemo \"slušati\" sve poruke koje nam stižu u aplikaciju.<br>\n",
    "\n",
    "**Napomena**: <br>Znak \"/\" nam sluzi kako bi odvajali različite razine topica, tako da IoTHome/+ ne bi primao poruke s topica IoTHome/RPI/1 (jer sadrži dva znaka \"/\"), na takav topic bi se trebali pretplatiti s IoTHome/RPI/+ ili IoTHome/+/+. \n",
    "\n",
    "Library koji se koristi u primjeru je paho-mqtt (pa je, da bismo koristili isti, potrebno instalirati s \n",
    "**pip install paho-mqtt**.\n",
    "\n",
    "**HOW TO**<br>\n",
    "Primjer za MQTT client ispod se može koristiti as-is te isti možete kopirati u projekt.\n",
    "Kada ga kopirate u projekt potrebno je u konstruktor proslijediti tri parametra:<br>\n",
    "1. server = \"edu-agrdan.plusvps.com\" # postoje public/free MQTT brokeri koji se mogu koristiti, ali možete koristiti <br>                                  # ovaj iz primjera<br>\n",
    "2. port = 1883<br>\n",
    "3. topic = \"IoTHome/+\"<br>\n",
    "\n",
    "mqtt = MqttClient(server, port, topic)<br>\n",
    "mqtt.start() # MqttClient nam nasljeđuje Thread pa je potrebno pozvati start(), da se pokrene metoda run()<br>\n",
    " - ako su podaci ispravni u termnalu se ispisuje poruka 'Uspjesno spojeni na server!'\n",
    "\n",
    "za publish na topic koristimo<br>\n",
    "mqtt.publish(\"23.4\", \"IoTHome/RPI-kupaona\") # prvi param je poruka, drugi param je topic<br>\n",
    " - za publish netrebamo biti subscribe-ani na isti topic\n",
    " \n",
    "Nakon izvršene linije iznad, svi uređaji koji su pretplaćeni na topic na koji smo publishali\n",
    "primaju pruke u metodi **onMessage**.<br>\n",
    "Sve poruke se spremaju u queue kako bi ih mogli čitati i obrađivati intenzitetom kojim želimo.\n",
    "U queue se poruka sprema u formatu \"{topic};{message}\" da bi imali informacije o topicu (uređaju s kojeg je stigla) i vrednosti koja je poslana. Kad dohvatimo poruku preko metode **getFromQueue()** istu je potrebno splitati s \";\". Queue nam je mehanizam koji se prazni svaki put kad pozovemo metodu, po principu FIFO (*first in first out*), dakle prva poruka koju prihvatimo će prva ući u obradu nakon što je dohvatimo."
   ]
  },
  {
   "cell_type": "code",
   "execution_count": null,
   "id": "72dbf112",
   "metadata": {
    "deletable": false,
    "editable": false,
    "tags": []
   },
   "outputs": [],
   "source": [
    "from collections import deque\n",
    "from threading import Thread\n",
    "import paho.mqtt.client as mqtt\n",
    "\n",
    "\n",
    "class MqttClient(Thread):\n",
    "\n",
    "    def __init__(self, serverUrl, port, topic):\n",
    "        super().__init__()\n",
    "        self.mqttc = mqtt.Client()\n",
    "        self.server = serverUrl\n",
    "        self.port = port\n",
    "        self.topic = topic\n",
    "        self.queue = deque()\n",
    "\n",
    "    def run(self):\n",
    "        self.mqttc.on_connect = self.onConnect\n",
    "        self.mqttc.on_disconnect = self.onDisconnect\n",
    "        self.mqttc.on_subscribe = self.onSubscribe\n",
    "        self.mqttc.on_message = self.onMessage\n",
    "        self.mqttc.connect(host=self.server, port=self.port)\n",
    "        self.mqttc.loop_forever()\n",
    "\n",
    "    def onConnect(self, mqttc, userdata, flags, rc):\n",
    "        print(\"Uspjesno spojeni na server!\")\n",
    "        self.mqttc.subscribe(topic=self.topic, qos=0)\n",
    "\n",
    "    def onDisconnect(self, mqttc, userdata, rc):\n",
    "        print(\"Disconnected...\")\n",
    "\n",
    "    def onSubscribe(self, mqttc, userdata, mid, granted_qos):\n",
    "        print(\"Uspjesno pretplaceni sa qos: \" + str(granted_qos))\n",
    "        \n",
    "    def get_status(self):\n",
    "        return self.mqttc.is_connected()\n",
    "\n",
    "    def onMessage(self, mqttc, userdata, msg):\n",
    "        print(msg.topic + \" - \" + msg.payload.decode(\"utf-8\"))\n",
    "        self.queue.append(f\"{msg.topic};{msg.payload.decode('utf-8')}\")\n",
    "\n",
    "    def publish(self, msg, topic):\n",
    "        print(f\"Publishing... topic[{topic}]: {msg}\")\n",
    "        self.mqttc.publish(topic, msg, 0, False)\n",
    "\n",
    "    def getFromQueue(self):\n",
    "        if len(self.queue) != 0:\n",
    "            return self.queue.popleft()\n",
    "        else:\n",
    "            return None\n"
   ]
  },
  {
   "attachments": {},
   "cell_type": "markdown",
   "id": "b69397fd-ae1a-4707-bbd5-5c4e715ad062",
   "metadata": {
    "deletable": false,
    "editable": false,
    "tags": []
   },
   "source": [
    "## Zadaci"
   ]
  },
  {
   "attachments": {},
   "cell_type": "markdown",
   "id": "b9efc5e6-6930-4aae-8c37-460c18397511",
   "metadata": {
    "deletable": false,
    "editable": false,
    "tags": []
   },
   "source": [
    "**Zadatak 1**\n",
    "\n",
    "Na RaspbianOS-u pogledati primjere koji koriste temperaturu, vlagu i tlak. Ubaciti kod za MqttClient u projekt na RaspbianOS-u te napraviti publish pojedinih vrijednosti sa SenseHat emulatora na topic koji sami odredite (preporuka je da koristite nešto jednoznačno za naziv topic-a kako se poruke ne bi pomješale s ostalim polaznicima koji rješavaju zadatke npr. unique_name_inicijali/temperatura, unique_name_inicijali/vlaga itd. ili slično).\n",
    "\n",
    "Napraviti aplikaciju na lokalnom računalu (iskoristite isti MqttClient) i pretplatite se na isti topic koji ste definirali u aplikaciji na RaspbianOSu. Cilj je prihvatiti poruke publish-ane s RaspbianOS-a na Vašem lokalnom računalu."
   ]
  },
  {
   "attachments": {},
   "cell_type": "markdown",
   "id": "c2ff524c",
   "metadata": {},
   "source": [
    "*Napomena:* Rješenja navedenih zadataka sveobuhvatna su te obuhvaćaju znanja prethodnih seminara stoga, ako je to potrebno, određene primjere zadataka iz područja IoT možete proći na nastavi, s predavačem. "
   ]
  },
  {
   "attachments": {},
   "cell_type": "markdown",
   "id": "15346049-f31e-43f2-966e-1953748e9e88",
   "metadata": {
    "deletable": false,
    "editable": false,
    "tags": []
   },
   "source": [
    "**Zadatak 2**\n",
    "\n",
    "Preko tkintera napraviti aplikaciju s grafičkim sučeljem. Početni screen neka sadrži elemente za unos podataka potrebnih za spajanje na MqttClient. 3 Entry widgeta - server, port, topic koje korisnik unosi u grafičko sučelje (sva 3 polja su obavezna) i button \"Connect\". Napraviti provjeru jesu li podaci validni (je li se aplikacija spojila na server). Ako podaci nisu validni, obavjestiti korisnika o tome i tražiti da unese nove vrijednosti, a ako su podaci validni, otvoriti novi prozor koji ce sadržavati widget Text iz tkinter library-a te 2 Entry-a. \n",
    "\n",
    "Text widget neka služi za ispis svih poruka koje stignu na pretplaćeni topic, dok Entry služi za unos poruke i topica. Korisnik upisuje topic i poruke u pojedini Entry widget. Entry za poruke treba imati bind na \"Enter\", odnosno, da se poruka pošalje (publisha) kada korisnik pritisne \"Enter\". Kad se poruka pošalje, Entry za poruke se treba isprazniti (pripremiti za novu poruku), dok Entry topic ostane nepromjenjen (dok ga korisnik ne promjeni ručno)."
   ]
  },
  {
   "attachments": {},
   "cell_type": "markdown",
   "id": "e45f0c3a",
   "metadata": {},
   "source": [
    "*Napomena:* Rješenja navedenih zadataka sveobuhvatna su te obuhvaćaju znanja prethodnih seminara stoga, ako je to potrebno, određene primjere zadataka iz područja IoT možete proći na nastavi, s predavačem. "
   ]
  },
  {
   "attachments": {},
   "cell_type": "markdown",
   "id": "1f8c1b3f-3b94-40d3-ab7e-8e784a144dad",
   "metadata": {
    "deletable": false,
    "editable": false,
    "tags": []
   },
   "source": [
    "### Primjena senzora u aplikacijama\n",
    "\n",
    "Bez upotrebe stvarnih senzora (ako im nemamo pristup) za simulaciju senzora možemo koristiti maštu i dosad stečeno znanje Pythona.\n",
    "\n",
    "Razmisliti koje sve senzore i na koji način bi mogli simulirati njihove vrijednosti ili ponašanje.\n",
    "Primjeri senzora:\n",
    " - PIR (detektor pokreta)\n",
    " - Ultrazvučni senzor\n",
    " - Temperatura\n",
    " - Vlaga\n",
    " - Tlak\n",
    " - Kvaliteta zraka\n",
    " - Detekcija plinova u zraku\n",
    " - LED (svijetla)\n",
    "\n",
    "\n",
    "Prijedlog implementacije pojedinih senzora:\n",
    "- svaki senzor se može aktivirati putem widgeta u tkinter aplikaciji, ali možemo koristiti i nasumičnost podataka\n",
    "\n",
    "Za nasumičnost se može koristiti neki api (requests) ili *random generator* kako bismo mogli pojedine stvari aktivirati neovisno o našim aktivnostima.\n",
    "Dakle, koristiti Thread koji periodički svakih npr. jednu minutu poziva api i provjerimo je li nam se u requestu vratio paran broj ili, ako nam se vratila rečenica/riječ, sadrži li neko određeno slovo (ili koristiti neku implementaciju koja vam \"padne na pamet\", a da se može primjeniti na određeni request)."
   ]
  },
  {
   "attachments": {},
   "cell_type": "markdown",
   "id": "e7764cf3-5b99-409c-8bf8-71c6c70baab5",
   "metadata": {
    "deletable": false,
    "editable": false,
    "tags": []
   },
   "source": [
    "#### Zadaci"
   ]
  },
  {
   "attachments": {},
   "cell_type": "markdown",
   "id": "7da59051-9743-4f3f-aeda-dab3d1867d28",
   "metadata": {
    "deletable": false,
    "editable": false,
    "tags": []
   },
   "source": [
    "**Zadatak 1**\n",
    "\n",
    "Napraviti vlastiti grafički simulator za simulaciju temperature, vlage, tlaka, simulaciju kiše i simulaciju snijega. Za simulaciju pojedinih vrijednosti (temperature, vlaga i tlak) koristiti Scale widget iz tkintera (slideri). Za simulaciju kiše/snijega koristiti checkButton. Vrijednosti publishati na MQTT (naziv topic-a se unosi u Entry widget aplikacije). Vrijednosti publishati periodički (svakih X sekundi/minuta) ili na pritisak Buttona."
   ]
  },
  {
   "attachments": {},
   "cell_type": "markdown",
   "id": "fd2b5701",
   "metadata": {},
   "source": [
    "*Napomena:* Rješenja navedenih zadataka sveobuhvatna su te obuhvaćaju znanja prethodnih seminara stoga, ako je to potrebno, određene primjere zadataka iz područja IoT možete proći na nastavi, s predavačem. "
   ]
  },
  {
   "attachments": {},
   "cell_type": "markdown",
   "id": "2c18c529-646a-4707-9145-007c40cb1912",
   "metadata": {
    "deletable": false,
    "editable": false,
    "tags": []
   },
   "source": [
    "**Zadatak 2 (preduvjet - Zadatak 1 iz primjene senzora)**\n",
    "\n",
    "Ako preduvjet nije ispunjen, napraviti grafičko sučelje kakvo je predviđeno u Zadatku 1, ali nije potrebno koristiti MQTT jer se sve odvija unutar jedne aplikacij). **Napomena**: ako radite na ovakav način zanemarite u zadatku sve vezano uz publish/subscribe.\n",
    "\n",
    "Napraviti grafičku aplikaciju koja će prihvačati i reagirati na vrijednosti publish-ane sa simulatora. Pretplatiti se na topic na koji aplikacija vlastitog simulatora publisha podatke. Pripremiti dvije labele u aplikaciji koje će prikazivati slike ovisno o situaciji (vremenu) kakvo je simulirano. Skinuti slike s interneta: crveni X (za grešku), sunce, kišobran, pahuljica, zimska jakna, vesta, kratka majca, palma/more (pripaziti na autorska prava). Prva labela prikazuje situaciju vremena: ako nije simulirana ni kiša ni snijeg, tada je prikazano sunce. Druga labela označava preporuku odjeće - što obući.\n",
    "\n",
    "Labela vremena:\n",
    " - ako je označena kiša - prikazati kišobran\n",
    " - ako je označen snijeg - prikazati pahuljicu\n",
    " - ako nije označeno ni jedno od navedenog prikazati sunce\n",
    " - ako je označena i kiša i snijeg - ispisati poruku - greška (ili slika crveni X)\n",
    " - ako je označen snijeg (provjeriti temperaturu - ako je temperatura nelogična i pada snijeg) - greška\n",
    " \n",
    "Labela odjeće:\n",
    " - temperatura <= 10 - zimska jakna\n",
    " - temperatura > 10 && temperatura < 23 - vesta\n",
    " - temperatura >= 23 && temperatura < 34 - kratka majca\n",
    " - temperatura >= 34 - palma/more\n",
    " "
   ]
  },
  {
   "attachments": {},
   "cell_type": "markdown",
   "id": "c0e65335-4995-4e12-9499-b41d76573c7a",
   "metadata": {},
   "source": [
    "*Napomena:* Rješenja navedenih zadataka sveobuhvatna su te obuhvaćaju znanja prethodnih seminara stoga, ako je to potrebno, određene primjere zadataka iz područja IoT možete proći na nastavi, s predavačem. "
   ]
  },
  {
   "attachments": {},
   "cell_type": "markdown",
   "id": "b7346918-4982-414b-a726-ad4bc00e4f52",
   "metadata": {
    "deletable": false,
    "editable": false,
    "tags": []
   },
   "source": [
    "## Seminar 5 - Data science <a class=\"anchor\" id=\"modul5\"></a>\n",
    "\n"
   ]
  },
  {
   "attachments": {},
   "cell_type": "markdown",
   "id": "0bfc030a-39e2-4ffb-8e04-4149cfab2bc3",
   "metadata": {
    "deletable": false,
    "editable": false,
    "tags": []
   },
   "source": [
    "### Pandas <a class=\"anchor\" id=\"modul5-pandas\"></a>\n",
    "\n",
    "Pandas je Python paket koji omogućava rad s tabelama heterogenih tipova podataka kao u bazama podataka ili Excel tablicama i to sve pomoću Python programskog jezika, unutar Python aplikacije.\n",
    "\n",
    "Panda nije standardni dio Python distribucije te ga je potrebno instalirati zasebno. Postoji nekoliko mogućnosti instalacija Pandas paketa, ali najjednostavniji je:\n",
    "- pomoću Anaconda distribucije uz koju dolaze i drugi povezani paketi\n",
    "- PyPi - pip install pandas\n",
    "\n",
    "Postoje i neki drugi načini, ali nisu tako jednostavni. Bez obzira na način instalacije, proje uporabe Pandas paketa potrebno ga je instalirati."
   ]
  },
  {
   "attachments": {},
   "cell_type": "markdown",
   "id": "15fd4576-32df-49f0-92b2-f2458120edb1",
   "metadata": {
    "deletable": false,
    "editable": false,
    "tags": []
   },
   "source": [
    "#### Pandas strukture podataka - Serise i DataFrame\n",
    "\n",
    "Pandas Series je jednodimenzionalna struktura podataka.\n",
    "\n",
    "Primjer PAndas Serise nastale na osnovu rječnika (dictionary):"
   ]
  },
  {
   "cell_type": "code",
   "execution_count": null,
   "id": "89ad0e40",
   "metadata": {
    "deletable": false,
    "editable": false,
    "tags": []
   },
   "outputs": [],
   "source": [
    "import pandas as pd\n",
    "\n",
    "categories_dict = { 1: 'Desktop', 2: 'Laptop', 3: 'Tablet', 4: 'Mobitel'}\n",
    "\n",
    "categories_pd_series = pd.Series(categories_dict)"
   ]
  },
  {
   "attachments": {},
   "cell_type": "markdown",
   "id": "d57d3920-1d9b-4cec-82e0-b7aa757147ec",
   "metadata": {
    "deletable": false,
    "editable": false,
    "tags": []
   },
   "source": [
    "Pandas DataFrame je dvodimenzionalna struktura podataka koju je najlakše opisati kao tabelu.\n",
    "\n",
    "Primjer Pandas DataFrame strukture nastale na osnovu rječnika:"
   ]
  },
  {
   "cell_type": "code",
   "execution_count": null,
   "id": "f7aeb9da",
   "metadata": {
    "deletable": false,
    "editable": false,
    "tags": []
   },
   "outputs": [],
   "source": [
    "import pandas as pd\n",
    "\n",
    "grades_dict = { \n",
    "    'Matematika': [4, 5, 3, 4, 5, 5, 5, 3, 2],\n",
    "    'Fizika': [4, 5, 5, 5, 5, 5, 5, 3, 2],\n",
    "    'Kemija': [4, 2, 3, 4, 3, 3, 5, 3, 2],\n",
    "}\n",
    "\n",
    "grades_pd_series = pd.Series(grades_dict)"
   ]
  },
  {
   "attachments": {},
   "cell_type": "markdown",
   "id": "d433baa8-87be-4e56-a928-131850dc91ae",
   "metadata": {
    "deletable": false,
    "editable": false,
    "tags": []
   },
   "source": [
    "#### Zadaci"
   ]
  },
  {
   "attachments": {},
   "cell_type": "markdown",
   "id": "1065d9de",
   "metadata": {
    "deletable": false,
    "editable": false,
    "tags": []
   },
   "source": [
    "***Napomena:* Unutar mape *datasets* nalazi se csv datoteka *movies.csv* u kojoj su nazivi filmova s kategorijama. Za slijedeće zadatke koristite navedeni dataset.**\n",
    "\n",
    "Također, za zadatke u vezi s filmovima možete koristiti IMDb (*Internet Movie Database*) kao izvor podataka. IMDb ima javno dostupnu bazu podataka s informacijama o filmovima koju možete preuzeti s njihove web stranice. Također, postoji i IMDb API koji vam omogućuje dohvaćanje podataka o filmovima putem programskog sučelja."
   ]
  },
  {
   "attachments": {},
   "cell_type": "markdown",
   "id": "495c53d2-4b90-44bb-835a-b6ecaf8c7ae0",
   "metadata": {
    "deletable": false,
    "editable": false,
    "tags": []
   },
   "source": [
    "**Zadatak 1**\n",
    "\n",
    "Učitajte sve filmove iz movies.csv datoteke u Pandas DataFrame objekt. Sortirajte ih po imenu."
   ]
  },
  {
   "cell_type": "code",
   "execution_count": null,
   "id": "374bb794-c700-4359-8002-1d050055b597",
   "metadata": {},
   "outputs": [],
   "source": [
    "import pandas as pd\n",
    "\n",
    "\n",
    "# Učitavanje filmova iz CSV datoteke u DataFrame\n",
    "df = pd.read_csv('movies.csv')\n",
    "\n",
    "# Sortiranje filmova po imenu\n",
    "df_sorted = df.sort_values(by='Ime')\n",
    "\n",
    "# Ispis sortiranih filmova\n",
    "print(df_sorted)"
   ]
  },
  {
   "attachments": {},
   "cell_type": "markdown",
   "id": "d028ea03-7bcb-4cfd-aed5-86cbf4aab37d",
   "metadata": {
    "deletable": false,
    "editable": false,
    "tags": []
   },
   "source": [
    "**Zadatak 2**\n",
    "\n",
    "Prethodno učtane filmove iz movies.csv datoteke u Pandas DataFrame objekt. Sortirajte ih po žanru."
   ]
  },
  {
   "cell_type": "code",
   "execution_count": null,
   "id": "81e51f4c-5126-4c2a-ab8b-bb2199a25f65",
   "metadata": {},
   "outputs": [],
   "source": [
    "import pandas as pd\n",
    "\n",
    "\n",
    "# Učitavanje filmova iz CSV datoteke u DataFrame\n",
    "df = pd.read_csv('movies.csv')\n",
    "\n",
    "# Sortiranje filmova po žanru\n",
    "df_sorted = df.sort_values(by='žanr')\n",
    "\n",
    "# Ispis sortiranih filmova\n",
    "print(df_sorted)"
   ]
  },
  {
   "attachments": {},
   "cell_type": "markdown",
   "id": "43d09ca2",
   "metadata": {
    "deletable": false,
    "editable": false,
    "tags": []
   },
   "source": [
    "**Zadatak 3**\n",
    "\n",
    "U prethodno kreiranom Pandas Data Frame objektu iz movies.csv datoteke, dodajte kolonu u kojoj će biti prosjek ocjena svakog filma. Neka ocjena budu nasumično generirani broj od 0.1 do 5.0"
   ]
  },
  {
   "cell_type": "code",
   "execution_count": null,
   "id": "5ce693af",
   "metadata": {},
   "outputs": [],
   "source": [
    "import pandas as pd\n",
    "import numpy as np\n",
    "\n",
    "\n",
    "# Učitavanje filmova iz CSV datoteke u DataFrame\n",
    "df = pd.read_csv('movies.csv')\n",
    "\n",
    "# Generiranje nasumičnih ocjena za svaki film\n",
    "ocjene = np.random.uniform(0.1, 5.0, len(df))\n",
    "\n",
    "# Dodavanje nove kolone s prosjekom ocjena\n",
    "df['prosjek_ocjena'] = ocjene\n",
    "\n",
    "# Ispis DataFrame objekta s dodanom kolonom\n",
    "print(df)\n"
   ]
  },
  {
   "attachments": {},
   "cell_type": "markdown",
   "id": "0a6c7f4f",
   "metadata": {
    "deletable": false,
    "editable": false,
    "tags": []
   },
   "source": [
    "**Zadatak 4**\n",
    "\n",
    "U prethodno kreiranom Pandas Data Frame objektu iz movies.csv datoteke grupirajte filmove po kategoriji."
   ]
  },
  {
   "cell_type": "code",
   "execution_count": null,
   "id": "84586bf5",
   "metadata": {},
   "outputs": [],
   "source": [
    "import pandas as pd\n",
    "\n",
    "# Učitavanje filmova iz CSV datoteke u DataFrame\n",
    "df = pd.read_csv('movies.csv')\n",
    "\n",
    "# Grupiranje filmova po kategoriji\n",
    "grupirani_filmovi = df.groupby('kategorija')\n",
    "\n",
    "# Ispis grupiranih filmova\n",
    "for kategorija, filmovi in grupirani_filmovi:\n",
    "    print(f'Kategorija: {kategorija}')\n",
    "    print(filmovi)\n",
    "    print()\n"
   ]
  },
  {
   "attachments": {},
   "cell_type": "markdown",
   "id": "8659c429-c689-4c51-9371-236ae77ee660",
   "metadata": {
    "deletable": false,
    "editable": false,
    "tags": []
   },
   "source": [
    "**Zadatak 5**\n",
    "\n",
    "Izračunaj prosječni broj gledatelja po filmu u određenoj godini."
   ]
  },
  {
   "cell_type": "code",
   "execution_count": null,
   "id": "bbf6a1b2-c985-453c-9dc1-534ae38c95cd",
   "metadata": {},
   "outputs": [],
   "source": [
    "import pandas as pd\n",
    "\n",
    "\n",
    "# Učitavanje filmova iz CSV datoteke u DataFrame\n",
    "df = pd.read_csv('movies.csv')\n",
    "\n",
    "# Grupiranje filmova po godini izdanja\n",
    "grupirani_filmovi = df.groupby('godina_izdanja')\n",
    "\n",
    "# Izračun prosječnog broja gledatelja po filmu u svakoj grupi\n",
    "prosjek_gledatelja = grupirani_filmovi['broj_gledatelja'].mean()\n",
    "\n",
    "# Ispis prosječnih brojeva gledatelja po filmu\n",
    "print('Prosječni broj gledatelja po filmu u određenoj godini:')\n",
    "print(prosjek_gledatelja)\n"
   ]
  },
  {
   "attachments": {},
   "cell_type": "markdown",
   "id": "1e73c46d-fdcf-4635-9274-32b12c207ed8",
   "metadata": {
    "deletable": false,
    "editable": false,
    "tags": []
   },
   "source": [
    "**Zadatak 6**\n",
    "\n",
    "Prikazati deset najbolje ocijenjenih filmova i njihove osnovne informacije (naslov, godina, ocjena) u tablici."
   ]
  },
  {
   "cell_type": "code",
   "execution_count": null,
   "id": "f706b6c9-453f-4bd2-be3c-22df8e1c0398",
   "metadata": {},
   "outputs": [],
   "source": [
    "import pandas as pd\n",
    "\n",
    "# Učitavanje filmova iz CSV datoteke u DataFrame\n",
    "df = pd.read_csv('movies.csv')\n",
    "\n",
    "# Sortiranje filmova po ocjeni u silaznom redoslijedu\n",
    "sortirani_filmovi = df.sort_values(by='ocjena', ascending=False)\n",
    "\n",
    "# Odabir prvih deset filmova\n",
    "deset_najboljih = sortirani_filmovi.head(10)\n",
    "\n",
    "# Prikaz tablice sa osnovnim informacijama (naslov, godina, ocjena)\n",
    "tablica = deset_najboljih[['naslov', 'godina_izdanja', 'ocjena']]\n",
    "print('Deset najbolje ocijenjenih filmova:')\n",
    "print(tablica)"
   ]
  },
  {
   "attachments": {},
   "cell_type": "markdown",
   "id": "99bc4fd3-377b-406c-a3bb-b417b7f917da",
   "metadata": {
    "deletable": false,
    "editable": false,
    "tags": []
   },
   "source": [
    "**Zadatak 7**\n",
    "\n",
    "Izračunaj ukupni prihod od filma za svaki film u određenoj godini i sortiraj ih od najvećeg do najmanjeg prihoda."
   ]
  },
  {
   "cell_type": "code",
   "execution_count": null,
   "id": "860c3a00-0629-4ee5-b19a-56679fd1fc4d",
   "metadata": {},
   "outputs": [],
   "source": [
    "import pandas as pd\n",
    "\n",
    "\n",
    "# Učitavanje filmova iz CSV datoteke u DataFrame\n",
    "df = pd.read_csv('movies.csv')\n",
    "\n",
    "# Grupiranje filmova po godini izdanja i izračun ukupnog prihoda za svaku godinu\n",
    "ukupni_prihod = df.groupby('godina_izdanja')['prihod'].sum()\n",
    "\n",
    "# Sortiranje po ukupnom prihodu od najvećeg do najmanjeg\n",
    "sortirani_prihodi = ukupni_prihod.sort_values(ascending=False)\n",
    "\n",
    "# Prikaz rezultata\n",
    "print('Ukupni prihodi od filmova po godinama:')\n",
    "print(sortirani_prihodi)"
   ]
  },
  {
   "attachments": {},
   "cell_type": "markdown",
   "id": "8d7bc0d6-ab8b-450f-98a5-19edf657968d",
   "metadata": {
    "deletable": false,
    "editable": false,
    "tags": []
   },
   "source": [
    "**Zadatak 8**\n",
    "\n",
    "Izračunaj prosječnu ocjenu za filmove u kojima je određeni glumac igrao."
   ]
  },
  {
   "cell_type": "code",
   "execution_count": null,
   "id": "d84ae305-1134-4659-9d10-3941f39b6851",
   "metadata": {},
   "outputs": [],
   "source": [
    "import pandas as pd\n",
    "\n",
    "\n",
    "# Učitavanje podataka o filmovima iz CSV datoteke u DataFrame\n",
    "df = pd.read_csv('movies.csv')\n",
    "\n",
    "# Unos glumca čiju prosječnu ocjenu želimo izračunati\n",
    "glumac = input('Unesite ime glumca: ')\n",
    "\n",
    "# Filtriranje filmova u kojima je određeni glumac igrao\n",
    "filmovi_glumca = df[df['glumac'].str.contains(glumac, case=False)]\n",
    "\n",
    "# Izračun prosječne ocjene za filmove glumca\n",
    "prosjecna_ocjena = filmovi_glumca['ocjena'].mean()\n",
    "\n",
    "# Ispis rezultata\n",
    "print(f\"Prosječna ocjena za filmove u kojima je glumac {glumac} igrao je: {prosjecna_ocjena:.2f}\")"
   ]
  },
  {
   "attachments": {},
   "cell_type": "markdown",
   "id": "2ca4c6df-8501-490c-92b4-5ebcb1ea643e",
   "metadata": {
    "deletable": false,
    "editable": false,
    "tags": []
   },
   "source": [
    "**Zadatak 9**\n",
    "\n",
    "Izlistaj sve filmove koje je režirao određeni redatelj, sortirane po godini izlaska filma."
   ]
  },
  {
   "cell_type": "code",
   "execution_count": null,
   "id": "b3ce8f85-1ab8-489b-b5ea-ba93b410124b",
   "metadata": {},
   "outputs": [],
   "source": [
    "import pandas as pd\n",
    "\n",
    "# Učitavanje podataka o filmovima iz CSV datoteke u DataFrame\n",
    "df = pd.read_csv('movies.csv')\n",
    "\n",
    "# Unos ime redatelja čije filmove želimo izlistati\n",
    "redatelj = input('Unesite ime redatelja: ')\n",
    "\n",
    "# Filtriranje filmova koje je režirao određeni redatelj\n",
    "filmovi_redatelja = df[df['redatelj'].str.contains(redatelj, case=False)]\n",
    "\n",
    "# Sortiranje filmova po godini izlaska\n",
    "filmovi_redatelja_sortirani = filmovi_redatelja.sort_values(by='godina_izlaska')\n",
    "\n",
    "# Ispis rezultata\n",
    "print(f\"Filmovi koje je redatelj {redatelj} režirao:\")\n",
    "for index, film in filmovi_redatelja_sortirani.iterrows():\n",
    "    print(f\"{film['naslov']} - Godina izlaska: {film['godina_izlaska']}\")"
   ]
  },
  {
   "attachments": {},
   "cell_type": "markdown",
   "id": "12cd3847-a9fb-4c2e-addc-2259d557dff3",
   "metadata": {
    "deletable": false,
    "editable": false,
    "tags": []
   },
   "source": [
    "### Matplotlib <a class=\"anchor\" id=\"modul5-matplotlib\"></a>\n",
    "\n",
    "matplotlib je Python bilbioteka za vizualizaciju podataka. Dio je Anaconda distribucije, ali moguće je i instalirati samostalno:\\\n",
    "`python -m pip install -U pip`\\\n",
    "`python -m pip install -U matplotlib`"
   ]
  },
  {
   "attachments": {},
   "cell_type": "markdown",
   "id": "11f69f11-c5fc-412e-964a-54f57e8d0d83",
   "metadata": {
    "deletable": false,
    "editable": false,
    "tags": []
   },
   "source": [
    "#### Zadaci"
   ]
  },
  {
   "attachments": {},
   "cell_type": "markdown",
   "id": "7531903c-8c84-482a-8a0f-f907ac027ce2",
   "metadata": {
    "deletable": false,
    "editable": false,
    "tags": []
   },
   "source": [
    "**Zadatak 1**\n",
    "\n",
    "Napravite linijski grafikon koji prikazuje godišnji prihod top 5 najuspješnijih filmskih studija u posljednjih 10 godina."
   ]
  },
  {
   "cell_type": "code",
   "execution_count": null,
   "id": "850afc32-6d1d-40a0-ab40-52ccfe2a0c9d",
   "metadata": {},
   "outputs": [],
   "source": [
    "import pandas as pd\n",
    "import matplotlib.pyplot as plt\n",
    "\n",
    "# Učitavanje podataka o prihodima studija iz CSV datoteke u DataFrame\n",
    "df = pd.read_csv('studios.csv')\n",
    "\n",
    "# Filtriranje podataka za posljednjih 10 godina\n",
    "trenutna_godina = pd.Timestamp.now().year\n",
    "godine = range(trenutna_godina - 9, trenutna_godina + 1)\n",
    "df_posljednjih_10_godina = df[df['Godina'].isin(godine)]\n",
    "\n",
    "# Grupiranje podataka po studijima i godinama, te izračunavanje ukupnog prihoda\n",
    "grupirani_podaci = df_posljednjih_10_godina.groupby(['Studij', 'Godina']).sum()['Prihod']\n",
    "\n",
    "# Odabir top 5 studija prema ukupnom prihodu\n",
    "top_5_studija = grupirani_podaci.groupby('Studij').sum().nlargest(5).index\n",
    "\n",
    "# Filtriranje podataka za top 5 studija\n",
    "df_top_5_studija = df_posljednjih_10_godina[df_posljednjih_10_godina['Studij'].isin(top_5_studija)]\n",
    "\n",
    "# Prikaz grafikona\n",
    "plt.figure(figsize=(10, 6))\n",
    "\n",
    "for studij in top_5_studija:\n",
    "    podaci_studija = df_top_5_studija[df_top_5_studija['Studij'] == studij]\n",
    "    plt.plot(podaci_studija['Godina'], podaci_studija['Prihod'], marker='o', label=studij)\n",
    "\n",
    "plt.title('Godišnji prihod top 5 studija u posljednjih 10 godina')\n",
    "plt.xlabel('Godina')\n",
    "plt.ylabel('Prihod')\n",
    "plt.legend()\n",
    "plt.grid(True)\n",
    "plt.show()"
   ]
  },
  {
   "attachments": {},
   "cell_type": "markdown",
   "id": "713d1ff4-7643-4484-a99d-50491944fbea",
   "metadata": {
    "deletable": false,
    "editable": false,
    "tags": []
   },
   "source": [
    "**Zadatak 2**\n",
    "\n",
    "Napravite histogram koji prikazuje broj filmova po godinama za jednog od najuspješnijih redatelja u Hollywoodu."
   ]
  },
  {
   "cell_type": "code",
   "execution_count": null,
   "id": "ef1ed412-4a02-4b2a-bc24-9d799d19dc1e",
   "metadata": {},
   "outputs": [],
   "source": [
    "import pandas as pd\n",
    "import matplotlib.pyplot as plt\n",
    "\n",
    "\n",
    "# Učitavanje podataka o filmovima iz CSV datoteke u DataFrame\n",
    "df = pd.read_csv('movies.csv')\n",
    "\n",
    "# Odabir redatelja\n",
    "odabrani_redatelj = 'Steven Spielberg'\n",
    "\n",
    "# Filtriranje podataka za odabranog redatelja\n",
    "df_redatelj = df[df['Redatelj'] == odabrani_redatelj]\n",
    "\n",
    "# Izračunavanje broja filmova po godinama\n",
    "broj_filmova_po_godinama = df_redatelj['Godina'].value_counts().sort_index()\n",
    "\n",
    "# Prikaz histograma\n",
    "plt.figure(figsize=(10, 6))\n",
    "\n",
    "plt.bar(broj_filmova_po_godinama.index, broj_filmova_po_godinama.values)\n",
    "\n",
    "plt.title(f'Broj filmova po godinama - {odabrani_redatelj}')\n",
    "plt.xlabel('Godina')\n",
    "plt.ylabel('Broj filmova')\n",
    "plt.grid(True)\n",
    "plt.show()"
   ]
  },
  {
   "attachments": {},
   "cell_type": "markdown",
   "id": "081630e4-de51-4213-b277-d65837be9af4",
   "metadata": {
    "deletable": false,
    "editable": false,
    "tags": []
   },
   "source": [
    "**Zadatak 3**\n",
    "\n",
    "Napravite pie chart koji prikazuje udio prihoda od prodaje kinoulaznica za različite žanrove filmova u protekloj godini."
   ]
  },
  {
   "cell_type": "code",
   "execution_count": null,
   "id": "206b5f4c-e549-44bc-8715-a94d89229454",
   "metadata": {},
   "outputs": [],
   "source": [
    "import pandas as pd\n",
    "import matplotlib.pyplot as plt\n",
    "\n",
    "\n",
    "\n",
    "# Učitavanje podataka o filmovima iz CSV datoteke u DataFrame\n",
    "df = pd.read_csv('movies.csv')\n",
    "\n",
    "# Filtriranje podataka za proteklu godinu\n",
    "protekla_godina = 2022\n",
    "df_protekla_godina = df[df['Godina'] == protekla_godina]\n",
    "\n",
    "# Izračunavanje udjela prihoda po žanrovima\n",
    "prihodi_po_zanrovima = df_protekla_godina.groupby('Žanr')['Prihod'].sum()\n",
    "\n",
    "# Prikaz pie charta\n",
    "plt.figure(figsize=(8, 8))\n",
    "\n",
    "plt.pie(prihodi_po_zanrovima, labels=prihodi_po_zanrovima.index, autopct='%1.1f%%')\n",
    "\n",
    "plt.title(f'Udio prihoda po žanrovima - {protekla_godina}')\n",
    "plt.show()"
   ]
  },
  {
   "attachments": {},
   "cell_type": "markdown",
   "id": "9702287f-a00f-4445-931c-31a44b45b80b",
   "metadata": {
    "deletable": false,
    "editable": false,
    "tags": []
   },
   "source": [
    "**Zadatak 4**\n",
    "\n",
    "Napravite scatter plot koji prikazuje korelaciju između ocjene filma i njegovog uspjeha na blagajnama."
   ]
  },
  {
   "cell_type": "code",
   "execution_count": null,
   "id": "6bb64d24-9177-44f8-9724-c15b34380482",
   "metadata": {},
   "outputs": [],
   "source": [
    "import pandas as pd\n",
    "import matplotlib.pyplot as plt\n",
    "\n",
    "\n",
    "# Učitavanje podataka o filmovima iz CSV datoteke u DataFrame\n",
    "df = pd.read_csv('movies.csv')\n",
    "\n",
    "# Prikaz scatter plot-a\n",
    "plt.scatter(df['Ocjena'], df['Uspjeh_na_blagajnama'])\n",
    "\n",
    "# Postavljanje naslova i oznaka osi\n",
    "plt.title('Korelacija između ocjene filma i uspjeha na blagajnama')\n",
    "plt.xlabel('Ocjena filma')\n",
    "plt.ylabel('Uspjeh na blagajnama')\n",
    "\n",
    "# Prikaz scatter plot-a\n",
    "plt.show()"
   ]
  },
  {
   "attachments": {},
   "cell_type": "markdown",
   "id": "2f5a2e31-2d40-438e-8be5-1b22b98decdb",
   "metadata": {
    "deletable": false,
    "editable": false,
    "tags": []
   },
   "source": [
    "**Zadatak 5**\n",
    "\n",
    "Napravite bar chart koji prikazuje prihode od prodaje kinoulaznica za 10 najuspješnijih filmova u posljednjih 5 godina."
   ]
  },
  {
   "cell_type": "code",
   "execution_count": null,
   "id": "8dca0e97-65e3-4ad2-a734-7267811ea970",
   "metadata": {},
   "outputs": [],
   "source": [
    "import pandas as pd\n",
    "import matplotlib.pyplot as plt\n",
    "\n",
    "\n",
    "\n",
    "# Učitavanje podataka o filmovima iz CSV datoteke u DataFrame\n",
    "df = pd.read_csv('movies.csv')\n",
    "\n",
    "# Filtriranje filmova iz posljednjih 5 godina\n",
    "current_year = pd.to_datetime('today').year\n",
    "df = df[df['Godina_izlaska'] >= current_year - 5]\n",
    "\n",
    "# Sortiranje filmova po prihodu od prodaje kinoulaznica\n",
    "df = df.nlargest(10, 'Prihod_od_prodaje')\n",
    "\n",
    "# Prikaz bar chart-a\n",
    "plt.bar(df['Naslov'], df['Prihod_od_prodaje'])\n",
    "\n",
    "# Postavljanje naslova i oznaka osi\n",
    "plt.title('Prihod od prodaje kinoulaznica za 10 najuspješnijih filmova u posljednjih 5 godina')\n",
    "plt.xlabel('Film')\n",
    "plt.ylabel('Prihod od prodaje (u milijunima dolara)')\n",
    "\n",
    "# Rotiranje oznaka x-osi za bolju čitljivost\n",
    "plt.xticks(rotation=45)\n",
    "\n",
    "# Prikaz bar chart-a\n",
    "plt.show()"
   ]
  },
  {
   "attachments": {},
   "cell_type": "markdown",
   "id": "e9108945-9888-4cee-85eb-a6d2f79be687",
   "metadata": {
    "deletable": false,
    "editable": false,
    "tags": []
   },
   "source": [
    "### NumPy <a class=\"anchor\" id=\"modul5-numpy\"></a>\n",
    "\n",
    "NumPy je kao i Pandas Python biblioteka specijalizirana za rad s numeričkim podacima. Gotovo da nema niti jedne grane znanosti u kojoj NumPy nema primjenu.\n",
    "\n",
    "Isto tako kao i većina Python biblioteka/paketa prije uporabe potrebno je instalirati NumPy. Najjednostavniji način je preko PyPi repozirotija *pip install numpy*, ali može se instalirati i preko Anaconda distribucije."
   ]
  },
  {
   "attachments": {},
   "cell_type": "markdown",
   "id": "13eb5c74-2698-421b-9574-f494bd7eb0c7",
   "metadata": {
    "deletable": false,
    "editable": false,
    "tags": []
   },
   "source": [
    "Prije korištenja NumPy biblioteke obvezno treba uključiti NumPy u skriptu pomoću import naredbe"
   ]
  },
  {
   "cell_type": "code",
   "execution_count": null,
   "id": "5b71e853",
   "metadata": {
    "deletable": false,
    "editable": false,
    "tags": []
   },
   "outputs": [],
   "source": [
    "import numpy as np"
   ]
  },
  {
   "attachments": {},
   "cell_type": "markdown",
   "id": "d950af39-1664-4e34-a157-2e3ef0d14129",
   "metadata": {
    "deletable": false,
    "editable": false,
    "tags": []
   },
   "source": [
    "#### Zadaci"
   ]
  },
  {
   "attachments": {},
   "cell_type": "markdown",
   "id": "2fc03253-0860-40c3-81c0-22c9ba956757",
   "metadata": {
    "deletable": false,
    "editable": false,
    "tags": []
   },
   "source": [
    "**Zadatak 1**\n",
    "\n",
    "Koristeći osnovne NumPy naredbe kreirajte nizove brojeva:\n",
    "- nula\n",
    "- jedinica\n",
    "- nasumične brojeve\n",
    "- niz počevši od broja 10 do broja 42"
   ]
  },
  {
   "cell_type": "code",
   "execution_count": null,
   "id": "e4dd0226-56ad-48c4-86b3-f03e7242d159",
   "metadata": {},
   "outputs": [],
   "source": [
    "import numpy as np\n",
    "\n",
    "\n",
    "# Kreiranje niza nula\n",
    "zeros_array = np.zeros(5)\n",
    "print(\"Niz nula:\", zeros_array)\n",
    "\n",
    "# Kreiranje niza jedinica\n",
    "ones_array = np.ones(5)\n",
    "print(\"Niz jedinica:\", ones_array)\n",
    "\n",
    "# Kreiranje niza nasumičnih brojeva\n",
    "random_array = np.random.rand(5)\n",
    "print(\"Niz nasumičnih brojeva:\", random_array)\n",
    "\n",
    "# Kreiranje niza od broja 10 do broja 42\n",
    "range_array = np.arange(10, 43)\n",
    "print(\"Niz od 10 do 42:\", range_array)"
   ]
  },
  {
   "attachments": {},
   "cell_type": "markdown",
   "id": "3dc065dd-9bda-4646-a0ea-90a8cd5e914c",
   "metadata": {
    "deletable": false,
    "editable": false,
    "tags": []
   },
   "source": [
    "**Zadatak 2**\n",
    "\n",
    "Niz godina u kojima su snimljeni filmovi Marvelovog univerzuma (MCU) je [2008, 2010, 2011, 2012, 2013, 2014, 2015, 2016, 2017, 2018, 2019, 2021]. Stvorite numpy niz iz ovih godina i pronađite najraniju i najkasniju godinu kada je snimljen film."
   ]
  },
  {
   "cell_type": "code",
   "execution_count": null,
   "id": "3ef4a876-141d-461c-b930-80c82818cfa5",
   "metadata": {},
   "outputs": [],
   "source": [
    "import numpy as np\n",
    "\n",
    "\n",
    "# Niz godina MCU filmova\n",
    "years = [2008, 2010, 2011, 2012, 2013, 2014, 2015, 2016, 2017, 2018, 2019, 2021]\n",
    "\n",
    "# Stvaranje numpy niza iz godina\n",
    "years_array = np.array(years)\n",
    "\n",
    "# Pronalazak najranije i najkasnije godine\n",
    "earliest_year = np.min(years_array)\n",
    "latest_year = np.max(years_array)\n",
    "\n",
    "# Ispis rezultata\n",
    "print(\"Najranija godina:\", earliest_year)\n",
    "print(\"Najkasnija godina:\", latest_year)"
   ]
  },
  {
   "attachments": {},
   "cell_type": "markdown",
   "id": "daf101ea-04c8-4bd8-885d-e0a07159867d",
   "metadata": {
    "deletable": false,
    "editable": false,
    "tags": []
   },
   "source": [
    "**Zadatak 3**\n",
    "\n",
    "Uzmimo sljedeće ocjene za film Avengers: Endgame: [8.4, 8.5, 9.0, 8.9, 8.7, 8.5, 8.8, 8.6, 8.9, 9.0]. Stvorite numpy niz iz ovih ocjena i pronađite prosječnu ocjenu i standardnu devijaciju."
   ]
  },
  {
   "cell_type": "code",
   "execution_count": null,
   "id": "d3b04384-e585-4000-881e-d9f03fc1c5ae",
   "metadata": {},
   "outputs": [],
   "source": [
    "import numpy as np\n",
    "\n",
    "\n",
    "# Niz ocjena za film Avengers: Endgame\n",
    "ratings = [8.4, 8.5, 9.0, 8.9, 8.7, 8.5, 8.8, 8.6, 8.9, 9.0]\n",
    "\n",
    "# Stvaranje numpy niza iz ocjena\n",
    "ratings_array = np.array(ratings)\n",
    "\n",
    "# Pronalazak prosječne ocjene\n",
    "average_rating = np.mean(ratings_array)\n",
    "\n",
    "# Pronalazak standardne devijacije\n",
    "std_deviation = np.std(ratings_array)\n",
    "\n",
    "# Ispis rezultata\n",
    "print(\"Prosječna ocjena:\", average_rating)\n",
    "print(\"Standardna devijacija:\", std_deviation)"
   ]
  },
  {
   "attachments": {},
   "cell_type": "markdown",
   "id": "952faa97-432f-486d-b30e-d12f23d7eb64",
   "metadata": {
    "deletable": false,
    "editable": false,
    "tags": []
   },
   "source": [
    "**Zadatak 4**\n",
    "\n",
    "Postoje podaci o prihodima filma \"The Dark Knight\" u sljedećim zemljama: \n",
    "* Sjedinjene Američke Države 158.411.483,00 &dollar;\n",
    "* Ujedinjeno Kraljevstvo 66.929.262,00 &dollar;\n",
    "* Australija 44.005.407,00 &dollar;\n",
    "* Njemačka 43.536.273,00 &dollar;\n",
    "* Francuska 44.650.728,00 &dollar;\n",
    "\n",
    "Stvorite numpy niz za ove prihode i izračunajte ukupni prihod filma."
   ]
  },
  {
   "cell_type": "code",
   "execution_count": null,
   "id": "b63c6ec8-1fdd-42fb-bc9b-7c04f1e61670",
   "metadata": {},
   "outputs": [],
   "source": [
    "import numpy as np\n",
    "\n",
    "\n",
    "# Podaci o prihodima filma \"The Dark Knight\" u različitim zemljama\n",
    "revenues = [158411483.00, 66929262.00, 44005407.00, 43536273.00, 44650728.00]\n",
    "\n",
    "# Stvaranje numpy niza iz prihoda\n",
    "revenues_array = np.array(revenues)\n",
    "\n",
    "# Izračun ukupnog prihoda\n",
    "total_revenue = np.sum(revenues_array)\n",
    "\n",
    "# Ispis rezultata\n",
    "print(\"Ukupni prihod filma 'The Dark Knight':\", total_revenue, \"$\")"
   ]
  },
  {
   "attachments": {},
   "cell_type": "markdown",
   "id": "0dc2c4c7-8e58-489f-8e74-760a8cc32cf6",
   "metadata": {
    "deletable": false,
    "editable": false,
    "tags": []
   },
   "source": [
    "**Zadatak 5**\n",
    "\n",
    "Uzmimo sljedeći numpy niz ocjena filmova:\n",
    "[8.4, 7.8, 9.2, 6.5, 8.9, 7.7, 8.5, 7.2, 6.7, 8.1]\n",
    "Kako biste proveli ocjenu iznad 8.0, stvorite novi numpy niz koji sadrži vrijednosti True i False gdje True označava da ocjena zadovoljava uvjet, a False inače."
   ]
  },
  {
   "cell_type": "code",
   "execution_count": null,
   "id": "a29b6f42-6b9e-4506-8498-68c1138093df",
   "metadata": {},
   "outputs": [],
   "source": [
    "import numpy as np\n",
    "\n",
    "\n",
    "\n",
    "# Uzmimo sljedeći numpy niz ocjena filmova\n",
    "ratings = np.array([8.4, 7.8, 9.2, 6.5, 8.9, 7.7, 8.5, 7.2, 6.7, 8.1])\n",
    "\n",
    "# Provjera uvjeta ocjene iznad 8.0\n",
    "condition = ratings > 8.0\n",
    "\n",
    "# Novi numpy niz koji sadrži vrijednosti True i False\n",
    "filtered_ratings = np.array(condition)\n",
    "\n",
    "# Ispis rezultata\n",
    "print(\"Numpy niz ocjena iznad 8.0:\", filtered_ratings)"
   ]
  },
  {
   "attachments": {},
   "cell_type": "markdown",
   "id": "22c4984d-a00e-49d2-8249-72a0bcffdb6e",
   "metadata": {
    "deletable": false,
    "editable": false,
    "tags": []
   },
   "source": [
    "**Zadatak 6**\n",
    "\n",
    "Stvorite numpy niz dimenzija 3x3 koji sadrži ocjene za tri filma. Ispišite ocjene u prvom redu. Zatim, zamijenite ocjene u prvom i trećem redu i ponovo ispišite niz."
   ]
  },
  {
   "cell_type": "code",
   "execution_count": null,
   "id": "7159c2de-d40f-4c60-900e-a8e150188ed8",
   "metadata": {},
   "outputs": [],
   "source": [
    "import numpy as np\n",
    "\n",
    "\n",
    "# Stvaranje numpy niza ocjena dimenzija 3x3\n",
    "ratings = np.array([[7.8, 8.4, 7.2],\n",
    "                    [9.1, 8.9, 8.5],\n",
    "                    [6.5, 8.2, 7.7]])\n",
    "\n",
    "# Ispis ocjena u prvom redu\n",
    "print(\"Ocjene u prvom redu:\")\n",
    "print(ratings[0])\n",
    "\n",
    "# Zamjena ocjena u prvom i trećem redu\n",
    "ratings[[0, 2]] = ratings[[2, 0]]\n",
    "\n",
    "# Ispis niza ponovno\n",
    "print(\"Niz nakon zamjene:\")\n",
    "print(ratings)"
   ]
  }
 ],
 "metadata": {
  "kernelspec": {
   "display_name": "Python 3 (ipykernel)",
   "language": "python",
   "name": "python3"
  },
  "language_info": {
   "codemirror_mode": {
    "name": "ipython",
    "version": 3
   },
   "file_extension": ".py",
   "mimetype": "text/x-python",
   "name": "python",
   "nbconvert_exporter": "python",
   "pygments_lexer": "ipython3",
   "version": "3.11.2"
  }
 },
 "nbformat": 4,
 "nbformat_minor": 5
}
