{
 "cells": [
  {
   "cell_type": "markdown",
   "id": "2dccd933",
   "metadata": {},
   "source": [
    "<a href='http://www.algebra.hr'> <img src='../algebra_logo_color_h.png' alt=\"Algebra\" width=\"500\" /></a>\n",
    "___\n",
    "# Napredna primjena NumPy - Numerical Python"
   ]
  },
  {
   "attachments": {},
   "cell_type": "markdown",
   "id": "23476258",
   "metadata": {},
   "source": [
    "## Rad s datotekama\n",
    "\n",
    "Većina je podataka pohranjena u datotekama tako da je za početak jako važno upoznati se s NumPy ugrađenom podrškom za rad s datotekama, odnosno čitanjem i pisanjem u datotekama. Radit ćemo isključivo s tekstualnim datotekama, dakle nećemo obrađivati fotografije, video datoteke i sl.\n",
    "\n",
    "### Zapisivanje u tekstualnu datoteku\n",
    "\n",
    "Za početak ćemo pohraniti naš niz (*Array*) u neku tekstualnu datoteku s ekstenzijom *.txt*."
   ]
  },
  {
   "cell_type": "code",
   "execution_count": 1,
   "id": "eaf26129",
   "metadata": {},
   "outputs": [],
   "source": [
    "import numpy as np"
   ]
  },
  {
   "cell_type": "code",
   "execution_count": 2,
   "id": "9ef286e1",
   "metadata": {},
   "outputs": [
    {
     "data": {
      "text/plain": [
       "array([[ 1,  2,  3,  4,  5,  6,  7,  8],\n",
       "       [ 9, 10, 11, 12, 13, 14, 15, 16],\n",
       "       [17, 18, 19, 20, 21, 22, 23, 24],\n",
       "       [25, 26, 27, 28, 29, 30, 31, 32],\n",
       "       [33, 34, 35, 36, 37, 38, 39, 40],\n",
       "       [41, 42, 43, 44, 45, 46, 47, 48],\n",
       "       [49, 50, 51, 52, 53, 54, 55, 56],\n",
       "       [57, 58, 59, 60, 61, 62, 63, 64]])"
      ]
     },
     "execution_count": 2,
     "metadata": {},
     "output_type": "execute_result"
    }
   ],
   "source": [
    "niz = np.arange(1, 65).reshape(8, 8)\n",
    "niz"
   ]
  },
  {
   "cell_type": "code",
   "execution_count": 11,
   "id": "9b124513",
   "metadata": {},
   "outputs": [],
   "source": [
    "# Pohrana u datoteku\n",
    "# np.savetxt('./save_to_file/niz.txt', niz)\n",
    "np.savetxt('./save_to_file/niz.txt', niz, fmt='%10.5f', delimiter=';', newline=';\\n')"
   ]
  },
  {
   "attachments": {},
   "cell_type": "markdown",
   "id": "a75421cd",
   "metadata": {},
   "source": [
    "Ovo je jednostavno. Ako pogledamo sadržaj naše datoteke, vidjet ćemo da su brojevi zapisani u znanstvenom načinu zapisivanja brojeva. Na primjer: *3.300000000000000000e+01*. Ovo je broj preuzet iz *nix.txt* datoteke. Završetak *e+01* označava sve ono prije pomnoženo s deset na *+01* potenciju, odnosno pomnoženo s deset. Zato je *3.300000000000000000e+01* identično:\n",
    "\n",
    "$$\n",
    "3.3 x 10^1 = 33\n",
    "$$\n",
    "\n",
    "Upoznajmo se malo više s mogućnostima *np.savetxt()* metode. Najjednostavnije je pozvati Python u pomoć - *help()*."
   ]
  },
  {
   "cell_type": "code",
   "execution_count": 5,
   "id": "46c55415",
   "metadata": {},
   "outputs": [
    {
     "data": {
      "text/plain": [
       "\u001b[1;31mSignature:\u001b[0m      \n",
       "\u001b[0mnp\u001b[0m\u001b[1;33m.\u001b[0m\u001b[0msavetxt\u001b[0m\u001b[1;33m(\u001b[0m\u001b[1;33m\n",
       "\u001b[0m    \u001b[0mfname\u001b[0m\u001b[1;33m,\u001b[0m\u001b[1;33m\n",
       "\u001b[0m    \u001b[0mX\u001b[0m\u001b[1;33m,\u001b[0m\u001b[1;33m\n",
       "\u001b[0m    \u001b[0mfmt\u001b[0m\u001b[1;33m=\u001b[0m\u001b[1;34m'%.18e'\u001b[0m\u001b[1;33m,\u001b[0m\u001b[1;33m\n",
       "\u001b[0m    \u001b[0mdelimiter\u001b[0m\u001b[1;33m=\u001b[0m\u001b[1;34m' '\u001b[0m\u001b[1;33m,\u001b[0m\u001b[1;33m\n",
       "\u001b[0m    \u001b[0mnewline\u001b[0m\u001b[1;33m=\u001b[0m\u001b[1;34m'\\n'\u001b[0m\u001b[1;33m,\u001b[0m\u001b[1;33m\n",
       "\u001b[0m    \u001b[0mheader\u001b[0m\u001b[1;33m=\u001b[0m\u001b[1;34m''\u001b[0m\u001b[1;33m,\u001b[0m\u001b[1;33m\n",
       "\u001b[0m    \u001b[0mfooter\u001b[0m\u001b[1;33m=\u001b[0m\u001b[1;34m''\u001b[0m\u001b[1;33m,\u001b[0m\u001b[1;33m\n",
       "\u001b[0m    \u001b[0mcomments\u001b[0m\u001b[1;33m=\u001b[0m\u001b[1;34m'# '\u001b[0m\u001b[1;33m,\u001b[0m\u001b[1;33m\n",
       "\u001b[0m    \u001b[0mencoding\u001b[0m\u001b[1;33m=\u001b[0m\u001b[1;32mNone\u001b[0m\u001b[1;33m,\u001b[0m\u001b[1;33m\n",
       "\u001b[0m\u001b[1;33m)\u001b[0m\u001b[1;33m\u001b[0m\u001b[1;33m\u001b[0m\u001b[0m\n",
       "\u001b[1;31mCall signature:\u001b[0m  \u001b[0mnp\u001b[0m\u001b[1;33m.\u001b[0m\u001b[0msavetxt\u001b[0m\u001b[1;33m(\u001b[0m\u001b[1;33m*\u001b[0m\u001b[0margs\u001b[0m\u001b[1;33m,\u001b[0m \u001b[1;33m**\u001b[0m\u001b[0mkwargs\u001b[0m\u001b[1;33m)\u001b[0m\u001b[1;33m\u001b[0m\u001b[1;33m\u001b[0m\u001b[0m\n",
       "\u001b[1;31mType:\u001b[0m            _ArrayFunctionDispatcher\n",
       "\u001b[1;31mString form:\u001b[0m     <function savetxt at 0x0000012F760F42C0>\n",
       "\u001b[1;31mFile:\u001b[0m            c:\\repos\\py-jupyter-nb\\venv\\lib\\site-packages\\numpy\\lib\\npyio.py\n",
       "\u001b[1;31mDocstring:\u001b[0m      \n",
       "Save an array to a text file.\n",
       "\n",
       "Parameters\n",
       "----------\n",
       "fname : filename or file handle\n",
       "    If the filename ends in ``.gz``, the file is automatically saved in\n",
       "    compressed gzip format.  `loadtxt` understands gzipped files\n",
       "    transparently.\n",
       "X : 1D or 2D array_like\n",
       "    Data to be saved to a text file.\n",
       "fmt : str or sequence of strs, optional\n",
       "    A single format (%10.5f), a sequence of formats, or a\n",
       "    multi-format string, e.g. 'Iteration %d -- %10.5f', in which\n",
       "    case `delimiter` is ignored. For complex `X`, the legal options\n",
       "    for `fmt` are:\n",
       "\n",
       "    * a single specifier, `fmt='%.4e'`, resulting in numbers formatted\n",
       "      like `' (%s+%sj)' % (fmt, fmt)`\n",
       "    * a full string specifying every real and imaginary part, e.g.\n",
       "      `' %.4e %+.4ej %.4e %+.4ej %.4e %+.4ej'` for 3 columns\n",
       "    * a list of specifiers, one per column - in this case, the real\n",
       "      and imaginary part must have separate specifiers,\n",
       "      e.g. `['%.3e + %.3ej', '(%.15e%+.15ej)']` for 2 columns\n",
       "delimiter : str, optional\n",
       "    String or character separating columns.\n",
       "newline : str, optional\n",
       "    String or character separating lines.\n",
       "\n",
       "    .. versionadded:: 1.5.0\n",
       "header : str, optional\n",
       "    String that will be written at the beginning of the file.\n",
       "\n",
       "    .. versionadded:: 1.7.0\n",
       "footer : str, optional\n",
       "    String that will be written at the end of the file.\n",
       "\n",
       "    .. versionadded:: 1.7.0\n",
       "comments : str, optional\n",
       "    String that will be prepended to the ``header`` and ``footer`` strings,\n",
       "    to mark them as comments. Default: '# ',  as expected by e.g.\n",
       "    ``numpy.loadtxt``.\n",
       "\n",
       "    .. versionadded:: 1.7.0\n",
       "encoding : {None, str}, optional\n",
       "    Encoding used to encode the outputfile. Does not apply to output\n",
       "    streams. If the encoding is something other than 'bytes' or 'latin1'\n",
       "    you will not be able to load the file in NumPy versions < 1.14. Default\n",
       "    is 'latin1'.\n",
       "\n",
       "    .. versionadded:: 1.14.0\n",
       "\n",
       "\n",
       "See Also\n",
       "--------\n",
       "save : Save an array to a binary file in NumPy ``.npy`` format\n",
       "savez : Save several arrays into an uncompressed ``.npz`` archive\n",
       "savez_compressed : Save several arrays into a compressed ``.npz`` archive\n",
       "\n",
       "Notes\n",
       "-----\n",
       "Further explanation of the `fmt` parameter\n",
       "(``%[flag]width[.precision]specifier``):\n",
       "\n",
       "flags:\n",
       "    ``-`` : left justify\n",
       "\n",
       "    ``+`` : Forces to precede result with + or -.\n",
       "\n",
       "    ``0`` : Left pad the number with zeros instead of space (see width).\n",
       "\n",
       "width:\n",
       "    Minimum number of characters to be printed. The value is not truncated\n",
       "    if it has more characters.\n",
       "\n",
       "precision:\n",
       "    - For integer specifiers (eg. ``d,i,o,x``), the minimum number of\n",
       "      digits.\n",
       "    - For ``e, E`` and ``f`` specifiers, the number of digits to print\n",
       "      after the decimal point.\n",
       "    - For ``g`` and ``G``, the maximum number of significant digits.\n",
       "    - For ``s``, the maximum number of characters.\n",
       "\n",
       "specifiers:\n",
       "    ``c`` : character\n",
       "\n",
       "    ``d`` or ``i`` : signed decimal integer\n",
       "\n",
       "    ``e`` or ``E`` : scientific notation with ``e`` or ``E``.\n",
       "\n",
       "    ``f`` : decimal floating point\n",
       "\n",
       "    ``g,G`` : use the shorter of ``e,E`` or ``f``\n",
       "\n",
       "    ``o`` : signed octal\n",
       "\n",
       "    ``s`` : string of characters\n",
       "\n",
       "    ``u`` : unsigned decimal integer\n",
       "\n",
       "    ``x,X`` : unsigned hexadecimal integer\n",
       "\n",
       "This explanation of ``fmt`` is not complete, for an exhaustive\n",
       "specification see [1]_.\n",
       "\n",
       "References\n",
       "----------\n",
       ".. [1] `Format Specification Mini-Language\n",
       "       <https://docs.python.org/library/string.html#format-specification-mini-language>`_,\n",
       "       Python Documentation.\n",
       "\n",
       "Examples\n",
       "--------\n",
       ">>> x = y = z = np.arange(0.0,5.0,1.0)\n",
       ">>> np.savetxt('test.out', x, delimiter=',')   # X is an array\n",
       ">>> np.savetxt('test.out', (x,y,z))   # x,y,z equal sized 1D arrays\n",
       ">>> np.savetxt('test.out', x, fmt='%1.4e')   # use exponential notation\n",
       "\u001b[1;31mClass docstring:\u001b[0m\n",
       "Class to wrap functions with checks for __array_function__ overrides.\n",
       "\n",
       "All arguments are required, and can only be passed by position.\n",
       "\n",
       "Parameters\n",
       "----------\n",
       "dispatcher : function or None\n",
       "    The dispatcher function that returns a single sequence-like object\n",
       "    of all arguments relevant.  It must have the same signature (except\n",
       "    the default values) as the actual implementation.\n",
       "    If ``None``, this is a ``like=`` dispatcher and the\n",
       "    ``_ArrayFunctionDispatcher`` must be called with ``like`` as the\n",
       "    first (additional and positional) argument.\n",
       "implementation : function\n",
       "    Function that implements the operation on NumPy arrays without\n",
       "    overrides.  Arguments passed calling the ``_ArrayFunctionDispatcher``\n",
       "    will be forwarded to this (and the ``dispatcher``) as if using\n",
       "    ``*args, **kwargs``.\n",
       "\n",
       "Attributes\n",
       "----------\n",
       "_implementation : function\n",
       "    The original implementation passed in."
      ]
     },
     "metadata": {},
     "output_type": "display_data"
    }
   ],
   "source": [
    "np.savetxt?"
   ]
  },
  {
   "cell_type": "markdown",
   "id": "51f66b40",
   "metadata": {},
   "source": [
    "Lista parametara je:\n",
    "1. *fname* ili *file_name*, odnosno naziv datoteke.\n",
    "2. *X* ili podaci koje želimo pohraniti u obliku 1D ili 2D niza.\n",
    "3. *fmt* ili format zapisa. Recimo '%10.2f' bi značilo: pohrani brojeve u formatu decimalnom zapisu (onaj *f* na kraju označava float, a prije toga odredimo koliko decimalnih mjesta s onom dvojkom nakon broja deset).\n",
    "4. *delimiter* označava koji simbol ćemo koristiti za razdvajanje kolona, odnosno brojeva unutar jednog reda. Predefinirano je razmak.\n",
    "5. *newline* označava delimiter između redova. Predefinirano je znak prelaska u novi red '\\n'\n",
    "6. *header*, *footer* i *comments* su pomoćni podaci koji mogu dodatno *uljepšati* zapis u našoj datoteci.\n",
    "\n",
    "**VJEŽBA<br>\n",
    "Iskoristite navedeno te u datoteku *tablica_mnozenja.txt* zapišite tablicu množenja od 1 do 10, dodajte zaglavlje u kojem će pisati slijedeći tekst:<br>\n",
    "Naziv datoteke: \"tablica_mnozenja.txt\"<br>\n",
    "Autor: \"ime i prezime\"<br>\n",
    "..........................................\n",
    "<br>\n",
    "Nakon toga treba zapisati tablicu množenja i nakon tablice množenja treba zapisati<br>\n",
    "..........................................<br>\n",
    "\"datum i vrijeme zapisa\"**\n",
    "\n",
    "**NAPOMENA: Umjesto ime i prezime upišite Vaše ime i prezime, umjesto datum i vrijeme zapisa generirajte podatak o datumu i vremenu pomoću Python modula za rad s datumima i vremenom.**"
   ]
  },
  {
   "cell_type": "code",
   "execution_count": null,
   "id": "ae22e940",
   "metadata": {},
   "outputs": [],
   "source": []
  },
  {
   "cell_type": "markdown",
   "id": "3b682782",
   "metadata": {},
   "source": [
    "### Čitanje iz tekstualnih datoteka\n",
    "\n",
    "Čitanje iz tekstualnih datoteka je malo kompleksnije, odnosno nudi više mogućnosti. To je i razumljivo, zato jer možemo čitati iz datoteka koje su kreirali naši kolege ili neki drugi znanstvenici, firme ili programi koje ne netko drugi programirao.\n",
    "\n",
    "Ako smo za pisanje u datoteku koristili *np.savetxt()* metodu, onda bismo za učitavanje podataka iz datoteke koristili *np.loadtxt()* metodu. Prije nego na primjeru pokažemo kako se koristi metoda, ovaj put ćemo se odmah obratiti Pythonu za pomoć i zatražiti pomoć u vezi *np.loadtxt* metode."
   ]
  },
  {
   "cell_type": "code",
   "execution_count": null,
   "id": "8eaff345",
   "metadata": {},
   "outputs": [],
   "source": []
  },
  {
   "cell_type": "markdown",
   "id": "ab6e476c",
   "metadata": {},
   "source": [
    "Lista argumenata za *loadtxt* metodu je:\n",
    "1. *fname* - opet na prvom mjestu naziv datoteke\n",
    "2. *dtype* - predefinirani tip podataka je float. Očekivano, ali ovdje možemo iskoristiti priliku i definirati neki drugi, kao recimo cijeli broj ili možda datum (zapisan kao cijeli broj u *Unix time* formatu).\n",
    "3. *comments* - komentari\n",
    "4. *delimiter* - ovaj argument ćemo koristiti jako često jer nam je većina podataka zapisana u CSV formatu, odnosno kolone su razdvojene zarezom ili točka zarezom.\n",
    "5. *converters* - predstvlja *Python dict* objekt u kojem je kao ključ definirana kolona, a kao vrijednost (najčešće) *lambda* funkcija koja učitani podatak konvertira u neki nama potrebni tip ili oblik podatka. Koristit ćemo za konverziju datuma\n",
    "6. *skiprows* - definira koliko redaka želimo preskočiti. U našem primjeru s tablicom množenja, to bi bila tri reda koja želimo preskočiti\n",
    "7. *usecols* - predstavlja *tuple* s indeksima kolona (0 predstavlja prvu kolonu) koje želimo učitati. Recimo (3,4,6,9) učitat će četvrtu, petu, sedmu i desetu kolonu.\n",
    "8. *unpack* - ako je *True*, onda će učitane podatke *zarotirati*. To nam omogućuje da *raspakiramo* učitane podatka, odnosno pohranimo ih u više varijabli\n",
    "9. *ndim* - definira u koliko dimenzija želimo presložiti naše podatke. Predefinirana vrijednost je 0, a maksimalna je 2\n",
    "10. *max_rows* - definira broj redaka koje želimo učitati nakon što smo prethodno definirali broj redaka koje želimo preskočiti pomoću argumenta *skiprows*. Obratite pažnju da ovaj parametar ima podvlaku u nazivu, a *skiprows* nema.\n",
    "\n",
    "Iskoristimo i pokažimo kako se koriste ove mogućnosti na nekoliko primjera.\n",
    "\n",
    "Prvo ćemo učitati cijelu *csv* datoteku"
   ]
  },
  {
   "cell_type": "code",
   "execution_count": null,
   "id": "fb3c2eaa",
   "metadata": {},
   "outputs": [],
   "source": []
  },
  {
   "cell_type": "markdown",
   "id": "54e880a4",
   "metadata": {},
   "source": [
    "Očigledno nećemo uspjeti tako lako učitati podatke kao pomoću Pandas biblioteke. Ovdje se radi o podacima koje treba konvertirati u neke *čitljivije* formate biblioteci NumPy. Za početak bi bilo dobro vidjeti kako naši podaci izgledaju. Potražimo pomoć od naše Pandas biblioteke."
   ]
  },
  {
   "cell_type": "code",
   "execution_count": null,
   "id": "8687d260",
   "metadata": {
    "scrolled": true
   },
   "outputs": [],
   "source": []
  },
  {
   "cell_type": "markdown",
   "id": "642116ce",
   "metadata": {},
   "source": [
    "Provjerimo i koji je tip podataka u našim kolonama. Taj podatak može biti jako koristan."
   ]
  },
  {
   "cell_type": "code",
   "execution_count": null,
   "id": "a3980dd9",
   "metadata": {},
   "outputs": [],
   "source": []
  },
  {
   "cell_type": "markdown",
   "id": "9e6e1bf8",
   "metadata": {},
   "source": [
    "Vidimo da prvi redak ima nazive kolona pa bismo taj red trebali preskočiti. Za početak ćemo učitati kolone koje imaju *float64* tip podatka.\n",
    "\n",
    "Jedan od boljih načina kako steći neku vještinu vježba, a to ćemo dobiti pokušajima i popravljanjem pogrešaka."
   ]
  },
  {
   "cell_type": "code",
   "execution_count": null,
   "id": "be8e5a29",
   "metadata": {},
   "outputs": [],
   "source": []
  },
  {
   "cell_type": "markdown",
   "id": "650b52c7",
   "metadata": {},
   "source": [
    "Probajmo ograničiti učitane podatke na samo prvih 15 redaka i uzet ćemo samo kolone koje označavaju potrošnju u kWh/km. Dakle, kolone koje imaju indekse 7, 8 i 9."
   ]
  },
  {
   "cell_type": "code",
   "execution_count": null,
   "id": "737476ad",
   "metadata": {},
   "outputs": [],
   "source": []
  },
  {
   "cell_type": "markdown",
   "id": "7f140be4",
   "metadata": {},
   "source": [
    "Ok. Probajmo učitati kolonu koja ima *int64* tip podatka. Recimo kolonu koja u kojoj su vrijednosti snage za svaki automobil izražene u kW. To je kolona s indeksom 4. Osim toga pretvorimo je u cijele brojeve, jer nemamo vrijednosti nakon decimalnog zareza."
   ]
  },
  {
   "cell_type": "code",
   "execution_count": null,
   "id": "6963ab50",
   "metadata": {},
   "outputs": [],
   "source": []
  },
  {
   "cell_type": "markdown",
   "id": "f78bc71d",
   "metadata": {},
   "source": [
    "Sada možemo nešto napraviti s tim podacima. Recimo pronaći prosječnu snagu te najveću ili najmanju snagu i u kojem redu se nalazi ta vrijednost (odnosno za koji auto su vezane maksimalna i minimalna snaga)."
   ]
  },
  {
   "cell_type": "code",
   "execution_count": null,
   "id": "2f8d6a49",
   "metadata": {},
   "outputs": [],
   "source": []
  },
  {
   "cell_type": "markdown",
   "id": "90f09012",
   "metadata": {},
   "source": [
    "## NumPy u društvu Pandas i Matplotlib biblioteka\n",
    "\n",
    "Za obradu podataka u podatkovnoj znanosti, gotovo u velikoj večini slučajeva ćemo koristiti sve tri biblioteke koje smo do sada upoznali. NumPy biblioteka je temeljna biblioteka. Na osnovu nje su razvijene preostale dvije (ali i još neke druge koje nisu tema ovog seminara). Za nastavak naprednog korištenja NumPy biblioteke, koristit ćemo i preostale dvije biblioteke. Pandas ćemo koristiti za učitavanje podataka iz csv datoteka te za izdvajanje kolona u *Serije* koje ćemo onda koristiti unutar NumPy biblioteke za neke proračune, dok ćemo Matplotlib biblioteku koristiti za vizualizaciju podataka. \n",
    "\n",
    "Većinu funkcija koje smo koristili prilikom učitavanja podataka u Pandas biblioteci se baziraju na NumPy mogućnostima. To je zato jer je NumPy temeljna biblioteka na kojoj je razvijen Pandas.\n",
    "\n",
    "Najbolje bi bilo da napravimo jedan manji projektni zadatak u kojem ćemo koristiti sve do sada naučeno (uz još neku novu informaciju) te tako prođemo kroz mogućnosti ove tri biblioteke."
   ]
  },
  {
   "cell_type": "markdown",
   "id": "981e5ef8",
   "metadata": {},
   "source": [
    "### VJEŽBA - Utjecaj udaljenosti od mora na temperaturu u gradu\n",
    "\n",
    "Kada je ljeto svi žele ići na more. Na moru je pravo ljeto. Sasvim je prirodno da je na moru vruće i da su tamo temperature visoke. Idemo istražiti koliko zaista udaljenost od mora ima utjecaja na temperature. Znamo da je Slavonija jako vruća ljeti, a jako je udaljena od mora. To bi nam moglo dati krivu sliku pa bismo se mogli ograničiti samo na Istru. Istra je *na moru*, ali ima i dio koji je u unutrašnjosti pa se čini jako dobra regija za ovaj zadatak.\n",
    "\n",
    "**Podaci, način prikupljanja podataka, izvori ...**<br>\n",
    "Odredit ćemo nekoliko gradova u Hrvatskoj i za njih ćemo uzeti podatke o temperaturama unutar zadnjih pet dana. Za svaki od ovih gradova ćemo odrediti koliko su udaljeni od mora (također ćemo pronaći podatak na Internetu). Analizirat ćemo prikupljene podatke i donijeti neke zaključke.\n",
    "\n",
    "**NAPOMENA: Za kvalitetnu analizu trebala bi nam velika količina podataka i trebali bismo svakodnevno mjeriti temperature za svaki od ciljanih gradova tijekom nekoliko godina. Za to nemamo vremena tijekom ovog tečaja, ali ako ste zainteresirani za provedbu jednog ovakvog projekta, slobodno iskoristite ovaj zadatak kao predložak i krenite.**"
   ]
  },
  {
   "cell_type": "markdown",
   "id": "85f45bf9",
   "metadata": {},
   "source": [
    "#### Odredimo listu gradova i njihovu udaljenost od mora\n",
    "\n",
    "Ograničimo se na 10 gradova u Istri.\n",
    "1. Pula\n",
    "2. Pazin\n",
    "3. Motovun\n",
    "4. Labin\n",
    "5. Buzet\n",
    "6. Buje\n",
    "7. Višnjan\n",
    "8. Kanfanar\n",
    "9. Žminj\n",
    "10. Vodnjan\n",
    "\n",
    "Udaljenost od mora je nešto što trebamo izračunati i nekako se snaći. Jedan od primjera je mjerenje udaljenosti do nekog grada koji je na moru. Ovo nije najtočnija mjera, ali kako ne radimo znanstveno istraživanje, bit će dovoljno dobro. Osim toga pokazat će nam kako dolazimo do nekih informacija. Vjerujem da će neki od studenata imati možda još bolju ideju od ove. Recimo za Vodnjan je dovoljno dobra udaljenost do Fažane.\n",
    "\n",
    "**Odredimo udaljenosti od mora za gradove pomoću Google Maps usluge**\n",
    "1. Pula - 0 km\n",
    "2. Pazin - Poreč - 30 km\n",
    "3. Motovun - Novigrad - 25 km\n",
    "4. Labin - Rabac - 4 km\n",
    "5. Buzet - Novigrad - 40 km\n",
    "6. Buje - Lovrečica - 12 km\n",
    "7. Višnjan - Červar-porat - 10 km\n",
    "8. Kanfanar - Rovinj - 17 km\n",
    "9. Žminj - Rovinj - 23 km\n",
    "10. Vodnjan - Fažana - 7 km\n",
    "\n",
    "**Odredimo zemljopisne koordinate za gradove pomoću https://latitude.to/ usluge**\n",
    "1. Pula - 0 km - 44.86833 13.84806\n",
    "2. Pazin -> Poreč - 30 km - 45.23878 13.93497\n",
    "3. Motovun -> Novigrad - 25 km - 45.33673 13.82821\n",
    "4. Labin -> Rabac - 4 km - 45.09485 14.12319\n",
    "5. Buzet -> Novigrad - 40 km - 45.40788 13.96559\n",
    "6. Buje -> Lovrečica - 12 km - 45.40837 13.65914\n",
    "7. Višnjan -> Červar-porat - 10 km - 45.27602 13.71887\n",
    "8. Kanfanar -> Rovinj - 17 km - 45.12284 13.83850\n",
    "9. Žminj -> Rovinj - 23 km - 45.14391 13.90868\n",
    "10. Vodnjan -> Fažana - 7 km - 44.95896 13.85134"
   ]
  },
  {
   "cell_type": "markdown",
   "id": "8528c6d4",
   "metadata": {},
   "source": [
    "#### Prikupimo podatke o vremenu za svaki od navedenih gradova\n",
    "\n",
    "Usluga *OpenWeatherMap* nudi prikupljanje podataka o vremenu za neki grad tijekom zadnjih pet dana. Da bismo to napravili moramo se registrirati na stranici: https://openweathermap.org/. Registracija je besplatna. Ako ipak želite podatke tijekom zadnjih 40 godina, onda te podatke možete kupiti. Mi ćemo za potrebe ove vježbe koristiti besplatnu verziju.\n",
    "\n",
    "Nakon što se registrirate pomoću uputa na ovoj stranici https://openweathermap.org/api/one-call-api#history možete kreirati API upit pomoću kojeg ćete dobiti json datoteku. Kao datum trebamo koristiti UNIX time, a za to će nam koristiti https://time.is/Unix_time_converter ova Internet usluga.\n",
    "\n",
    "API upit za grad Pulu će izgledati ovako:\n",
    "http://api.openweathermap.org/data/2.5/onecall/timemachine?lat=44.86833&lon=13.84806&dt=1633556632&appid=a38edf57331518ae5f14c42cff1ba255\n",
    "\n",
    "VAŽNO Usluga OpenWeather Map NEMA jedan upit za zadnjih pet dana, nego je potrebno za svaki dan generirati novi upit."
   ]
  },
  {
   "cell_type": "markdown",
   "id": "fd4c2df2",
   "metadata": {},
   "source": [
    "Pripremimo globalne varijable koje ćemo koristiti tijekom automatizacije prikupljanja podataka."
   ]
  },
  {
   "cell_type": "code",
   "execution_count": null,
   "id": "a9922fdc",
   "metadata": {},
   "outputs": [],
   "source": []
  },
  {
   "cell_type": "markdown",
   "id": "29b47ab6",
   "metadata": {},
   "source": [
    "Provjerimo je li API upit za grad Pulu radi kako smo očekivali."
   ]
  },
  {
   "cell_type": "code",
   "execution_count": null,
   "id": "92ba6c02",
   "metadata": {},
   "outputs": [],
   "source": []
  },
  {
   "cell_type": "markdown",
   "id": "7267be33",
   "metadata": {},
   "source": [
    "Popis ključeva unutar *json* datoteke možemo dobiti na slijedeći način:"
   ]
  },
  {
   "cell_type": "code",
   "execution_count": null,
   "id": "4243d8f4",
   "metadata": {},
   "outputs": [],
   "source": []
  },
  {
   "cell_type": "markdown",
   "id": "a4ddbb32",
   "metadata": {},
   "source": [
    "Nas zanima samo ključ: \n",
    "- 'hourly' - lista *dict* objekata s podacima o vremenu tijekom 24 sata za određeni datum"
   ]
  },
  {
   "cell_type": "code",
   "execution_count": null,
   "id": "e7c7627a",
   "metadata": {},
   "outputs": [],
   "source": []
  },
  {
   "cell_type": "markdown",
   "id": "3b277583",
   "metadata": {},
   "source": [
    "Uzet ćemo slijedeće podatke:\n",
    "- *temp* - temperatura koju trebamo konvertirati iz Kelvina u Celzijuse\n",
    "- *humidity* - postotak vlažnosti\n",
    "- *pressure* - tlak zraka\n",
    "- *description* - ppis kakvo je vrijeme: clear sky\n",
    "- *dt* - *date time* koje ćemo konvertirati u *čitljiv* oblik iz UNIX vremena\n",
    "- *wind_speed* - brzina vjetra\n",
    "- *wind_deg* - smjer vjetra\n",
    "\n",
    "Za to ćemo pripremiti jednu funkciju koja će nam pomoći da za svaki grad filtriramo željene podatke"
   ]
  },
  {
   "cell_type": "code",
   "execution_count": null,
   "id": "e88cf029",
   "metadata": {},
   "outputs": [],
   "source": []
  },
  {
   "cell_type": "markdown",
   "id": "72b0ad0e",
   "metadata": {},
   "source": [
    "Sada možemo automatizirati naše prikupljanje podataka.\n",
    "\n",
    "1. Proći ćemo kroz rječnik gradova i uzeti jedan grad\n",
    "2. Za taj grad ćemo proći kroz svaki od dana i dohvatiti temperature za taj dan\n",
    "3. Unutar json rezultata ćemo proći kroz svaki sati i pročitati temperature te ćemo ih pohraniti u listu pomoću funkcije\n",
    "4. Tako dobivene podatke ćemo pohraniti u jednu listu\n",
    "5. Zatim ćemo to pohraniti u zasebnu datoteku za svaki od gradova"
   ]
  },
  {
   "cell_type": "code",
   "execution_count": null,
   "id": "00bed1db",
   "metadata": {},
   "outputs": [],
   "source": []
  },
  {
   "cell_type": "markdown",
   "id": "998d46a8",
   "metadata": {},
   "source": [
    "#### ANALIZA PODATAKA\n",
    "\n",
    "Napokon možemo krenuti na analizu podataka. Prvo ćemo učitati *DataFrame* za svaki grad iz njegove *csv* datoteke"
   ]
  },
  {
   "cell_type": "code",
   "execution_count": null,
   "id": "1688ad0e",
   "metadata": {},
   "outputs": [],
   "source": []
  },
  {
   "cell_type": "markdown",
   "id": "ccf90e1b",
   "metadata": {},
   "source": [
    "Prvo ćemo grafički prikazati podatke za temperaturu za grad Pulu."
   ]
  },
  {
   "cell_type": "code",
   "execution_count": null,
   "id": "f4580d00",
   "metadata": {},
   "outputs": [],
   "source": []
  },
  {
   "cell_type": "code",
   "execution_count": null,
   "id": "85f0e3bb",
   "metadata": {},
   "outputs": [],
   "source": []
  },
  {
   "cell_type": "markdown",
   "id": "2b4e9d6b",
   "metadata": {},
   "source": [
    "**NAPOMENA Za sada ćemo zanemarit gustoću prikaza sati (*hours*)**\n",
    "\n",
    "Dodajmo još nekoliko gradova u prikaz"
   ]
  },
  {
   "cell_type": "code",
   "execution_count": null,
   "id": "ec1a946d",
   "metadata": {},
   "outputs": [],
   "source": []
  },
  {
   "cell_type": "markdown",
   "id": "20fa6539",
   "metadata": {},
   "source": [
    "Za sada ne vidimo neke velike razlike. Ali ako usporedimo maksimalne i minimalne temperature za svaki grad s njihovom udaljenošću od mora, možda dobijemo kakav koristan podatak."
   ]
  },
  {
   "cell_type": "code",
   "execution_count": null,
   "id": "f0e69558",
   "metadata": {},
   "outputs": [],
   "source": []
  },
  {
   "cell_type": "markdown",
   "id": "73e68cfd",
   "metadata": {},
   "source": [
    "Prvo prikažimo maksimalne temperature"
   ]
  },
  {
   "cell_type": "code",
   "execution_count": null,
   "id": "e00e37ac",
   "metadata": {},
   "outputs": [],
   "source": []
  },
  {
   "cell_type": "markdown",
   "id": "e95b1b88",
   "metadata": {},
   "source": [
    "Iz prikazanog se ne vidi neki veliki utjecaj udaljenosti od mora na maksimalnu temperaturu. Možda i očekivano, jer kada je u Hrvatskoj vruće, onda je vruće svugdje.\n",
    "\n",
    "Idemo prikazati minimalne temperature. Možda tu dobijemo neke korisne informacije."
   ]
  },
  {
   "cell_type": "code",
   "execution_count": null,
   "id": "af9888de",
   "metadata": {},
   "outputs": [],
   "source": []
  },
  {
   "cell_type": "markdown",
   "id": "052f509b",
   "metadata": {},
   "source": [
    "Iz gornjeg grafa vidimo da ona mjesta koja su jako blizu mora, imaju najvišu minimalnu temperaturu. Dakle, more ipak ima utjecaja na temperaturu u gradu ovisno o udaljenosti grada od mora.\n",
    "\n",
    "Idemo vidjeti kako stojimo s ostalim meteorološkim veličinama. Krenimo s vlažnošću zraka."
   ]
  },
  {
   "cell_type": "code",
   "execution_count": null,
   "id": "99976e2e",
   "metadata": {},
   "outputs": [],
   "source": []
  },
  {
   "cell_type": "markdown",
   "id": "497d8bdd",
   "metadata": {},
   "source": [
    "Vlažnost zraka ovisi o od grada do grada. Možemo zaključiti da je to vezano uz udaljenost od mora, ali na vlažnost mogu utjecati i drugi parametri iz okoline."
   ]
  },
  {
   "cell_type": "code",
   "execution_count": null,
   "id": "bfc217c4",
   "metadata": {},
   "outputs": [],
   "source": []
  },
  {
   "cell_type": "markdown",
   "id": "56fad33d",
   "metadata": {},
   "source": [
    "Najviša vlažnost je nešto veća u gradovima koji su udaljeniji od mora, ali razlika nije velika."
   ]
  },
  {
   "cell_type": "code",
   "execution_count": null,
   "id": "26e652c5",
   "metadata": {},
   "outputs": [],
   "source": []
  },
  {
   "cell_type": "markdown",
   "id": "31cfb31d",
   "metadata": {},
   "source": [
    "Minimalna vlažnost zraka je izraženija s povećanjem udaljenosti od mora. Ovo je također očekivano, jer hladniji zrak ima manju vlažnost, a vidjeli smo da je i temperatura manja s većom udaljenošću od mora.\n",
    "\n",
    "\n",
    "#### Ruža vjetrova\n",
    "\n",
    "Od podataka koje smo dobili zanimljivi su nam i vjetrovi. Dobili smo podatke o smjeru *wind_deg* i brzini *wind_speed* vjetra.\n",
    "\n",
    "Prikažimo podatke za Pulu"
   ]
  },
  {
   "cell_type": "code",
   "execution_count": null,
   "id": "8714ee57",
   "metadata": {},
   "outputs": [],
   "source": []
  },
  {
   "cell_type": "markdown",
   "id": "4ca8961e",
   "metadata": {},
   "source": [
    "Ovakav tip grafa nije najbolji, ali ružu vjetrova ćemo najbolje prikazati kružnim histogram grafom."
   ]
  },
  {
   "cell_type": "code",
   "execution_count": null,
   "id": "639f1c13",
   "metadata": {},
   "outputs": [],
   "source": []
  },
  {
   "cell_type": "markdown",
   "id": "b3bc379d",
   "metadata": {},
   "source": [
    "Prvo smo pripremili vrijednosti za histogram graf i onda ćemo prikaz ubaciti u jednu funkciju pomoću koje ćemo prikazivati dobivene vrijednosti."
   ]
  },
  {
   "cell_type": "code",
   "execution_count": null,
   "id": "31b3977d",
   "metadata": {},
   "outputs": [],
   "source": []
  },
  {
   "cell_type": "markdown",
   "id": "67c38e74",
   "metadata": {},
   "source": [
    "Prikažimo histogram za svaki grad."
   ]
  },
  {
   "cell_type": "code",
   "execution_count": null,
   "id": "041de47b",
   "metadata": {},
   "outputs": [],
   "source": []
  },
  {
   "cell_type": "code",
   "execution_count": null,
   "id": "5e242251",
   "metadata": {},
   "outputs": [],
   "source": []
  },
  {
   "cell_type": "code",
   "execution_count": null,
   "id": "995489b6",
   "metadata": {},
   "outputs": [],
   "source": []
  },
  {
   "cell_type": "code",
   "execution_count": null,
   "id": "a7d2ca3a",
   "metadata": {},
   "outputs": [],
   "source": []
  },
  {
   "cell_type": "code",
   "execution_count": null,
   "id": "40447427",
   "metadata": {},
   "outputs": [],
   "source": []
  },
  {
   "cell_type": "code",
   "execution_count": null,
   "id": "a42b0414",
   "metadata": {},
   "outputs": [],
   "source": []
  },
  {
   "cell_type": "code",
   "execution_count": null,
   "id": "0cbe8438",
   "metadata": {},
   "outputs": [],
   "source": []
  },
  {
   "cell_type": "code",
   "execution_count": null,
   "id": "b09bcc90",
   "metadata": {},
   "outputs": [],
   "source": []
  },
  {
   "cell_type": "code",
   "execution_count": null,
   "id": "ac42bbeb",
   "metadata": {},
   "outputs": [],
   "source": []
  },
  {
   "cell_type": "code",
   "execution_count": null,
   "id": "073d46e1",
   "metadata": {},
   "outputs": [],
   "source": []
  },
  {
   "cell_type": "markdown",
   "id": "a5e1e1ea",
   "metadata": {},
   "source": [
    "Vidimo da u Istri, bez obzira na udaljenost od mora vjetrovi pušu gotovo uvijek iz istog smjera.\n",
    "\n",
    "I na kraju možemo zaključiti da na neke meteorološke parametre udaljenost od mora ima utjecaja, a na druge nema."
   ]
  },
  {
   "cell_type": "code",
   "execution_count": null,
   "id": "8f6f85e8",
   "metadata": {},
   "outputs": [],
   "source": []
  }
 ],
 "metadata": {
  "kernelspec": {
   "display_name": "Python 3 (ipykernel)",
   "language": "python",
   "name": "python3"
  },
  "language_info": {
   "codemirror_mode": {
    "name": "ipython",
    "version": 3
   },
   "file_extension": ".py",
   "mimetype": "text/x-python",
   "name": "python",
   "nbconvert_exporter": "python",
   "pygments_lexer": "ipython3",
   "version": "3.12.0"
  }
 },
 "nbformat": 4,
 "nbformat_minor": 5
}
