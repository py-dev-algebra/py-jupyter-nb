{
 "cells": [
  {
   "attachments": {},
   "cell_type": "markdown",
   "id": "498ca0e5",
   "metadata": {},
   "source": [
    "<a href='http://www.algebra.hr'> <img src='../algebra_logo_color_h.png' alt=\"Algebra\" width=\"500\" /></a>\n",
    "___\n",
    "# NumPy - Numerical Python\n",
    "\n",
    "NumPy – Numerical Python neizostavni je paket za numeričke proračune u Pythonu. Alat naziva Matlab koristi se za tehničke proračune, kao na primjer proračun opterećenja čelične konstrukcije mosta ili toplinskog naprezanja u bloku motora tijekom rada i sl. Kako su povezani Python i alat Matlab? Matlab je snažan alat, ali u njemu nije tako jednostavno pisati kôd. Bilo bi odlično kada bismo imali snagu Matlaba, a jednostavnost Pythona. Tako dolazimo do seta biblioteka (skupina klasa i metoda određenih funkcionalnosti) koji koriste Python i koji su alternativa Matlabu.\n",
    "\n",
    "U tom setu temelj je NumPy. Namijenjen je za numeričke proračune. Zatim je ovdje SciPy (*Scientific Python*) razvijen na temeljima NumPy biblioteke i nudi veliki izbor gotovih algoritama za razne znanstvene proračune. Tu je i Pandas, također razvijen na temeljima NumPy biblioteke, koji služi za obradu podataka u obliku tablice. Matplotlib biblioteka koristi NumPy kao temelj, a služi za vizualizaciju podataka.\n",
    "\n",
    "Pandas i matplotlib smo već upoznali. Upoznajmo se s njihovom temeljnom bibliotekom NumPy.\n",
    "\n",
    "NumPy je *open-source* biblioteka namijenjena za kompleksne matematičke proračune. Nudi jako puno matematičkih funkcija, generator je nasumičnih brojeva, podrška je za proračune vezane uz linearnu algebru, Fourierove transformacije. Mi ćemo ga koristiti za obradu višedimenzionalnih nizova i matrica.\n",
    "\n",
    "Na službenoj stranici NumPy biblioteke možete pronaći dokumentaciju, preuzeti i instalirati NumPy, pronaći neke tečajeve, pridružiti se zajednici korisnika. Poveznica na stranicu je: https://numpy.org/."
   ]
  },
  {
   "attachments": {},
   "cell_type": "markdown",
   "id": "4ec92473",
   "metadata": {},
   "source": [
    "## NumPy primjena\n",
    "\n",
    "Već smo spomenuli da se NumPy najčešće koristi za znanstvene matematičke proračune, ali tu nije kraj primjeni NumPy paketa. Intenzivno se koristi i za statističke proračune, matematičke operacije nad matricama, kopiranje i pregled nizova, linearnu algebru, pretraživanje, sortiranje i prebrojavanje elemenata nizova i matrica."
   ]
  },
  {
   "attachments": {},
   "cell_type": "markdown",
   "id": "5aed926d",
   "metadata": {},
   "source": [
    "# ndarray objekt - temelj NumPy biblioteke\n",
    "\n",
    "Temelj NumPy biblioteke je *ndarray* objekt. Naziv dolazi od *n-dimensional array*, odnosno višedimenzionalni niz. Prije nego pojasnimo što su višedimenzionalni nizovi, dobro bi bilo objasniti što je to niz, odnosno *array*. *Array* je tip podatka koji je najsličniji Python listi. Nije isti jer postoje razlike, ne samo u načinu kako je niz programiran za rad s podacima (što je tema za kolegije na fakultetima), nego i nekoliko je nama \"vidljivih\" razlika. *Array* (mi ćemo dalje u tekstu ponekad koristiti i naziv *Array*):\n",
    "- je kolekcija elemenata istog tipa podataka\n",
    "- podržava izravne matematičke operacije nad elementima (*array* * 2 - množi svaki element niza s brojem dva)\n",
    "- nije zamišljen za mijenjanje elemenata. podržava ih, ali je daleko manje učinkovit od liste.\n",
    "\n",
    "Najbolje je napraviti nekoliko primjera pa će zasigurno biti jasnije.\n",
    "\n",
    "Kao i uvijek do sada, prvo moramo napraviti *import* NumPy biblioteke kako bismo kasnije mogli koristiti dostupne mogućnosti.\n",
    "\n",
    "Preporuka je koristiti način uključivanja biblioteke koji je gotovo postao standard. Uporaba drugačijeg načina neće utjecati na funkcionalnost programa, ali neće biti u skladu s najboljim praksama."
   ]
  },
  {
   "cell_type": "code",
   "execution_count": 1,
   "id": "adf05052",
   "metadata": {},
   "outputs": [],
   "source": [
    "import numpy as np"
   ]
  },
  {
   "cell_type": "code",
   "execution_count": 2,
   "id": "d37bc198",
   "metadata": {},
   "outputs": [
    {
     "name": "stdout",
     "output_type": "stream",
     "text": [
      "Mnozenje python liste [1, 2, 3, 4, 5, 1, 2, 3, 4, 5]\n",
      "Mnozenje NumPy matrice [ 2  4  6  8 10]\n"
     ]
    }
   ],
   "source": [
    "python_lista = [1, 2, 3, 4, 5]\n",
    "np_array = np.array([1, 2, 3, 4, 5])\n",
    "\n",
    "print(f'Mnozenje python liste {python_lista * 2}')\n",
    "print(f'Mnozenje NumPy matrice {np_array * 2}')"
   ]
  },
  {
   "cell_type": "markdown",
   "id": "bc64ac1b",
   "metadata": {},
   "source": [
    "Ali pomoću NumPy biblioteke Python listu, možemo pretvoriti u ndarray i pomnožiti svaki element s, recimo tri, jako jednostavno."
   ]
  },
  {
   "cell_type": "code",
   "execution_count": 3,
   "id": "988e5090",
   "metadata": {},
   "outputs": [
    {
     "data": {
      "text/plain": [
       "array([ 3,  6,  9, 12, 15])"
      ]
     },
     "execution_count": 3,
     "metadata": {},
     "output_type": "execute_result"
    }
   ],
   "source": [
    "np.multiply(python_lista, 3)"
   ]
  },
  {
   "attachments": {},
   "cell_type": "markdown",
   "id": "8d635d1f",
   "metadata": {},
   "source": [
    "**PITANJE<br>\n",
    "U kojoj situaciji metoda *multiply* neće raditi, odnosno javit će grešku?<br>\n",
    "Pokažite na primjeru.**"
   ]
  },
  {
   "cell_type": "code",
   "execution_count": 4,
   "id": "19c09f7e",
   "metadata": {},
   "outputs": [
    {
     "ename": "UFuncTypeError",
     "evalue": "ufunc 'multiply' did not contain a loop with signature matching types (dtype('<U32'), dtype('int32')) -> None",
     "output_type": "error",
     "traceback": [
      "\u001b[1;31m---------------------------------------------------------------------------\u001b[0m",
      "\u001b[1;31mUFuncTypeError\u001b[0m                            Traceback (most recent call last)",
      "Cell \u001b[1;32mIn[4], line 2\u001b[0m\n\u001b[0;32m      1\u001b[0m python_lista \u001b[38;5;241m=\u001b[39m [\u001b[38;5;241m1\u001b[39m, \u001b[38;5;241m2\u001b[39m, \u001b[38;5;241m3\u001b[39m, \u001b[38;5;124m'\u001b[39m\u001b[38;5;124mAlgebra\u001b[39m\u001b[38;5;124m'\u001b[39m, \u001b[38;5;124m'\u001b[39m\u001b[38;5;124mPython\u001b[39m\u001b[38;5;124m'\u001b[39m, \u001b[38;5;241m4\u001b[39m, \u001b[38;5;241m5\u001b[39m, \u001b[38;5;241m3.1415\u001b[39m, \u001b[38;5;28;01mFalse\u001b[39;00m]\n\u001b[1;32m----> 2\u001b[0m \u001b[43mnp\u001b[49m\u001b[38;5;241;43m.\u001b[39;49m\u001b[43mmultiply\u001b[49m\u001b[43m(\u001b[49m\u001b[43mpython_lista\u001b[49m\u001b[43m,\u001b[49m\u001b[43m \u001b[49m\u001b[38;5;241;43m3\u001b[39;49m\u001b[43m)\u001b[49m\n",
      "\u001b[1;31mUFuncTypeError\u001b[0m: ufunc 'multiply' did not contain a loop with signature matching types (dtype('<U32'), dtype('int32')) -> None"
     ]
    }
   ],
   "source": [
    "python_lista = [1, 2, 3, 'Algebra', 'Python', 4, 5, 3.1415, False]\n",
    "np.multiply(python_lista, 3)"
   ]
  },
  {
   "attachments": {},
   "cell_type": "markdown",
   "id": "d7a3a0f2",
   "metadata": {},
   "source": [
    "Nastavimo dalje s istraživanjem osnovnih mogućnosti *ndarray* tipa podataka.\n",
    "\n",
    "### *ndarray size* - broj elemenata u *Array* objektu\n",
    "\n",
    "Svojstvo *size* vraća ukupan broj elemenata u objektu. Pokažimo to na primjeru."
   ]
  },
  {
   "cell_type": "code",
   "execution_count": 7,
   "id": "643e9506",
   "metadata": {},
   "outputs": [
    {
     "name": "stdout",
     "output_type": "stream",
     "text": [
      "[[1, 2, 3], [4, 5, 6], [7, 8, 9]]\n",
      "[[1 2 3]\n",
      " [4 5 6]\n",
      " [7 8 9]]\n"
     ]
    }
   ],
   "source": [
    "podaci = [[1, 2, 3], [4, 5, 6], [7, 8, 9]]\n",
    "print(podaci)\n",
    "np_podaci = np.array(podaci)\n",
    "print(np_podaci)"
   ]
  },
  {
   "attachments": {},
   "cell_type": "markdown",
   "id": "e541031d",
   "metadata": {},
   "source": [
    "Uočite kako je ispis podataka drugačiji.\n",
    "\n",
    "Provjerimo koliko elemenata ima novokreirani *Array* objekt:"
   ]
  },
  {
   "cell_type": "code",
   "execution_count": 8,
   "id": "fae065dd",
   "metadata": {},
   "outputs": [
    {
     "data": {
      "text/plain": [
       "9"
      ]
     },
     "execution_count": 8,
     "metadata": {},
     "output_type": "execute_result"
    }
   ],
   "source": [
    "np_podaci.size"
   ]
  },
  {
   "attachments": {},
   "cell_type": "markdown",
   "id": "b4a08ceb",
   "metadata": {},
   "source": [
    "Vidjeli smo kako je ispis za *Array* drugačiji od obične Python liste. Svaku listu je prikazao u novom redu. Na ovaj način smo dobili 3x3 matricu.\n",
    "\n",
    "Ako zamislimo da je NumPy *Array* u koordinatnom sustavu, svaki od redova bit će na X osima, svaka kolona će biti na Y osi. Ovaj podatak zovemo dimenzije, odnosno osi ili engleski *axis*. Jako često ćemo trebati informaciju koliko dimenzija ima naš *Array* objekt. Za to koristimo svojstvo ***ndim***. Provjerimo koliko naš *Array* objekt ima osi:"
   ]
  },
  {
   "cell_type": "code",
   "execution_count": 10,
   "id": "67828df5",
   "metadata": {},
   "outputs": [
    {
     "data": {
      "text/plain": [
       "2"
      ]
     },
     "execution_count": 10,
     "metadata": {},
     "output_type": "execute_result"
    }
   ],
   "source": [
    "np_podaci.ndim"
   ]
  },
  {
   "attachments": {},
   "cell_type": "markdown",
   "id": "a5d2387e",
   "metadata": {},
   "source": [
    "Očekivano, dvije osi. Kako izgleda *Array* s tri osi?"
   ]
  },
  {
   "cell_type": "code",
   "execution_count": 29,
   "id": "ab789d9d",
   "metadata": {},
   "outputs": [
    {
     "data": {
      "text/plain": [
       "array([[[ 1,  2,  3,  4],\n",
       "        [ 5,  6,  7,  8],\n",
       "        [ 9, 10, 11, 12]],\n",
       "\n",
       "       [[13, 14, 15, 16],\n",
       "        [17, 18, 19, 20],\n",
       "        [21, 22, 23, 24]],\n",
       "\n",
       "       [[25, 26, 27, 28],\n",
       "        [29, 30, 31, 32],\n",
       "        [33, 34, 35, 36]]])"
      ]
     },
     "execution_count": 29,
     "metadata": {},
     "output_type": "execute_result"
    }
   ],
   "source": [
    "lista = [[[1, 2, 3, 4], [5, 6, 7, 8], [9, 10, 11, 12]],\n",
    "        [[13, 14, 15, 16], [17, 18, 19, 20], [21, 22, 23, 24]],\n",
    "        [[25, 26, 27, 28], [29, 30, 31, 32], [33, 34, 35, 36]]]\n",
    "\n",
    "tri_d = np.array(lista)\n",
    "tri_d"
   ]
  },
  {
   "cell_type": "code",
   "execution_count": 16,
   "id": "1141fed7",
   "metadata": {},
   "outputs": [
    {
     "data": {
      "text/plain": [
       "3"
      ]
     },
     "execution_count": 16,
     "metadata": {},
     "output_type": "execute_result"
    }
   ],
   "source": [
    "tri_d.ndim"
   ]
  },
  {
   "attachments": {},
   "cell_type": "markdown",
   "id": "c91125f7",
   "metadata": {},
   "source": [
    "Dakle, treću dimenziju ćemo dobiti ukoliko *Array* kreiramo od liste, koja kao elemente ima listu, koja opet kao elemente ima listu.\n",
    "\n",
    "A kakvog je oblika naš *Array*? Ako koristimo svojstvo *Shape*, dobit ćemo *tuple* s brojem redova i stupaca koje imamo, ali po svakoj dimenziji. Najbolje je to pokazati na primjeru kako bi vam bilo jasnije."
   ]
  },
  {
   "cell_type": "code",
   "execution_count": 17,
   "id": "5280197a",
   "metadata": {},
   "outputs": [
    {
     "data": {
      "text/plain": [
       "(3, 3)"
      ]
     },
     "execution_count": 17,
     "metadata": {},
     "output_type": "execute_result"
    }
   ],
   "source": [
    "np_podaci.shape"
   ]
  },
  {
   "attachments": {},
   "cell_type": "markdown",
   "id": "c8902eba",
   "metadata": {},
   "source": [
    "Vidimo da se naš *Array np_podaci* sastoji od dvije dimenzije (imamo samo dva podatka u *tupleu*) u kojima imamo tri reda i tri stupca. Provjerimo kakvog je oblika *Array tri_d*:"
   ]
  },
  {
   "cell_type": "code",
   "execution_count": 18,
   "id": "082e7505",
   "metadata": {},
   "outputs": [
    {
     "data": {
      "text/plain": [
       "(3, 3, 4)"
      ]
     },
     "execution_count": 18,
     "metadata": {},
     "output_type": "execute_result"
    }
   ],
   "source": [
    "tri_d.shape"
   ]
  },
  {
   "attachments": {},
   "cell_type": "markdown",
   "id": "6df10f27",
   "metadata": {},
   "source": [
    "Sada smo dobili tri podatka pa je zaključak kako imamo **tri** dimenzije i u svakoj od dimenzija imamo **tri reda** i **četiri stupca**.\n",
    "\n",
    "Već smo rekli kako u *Array* možemo pohraniti podatke **istog tipa**, ali to ne znači da ti podaci moraju biti isključivo cijeli brojevi. Osim toga, *Array* je namijenjen za rad s velikom količinom podatka pa je podataka o tipu i količini memorije koju taj tip zauzima jako koristan. Provjerimo koji je tip (*dtype*) u našim *Array* objektima te koliko memorije oni zauzimaju pojedinačno (*itemsize*), odnosno ukupno (*nbytes*)."
   ]
  },
  {
   "cell_type": "code",
   "execution_count": 19,
   "id": "3ab865ff",
   "metadata": {},
   "outputs": [
    {
     "name": "stdout",
     "output_type": "stream",
     "text": [
      "36\n",
      "4\n",
      "int32\n",
      "144\n",
      "4\n",
      "int32\n"
     ]
    }
   ],
   "source": [
    "print(np_podaci.nbytes)\n",
    "print(np_podaci.itemsize)\n",
    "print(np_podaci.dtype)\n",
    "\n",
    "print(tri_d.nbytes)\n",
    "print(tri_d.itemsize)\n",
    "print(tri_d.dtype)"
   ]
  },
  {
   "attachments": {},
   "cell_type": "markdown",
   "id": "cbf7d61c",
   "metadata": {},
   "source": [
    "Vidimo da oba *Array* objekta imaju isti tip (*int64*). To možemo definirati tijekom kreiranja *Array* objekta tako da metodi *array* proslijedimo argument *dtype* s nazivom tipa podataka. Probajmo umjesto cijelih brojeva koristiti decimalne."
   ]
  },
  {
   "cell_type": "code",
   "execution_count": 30,
   "id": "bdb65eb8",
   "metadata": {},
   "outputs": [
    {
     "data": {
      "text/plain": [
       "array([[[ 1.,  2.,  3.,  4.],\n",
       "        [ 5.,  6.,  7.,  8.],\n",
       "        [ 9., 10., 11., 12.]],\n",
       "\n",
       "       [[13., 14., 15., 16.],\n",
       "        [17., 18., 19., 20.],\n",
       "        [21., 22., 23., 24.]],\n",
       "\n",
       "       [[25., 26., 27., 28.],\n",
       "        [29., 30., 31., 32.],\n",
       "        [33., 34., 35., 36.]]])"
      ]
     },
     "execution_count": 30,
     "metadata": {},
     "output_type": "execute_result"
    }
   ],
   "source": [
    "tri_d = np.array(tri_d, dtype=np.float64)\n",
    "tri_d"
   ]
  },
  {
   "attachments": {},
   "cell_type": "markdown",
   "id": "14a4414c",
   "metadata": {},
   "source": [
    "Provjerimo sada tip i količinu memorije za *Array tri_d*."
   ]
  },
  {
   "cell_type": "code",
   "execution_count": 21,
   "id": "8e2ccaac",
   "metadata": {},
   "outputs": [
    {
     "name": "stdout",
     "output_type": "stream",
     "text": [
      "288\n",
      "8\n",
      "float64\n"
     ]
    }
   ],
   "source": [
    "print(tri_d.nbytes)\n",
    "print(tri_d.itemsize)\n",
    "print(tri_d.dtype)"
   ]
  },
  {
   "attachments": {},
   "cell_type": "markdown",
   "id": "90f80dbf",
   "metadata": {},
   "source": [
    "Tip je sada drugačiji, a količina memorije je ostala ista jer *int64* i *float64* zauzimaju isto memorije (*8 byte*).\n",
    "\n",
    "### Reshape\n",
    "\n",
    "*Reshape* je metoda pomoću koje možemo promijeniti oblik, odnosno *shape* našeg *Array* objekta. Pokažimo to na primjeru. *Reshape* metoda prima *tuple* kao argument, ali umnožak njegovih elemenata mora biti isti kao i umnožak inicijalnih vrijednosti *Array* objekta. To znači da smo mi imali *tuple* (3, 3, 4) kao rezultat, a umnožak tih brojeva je 36. To znači da umnožak elemenata novog oblika mora biti 36. Recimo, (9, 4)."
   ]
  },
  {
   "cell_type": "code",
   "execution_count": 31,
   "id": "69982d83",
   "metadata": {},
   "outputs": [
    {
     "name": "stdout",
     "output_type": "stream",
     "text": [
      "Shape tri_d prije: \t(3, 3, 4)\n",
      "tri_d prije: \n",
      "[[[ 1.  2.  3.  4.]\n",
      "  [ 5.  6.  7.  8.]\n",
      "  [ 9. 10. 11. 12.]]\n",
      "\n",
      " [[13. 14. 15. 16.]\n",
      "  [17. 18. 19. 20.]\n",
      "  [21. 22. 23. 24.]]\n",
      "\n",
      " [[25. 26. 27. 28.]\n",
      "  [29. 30. 31. 32.]\n",
      "  [33. 34. 35. 36.]]]\n",
      "Shape tri_d poslije: \t(9, 4)\n",
      "tri_d poslije: \n",
      "[[ 1.  2.  3.  4.]\n",
      " [ 5.  6.  7.  8.]\n",
      " [ 9. 10. 11. 12.]\n",
      " [13. 14. 15. 16.]\n",
      " [17. 18. 19. 20.]\n",
      " [21. 22. 23. 24.]\n",
      " [25. 26. 27. 28.]\n",
      " [29. 30. 31. 32.]\n",
      " [33. 34. 35. 36.]]\n"
     ]
    }
   ],
   "source": [
    "print(f'Shape tri_d prije: \\t{tri_d.shape}')\n",
    "print(f'tri_d prije: \\n{tri_d}')\n",
    "\n",
    "tri_d = tri_d.reshape(9, 4)\n",
    "\n",
    "print(f'Shape tri_d poslije: \\t{tri_d.shape}')\n",
    "print(f'tri_d poslije: \\n{tri_d}')"
   ]
  },
  {
   "attachments": {},
   "cell_type": "markdown",
   "id": "c7836f90",
   "metadata": {},
   "source": [
    "Izgubili smo jednu dimenziju. Svedimo *tri_d Array* na samo jednu dimenziju."
   ]
  },
  {
   "cell_type": "code",
   "execution_count": 34,
   "id": "94396ef2",
   "metadata": {},
   "outputs": [
    {
     "data": {
      "text/plain": [
       "array([ 1.,  2.,  3.,  4.,  5.,  6.,  7.,  8.,  9., 10., 11., 12., 13.,\n",
       "       14., 15., 16., 17., 18., 19., 20., 21., 22., 23., 24., 25., 26.,\n",
       "       27., 28., 29., 30., 31., 32., 33., 34., 35., 36.])"
      ]
     },
     "execution_count": 34,
     "metadata": {},
     "output_type": "execute_result"
    }
   ],
   "source": [
    "tri_d = tri_d.reshape(36)\n",
    "tri_d"
   ]
  },
  {
   "attachments": {},
   "cell_type": "markdown",
   "id": "43696e72",
   "metadata": {},
   "source": [
    "Dakle, lista je jednodimenzionalni niz.\n",
    "\n",
    "### Generator nasumičnih brojeva\n",
    "\n",
    "Do sada smo vidjeli kako NumPy *ndarray* možemo kreirati iz neke Python liste ili izravno pomoću *ndarray()* metode. Međutim, NumPy nudi nekoliko načina za kreiranje *Array* objekata od nasumično kreiranih objekata koje možemo koristiti u našim matematičkim analizama.\n",
    "\n",
    "Krenimo s generatorom *Arraya* objekta u kojem su sve nule, tako što ćemo koristiti metodu *zeros()*, kojoj ćemo kao argument predati *tuple* s definiranim oblikom (*shape*) željenog *Array* objekta."
   ]
  },
  {
   "cell_type": "code",
   "execution_count": 41,
   "id": "a1a08162",
   "metadata": {},
   "outputs": [
    {
     "data": {
      "text/plain": [
       "array([[[0., 0., 0., 0.],\n",
       "        [0., 0., 0., 0.],\n",
       "        [0., 0., 0., 0.],\n",
       "        [0., 0., 0., 0.]],\n",
       "\n",
       "       [[0., 0., 0., 0.],\n",
       "        [0., 0., 0., 0.],\n",
       "        [0., 0., 0., 0.],\n",
       "        [0., 0., 0., 0.]],\n",
       "\n",
       "       [[0., 0., 0., 0.],\n",
       "        [0., 0., 0., 0.],\n",
       "        [0., 0., 0., 0.],\n",
       "        [0., 0., 0., 0.]]])"
      ]
     },
     "execution_count": 41,
     "metadata": {},
     "output_type": "execute_result"
    }
   ],
   "source": [
    "nule = np.zeros((3, 4, 4))\n",
    "nule"
   ]
  },
  {
   "attachments": {},
   "cell_type": "markdown",
   "id": "366176fb",
   "metadata": {},
   "source": [
    "Ako imamo metodu *zeros()*, moguće je da postoji identična metoda za jedinice naziva *ones()*. Provjerimo, ali pokušajmo promijeniti tip podatka u cijele brojeve (*dtype*)."
   ]
  },
  {
   "cell_type": "code",
   "execution_count": 42,
   "id": "a3eb8fe6",
   "metadata": {},
   "outputs": [
    {
     "data": {
      "text/plain": [
       "array([[[1., 1., 1., 1.],\n",
       "        [1., 1., 1., 1.],\n",
       "        [1., 1., 1., 1.],\n",
       "        [1., 1., 1., 1.]],\n",
       "\n",
       "       [[1., 1., 1., 1.],\n",
       "        [1., 1., 1., 1.],\n",
       "        [1., 1., 1., 1.],\n",
       "        [1., 1., 1., 1.]],\n",
       "\n",
       "       [[1., 1., 1., 1.],\n",
       "        [1., 1., 1., 1.],\n",
       "        [1., 1., 1., 1.],\n",
       "        [1., 1., 1., 1.]]])"
      ]
     },
     "execution_count": 42,
     "metadata": {},
     "output_type": "execute_result"
    }
   ],
   "source": [
    "jedinice = np.ones((3, 4, 4))\n",
    "jedinice"
   ]
  },
  {
   "attachments": {},
   "cell_type": "markdown",
   "id": "95990dd7",
   "metadata": {},
   "source": [
    "Odlično. Ipak, bilo bi daleko korisnije kada bismo mogli imati *Array* s predefiniranom vrijednošću, kao recimo 3.14. Već smo vidjeli da *Array* objekt možemo množiti pa pokušajmo to iskoristiti."
   ]
  },
  {
   "cell_type": "code",
   "execution_count": 43,
   "id": "9bc2e077",
   "metadata": {},
   "outputs": [
    {
     "data": {
      "text/plain": [
       "array([[[3.1415, 3.1415, 3.1415, 3.1415],\n",
       "        [3.1415, 3.1415, 3.1415, 3.1415],\n",
       "        [3.1415, 3.1415, 3.1415, 3.1415],\n",
       "        [3.1415, 3.1415, 3.1415, 3.1415]],\n",
       "\n",
       "       [[3.1415, 3.1415, 3.1415, 3.1415],\n",
       "        [3.1415, 3.1415, 3.1415, 3.1415],\n",
       "        [3.1415, 3.1415, 3.1415, 3.1415],\n",
       "        [3.1415, 3.1415, 3.1415, 3.1415]],\n",
       "\n",
       "       [[3.1415, 3.1415, 3.1415, 3.1415],\n",
       "        [3.1415, 3.1415, 3.1415, 3.1415],\n",
       "        [3.1415, 3.1415, 3.1415, 3.1415],\n",
       "        [3.1415, 3.1415, 3.1415, 3.1415]]])"
      ]
     },
     "execution_count": 43,
     "metadata": {},
     "output_type": "execute_result"
    }
   ],
   "source": [
    "nd_pi = 3.1415 * jedinice\n",
    "nd_pi"
   ]
  },
  {
   "attachments": {},
   "cell_type": "markdown",
   "id": "b7d7c1c0",
   "metadata": {},
   "source": [
    "Dakle, morali smo prvo kreirati *Array* željenog oblika s jedinicama i onda ga pomnožiti sa željenom vrijednošću. Postoji  brži i učinkovitiji način. Metoda *full()* koja prima dva argumenta, jedan tuple s oblikom *Arraay* objekta, a drugi s brojem koji želimo imati u našem *Array* objektu."
   ]
  },
  {
   "cell_type": "code",
   "execution_count": 45,
   "id": "6b751c68",
   "metadata": {},
   "outputs": [
    {
     "data": {
      "text/plain": [
       "array([[[7, 7, 7, 7],\n",
       "        [7, 7, 7, 7],\n",
       "        [7, 7, 7, 7],\n",
       "        [7, 7, 7, 7]],\n",
       "\n",
       "       [[7, 7, 7, 7],\n",
       "        [7, 7, 7, 7],\n",
       "        [7, 7, 7, 7],\n",
       "        [7, 7, 7, 7]],\n",
       "\n",
       "       [[7, 7, 7, 7],\n",
       "        [7, 7, 7, 7],\n",
       "        [7, 7, 7, 7],\n",
       "        [7, 7, 7, 7]]])"
      ]
     },
     "execution_count": 45,
     "metadata": {},
     "output_type": "execute_result"
    }
   ],
   "source": [
    "np_pi = np.full((3, 4, 4), 7)\n",
    "np_pi"
   ]
  },
  {
   "attachments": {},
   "cell_type": "markdown",
   "id": "3e928dac",
   "metadata": {},
   "source": [
    "Ponekad želimo imati *Array* u kojem su elementi poredani u sekvencu. Sjećate li se metode *range(start, stop, korak)*? NumPy radi s nizovima (*Arrays*) pa bi onda umjesto *array_range* trebala biti metoda naziva *arange*. Ostalo bi trebalo biti isto. Provjerimo."
   ]
  },
  {
   "cell_type": "code",
   "execution_count": 48,
   "id": "c3de88b6",
   "metadata": {},
   "outputs": [
    {
     "data": {
      "text/plain": [
       "array([ 5,  8, 11, 14])"
      ]
     },
     "execution_count": 48,
     "metadata": {},
     "output_type": "execute_result"
    }
   ],
   "source": [
    "np_arange = np.arange(5, 15)\n",
    "np_arange = np.arange(5, 15, 3)\n",
    "np_arange"
   ]
  },
  {
   "attachments": {},
   "cell_type": "markdown",
   "id": "f8678d27",
   "metadata": {},
   "source": [
    "Pomoću *arange()* metode generiramo jednodimenzionalni niz koji ima definiranu početnu vrijednost, krajnju (koja nije uključena) i korak između njih. NumPy nam omogućava kreiranje *Array* objekta koji ima početnu i krajnju vrijednost te broj elemenata između njih. Ova metoda zove se *linspace()*. Isprobajmo ju."
   ]
  },
  {
   "cell_type": "code",
   "execution_count": 51,
   "id": "d3301644",
   "metadata": {},
   "outputs": [
    {
     "data": {
      "text/plain": [
       "array([ 5., 10., 15.])"
      ]
     },
     "execution_count": 51,
     "metadata": {},
     "output_type": "execute_result"
    }
   ],
   "source": [
    "np_linspace = np.linspace(5, 15, 3)\n",
    "np_linspace"
   ]
  },
  {
   "cell_type": "code",
   "execution_count": 52,
   "id": "6a31db03",
   "metadata": {},
   "outputs": [
    {
     "data": {
      "text/plain": [
       "array([ 5. ,  7.5, 10. , 12.5, 15. ])"
      ]
     },
     "execution_count": 52,
     "metadata": {},
     "output_type": "execute_result"
    }
   ],
   "source": [
    "np_linspace = np.linspace(5, 15, 5)\n",
    "np_linspace"
   ]
  },
  {
   "attachments": {},
   "cell_type": "markdown",
   "id": "a89131b3",
   "metadata": {},
   "source": [
    "*arange* i *linspace* metode generiraju jednodimenzionalno polje.\n",
    "\n",
    "**ZADATAK<br>\n",
    "Generirajte nekoliko novih *Array* objekata pomoću *arange* i *linspace* metoda (neka ih bude minimalno 4) te im promijenite oblik po izboru.**"
   ]
  },
  {
   "cell_type": "code",
   "execution_count": null,
   "id": "755b0e5d-c78a-4baa-9027-eadc992771db",
   "metadata": {},
   "outputs": [],
   "source": []
  },
  {
   "cell_type": "code",
   "execution_count": null,
   "id": "7ce9e59e-0467-4565-b73d-770243e74c8d",
   "metadata": {},
   "outputs": [],
   "source": []
  },
  {
   "cell_type": "code",
   "execution_count": null,
   "id": "3eb4dced-e8cd-4bed-9b8b-dedc24047e40",
   "metadata": {},
   "outputs": [],
   "source": []
  },
  {
   "cell_type": "code",
   "execution_count": null,
   "id": "f39aca4c-6d45-4dff-849c-af9de5512f23",
   "metadata": {},
   "outputs": [],
   "source": []
  },
  {
   "cell_type": "markdown",
   "id": "2e299f4c-1f1f-40c1-a566-3c65913066a8",
   "metadata": {},
   "source": [
    "NumPy ima i generator nasumičnih brojeva unutar normalne distribucije (nula je sredina svih generiranih brojeva na ovaj način - brojevi se generiraju u pozitivnom i negativnom smjeru). Iskoristimo ga."
   ]
  },
  {
   "cell_type": "code",
   "execution_count": 53,
   "id": "983228fb",
   "metadata": {},
   "outputs": [
    {
     "data": {
      "text/plain": [
       "array([[-0.50036545, -1.52337041,  0.36243233,  0.227734  , -1.10740138],\n",
       "       [ 1.2287804 , -0.25083234, -0.57985369,  0.37205876, -0.75693202],\n",
       "       [-1.94883679, -0.26495563,  1.46348674, -0.91380638, -1.0040406 ],\n",
       "       [-1.29703793,  0.75003999,  0.45407813, -1.36304839,  2.24179479]])"
      ]
     },
     "execution_count": 53,
     "metadata": {},
     "output_type": "execute_result"
    }
   ],
   "source": [
    "niz_brojeva = np.random.randn(4, 5)\n",
    "niz_brojeva"
   ]
  },
  {
   "attachments": {},
   "cell_type": "markdown",
   "id": "549269f7",
   "metadata": {},
   "source": [
    "Korisno. Ako nam je ovaj niz ipak nedovoljan, možemo ga jednostavno ponoviti onoliko puta koliko nam je potrebno. Za ponavljanje ćemo ipak koristiti čitljiviji niz kako bismo jednostavnije uočili obrasce ponavljanja.\n",
    "\n",
    "Svakako napravite ponavljanje i s nasumično generiranim brojevima."
   ]
  },
  {
   "cell_type": "code",
   "execution_count": 62,
   "id": "8309fd77",
   "metadata": {},
   "outputs": [
    {
     "data": {
      "text/plain": [
       "array([[ 1,  2,  3,  4],\n",
       "       [ 5,  6,  7,  8],\n",
       "       [ 9, 10, 11, 12],\n",
       "       [13, 14, 15, 16]])"
      ]
     },
     "execution_count": 62,
     "metadata": {},
     "output_type": "execute_result"
    }
   ],
   "source": [
    "niz_brojeva = np.arange(1, 17).reshape(4, 4)\n",
    "# niz_brojeva = niz_brojeva.repeat(4, axis=0) # Os 0 vertikalni smjer\n",
    "niz_brojeva"
   ]
  },
  {
   "cell_type": "code",
   "execution_count": 63,
   "id": "d706433d",
   "metadata": {},
   "outputs": [
    {
     "data": {
      "text/plain": [
       "array([[ 1,  1,  1,  1,  2,  2,  2,  2,  3,  3,  3,  3,  4,  4,  4,  4],\n",
       "       [ 5,  5,  5,  5,  6,  6,  6,  6,  7,  7,  7,  7,  8,  8,  8,  8],\n",
       "       [ 9,  9,  9,  9, 10, 10, 10, 10, 11, 11, 11, 11, 12, 12, 12, 12],\n",
       "       [13, 13, 13, 13, 14, 14, 14, 14, 15, 15, 15, 15, 16, 16, 16, 16]])"
      ]
     },
     "execution_count": 63,
     "metadata": {},
     "output_type": "execute_result"
    }
   ],
   "source": [
    "niz_brojeva = niz_brojeva.repeat(4, axis=1) # Os 1 horizontalni smjer\n",
    "niz_brojeva"
   ]
  },
  {
   "attachments": {},
   "cell_type": "markdown",
   "id": "9c637134",
   "metadata": {},
   "source": [
    "### *Slice* notacija\n",
    "\n",
    "**ZADATAK<br>\n",
    "Ako smo do sada mogli koristiti neke metode i funkcije vezane uz Python liste, provjerite možete li koristiti slice notaciju nad NumPy *Array* objektom. Podsjetnik: lista\\[prvi_element : zadnji_element : korak\\]. Sjetite se što znači negativni predznak za korak ili ako izostavite jedan od elemenata kao npr \\[ : : \\].**\n",
    "\n",
    "Vjerujem da ste uspjeli jer se radi o jednodimenzionalnim nizovima. Međutim, kada radimo s višedimenzionalnim nizovima i ako koristimo *slice* notaciju, onda trebamo navesti i os na koju želimo primijeniti notaciju. Probajmo to napraviti s našim *tri_d Array* objektom."
   ]
  },
  {
   "cell_type": "code",
   "execution_count": 65,
   "id": "851bfa18",
   "metadata": {},
   "outputs": [
    {
     "data": {
      "text/plain": [
       "array([[ 1,  2,  3,  4,  5,  6],\n",
       "       [ 7,  8,  9, 10, 11, 12],\n",
       "       [13, 14, 15, 16, 17, 18],\n",
       "       [19, 20, 21, 22, 23, 24],\n",
       "       [25, 26, 27, 28, 29, 30],\n",
       "       [31, 32, 33, 34, 35, 36]])"
      ]
     },
     "execution_count": 65,
     "metadata": {},
     "output_type": "execute_result"
    }
   ],
   "source": [
    "tri_d = np.arange(1, 37).reshape(6, 6)\n",
    "tri_d"
   ]
  },
  {
   "attachments": {},
   "cell_type": "markdown",
   "id": "3c773713",
   "metadata": {},
   "source": [
    "Pokušajmo dohvatiti sve elemente od početnog, do elementa s indeksom 4 (nije uključen)."
   ]
  },
  {
   "cell_type": "code",
   "execution_count": 66,
   "id": "fcb29b71",
   "metadata": {},
   "outputs": [
    {
     "data": {
      "text/plain": [
       "array([[ 1,  2,  3,  4,  5,  6],\n",
       "       [ 7,  8,  9, 10, 11, 12],\n",
       "       [13, 14, 15, 16, 17, 18],\n",
       "       [19, 20, 21, 22, 23, 24]])"
      ]
     },
     "execution_count": 66,
     "metadata": {},
     "output_type": "execute_result"
    }
   ],
   "source": [
    "tri_d[ : 4]"
   ]
  },
  {
   "attachments": {},
   "cell_type": "markdown",
   "id": "18df3ce7",
   "metadata": {},
   "source": [
    "Kao rezultat smo dobili prva četiri reda. Dakle, redove s indeksima 0, 1, 2 i 3. Što ako želimo dohvatiti prva četiri elementa drugog reda? Ako ponovimo gornju naredbu, onda ćemo dobiti sve iz prva četiri reda, a mi želimo samo neke elemente iz drugog reda.\n",
    "\n",
    "NumPy ima rješenje i za to. U *slice* notaciji ćemo dodati još jedan argument na prvo mjesto koji će odrediti o kojem redu se radi, a nakon tog argumenta ćemo navesti koje elemente tog reda želimo."
   ]
  },
  {
   "cell_type": "code",
   "execution_count": 69,
   "id": "3af50483",
   "metadata": {},
   "outputs": [
    {
     "data": {
      "text/plain": [
       "array([ 7,  8,  9, 10])"
      ]
     },
     "execution_count": 69,
     "metadata": {},
     "output_type": "execute_result"
    }
   ],
   "source": [
    "tri_d[1, : 4]"
   ]
  },
  {
   "attachments": {},
   "cell_type": "markdown",
   "id": "793ad194",
   "metadata": {},
   "source": [
    "Pokušajmo onda iskoristiti ovu notaciju da dohvatimo zadnja 4 elementa predzadnjeg reda."
   ]
  },
  {
   "cell_type": "code",
   "execution_count": 72,
   "id": "02895c91",
   "metadata": {},
   "outputs": [
    {
     "data": {
      "text/plain": [
       "array([27, 28, 29, 30])"
      ]
     },
     "execution_count": 72,
     "metadata": {},
     "output_type": "execute_result"
    }
   ],
   "source": [
    "tri_d[-2, -4 : ]"
   ]
  },
  {
   "attachments": {},
   "cell_type": "markdown",
   "id": "3aa2bf42",
   "metadata": {},
   "source": [
    "Vidjeli smo da je rad s redovima predefiniran. To znači kako nismo morali definirati o kojem se redu radi, nego je NumPy sam pretpostavio da želimo dohvatiti podatke iz redova. Međutim, što ako želimo dohvatiti podatke iz stupaca? Recimo, koji su podaci u drugom stupcu *tri_d* niza?\n",
    "\n",
    "Odgovor na ovo pitanje je jako sličan odgovoru za redove, samo što argument koji navodimo za broj stupca, navodimo poslije *slice* notacije. Pokažimo na primjeru pa će biti jasnije:"
   ]
  },
  {
   "cell_type": "code",
   "execution_count": 73,
   "id": "925e5ebf",
   "metadata": {},
   "outputs": [
    {
     "data": {
      "text/plain": [
       "array([ 2,  8, 14, 20, 26, 32])"
      ]
     },
     "execution_count": 73,
     "metadata": {},
     "output_type": "execute_result"
    }
   ],
   "source": [
    "tri_d[ : , 1]"
   ]
  },
  {
   "attachments": {},
   "cell_type": "markdown",
   "id": "a2018ed4",
   "metadata": {},
   "source": [
    "Koja je vrijednost u zadnja četiri elementa četvrtog stupca?"
   ]
  },
  {
   "cell_type": "code",
   "execution_count": 74,
   "id": "3b52d3b7",
   "metadata": {},
   "outputs": [
    {
     "data": {
      "text/plain": [
       "array([16, 22, 28, 34])"
      ]
     },
     "execution_count": 74,
     "metadata": {},
     "output_type": "execute_result"
    }
   ],
   "source": [
    "tri_d[-4: , 3]"
   ]
  },
  {
   "attachments": {},
   "cell_type": "markdown",
   "id": "3161dc65",
   "metadata": {},
   "source": [
    "Dakle, *slice* notacija vrijedi i za NumPy nizove. Jednodimenzionalni nizovi su u stvari liste, kao što smo to naučili ranije, a ako želimo raditi s dvodimenzionalnim nizovima, onda slice notacija ima dodatne argumente. Prvi argument je indeks reda, nakon kojeg filtriramo pomoću *slice* notacije željene elemente. Ako želimo raditi sa stupcima, onda prvo navodimo *slice* notacijom filter elemenata, a nakon toga argument s indeksom stupca. Argumenti se, kao i kod funkcija, odvajaju zarezom.\n",
    "\n",
    "Što ako želimo dohvatiti više redaka ili više stupaca? Ovdje ćemo morati koristiti dvostruku *slice* notaciju, odnosno kao da imamo dva argumenta. Prvi argument je zapisan u *slice* notaciji i odnosi se na redove, a drugi, također zapisan u *slice* notaciji, odnosi se na stupce. Zamislite kao da smo mišem selektirali dio tabele u Excel tabeli. Najbolje da to pokažemo na primjeru, u kojem ćemo dohvatiti prva četiri reda i zadnja četiri elementa tih prvih četiriju elementa."
   ]
  },
  {
   "cell_type": "code",
   "execution_count": 75,
   "id": "1a568790",
   "metadata": {},
   "outputs": [
    {
     "data": {
      "text/plain": [
       "array([[ 1,  2,  3,  4,  5,  6],\n",
       "       [ 7,  8,  9, 10, 11, 12],\n",
       "       [13, 14, 15, 16, 17, 18],\n",
       "       [19, 20, 21, 22, 23, 24],\n",
       "       [25, 26, 27, 28, 29, 30],\n",
       "       [31, 32, 33, 34, 35, 36]])"
      ]
     },
     "execution_count": 75,
     "metadata": {},
     "output_type": "execute_result"
    }
   ],
   "source": [
    "tri_d"
   ]
  },
  {
   "cell_type": "code",
   "execution_count": 76,
   "id": "a11a592e",
   "metadata": {},
   "outputs": [
    {
     "data": {
      "text/plain": [
       "array([[ 3,  4,  5,  6],\n",
       "       [ 9, 10, 11, 12],\n",
       "       [15, 16, 17, 18],\n",
       "       [21, 22, 23, 24]])"
      ]
     },
     "execution_count": 76,
     "metadata": {},
     "output_type": "execute_result"
    }
   ],
   "source": [
    "tri_d[ : 4, -4 : ]"
   ]
  },
  {
   "attachments": {},
   "cell_type": "markdown",
   "id": "7cb63ffb",
   "metadata": {},
   "source": [
    "**ZADATAK<br>\n",
    "Kreirajte niz od 64 elemenata (početni i krajnji elementi neka budu proizvoljni). Prilagodite oblik niza tako da niz bude dvodimenzionalan.**\n",
    "\n",
    "**Dohvatite samo PRVI RED, samo ZADNJI RED, samo PRVI STUPAC, samo ZADNJI STUPAC. Dohvatite centralne elemente niza (najmanja tabela u sredini niza).**\n",
    "\n",
    "**Pokušajte sve to napraviti s trodimenzionalnim nizom. Koje zaključke ste donijeli?**"
   ]
  },
  {
   "cell_type": "code",
   "execution_count": null,
   "id": "13cddd2f",
   "metadata": {},
   "outputs": [],
   "source": []
  },
  {
   "cell_type": "markdown",
   "id": "5aab3ef3",
   "metadata": {},
   "source": [
    "**Pomoć za *slice* notaciju**\n",
    "\n",
    "<img src='./array-slice.png' alt=\"Array slice notacija\" />"
   ]
  },
  {
   "attachments": {},
   "cell_type": "markdown",
   "id": "8328e939",
   "metadata": {},
   "source": [
    "### Kreiranje niza pomoću funkcije\n",
    "\n",
    "Prije nego krenemo dalje s jednostavnijim matematičkim operacijama, upoznajmo se s još jednom opcijom za kreiranje nizova. Niz možemo kreirati pomoću rezultata neke funkcije. Ovo nam može biti jako korisno.\n",
    "\n",
    "Na primjer: imamo dva broja koje želimo transformirati tako da drugi broj pomnožimo s brojem 15 i to dodamo prvom broju. Rezultat ove funkcije ćemo iskoristiti kao ulazni parametar za kreiranje niza. Za to će nam koristiti metoda *fromfunction* koja kao prvi argument prima funkciju (dakle, koristimo *lambda* funkcije), drugi element je oblik, odnosno *tuple* s podacima za *shape* niza i treći opcionalni argument je tip podatka. Pokažimo na primjeru."
   ]
  },
  {
   "cell_type": "code",
   "execution_count": 82,
   "id": "adcdef7c",
   "metadata": {},
   "outputs": [
    {
     "data": {
      "text/plain": [
       "array([[[ 0, -1, -2, -3],\n",
       "        [15, 14, 13, 12],\n",
       "        [30, 29, 28, 27],\n",
       "        [45, 44, 43, 42]],\n",
       "\n",
       "       [[ 1,  0, -1, -2],\n",
       "        [16, 15, 14, 13],\n",
       "        [31, 30, 29, 28],\n",
       "        [46, 45, 44, 43]],\n",
       "\n",
       "       [[ 2,  1,  0, -1],\n",
       "        [17, 16, 15, 14],\n",
       "        [32, 31, 30, 29],\n",
       "        [47, 46, 45, 44]],\n",
       "\n",
       "       [[ 3,  2,  1,  0],\n",
       "        [18, 17, 16, 15],\n",
       "        [33, 32, 31, 30],\n",
       "        [48, 47, 46, 45]],\n",
       "\n",
       "       [[ 4,  3,  2,  1],\n",
       "        [19, 18, 17, 16],\n",
       "        [34, 33, 32, 31],\n",
       "        [49, 48, 47, 46]]])"
      ]
     },
     "execution_count": 82,
     "metadata": {},
     "output_type": "execute_result"
    }
   ],
   "source": [
    "# niz = np.fromfunction(lambda x , y: 15 * y + x, (5, 8), dtype=np.int32)\n",
    "# niz = np.fromfunction((lambda x , y: 15 * y + x), (5, 8), dtype=np.int32)\n",
    "funkcija = lambda x , y, z: 15 * y + x - z\n",
    "niz = np.fromfunction(funkcija, (5, 4, 4), dtype=np.int32)\n",
    "niz"
   ]
  },
  {
   "attachments": {},
   "cell_type": "markdown",
   "id": "8ce08abe",
   "metadata": {},
   "source": [
    "**PITANJE<br>\n",
    "Objasnite, kako je moguće da funkcija vrati neki rezultat, ako u funkciju nismo proslijedili nikakve argumente?**\n",
    "\n",
    "U funkciju smo indirektno proslijedili argumente na osnovu našeg *tuple* objekta koji definira oblik niza. Dakle, metoda *fromfunction* radi tako da poziva funkciju onoliko puta koliko niz ima elemenata na osnovu definiranog oblika. U našem slučaju to je 40. Prvi poziv funkcije je s argumentima funkcija (0, 0), drugi poziv je funkcija ( 0, 1), a zadnji poziv je funkcija (4, 7).\n",
    "\n",
    "**Zadatak<br>\n",
    "Prikažite tablicu množenja do 12 pomoću NumPy niza i funkcije.**"
   ]
  },
  {
   "cell_type": "code",
   "execution_count": 96,
   "id": "ba76f595",
   "metadata": {},
   "outputs": [
    {
     "data": {
      "text/plain": [
       "array([[  1,   2,   3,   4,   5,   6,   7,   8,   9,  10,  11,  12],\n",
       "       [  2,   4,   6,   8,  10,  12,  14,  16,  18,  20,  22,  24],\n",
       "       [  3,   6,   9,  12,  15,  18,  21,  24,  27,  30,  33,  36],\n",
       "       [  4,   8,  12,  16,  20,  24,  28,  32,  36,  40,  44,  48],\n",
       "       [  5,  10,  15,  20,  25,  30,  35,  40,  45,  50,  55,  60],\n",
       "       [  6,  12,  18,  24,  30,  36,  42,  48,  54,  60,  66,  72],\n",
       "       [  7,  14,  21,  28,  35,  42,  49,  56,  63,  70,  77,  84],\n",
       "       [  8,  16,  24,  32,  40,  48,  56,  64,  72,  80,  88,  96],\n",
       "       [  9,  18,  27,  36,  45,  54,  63,  72,  81,  90,  99, 108],\n",
       "       [ 10,  20,  30,  40,  50,  60,  70,  80,  90, 100, 110, 120],\n",
       "       [ 11,  22,  33,  44,  55,  66,  77,  88,  99, 110, 121, 132],\n",
       "       [ 12,  24,  36,  48,  60,  72,  84,  96, 108, 120, 132, 144]])"
      ]
     },
     "execution_count": 96,
     "metadata": {},
     "output_type": "execute_result"
    }
   ],
   "source": [
    "tablica_monzenja = np.fromfunction(lambda x, y: x * y , (12 + 1, 12 + 1), dtype=np.int32)\n",
    "tablica_monzenja = tablica_monzenja[1 : , 1: ].copy() # Pomocu ovoga uklanjam redove i stupce u kojima su nule\n",
    "tablica_monzenja"
   ]
  },
  {
   "attachments": {},
   "cell_type": "markdown",
   "id": "8737b841",
   "metadata": {},
   "source": [
    "## Kopiranje cijelog ili dijela niza\n",
    "\n",
    "Sada smo naučili kako izdvojiti dio niza iz veće cjeline. Ako taj dio pohranimo u neku varijablu i dalje ćemo imati **referencu** na originalne podatke. Pokažimo to na primjeru tablice množenja:"
   ]
  },
  {
   "cell_type": "code",
   "execution_count": 94,
   "id": "18e7de78",
   "metadata": {},
   "outputs": [
    {
     "name": "stdout",
     "output_type": "stream",
     "text": [
      "[[   1    2    3    4    5    6    7    8    9   10   11   12]\n",
      " [   2    4    6    8   10   12   14   16   18   20   22   24]\n",
      " [   3    6    9   12   15   18   21   24   27   30   33   36]\n",
      " [   4    8   12   16   20   24   28   32   36   40   44   48]\n",
      " [   5   10   15   20 9999 9999   35   40   45   50   55   60]\n",
      " [   6   12   18   24 9999 9999   42   48   54   60   66   72]\n",
      " [   7   14   21   28   35   42   49   56   63   70   77   84]\n",
      " [   8   16   24   32   40   48   56   64   72   80   88   96]\n",
      " [   9   18   27   36   45   54   63   72   81   90   99  108]\n",
      " [  10   20   30   40   50   60   70   80   90  100  110  120]\n",
      " [  11   22   33   44   55   66   77   88   99  110  121  132]\n",
      " [  12   24   36   48   60   72   84   96  108  120  132  144]]\n",
      "[[   1    2    3    4    5    6    7    8    9   10]\n",
      " [   2    4    6    8   10   12   14   16   18   20]\n",
      " [   3    6    9   12   15   18   21   24   27   30]\n",
      " [   4    8   12   16   20   24   28   32   36   40]\n",
      " [   5   10   15   20 9999 9999   35   40   45   50]\n",
      " [   6   12   18   24 9999 9999   42   48   54   60]\n",
      " [   7   14   21   28   35   42   49   56   63   70]\n",
      " [   8   16   24   32   40   48   56   64   72   80]\n",
      " [   9   18   27   36   45   54   63   72   81   90]\n",
      " [  10   20   30   40   50   60   70   80   90  100]]\n"
     ]
    }
   ],
   "source": [
    "tablica_monzenja_do100 = tablica_monzenja[ : 10, : 10 ]\n",
    "tablica_monzenja_do100[ 4: 6 , 4 : 6 ] = 9999\n",
    "print(tablica_monzenja)\n",
    "print(tablica_monzenja_do100)"
   ]
  },
  {
   "attachments": {},
   "cell_type": "markdown",
   "id": "005ba37d",
   "metadata": {},
   "source": [
    "Kao što vidimo, promijenili smo **originalni skup podataka**. To treba izbjegavati, treba raditi na kopiji podataka. Za to imamo metodu *copy()*. Iskoristimo to na istom primjeru tablice množenja:"
   ]
  },
  {
   "cell_type": "code",
   "execution_count": 98,
   "id": "7c3e73d7",
   "metadata": {},
   "outputs": [
    {
     "name": "stdout",
     "output_type": "stream",
     "text": [
      "[[  1   2   3   4   5   6   7   8   9  10  11  12]\n",
      " [  2   4   6   8  10  12  14  16  18  20  22  24]\n",
      " [  3   6   9  12  15  18  21  24  27  30  33  36]\n",
      " [  4   8  12  16  20  24  28  32  36  40  44  48]\n",
      " [  5  10  15  20  25  30  35  40  45  50  55  60]\n",
      " [  6  12  18  24  30  36  42  48  54  60  66  72]\n",
      " [  7  14  21  28  35  42  49  56  63  70  77  84]\n",
      " [  8  16  24  32  40  48  56  64  72  80  88  96]\n",
      " [  9  18  27  36  45  54  63  72  81  90  99 108]\n",
      " [ 10  20  30  40  50  60  70  80  90 100 110 120]\n",
      " [ 11  22  33  44  55  66  77  88  99 110 121 132]\n",
      " [ 12  24  36  48  60  72  84  96 108 120 132 144]]\n",
      "[[   1    2    3    4    5    6    7    8    9   10]\n",
      " [   2    4    6    8   10   12   14   16   18   20]\n",
      " [   3    6    9   12   15   18   21   24   27   30]\n",
      " [   4    8   12   16   20   24   28   32   36   40]\n",
      " [   5   10   15   20 9999 9999   35   40   45   50]\n",
      " [   6   12   18   24 9999 9999   42   48   54   60]\n",
      " [   7   14   21   28   35   42   49   56   63   70]\n",
      " [   8   16   24   32   40   48   56   64   72   80]\n",
      " [   9   18   27   36   45   54   63   72   81   90]\n",
      " [  10   20   30   40   50   60   70   80   90  100]]\n"
     ]
    }
   ],
   "source": [
    "tablica_monzenja_do100 = tablica_monzenja[ : 10, : 10 ].copy()\n",
    "tablica_monzenja_do100[ 4: 6 , 4 : 6 ] = 9999\n",
    "print(tablica_monzenja)\n",
    "print(tablica_monzenja_do100)"
   ]
  },
  {
   "attachments": {},
   "cell_type": "markdown",
   "id": "4cbac4ec",
   "metadata": {},
   "source": [
    "### Povezivanje nizova\n",
    "\n",
    "Osim što niz možemo kopirati pa tako kreirati novi niz, novi niz možemo kreirati i spajanjem dvaju ili više nizova u jedan pomoću *concatenate, vstack* i *hstack* metoda. Pokažimo to na primjeru."
   ]
  },
  {
   "cell_type": "code",
   "execution_count": 99,
   "id": "b7b228a9",
   "metadata": {},
   "outputs": [
    {
     "name": "stdout",
     "output_type": "stream",
     "text": [
      "[[1 2 3]\n",
      " [4 5 6]]\n",
      "\n",
      "[[ 7  8  9]\n",
      " [10 11 12]]\n"
     ]
    }
   ],
   "source": [
    "niz_1 = np.array([[1, 2, 3], [4, 5, 6]])\n",
    "print(niz_1)\n",
    "\n",
    "print()\n",
    "\n",
    "niz_2 = np.array([[7, 8, 9], [10, 11, 12]])\n",
    "print(niz_2)"
   ]
  },
  {
   "cell_type": "code",
   "execution_count": 101,
   "id": "24c14dea",
   "metadata": {},
   "outputs": [
    {
     "data": {
      "text/plain": [
       "array([[ 1,  2,  3],\n",
       "       [ 4,  5,  6],\n",
       "       [ 7,  8,  9],\n",
       "       [10, 11, 12]])"
      ]
     },
     "execution_count": 101,
     "metadata": {},
     "output_type": "execute_result"
    }
   ],
   "source": [
    "np.concatenate([niz_1, niz_2], axis=0)"
   ]
  },
  {
   "cell_type": "code",
   "execution_count": 102,
   "id": "66171daa",
   "metadata": {},
   "outputs": [
    {
     "data": {
      "text/plain": [
       "array([[ 1,  2,  3,  7,  8,  9],\n",
       "       [ 4,  5,  6, 10, 11, 12]])"
      ]
     },
     "execution_count": 102,
     "metadata": {},
     "output_type": "execute_result"
    }
   ],
   "source": [
    "np.concatenate([niz_1, niz_2], axis=1)"
   ]
  },
  {
   "attachments": {},
   "cell_type": "markdown",
   "id": "8b0ab7d3",
   "metadata": {},
   "source": [
    "Možemo umjesto definiranja osi (*axis argument*) koristiti *vstack* (vertikalni smjer) ili *hstack* (horizontalni smjer)"
   ]
  },
  {
   "cell_type": "code",
   "execution_count": 104,
   "id": "b358db4b",
   "metadata": {},
   "outputs": [
    {
     "data": {
      "text/plain": [
       "array([[ 1,  2,  3],\n",
       "       [ 4,  5,  6],\n",
       "       [ 7,  8,  9],\n",
       "       [10, 11, 12]])"
      ]
     },
     "execution_count": 104,
     "metadata": {},
     "output_type": "execute_result"
    }
   ],
   "source": [
    "np.vstack((niz_1, niz_2))"
   ]
  },
  {
   "cell_type": "code",
   "execution_count": 105,
   "id": "220aac3e",
   "metadata": {},
   "outputs": [
    {
     "data": {
      "text/plain": [
       "array([[ 1,  2,  3,  7,  8,  9],\n",
       "       [ 4,  5,  6, 10, 11, 12]])"
      ]
     },
     "execution_count": 105,
     "metadata": {},
     "output_type": "execute_result"
    }
   ],
   "source": [
    "np.hstack((niz_1, niz_2))"
   ]
  },
  {
   "attachments": {},
   "cell_type": "markdown",
   "id": "706a4a7e",
   "metadata": {},
   "source": [
    "### Razdvajanje nizova\n",
    "\n",
    "Znamo kako izdvojiti dio niza u jednu novu zasebnu cjelinu, ali ponekad imamo potrebu niz podijeliti na više cjelina, odnosno nizova po nekom kriteriju. Za to koristimo metode *split, hsplit* i *vsplit*. Pokažimo na primjerima kako se koriste ove metode."
   ]
  },
  {
   "cell_type": "code",
   "execution_count": 106,
   "id": "f7c42734",
   "metadata": {},
   "outputs": [
    {
     "data": {
      "text/plain": [
       "array([[ 1,  2,  3,  4],\n",
       "       [ 5,  6,  7,  8],\n",
       "       [ 9, 10, 11, 12],\n",
       "       [13, 14, 15, 16]])"
      ]
     },
     "execution_count": 106,
     "metadata": {},
     "output_type": "execute_result"
    }
   ],
   "source": [
    "niz = np.arange(1, 17).reshape(4, 4)\n",
    "niz"
   ]
  },
  {
   "cell_type": "code",
   "execution_count": 108,
   "id": "6e2f6f76",
   "metadata": {},
   "outputs": [
    {
     "data": {
      "text/plain": [
       "[array([[ 1,  2],\n",
       "        [ 5,  6],\n",
       "        [ 9, 10],\n",
       "        [13, 14]]),\n",
       " array([[ 3,  4],\n",
       "        [ 7,  8],\n",
       "        [11, 12],\n",
       "        [15, 16]])]"
      ]
     },
     "execution_count": 108,
     "metadata": {},
     "output_type": "execute_result"
    }
   ],
   "source": [
    "np.hsplit(niz, 2)"
   ]
  },
  {
   "cell_type": "code",
   "execution_count": 109,
   "id": "e11cc160",
   "metadata": {},
   "outputs": [
    {
     "data": {
      "text/plain": [
       "[array([[1, 2, 3, 4],\n",
       "        [5, 6, 7, 8]]),\n",
       " array([[ 9, 10, 11, 12],\n",
       "        [13, 14, 15, 16]])]"
      ]
     },
     "execution_count": 109,
     "metadata": {},
     "output_type": "execute_result"
    }
   ],
   "source": [
    "np.vsplit(niz, 2)"
   ]
  },
  {
   "attachments": {},
   "cell_type": "markdown",
   "id": "1b352673",
   "metadata": {},
   "source": [
    "Kao argument, na koliko dijelova možemo proslijediti jednodimenzionalni niz pa ćemo prvotni niz podijeliti na više različitih dijelova. Recimo, prvo ćemo izdvojiti prva tri stupca, zatim preostale elemente u novi niz sve do 6. stupca. Kako nemamo toliko, dobit ćemo i jedan prazan niz."
   ]
  },
  {
   "cell_type": "code",
   "execution_count": 110,
   "id": "7910bda9",
   "metadata": {},
   "outputs": [
    {
     "data": {
      "text/plain": [
       "[array([[ 1,  2,  3],\n",
       "        [ 5,  6,  7],\n",
       "        [ 9, 10, 11],\n",
       "        [13, 14, 15]]),\n",
       " array([[ 4],\n",
       "        [ 8],\n",
       "        [12],\n",
       "        [16]]),\n",
       " array([], shape=(4, 0), dtype=int32)]"
      ]
     },
     "execution_count": 110,
     "metadata": {},
     "output_type": "execute_result"
    }
   ],
   "source": [
    "np.hsplit(niz, np.array([3, 6]))"
   ]
  },
  {
   "attachments": {},
   "cell_type": "markdown",
   "id": "62850de3",
   "metadata": {},
   "source": [
    "Ako svaki novi dio pohranimo u neku novu varijablu, dobit ćemo nove *poglede* na originalni niz (sjetite se, nema kopiranja, nego i dalje zadržavamo reference pa ovo možemo smatrati kao pogled / *view* na taj dio niza.).\n",
    "\n",
    "**Vježba<br>\n",
    "Napravite nove kopije nizova.**"
   ]
  },
  {
   "cell_type": "code",
   "execution_count": 112,
   "id": "33b792df",
   "metadata": {},
   "outputs": [
    {
     "data": {
      "text/plain": [
       "[array([[ 1,  2,  3],\n",
       "        [ 9, 10, 11],\n",
       "        [17, 18, 19],\n",
       "        [25, 26, 27],\n",
       "        [33, 34, 35],\n",
       "        [41, 42, 43],\n",
       "        [49, 50, 51],\n",
       "        [57, 58, 59]]),\n",
       " array([[ 4,  5,  6],\n",
       "        [12, 13, 14],\n",
       "        [20, 21, 22],\n",
       "        [28, 29, 30],\n",
       "        [36, 37, 38],\n",
       "        [44, 45, 46],\n",
       "        [52, 53, 54],\n",
       "        [60, 61, 62]]),\n",
       " array([[ 7,  8],\n",
       "        [15, 16],\n",
       "        [23, 24],\n",
       "        [31, 32],\n",
       "        [39, 40],\n",
       "        [47, 48],\n",
       "        [55, 56],\n",
       "        [63, 64]])]"
      ]
     },
     "execution_count": 112,
     "metadata": {},
     "output_type": "execute_result"
    }
   ],
   "source": [
    "niz = np.arange(1, 65).reshape(8, 8)\n",
    "np.hsplit(niz, np.array([3, 6]))"
   ]
  },
  {
   "attachments": {},
   "cell_type": "markdown",
   "id": "9c435a8e",
   "metadata": {},
   "source": [
    "Ovo ćemo najlakše pojasniti na nekom većem nizu."
   ]
  },
  {
   "cell_type": "code",
   "execution_count": 113,
   "id": "d853d7ce",
   "metadata": {},
   "outputs": [
    {
     "data": {
      "text/plain": [
       "[array([[ 1,  2,  3],\n",
       "        [ 9, 10, 11],\n",
       "        [17, 18, 19],\n",
       "        [25, 26, 27],\n",
       "        [33, 34, 35],\n",
       "        [41, 42, 43],\n",
       "        [49, 50, 51],\n",
       "        [57, 58, 59]]),\n",
       " array([[ 4,  5,  6,  7],\n",
       "        [12, 13, 14, 15],\n",
       "        [20, 21, 22, 23],\n",
       "        [28, 29, 30, 31],\n",
       "        [36, 37, 38, 39],\n",
       "        [44, 45, 46, 47],\n",
       "        [52, 53, 54, 55],\n",
       "        [60, 61, 62, 63]]),\n",
       " array([[ 8],\n",
       "        [16],\n",
       "        [24],\n",
       "        [32],\n",
       "        [40],\n",
       "        [48],\n",
       "        [56],\n",
       "        [64]])]"
      ]
     },
     "execution_count": 113,
     "metadata": {},
     "output_type": "execute_result"
    }
   ],
   "source": [
    "niz = np.arange(1, 65).reshape(8, 8)\n",
    "np.hsplit(niz, np.array([3, 7]))"
   ]
  },
  {
   "cell_type": "code",
   "execution_count": 115,
   "id": "630fd6c1-a086-4a63-bfde-dcdbda342e84",
   "metadata": {
    "scrolled": true
   },
   "outputs": [
    {
     "data": {
      "text/plain": [
       "\u001b[1;31mSignature:\u001b[0m       \u001b[0mnp\u001b[0m\u001b[1;33m.\u001b[0m\u001b[0msplit\u001b[0m\u001b[1;33m(\u001b[0m\u001b[0mary\u001b[0m\u001b[1;33m,\u001b[0m \u001b[0mindices_or_sections\u001b[0m\u001b[1;33m,\u001b[0m \u001b[0maxis\u001b[0m\u001b[1;33m=\u001b[0m\u001b[1;36m0\u001b[0m\u001b[1;33m)\u001b[0m\u001b[1;33m\u001b[0m\u001b[1;33m\u001b[0m\u001b[0m\n",
       "\u001b[1;31mCall signature:\u001b[0m  \u001b[0mnp\u001b[0m\u001b[1;33m.\u001b[0m\u001b[0msplit\u001b[0m\u001b[1;33m(\u001b[0m\u001b[1;33m*\u001b[0m\u001b[0margs\u001b[0m\u001b[1;33m,\u001b[0m \u001b[1;33m**\u001b[0m\u001b[0mkwargs\u001b[0m\u001b[1;33m)\u001b[0m\u001b[1;33m\u001b[0m\u001b[1;33m\u001b[0m\u001b[0m\n",
       "\u001b[1;31mType:\u001b[0m            _ArrayFunctionDispatcher\n",
       "\u001b[1;31mString form:\u001b[0m     <function split at 0x0000025EA8ACF2E0>\n",
       "\u001b[1;31mFile:\u001b[0m            c:\\repos\\py-jupyter-nb\\venv\\lib\\site-packages\\numpy\\lib\\shape_base.py\n",
       "\u001b[1;31mDocstring:\u001b[0m      \n",
       "Split an array into multiple sub-arrays as views into `ary`.\n",
       "\n",
       "Parameters\n",
       "----------\n",
       "ary : ndarray\n",
       "    Array to be divided into sub-arrays.\n",
       "indices_or_sections : int or 1-D array\n",
       "    If `indices_or_sections` is an integer, N, the array will be divided\n",
       "    into N equal arrays along `axis`.  If such a split is not possible,\n",
       "    an error is raised.\n",
       "\n",
       "    If `indices_or_sections` is a 1-D array of sorted integers, the entries\n",
       "    indicate where along `axis` the array is split.  For example,\n",
       "    ``[2, 3]`` would, for ``axis=0``, result in\n",
       "\n",
       "      - ary[:2]\n",
       "      - ary[2:3]\n",
       "      - ary[3:]\n",
       "\n",
       "    If an index exceeds the dimension of the array along `axis`,\n",
       "    an empty sub-array is returned correspondingly.\n",
       "axis : int, optional\n",
       "    The axis along which to split, default is 0.\n",
       "\n",
       "Returns\n",
       "-------\n",
       "sub-arrays : list of ndarrays\n",
       "    A list of sub-arrays as views into `ary`.\n",
       "\n",
       "Raises\n",
       "------\n",
       "ValueError\n",
       "    If `indices_or_sections` is given as an integer, but\n",
       "    a split does not result in equal division.\n",
       "\n",
       "See Also\n",
       "--------\n",
       "array_split : Split an array into multiple sub-arrays of equal or\n",
       "              near-equal size.  Does not raise an exception if\n",
       "              an equal division cannot be made.\n",
       "hsplit : Split array into multiple sub-arrays horizontally (column-wise).\n",
       "vsplit : Split array into multiple sub-arrays vertically (row wise).\n",
       "dsplit : Split array into multiple sub-arrays along the 3rd axis (depth).\n",
       "concatenate : Join a sequence of arrays along an existing axis.\n",
       "stack : Join a sequence of arrays along a new axis.\n",
       "hstack : Stack arrays in sequence horizontally (column wise).\n",
       "vstack : Stack arrays in sequence vertically (row wise).\n",
       "dstack : Stack arrays in sequence depth wise (along third dimension).\n",
       "\n",
       "Examples\n",
       "--------\n",
       ">>> x = np.arange(9.0)\n",
       ">>> np.split(x, 3)\n",
       "[array([0.,  1.,  2.]), array([3.,  4.,  5.]), array([6.,  7.,  8.])]\n",
       "\n",
       ">>> x = np.arange(8.0)\n",
       ">>> np.split(x, [3, 5, 6, 10])\n",
       "[array([0.,  1.,  2.]),\n",
       " array([3.,  4.]),\n",
       " array([5.]),\n",
       " array([6.,  7.]),\n",
       " array([], dtype=float64)]\n",
       "\u001b[1;31mClass docstring:\u001b[0m\n",
       "Class to wrap functions with checks for __array_function__ overrides.\n",
       "\n",
       "All arguments are required, and can only be passed by position.\n",
       "\n",
       "Parameters\n",
       "----------\n",
       "dispatcher : function or None\n",
       "    The dispatcher function that returns a single sequence-like object\n",
       "    of all arguments relevant.  It must have the same signature (except\n",
       "    the default values) as the actual implementation.\n",
       "    If ``None``, this is a ``like=`` dispatcher and the\n",
       "    ``_ArrayFunctionDispatcher`` must be called with ``like`` as the\n",
       "    first (additional and positional) argument.\n",
       "implementation : function\n",
       "    Function that implements the operation on NumPy arrays without\n",
       "    overrides.  Arguments passed calling the ``_ArrayFunctionDispatcher``\n",
       "    will be forwarded to this (and the ``dispatcher``) as if using\n",
       "    ``*args, **kwargs``.\n",
       "\n",
       "Attributes\n",
       "----------\n",
       "_implementation : function\n",
       "    The original implementation passed in."
      ]
     },
     "metadata": {},
     "output_type": "display_data"
    }
   ],
   "source": [
    "np.split?"
   ]
  },
  {
   "attachments": {},
   "cell_type": "markdown",
   "id": "53af8ee4",
   "metadata": {},
   "source": [
    "## Matematičke operacije s nizovima\n",
    "\n",
    "NumPy je nastao kako bismo brzo i jednostavno izvršavali kompleksne matematičke operacije nad velikom količinom podatka. Da bismo došli do kompleksnih matematičkih operacija, krenut ćemo s jednostavnijim kao što su osnovne matematičke operacije:\n",
    "- zbrajanje i oduzimanje\n",
    "- množenje i dijeljenje\n",
    "- potencije."
   ]
  },
  {
   "cell_type": "code",
   "execution_count": 116,
   "id": "a50a492d",
   "metadata": {},
   "outputs": [
    {
     "data": {
      "text/plain": [
       "array([[102, 104, 106, 108, 110, 112, 114, 116],\n",
       "       [118, 120, 122, 124, 126, 128, 130, 132],\n",
       "       [134, 136, 138, 140, 142, 144, 146, 148],\n",
       "       [150, 152, 154, 156, 158, 160, 162, 164],\n",
       "       [166, 168, 170, 172, 174, 176, 178, 180],\n",
       "       [182, 184, 186, 188, 190, 192, 194, 196],\n",
       "       [198, 200, 202, 204, 206, 208, 210, 212],\n",
       "       [214, 216, 218, 220, 222, 224, 226, 228]])"
      ]
     },
     "execution_count": 116,
     "metadata": {},
     "output_type": "execute_result"
    }
   ],
   "source": [
    "niz_a = np.arange(1, 65).reshape(8, 8)\n",
    "niz_b = np.arange(101, 165).reshape(8, 8)\n",
    "\n",
    "niz_a + niz_b"
   ]
  },
  {
   "attachments": {},
   "cell_type": "markdown",
   "id": "1d48c580",
   "metadata": {},
   "source": [
    "Ili pomoću funkcije metode *add()*:"
   ]
  },
  {
   "cell_type": "code",
   "execution_count": 117,
   "id": "8422f725",
   "metadata": {},
   "outputs": [
    {
     "data": {
      "text/plain": [
       "array([[102, 104, 106, 108, 110, 112, 114, 116],\n",
       "       [118, 120, 122, 124, 126, 128, 130, 132],\n",
       "       [134, 136, 138, 140, 142, 144, 146, 148],\n",
       "       [150, 152, 154, 156, 158, 160, 162, 164],\n",
       "       [166, 168, 170, 172, 174, 176, 178, 180],\n",
       "       [182, 184, 186, 188, 190, 192, 194, 196],\n",
       "       [198, 200, 202, 204, 206, 208, 210, 212],\n",
       "       [214, 216, 218, 220, 222, 224, 226, 228]])"
      ]
     },
     "execution_count": 117,
     "metadata": {},
     "output_type": "execute_result"
    }
   ],
   "source": [
    "np.add(niz_a, niz_b)"
   ]
  },
  {
   "attachments": {},
   "cell_type": "markdown",
   "id": "558e5882",
   "metadata": {},
   "source": [
    "Analogno prethodnom primjeru, oduzimanje bi bilo pomoću znaka - ili metode *subtract()*."
   ]
  },
  {
   "cell_type": "code",
   "execution_count": 118,
   "id": "b3580c8e",
   "metadata": {},
   "outputs": [
    {
     "data": {
      "text/plain": [
       "array([[-100, -100, -100, -100, -100, -100, -100, -100],\n",
       "       [-100, -100, -100, -100, -100, -100, -100, -100],\n",
       "       [-100, -100, -100, -100, -100, -100, -100, -100],\n",
       "       [-100, -100, -100, -100, -100, -100, -100, -100],\n",
       "       [-100, -100, -100, -100, -100, -100, -100, -100],\n",
       "       [-100, -100, -100, -100, -100, -100, -100, -100],\n",
       "       [-100, -100, -100, -100, -100, -100, -100, -100],\n",
       "       [-100, -100, -100, -100, -100, -100, -100, -100]])"
      ]
     },
     "execution_count": 118,
     "metadata": {},
     "output_type": "execute_result"
    }
   ],
   "source": [
    "niz_a - niz_b"
   ]
  },
  {
   "cell_type": "code",
   "execution_count": 119,
   "id": "0fdd242e",
   "metadata": {},
   "outputs": [
    {
     "data": {
      "text/plain": [
       "array([[-100, -100, -100, -100, -100, -100, -100, -100],\n",
       "       [-100, -100, -100, -100, -100, -100, -100, -100],\n",
       "       [-100, -100, -100, -100, -100, -100, -100, -100],\n",
       "       [-100, -100, -100, -100, -100, -100, -100, -100],\n",
       "       [-100, -100, -100, -100, -100, -100, -100, -100],\n",
       "       [-100, -100, -100, -100, -100, -100, -100, -100],\n",
       "       [-100, -100, -100, -100, -100, -100, -100, -100],\n",
       "       [-100, -100, -100, -100, -100, -100, -100, -100]])"
      ]
     },
     "execution_count": 119,
     "metadata": {},
     "output_type": "execute_result"
    }
   ],
   "source": [
    "np.subtract(niz_a, niz_b)"
   ]
  },
  {
   "cell_type": "code",
   "execution_count": 120,
   "id": "f5597ea5-b18e-4122-8f9c-eb1e3f4503e8",
   "metadata": {},
   "outputs": [
    {
     "data": {
      "text/plain": [
       "array([[  101,   204,   309,   416,   525,   636,   749,   864],\n",
       "       [  981,  1100,  1221,  1344,  1469,  1596,  1725,  1856],\n",
       "       [ 1989,  2124,  2261,  2400,  2541,  2684,  2829,  2976],\n",
       "       [ 3125,  3276,  3429,  3584,  3741,  3900,  4061,  4224],\n",
       "       [ 4389,  4556,  4725,  4896,  5069,  5244,  5421,  5600],\n",
       "       [ 5781,  5964,  6149,  6336,  6525,  6716,  6909,  7104],\n",
       "       [ 7301,  7500,  7701,  7904,  8109,  8316,  8525,  8736],\n",
       "       [ 8949,  9164,  9381,  9600,  9821, 10044, 10269, 10496]])"
      ]
     },
     "execution_count": 120,
     "metadata": {},
     "output_type": "execute_result"
    }
   ],
   "source": [
    "np.multiply(niz_a, niz_b)"
   ]
  },
  {
   "cell_type": "code",
   "execution_count": 121,
   "id": "38b8bdff-024e-48c2-a3fa-0fac89f715c8",
   "metadata": {},
   "outputs": [
    {
     "data": {
      "text/plain": [
       "array([[0.00990099, 0.01960784, 0.02912621, 0.03846154, 0.04761905,\n",
       "        0.05660377, 0.06542056, 0.07407407],\n",
       "       [0.08256881, 0.09090909, 0.0990991 , 0.10714286, 0.11504425,\n",
       "        0.12280702, 0.13043478, 0.13793103],\n",
       "       [0.14529915, 0.15254237, 0.15966387, 0.16666667, 0.17355372,\n",
       "        0.18032787, 0.18699187, 0.19354839],\n",
       "       [0.2       , 0.20634921, 0.21259843, 0.21875   , 0.2248062 ,\n",
       "        0.23076923, 0.23664122, 0.24242424],\n",
       "       [0.2481203 , 0.25373134, 0.25925926, 0.26470588, 0.27007299,\n",
       "        0.27536232, 0.28057554, 0.28571429],\n",
       "       [0.29078014, 0.29577465, 0.3006993 , 0.30555556, 0.31034483,\n",
       "        0.31506849, 0.31972789, 0.32432432],\n",
       "       [0.32885906, 0.33333333, 0.33774834, 0.34210526, 0.34640523,\n",
       "        0.35064935, 0.35483871, 0.35897436],\n",
       "       [0.36305732, 0.36708861, 0.37106918, 0.375     , 0.37888199,\n",
       "        0.38271605, 0.38650307, 0.3902439 ]])"
      ]
     },
     "execution_count": 121,
     "metadata": {},
     "output_type": "execute_result"
    }
   ],
   "source": [
    "np.divide(niz_a, niz_b)"
   ]
  },
  {
   "cell_type": "code",
   "execution_count": 123,
   "id": "5cf51d89-52d1-4546-8f0b-c4d2125d7b57",
   "metadata": {},
   "outputs": [
    {
     "data": {
      "text/plain": [
       "array([[     1,      8,     27,     64,    125,    216,    343,    512],\n",
       "       [   729,   1000,   1331,   1728,   2197,   2744,   3375,   4096],\n",
       "       [  4913,   5832,   6859,   8000,   9261,  10648,  12167,  13824],\n",
       "       [ 15625,  17576,  19683,  21952,  24389,  27000,  29791,  32768],\n",
       "       [ 35937,  39304,  42875,  46656,  50653,  54872,  59319,  64000],\n",
       "       [ 68921,  74088,  79507,  85184,  91125,  97336, 103823, 110592],\n",
       "       [117649, 125000, 132651, 140608, 148877, 157464, 166375, 175616],\n",
       "       [185193, 195112, 205379, 216000, 226981, 238328, 250047, 262144]],\n",
       "      dtype=int32)"
      ]
     },
     "execution_count": 123,
     "metadata": {},
     "output_type": "execute_result"
    }
   ],
   "source": [
    "np.power(niz_a, 3)"
   ]
  },
  {
   "attachments": {},
   "cell_type": "markdown",
   "id": "4ea62e3d",
   "metadata": {},
   "source": [
    "**PITANJE <br>\n",
    "Zbog čega smo kao rezultat oduzimanja dobili sve iste brojeve?**\n",
    "\n",
    "Odgovor: zato jer je razlika elemenata po pozicijama uvijek identična. Da smo kreirali drugačije nizove, razlika bi bila drugačija.\n",
    "\n",
    "**Primjere za množenje i dijeljenje, pokušajte napraviti sami.<br>\n",
    "**Pomoć: koristite engleske nazive za množenje i dijeljenje, odnosno *multiply* i *divide.***\n",
    "\n",
    "### Ugrađene matematičke funkcije u NumPy biblioteci\n",
    "\n",
    "NumPy ima jako puno ugrađenih funkcija. Da nabrojimo samo neke:\n",
    "- trigonometrijske funkcije: *sin(), cos()* i *tan()*\n",
    "- funkcije za korjenovanje *sqrt()* te *exp()* funkciju za računanje potencija nekog broja\n",
    "- *log(), log2()* i *log10()* za računanje logaritama s bazom *e*, 2 ili 10\n",
    "- *round()* za zaokruživanje na određeni broj decimalnih mjesta.\n",
    "\n",
    "**Generirajte niz s nasumičnim brojevima proizvoljnog oblika (minimalno 4,4) te nad tim nizom provjerite kako rade navedene funkcije.**\n",
    "\n",
    "### Statističke operacije u NumPy biblioteci\n",
    "- *np.mean* - prosjek svih vrijednosti u nizu\n",
    "- *np.std* - standardna devijacija\n",
    "- *np.sum* - suma svih elemenata, metoda koristi argument *axis*\n",
    "- *np.prod* - produkt svih elemenata\n",
    "- *np.min, np.max* - minimalna/maksimalna vrijednost u nizu\n",
    "- *np.argmin, np.argmax* - indeks elementa koji ima minimalnu/maksimalnu vrijednost\n",
    "- *np.all* - vraća True ako su svi elementi nonzero (elementi koji imaju vrijednost nula ili nemaju definiranu vrijednost)\n",
    "- *np.any* - vraća True ako je bilo koji element *nonzero*\n",
    "\n",
    "Generirajmo niz nasumičnih brojeva i provjerimo neke od gore navedenih statističkih operacija."
   ]
  },
  {
   "cell_type": "code",
   "execution_count": 127,
   "id": "7749ca8d",
   "metadata": {},
   "outputs": [
    {
     "name": "stdout",
     "output_type": "stream",
     "text": [
      "[[-1.43   1.164 -1.587  0.318  2.121 -0.187]\n",
      " [-0.019  1.857  1.16   2.259 -0.585  0.155]\n",
      " [ 0.152  0.116  1.348  0.834 -0.012 -1.394]\n",
      " [ 0.623  0.154  0.532  0.81  -0.939  0.722]]\n",
      "0.3405\n",
      "1.02633750134479\n",
      "8.172\n"
     ]
    }
   ],
   "source": [
    "niz = np.random.randn(4, 6)\n",
    "niz = np.round(niz, 3)\n",
    "\n",
    "print(niz)\n",
    "print(np.mean(niz))\n",
    "print(np.std(niz))\n",
    "print(np.sum(niz))"
   ]
  },
  {
   "attachments": {},
   "cell_type": "markdown",
   "id": "6f32ba36",
   "metadata": {},
   "source": [
    "**Vježba<br>\n",
    "Dovršite primjere za preostale statističke funkcije tako da za svaku kreirate novi niz.**"
   ]
  },
  {
   "cell_type": "code",
   "execution_count": null,
   "id": "6cf9703a-2263-4e9f-a722-a052744988fa",
   "metadata": {},
   "outputs": [],
   "source": []
  },
  {
   "cell_type": "markdown",
   "id": "38a39bd5-9e1b-43d9-a39b-1890ab8993e8",
   "metadata": {},
   "source": [
    "### Funkcije filtriranja\n",
    "\n",
    "NumPy ima ugrađenih nekoliko funkcija za filtriranje i obradu vrijednosti elementa u nizovima.\n",
    "Prva s kojom ćemo se upoznati je *where()*. Ova funkcija prima prvi argument kao uvjet za filtriranje, a druga dva su operacije nad vrijednostima elemenata niza. Ako je rezultat uvjeta iz prvog argumenta točan, onda se primjenjuje drugi argument, a ako nije točan, onda se primjenjuje treći argument.\n",
    "\n",
    "Generirajmo niz od 9 elemenata od -4 do +4 i svaki element koji je manji od nula podignimo na kvadrat, a ako je veći od nula, podignimo na treću potenciju."
   ]
  },
  {
   "cell_type": "code",
   "execution_count": 131,
   "id": "7b5f2bbc",
   "metadata": {},
   "outputs": [
    {
     "data": {
      "text/plain": [
       "array([-10.,  -8.,  -6.,  -4.,  -2.,   0.,   2.,   4.,   6.,   8.,  10.])"
      ]
     },
     "execution_count": 131,
     "metadata": {},
     "output_type": "execute_result"
    }
   ],
   "source": [
    "niz = np.linspace(-10, 10, 11)\n",
    "niz"
   ]
  },
  {
   "cell_type": "code",
   "execution_count": 132,
   "id": "1376444a-275e-4e20-b8c1-6240c705e73f",
   "metadata": {
    "scrolled": true
   },
   "outputs": [
    {
     "data": {
      "text/plain": [
       "\u001b[1;31mCall signature:\u001b[0m  \u001b[0mnp\u001b[0m\u001b[1;33m.\u001b[0m\u001b[0mwhere\u001b[0m\u001b[1;33m(\u001b[0m\u001b[1;33m*\u001b[0m\u001b[0margs\u001b[0m\u001b[1;33m,\u001b[0m \u001b[1;33m**\u001b[0m\u001b[0mkwargs\u001b[0m\u001b[1;33m)\u001b[0m\u001b[1;33m\u001b[0m\u001b[1;33m\u001b[0m\u001b[0m\n",
       "\u001b[1;31mType:\u001b[0m            _ArrayFunctionDispatcher\n",
       "\u001b[1;31mString form:\u001b[0m     <built-in function where>\n",
       "\u001b[1;31mDocstring:\u001b[0m      \n",
       "where(condition, [x, y], /)\n",
       "\n",
       "Return elements chosen from `x` or `y` depending on `condition`.\n",
       "\n",
       ".. note::\n",
       "    When only `condition` is provided, this function is a shorthand for\n",
       "    ``np.asarray(condition).nonzero()``. Using `nonzero` directly should be\n",
       "    preferred, as it behaves correctly for subclasses. The rest of this\n",
       "    documentation covers only the case where all three arguments are\n",
       "    provided.\n",
       "\n",
       "Parameters\n",
       "----------\n",
       "condition : array_like, bool\n",
       "    Where True, yield `x`, otherwise yield `y`.\n",
       "x, y : array_like\n",
       "    Values from which to choose. `x`, `y` and `condition` need to be\n",
       "    broadcastable to some shape.\n",
       "\n",
       "Returns\n",
       "-------\n",
       "out : ndarray\n",
       "    An array with elements from `x` where `condition` is True, and elements\n",
       "    from `y` elsewhere.\n",
       "\n",
       "See Also\n",
       "--------\n",
       "choose\n",
       "nonzero : The function that is called when x and y are omitted\n",
       "\n",
       "Notes\n",
       "-----\n",
       "If all the arrays are 1-D, `where` is equivalent to::\n",
       "\n",
       "    [xv if c else yv\n",
       "     for c, xv, yv in zip(condition, x, y)]\n",
       "\n",
       "Examples\n",
       "--------\n",
       ">>> a = np.arange(10)\n",
       ">>> a\n",
       "array([0, 1, 2, 3, 4, 5, 6, 7, 8, 9])\n",
       ">>> np.where(a < 5, a, 10*a)\n",
       "array([ 0,  1,  2,  3,  4, 50, 60, 70, 80, 90])\n",
       "\n",
       "This can be used on multidimensional arrays too:\n",
       "\n",
       ">>> np.where([[True, False], [True, True]],\n",
       "...          [[1, 2], [3, 4]],\n",
       "...          [[9, 8], [7, 6]])\n",
       "array([[1, 8],\n",
       "       [3, 4]])\n",
       "\n",
       "The shapes of x, y, and the condition are broadcast together:\n",
       "\n",
       ">>> x, y = np.ogrid[:3, :4]\n",
       ">>> np.where(x < y, x, 10 + y)  # both x and 10+y are broadcast\n",
       "array([[10,  0,  0,  0],\n",
       "       [10, 11,  1,  1],\n",
       "       [10, 11, 12,  2]])\n",
       "\n",
       ">>> a = np.array([[0, 1, 2],\n",
       "...               [0, 2, 4],\n",
       "...               [0, 3, 6]])\n",
       ">>> np.where(a < 4, a, -1)  # -1 is broadcast\n",
       "array([[ 0,  1,  2],\n",
       "       [ 0,  2, -1],\n",
       "       [ 0,  3, -1]])\n",
       "\u001b[1;31mClass docstring:\u001b[0m\n",
       "Class to wrap functions with checks for __array_function__ overrides.\n",
       "\n",
       "All arguments are required, and can only be passed by position.\n",
       "\n",
       "Parameters\n",
       "----------\n",
       "dispatcher : function or None\n",
       "    The dispatcher function that returns a single sequence-like object\n",
       "    of all arguments relevant.  It must have the same signature (except\n",
       "    the default values) as the actual implementation.\n",
       "    If ``None``, this is a ``like=`` dispatcher and the\n",
       "    ``_ArrayFunctionDispatcher`` must be called with ``like`` as the\n",
       "    first (additional and positional) argument.\n",
       "implementation : function\n",
       "    Function that implements the operation on NumPy arrays without\n",
       "    overrides.  Arguments passed calling the ``_ArrayFunctionDispatcher``\n",
       "    will be forwarded to this (and the ``dispatcher``) as if using\n",
       "    ``*args, **kwargs``.\n",
       "\n",
       "Attributes\n",
       "----------\n",
       "_implementation : function\n",
       "    The original implementation passed in."
      ]
     },
     "metadata": {},
     "output_type": "display_data"
    }
   ],
   "source": [
    "np.where?"
   ]
  },
  {
   "cell_type": "code",
   "execution_count": 135,
   "id": "194b4622-24a3-4a57-a802-c202b018d4bc",
   "metadata": {},
   "outputs": [
    {
     "data": {
      "text/plain": [
       "array([100.,  64.,  36.,  16.,   4.,   0.,   1.,   2.,   3.,   4.,   5.])"
      ]
     },
     "execution_count": 135,
     "metadata": {},
     "output_type": "execute_result"
    }
   ],
   "source": [
    "np.where(niz < 0, niz**2, niz/2)"
   ]
  },
  {
   "attachments": {},
   "cell_type": "markdown",
   "id": "c909b894",
   "metadata": {},
   "source": [
    "Druga jako slična funkcija je *select()*. Ova funkcija prima listu uvjeta kao prvi argument i listu operacija nad elementima koji zadovoljavaju uvjete iz liste. Nad prethodno kreiranim nizom, pronađimo elemente koji su:\n",
    "- manji od -1 i ako ih pronađemo podignimo ih na kvadrat\n",
    "- manji od 2 i ako ih pronađemo podignimo ih na treću potenciju\n",
    "- veći i jednaki od 2 te ako ih pronađemo podignimo ih na četvrtu potenciju."
   ]
  },
  {
   "cell_type": "code",
   "execution_count": 136,
   "id": "59e3b393",
   "metadata": {
    "scrolled": true
   },
   "outputs": [
    {
     "data": {
      "text/plain": [
       "\u001b[1;31mSignature:\u001b[0m       \u001b[0mnp\u001b[0m\u001b[1;33m.\u001b[0m\u001b[0mselect\u001b[0m\u001b[1;33m(\u001b[0m\u001b[0mcondlist\u001b[0m\u001b[1;33m,\u001b[0m \u001b[0mchoicelist\u001b[0m\u001b[1;33m,\u001b[0m \u001b[0mdefault\u001b[0m\u001b[1;33m=\u001b[0m\u001b[1;36m0\u001b[0m\u001b[1;33m)\u001b[0m\u001b[1;33m\u001b[0m\u001b[1;33m\u001b[0m\u001b[0m\n",
       "\u001b[1;31mCall signature:\u001b[0m  \u001b[0mnp\u001b[0m\u001b[1;33m.\u001b[0m\u001b[0mselect\u001b[0m\u001b[1;33m(\u001b[0m\u001b[1;33m*\u001b[0m\u001b[0margs\u001b[0m\u001b[1;33m,\u001b[0m \u001b[1;33m**\u001b[0m\u001b[0mkwargs\u001b[0m\u001b[1;33m)\u001b[0m\u001b[1;33m\u001b[0m\u001b[1;33m\u001b[0m\u001b[0m\n",
       "\u001b[1;31mType:\u001b[0m            _ArrayFunctionDispatcher\n",
       "\u001b[1;31mString form:\u001b[0m     <function select at 0x0000025EA8ABC040>\n",
       "\u001b[1;31mFile:\u001b[0m            c:\\repos\\py-jupyter-nb\\venv\\lib\\site-packages\\numpy\\lib\\function_base.py\n",
       "\u001b[1;31mDocstring:\u001b[0m      \n",
       "Return an array drawn from elements in choicelist, depending on conditions.\n",
       "\n",
       "Parameters\n",
       "----------\n",
       "condlist : list of bool ndarrays\n",
       "    The list of conditions which determine from which array in `choicelist`\n",
       "    the output elements are taken. When multiple conditions are satisfied,\n",
       "    the first one encountered in `condlist` is used.\n",
       "choicelist : list of ndarrays\n",
       "    The list of arrays from which the output elements are taken. It has\n",
       "    to be of the same length as `condlist`.\n",
       "default : scalar, optional\n",
       "    The element inserted in `output` when all conditions evaluate to False.\n",
       "\n",
       "Returns\n",
       "-------\n",
       "output : ndarray\n",
       "    The output at position m is the m-th element of the array in\n",
       "    `choicelist` where the m-th element of the corresponding array in\n",
       "    `condlist` is True.\n",
       "\n",
       "See Also\n",
       "--------\n",
       "where : Return elements from one of two arrays depending on condition.\n",
       "take, choose, compress, diag, diagonal\n",
       "\n",
       "Examples\n",
       "--------\n",
       ">>> x = np.arange(6)\n",
       ">>> condlist = [x<3, x>3]\n",
       ">>> choicelist = [x, x**2]\n",
       ">>> np.select(condlist, choicelist, 42)\n",
       "array([ 0,  1,  2, 42, 16, 25])\n",
       "\n",
       ">>> condlist = [x<=4, x>3]\n",
       ">>> choicelist = [x, x**2]\n",
       ">>> np.select(condlist, choicelist, 55)\n",
       "array([ 0,  1,  2,  3,  4, 25])\n",
       "\u001b[1;31mClass docstring:\u001b[0m\n",
       "Class to wrap functions with checks for __array_function__ overrides.\n",
       "\n",
       "All arguments are required, and can only be passed by position.\n",
       "\n",
       "Parameters\n",
       "----------\n",
       "dispatcher : function or None\n",
       "    The dispatcher function that returns a single sequence-like object\n",
       "    of all arguments relevant.  It must have the same signature (except\n",
       "    the default values) as the actual implementation.\n",
       "    If ``None``, this is a ``like=`` dispatcher and the\n",
       "    ``_ArrayFunctionDispatcher`` must be called with ``like`` as the\n",
       "    first (additional and positional) argument.\n",
       "implementation : function\n",
       "    Function that implements the operation on NumPy arrays without\n",
       "    overrides.  Arguments passed calling the ``_ArrayFunctionDispatcher``\n",
       "    will be forwarded to this (and the ``dispatcher``) as if using\n",
       "    ``*args, **kwargs``.\n",
       "\n",
       "Attributes\n",
       "----------\n",
       "_implementation : function\n",
       "    The original implementation passed in."
      ]
     },
     "metadata": {},
     "output_type": "display_data"
    }
   ],
   "source": [
    "np.select?"
   ]
  },
  {
   "cell_type": "code",
   "execution_count": 138,
   "id": "489baf6b-093f-4e55-b056-d666244e4cee",
   "metadata": {},
   "outputs": [
    {
     "data": {
      "text/plain": [
       "array([100. ,  64. ,  36. ,  16. ,   4. ,   0. ,   0.4,   0.8,   1.2,\n",
       "         1.6,   2. ])"
      ]
     },
     "execution_count": 138,
     "metadata": {},
     "output_type": "execute_result"
    }
   ],
   "source": [
    "np.select([niz < -1, niz < 2, niz >= 2], [niz**2, niz**3, niz / 5])"
   ]
  },
  {
   "attachments": {},
   "cell_type": "markdown",
   "id": "fa49e952",
   "metadata": {},
   "source": [
    "**np.unique** je funkcija koja vraća **jedinstvene** elemente niza"
   ]
  },
  {
   "cell_type": "code",
   "execution_count": 141,
   "id": "96d92649",
   "metadata": {},
   "outputs": [
    {
     "data": {
      "text/plain": [
       "array([0, 1, 2, 3, 4])"
      ]
     },
     "execution_count": 141,
     "metadata": {},
     "output_type": "execute_result"
    }
   ],
   "source": [
    "niz = np.random.randint(5, size=20)\n",
    "np.unique(niz)"
   ]
  },
  {
   "attachments": {},
   "cell_type": "markdown",
   "id": "7c91d8a7",
   "metadata": {},
   "source": [
    "Prije nego krenemo s naprednom primjenom NumPy biblioteke, upoznajmo se s još nekoliko funkcija vezanih uz nizove:\n",
    "- *np.fliplr* - sortira redove obrnutim redoslijedom - *fliplr = Flip L(eft)R(ight)*\n",
    "- *np.flipud* - sortira stupce obrnutim redoslijedom - *flipud = Flip U(p)D(own)*\n",
    "- *np.sort* - sortira niz po zadanim osima\n",
    "- *np.ndarray.sort* - sortira niz tako da ga modificira."
   ]
  },
  {
   "cell_type": "code",
   "execution_count": 142,
   "id": "d2a92c77",
   "metadata": {},
   "outputs": [
    {
     "data": {
      "text/plain": [
       "array([[ 1,  2,  3,  4,  5,  6,  7,  8],\n",
       "       [ 9, 10, 11, 12, 13, 14, 15, 16],\n",
       "       [17, 18, 19, 20, 21, 22, 23, 24],\n",
       "       [25, 26, 27, 28, 29, 30, 31, 32],\n",
       "       [33, 34, 35, 36, 37, 38, 39, 40],\n",
       "       [41, 42, 43, 44, 45, 46, 47, 48],\n",
       "       [49, 50, 51, 52, 53, 54, 55, 56],\n",
       "       [57, 58, 59, 60, 61, 62, 63, 64]])"
      ]
     },
     "execution_count": 142,
     "metadata": {},
     "output_type": "execute_result"
    }
   ],
   "source": [
    "niz = np.arange(1, 65).reshape(8, 8)\n",
    "niz"
   ]
  },
  {
   "cell_type": "code",
   "execution_count": 143,
   "id": "6f85a814",
   "metadata": {},
   "outputs": [
    {
     "data": {
      "text/plain": [
       "array([[ 8,  7,  6,  5,  4,  3,  2,  1],\n",
       "       [16, 15, 14, 13, 12, 11, 10,  9],\n",
       "       [24, 23, 22, 21, 20, 19, 18, 17],\n",
       "       [32, 31, 30, 29, 28, 27, 26, 25],\n",
       "       [40, 39, 38, 37, 36, 35, 34, 33],\n",
       "       [48, 47, 46, 45, 44, 43, 42, 41],\n",
       "       [56, 55, 54, 53, 52, 51, 50, 49],\n",
       "       [64, 63, 62, 61, 60, 59, 58, 57]])"
      ]
     },
     "execution_count": 143,
     "metadata": {},
     "output_type": "execute_result"
    }
   ],
   "source": [
    "np.fliplr(niz)"
   ]
  },
  {
   "cell_type": "code",
   "execution_count": 144,
   "id": "83a8c6b8",
   "metadata": {},
   "outputs": [
    {
     "data": {
      "text/plain": [
       "array([[57, 58, 59, 60, 61, 62, 63, 64],\n",
       "       [49, 50, 51, 52, 53, 54, 55, 56],\n",
       "       [41, 42, 43, 44, 45, 46, 47, 48],\n",
       "       [33, 34, 35, 36, 37, 38, 39, 40],\n",
       "       [25, 26, 27, 28, 29, 30, 31, 32],\n",
       "       [17, 18, 19, 20, 21, 22, 23, 24],\n",
       "       [ 9, 10, 11, 12, 13, 14, 15, 16],\n",
       "       [ 1,  2,  3,  4,  5,  6,  7,  8]])"
      ]
     },
     "execution_count": 144,
     "metadata": {},
     "output_type": "execute_result"
    }
   ],
   "source": [
    "np.flipud(niz)"
   ]
  },
  {
   "cell_type": "code",
   "execution_count": 146,
   "id": "309005ed",
   "metadata": {},
   "outputs": [
    {
     "data": {
      "text/plain": [
       "array([[ 1,  2,  3,  4,  5,  6,  7,  8],\n",
       "       [ 9, 10, 11, 12, 13, 14, 15, 16],\n",
       "       [17, 18, 19, 20, 21, 22, 23, 24],\n",
       "       [25, 26, 27, 28, 29, 30, 31, 32],\n",
       "       [33, 34, 35, 36, 37, 38, 39, 40],\n",
       "       [41, 42, 43, 44, 45, 46, 47, 48],\n",
       "       [49, 50, 51, 52, 53, 54, 55, 56],\n",
       "       [57, 58, 59, 60, 61, 62, 63, 64]])"
      ]
     },
     "execution_count": 146,
     "metadata": {},
     "output_type": "execute_result"
    }
   ],
   "source": [
    "np.sort(niz, axis=0)"
   ]
  },
  {
   "cell_type": "code",
   "execution_count": 147,
   "id": "7d37f269",
   "metadata": {},
   "outputs": [
    {
     "data": {
      "text/plain": [
       "array([[ 1,  2,  3,  4,  5,  6,  7,  8],\n",
       "       [ 9, 10, 11, 12, 13, 14, 15, 16],\n",
       "       [17, 18, 19, 20, 21, 22, 23, 24],\n",
       "       [25, 26, 27, 28, 29, 30, 31, 32],\n",
       "       [33, 34, 35, 36, 37, 38, 39, 40],\n",
       "       [41, 42, 43, 44, 45, 46, 47, 48],\n",
       "       [49, 50, 51, 52, 53, 54, 55, 56],\n",
       "       [57, 58, 59, 60, 61, 62, 63, 64]])"
      ]
     },
     "execution_count": 147,
     "metadata": {},
     "output_type": "execute_result"
    }
   ],
   "source": [
    "np.sort(niz, axis=1)"
   ]
  },
  {
   "attachments": {},
   "cell_type": "markdown",
   "id": "d75392ef",
   "metadata": {},
   "source": [
    "U sljedećem poglavlju ćemo se baviti analizom stvarnih podataka, u kojemu ćemo koristiti prethodno naučene biblioteke Pandas i matplotlib. matplotlib i Pandas su biblioteke razvijene na osnovi NumPy biblioteke te ćemo ih koristiti ovisno o njihovim najjačim stranama.\n",
    "\n",
    "### Priča o najpoznatijoj matrici na svijetu - šahovskoj ploči\n",
    "\n",
    "**Šah**\n",
    "\n",
    "Najpoznatija matrica je ploča za jednu od najstarijih igara - šah. To je matrica 8x8.\n",
    "Legenda o tome kako je igra dobila ime šah je jako zanimljiva. Šah (perzijski naziv za vladara) je gledao kako njegove sluge od putujućih trgovaca kupuju namirnice, tkaninu, začine i sl. Tako je ugledao dvojicu trgovaca kako igraju neku čudnu igru. Poslao je slugu da dovede trgovca koji je donio tu igru u njegovo kraljevstvo. Šah (vladar) je zatražio od trgovca da ga nauči igrati. Kada je naučio kako se igra, šah se toliko oduševio igrom da je odlučio bogato nagraditi trgovca. Rekao mu je neka kaže što želi kao nagradu za ovu igru. Trgovac je šahu, nakon što je naveo sve one slatkorječive riječi vladarima, kao što su Vaša visosti i sl., rekao:\n",
    "\n",
    "*Želim pšenicu. Na prvo polje stavite jedno zrno pšenice. Na drugo dva zrna, na treće četiri, na četvrto dva puta više od prethodnog ... i tako do posljednjeg 64.-og polja.*\n",
    "\n",
    "Šah se jako uvrijedio jer je očekivao da će trgovac tražiti zlato, drago kamenje, skupe začine pa ga je potjerao u vrt rekavši mu da će svoju vreću pšenice dobiti za ručak. Slugama je naredio neka ga isplate i to da nikada više ne želi vidjeti tog trgovca u njegovom kraljevstvu.\n",
    "\n",
    "**PITANJE<br>\n",
    "Koliko je trgovac trebao dobiti pšenice? Napišite program koji će to izračunati. Ako znate ovu priču, svejedno dozvolite drugim kolegama neka sami pokušaju doći do odgovora i svakako napišite program.**"
   ]
  },
  {
   "cell_type": "code",
   "execution_count": 153,
   "id": "5d9fa30c",
   "metadata": {},
   "outputs": [
    {
     "name": "stdout",
     "output_type": "stream",
     "text": [
      "18446744073709551616\n",
      "46116860.18 km2\n"
     ]
    }
   ],
   "source": [
    "broj_zrna_psenice = 0\n",
    "\n",
    "for i in range(64):\n",
    "    if i == 0:\n",
    "        broj_zrna_psenice += 1\n",
    "    if i == 1:\n",
    "        broj_zrna_psenice += 2\n",
    "    else:\n",
    "        broj_zrna_psenice *= 2\n",
    "\n",
    "print(broj_zrna_psenice)\n",
    "print(round(broj_zrna_psenice / (40 * 100 * 100 * 1000000), 2), 'km2')"
   ]
  },
  {
   "attachments": {},
   "cell_type": "markdown",
   "id": "bfeba0b6",
   "metadata": {},
   "source": [
    "Rezultat je: 18.446.744.073.709.551.616,00!<br>\n",
    "Zna li netko pročitati ovaj broj?\n",
    "\n",
    "Prošlo je nekoliko dana i šah je u vrtu vidio trgovca. Zvao je sluge i pitao što on još radi u njegovom kraljevstvu, odnosno zar nije isplaćen. Sluge su mu rekle da su njegovi matematičari izračunali:\n",
    "- da svaki klas pšenice ima 40 zrna (četiri puta po 10 zrna - pogledajte sliku na internetu)\n",
    "- da na jednom kvadratnom centimetru raste jedna stabljika pšenice s jednim klasom, na jednom kvadratnom metru ima 100 x 100 = 10.000,00 stabljika pšenica, dakle 400.000,00 zrna po kvadratnom metru\n",
    "- da jedan kvadratni kilometar ima 1.000.000,00 kvadratnih metara pa na jednom kvadratnom kilometru ima 400.000.000.000,00 zrna pšenice.\n",
    "\n",
    "Potrebno je posijati 46.116.860,18 (46 milijuna, 116 tisuća i 860,18) kvadratnih kilometara pšenicom da bi se trgovac isplatio. Usporedbe radi, ukupna površina kontinenta Azije je 44.580.000,00 kvadratnih kilometara.\n",
    "\n",
    "Shvativši da ne može isplatiti trgovca, šah priđe trgovcu te mu se ispriča što je morao toliko čekati, ali se čekanje isplatilo. Pšenica je spremna za njegovu isplatu, ali šah ne bi volio da se trgovac osjeti prevarenim pa neka on sam izbroji svoju nagradu, a šahove sluge će biti uz njega i biti mu na usluzi dok on broji.\n",
    "\n",
    "Trgovac je znao što ga čeka pa je odgovorio šahu da mu se zahvaljuje na nagradi, da mu nagrada sada nije važna te moli šaha da mu dozvoli da odmah krene kući jer je jutros dobio glas da mu je otac smrtno bolestan te bi se želio oprostiti od njega dok još može. Šah je dozvolio odlazak trgovca te mu dao dva konja puna namirnica potrebnih za put i još nešto zlatnika sa svrhom da požuri kući ocu, ali i da svijetom širi glas o milostivosti šaha.\n",
    "\n",
    "*Napomena: legenda može odstupati od neke pisane verzije jer je ispričana po sjećanju.*"
   ]
  },
  {
   "cell_type": "code",
   "execution_count": null,
   "id": "3c6c4d8f",
   "metadata": {},
   "outputs": [],
   "source": []
  }
 ],
 "metadata": {
  "kernelspec": {
   "display_name": "Python 3 (ipykernel)",
   "language": "python",
   "name": "python3"
  },
  "language_info": {
   "codemirror_mode": {
    "name": "ipython",
    "version": 3
   },
   "file_extension": ".py",
   "mimetype": "text/x-python",
   "name": "python",
   "nbconvert_exporter": "python",
   "pygments_lexer": "ipython3",
   "version": "3.12.0"
  }
 },
 "nbformat": 4,
 "nbformat_minor": 5
}
