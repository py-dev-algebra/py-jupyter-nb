{
 "cells": [
  {
   "attachments": {},
   "cell_type": "markdown",
   "id": "9f98d696",
   "metadata": {},
   "source": [
    "<a href='http://www.algebra.hr'> <img src='../algebra_logo_color_h.png' alt=\"Algebra\" width=\"500\" /></a>\n",
    "___\n",
    "# Pandas manipulacija podacima\n",
    "\n",
    "Do sada smo naučili kako učitati podatke i kako ih prilagoditi za daljnju obradu. Pokušajmonešto pročitati iz tih podataka. Koristit ćemo se podacima iz csv datoteka:<br>\n",
    "- *Data\\Vjezbe_Primjeri\\airbnb_new_york_city_listings.csv* - sažetak podataka i mjerenja za ponudu na AirBnB u New Yorku\n",
    "- *Data\\Vjezbe_Primjeri\\airbnb_new_york_city_reviews_full.csv* - podaci o ocjenama ponude na AirBnB u New Yorku\n",
    "- *Data\\Vjezbe_Primjeri\\mall_customers.csv* - za potrebe dodatnog pojašnjavanja funkcionalnosti Pandas biblioteke - podaci su preuzeti s https://www.kaggle.com/kandij/mall-customers\n",
    "- *Data\\Vjezbe_Primjeri\\ocjene.csv* - za potrebe dodatnog pojašnjavanja funkcionalnosti Pandas biblioteke - podaci su generirani nasumično pomoću web usluge https://www.json-generator.com/ preuzete s http://insideairbnb.com/get-the-data.html.\n",
    "\n",
    "Za početak, pripremimo ih za analizu što ćemo iskoristiti kao malo ponavljanje prvog dijela gradiva o Pandas biblioteci."
   ]
  },
  {
   "cell_type": "code",
   "execution_count": null,
   "id": "075fb79c",
   "metadata": {},
   "outputs": [],
   "source": []
  },
  {
   "cell_type": "code",
   "execution_count": null,
   "id": "dc01086f",
   "metadata": {},
   "outputs": [],
   "source": []
  },
  {
   "attachments": {},
   "cell_type": "markdown",
   "id": "71eb016b",
   "metadata": {},
   "source": [
    "Prvo ćemo se upoznati s tipovima podataka u kolonama. Oni će nam pomoći u slučaju kada neki tip podatka trebamo promijeniti i kada želimo popuniti prazne ćelije podacima. Primjer je kolona \"Name\", koja je tekstualnog tipa i svako ćemo prazno polje popuniti, tako što ćemo upisati vrijednost \"Nedostaje ime\", a za numeričke tipove ćemo dodati vrijednost 0.00 ili samo 0. Sve navedeno čini veliku razliku."
   ]
  },
  {
   "cell_type": "code",
   "execution_count": null,
   "id": "ef5c565b",
   "metadata": {},
   "outputs": [],
   "source": []
  },
  {
   "attachments": {},
   "cell_type": "markdown",
   "id": "008432fc",
   "metadata": {},
   "source": [
    "Kolona \"last_review\" je object tip podataka, a u toj koloni su datumi zadnjih ocjena. Promijenimo tip podataka u toj koloni, u *DateTime* tipu podatka, pomoću metode *to_datetime()* koja kao argument prima naziv kolone.\n",
    "\n",
    "*INFORMACIJA: mogli bismo koristiti i naš \"stari\" način pomoću astype() metode kojoj kao argument predamo naziv tipa podatka. Primjer prikazan unutar komentara.*\n",
    "\n",
    "Kolona \"price\" je cjelobrojnog tipa podataka, a prikladniji je decimalni pa promijenimo tip i toj koloni."
   ]
  },
  {
   "cell_type": "code",
   "execution_count": null,
   "id": "1924cf4a",
   "metadata": {},
   "outputs": [],
   "source": []
  },
  {
   "attachments": {},
   "cell_type": "markdown",
   "id": "3b5e3b9d",
   "metadata": {},
   "source": [
    "Sada kada imamo tip podatka *DateTime*, to možemo iskoristiti za neke dodatne akcije nad DF-om, kao što su na primjer dodavanje nove kolone naziva \"last_review_year\" u kojoj će biti pohranjeni podaci o godini zadnje ocjene, ali ne i cijeli datum."
   ]
  },
  {
   "cell_type": "code",
   "execution_count": null,
   "id": "ce2b41dc",
   "metadata": {},
   "outputs": [],
   "source": []
  },
  {
   "attachments": {},
   "cell_type": "markdown",
   "id": "1486a7b4",
   "metadata": {},
   "source": [
    "Sada imamo novu kolonu, ali su u njoj pohranjeni podaci u decimalnom zapisu. Godine trebaju biti zapisane kao cijeli brojevi. To ćemo riješiti nakon provjere toga  imamo li prazne ćelije.\n",
    "\n",
    "Mi smo koristili *empty* svojstvo, ali ćemo pomoću metode dobiti malo više podataka o praznim ćelijama."
   ]
  },
  {
   "cell_type": "code",
   "execution_count": null,
   "id": "9ac9bb02",
   "metadata": {
    "scrolled": true
   },
   "outputs": [],
   "source": []
  },
  {
   "cell_type": "code",
   "execution_count": null,
   "id": "6a529137",
   "metadata": {},
   "outputs": [],
   "source": []
  },
  {
   "attachments": {},
   "cell_type": "markdown",
   "id": "c8add3d3",
   "metadata": {},
   "source": [
    "Imamo pet kolona koje imaju prazne ćelije. Kolone \"name\" i \"host_name\" su tipa object, odnosno tekstualnog tipa, dok su \"reviews_per_month\" i \"last_review_year\" decimalni brojevi, a kolona \"last_review\" je tipa *DateTime*.\n",
    "\n",
    "Unesimo podatke u prazne ćelije tako da nam kasnije ne utječu na proračune. To će najbolje biti ako za kolonu:<br>\n",
    "- \"name\" unesemo vrijednost \"No Name Listing\"\n",
    "- \"host_name\" unesemo vrijednost \"Bez imena\" ili engleski uvriježeni oblik za bezimene \"Jane Doe\" za ženske osobe ili \"John Doe\" za muške osobe, nadalje mi ćemo koristi \"J. Doe\" da ostanemo neutralni\n",
    "- \"reviews_per_month\" unesemo vrijednost 0.00 jer broj ocjena mjesečno može biti decimalni broj\n",
    "- \"last_review_year\" unesemo vrijednost 0\n",
    "- \"last_review\" unesemo vrijednost '01-01-1970' što bi odgovaralo početku UNIX vremena\n",
    "\n",
    "Za ovu aktivnost imamo na raspolaganju tri metode:<br>\n",
    "- *fillna()*\n",
    "- *replace()*\n",
    "- *interpolate()*\n",
    "\n",
    "Mi ćemo koristiti metodu *fillna()*.\n",
    "\n",
    "*INFORMACIJA: više detalja o navedenim funkcijama možete pronaći na stranici: https://pandas.pydata.org/docs/reference/api/pandas.DataFrame.fillna.html.*"
   ]
  },
  {
   "cell_type": "code",
   "execution_count": null,
   "id": "ead256cd",
   "metadata": {},
   "outputs": [],
   "source": []
  },
  {
   "attachments": {},
   "cell_type": "markdown",
   "id": "03756ef9",
   "metadata": {},
   "source": [
    "Provjerimo ponovno koliko je ćelija koje nemaju vrijednost."
   ]
  },
  {
   "cell_type": "code",
   "execution_count": null,
   "id": "9c352cf6",
   "metadata": {},
   "outputs": [],
   "source": []
  },
  {
   "attachments": {},
   "cell_type": "markdown",
   "id": "c1e91a23",
   "metadata": {},
   "source": [
    "Odlično, nema niti jedna prazna ćelija. Provjerimo opet tipove podataka jer je moguće da smo ovom promjenom napravili i neke druge koje nismo željeli."
   ]
  },
  {
   "cell_type": "code",
   "execution_count": null,
   "id": "48cbd8b6",
   "metadata": {},
   "outputs": [],
   "source": []
  },
  {
   "attachments": {},
   "cell_type": "markdown",
   "id": "5f09887c",
   "metadata": {},
   "source": [
    "Kolona \"last_review\" ponovno je tekstualni tip podatka, a \"last_review_year\" kolonu smo ionako željeli prebaciti u cjelobrojni tip umjesto decimalnog. Napravimo to za ove dvije kolone."
   ]
  },
  {
   "cell_type": "code",
   "execution_count": null,
   "id": "9c4d55b4",
   "metadata": {},
   "outputs": [],
   "source": []
  },
  {
   "attachments": {},
   "cell_type": "markdown",
   "id": "e81c63b2",
   "metadata": {},
   "source": [
    "Sada je već bolje. Prikažimo naš DF da vidimo što smo napravili."
   ]
  },
  {
   "cell_type": "code",
   "execution_count": null,
   "id": "b5e74f38",
   "metadata": {},
   "outputs": [],
   "source": []
  },
  {
   "attachments": {},
   "cell_type": "markdown",
   "id": "a5f18a17",
   "metadata": {},
   "source": [
    "Odlično, imamo jednu kolonu više od inicijalnog skupa podataka, nemamo praznih ćelija.\n",
    "\n",
    "Većinu tipova podataka smo očistili, međutim, često se dogodi da nam tekstualni podaci sadrže znakove koje računala ne prikazuju (primjer je znak za novi red '*\\n*'). Ti znakovi su tu, no kako nam ne trebaju u podacima, bilo bi ih dobro obrisati. Pandas podržava string metodu *str.strip()* nad *DataFrame* objektom. Ova metoda briše sve posebne znakove, prazna mjesta (razmaknicu ili *space*) te slične znakove na početku i na kraju tekstualnog podatka.\n",
    "\n",
    "Očistimo i tekstualne podatke pomoću *str.strip()* metode, u svakoj koloni koja ima tekstualni tip podatka.\n",
    "\n",
    "*INFORMACIJA: možemo koristiti i str.lower() i str.upper() metode ako nam trebaju. U našem slučaju one nisu korisne. Više informacija možete pronaći na stranici: https://pandas.pydata.org/docs/reference/api/pandas.Series.str.strip.html.*"
   ]
  },
  {
   "cell_type": "code",
   "execution_count": null,
   "id": "7689c92e",
   "metadata": {},
   "outputs": [],
   "source": []
  },
  {
   "cell_type": "code",
   "execution_count": null,
   "id": "7b7cf070",
   "metadata": {},
   "outputs": [],
   "source": []
  },
  {
   "attachments": {},
   "cell_type": "markdown",
   "id": "24e9ce41",
   "metadata": {},
   "source": [
    "Provjerimo jesmo li napravili neke neplanirane promjene."
   ]
  },
  {
   "cell_type": "code",
   "execution_count": null,
   "id": "55dc2e1a",
   "metadata": {},
   "outputs": [],
   "source": []
  },
  {
   "cell_type": "code",
   "execution_count": null,
   "id": "d3ba798c",
   "metadata": {},
   "outputs": [],
   "source": []
  },
  {
   "attachments": {},
   "cell_type": "markdown",
   "id": "5b2474e0",
   "metadata": {},
   "source": [
    "Napravimo još jednu preinaku u podacima kako bismo krenuli s uporabom podataka. Za početak prikažimo još jednom sve kolone:"
   ]
  },
  {
   "cell_type": "code",
   "execution_count": null,
   "id": "976ddac0",
   "metadata": {},
   "outputs": [],
   "source": []
  },
  {
   "attachments": {},
   "cell_type": "markdown",
   "id": "4e6c4cef",
   "metadata": {},
   "source": [
    "Vidimo da imamo kolone naziva \"price\" i \"minimum_nights\". Jedna kolona prikazuje cijenu najma po noćenju, a druga prikazuje koliko se minimalno noćenja mora uzeti. Ako spojimo ove dvije kolone, možemo dobiti novu koja će nam prikazati podatak o minimalnom prihodu. Dakle, ako pomnožimo cijenu s minimalnim brojem noćenja, onda je to minimalni prihod koji iznajmljivač može dobiti za svoju nekretninu.\n",
    "\n",
    "Ako nova kolona prikazuje podatak o minimalnom prihodu, onda ćemo je nazvati \"minimal_revenue\". Napravimo to."
   ]
  },
  {
   "cell_type": "code",
   "execution_count": null,
   "id": "19c85b13",
   "metadata": {},
   "outputs": [],
   "source": []
  },
  {
   "cell_type": "code",
   "execution_count": null,
   "id": "6a999e33",
   "metadata": {},
   "outputs": [],
   "source": []
  },
  {
   "cell_type": "code",
   "execution_count": null,
   "id": "ab423500",
   "metadata": {},
   "outputs": [],
   "source": []
  },
  {
   "attachments": {},
   "cell_type": "markdown",
   "id": "1774bc4f",
   "metadata": {},
   "source": [
    "Sada trebamo sve ovo ponoviti za skup podataka o ocjenama nekretnina, za skup podataka ocjena korisnika trgovačkog lanca i ocjene studenata.\n",
    "\n",
    "Krenimo s ocjenama nekretnina. Ovaj skup podataka ima kolonu s datumima pa ćemo ovaj put konverziju datuma napraviti prilikom učitavanja podataka izravno u *read_csv()* metodi, koja prima dva argumenta vezana uz konverziju datuma. To su:<br>\n",
    "- *parse_dates*\n",
    "- *date_parser.*\n",
    "\n",
    "Više detalja na: https://pandas.pydata.org/pandas-docs/stable/reference/api/pandas.read_csv.html.\n",
    "\n",
    "Mi ćemo koristiti *parse_dates* argument tako što ćemo tom argumentu proslijediti listu sa samo jednim elementom, odnosno nazivom kolone.\n",
    "\n",
    "**VJEŽBA**<br>\n",
    "**Probajte ovu opciju tako da argumentu parse_dates proslijedite Boolean vrijednost *True parse_dates=True.***"
   ]
  },
  {
   "cell_type": "code",
   "execution_count": null,
   "id": "39e8246f",
   "metadata": {},
   "outputs": [],
   "source": []
  },
  {
   "attachments": {},
   "cell_type": "markdown",
   "id": "9c1a84df",
   "metadata": {},
   "source": [
    "Imamo šest kolona i 839321 redaka.\n",
    "\n",
    "Provjerimo koji su tipovi podataka u ovih 6 kolona."
   ]
  },
  {
   "cell_type": "code",
   "execution_count": null,
   "id": "7f3cffc3",
   "metadata": {},
   "outputs": [],
   "source": []
  },
  {
   "attachments": {},
   "cell_type": "markdown",
   "id": "bdb75e78",
   "metadata": {},
   "source": [
    "Provjerom tipa podataka po kolonama, vidimo da kolona za datum ima ispravan tip podatka tako da nema potrebe za njenom konverzijom. Nakon provjere imamo li praznih ćelija, trebat ćemo samo *počistiti* tekstualne podatke u kolonama \"reviewer_name\" i \"comments\".\n",
    "\n",
    "Provjerimo imamo li praznih ćelija i koliko ih je."
   ]
  },
  {
   "cell_type": "code",
   "execution_count": null,
   "id": "24861f3f",
   "metadata": {},
   "outputs": [],
   "source": []
  },
  {
   "attachments": {},
   "cell_type": "markdown",
   "id": "c9623055",
   "metadata": {},
   "source": [
    "Ćelije bez podataka imamo u kolonama \"comments\" i \"reviewer_name\". Zato ćemo prvo popuniti te ćelije te nakon toga \"počistiti\" tekstualne podatke."
   ]
  },
  {
   "cell_type": "code",
   "execution_count": null,
   "id": "19747097",
   "metadata": {},
   "outputs": [],
   "source": []
  },
  {
   "cell_type": "code",
   "execution_count": null,
   "id": "527b61fd",
   "metadata": {},
   "outputs": [],
   "source": []
  },
  {
   "attachments": {},
   "cell_type": "markdown",
   "id": "c5b99a16",
   "metadata": {},
   "source": [
    "Sada više nemamo praznih ćelija. Vrijeme je da *očistimo* tekstualne podatke."
   ]
  },
  {
   "cell_type": "code",
   "execution_count": null,
   "id": "e80ac92a",
   "metadata": {},
   "outputs": [],
   "source": []
  },
  {
   "cell_type": "code",
   "execution_count": null,
   "id": "1299ac6b",
   "metadata": {},
   "outputs": [],
   "source": []
  },
  {
   "cell_type": "code",
   "execution_count": null,
   "id": "cd2fab2f",
   "metadata": {},
   "outputs": [],
   "source": []
  },
  {
   "attachments": {},
   "cell_type": "markdown",
   "id": "693d86fd",
   "metadata": {},
   "source": [
    "**VJEŽBA**<br>\n",
    "**Napravite skupove podataka s ocjenama korisnika trgovačkog centra te ocjenama učenika.**"
   ]
  },
  {
   "cell_type": "code",
   "execution_count": null,
   "id": "12fb678d",
   "metadata": {},
   "outputs": [],
   "source": []
  },
  {
   "cell_type": "code",
   "execution_count": null,
   "id": "11a22242",
   "metadata": {},
   "outputs": [],
   "source": []
  },
  {
   "attachments": {},
   "cell_type": "markdown",
   "id": "64958aa5",
   "metadata": {},
   "source": [
    "Vjerujem da ste svi došli do ovoga rješenja rješavajući zadatak iz uvodnog dijela o Pandas biblioteci (osim dijela o popunjavanju praznih ćelija). Ako niste, nije problem, tijekom ovog ponavljanja trebali ste doći na dio koji ćemo koristiti u nastavku."
   ]
  },
  {
   "attachments": {},
   "cell_type": "markdown",
   "id": "16660e36",
   "metadata": {},
   "source": [
    "## Manipulacija podacima - traženje informacija u podacima\n",
    "\n",
    "Sada kada smo naše podatke pripremili možemo se \"igrati\" podacima.\n",
    "\n",
    "Na početku ćemo napraviti nekoliko koraka koji bi mogli biti uključeni u pripremu podataka, ali i manipulaciju podacima. U svakom slučaju, to su koraci koji mogu pomoći u procesu \"traženja informacija u podacima\".\n",
    "\n",
    "Prvi takav korak je uklanjanje \"viška\" kolona. Često skupovi podataka imaju jako puno kolona pa se onda teško usredotočiti na neku skupinu kolona koje nam mogu dati tražene informacije. Osim toga, ponekad postoje kolone koje je sustav generirao tijekom prikupljanja podataka, ali isključivo kao potporu sustavu tijekom procesa prikpljanja podataka. Takve kolone ne predstavljaju nikakvu korist tijekom obrade podataka pa ih je onda korisno maknuti iz skupa podataka.\n",
    "\n",
    "Metoda koju ćemo koristiti je *drop()* (detalji o metodi iz Pandas dokumentacije: https://pandas.pydata.org/pandas-docs/stable/reference/api/pandas.DataFrame.drop.html?highlight=drop#pandas.DataFrame.drop).\n",
    "\n",
    "Ova metoda može se koristiti za brisanje, ne samo kolona, nego i redaka. Prvi argument je lista naziva kolone ili kolona koje želimo izbrisati. Naziv argumenta je \"labels\". Uz ovaj argument,potrebno je navesti i osi (axis) unutar kojih želimo brisati podatke.\n",
    "\n",
    "*Primjer: dataFrame.drop('naziv_kolone', axis=1).*\n",
    "\n",
    "Iz gornjeg primjera, vidimo da će se izbrisati element čiji smo naziv proslijedili, a da radi se o koloni koju definira os 1 (axis=1).\n",
    "\n",
    "Alternativu gornjem primjeru možemo dobiti korištenjem argumenta *columns=\\['naziv_kolone', ...\\] ili index=\\['naziv_indeksa', ...\\].*\n",
    "\n",
    "**Obratite pažnju na to da indeksi NE moraju nužno biti numerički, nego mogu biti i drugačijih zapisa.**"
   ]
  },
  {
   "cell_type": "code",
   "execution_count": null,
   "id": "bf957ff1",
   "metadata": {},
   "outputs": [],
   "source": []
  },
  {
   "attachments": {},
   "cell_type": "markdown",
   "id": "3149d998",
   "metadata": {},
   "source": [
    "**VJEŽBA: uklonite kolone: *'id', 'name', 'host_id', 'host_name'***."
   ]
  },
  {
   "cell_type": "code",
   "execution_count": null,
   "id": "11141d4b",
   "metadata": {},
   "outputs": [],
   "source": []
  },
  {
   "attachments": {},
   "cell_type": "markdown",
   "id": "f88ab500",
   "metadata": {},
   "source": [
    "**PITANJE **<br>\n",
    "**U tablici opet imamo kolone 'latitude', 'longitude'. To su kolone koje smo maknuli.  Kako ćemo to riješiti?**\n",
    "\n",
    "ODGOVOR: koristit ćemo *Argument inplace - bool, default False -> inplace=True.*\n",
    "\n",
    "Maknimo \"trajno\" kolone."
   ]
  },
  {
   "cell_type": "code",
   "execution_count": null,
   "id": "60530a0f",
   "metadata": {},
   "outputs": [],
   "source": []
  },
  {
   "attachments": {},
   "cell_type": "markdown",
   "id": "7702c776",
   "metadata": {},
   "source": [
    "Provjerimo jesmo li sada uklonili željene kolone."
   ]
  },
  {
   "cell_type": "code",
   "execution_count": null,
   "id": "15e2f767",
   "metadata": {},
   "outputs": [],
   "source": []
  },
  {
   "attachments": {},
   "cell_type": "markdown",
   "id": "097b2076",
   "metadata": {},
   "source": [
    "**Promjena naziva kolona**\n",
    "\n",
    "Ako dohvatimo listu kolona unutar skupa podataka \"ocjene_df\" (*ocjene_df.columns*) dobit ćemo ovaj rezultat: *Index(\\['fname', 'lname', 'gender', 'age', 'exercise', 'hours', 'grade', 'address'\\], dtype='object')*.\n",
    "\n",
    "- 'fname' - predstavlja ime učenika/ce\n",
    "- 'lname' - predstavlja prezime učenika/ce\n",
    "- 'gender' - predstavlja spol učenika/ce\n",
    "- 'age' - predstavlja dob učenika/ce\n",
    "- 'exercise' - predstavlja tjedni broj sati vježbanja učenika/ce\n",
    "- 'hours' - predstavlja tjedni broj sati učenja učenika/ce\n",
    "- 'grade'- predstavlja ocjenu učenika/ce\n",
    "- 'address'- predstavlja adresu učenika/ce\n",
    "\n",
    "Za ovaj skup podataka počeli smo koristiti hrvatske nazive pa prevedimo onda i nazive kolona u skladu s gore navedenim opisima.\n",
    "\n",
    "Promjenu naziva kolone možemo napraviti na više načina.\n",
    "\n",
    "**Način 1.**\n",
    "\n",
    "Pomoću atributa columns koji ima svaki *DataFrame* objekt. Jednostavno u listu kolona navedemo nove vrijednosti i to je to:\n",
    "*ocjene_df.columns = \\['Ime', 'Prezime', 'Spol', 'Dob', 'Sati_Tjednog_Vjezbanja', 'Sati_Tjednog_Ucenja', 'Ocjena', 'Puna_Adresa'\\].*\n",
    "\n",
    "**Način 2.**\n",
    "\n",
    "Pomoću atributa columns i Python liste.\n",
    "\n",
    "*Korak 1.*<br>\n",
    "Kreirajmo listu od naziva kolona.<br>\n",
    "*kolone = list(ocjene_df.columns.values)*\n",
    "\n",
    "*Korak 2.*<br>\n",
    "Unesemo željene izmjene.<br>\n",
    "*kolone\\[0\\] = 'Ime'*<br>\n",
    "*kolone\\[1\\] = 'Prezime'*<br>\n",
    "*kolone\\[2\\] = 'Spol'*<br>\n",
    "*kolone\\[3\\] = 'Dob'*<br>\n",
    "*kolone\\[4\\] = 'Sati_Tjednog_Vjezbanja'*<br>\n",
    "*kolone\\[5\\] = 'Sati_Tjednog_Ucenja'*<br>\n",
    "*kolone\\[6\\] = 'Ocjena'*<br>\n",
    "*kolone\\[7\\] = 'Puna_Adresa'*\n",
    "\n",
    "*Korak 3.*<br>\n",
    "Pridružimo vrijednost liste kolekciji kolona skupa podataka.<br>\n",
    "*ocjene_df.columns = kolone*\n",
    "\n",
    "**Način 3.**\n",
    "\n",
    "Pomoću metode *rename()*.\n",
    "ocjene_df.rename(<br>\n",
    "&nbsp;&nbsp;&nbsp;&nbsp;columns={<br>\n",
    "&nbsp;&nbsp;&nbsp;&nbsp;&nbsp;&nbsp;&nbsp;&nbsp;'fname': 'Ime',<br>\n",
    "&nbsp;&nbsp;&nbsp;&nbsp;&nbsp;&nbsp;&nbsp;&nbsp;'lname': 'Prezime',<br>\n",
    "&nbsp;&nbsp;&nbsp;&nbsp;&nbsp;&nbsp;&nbsp;&nbsp;'gender': 'Spol',<br>\n",
    "&nbsp;&nbsp;&nbsp;&nbsp;&nbsp;&nbsp;&nbsp;&nbsp;'age': 'Dob',<br>\n",
    "&nbsp;&nbsp;&nbsp;&nbsp;&nbsp;&nbsp;&nbsp;&nbsp;'exercise': 'Sati_Tjednog_Vjezbanja',<br>\n",
    "&nbsp;&nbsp;&nbsp;&nbsp;&nbsp;&nbsp;&nbsp;&nbsp;'hours': 'Sati_Tjednog_Ucenja',<br>\n",
    "&nbsp;&nbsp;&nbsp;&nbsp;&nbsp;&nbsp;&nbsp;&nbsp;'grade': 'Ocjena',<br>\n",
    "&nbsp;&nbsp;&nbsp;&nbsp;&nbsp;&nbsp;&nbsp;&nbsp;'address': 'Puna_Adresa'<br>\n",
    "&nbsp;&nbsp;&nbsp;&nbsp;}<br>\n",
    ")<br>\n",
    "\n",
    "**Zadatak**<br>\n",
    "**Napravite izmjene pomoću Načina 3. na skupu podataka *ocjene_df.***\n",
    "\n",
    "**Provjerite nazive kolona za preostala dva skupa podataka te ako mislite da je potrebno, predložite nove nazive kolona.**"
   ]
  },
  {
   "cell_type": "code",
   "execution_count": null,
   "id": "f8e2bbba",
   "metadata": {},
   "outputs": [],
   "source": []
  },
  {
   "attachments": {},
   "cell_type": "markdown",
   "id": "6684e149",
   "metadata": {},
   "source": [
    "Ponekad trebamo dodatno prilagoditi tekst naziva kolona tako što će nam trebati sva mala ili sva velika slova u nazivu kolona. Jedan od primjera je potreba za kreiranjem mape za svaku kolonu pa je za Linux OS prikladno koristiti sva mala slova.\n",
    "\n",
    "Znamo da su kolone unutar DataFrame objekta grupirane unutar liste pa iskoristimo Python za prolazak kroz svaki element liste i primjenimo odgovarajuću metodu nad tekstom naziva kolone.\n",
    "\n",
    "**Način 1.**\n",
    "\n",
    "Pomoću Python *map()* funkcije<br>\n",
    "*ocjene_df.columns = map(str.lower, ocjene_df.columns)*\n",
    "\n",
    "**Način 2.**\n",
    "Pomoću Python *for* petlje.<br>\n",
    "*ocjene_df.columns = \\[x.lower() for x in ocjene_df.columns\\]*\n",
    "\n",
    "**Zadatak**<br>\n",
    "**Napravite izmjene pomoću Načina 2. na skupu podataka *ocjene_df.***\n",
    "\n",
    "**Na preostala dva skupa podataka prebacite nazive kolona u velika slova.**"
   ]
  },
  {
   "cell_type": "code",
   "execution_count": null,
   "id": "1594c71a",
   "metadata": {},
   "outputs": [],
   "source": []
  },
  {
   "attachments": {},
   "cell_type": "markdown",
   "id": "f0cb2877",
   "metadata": {},
   "source": [
    "**Filtriranje podataka**\n",
    "\n",
    "Ponekad želimo izdvojiti ili dohvatiti određene podatke iz grupe. Ovisno o cilju, najčešće ćemo definirati neke uvjete. Kao i do sada, ovo možemo napraviti na više načina.\n",
    "\n",
    "Započnimo korištenjem *str.contains()* metodom. Dohvatimo sve podatke o nekretninama iz Manhattana. Prvo ćemo provjeriti ima li bilo koji podatak koji zadovoljava ovaj uvjet:"
   ]
  },
  {
   "cell_type": "code",
   "execution_count": null,
   "id": "37a01604",
   "metadata": {},
   "outputs": [],
   "source": []
  },
  {
   "attachments": {},
   "cell_type": "markdown",
   "id": "23310743",
   "metadata": {},
   "source": [
    "Rezultat je *True*, dakle postoje takvi podaci u skupu podataka. Provjerimo jesu li svi podaci s ovim uvjetom."
   ]
  },
  {
   "cell_type": "code",
   "execution_count": null,
   "id": "f6a30914",
   "metadata": {},
   "outputs": [],
   "source": []
  },
  {
   "attachments": {},
   "cell_type": "markdown",
   "id": "dc4c9f74",
   "metadata": {},
   "source": [
    "Za ovaj skup podataka je očekivano, ali je ponekad korisno provjeriti jer ako svi podaci zadovoljavaju određeni uvjet, onda nema potrebe za filtriranjem. Probajmo dohvatiti u kojim redovima su podaci koji ispunjavaju traženi uvjet."
   ]
  },
  {
   "cell_type": "code",
   "execution_count": null,
   "id": "121c73b5",
   "metadata": {},
   "outputs": [],
   "source": []
  },
  {
   "attachments": {},
   "cell_type": "markdown",
   "id": "7032b330",
   "metadata": {},
   "source": [
    "Dobili smo samo podatak ispunjava li redak uvjet ili ne. Međutim, za dohvat svih podataka u retku, trebamo se koristiti svojstvom *loc\\[\\]* koje kao argument prima listu Boolean vrijednosti. Napravimo to, a kao vrijednost argumenta  predat ćemo gornju liniju koda te dodati uvjet da je jednako *True*, kako nam ne bi vratio sve."
   ]
  },
  {
   "cell_type": "code",
   "execution_count": null,
   "id": "17807f70",
   "metadata": {},
   "outputs": [],
   "source": []
  },
  {
   "attachments": {},
   "cell_type": "markdown",
   "id": "165cc338",
   "metadata": {},
   "source": [
    "**Zadatak**<br>\n",
    "**Iz skupa podataka o ocjenama, prikažite samo retke učenika s ocjenama većim od 70.\n",
    "Dodajte filter i po spolu.**<br>\n",
    "**VAŽNO: koristit ćemo znakove za logičke operacije iz C programskog jezika:**\n",
    "- **& - and**\n",
    "- **| - or.**"
   ]
  },
  {
   "cell_type": "code",
   "execution_count": null,
   "id": "102beb62",
   "metadata": {},
   "outputs": [],
   "source": []
  },
  {
   "attachments": {},
   "cell_type": "markdown",
   "id": "3ecfe01a",
   "metadata": {},
   "source": [
    "**Statistička obrada podataka**\n",
    "\n",
    "Prošli smo filtriranje podataka i prije nego se upoznamo s grupiranjem, upoznajmo se sa statističkom obradom podataka. Statistika će nam pomoći da se još bolje upoznamo s našim podacima.\n",
    "\n",
    "Za početak provjerimo najčešće korištene statističke vrijednosti:\n",
    "- minimalna vrijednost (*min*)\n",
    "- maksimalna vrijednost (*max*)\n",
    "- raspon (*max - min*)\n",
    "- srednja vrijednosti (*mean*)\n",
    "- medijan (*median*) - vrijednost koja se nalazi u sredini nakon što podatke poredamo po veličini\n",
    "- standardna devijacija (*std*)\n",
    "- ukupan broj vrijednosti (*count*) na kolonama koje su nam najzanimljivije za ove podatke.\n",
    "\n",
    "Za skup podataka o nekretninama to su kolone:\n",
    "- *price*\n",
    "- *minimum_nights*\n",
    "- *number_of_reviews*\n",
    "- *last_review*\n",
    "- *reviews_per_month*\n",
    "- *availability_365*\n",
    "- *last_review_year*\n",
    "- *minimal_revenue*\n",
    "\n",
    "*INFORMACIJA: kada budemo koristili vizualizaciju podataka, onda ćemo ove vrijednosti prikazati grafički pa će biti puno lakše uočiti neke granične vrijednosti.*"
   ]
  },
  {
   "cell_type": "code",
   "execution_count": null,
   "id": "f2efc96d",
   "metadata": {},
   "outputs": [],
   "source": []
  },
  {
   "attachments": {},
   "cell_type": "markdown",
   "id": "5a090c91",
   "metadata": {},
   "source": [
    "**VJEŽBA**<br>\n",
    "**Dovršite analizu za preostale kolone.**\n",
    "\n",
    "Srećom, Pandas ima ugrađenu funkciju *describe()* koja objedinjuje većinu gore navedene statističke vrijednosti."
   ]
  },
  {
   "cell_type": "code",
   "execution_count": null,
   "id": "ecd6b14e",
   "metadata": {},
   "outputs": [],
   "source": []
  },
  {
   "attachments": {},
   "cell_type": "markdown",
   "id": "4383e254",
   "metadata": {},
   "source": [
    "Možemo dodati i argument *include='all'* koji uključuje sve dostupne izračune."
   ]
  },
  {
   "cell_type": "code",
   "execution_count": null,
   "id": "40164d26",
   "metadata": {},
   "outputs": [],
   "source": []
  },
  {
   "attachments": {},
   "cell_type": "markdown",
   "id": "eaf9722e",
   "metadata": {},
   "source": [
    "*INFORMACIJA: dodajte traženi argument.*\n",
    "\n",
    "Gore navedeni statistički izračuni vrijede za sve kolone ili za sve retke unutar neke kolone (serije). Primjenimo stečeno znanje o statističkim izračunima na ono što smo već naučili o filtriranju podataka."
   ]
  },
  {
   "cell_type": "code",
   "execution_count": null,
   "id": "905f0476",
   "metadata": {},
   "outputs": [],
   "source": []
  },
  {
   "attachments": {},
   "cell_type": "markdown",
   "id": "828957e4",
   "metadata": {},
   "source": [
    "**Sortiranje i grupiranje podataka**\n",
    "\n",
    "Često podatke trebamo sortirati po veličini, od najmanje prema najvećoj ili obrnuto. To radimo pomoću metode *sort_values()* koja ima dva najvažnija parametra:\n",
    "- *by* - listu kolona koje želimo sortirati i\n",
    "- *ascending* - koji određuje je li sortiranje od manje prema većoj vrijednosti ili obrnuto."
   ]
  },
  {
   "cell_type": "code",
   "execution_count": null,
   "id": "c9e45b49",
   "metadata": {},
   "outputs": [],
   "source": []
  },
  {
   "attachments": {},
   "cell_type": "markdown",
   "id": "8e817eab",
   "metadata": {},
   "source": [
    "Rekli smo da možemo sortirati više kolona. Jednostavno navedimo više kolona kao vrijednost *by* parametra."
   ]
  },
  {
   "cell_type": "code",
   "execution_count": null,
   "id": "a635c7a7",
   "metadata": {},
   "outputs": [],
   "source": []
  },
  {
   "attachments": {},
   "cell_type": "markdown",
   "id": "1c2c8875",
   "metadata": {},
   "source": [
    "**ZADATAK**<br>\n",
    "**Sortirajte jednu ili više kolona iz grupa podataka o nekretninama i njihovim ocjenama (*listings_df*, *reviews_df*).**\n",
    "\n",
    "**Grupiranje podataka**\n",
    "\n",
    "Podatke često grupiramo po nekoj kategoriji. Na primjer, svi apartmani ili svi učenici neke dobi. Za tu grupu podataka onda napravimo određeni statistički izračun (srednja vrijednost, medijan i sl.).\n",
    "\n",
    "Iz primjera niže, prvo smo izdvojili tri kolone, od kojih smo onda napravili grupiranje po tipu nekretnine i za svaku od tih grupa smo izračunali srednju vrijednost.\n",
    "\n",
    "*INFORMACIJA: ukoliko ste \"izgubili\" kolonu 'minimal_revenue', a može se dogoditi jer radimo u jednom velikom Python programu, ponovite njezino kreiranje. Ovo se može dogoditi zato što radimo dosta primjera, često pokrećemo različite ćelije i to ne nužno onim redoslijedom kako smo ih napisali pa zbog toga može doći do grešaka. U stvarnom životu, kada radite s jednom skupinom podataka, odmah je razdvojite na manje cjeline i onda na svakoj manjoj cjelini radite zasebno.*"
   ]
  },
  {
   "cell_type": "code",
   "execution_count": null,
   "id": "022c32b2",
   "metadata": {},
   "outputs": [],
   "source": []
  },
  {
   "attachments": {},
   "cell_type": "markdown",
   "id": "47199305",
   "metadata": {},
   "source": [
    "Podatke možemo grupirati, ne samo u jednoj koloni, nego u više njih."
   ]
  },
  {
   "cell_type": "code",
   "execution_count": null,
   "id": "812d81c5",
   "metadata": {},
   "outputs": [],
   "source": []
  },
  {
   "attachments": {},
   "cell_type": "markdown",
   "id": "59d046ad",
   "metadata": {},
   "source": [
    "**ZADATAK**<br>\n",
    "**Grupirajte jednu ili više kolona iz grupa podataka o ocjenama učenika.**\n",
    "\n",
    "**Korelacija između podataka u kolonama**\n",
    "\n",
    "Često ćemo željeti otkriti u kakvoj su vezi podaci iz jedne kolone s podacima iz druge, odnosno postoji li nekakva korelacija između njih. Na primjer, broj sati učenja i ocjena mogu biti u korelaciji, ali ime i ocjena sigurno ne bi trebali imati međusobni utjecaj, odnosno korelaciju.\n",
    "\n",
    "Pandas ima ugrađenu metodu nad *DataFrame* objektom naziva *corr()*. Ova metoda vraća vrijednosti do 1 do -1. Ako je korelacija između dviju kolona visoka, onda će vrijednost biti 1 ili jako blizu jedinice, a ako kolone nisu u korelaciji, onda će vrijednost biti negativna, odnosno bit će blizu minus jedan.\n",
    "\n",
    "Pogledajmo kako *corr()* metoda radi na skupu podataka s ocjenama učenika."
   ]
  },
  {
   "cell_type": "code",
   "execution_count": null,
   "id": "4da9d9b2",
   "metadata": {},
   "outputs": [],
   "source": []
  },
  {
   "attachments": {},
   "cell_type": "markdown",
   "id": "77592504",
   "metadata": {},
   "source": [
    "U tabeli se vidi da najveću vrijednost (0.801955) imaju kolone ocjena i *sati_tjednog_ucenja*. Zatim kolone *ocjena* i *sati_tjednog_vjezbanja*.\n",
    "\n",
    "**ZADATAK**<br>\n",
    "**Pronađite korelacije za skupine podataka o nekretninama i njihovim ocjenama (*listings_df*, *reviews_df*).**\n",
    "\n",
    "**PIVOT tabele**\n",
    "\n",
    "Pivot tabele ste vjerojatno upoznali u Microsoft Excelu. Njihova primjena je sumirati, sortirati, reorganizirati, grupirati, prebrojati sve ili prosjek podataka u tabeli.\n",
    "\n",
    "Možda ovo pomogne boljem razumijevanju pivot tabele. Pivot tabela može:\n",
    "- grupirati pojedinačne zapise, redove u kategorije\n",
    "- prebrojati elemente u svakoj kategoriji\n",
    "- sumirati vrijednosti elemenata\n",
    "- izračunati srednju vrijednost, minimum ili maksimum.\n",
    "\n",
    "Pandas ima ugrađenu metodu *pivot_table()*. Upoznajmo se s njezinim mogućnostima. Više detalja na: https://pandas.pydata.org/pandas-docs/stable/reference/api/pandas.pivot_table.html?highlight=pivot_table#pandas.pivot_table."
   ]
  },
  {
   "cell_type": "code",
   "execution_count": null,
   "id": "8a9d7d4d",
   "metadata": {},
   "outputs": [],
   "source": []
  },
  {
   "attachments": {},
   "cell_type": "markdown",
   "id": "8e77dcd5",
   "metadata": {},
   "source": [
    "Srećom, nema puno kolona, ali zamislimo da ima pa ćemo odabrati prikaz samo prosječne ocjene po spolu i dobi."
   ]
  },
  {
   "cell_type": "code",
   "execution_count": null,
   "id": "ab64d2ac",
   "metadata": {},
   "outputs": [],
   "source": []
  },
  {
   "attachments": {},
   "cell_type": "markdown",
   "id": "0cec5c7e",
   "metadata": {},
   "source": [
    "Bilo bi dobro kada bismo umjesto prosječne vrijednosti dobili najmanju vrijednost ocjene po spolu."
   ]
  },
  {
   "cell_type": "code",
   "execution_count": null,
   "id": "cdd5f0a4",
   "metadata": {},
   "outputs": [],
   "source": []
  },
  {
   "attachments": {},
   "cell_type": "markdown",
   "id": "ca12cb36",
   "metadata": {},
   "source": [
    "**ZADATAK**<br>\n",
    "**Očigledno argument *aggfunc* predstavlja vrijednost funkcije po kojoj se agregira, odnosno grupira, odnosno predstavlja statističku vrijednost koju računamo. Probajte mijenjati *aggfunc* argument nazivima statističkih metoda u Pandasu te uz kolonu ocjene, dodajte i sate tjednog učenja (otkrili smo da su u koleraciji).**\n",
    "\n",
    "Bilo bi korisno kada bismo na kraju *pivot* tabele, kao zadnji redak, imali i sumarni prikaz za sve vrijednosti određene kolone. Recimo, prosječna vrijednost za ocjene i sate tjednog učenja po spolu, ali i ukupna prosječna vrijednosti za ocjene i sate tjednog učenja BEZ obzira na spol."
   ]
  },
  {
   "cell_type": "code",
   "execution_count": null,
   "id": "3669025a",
   "metadata": {},
   "outputs": [],
   "source": []
  },
  {
   "attachments": {},
   "cell_type": "markdown",
   "id": "a691b719",
   "metadata": {},
   "source": [
    "### ZADACI ZA VJEŽBANJE\n",
    "\n",
    "Analizirajte csv datoteke:\n",
    "\n",
    "- *cars.csv*\n",
    "- *e-cars.csv*\n",
    "- *earthquakes.csv*\n",
    "\n",
    "tako da pomoću Pandas metoda (*corr(), pivot_table() ...*) izvučete neke zanimljive informacije."
   ]
  },
  {
   "cell_type": "code",
   "execution_count": null,
   "id": "c2f43a4e",
   "metadata": {},
   "outputs": [],
   "source": []
  }
 ],
 "metadata": {
  "kernelspec": {
   "display_name": "Python 3 (ipykernel)",
   "language": "python",
   "name": "python3"
  },
  "language_info": {
   "codemirror_mode": {
    "name": "ipython",
    "version": 3
   },
   "file_extension": ".py",
   "mimetype": "text/x-python",
   "name": "python",
   "nbconvert_exporter": "python",
   "pygments_lexer": "ipython3",
   "version": "3.12.0"
  }
 },
 "nbformat": 4,
 "nbformat_minor": 5
}
