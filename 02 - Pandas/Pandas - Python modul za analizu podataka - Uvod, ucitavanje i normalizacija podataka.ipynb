{
 "cells": [
  {
   "attachments": {},
   "cell_type": "markdown",
   "id": "9da116af",
   "metadata": {},
   "source": [
    "<a href='http://www.algebra.hr'> <img src='../algebra_logo_color_h.png' alt=\"Algebra\" width=\"500\" /></a>\n",
    "___\n",
    "# Pandas - Python Data Analysis Library\n",
    "\n",
    "Znamo da Python ima nekoliko tipova podataka koji se odnose na kolekcije. To su liste, rječnici, n-terci. Rad s ovim tipovima podataka nije tako brz kao u jezicima baziranim na C-u ili u Fortranu. Zbog toga su nastale biblioteke koje imaju učinkovitost kao da su pisane u C-u ili Fortranu, a istovremeno imaju jednostavnost pisanja kôda kao u Pythonu.\n",
    "\n",
    "Pandas je jedna od njih. To je Python biblioteka za analizu i manipulaciju podataka, strukturiranih u obliku  tablice. Pandas koristi NumPy biblioteku kao podlogu. NumPy ćemo upoznati kasnije, a njegova osnovna karakteristika je također rad s tabličnim tipom podataka koji može pohraniti samo podatke koji se zbrajaju i množe (najčešće brojeve). Pandas, s druge strane, također radi s tabličnim tipom podataka, ali za razliku od NumPy biblioteke, nema uvjet koji se tip podatka može pohraniti u tablici."
   ]
  },
  {
   "attachments": {},
   "cell_type": "markdown",
   "id": "fc707058",
   "metadata": {},
   "source": [
    "Pandas je jako korisna biblioteka i ovo su samo neke od situacija u kojima se koristi:<br>\n",
    "- upravljanje podacima koji nedostaju u tablicama s brojevima (na njihova mjesta dodaje *NaN - Not a Number*)\n",
    "- mogućnost promjene veličine objekta tako što se dodaju ili oduzimaju kolone iz *DataFrame* objekta\n",
    "- fleksibilno, a opet učinkovito grupiranje podataka koje omogućava modifikacije kao što su podjela, dodavanje, kombiniranje...\n",
    "- jednostavna konverzija Python i NumPy struktura podataka, bez obzira na način indeksacije izvornih objekata u *DateFrame* objekt\n",
    "- mogućnost izdvajanja dijelova podataka u zasebne cjeline na osnovi naziva kolona\n",
    "- promjena oblika i rotacija (eng. *pivoting*) tablica\n",
    "- uvoz i izvoz podataka iz datoteka CSV, Excel, baze podataka.\n",
    "\n",
    "... i još puno drugih."
   ]
  },
  {
   "attachments": {},
   "cell_type": "markdown",
   "id": "9835d71e",
   "metadata": {},
   "source": [
    "## Instalacija i uporaba\n",
    "\n",
    "Dolazi kao dio Anaconda distribucije, a Pandas paket moguće je instalirati i koristiti zasebno pomoću naredbe:"
   ]
  },
  {
   "cell_type": "code",
   "execution_count": 1,
   "id": "d1c9d9d5",
   "metadata": {},
   "outputs": [],
   "source": [
    "# pip install pandas"
   ]
  },
  {
   "attachments": {},
   "cell_type": "markdown",
   "id": "58e4bd70",
   "metadata": {},
   "source": [
    "Više detalja o instalaciji Pandas paketa na adresi: https://pandas.pydata.org/pandas-docs/stable/getting_started/install.html\n",
    "\n",
    "Nakon instalacije, Pandas trebamo uključiti u skriptu, odnosno program:"
   ]
  },
  {
   "cell_type": "code",
   "execution_count": null,
   "id": "b912f2f3",
   "metadata": {},
   "outputs": [],
   "source": []
  },
  {
   "attachments": {},
   "cell_type": "markdown",
   "id": "662ccfd2",
   "metadata": {},
   "source": [
    "Uobičajeno je da se Pandas dodaje tako da se preimenuje u \"pd\"."
   ]
  },
  {
   "attachments": {},
   "cell_type": "markdown",
   "id": "5d20a412",
   "metadata": {},
   "source": [
    "## Struktura podataka\n",
    "\n",
    "Već smo naveli da se Pandas koristi za rad s podacima u obliku tablice. Nudi mogućnost da se učita cijela tablica i od nje napravi Python objekt s kojim možemo raditi svakojake manipulacije na podacima unutar tog objekta."
   ]
  },
  {
   "attachments": {},
   "cell_type": "markdown",
   "id": "8f40453c",
   "metadata": {},
   "source": [
    "### *DataFrame*\n",
    "\n",
    "Tablični oblik pohrane podataka zastupljen je u bazama podataka, tabličnim kalkulatorima (Excel, CSV). Ovakav, tablični tip podataka u Pandasu naziva se ***DataFrame*** i on predstavlja tablicu koja ima više redaka i stupaca. *DataFrame* ima retke i stupce pa kažemo da ima dvije dimenzije (os 0 - stupci i os 1 - redovi).\n",
    "\n",
    "<img src='./01_table_dataframe.svg' alt=\"DataFrame\" width=\"500\" />\n",
    "<center>Slika je preuzeta s:<br >\n",
    "<a href='https://pandas.pydata.org/pandas-docs/stable/getting_started/intro_tutorials/01_table_oriented.html'> Pandas Documentation </a><center><br >"
   ]
  },
  {
   "attachments": {},
   "cell_type": "markdown",
   "id": "a1f9cf58",
   "metadata": {},
   "source": [
    "#### Kreiranje *DataFrame* objekta\n",
    "\n",
    "Kreirajmo jedan *DataFrame* da nam bude malo jasnije.\n",
    "\n",
    "Prvo ćemo uključiti Pandas biblioteku."
   ]
  },
  {
   "cell_type": "code",
   "execution_count": null,
   "id": "281e8bb7",
   "metadata": {},
   "outputs": [],
   "source": []
  },
  {
   "attachments": {},
   "cell_type": "markdown",
   "id": "7158507e",
   "metadata": {},
   "source": [
    "**NAPOMENA:** Mi ćemo u ovom slučaju kreirati jednu varijablu tipa *dict* i od nje ćemo kreirati tablicu. Vrijednost ključeva rječnika koristit će se kao nazivi stupaca, a kao vrijednost ćemo imati liste čiji će elementi biti dodijeljeni u redove svakog stupca. **Neki elementi lista su namjerno izbačeni, odnosno neke liste imaju manji broj članova!**"
   ]
  },
  {
   "cell_type": "code",
   "execution_count": null,
   "id": "267c1b77",
   "metadata": {},
   "outputs": [],
   "source": []
  },
  {
   "attachments": {},
   "cell_type": "markdown",
   "id": "0c90bebe",
   "metadata": {},
   "source": [
    "Sada možemo kreirati jednu varijablu u koju ćemo pohraniti našu tablicu pretvorenu u Python objekt, a koju ćemo dalje nazivati *DataFrame*. Dodatna informacija: često ćete u primjerima na internetu naći da se ove varijable nazivaju generičkim nazivom *df* kao *DataFrame*."
   ]
  },
  {
   "cell_type": "code",
   "execution_count": null,
   "id": "651f8fed",
   "metadata": {},
   "outputs": [],
   "source": []
  },
  {
   "attachments": {},
   "cell_type": "markdown",
   "id": "173b27a6",
   "metadata": {},
   "source": [
    "Obratite pažnju na prvu kolonu s brojevima od 0 do 4. To je kolona s indeksima redaka. Pandas je kolonu s indeksima sam kreirao. Kasnije ćemo se upoznati s mogućnostima prilagodbe ove opcije.\n",
    "\n",
    "Isto tako, nismo morali koristiti print() funkciju za ispis, nego je bilo dovoljno samo navesti naziv *DataFrame* objekta i dobili smo formatirani ispis našeg rječnika u obliku tablice.\n",
    "\n",
    "Vratit ćemo se na detaljne primjere rada s *DataFrame* objektom malo kasnije."
   ]
  },
  {
   "attachments": {},
   "cell_type": "markdown",
   "id": "13097dc7",
   "metadata": {},
   "source": [
    "### Pandas *Series* / Serija\n",
    "\n",
    "Drugi oblik podataka, za čiju obradu se koristi Pandas je *Series* ili serija kako ćemo je mi zvati. Serija predstavlja stupac u *DataFrame* tablici i zbog toga ima samo jednu dimenziju (os 0)."
   ]
  },
  {
   "cell_type": "markdown",
   "id": "83c030b8",
   "metadata": {},
   "source": [
    "<img src='./01_table_series.svg' alt=\"DataFrame\" heght=\"200\" />\n",
    "<center>Slika je preuzeta s:<br >\n",
    "<a href='https://pandas.pydata.org/pandas-docs/stable/getting_started/intro_tutorials/01_table_oriented.html'> Pandas Documentation </a><center><br >\n"
   ]
  },
  {
   "attachments": {},
   "cell_type": "markdown",
   "id": "2eb14d59",
   "metadata": {},
   "source": [
    "#### Kreiranje Serije\n",
    "\n",
    "Rekli smo da je serija jednodimenzionalni Pandas objekt, jednostavnije, to je jedan stupac neke tablice ili *DataFrame* objekta. Seriju možemo kreirati na više načina pa krenimo s najčešćim, odnosno kreiranjem iz kolone prethodno kreiranog *DataFrame* objekta.\n",
    "\n",
    "Uzet ćemo za primjer kolonu 3 i od nje kreirati seriju."
   ]
  },
  {
   "cell_type": "code",
   "execution_count": null,
   "id": "212fe41d",
   "metadata": {},
   "outputs": [],
   "source": []
  },
  {
   "attachments": {},
   "cell_type": "markdown",
   "id": "c1dd6645",
   "metadata": {},
   "source": [
    "U liniji 1 gornje skripte, trebali biste prepoznati sintaksu za dohvat \"vrijednosti\" rječnika koja je pohranjena pod \"ključem\" navedenim u uglatim zagradama. *DataFrame* smo kreirali na osnovi rječnika, za dohvat jednog objekta *DataFramea* koristimo njegov naziv i ključ pod kojim je stupac pohranjen.\n",
    "\n",
    "**Važno je zapamtiti: ovo je samo sintaksa za pristup stupcu *DataFrame* objekta, ali ovdje se NE radi o rječniku, već o objektu koji je Pandas *DataFrame* tip podatka!**\n",
    "\n",
    "Primijetite još da serija nema naslov nego samo vrijednosti, odnosno na kraju, u zadnjem redu ispisa, naveden je naziv serije preuzet od naziva kolone *DataFramea*.\n",
    "\n",
    "Kreirajmo novi Pandas serijski objekt koji nije vezan uz *DataFrame*."
   ]
  },
  {
   "cell_type": "code",
   "execution_count": null,
   "id": "936df1c2",
   "metadata": {},
   "outputs": [],
   "source": []
  },
  {
   "attachments": {},
   "cell_type": "markdown",
   "id": "eb846c7f",
   "metadata": {},
   "source": [
    "Kreirali smo novi Pandas *Series* objekt od liste brojeva te smo mu dali ime Oznaka. Listu brojeva smo mogli kreirati zasebno u jednu varijablu te onda tu varijablu predati kao argument u *Pandas.Series()* metodu.\n",
    "\n",
    "Kako seriju nismo vezali uz kolonu nekog *DataFramea*, korisno je navesti i naziv serije pa smo za to koristili argument name. Taj naziv će se prikazati u ispisu serije. Osim naziva serije, uvijek dobijemo i podatak o tipu podataka koji su pohranjeni u seriji (*dtype*). U ovom našem slučaju to je *int64*, odnosno *Integer* ili cijeli brojevi."
   ]
  },
  {
   "attachments": {},
   "cell_type": "markdown",
   "id": "8448f55d",
   "metadata": {},
   "source": [
    "**ZADATAK**<br>\n",
    "Kreirajte nekoliko novih serija sa sljedećim tipovima podataka: *string*, decimalni brojevi, *Boolean* vrijednosti, Python liste."
   ]
  },
  {
   "cell_type": "code",
   "execution_count": null,
   "id": "c7daf227",
   "metadata": {},
   "outputs": [],
   "source": []
  },
  {
   "attachments": {},
   "cell_type": "markdown",
   "id": "ce620f4d",
   "metadata": {},
   "source": [
    "Pandas serija uvijek kreira jednu kolonu, u kojoj su indeksi retka u kojemu se čuva određeni podatak. Predefinirana vrijednost su cijeli brojevi počevši od 0 (nula). Za indekse možemo koristiti i druge opcije, recimo slova.\n",
    "\n",
    "**NAPOMENA: Broj članova liste indeksa MORA biti jednak broju članova liste koju smo predali kao *DATA* argument!**"
   ]
  },
  {
   "cell_type": "code",
   "execution_count": null,
   "id": "1dba8bf5",
   "metadata": {},
   "outputs": [],
   "source": []
  },
  {
   "attachments": {},
   "cell_type": "markdown",
   "id": "0bd39c41",
   "metadata": {},
   "source": [
    "#### Pristup i izmjena članova serije"
   ]
  },
  {
   "attachments": {},
   "cell_type": "markdown",
   "id": "f9311378",
   "metadata": {},
   "source": [
    "Kreirajmo Pandas seriju.\n",
    "\n",
    "*Dodatna informacija: mogli smo koristiti varijablu iz prethodno kreirane ćelije ovog Jupyter Notebook dokumenta, ali ovaj put ćemo napraviti iznimku da primjer bude jasniji, a u seriju ćemo dodati još elemenata (uključujući i elemente bez vrijednosti).*"
   ]
  },
  {
   "cell_type": "code",
   "execution_count": null,
   "id": "7cd72024",
   "metadata": {},
   "outputs": [],
   "source": []
  },
  {
   "attachments": {},
   "cell_type": "markdown",
   "id": "824d184e",
   "metadata": {},
   "source": [
    "Pristupimo 5. elementu serije."
   ]
  },
  {
   "cell_type": "code",
   "execution_count": null,
   "id": "9ad8ed8b",
   "metadata": {},
   "outputs": [],
   "source": []
  },
  {
   "attachments": {},
   "cell_type": "markdown",
   "id": "f8e248c3",
   "metadata": {},
   "source": [
    "Sintaksa je ista kao za Python liste. Provjerimo, vrijedi li sintaksa za dohvat više elemenata istovremeno?"
   ]
  },
  {
   "cell_type": "code",
   "execution_count": null,
   "id": "f3172cc3",
   "metadata": {},
   "outputs": [],
   "source": []
  },
  {
   "cell_type": "code",
   "execution_count": null,
   "id": "93858604",
   "metadata": {},
   "outputs": [],
   "source": []
  },
  {
   "cell_type": "code",
   "execution_count": null,
   "id": "c64f015e",
   "metadata": {},
   "outputs": [],
   "source": []
  },
  {
   "attachments": {},
   "cell_type": "markdown",
   "id": "c42da905",
   "metadata": {},
   "source": [
    "**Obratite pažnju na zadnji red u kojem je naveden naziv serije te tip podatka - i dalje se radi o istoj seriji, samo su prikazani pojedinačni elementi.**\n",
    "\n",
    "Pokušajmo pohraniti izdvojene elemente u novu varijablu i provjerimo njezin tip i naziv."
   ]
  },
  {
   "cell_type": "code",
   "execution_count": null,
   "id": "b3d7584a",
   "metadata": {},
   "outputs": [],
   "source": []
  },
  {
   "attachments": {},
   "cell_type": "markdown",
   "id": "77a6c6b2",
   "metadata": {},
   "source": [
    "Nema promjena, to je zato jer se i dalje radi o istom Pandas objektu. Kako ćemo onda kreirati novu seriju? Pokušajmo ovaj izdvojeni podskup podataka proslijediti kao *DATA* argument u *Pandas.Series()* metodu.\n",
    "\n",
    "Prije toga, bilo bi dobro koristiti *help()* metodu, koja nam može pomoći ili dati neke smjernice."
   ]
  },
  {
   "cell_type": "code",
   "execution_count": null,
   "id": "f3908d85",
   "metadata": {
    "scrolled": true
   },
   "outputs": [],
   "source": []
  },
  {
   "attachments": {},
   "cell_type": "markdown",
   "id": "3ba065ed",
   "metadata": {},
   "source": [
    "Argument *\"copy : bool, default False | Copy input data.\"* mogao bi biti zanimljiv zato jer smo sa svim dosadašnjim operacijama **uvijek čuvali reference na izvorni objekt.**"
   ]
  },
  {
   "cell_type": "code",
   "execution_count": null,
   "id": "0521e696",
   "metadata": {},
   "outputs": [],
   "source": []
  },
  {
   "attachments": {},
   "cell_type": "markdown",
   "id": "fd141c9f",
   "metadata": {},
   "source": [
    "Ako ispišemo varijablu \"serija\", vidjet ćemo da smo sada kreirali novi Pandas *Series* objekt."
   ]
  },
  {
   "cell_type": "code",
   "execution_count": null,
   "id": "ada91b21",
   "metadata": {},
   "outputs": [],
   "source": []
  },
  {
   "attachments": {},
   "cell_type": "markdown",
   "id": "6e7c9fb0",
   "metadata": {},
   "source": [
    "Čitanje, odnosno dohvat podataka i sintaksa su identične kao za Python liste. Provjerimo kako radi pridruživanje podataka, odnosno izmjena podataka pojedinačnih elemenata.\n",
    "\n",
    "Za primjer ćemo koristiti novi Pandas *Series* objekt \"podskup\" i promijenit ćemo prvi element."
   ]
  },
  {
   "cell_type": "code",
   "execution_count": null,
   "id": "1d8ceaf5",
   "metadata": {},
   "outputs": [],
   "source": []
  },
  {
   "attachments": {},
   "cell_type": "markdown",
   "id": "d84e6ca8",
   "metadata": {},
   "source": [
    "Dogodio se problem. Opis greške je \"ValueError: 0 is not in range\". Očigledno nemamo indeks 0 (nula). Podskup smo dobili od elemenata iz serije \"serija\". Ispišimo ponovno članove serije \"podskup\"."
   ]
  },
  {
   "cell_type": "code",
   "execution_count": null,
   "id": "151c89b8",
   "metadata": {},
   "outputs": [],
   "source": []
  },
  {
   "attachments": {},
   "cell_type": "markdown",
   "id": "bad5e21f",
   "metadata": {},
   "source": [
    "Prva kolona prikazuje brojeve 2 i 5 kao indekse nove Pandas serije naziva Podskup, kreirane od elemenata druge Pandas serije naziva Serija. Čuvanje indeksa može biti korisno, ali korisnije je ako za kolonu Index, koja se automatski kreira, znamo da uvijek počinje od 0. Ako se indeks kolona kreira automatski, onda se može jednostavno resetirati. Idemo to napraviti pomoću metode *reset_index()*.\n",
    "\n",
    "Prvo ćemo dohvatiti listu indeksa i listu vrijednosti (rječnik - ključ/vrijednost) kako bismo provjerili njihove vrijednosti. Ovo nije nužno raditi prije resetiranja indeksa, nego je pokazano kako se to radi, a može biti korisno pri obradi podataka."
   ]
  },
  {
   "cell_type": "code",
   "execution_count": null,
   "id": "f6f0490b",
   "metadata": {},
   "outputs": [],
   "source": []
  },
  {
   "cell_type": "code",
   "execution_count": null,
   "id": "e471f2d1",
   "metadata": {},
   "outputs": [],
   "source": []
  },
  {
   "cell_type": "code",
   "execution_count": null,
   "id": "5e198fcd",
   "metadata": {},
   "outputs": [],
   "source": []
  },
  {
   "attachments": {},
   "cell_type": "markdown",
   "id": "87c4f933",
   "metadata": {},
   "source": [
    "Provjerimo kako sada izgleda Pandas serija *podskup*."
   ]
  },
  {
   "cell_type": "code",
   "execution_count": null,
   "id": "506a5e1b",
   "metadata": {},
   "outputs": [],
   "source": []
  },
  {
   "attachments": {},
   "cell_type": "markdown",
   "id": "c5059512",
   "metadata": {},
   "source": [
    "Očigledno smo napravili izmjenu, ali tako da smo kreirali novi objekt koji nismo nigdje pohranili pa smo ga nakon završetka izvođenja skripte izgubili (provjerite koji bi to bio tip novog objekta - metoda *type()*).\n",
    "\n",
    "Naš cilj je napraviti \"trajnu\" izmjenu indeksa, ali na našem postojećem objektu. Zato u metodu *reset_index()* trebamo dodati dva argumenta:<br>\n",
    "- *inplace=True* - napraviti to nad postojećim objektom\n",
    "- *drop=True* - uz *inplace* obavezan argument, osigurava to da se postojeći indeksi odbace i kreiraju novi. \n",
    "\n",
    "Provjerimo je li pomoglo."
   ]
  },
  {
   "cell_type": "code",
   "execution_count": null,
   "id": "c5cf1654",
   "metadata": {},
   "outputs": [],
   "source": []
  },
  {
   "attachments": {},
   "cell_type": "markdown",
   "id": "fe3871c4",
   "metadata": {},
   "source": [
    "Sada je već puno bolje. Vratimo se na mijenjanje podataka u Pandas seriji. Promijenimo prvi element serije i ispišimo seriju."
   ]
  },
  {
   "cell_type": "code",
   "execution_count": null,
   "id": "fab73717",
   "metadata": {},
   "outputs": [],
   "source": []
  },
  {
   "attachments": {},
   "cell_type": "markdown",
   "id": "d05ee638",
   "metadata": {},
   "source": [
    "Probajmo promijeniti prvi element u neki podatak drugačijeg tipa, recimo u tekst."
   ]
  },
  {
   "cell_type": "code",
   "execution_count": null,
   "id": "6f466c70",
   "metadata": {},
   "outputs": [],
   "source": []
  },
  {
   "attachments": {},
   "cell_type": "markdown",
   "id": "cb5770f2",
   "metadata": {},
   "source": [
    "Dakle, možemo dodavati i druge tipove podataka. Isto kao i u Python listi."
   ]
  },
  {
   "attachments": {},
   "cell_type": "markdown",
   "id": "ceb4bd50",
   "metadata": {},
   "source": [
    "#### Filtriranje podataka\n",
    "\n",
    "Zahvaljujući činjenici da je Pandas razvijen na NumPy biblioteci, dobili smo neke funkcionalnosti nad Pandas tipovima podataka. Probajmo filtrirati podatke u seriji tako da dohvatimo samo one veće od 6."
   ]
  },
  {
   "cell_type": "code",
   "execution_count": null,
   "id": "09ef36ed",
   "metadata": {},
   "outputs": [],
   "source": []
  },
  {
   "cell_type": "code",
   "execution_count": null,
   "id": "03aacfae",
   "metadata": {},
   "outputs": [],
   "source": []
  },
  {
   "attachments": {},
   "cell_type": "markdown",
   "id": "586babcc",
   "metadata": {},
   "source": [
    "Uzmimo, na primjer, da naša serija sadrži postotke uz neke podatke. Da bismo mogli računati s postotcima,  moramo ih pretvoriti u decimalni oblik 0,nn (5% = 0,05). Umjesto da koristimo *for* petlju u Pythonu, to možemo napraviti puno jednostavnije, tako da varijablu *serija* podijelimo sa 100."
   ]
  },
  {
   "cell_type": "code",
   "execution_count": null,
   "id": "8cbfaca6",
   "metadata": {},
   "outputs": [],
   "source": []
  },
  {
   "attachments": {},
   "cell_type": "markdown",
   "id": "60b9d63c",
   "metadata": {},
   "source": [
    "Sada možemo koristiti vrijednosti podataka u seriji kao postotak.\n",
    "\n",
    "Možda ste primijetili da serija ima dosta istih brojeva. Napravimo filter koji će nam prikazati vrijednosti elemenata samo jednom, bez obzira koliko se puta taj element ponavljao."
   ]
  },
  {
   "cell_type": "code",
   "execution_count": null,
   "id": "953a9526",
   "metadata": {},
   "outputs": [],
   "source": []
  },
  {
   "attachments": {},
   "cell_type": "markdown",
   "id": "80e9eaa0",
   "metadata": {},
   "source": [
    "Dobro je znati koje elemente imamo jedinstvene u našoj seriji, ali bi bilo dobro imati i informaciju koliko puta se taj broj ponavlja. To nam omogućava metoda *value_counts()* dostupna nad Pandas *Series* objektom. \n",
    "\n",
    "Provjerimo."
   ]
  },
  {
   "cell_type": "code",
   "execution_count": null,
   "id": "ffa04215",
   "metadata": {},
   "outputs": [],
   "source": []
  },
  {
   "attachments": {},
   "cell_type": "markdown",
   "id": "f6ca6f63",
   "metadata": {},
   "source": [
    "Prvi stupac prikazuje vrijednost (jedinstvenu), a drugi stupac prikazuje koliko se puta pojavljuje ta vrijednost u seriji. Dodali smo i još jednu metodu *sort_values()* koja sortira vrijednosti serije, što se može zaključiti iz naziva metode.\n",
    "\n",
    "Ponekad želimo provjeriti postoje li u našoj seriji neki elementi. Vidjet ćemo kasnije zašto nam je to korisno."
   ]
  },
  {
   "cell_type": "code",
   "execution_count": null,
   "id": "249ce5a4",
   "metadata": {},
   "outputs": [],
   "source": []
  },
  {
   "attachments": {},
   "cell_type": "markdown",
   "id": "e131e12e",
   "metadata": {},
   "source": [
    "Ponekad je korisno umjesto *Boolean* vrijednosti *True/False* dohvatiti vrijednosti elemenata koji zadovoljavaju uvjet te njihove indekse. \n",
    "\n",
    "Čitljivije je."
   ]
  },
  {
   "cell_type": "code",
   "execution_count": null,
   "id": "84499501",
   "metadata": {},
   "outputs": [],
   "source": []
  },
  {
   "attachments": {},
   "cell_type": "markdown",
   "id": "660b2f56",
   "metadata": {},
   "source": [
    "To je dovoljno informacija o Pandas *Series* objektu. Vrijeme je za vježbu.\n",
    "\n",
    "**Zadatak**<br>\n",
    "Generirajte nasumičnih 100 brojeva te ih pohranite u Python listu. Od te liste kreirajte Pandas seriju te joj dajte nekakav naziv.\n",
    "- Provjerite, koliko ima brojeva koji se ponavljaju te koliko se puta svaki od njih ponavlja?\n",
    "- Koji je broj najveći, a koji najmanji?\n",
    "- Modificirajte podatke u seriji tako da se svedu na postotke (neka budu u rasponu od 0 do 1).\n",
    "- Promijenite vrijednosti najvećeg broja tako da je identična vrijednosti najmanjeg broja. Provjerite koji je sada najveći broj.\n",
    "\n",
    "**Zadatak**<br>\n",
    "Tekst za obradu:<br>\n",
    "*Lorem ipsum dolor sit amet, consectetur adipiscing elit, sed do eiusmod tempor incididunt ut labore et dolore magna aliqua. Ut enim ad minim veniam, quis nostrud exercitation ullamco laboris nisi ut aliquip ex ea commodo consequat. Duis aute irure dolor in reprehenderit in voluptate velit esse cillum dolore eu fugiat nulla pariatur. Excepteur sint occaecat cupidatat non proident, sunt in culpa qui officia deserunt mollit anim id est laborum.*\n",
    "\n",
    "Obradite gore navedeni tekst tako da od njega kreirate listu riječi koje imaju sva mala slova i nemaju znakove interpunkcije. Od te liste kreirajte Pandas seriju te joj dajte nekakav naziv.\n",
    "- Provjerite, koliko ima riječi koje se ponavljaju te koliko puta se svaka od njih ponavlja?\n",
    "- Provjerite koja je najduža, a koja najkraća riječ."
   ]
  },
  {
   "attachments": {},
   "cell_type": "markdown",
   "id": "6361fbe4",
   "metadata": {},
   "source": [
    "### *DataFrame*\n",
    "\n",
    "Vratimo se na *DataFrame* objekt i upoznajmo se s njegovim mogućnostima.\n",
    "\n",
    "Na početku smo kreirali jedan *DataFrame* (dalje u tekstu DF) na osnovi rječnika u kojem su podaci bili bez pravog smisla. Sada ćemo napraviti isto dok ne dođemo do dijela kada ćemo DF kreirati na osnovi podataka iz neke .csv datoteke. Koristit ćemo podatke o proizvodima (naziv, cijena, kategorija, ocjena)."
   ]
  },
  {
   "cell_type": "code",
   "execution_count": null,
   "id": "c8cb97b5",
   "metadata": {},
   "outputs": [],
   "source": []
  },
  {
   "attachments": {},
   "cell_type": "markdown",
   "id": "4ef0f939",
   "metadata": {},
   "source": [
    "Možda nam ne trebaju svi podaci, nego samo \"naziv proizvoda\" te \"cijena\". Kreirajmo DF samo od tih podataka."
   ]
  },
  {
   "cell_type": "code",
   "execution_count": null,
   "id": "5fc2d086",
   "metadata": {},
   "outputs": [],
   "source": []
  },
  {
   "attachments": {},
   "cell_type": "markdown",
   "id": "ba5ad711",
   "metadata": {},
   "source": [
    "Ovaj naš DF objekt je jednostavan, ali ćemo često raditi s puno većim tablicama preuzetim iz .csv datoteka i trebat ćemo se upoznati s tim podacima. Jedan od koraka je provjeriti nazive svih kolona."
   ]
  },
  {
   "cell_type": "code",
   "execution_count": null,
   "id": "46c14a36",
   "metadata": {},
   "outputs": [],
   "source": []
  },
  {
   "attachments": {},
   "cell_type": "markdown",
   "id": "1aa444ce",
   "metadata": {},
   "source": [
    "Onda postoji mogućnost dohvata samo vrijednosti, bez naziva kolona."
   ]
  },
  {
   "cell_type": "code",
   "execution_count": null,
   "id": "ccd1dc4f",
   "metadata": {},
   "outputs": [],
   "source": []
  },
  {
   "attachments": {},
   "cell_type": "markdown",
   "id": "a9330ab2",
   "metadata": {},
   "source": [
    "**NAPOMENA: Kasnije ćemo pojasniti tip rezultata \"array(\\[...\\])\" zato jer je vezan uz NumPy.**\n",
    "\n",
    "Možemo li možda dohvatiti i indekse kao u Pandas *Series* objektu? Provjerimo."
   ]
  },
  {
   "cell_type": "code",
   "execution_count": null,
   "id": "21520b08",
   "metadata": {},
   "outputs": [],
   "source": []
  },
  {
   "attachments": {},
   "cell_type": "markdown",
   "id": "e07818c3",
   "metadata": {},
   "source": [
    "Indeksi se kreću u rasponu od 0 (uključeno) do 12 (isključeno) i korak je 1. Dakle, od 0 do 11.\n",
    "\n",
    "Sve kolone imaju naziv preuzet iz \"ključa\" rječnika od kojeg smo kreirali DF, dok ga samo generirana kolona s indeksima nema. Dodajmo i njoj naziv \"Id\"."
   ]
  },
  {
   "cell_type": "code",
   "execution_count": null,
   "id": "7c699700",
   "metadata": {},
   "outputs": [],
   "source": []
  },
  {
   "attachments": {},
   "cell_type": "markdown",
   "id": "253854b4",
   "metadata": {},
   "source": [
    "Ako želimo izdvojiti samo jednu kolonu (Pandas seriju), to već znamo. Treba samo navesti naziv DF-a i u uglatim zagradama naziv kolone."
   ]
  },
  {
   "cell_type": "code",
   "execution_count": null,
   "id": "775e4ba6",
   "metadata": {},
   "outputs": [],
   "source": []
  },
  {
   "attachments": {},
   "cell_type": "markdown",
   "id": "f72d822a",
   "metadata": {},
   "source": [
    "Ovo je bilo lako, no što kada trebamo dohvatiti jedan ili tri reda za koje znamo njihove indekse? Možda Python sintaksa može pomoći. Provjerimo."
   ]
  },
  {
   "cell_type": "code",
   "execution_count": null,
   "id": "a650aa9b",
   "metadata": {},
   "outputs": [],
   "source": []
  },
  {
   "attachments": {},
   "cell_type": "markdown",
   "id": "a854761b",
   "metadata": {},
   "source": [
    "Ne pomaže. Ako si tablicu predočimo kao listu (redove) unutar liste (kolone), možda bismo mogli koristiti sintaksu za dvostruku listu **naziv_liste\\[kolona\\]\\[red\\]**. Provjerimo."
   ]
  },
  {
   "cell_type": "code",
   "execution_count": null,
   "id": "99917d33",
   "metadata": {},
   "outputs": [],
   "source": []
  },
  {
   "attachments": {},
   "cell_type": "markdown",
   "id": "d9aee1ba",
   "metadata": {},
   "source": [
    "Radi, ali dobivamo samo jedan podatak.\n",
    "\n",
    "Sintaksa dohvata redaka, kao u Python listama, NE radi za DF, nego dobijemo samo jedan podatak (jednu ćeliju). Radi li možda sintaksa za *slice* liste? Provjerimo tako što ćemo dohvatiti zadnjih 6 elemenata."
   ]
  },
  {
   "cell_type": "code",
   "execution_count": null,
   "id": "87b63e82",
   "metadata": {},
   "outputs": [],
   "source": []
  },
  {
   "attachments": {},
   "cell_type": "markdown",
   "id": "adb165cd",
   "metadata": {},
   "source": [
    "Ovo radi na način da i dalje koristimo *slice*, da prvo navedemo prvi element i zadnji element pa korak. Ako za korak koristimo negativan predznak, onda se krećemo u suprotnom smjeru. Važno je primijetiti da moramo ispravno definirati raspon. Najbolji način je uzeti zadnji indeks i od njega oduzeti onoliko elemenata koliko želimo dohvatiti.\n",
    "\n",
    "DF ima jedan atribut naziva *loc* (od *location*) kojem predamo *listu* s jednim ili više indeksa. Probajmo:"
   ]
  },
  {
   "cell_type": "code",
   "execution_count": null,
   "id": "8a807206",
   "metadata": {},
   "outputs": [],
   "source": []
  },
  {
   "attachments": {},
   "cell_type": "markdown",
   "id": "1ff6c573",
   "metadata": {},
   "source": [
    "#### Dodavanje i brisanje podataka\n",
    "\n",
    "Dodajmo novu kolonu u naš DF. Nazvat ćemo je 'Količina na skladištu'. Ako smo kolone dodali na osnovi ključa rječnika, onda bismo se mogli poslužiti tom sintaksom. Probat ćemo nekoliko opcija generiranja vrijednosti da vidimo kako se ponaša dodavanje kolona."
   ]
  },
  {
   "cell_type": "code",
   "execution_count": null,
   "id": "f829bfd8",
   "metadata": {},
   "outputs": [],
   "source": []
  },
  {
   "attachments": {},
   "cell_type": "markdown",
   "id": "b67e2ecf",
   "metadata": {},
   "source": [
    "Možda da dodamo listu vrijednosti u novu kolonu. Prvo ćemo probati s nekoliko brojeva da vidimo kako se ponaša pa ćemo onda probati dodatne opcije."
   ]
  },
  {
   "cell_type": "code",
   "execution_count": null,
   "id": "fa24ea49",
   "metadata": {},
   "outputs": [],
   "source": []
  },
  {
   "attachments": {},
   "cell_type": "markdown",
   "id": "066bbeae",
   "metadata": {},
   "source": [
    "***ValueError: Length of values (6) does not match length of index (12)* greška govori da moramo dodati točno onoliko brojeva koliko imamo redaka.**"
   ]
  },
  {
   "cell_type": "code",
   "execution_count": null,
   "id": "c0e32352",
   "metadata": {},
   "outputs": [],
   "source": []
  },
  {
   "attachments": {},
   "cell_type": "markdown",
   "id": "e4d4f4a0",
   "metadata": {},
   "source": [
    "Probajmo s generiranjem nasumičnih brojeva za ovu novu kolonu na stari Python način, tako što ćemo, kada budemo radili s NumPy bibliotekom, koristiti generator nasumičnih brojeva ove biblioteke koji je jednako tako učinkovit i koristan."
   ]
  },
  {
   "cell_type": "code",
   "execution_count": null,
   "id": "f736eb69",
   "metadata": {},
   "outputs": [],
   "source": []
  },
  {
   "attachments": {},
   "cell_type": "markdown",
   "id": "1b0fb120",
   "metadata": {},
   "source": [
    "Za brisanje kolone, uključujući i sadržaj kolone, koristimo komandu *del*."
   ]
  },
  {
   "cell_type": "code",
   "execution_count": null,
   "id": "0b03d7ec",
   "metadata": {},
   "outputs": [],
   "source": []
  },
  {
   "attachments": {},
   "cell_type": "markdown",
   "id": "f6b816fa",
   "metadata": {},
   "source": [
    "Već smo koristili naredbu *isin()* na Pandas *Series*. Ista naredba vrijedi i nad Pandas *DataFrame* objektima. Provjerimo, imamo li proizvod naziva Neon i pojavljuje li se negdje broj 1499.00?"
   ]
  },
  {
   "cell_type": "code",
   "execution_count": null,
   "id": "c155edd0",
   "metadata": {},
   "outputs": [],
   "source": []
  },
  {
   "attachments": {},
   "cell_type": "markdown",
   "id": "546b20b5",
   "metadata": {},
   "source": [
    "Ili čitljivije formatirano:"
   ]
  },
  {
   "cell_type": "code",
   "execution_count": null,
   "id": "e80cc8e2",
   "metadata": {},
   "outputs": [],
   "source": []
  },
  {
   "attachments": {},
   "cell_type": "markdown",
   "id": "011b711f",
   "metadata": {},
   "source": [
    "#### Čitanje i pisanje podataka\n",
    "\n",
    "Tijekom ovog seminara, podatke ćemo učitavati iz .csv datoteka. Međutim, Pandas omogućava učitavanje podataka i iz drugih izvora kao što su baze podataka, JSON datoteke i sl. Čitanje i pisanje je omogućeno preko metoda koje za čitanje koriste englesku riječ read te dodatak naziva izvora. Za .csv datoteke to je metoda *read_csv()*. Za pisanje se koriste metode koje počinju s engleskom riječi to (prema) i opet je u nastavku naziv odredišta. Za .csv datoteku, to bi bila metoda *to_csv()*.\n",
    "\n",
    "|**Čitanje**|**Pisanje**|\n",
    "|---|---|\n",
    "|read_csv|to_csv|\n",
    "|read_sql|to_sql|\n",
    "|read_json|to_JSON|\n",
    "|read_clipboard|to_clipboard|\n",
    "\n",
    "Kao što smo rekli, mi ćemo se tijekom ovog seminara koristiti .csv datotekama tako da ćemo koristiti *read_csv()* metodu, ali ćemo za demonstraciju koristiti pisanje u druge formate.\n",
    "\n",
    "Iskoristimo Python *help()* metodu za upoznavanje s dostupnim opcijama metode *read_csv()*."
   ]
  },
  {
   "cell_type": "code",
   "execution_count": null,
   "id": "097f4115",
   "metadata": {},
   "outputs": [],
   "source": []
  },
  {
   "attachments": {},
   "cell_type": "markdown",
   "id": "440164c3",
   "metadata": {},
   "source": [
    "**NAPOMENA: za daljnje primjere, vježbe i zadatke koristit ćemo .csv datoteke iz mape *Data*.**<br>\n",
    "**Sve datoteke su preuzete s javno dostupnih izvora koje svaka zemlja objavljuje na stranicama određenih statističkih zavoda. Ove datoteke namijenjene su znanstvenim istraživanjima i podučavanju.\n",
    "Postoje i neke datoteke za čije se korištenje treba platiti, ali se one ne mogu preuzeti prije nego se izvrši uplata.**\n",
    "\n",
    "Krenut ćemo s datotekom *'cars.csv'*. Idemo je učitati u *DataFrame* i prikazati."
   ]
  },
  {
   "cell_type": "code",
   "execution_count": null,
   "id": "ae85c6c4",
   "metadata": {},
   "outputs": [],
   "source": []
  },
  {
   "attachments": {},
   "cell_type": "markdown",
   "id": "1b44af7f",
   "metadata": {},
   "source": [
    "Obratite pažnju na zadnju liniju u kojoj piše \"407 rows × 1 columns\". Dobili smo samo jednu kolonu. To nije dobro. Ako pogledamo rezultat koji smo dobili preko *help* metode za *read_csv()*, vidjet ćemo da imamo na raspolaganju *sep* argument (eng. *separator ili delimiter*). CSV je skraćenica od \"*Comma-Separated Values*\", odnosno zarezom odvojenih vrijednosti. Dakle, primarni *delimiter* je zarez, a mi u našem primjeru imamo ; kao *delimiter*. \n",
    "\n",
    "Ponovimo čitanje iz CSV datoteke, ali ovaj put ćemo dodati i argument za *delimiter*."
   ]
  },
  {
   "cell_type": "code",
   "execution_count": null,
   "id": "c77c208c",
   "metadata": {},
   "outputs": [],
   "source": []
  },
  {
   "attachments": {},
   "cell_type": "markdown",
   "id": "05772213",
   "metadata": {},
   "source": [
    "Sada je već puno bolje. I dalje imamo 407 redaka, ali sada smo dobili 9 kolona.\n",
    "\n",
    "Provjerimo što ćemo dobiti ako koristimo svojstva: *columns, values i index.*"
   ]
  },
  {
   "cell_type": "code",
   "execution_count": null,
   "id": "64c94349",
   "metadata": {},
   "outputs": [],
   "source": []
  },
  {
   "cell_type": "code",
   "execution_count": null,
   "id": "5835a031",
   "metadata": {},
   "outputs": [],
   "source": []
  },
  {
   "cell_type": "code",
   "execution_count": null,
   "id": "be0e29ca",
   "metadata": {},
   "outputs": [],
   "source": []
  },
  {
   "cell_type": "code",
   "execution_count": null,
   "id": "363b5460",
   "metadata": {},
   "outputs": [],
   "source": []
  },
  {
   "attachments": {},
   "cell_type": "markdown",
   "id": "eb077662",
   "metadata": {},
   "source": [
    "Svojstva *columns* i *index* su nam korisna, dok values i nije toliko. Puno korisnije informacije možemo dobiti ako saznamo koji tip podatka se nalazi u svakoj koloni. Za to koristimo *DataFrame* svojstvo *dtypes*."
   ]
  },
  {
   "cell_type": "code",
   "execution_count": null,
   "id": "c18978dc",
   "metadata": {},
   "outputs": [],
   "source": []
  },
  {
   "attachments": {},
   "cell_type": "markdown",
   "id": "f4eb22d2",
   "metadata": {},
   "source": [
    "Tip podataka za sve kolone je \"object\", što najčešće predstavlja tekstualni tip podatka ili tip podatka nad kojim se ne mogu izvršavati matematičke operacije. Međutim, u ovom slučaju to nije točno. Postoje kolone, čak ih je većina, koje sadrže numeričke podatke.\n",
    "\n",
    "Ako malo bolje pogledate prikaz *DataFramea*, vidjet ćete da je red s indeksom 0, red u kojem su navedeni tipovi podatka za svaku kolonu. Taj red nam nije potreban. Navedene podatke možemo dobiti pomoću metoda Pandas *DataFramea*. \n",
    "\n",
    "Izbrišimo ga."
   ]
  },
  {
   "cell_type": "code",
   "execution_count": null,
   "id": "0e7f7a26",
   "metadata": {},
   "outputs": [],
   "source": []
  },
  {
   "attachments": {},
   "cell_type": "markdown",
   "id": "73aeb8c9",
   "metadata": {},
   "source": [
    "Provjerimo ponovno tip podataka u ćelijama."
   ]
  },
  {
   "cell_type": "code",
   "execution_count": null,
   "id": "69cddc1d",
   "metadata": {
    "scrolled": true
   },
   "outputs": [],
   "source": []
  },
  {
   "attachments": {},
   "cell_type": "markdown",
   "id": "5ff64fb3",
   "metadata": {},
   "source": [
    "I dalje je navedeno da se radi o 'object' tipu podataka. Pandas *DataFrame*, prilikom uvoza podataka, automatski prilagodi tip podatka, ali kako je u našem primjeru prvi podatak bio tekstualnog tipa (redak koji smo izbrisali), onda je cijela kolona ostavljena u tekstualnom tipu. U našem primjeru postoje kolone koje zaista imaju tekstualne podatke (naziv automobila u koloni *Car*) pa nije moguće koristiti naredbu *astype()* nad cijelim DF-om, već samo na pojedinačnim kolonama.\n",
    "\n",
    "Za konverziju tipa podataka, koristi se metoda *astype()* koja kao argument prihvaća naziv tipa podataka. Metoda vraća konvertirane podatke na način da ih je potrebno pohraniti.\n",
    "\n",
    "*Informativno: pokušajte pokrenuti **cars_df.astype(float).***"
   ]
  },
  {
   "cell_type": "code",
   "execution_count": null,
   "id": "7837a3b2",
   "metadata": {},
   "outputs": [],
   "source": []
  },
  {
   "attachments": {},
   "cell_type": "markdown",
   "id": "90683aa6",
   "metadata": {},
   "source": [
    "Provjerimo još jednom tipove podataka."
   ]
  },
  {
   "cell_type": "code",
   "execution_count": null,
   "id": "babd983f",
   "metadata": {},
   "outputs": [],
   "source": []
  },
  {
   "attachments": {},
   "cell_type": "markdown",
   "id": "e9e0db0d",
   "metadata": {},
   "source": [
    "Sada smo dobili kolonu koja čuva podatke o potrošnji (milja po galonu).\n",
    "\n",
    "**Zadatak**<br>\n",
    "**Napravite konverziju preostalih kolona koje čuvaju numeričke podatke.**"
   ]
  },
  {
   "cell_type": "code",
   "execution_count": null,
   "id": "36167f49",
   "metadata": {},
   "outputs": [],
   "source": []
  },
  {
   "cell_type": "code",
   "execution_count": null,
   "id": "c4ea7e53",
   "metadata": {},
   "outputs": [],
   "source": []
  },
  {
   "cell_type": "code",
   "execution_count": null,
   "id": "d1044c54",
   "metadata": {},
   "outputs": [],
   "source": []
  },
  {
   "attachments": {},
   "cell_type": "markdown",
   "id": "11699ae9",
   "metadata": {},
   "source": [
    "Svo ovo smo mogli napraviti puno jednostavnije i brže. Gornji primjer je naveden zato da bismo pokazali kako se mogu raditi konverzije pojedinačnih kolona.\n",
    "\n",
    "Vratimo se ispravnom uvozu podataka. Sada kada znamo da nam prvi red radi poteškoće, onda ćemo ga odmah tijekom uvoza izostaviti tako što ćemo koristiti argument *skiprows* koji predstavlja listu indeksa redova koje želimo izostaviti."
   ]
  },
  {
   "cell_type": "code",
   "execution_count": null,
   "id": "9053da8f",
   "metadata": {},
   "outputs": [],
   "source": []
  },
  {
   "cell_type": "code",
   "execution_count": null,
   "id": "c6d0c8ff",
   "metadata": {},
   "outputs": [],
   "source": []
  },
  {
   "attachments": {},
   "cell_type": "markdown",
   "id": "e632af14",
   "metadata": {},
   "source": [
    "Dobili smo ispravno uvezene tipove podataka u jednom redu. Ovo je jako važno kada imamo velike datoteke koje imaju jako puno redova, ali i kolona, zato je prolazak kolonu po kolonu kako bi se promijenio tip podatka zamoran, neučinkovit i podliježe greškama.\n",
    "\n",
    "*Dodatna informacija: postoje još dodatni argumenti koje ćemo upoznati kasnije ili čiju primjenu možete sami istraživati.*\n",
    "\n",
    "Sada kada smo prilagodili tip podatka u kolonama na način da nama odgovara. Nastavimo dalje s upoznavanjem s našim podacima te njihovom normalizacijom.\n",
    "\n",
    "Provjerimo imamo li prazne ćelije. To su ćelije koje ne čuvaju nikakve podatke. Za to koristimo svojstvo *empty*. Ovo svojstvo vraća True ako nađe praznu ćeliju, odnosno *False* ako nema praznih ćelija."
   ]
  },
  {
   "cell_type": "code",
   "execution_count": null,
   "id": "9a458562",
   "metadata": {},
   "outputs": [],
   "source": []
  },
  {
   "attachments": {},
   "cell_type": "markdown",
   "id": "7c2a007b",
   "metadata": {},
   "source": [
    "U našem primjeru imamo \"samo\" 406 redaka. Vidjet ćete iz kasnijih primjera da ovakve tablice imaju i po desetak tisuća redaka. Nakon uvoza podataka, koristili smo integrirani tablični prikaz DF-a koji prikazuje prvih 5 redova pa onda jedan red s po tri točkice, zadnjih pet redova te na kraju broj redova i kolona. Ponekad će i ovakav prikaz biti nejasan pa se ovi dijelovi prikaza mogu prikazati zasebno.\n",
    "\n",
    "- *head()* - prikazuje prvih pet redova, a ako kao argument dajemo cijeli broj, vratit će nam toliko redova\n",
    "- *tail()* - prikazuje zadnjih pet redova, a ako kao argument dajemo cijeli broj, vratit će nam toliko redova\n",
    "- *shape* - svojstvo koje vraća broj redaka i broj kolona u obliku n-terca (broj_redaka, broj_kolona)"
   ]
  },
  {
   "cell_type": "code",
   "execution_count": null,
   "id": "cd460187",
   "metadata": {},
   "outputs": [],
   "source": []
  },
  {
   "cell_type": "code",
   "execution_count": null,
   "id": "21990c79",
   "metadata": {},
   "outputs": [],
   "source": []
  },
  {
   "cell_type": "code",
   "execution_count": null,
   "id": "d7ca2329",
   "metadata": {},
   "outputs": [],
   "source": []
  },
  {
   "attachments": {},
   "cell_type": "markdown",
   "id": "7f35d5bc",
   "metadata": {},
   "source": [
    "**VJEŽBA Dohvatite 3., 8. i 15 prvih, odnosno zadnjih redaka.**\n",
    "\n",
    "Upoznajmo se s još jednom metodom za upoznavanje s podacima, odnosno cijelim DF-om. To je metoda *info()*."
   ]
  },
  {
   "cell_type": "code",
   "execution_count": null,
   "id": "df8dafbe",
   "metadata": {},
   "outputs": [],
   "source": []
  },
  {
   "attachments": {},
   "cell_type": "markdown",
   "id": "fba57fb6",
   "metadata": {},
   "source": [
    "Uvoz podatka u Pandas je jako opširno područje, no zajedno smo prošli najvažnije dijelove. Uvoz podataka iz drugih izvora, kao što su JSON, Excel i baze podataka (SQLite3 i sl.) nismo radili, ali se puno ne razlikuju. Za rad s bazama podataka UVIJEK trebate imati jedan objekt koji predstavlja konekciju prema bazi, taj ćete objekt trebati i za Pandas pa vodite računa da radite na način jedna tablica, jedan DF.\n",
    "\n",
    "Pisanje u datoteke je također jednostavno. Koristite metodu *to_csv()* kojoj kao argument predate naziv datoteke i to je dovoljno. Naravno, možete koristiti i neke dodatne argumente za formatiranje, izbacivanje nekih podataka i slično.\n",
    "\n",
    "**ZADACI**\n",
    "\n",
    "Uvezite, normalizirajte te dokumentirajte sljedeće skupove podataka iz mape Data\\Vjezbe_Primjeri:<br>\n",
    "- *baby_names_France_from_nat1900-2017.tsv* - .tsv ekstenzija je isto kao i .csv, samo što je *tab delimiter*\n",
    "- *e-cars.csv*\n",
    "- *mall_customers.csv*\n",
    "- *titanic_data.csv*\n",
    "- *airbnb_new_york_city_reviews.csv*\n",
    "- *airbnb_new_york_city_listings.csv*\n",
    "\n",
    "*Dodatna informacija:  dokumentacija skupa podataka predstavlja opis toga kakav je skup bio u izvornom obliku (kakve podatke je imao, koliko redaka, kolona, praznih ćelija, tipova podatka ...) te kako skup izgleda nakon normalizacije. Ovo je važan korak jer ćete ponekad trebati samo pripremiti podatke, dok će njihovu obradu raditi netko drugi.*"
   ]
  }
 ],
 "metadata": {
  "kernelspec": {
   "display_name": "Python 3 (ipykernel)",
   "language": "python",
   "name": "python3"
  },
  "language_info": {
   "codemirror_mode": {
    "name": "ipython",
    "version": 3
   },
   "file_extension": ".py",
   "mimetype": "text/x-python",
   "name": "python",
   "nbconvert_exporter": "python",
   "pygments_lexer": "ipython3",
   "version": "3.12.0"
  }
 },
 "nbformat": 4,
 "nbformat_minor": 5
}
