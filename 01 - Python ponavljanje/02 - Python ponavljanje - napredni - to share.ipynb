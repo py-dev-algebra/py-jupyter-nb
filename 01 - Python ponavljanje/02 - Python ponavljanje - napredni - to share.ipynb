{
 "cells": [
  {
   "cell_type": "markdown",
   "id": "46bac241",
   "metadata": {},
   "source": [
    "<a href='http://www.algebra.hr'> <img src='../algebra_logo_color_h.png' alt=\"Algebra\" width=\"500\" /></a>\n",
    "___\n",
    "# Python ponavljanje - Napredni dio"
   ]
  },
  {
   "attachments": {},
   "cell_type": "markdown",
   "id": "085d3b0a",
   "metadata": {},
   "source": [
    "## Funkcije\n",
    "\n",
    "Funkcije predstavljaju način organizacije i više puta korištenja istog kôda. Pravilo je takvo da ako neki dio kôda ponavljate, to je kandidat za funkciju. Funkcije unutar klasa najčešće se nazivaju metodama."
   ]
  },
  {
   "attachments": {},
   "cell_type": "markdown",
   "id": "56b0e07e",
   "metadata": {},
   "source": [
    "Za kreiranje funkcije koristimo ključnu riječ *def*, nakon koje dolazi naziv funkcije koji se po preporukama piše malim slovima. Nakon naziva funkcije, dolaze zagrade u kojima može, ali i ne mora, biti jedan ili više argumenta. Ta linija kôda završava dvotočkom kao signalom za početak novog bloka, tijela funkcije, bloka kôda, uvučenog za 4 razmaka po Python standardu."
   ]
  },
  {
   "cell_type": "code",
   "execution_count": 1,
   "id": "c8556d9b",
   "metadata": {},
   "outputs": [
    {
     "name": "stdout",
     "output_type": "stream",
     "text": [
      "05  08  09  03  08\n",
      "06  08  03  05  10\n",
      "03  04  01  07  10\n"
     ]
    }
   ],
   "source": [
    "import random\n",
    "\n",
    "\n",
    "def roll_dice(dice_sides: int = 6, nr_repeat: int = 1, nr_dices: int = 1):\n",
    "    for j in range(nr_dices):\n",
    "        for i in range(nr_repeat):\n",
    "            result = random.randint(1, dice_sides)\n",
    "            if nr_repeat == 1:\n",
    "                print(str(result).zfill(2))\n",
    "            else:\n",
    "                if i == nr_repeat - 1:\n",
    "                    print(str(result).zfill(2))\n",
    "                else:\n",
    "                    print(str(result).zfill(2), end='  ')\n",
    "\n",
    "\n",
    "roll_dice(dice_sides=10, nr_repeat=5, nr_dices=3)"
   ]
  },
  {
   "cell_type": "code",
   "execution_count": 2,
   "id": "bb097cd5-6229-4325-a351-08c98e236eb3",
   "metadata": {},
   "outputs": [
    {
     "data": {
      "text/plain": [
       "\u001b[1;31mSignature:\u001b[0m \u001b[0mstr\u001b[0m\u001b[1;33m.\u001b[0m\u001b[0mzfill\u001b[0m\u001b[1;33m(\u001b[0m\u001b[0mself\u001b[0m\u001b[1;33m,\u001b[0m \u001b[0mwidth\u001b[0m\u001b[1;33m,\u001b[0m \u001b[1;33m/\u001b[0m\u001b[1;33m)\u001b[0m\u001b[1;33m\u001b[0m\u001b[1;33m\u001b[0m\u001b[0m\n",
       "\u001b[1;31mDocstring:\u001b[0m\n",
       "Pad a numeric string with zeros on the left, to fill a field of the given width.\n",
       "\n",
       "The string is never truncated.\n",
       "\u001b[1;31mType:\u001b[0m      method_descriptor"
      ]
     },
     "metadata": {},
     "output_type": "display_data"
    }
   ],
   "source": [
    "str.zfill?"
   ]
  },
  {
   "attachments": {},
   "cell_type": "markdown",
   "id": "1d26af21",
   "metadata": {},
   "source": [
    "Nakon što smo definirali funkciju, koristimo je tako što navedemo naziv funkcije. Ako je potrebno, dodamo argumente redosljedom kako su navedeni kod deklariranja funkcije ILI navođenjem njihovog naziva te pridruživanjem vrijednosti. PONEKAD tijekom deklaracije funkcije, za neke se argumente definira predefinirana vrijednost pa za te argumente nije nužno navoditi vrijednost ako nam predefinirana vrijednost odgovara."
   ]
  },
  {
   "cell_type": "code",
   "execution_count": 3,
   "id": "e476fadd",
   "metadata": {},
   "outputs": [
    {
     "name": "stdout",
     "output_type": "stream",
     "text": [
      "Poziv funkcije s predefiniranim vrijednostima argumenata\n",
      "01\n",
      "Poziv funkcije s jednim argumentom i ostalim predefiniranim vrijednostima argumenata\n",
      "08\n",
      "Poziv funkcije s dva argumenta i ostalim predefiniranim vrijednostima argumenata\n",
      "09  07  01  08  01\n",
      "Poziv funkcije ss svim argumentima\n",
      "08  09  10  10  03\n",
      "06  01  06  03  07\n",
      "04  01  10  08  05\n"
     ]
    }
   ],
   "source": [
    "print('Poziv funkcije s predefiniranim vrijednostima argumenata')\n",
    "roll_dice()\n",
    "\n",
    "print('Poziv funkcije s jednim argumentom i ostalim predefiniranim vrijednostima argumenata')\n",
    "roll_dice(dice_sides=10)\n",
    "\n",
    "print('Poziv funkcije s dva argumenta i ostalim predefiniranim vrijednostima argumenata')\n",
    "roll_dice(dice_sides=10, nr_repeat=5)\n",
    "\n",
    "print('Poziv funkcije ss svim argumentima')\n",
    "roll_dice(dice_sides=10, nr_repeat=5, nr_dices=3)"
   ]
  },
  {
   "attachments": {},
   "cell_type": "markdown",
   "id": "ecb51571",
   "metadata": {},
   "source": [
    "**Pitanje:** koliko puta će se pojaviti brojevi: 1, 2, 3, 4, 5 ili 6 ako šesterostranu kockicu bacimo 6 milijuna puta?"
   ]
  },
  {
   "cell_type": "code",
   "execution_count": 4,
   "id": "b60aac2b",
   "metadata": {},
   "outputs": [
    {
     "name": "stdout",
     "output_type": "stream",
     "text": [
      "Broj    Broj ponavljanja\n",
      "   1              999098\n",
      "   2              999954\n",
      "   3             1000810\n",
      "   4             1001123\n",
      "   5              999306\n",
      "   6              999709\n"
     ]
    }
   ],
   "source": [
    "broj_ponavljanja_1 = 0\n",
    "broj_ponavljanja_2 = 0\n",
    "broj_ponavljanja_3 = 0\n",
    "broj_ponavljanja_4 = 0\n",
    "broj_ponavljanja_5 = 0\n",
    "broj_ponavljanja_6 = 0\n",
    "\n",
    "for i in range(6_000_000):\n",
    "    broj = random.randint(1, 6)\n",
    "\n",
    "    if broj == 1:\n",
    "        broj_ponavljanja_1 += 1\n",
    "    elif broj == 2:\n",
    "        broj_ponavljanja_2 += 1\n",
    "    elif broj == 3:\n",
    "        broj_ponavljanja_3 += 1\n",
    "    elif broj == 4:\n",
    "        broj_ponavljanja_4 += 1\n",
    "    elif broj == 5:\n",
    "        broj_ponavljanja_5 += 1\n",
    "    elif broj == 6:\n",
    "        broj_ponavljanja_6 += 1\n",
    "\n",
    "print(f'Broj{\"Broj ponavljanja\":>20}')\n",
    "print(f'{1:>4}{broj_ponavljanja_1:>20}')\n",
    "print(f'{2:>4}{broj_ponavljanja_2:>20}')\n",
    "print(f'{3:>4}{broj_ponavljanja_3:>20}')\n",
    "print(f'{4:>4}{broj_ponavljanja_4:>20}')\n",
    "print(f'{5:>4}{broj_ponavljanja_5:>20}')\n",
    "print(f'{6:>4}{broj_ponavljanja_6:>20}')\n"
   ]
  },
  {
   "attachments": {},
   "cell_type": "markdown",
   "id": "9d7d7a37",
   "metadata": {},
   "source": [
    "Kao što vidimo, svaki broj šesterostrane kockice bit će dobiven otprilike 1 milijun puta što odgovara vjerojatnosti od 1/6 za jedno bacanje ili 6.000.000/6 za 6 milijuna bacanja."
   ]
  },
  {
   "attachments": {},
   "cell_type": "markdown",
   "id": "70f31012",
   "metadata": {},
   "source": [
    "Funkcije se koriste za \"preradu\" podataka. Dakle, u funkciju preko argumenata proslijedimo neke podatke i onda funkcija \"preradi\" te podatke i \"vrati\" nam rezultat. Dakle, funkcije često imaju i *return* ključnu riječ pomoću koje \"vraćaju\" rezultat obrade podataka pridružene argumentima funkcije."
   ]
  },
  {
   "cell_type": "code",
   "execution_count": 5,
   "id": "3659037e",
   "metadata": {},
   "outputs": [],
   "source": [
    "def primjer(x, y, z=1.5):\n",
    "    if z > 1:\n",
    "        return z * (x + y)\n",
    "    else:\n",
    "        return z / (x + y)"
   ]
  },
  {
   "cell_type": "code",
   "execution_count": 6,
   "id": "4d32dd49",
   "metadata": {},
   "outputs": [
    {
     "name": "stdout",
     "output_type": "stream",
     "text": [
      "Primjer bez argumenta z 19.5\n",
      "Primjer s argumentom z 78\n",
      "Primjer s argumentom z koji je manji od 1 -0.46\n"
     ]
    }
   ],
   "source": [
    "without_z = primjer(5, 8)\n",
    "print(f'Primjer bez argumenta z {without_z}')\n",
    "\n",
    "with_z = primjer(5, 8, 6)\n",
    "print(f'Primjer s argumentom z {with_z}')\n",
    "\n",
    "with_z_lower = primjer(5, 8, -6)\n",
    "print(f'Primjer s argumentom z koji je manji od 1 {round(with_z_lower, 2)}')"
   ]
  },
  {
   "attachments": {},
   "cell_type": "markdown",
   "id": "3ebf02a7",
   "metadata": {},
   "source": [
    "**Zadatak**<br>\n",
    "**Igra na sreću s dvije šesterostrane kockice**.<br>\n",
    "*Pravila:* igrač baca dvije šesterostrane kockice. Ako je zbroj dobivenih brojeva u prvom bacanju 7 ili 11, igrač je pobijedio. Ako je zbroj dobivenih brojeva: 4, 5, 6, 8, 9 ili 10, onda taj broj postaje CILJ, odnosno igrač mora bacati kockice sve dok zbroj dobivenih brojeva ne bude CILJ. Ako je u prvom ili bilo kojem drugom bacanju igrač dobio zbroj brojeva: 2, 3 ili 16, igrač je izgubio."
   ]
  },
  {
   "cell_type": "code",
   "execution_count": 7,
   "id": "92b83ff2-d6bb-4339-84d1-1ee356eec734",
   "metadata": {},
   "outputs": [
    {
     "name": "stdout",
     "output_type": "stream",
     "text": [
      "CILJ je postavljen na 6\n"
     ]
    },
    {
     "name": "stdin",
     "output_type": "stream",
     "text": [
      "Pritisnite Enter za novo bacanje kockica... \n"
     ]
    },
    {
     "name": "stdout",
     "output_type": "stream",
     "text": [
      "Novi zbroj: 8\n"
     ]
    },
    {
     "name": "stdin",
     "output_type": "stream",
     "text": [
      "Pritisnite Enter za novo bacanje kockica... \n"
     ]
    },
    {
     "name": "stdout",
     "output_type": "stream",
     "text": [
      "Novi zbroj: 2\n"
     ]
    },
    {
     "name": "stdin",
     "output_type": "stream",
     "text": [
      "Pritisnite Enter za novo bacanje kockica... \n"
     ]
    },
    {
     "name": "stdout",
     "output_type": "stream",
     "text": [
      "Novi zbroj: 5\n"
     ]
    },
    {
     "name": "stdin",
     "output_type": "stream",
     "text": [
      "Pritisnite Enter za novo bacanje kockica... \n"
     ]
    },
    {
     "name": "stdout",
     "output_type": "stream",
     "text": [
      "Novi zbroj: 6\n",
      "Igrač je pobijedio! Zbroj brojeva: 6\n"
     ]
    }
   ],
   "source": [
    "# Neven Erceg\n",
    "import random\n",
    "\n",
    "def roll_dice():\n",
    "    return random.randint(1, 6)\n",
    "\n",
    "def play_game():\n",
    "    dice1 = roll_dice()\n",
    "    dice2 = roll_dice()\n",
    "    total = dice1 + dice2\n",
    "    \n",
    "    if total == 7 or total == 11:\n",
    "        print(\"Igrač je pobijedio! Zbroj brojeva:\", total)\n",
    "    elif total in (2, 3, 12):\n",
    "        print(\"Igrač je izgubio! Zbroj brojeva:\", total)\n",
    "    else:\n",
    "        print(\"CILJ je postavljen na\", total)\n",
    "        while True:\n",
    "            input(\"Pritisnite Enter za novo bacanje kockica...\")\n",
    "            dice1 = roll_dice()\n",
    "            dice2 = roll_dice()\n",
    "            new_total = dice1 + dice2\n",
    "            print(\"Novi zbroj:\", new_total)\n",
    "            if new_total == total:\n",
    "                print(\"Igrač je pobijedio! Zbroj brojeva:\", new_total)\n",
    "                break\n",
    "            elif new_total == 7:\n",
    "                print(\"Igrač je izgubio! Zbroj brojeva:\", new_total)\n",
    "                break\n",
    "\n",
    "play_game()"
   ]
  },
  {
   "cell_type": "code",
   "execution_count": 8,
   "id": "bfb716b5",
   "metadata": {},
   "outputs": [
    {
     "name": "stdout",
     "output_type": "stream",
     "text": [
      "CILJ je postavljen na 9\n"
     ]
    },
    {
     "name": "stdin",
     "output_type": "stream",
     "text": [
      "Pritisnite Enter za novo bacanje kockica... \n",
      "Pritisnite Enter za novo bacanje kockica... \n"
     ]
    },
    {
     "name": "stdout",
     "output_type": "stream",
     "text": [
      "Igrač je pobijedio!\n"
     ]
    },
    {
     "name": "stdin",
     "output_type": "stream",
     "text": [
      "Zelite li odigrati jos jednu igru? (Da/Ne) \n"
     ]
    }
   ],
   "source": [
    "# Nedostaje UX - nije najbolje rijesena komunikacija s korisnikom!!!\n",
    "import random\n",
    "from typing import Tuple\n",
    "\n",
    "def roll_dice() -> Tuple:\n",
    "    dice_1 = random.randint(1, 6)\n",
    "    dice_2 = random.randint(1, 6)\n",
    "    return (dice_1, dice_2)\n",
    "\n",
    "def play_game():\n",
    "    total = sum(roll_dice())\n",
    "\n",
    "    if total in (7, 11):\n",
    "        return 'POBJEDA'\n",
    "    elif total in (2, 3, 12):\n",
    "        return 'PORAZ'\n",
    "    else:\n",
    "        print(\"CILJ je postavljen na\", total)\n",
    "        while True:\n",
    "            input(\"Pritisnite Enter za novo bacanje kockica...\")\n",
    "            new_total = sum(roll_dice())\n",
    "            if new_total == total:\n",
    "                return 'POBJEDA'\n",
    "            elif new_total == 7:\n",
    "                return 'PORAZ'\n",
    "\n",
    "\n",
    "while True:\n",
    "    if play_game() == 'POBJEDA':\n",
    "        print(\"Igrač je pobijedio!\")\n",
    "    else:\n",
    "        print(\"Igrač je izgubio!\")\n",
    "\n",
    "    choice = input('Zelite li odigrati jos jednu igru? (Da/Ne)')\n",
    "    if choice.lower() != 'da':\n",
    "        break"
   ]
  },
  {
   "attachments": {},
   "cell_type": "markdown",
   "id": "19b55d2d",
   "metadata": {},
   "source": [
    "### Lokalne i globalne varijable\n",
    "\n",
    "Varijable, koje su deklarirane unutar funkcije, nazivaju se lokalne, a varijable, koje su deklarirane izvan funkcije i koristimo unutar funkcije (pomoću ključne riječi *global*), nazivamo globalne varijable."
   ]
  },
  {
   "cell_type": "code",
   "execution_count": 9,
   "id": "af5936c1",
   "metadata": {},
   "outputs": [
    {
     "name": "stdout",
     "output_type": "stream",
     "text": [
      "Lista iz funkcije [0, 1, 2, 3, 4]\n"
     ]
    }
   ],
   "source": [
    "def funkcija():\n",
    "    lista = []\n",
    "    for i in range(5):\n",
    "        lista.append(i)\n",
    "\n",
    "    print('Lista iz funkcije', lista)\n",
    "\n",
    "\n",
    "# print(lista)\n",
    "funkcija()\n",
    "# print(lista)"
   ]
  },
  {
   "attachments": {},
   "cell_type": "markdown",
   "id": "5293b1e4",
   "metadata": {},
   "source": [
    "Varijabla lista nam nije dostupna izvan bloka funkcije, ali ako naš kôd preuredimo tako da varijabla lista bude izvan bloka funkcije, imat ćemo pristup varijabli iz funkcije, ali i iz glavnog dijela programa."
   ]
  },
  {
   "cell_type": "code",
   "execution_count": 10,
   "id": "f2399725",
   "metadata": {},
   "outputs": [
    {
     "name": "stdout",
     "output_type": "stream",
     "text": [
      "Broj 0\n",
      "[]\n",
      "Broj 0\n",
      "[0, 1, 2, 3, 4]\n",
      "[0, 1, 2, 3, 4, 0, 1, 2, 3, 4]\n"
     ]
    }
   ],
   "source": [
    "broj = 0\n",
    "lista = []\n",
    "\n",
    "def funkcija():\n",
    "    # global broj\n",
    "\n",
    "    broj = 5\n",
    "    \n",
    "    for i in range(5):\n",
    "        lista.append(i)\n",
    "\n",
    "    # print('Lista iz funkcije', lista)\n",
    "\n",
    "\n",
    "print('Broj', broj)\n",
    "print(lista)\n",
    "funkcija()\n",
    "print('Broj', broj)\n",
    "print(lista)\n",
    "funkcija()\n",
    "print(lista)"
   ]
  },
  {
   "attachments": {},
   "cell_type": "markdown",
   "id": "5a3a6fc6",
   "metadata": {},
   "source": [
    "Svakim pozivom funkcije promijenili smo varijablu *lista*."
   ]
  },
  {
   "cell_type": "code",
   "execution_count": 11,
   "id": "c5a0e08e-49f2-4719-aea8-df30074d833f",
   "metadata": {},
   "outputs": [
    {
     "data": {
      "text/plain": [
       "\u001b[1;31mSignature:\u001b[0m \u001b[0mstr\u001b[0m\u001b[1;33m.\u001b[0m\u001b[0mrstrip\u001b[0m\u001b[1;33m(\u001b[0m\u001b[0mself\u001b[0m\u001b[1;33m,\u001b[0m \u001b[0mchars\u001b[0m\u001b[1;33m=\u001b[0m\u001b[1;32mNone\u001b[0m\u001b[1;33m,\u001b[0m \u001b[1;33m/\u001b[0m\u001b[1;33m)\u001b[0m\u001b[1;33m\u001b[0m\u001b[1;33m\u001b[0m\u001b[0m\n",
       "\u001b[1;31mDocstring:\u001b[0m\n",
       "Return a copy of the string with trailing whitespace removed.\n",
       "\n",
       "If chars is given and not None, remove characters in chars instead.\n",
       "\u001b[1;31mType:\u001b[0m      method_descriptor"
      ]
     },
     "metadata": {},
     "output_type": "display_data"
    }
   ],
   "source": [
    "str.rstrip?"
   ]
  },
  {
   "cell_type": "code",
   "execution_count": 12,
   "id": "350fa0fd",
   "metadata": {},
   "outputs": [
    {
     "data": {
      "text/plain": [
       "['Zagreb', 'Osijek', 'Slavnoski Brod', 'Rijeka', 'Split', 'Zapresic']"
      ]
     },
     "execution_count": 12,
     "metadata": {},
     "output_type": "execute_result"
    }
   ],
   "source": [
    "import re\n",
    "\n",
    "cities = ['      Zagreb ', 'Osijek!', 'slavnoski brod', 'Rijeka###', 'Split   ', 'Zapresic?']\n",
    "cities_cleand = []\n",
    "\n",
    "for city in cities:\n",
    "    city = city.strip()\n",
    "    city = city.title()\n",
    "    city = re.sub('[?#!]', '', city)\n",
    "\n",
    "    cities_cleand.append(city)\n",
    "\n",
    "cities_cleand"
   ]
  },
  {
   "attachments": {},
   "cell_type": "markdown",
   "id": "ab83217c",
   "metadata": {},
   "source": [
    "**VJEŽBA**<br>\n",
    "**Napravite listu operacija koje želite omogućiti administratoru tijekom čišćenja unosa od korisnika te pomoću više funkcija (onoliko koliko mislite da je potrebno) omogućite istu funkcionalnost kao u prethodnom primjeru.**"
   ]
  },
  {
   "cell_type": "code",
   "execution_count": 13,
   "id": "65f47f17",
   "metadata": {},
   "outputs": [
    {
     "data": {
      "text/plain": [
       "['Zagreb', 'Osijek', 'SlavnoskiBrod', 'Rijeka', 'Split', 'Zapresic']"
      ]
     },
     "execution_count": 13,
     "metadata": {},
     "output_type": "execute_result"
    }
   ],
   "source": [
    "import re\n",
    "\n",
    "\n",
    "def remove_characters(word, chars_set='[?#! ]'):\n",
    "    return re.sub(chars_set, '', word)\n",
    "\n",
    "cleaning_operations = [str.strip, str.title, remove_characters]\n",
    "\n",
    "def clean_cities(cities, operations=cleaning_operations):\n",
    "    cities_cleand = []\n",
    "    for city in cities:\n",
    "        for operation in operations:\n",
    "            city = operation(city)\n",
    "            # city = str.strip(city)\n",
    "            # city = str.title(city)\n",
    "            # city = remove_characters(city)\n",
    "            \n",
    "        cities_cleand.append(city)\n",
    "\n",
    "    return cities_cleand\n",
    "\n",
    "\n",
    "\n",
    "cities = ['      Zagreb ', 'Osijek!', 'slavnoski brod', 'Rijeka###', 'Split   ', 'Zapresic?']\n",
    "cities_cleand = clean_cities(cities)\n",
    "cities_cleand"
   ]
  },
  {
   "attachments": {},
   "cell_type": "markdown",
   "id": "f9048386",
   "metadata": {},
   "source": [
    "### *LAMBDA* ili anonimne funkcije = funkcije koje nemaju naziv\n",
    "\n",
    "*Lambda* funkcije ne definiraju se pomoću ključne riječi *def* i ne dodjeljuje im se naziv. Zbog toga se te funkcije NE mogu pozivati iz različitih dijelova kôda kao \"obične\" funkcije koje smo do sada koristili, ali lambda funkcije mogu pohraniti vrijednost u neku varijablu i na takav se način koristiti više puta.\n",
    "\n",
    "Skraćeno, lambda funkcije su funkcije koje NEMAJU naziv, MOGU imati više argumenata te IMAJU jednu naredbu u jednoj liniji kôda (jedan *statement*).\n",
    "\n",
    "Napravit ćemo nekoliko primjera pa će biti jasnije."
   ]
  },
  {
   "cell_type": "code",
   "execution_count": 16,
   "id": "b665e614",
   "metadata": {},
   "outputs": [
    {
     "name": "stdout",
     "output_type": "stream",
     "text": [
      "Rezultat obicne funkcije 120\n",
      "Rezultat lambda funkcije 120\n"
     ]
    }
   ],
   "source": [
    "# Obicna funkcija\n",
    "def funkcija(arg1, arg2):\n",
    "    return (arg1 * arg2) * 3\n",
    "\n",
    "print(f'Rezultat obicne funkcije {funkcija(5, 8)}')\n",
    "\n",
    "# LAMBDA funkcija\n",
    "varijabla = lambda arg1, arg2: (arg1 * arg2) * 3\n",
    "print(f'Rezultat lambda funkcije {varijabla(5, 8)}')"
   ]
  },
  {
   "attachments": {},
   "cell_type": "markdown",
   "id": "3b5776b7",
   "metadata": {},
   "source": [
    "Dakle funkcioniraju kao obična funkcija samo što smo:<br>\n",
    "- zamijenili \"def naziv funkcije\" ključnom riječi *lambda*\n",
    "- argument ili više njih pišemo bez zagrade, ali nakon argumenata i dalje navodimo dvotočku\n",
    "- nakon dvotočke dolazi jedna linija kôda bez ključne riječi \"return\" koja se podrazumijeva.\n",
    "\n",
    "Isprobajmo par korisnih primjera."
   ]
  },
  {
   "cell_type": "code",
   "execution_count": 25,
   "id": "2545b616",
   "metadata": {},
   "outputs": [
    {
     "data": {
      "text/plain": [
       "[25.6, 25.9, 26.3, 26.8, 27.1, 27.3, 27.5, 27.8, 27.2, 26.8, 26.3, 26.1, 25.5]"
      ]
     },
     "execution_count": 25,
     "metadata": {},
     "output_type": "execute_result"
    }
   ],
   "source": [
    "dnevne_temperature = [15.1, 15.2, 15.6, 16.1, 16.8, 17.3, 17.3, 17.9, 18.3, 19.1, 20.3, \n",
    "                      20.5, 20.8, 21.2, 21.8, 22.3, 23.1, 24.5, 25.6, 25.9, 26.3, 26.8, \n",
    "                      27.1, 27.3, 27.5, 27.8, 27.2, 26.8, 26.3, 26.1, 25.5, 24.6, 23.9, \n",
    "                      23.3, 22.8, 22.1, 21.3, 20.5, 19.8, 19.5, 19.1, 18.6, 18.1, 17.6, \n",
    "                      16.8, 16.3, 15.9, 15.4, 15.2, 14.9, 14.6, 14.1]\n",
    "\n",
    "\n",
    "# Nacin 1\n",
    "# dnevne_temperature_vece_od_25 = []\n",
    "# for t in dnevne_temperature:\n",
    "#     if t >= 25:\n",
    "#         dnevne_temperature_vece_od_25.append(t)\n",
    "\n",
    "\n",
    "# Nacin 2\n",
    "# dnevne_temperature_vece_od_25 = [t for t in dnevne_temperature if t >= 25]\n",
    "\n",
    "\n",
    "# Nacin 3\n",
    "# def veci_jednaki_25(t):\n",
    "#     return t >= 25\n",
    "dnevne_temperature_vece_od_25 = list(filter(lambda t: (t >=25), dnevne_temperature))\n",
    "\n",
    "\n",
    "dnevne_temperature_vece_od_25"
   ]
  },
  {
   "attachments": {},
   "cell_type": "markdown",
   "id": "376f04f7",
   "metadata": {},
   "source": [
    "Dakle, mi smo za svaki element liste pozvali \"lambda\" funkciju koja je kao argument prihvatila jedan element liste i onda nad tim elementom napravila neku operaciju. U našem slučaju, provjerila je to je li veća od 25 stupnjeva, ako jest, onda je taj element vratila pomoću ključne riječi \"return\" koju NISMO napisali, ali se podrazumijeva.\n",
    "\n",
    "Isprobajmo još jedan koristan primjer."
   ]
  },
  {
   "cell_type": "code",
   "execution_count": 26,
   "id": "e86fc786",
   "metadata": {},
   "outputs": [
    {
     "data": {
      "text/plain": [
       "'Josip Jelacic'"
      ]
     },
     "execution_count": 26,
     "metadata": {},
     "output_type": "execute_result"
    }
   ],
   "source": [
    "puno_ime = lambda ime, prezime: f'{ime.title()} {prezime.title()}'\n",
    "puno_ime('josip', 'Jelacic')"
   ]
  },
  {
   "cell_type": "code",
   "execution_count": 32,
   "id": "d9e4354d",
   "metadata": {
    "scrolled": true
   },
   "outputs": [
    {
     "data": {
      "text/plain": [
       "[59.18,\n",
       " 59.36,\n",
       " 60.08,\n",
       " 60.98,\n",
       " 62.24,\n",
       " 63.14,\n",
       " 63.14,\n",
       " 64.22,\n",
       " 64.94,\n",
       " 66.38,\n",
       " 68.54,\n",
       " 68.9,\n",
       " 69.44,\n",
       " 70.16,\n",
       " 71.24,\n",
       " 72.14,\n",
       " 73.58,\n",
       " 76.1,\n",
       " 78.08,\n",
       " 78.62,\n",
       " 79.34,\n",
       " 80.24,\n",
       " 80.78,\n",
       " 81.14,\n",
       " 81.5,\n",
       " 82.04,\n",
       " 80.96,\n",
       " 80.24,\n",
       " 79.34,\n",
       " 78.98,\n",
       " 77.9,\n",
       " 76.28,\n",
       " 75.02,\n",
       " 73.94,\n",
       " 73.04,\n",
       " 71.78,\n",
       " 70.34,\n",
       " 68.9,\n",
       " 67.64,\n",
       " 67.1,\n",
       " 66.38,\n",
       " 65.48,\n",
       " 64.58,\n",
       " 63.68,\n",
       " 62.24,\n",
       " 61.34,\n",
       " 60.62,\n",
       " 59.72,\n",
       " 59.36,\n",
       " 58.82,\n",
       " 58.28,\n",
       " 57.38]"
      ]
     },
     "execution_count": 32,
     "metadata": {},
     "output_type": "execute_result"
    }
   ],
   "source": [
    "# 1   lambda t: ((t * (9/5)) + 32)\n",
    "# 1.5 lambda t: round(((t * (9/5)) + 32), 2)\n",
    "# 2   map(funkciju, kolekcija)\n",
    "# 3   map(lambda t: (t * (9/5)) + 32, dnevne_temperature)\n",
    "# 4   list(map(lambda t: (t * (9/5)) + 32, dnevne_temperature))\n",
    "\n",
    "\n",
    "# dnevne_temperature_F = list(map(lambda t: ((t * (9/5)) + 32), dnevne_temperature))\n",
    "dnevne_temperature_F = list(map(lambda t: round(((t * (9/5)) + 32), 2), dnevne_temperature))\n",
    "dnevne_temperature_F"
   ]
  },
  {
   "attachments": {},
   "cell_type": "markdown",
   "id": "be14a7cd",
   "metadata": {},
   "source": [
    "### Upravljanje greškama\n",
    "\n",
    "Programe pišu ljudi, a kako ljudi nisu savršeni, događaju se greške. Ponekad te greške ne utječu na izvršavanje programa, ali daju krive ili neočekivane rezultate. Ovakve greške zovemo *BUG* jer to su greške koje su nastale krivim upisom neke operacije ili provjerom pa u programu prihvatimo vrijednosti koje u stvari ne želimo. Ove greške je jako teško uočiti tijekom pisanja kôda tako da se one otkrivaju tijekom testiranja, odnosno uporabe programa.\n",
    "\n",
    "Drugi tip grešaka nastaje tijekom pisanja kôda i njih je ponekad lako uočiti, a ponekad se i one otkriju tek nakon što program isporučimo korisniku. Tijekom ovakvih grešaka cijeli program se \"raspadne\", a krajnji korisnik dobije neke, za njega, nesuvisle greške i opise tih grešaka.\n",
    "\n",
    "Srećom i ovakve greške se mogu \"uloviti\". Situacija kada se dogode može se na kvalitetniji način obraditi tako da se krajnjem korisniku ne prikaže takva greška, nego neka generička, a nama, programerima se, recimo, pošalje *email* ili se greška zapiše u nekakvu datoteku/bazu podataka tako da je možemo analizirati.\n",
    "\n",
    "Python za ovakve greške koristi sintaksu:<br>\n",
    "*try:*<br>\n",
    "&nbsp;&nbsp;&nbsp;&nbsp;kôd koji pokušavamo pokrenuti<br>\n",
    "*except:*<br>\n",
    "&nbsp;&nbsp;&nbsp;&nbsp;kôd koji ispisuje smisleniju poruku krajnjem korisniku, a nama u nekakvu datoteku/bazu zapisuje grešku."
   ]
  },
  {
   "cell_type": "code",
   "execution_count": 34,
   "id": "e49a49c2",
   "metadata": {},
   "outputs": [
    {
     "ename": "ZeroDivisionError",
     "evalue": "division by zero",
     "output_type": "error",
     "traceback": [
      "\u001b[1;31m---------------------------------------------------------------------------\u001b[0m",
      "\u001b[1;31mZeroDivisionError\u001b[0m                         Traceback (most recent call last)",
      "Cell \u001b[1;32mIn[34], line 1\u001b[0m\n\u001b[1;32m----> 1\u001b[0m \u001b[38;5;28mprint\u001b[39m(\u001b[38;5;241;43m5\u001b[39;49m\u001b[43m \u001b[49m\u001b[38;5;241;43m/\u001b[39;49m\u001b[43m \u001b[49m\u001b[38;5;241;43m0\u001b[39;49m)\n",
      "\u001b[1;31mZeroDivisionError\u001b[0m: division by zero"
     ]
    }
   ],
   "source": [
    "print(5 / 0)"
   ]
  },
  {
   "cell_type": "markdown",
   "id": "6c17d082",
   "metadata": {},
   "source": [
    "Ili ispravno napisan kôd: "
   ]
  },
  {
   "cell_type": "code",
   "execution_count": 44,
   "id": "83e8363f",
   "metadata": {},
   "outputs": [
    {
     "name": "stdout",
     "output_type": "stream",
     "text": [
      "5 / 0 = Dogodila se greska division by zero\n",
      "5 / 8 = 0.625\n"
     ]
    }
   ],
   "source": [
    "def dijeljenje(x , y, precision = 2):\n",
    "    try:\n",
    "        return round((x / y), precision)\n",
    "    except Exception as ex:\n",
    "        return f'Dogodila se greska {ex}'\n",
    "\n",
    "print(f'5 / 0 = {dijeljenje(5, 0)}')\n",
    "print(f'5 / 8 = {dijeljenje(5, 8, 5)}')"
   ]
  },
  {
   "attachments": {},
   "cell_type": "markdown",
   "id": "0ba880e5",
   "metadata": {},
   "source": [
    "Ovu sintaksu **uvijek** koristimo u situaciji kada radimo s objektima nad kojima nemamo potpunu kontrolu ili znamo da su moguće greške, kao što su recimo dijeljenje s nulom, mijenjanje *string* ili *tuple* tipova podataka, pristup mrežnim objektima (ne znamo je li udaljeni server uključen, hoćemo li imati mrežnu konekciju ...) ili za pristup do datoteke kada ne znamo imamo li pravo pristupa do datoteke ili mape u kojoj je pohranjena datoteka. Sve ove situacije su slučajevi kada se koristi *try: except:* sintaksa.\n",
    "\n",
    "Naravno, ne treba pretjerivati pa ovu sintaksu koristiti svugdje. Međutim, iskustvom se dolazi do liste situacija kada ju je najbolje koristiti."
   ]
  },
  {
   "attachments": {},
   "cell_type": "markdown",
   "id": "449be619",
   "metadata": {},
   "source": [
    "### Klase\n",
    "\n",
    "Klase možemo opisati kao korisnički definirane varijable. Primjenjuju se u objektno orjentiranom programiranju. To je tehnika programiranja koja omogućava organizaciju programskog kôda u kolekcije objekata, koje se mogu više puta koristiti, te čija međusobna interakcija osigurava traženo rješenje problema. Objekti predstavljaju preslike objekata iz stvarnog svijeta, kao što su račun, kupac, automobil i sl. Klasa predstavlja nacrt po kojemu će se objekt kreirati. To je kao nacrt za kuću, od kojeg se može kreirati nebrojeno puno objekata kuća."
   ]
  },
  {
   "cell_type": "code",
   "execution_count": 49,
   "id": "0f10cde4",
   "metadata": {},
   "outputs": [
    {
     "name": "stdout",
     "output_type": "stream",
     "text": [
      "Placa djelatnika Pero je 10000.00 EUR\n",
      "Iznos prireza djelatnika Pero je 1200.00 EUR\n"
     ]
    }
   ],
   "source": [
    "class Djelatnik:\n",
    "    def __init__(self, ime, prezime, placa):\n",
    "        self.ime = ime\n",
    "        self.prezime = prezime\n",
    "        self.placa = placa\n",
    "        self.prirez = 0.0\n",
    "\n",
    "    def izracunaj_prirez(self, stopa_prireza):\n",
    "        self.prirez = self.placa * stopa_prireza\n",
    "\n",
    "programer_pero = Djelatnik('Pero', 'Peric', 10_000)\n",
    "programer_pero.izracunaj_prirez(0.12)\n",
    "\n",
    "print(f'Placa djelatnika {programer_pero.ime} je {programer_pero.placa:.2f} EUR')\n",
    "print(f'Iznos prireza djelatnika {programer_pero.ime} je {programer_pero.prirez:.2f} EUR')\n"
   ]
  },
  {
   "attachments": {},
   "cell_type": "markdown",
   "id": "e6980853",
   "metadata": {},
   "source": [
    "Klasu kreiramo ključnom rječju *class*, iza koje dolazi naziv klase. Preporuka je pisati naziv klase velikim početnim slovom.\n",
    "\n",
    "Klase imaju metodu koju zovemo konstruktor, a koja se piše *__init__()* te, kao i svaka metoda, član klase mora kao prvi argument imati varijablu *self*. To je varijabla koja predstavlja objekt koji je kreiran na osnovi klase. Na taj način Python zna o kojem se točno objektu radi i na koji objekt treba primjeniti određene aktivnosti."
   ]
  },
  {
   "attachments": {},
   "cell_type": "markdown",
   "id": "d52365a7",
   "metadata": {},
   "source": [
    "### Datoteke\n",
    "\n",
    "Do sada smo podatke s kojima smo radili čuvali u radnoj memoriji računala. Ti su podaci nestali onog trenutka kada se završilo izvršavanje programa. Naravno da to nije praktično pa je potrebno osigurati trajnu pohranu podataka. Za to koristimo datoteke i baze podataka. Ovisno o tipu aplikacije, podatke ćemo pohranjivati u datoteke koje ćemo \"slati\" na neke internetske usluge, koje će onda podatke iz tih datoteka pohraniti u baze podataka ili ćemo, ako imamo pristup do baze, to napraviti mi izravno iz našeg kôda."
   ]
  },
  {
   "cell_type": "code",
   "execution_count": null,
   "id": "6c1aacd9",
   "metadata": {},
   "outputs": [
    {
     "name": "stderr",
     "output_type": "stream",
     "text": [
      "IOPub data rate exceeded.\n",
      "The notebook server will temporarily stop sending output\n",
      "to the client in order to avoid crashing it.\n",
      "To change this limit, set the config variable\n",
      "`--NotebookApp.iopub_data_rate_limit`.\n",
      "\n",
      "Current values:\n",
      "NotebookApp.iopub_data_rate_limit=1000000.0 (bytes/sec)\n",
      "NotebookApp.rate_limit_window=3.0 (secs)\n",
      "\n"
     ]
    }
   ],
   "source": []
  },
  {
   "attachments": {},
   "cell_type": "markdown",
   "id": "ba41dfa9",
   "metadata": {},
   "source": [
    "Već smo spominjali da je moguće to da datoteka ne postoji, da možda nemamo pravo pristupa datoteci i sl. Pored toga, nakon što smo završili s radom u datoteci, potrebno je zatvoriti konekciju prema toj datoteci tako da se ona može koristiti od strane drugih programa.\n",
    "\n",
    "Ako želimo pokriti sve gore navedeno, preporuka je koristiti \"*with*\" ključnu riječ unutar *try/except* bloka."
   ]
  },
  {
   "cell_type": "code",
   "execution_count": null,
   "id": "1472f361",
   "metadata": {},
   "outputs": [],
   "source": []
  },
  {
   "attachments": {},
   "cell_type": "markdown",
   "id": "f0276070",
   "metadata": {},
   "source": [
    "**Zadatak**<br>\n",
    "**Podatke iz datoteke, s podacima o zemljotresima, učitajte u rječnik, u kojemu će ključ biti generirana numerička vrijednost počevši od 0, dok će vrijednost biti sadržaj jednog reda u datoteci.**\n",
    "\n",
    "**Tako dobivene podatke obradite na način da, pomoću ugrađenih Python modula za statistiku (*statistics*), matematiku (*math*) te metoda za manipulaciju i konverziju tipova podataka, dobijete informaciju koja je najveća zabilježena magnituda zemljotresa (*mag*), kojeg je tipa (*magType*) i u kojem se mjestu dogodila (*place*).**\n",
    "\n",
    "**Ispišite i podatke za zemljotres s drugom magnitudom po jačini.**\n",
    "\n",
    "**Unutar podataka o Airbnb ponudi u gradu New Yorku, (*airbnb_new_york_city_listings.csv*), pronađite koji je apartman najskuplji, koja je cijena najma te koji je najjeftiniji i njegovu cijena najma.**"
   ]
  },
  {
   "cell_type": "code",
   "execution_count": null,
   "id": "4a7a8048",
   "metadata": {},
   "outputs": [],
   "source": []
  }
 ],
 "metadata": {
  "kernelspec": {
   "display_name": "Python 3 (ipykernel)",
   "language": "python",
   "name": "python3"
  },
  "language_info": {
   "codemirror_mode": {
    "name": "ipython",
    "version": 3
   },
   "file_extension": ".py",
   "mimetype": "text/x-python",
   "name": "python",
   "nbconvert_exporter": "python",
   "pygments_lexer": "ipython3",
   "version": "3.12.0"
  }
 },
 "nbformat": 4,
 "nbformat_minor": 5
}
