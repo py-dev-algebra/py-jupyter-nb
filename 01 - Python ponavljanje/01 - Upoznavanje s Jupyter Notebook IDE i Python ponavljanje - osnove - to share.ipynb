{
 "cells": [
  {
   "attachments": {},
   "cell_type": "markdown",
   "id": "ca1073f8",
   "metadata": {},
   "source": [
    "<a href='http://www.algebra.hr'> <img src='../algebra_logo_color_h.png' alt=\"Algebra\" width=\"500\" /></a>\n",
    "___\n",
    "# Jupyter Notebook IDE\n",
    "## Što je Jupyter Notebook\n",
    "\n",
    "To je IDE koji omogućava pisanje, editiranje i pokretanje kôda zajedno s formatiranim tekstom. Jako je raširena primjena u znanstvenim institucijama i zajednicama, a posebno u *Data Scienceu* (podatkovnoj znanosti).\n",
    "\n",
    "* Primjer: želite napisati članak u kojem će biti opisano zašto se neke stvari događaju u vašem gradu. Prvo ćete koristiti tekst u kojemu ćete opisati događaje, zatim vašu tezu o tome što vi smatrate da je uzrok tih događaja i  sve ćete to \"začiniti\" grafovima i analizom neke velike količine podataka. Pri tome ćete pokazati postupak pripreme te velike količine podataka, postupak obrade i na kraju grafički prikaz obrađenih podataka osnovom kojih ste došli do zaključaka. Na ovaj će način svaka osoba, koja želi provjeriti vaše zaključke, moći sve jednostavno analizirati i provjeriti jesu li vaši zaključci točni ili ako nisu, moći će ukazati na mjesto gdje ste pogriješili. Sve ovo navedeno je ustaljena praksa u znanstvenim istraživanjima.\n",
    "* Primjer: želite podučavati druge programiranju u Pythonu ili nekom od 40 drugih podržanih jezika, na način da gotovo svaku liniju kôda imate opisanu, ne kao komentar u kôdu, nego kao formatirani tekst koji može sadržavati i datoteke sa slikama.\n",
    "\n",
    "Jupyter Notebook se pokazao idealnim za ove namjene, ali i za puno više.\n",
    "\n",
    "Osim što se trebamo upoznati s Jupyter Notebook okruženjem, iskoristit ćemo priliku i ponoviti neke ključne ugrađene komponente u Pythonu kako bismo mogli krenuti prema alatima u podatkovnoj znanosti.\n",
    "\n",
    "## Struktura Jupyter Notebook datoteke\n",
    "\n",
    "Osnovna jedinica za unos kôda ili teksta u Jupyter Notebook je ćelija. Ovisno o sadržaju, ćelije mogu imati nekoliko tipova, ali nama su najvažnija dva:\n",
    "* *Code cell* (ćelija za unos kôda)\n",
    "* *Markdown cell* (ćelija za unos teksta, fotografija ...)"
   ]
  },
  {
   "cell_type": "code",
   "execution_count": null,
   "id": "d35dc352",
   "metadata": {},
   "outputs": [],
   "source": []
  },
  {
   "attachments": {},
   "cell_type": "markdown",
   "id": "3299a281",
   "metadata": {},
   "source": [
    "**NAPOMENA:** važno je znati da se, za razliku od klasičnih IDE programa, u Jupyter Notebooku, kôd izvršava ćeliju po ćeliju. To znači da će se izvršiti kôd samo onih ćelija koje smo mi pokrenuli, a ne sve. Naravno, postoji mogućnost pokretanja svih ćelija, ali to nije predefinirano funkcioniranje IDE.\n",
    "\n",
    "Primijetite kako ispred *Code Cell* postoji oznaka \"In \\[broj\\]\". To je skraćeno od **In**put te sadržava broj toga koliko je puta pokrenut kôd unutar te ćelije."
   ]
  },
  {
   "attachments": {},
   "cell_type": "markdown",
   "id": "82d7572b",
   "metadata": {},
   "source": [
    "## Stanja u kojima se nalaze ćelije\n",
    "\n",
    "U Jupyter Notebook uvijek je **samo jedna** ćelija aktivna. Svaka ćelija može biti u dva stanja, ovisno o tome što želimo sa sadržajem ćelije. Ako želimo mijenjati sadržaj, onda ćelija treba biti u ***EDIT MODE*** stanju, a ako želimo pokretati sadržaj ili mijenjati tip sadržaja (kôd ili tekst ...) onda ćelija treba biti u ***COMMAND MODE*** stanju:\n",
    "\n",
    "- kada se ćelija nalazi u ***COMMAND MODEU***, onda je okvir ćelije u **plavoj boji**\n",
    "- kada je ćelija u ***EDIT MODE***, onda je njen okvir **zelene boje**"
   ]
  },
  {
   "attachments": {},
   "cell_type": "markdown",
   "id": "b37c9238",
   "metadata": {},
   "source": [
    "## Prečaci na tipkovnici\n",
    "\n",
    "Tijekom programiranja, naši su prsti na tipkovnici i nije praktično stalno micati ruku s tipkovnice kako bismo pomoću miša kliknuli na neki gumb pa onda opet nastavili tipkati. Zbog toga postoje prečaci na tipkovnici i dobro je za svaki IDE usvojiti one koje najčešće koristimo. Tako ubrzavamo rad, odnosno ne prekidamo tijek naših misli, već samo tipkamo. Jupyter Notebook ima jako puno prečaca. Popis svih prečaca te mogućnost njihovog uređivanja nalazi se u izborniku \"Help -> Keyboard Shortcuts\". \n",
    "\n",
    "**NAPOMENA - prečac na tipkovnici ovisi o stanju u kojem se nalazi ćelija.** Promjenu stanja ćelije na kojoj trenutno radimo, možemo napraviti pomoću tipke **ESC** koja prebacuje ćeliju u ***COMMAND MODE***, a ako želimo ćeliju prebaciti u ***EDIT MODE***, tada samo pritisnemo tipku **ENTER**.\n",
    "\n",
    "### Pokretanje ili aktiviranje sadržaja ćelije\n",
    "\n",
    "Svaku ćeliju možemo pokrenuti tako da kliknemo na gumb *\"Run\"* ili na jednostavniji način: kombinacijom tipki **SHIFT+ENTER**. Ova kombinacija vrijedi za oba stanja ćelije. Ako je u ćeliji kôd, onda će se taj dio kôda izvršiti, a ako je u ćeliji tekst, onda će se taj tekst prikazati uz primjenu svih pravila formatiranja.\n",
    "\n",
    "### Promjena tipa sadržaja - CODE CELL <-> MARKDOWN CELL\n",
    "\n",
    "Ćelija mora biti aktivna te u *COMMAND MODEU* mora imati plavi okvir. Za prebacivanje ćelije u *CODE CELL* u kojem možemo pisati programski kôd, pritisnemo tipku **Y**, a ako pritisnemo tipku **M**, prebacit ćemo ćeliju u *MARKDOWN CELL*.\n",
    "\n",
    "### Drugi korisni prečaci\n",
    "\n",
    "Gore navedeni prečaci omogućavaju rad na Jupyter Notebook dokumentu bez prekidanja zbog korištenja miša. Međutim, postoji još nekoliko korisnih prečaca koji mogu isto tako olakšati rad. **Ćelija mora biti u** ***COMMAND MODEU*** u slučaju:\n",
    "\n",
    "- A - ubaci novu ćeliju iznad\n",
    "- B - ubaci novu ćeliju ispod\n",
    "- D - izbriši aktivnu ćeliju\n",
    "- X - izreži *(cut)* aktivnu ćeliju *(Ako je ćelija u EDIT MODE, onda vrijedi prečac CRTL+X)*\n",
    "- V - zalijepi ćeliju ispod aktivne ćelije *(Ako je ćelija u EDIT MODE, onda vrijedi prečac CRTL+V)*\n",
    "- Z - poništi zadnji korak/aktivnost *(Ako je ćelija u EDIT MODE, onda vrijedi prečac CRTL+Z)*\n",
    "- S - Pohrani izmjene na dokumentu *(Ako je ćelija u EDIT MODE, onda vrijedi prečac CRTL+S)*\n",
    "__________"
   ]
  },
  {
   "attachments": {},
   "cell_type": "markdown",
   "id": "67e690e1",
   "metadata": {},
   "source": [
    "## Format zapisa (ekstenzija datoteke) Juypter Notebook datoteke\n",
    "\n",
    "Osnovni format, u kojem se pohranjuju Jupyter Notebook datoteke, je **.ipynb**. Ako znamo da je Jupyter Notebook nastao od IPythona, onda je jasan prvi dio naziva ekstenzije *ipy*, a drugi dio *nb* koji bi označavao **n**ote**b**ook.\n",
    "\n",
    "### Dijeljenje Jupyter Notebook dokumenta\n",
    "\n",
    "Međutim, dokument koji smo napravili u Jupyter Notebook alatu možemo pohraniti u nekoliko drugih tipova, ovisno o tome koja je namjena, odnosno s kim želimo podijeliti naš dokument. Važno ga je prije dijeljenja dokumenta pripremiti za dijeljenje, zato što će Jupyter Notebook dokument podijeliti u trenutnom stanju. Koraci za pripremu dokumenta za dijeljenje:\n",
    "1. Kliknuti na *“Cell > All Output > Clear”* - ova akcija će \"počistiti\" sve rezultate pokretanja našeg kôda u ćelijama\n",
    "2. Kliknuti na *“Kernel > Restart & Run All”* - ova akcija će ponovno pokrenuti sve ćelije u dokumentu, jednu po jednu\n",
    "3. I treći korak je najlakši - trebamo pričekati da se izvrše sve ćelije te provjeriti je li se sve izvršilo kako smo očekivali.\n",
    "\n",
    "Nakon što smo pripremili dokument, unutar izbornika ***File -> Download*** as imamo popis tipova dokumenata u kojima možemo izvesti naš dokument. Tako možemo pohraniti naš dokument kao obični Python dokument s *.py* ekstenzijom ili u obliku web stranice s *.html* ekstenzijom. Za izvod u PDF formatu, potrebno je dodati alate koji će konvertirati naš dokument u PDF format."
   ]
  },
  {
   "attachments": {},
   "cell_type": "markdown",
   "id": "361bb792",
   "metadata": {},
   "source": [
    "#### Tab\n",
    "\n",
    "Python Notebook, kao i većina drugih IDE alata intenzivno koristi tipku *TAB* za automatsko popunjavanje naziva. Evo nekih primjera kada nam *TAB* tipka može jako dobro doći:\n",
    "- nakon što upišemo točku nakon naziva varijable, pomoću TAB-a dobit ćemo listu dostupnih metoda za tu varijablu ili objekt\n",
    "- nakon otvorene zagrade u funkciji/metodi, TAB prikazuje listu argumenata (čak doda i znak = uz naziv argumenta)\n",
    "- kada prikazuje klase i svojstva nekog modula, jednako kao i za varijable/objekte, nakon unosa naziva modula upišemo točku i pomoću TAB tipke dobijemo listu svojstava i klasa u modulu\n",
    "- kada dopunjava putanju do datoteke tako što na kraju mape, pomoću TAB tipke, dobijete popis datoteka, možete početi i pisati naziv datoteke pa pomoću TAB tipke dobijete listu svih datoteka koje počinju tim slovom ili slovima."
   ]
  },
  {
   "attachments": {},
   "cell_type": "markdown",
   "id": "7ed32f5c",
   "metadata": {},
   "source": [
    "#### Znak \"?\"\n",
    "\n",
    "Još jedna mogućnost koju nudi Jupyter notebook IDE je uporaba znaka \"?\". Znak \"?\" možete koristiti nakon naziva varijable, metode, ali i za pretraživanje metoda i klasa unutar nekog modula.\n",
    "\n",
    "Ako koristite dvostruki znak „?“, dobit ćete i prikaz kôda metode."
   ]
  },
  {
   "cell_type": "code",
   "execution_count": null,
   "id": "f421ebe9",
   "metadata": {},
   "outputs": [],
   "source": []
  },
  {
   "attachments": {},
   "cell_type": "markdown",
   "id": "2f21a016",
   "metadata": {},
   "source": [
    "Otvorit će se dodatni prozor u kojem će biti opisan objekt, prikazan *DocString* sadržaj, signatura metode. Slično *help()* metodi, samo malo prikladnije za Jupyter Notebook.\n",
    "\n",
    "Probajmo još nekoliko primjera."
   ]
  },
  {
   "cell_type": "code",
   "execution_count": null,
   "id": "9a18f737",
   "metadata": {},
   "outputs": [],
   "source": []
  },
  {
   "cell_type": "code",
   "execution_count": null,
   "id": "f9809f7c",
   "metadata": {},
   "outputs": [],
   "source": []
  },
  {
   "attachments": {},
   "cell_type": "markdown",
   "id": "13534f6f",
   "metadata": {},
   "source": [
    "### *Magic Commands*\n",
    "\n",
    "Jupyter Notebook koristi *Magic Commands* pomoću kojih imamo mogućnost interakcije s datotekama i operacijskim sustavom na računalu na kojemu se pokreće Jupyter Notebook skripta. *Magic* naredbe nisu dio Pythona i specifične su zato jer počinju znakom za postotak \"%\" pa slijedi naziv naredbe.\n",
    "\n",
    "- **%run** naziv_skripte.py - pokreće Python skripte unutar Jupyter Notebook datoteke, ali bez integracije. Kao da ste u konzoli upisali *python naziv_skripte.py*. Ukoliko želite interakciju s Jupyter Notebook datotekom, dakle pristup modulima, varijablama, funkcijama unutar Jupyter Notebook datoteke, onda treba koristiti integrirani način rada: *%run* ***-i*** *naziv_skripte.py*\n",
    "- **%paste i %cpaste** - zamislite da ste u nekoj datoteci ili na internetskoj stranici pronašli dio kôda koji želite isprobati kako radi. Ako ga samo \"zalijepite\" u neku ćeliju, taj dio kôda će biti dio Jupyter Notebook datoteke, ali ako koristite *%paste* ili *%cpaste Magic* naredbu onda možete isprobati kôd bez straha. Razlika između ove dvije naredbe je u tome što *%cpaste* omogućava unos jednog po jednog reda, dok *%paste* ubaci cijeli sadržaj kôda odjednom. Dakle, *%cpaste* daje veću kontrolu nad unosom kôda, ali zahtijeva više vremena, odnosno zahtijeva potvrdu svake linije.\n",
    "- **%timeit python_naredba** - mjeri vrijeme izvršavanja neke *python* naredbe. Jako korisno kod provjere učinkovitosti nekog dijela kôda.\n",
    "- **%pwd** - vraća putanju putanje mape u kojoj se trenutno izvršava kôd. PWD je skraćenica od *Print Working Directory*.\n",
    "\n",
    "Rezultati *Magic* naredbi mogu se pohraniti u varijable."
   ]
  },
  {
   "cell_type": "code",
   "execution_count": null,
   "id": "66276941",
   "metadata": {},
   "outputs": [],
   "source": []
  },
  {
   "attachments": {},
   "cell_type": "markdown",
   "id": "c4a3c4d6",
   "metadata": {},
   "source": [
    "*Magic* naredbe:\n",
    "\n",
    "- *%magic* - detaljna dokumentacija o *Magic* naredbama\n",
    "- *%quickref* - kratke informacije o *Magic* naredbama. Kraće su od dokumentacije, ali ipak nisu tako kratke."
   ]
  },
  {
   "cell_type": "markdown",
   "id": "bc661c39",
   "metadata": {},
   "source": [
    "# Python ponavaljanje"
   ]
  },
  {
   "attachments": {},
   "cell_type": "markdown",
   "id": "e5cbf88b",
   "metadata": {},
   "source": [
    "Do sada smo jako puno toga prošli vezano uz Python pa ćemo sada to ponoviti. Ponavljanje ćemo napraviti u odnosu na primjenu u Data Science području.\n",
    "\n",
    "Prvo ćemo krenuti s virtualnim okruženjem u Pythonu."
   ]
  },
  {
   "attachments": {},
   "cell_type": "markdown",
   "id": "8ff267cf",
   "metadata": {},
   "source": [
    "## Python Virtual Environment\n",
    "\n",
    "Python virtualno okruženje jedna je odlična funkcionalnost koju nam Python omogućava. Radi se o situaciji, u kojoj ćete se kao Python developer jako često naći, a gotovo da je uporaba Python virtualnih okruženja u podatkovnoj znanosti pravilo.\n",
    "\n",
    "Pomoću opisa primjera, bit će vam jasnije o čemu se radi. Primjena Pythona u programiranju, naročito u podatkovnoj znanosti, zahtijeva dodavanje Python modula (u podatkovnoj znanosti je to obvezno). Gotovo svaki projekt ima svoju kombinaciju instaliranih modula, kao i verziju Pythona. Klasičnom bismo primjenom na računalu mogli imati instaliranu samo jednu verziju Pythona i modula. To može uzrokovati razne nepredviđene probleme s radom naših Python aplikacija. Jedno rješenje bi bilo imati jedno računalo, odnosno jednu instalaciju Windowsa (ili nekog drugog operacijskog sustava) za svaki projekt. To je jako nepraktično. Postoje i virtualna računala pa bismo na jednom fizičkom računalu mogli imati jedno virtualno računalo za svaki projekt. Ovo je malo bolje, ali i dalje jako nepraktično.\n",
    "\n",
    "Zbog toga postoje virtualna okruženja koja omogućavaju paralelno instalaciju i korištenje više verzija Pythona i modula na jednom računalu. U jednoj mapi na računalu jednostavno kreirate virtualno okruženje i u njemu instalirate verzije koje vam trebaju za određeni projekt. U drugoj mapi instalirate drugo okruženje ... i tako za svaki projekt na kojem radite. Hoćete li koristiti jednu mapu za virtualno okruženje, za svaku važniju verziju Pythona i u njoj imati projekte s modulima, ili ćete za svaki projekt kreirati jedinstvenu mapu te u njoj kreirati virtualno okruženje, ostaje na vama i vašoj osobnoj preferenciji ili uvjetima koje može uvjetovati firma u kojoj radite.\n",
    "\n",
    "**NAPOMENA: tijekom instalacije Anaconda distribucije, kreira se i virtualno okruženje naziva \"base\". Preporuka je ne koristiti to okruženje u produkcijske svrhe. Ali zbog jednostavnosti, tijekom ovog modula, mi ćemo koristiti upravo to okruženje i nećemo se opterećivati verzijama modula i Pythona. To je nekako razumljivo tijekom učenja, istraživanja novih mogućnosti i slično. JAKO je VAŽNO da ste toga svjesni i da znate razlog zbog kojeg ne slijedite preporuke.**"
   ]
  },
  {
   "attachments": {},
   "cell_type": "markdown",
   "id": "5defdae2",
   "metadata": {},
   "source": [
    "**Kreiranje Python virtualnog okruženja**\n",
    "\n",
    "Od verzije 3.3, Python ima ugrađen modul *venv* (dio *virtualenv* modula) pomoću kojeg možemo kreirati Python virtualna okruženja.\n",
    "\n",
    "Za verzije Pythona prije 3.3, procedura kreiranja virtualnog okruženja je:\n",
    "\n",
    "1.\tKreirajte mapu na disku u kojoj želite čuvati virtualno okruženje. To je mapa u kojoj će biti pohranjene i datoteke programa kojeg razvijate. U CMD, PowerShell ili Terminalu (jednim nazivom konzola) pozicionirajte se u tu mapu.\n",
    "2.\tInstalirajte virtualenv modul upisivanjem naredbe u konzoli: **pip install virtualenv**.\n",
    "3.\tKreirajte virtualno okruženje upisivanjem naredbe u konzoli: **virtualenv naziv_virt_okruzenja**, gdje je \"naziv_virt_okruzenja\" naziv Python virtualnog okruženja BEZ RAZMAKA. Naziv okruženja će najčešće biti naziv projekta.\n",
    "4.\tTijekom kreiranja virtualnog okruženja, kreirat će se nekoliko mapa s Python skriptama. Jedna od njih je mapa Scripts, a unutar nje je skripta **activate**. Pomoću skripte, aktivirajte kreirano Python okruženje. **Ovo okruženje je sada postalo glavno okruženje koje će se koristiti na računalu i svi će programi, uključujući i IDE, koristiti to okruženje**. Naredba za aktiviranje virtualnog okruženja izgleda ovako: *./naziv_virt_okruzenja/Scripts/activate.*\n",
    "\n",
    "Nakon što ste aktivirali virtualno okruženje, u konzoli će, na početku linije u kojoj piše kôd u zagradi, pisati naziv virtualnog okruženja. Ako ne piše ništa, onda ste u inicijalnom okruženju. To je ono okruženje koje ste imali odmah nakon instalacije Pythona na svoje računalo. To će vam omogućiti provjeru u kojem virtualnom okruženju trenutno radite.\n",
    "Za promjenu virtualnog okruženja ili izlazak iz trenutnog te povratak na \"glavnu\" verziju Pythona, trebamo deaktivirati virtualno okruženje naredbom *deactivate*. Za naš primjer to bi izgledalo ovako:\n",
    "\n",
    "*./naziv_virt_okruzenja/Scripts/deactivate.*"
   ]
  },
  {
   "attachments": {},
   "cell_type": "markdown",
   "id": "9e2db02c",
   "metadata": {},
   "source": [
    "**Kreiranje Python virtualnog okruženja uz Anacondu**\n",
    "\n",
    "Postupak je gotovo identičan kao i bez Anaconda distribucije alata, razlika je samo u naredbama. I dalje trebamo koristiti konzolu. **Većina naredbi počinje s riječju \"conda\" koja označava to da se koriste Anaconda alati.**\n",
    "\n",
    "Za kreiranje virtualnog okruženja naziva \"MyPython3Version\" koje će imati Python verziju 3.7 te instaliranu NumPy biblioteku koristit ćemo sljedeću naredbu:<br>\n",
    "***conda create --name MyPython3Version python=3.7 numpy.***\n",
    "\n",
    "Novo virtualno okruženje trebamo aktivirati naredbom:<br>\n",
    "***conda activate MyPython3Version.***\n",
    "\n",
    "A deaktivirati naredbom:<br>\n",
    "***conda deactivate*** - ne treba navoditi naziv virtualnog okruženja jer će ova naredba deaktivirati trenutno aktivno virtualno okruženje.\n",
    "\n",
    "Ponekad ćete trebati popis svih virtualnih okruženja na računalu. To možete dobiti naredbom:<br>\n",
    "***conda info --envs*** ili\n",
    "***conda env list.***\n",
    "\n",
    "Virtualno okruženje možete i izbrisati naredbom:<br>\n",
    "***conda env remove -n MyPython3Version.***"
   ]
  },
  {
   "attachments": {},
   "cell_type": "markdown",
   "id": "023758fb",
   "metadata": {},
   "source": [
    "**Virtualna okruženja u Jupyter Notebook**\n",
    "\n",
    "Za korištenje virtualnih okruženja, u Jupyter Notebook IDE treba napraviti nekoliko priprema prije jer postojeća okruženja nisu \"prikazana\" kao izbor. Prilikom kreiranja Jupyter Notebook datoteka, koristili smo se web sučeljem u kojem smo birali *New -> Python* 3 i to bi nam kreiralo novu datoteku Jupyter Notebook formata. To će uvijek koristiti osnovno Anaconda virtualno okruženje *(base)*.\n",
    "\n",
    "Za dodavanje virtualnih okruženja u Jupyter Notebook, trebamo instalirati *ipykernel* (već je instaliran kroz Anaconda, ali u slučaju da ga nemate):<br>\n",
    "*pip install --user ipykernel*\n",
    "\n",
    "te ga ručno dodati u virtualno okruženje<br>\n",
    "*python -m ipykernel install --user --name=MyPython3Version.*\n",
    "\n",
    "Ovime smo dobili da kroz web sučelje umjesto *New -> Python 3 imamo New -> MyPython3Version.*\n",
    "\n",
    "Virtualno okruženje možemo mijenjati i klikom na *Kernel -> Change kernel >*.\n",
    "\n",
    "*Važno: kao što smo rekli, važno je da znate za virtualna okruženja i kako prepoznati u kojem radite pa zbog toga neke naredbe ne rade i slično, a mi ćemo se za nastavak seminara nastaviti služiti osnovnim okruženjem.*"
   ]
  },
  {
   "attachments": {},
   "cell_type": "markdown",
   "id": "5b4aba3e",
   "metadata": {},
   "source": [
    "## Python osnove\n",
    "\n",
    "Prođimo kratko kroz osnove programiranja u Pythonu. Većinu toga znate, ali nije loše malo osvježiti znanje, a i neke stvari dodatno naglasiti kako bismo lakše pratili dio seminara, odnosno Python biblioteke koje se najčešće koriste u podatkovnoj znanosti."
   ]
  },
  {
   "cell_type": "markdown",
   "id": "f4bf6b5f",
   "metadata": {},
   "source": [
    "### Računanje u Pythonu"
   ]
  },
  {
   "attachments": {},
   "cell_type": "markdown",
   "id": "c78863a5",
   "metadata": {},
   "source": [
    "**PITANJE<br>\n",
    "Možete li se sjetiti kojim će se redoslijedom izvršavati slijedeći matematički izračun?**"
   ]
  },
  {
   "cell_type": "code",
   "execution_count": null,
   "id": "b51b83c0",
   "metadata": {},
   "outputs": [],
   "source": []
  },
  {
   "attachments": {},
   "cell_type": "markdown",
   "id": "2b0377c7",
   "metadata": {},
   "source": [
    "**POJAŠNJENJE**<br>\n",
    "Python slijedi pravila kao u matematici pa će zagrade imati prednost. Nakon toga će se rezultat u zagradama pomnožiti s 5, zatim će se rezultat toga podijeliti s 2. Dodatne informacije imate na: https://docs.python.org/3/reference/expressions.html#operator-precedence."
   ]
  },
  {
   "cell_type": "markdown",
   "id": "eee761ce",
   "metadata": {},
   "source": [
    "### Varijable"
   ]
  },
  {
   "attachments": {},
   "cell_type": "markdown",
   "id": "8471c47e",
   "metadata": {},
   "source": [
    "U Pythonu nismo prisiljeni definirati tip varijable pa zbog toga svaka varijabla može biti bilo kojeg tipa. Ipak, u Pythonu možemo provjeriti koji je tip varijable, odnosno koji je tip podatka pohranjen u njoj pomoću ugrađene funkcije *type()*."
   ]
  },
  {
   "cell_type": "code",
   "execution_count": null,
   "id": "631fb64f",
   "metadata": {},
   "outputs": [],
   "source": []
  },
  {
   "cell_type": "code",
   "execution_count": null,
   "id": "76c7c189",
   "metadata": {},
   "outputs": [],
   "source": []
  },
  {
   "attachments": {},
   "cell_type": "markdown",
   "id": "657d1fd1",
   "metadata": {},
   "source": [
    "Također je važno znati kako neke varijable, zbog tipa podatka koji je pohranjen u njima, ne možemo obrađivati kao neke druge (iz primjera, ne možemo zbrajati tekstualne i brojčane vrijednosti). Osim toga, tekstualne varijable su nepromjenjive pa za manipulaciju s njima, prilikom manipulacije trebamo kreirati kopiju.\n",
    "\n",
    "Gornji izraz možemo pisati i duže:<br>\n",
    "*varijabla = varijabla + 5.*\n",
    "\n",
    "**Važno je znati da Python kreira reference na varijable.**"
   ]
  },
  {
   "cell_type": "code",
   "execution_count": null,
   "id": "b11862d6",
   "metadata": {},
   "outputs": [],
   "source": []
  },
  {
   "cell_type": "code",
   "execution_count": null,
   "id": "7b0dc912",
   "metadata": {},
   "outputs": [],
   "source": []
  },
  {
   "cell_type": "code",
   "execution_count": null,
   "id": "3b88ab93",
   "metadata": {},
   "outputs": [],
   "source": []
  },
  {
   "cell_type": "code",
   "execution_count": null,
   "id": "4d848c38",
   "metadata": {},
   "outputs": [],
   "source": []
  },
  {
   "attachments": {},
   "cell_type": "markdown",
   "id": "54c3b9aa",
   "metadata": {},
   "source": [
    "*Slice* **kreira** novu listu koju smo pohranili u **zasebnu** varijablu \"b\". Sada promjene na jednoj varijabli **neće** biti propagirane na drugu jer više nisu reference na istu memorijsku lokaciju."
   ]
  },
  {
   "attachments": {},
   "cell_type": "markdown",
   "id": "7c111b3c",
   "metadata": {},
   "source": [
    "### *Print()* funkcija\n",
    "\n",
    "Funkcija koja služi za ispis podataka u konzolu. Funkcija kao argument prima jednu ili više tekstualnih varijabli.\n",
    "\n",
    "Najčešće korišteni dodatni argumenti:<br>\n",
    "- *sep=' '* - argument koji definira separator između tekstualnih varijabli, predefinirana vrijednost je *razmak*\n",
    "- *end='\\n'* - argument koji definira koji znak dolazi na kraju izvršavanja funkcije *print()*, predefinirana vrijednost je *novi red*.\n",
    "\n",
    "Formatiranje prikaza sadržaja *print()* funkcije radimo pomoću *.format()* metode ili kraćom sintaksom *f'tekst* koju ispisujemo zajedno s *{varijablama}.'*, a dostupne su nad tekstualnim tipom podataka."
   ]
  },
  {
   "cell_type": "code",
   "execution_count": null,
   "id": "e2868af8",
   "metadata": {},
   "outputs": [],
   "source": []
  },
  {
   "cell_type": "code",
   "execution_count": null,
   "id": "e351b9ff",
   "metadata": {},
   "outputs": [],
   "source": []
  },
  {
   "attachments": {},
   "cell_type": "markdown",
   "id": "c50e8cf7",
   "metadata": {},
   "source": [
    "**NAPOMENA:** trostruki navodnici \"čuvaju\" podatak o novom redu pa se zbog toga razlikuju ispisi gornjih dvaju dugih tekstova."
   ]
  },
  {
   "attachments": {},
   "cell_type": "markdown",
   "id": "60af83e4",
   "metadata": {},
   "source": [
    "### *Input()* funkcija\n",
    "\n",
    "Funkcija *input()* služi za unos podataka s konzole, odnosno s tastature u aplikaciju. Važno je naglasiti da je podatak koji se unese pomoću funkcije *input()* UVIJEK tekstualnog tipa, odnosno *string*."
   ]
  },
  {
   "cell_type": "code",
   "execution_count": null,
   "id": "bde2cdd8",
   "metadata": {},
   "outputs": [],
   "source": []
  },
  {
   "attachments": {},
   "cell_type": "markdown",
   "id": "52c4ac12",
   "metadata": {},
   "source": [
    "Upravo zbog činjenice da *input()* funkcija UVIJEK vrati podatke tipa *string*, kreirane su funkcije za konverziju podataka između različitih tipova.\n",
    "\n",
    "Funkcije za konverziju tipova podataka:\n",
    "\n",
    "- *int()* - pretvara tip podatka u dekadski broj\n",
    "- *float()* - pretvara cijeli broj u decimalni broj\n",
    "- *ord()* - pretvara znak u ASCII broj\n",
    "- *chr()* - pretvara ASCII broj u znak\n",
    "- *hex()* - pretvara broj u heksadekadski broj\n",
    "- *oct()* - pretvara dekadski broj u oktalni broj\n",
    "- *str()* - pretvara bilo koji tip u tekstualni tip podatka\n",
    "- *tuple()* - pretvara dobiveni podatak u nterac (tuple)\n",
    "- *set()* - pretvara dobiveni podatak u set (listu koja IMA JEDINSTVENE članove - nema duplikata)\n",
    "- *list()* - pretvara dobiveni podatak u listu\n",
    "- *dict()* - pretvara dobiveni podatak u rječnik.\n",
    "\n",
    "**VJEŽBA**<br>\n",
    "**Dio 1.**<br>\n",
    "\n",
    "**Napravite zaseban primjer za svaku od navedenih funkcija za konverziju. To znači da za svaku konverziju treba kreirati novi podatak.**\n",
    "\n",
    "**Dio 2.**<br>\n",
    "**Osmislite smislen primjer aplikacije u kojoj ćete iskoristiti sve gore navedene funkcije za konverziju. Pomoć: IP adrese računala su u dekadskom obliku, a novije i u heksadekadskom obliku, ali je Subnet maska mreže definirana u binarnom. Može biti više IP adresa.**"
   ]
  },
  {
   "attachments": {},
   "cell_type": "markdown",
   "id": "e1e2c3b6",
   "metadata": {},
   "source": [
    "### Kolekcije podataka - List, Dict, Tuple, Set\n",
    "\n",
    "Najčešće korišteni tipovi podataka za ugrađene kolekcije podataka u Pythonu su:<br>\n",
    "- *List* - sortirana, neograničena kolekcija podataka\n",
    "- *Dictionary* - kolekcija podataka koju čine ključ i podaci pohranjeni pod tim ključem\n",
    "- *Tuple* - kolekcija podataka slična List kolekciji, ALI nije moguće dodavati ili brisati članove\n",
    "- *Set* - kolekcija podataka slična List kolekciji u kojoj su svi podaci jedinstveni - nema duplih vrijednosti.\n",
    "\n",
    "#### List\n",
    "\n",
    "List je varijabilna, sortirana, promjenjiva kolekcija podataka."
   ]
  },
  {
   "cell_type": "code",
   "execution_count": null,
   "id": "66f4f4bf",
   "metadata": {},
   "outputs": [],
   "source": []
  },
  {
   "attachments": {},
   "cell_type": "markdown",
   "id": "d381282d",
   "metadata": {},
   "source": [
    "Dekompozicija liste (kolekcije podataka) ili pridruživanje vrijednosti elemenata liste varijablama."
   ]
  },
  {
   "cell_type": "code",
   "execution_count": null,
   "id": "675cce89",
   "metadata": {},
   "outputs": [],
   "source": []
  },
  {
   "cell_type": "code",
   "execution_count": null,
   "id": "794d1e91",
   "metadata": {},
   "outputs": [],
   "source": []
  },
  {
   "cell_type": "code",
   "execution_count": null,
   "id": "473151d0",
   "metadata": {},
   "outputs": [],
   "source": []
  },
  {
   "attachments": {},
   "cell_type": "markdown",
   "id": "53cac694",
   "metadata": {},
   "source": [
    "**Dodavanje i brisanje elemenata liste**\n",
    "\n",
    "- *append()* - dodaje element na kraj liste\n",
    "- *insert(index, element)* - umeće element na poziciju navedenog indeksa\n",
    "- *extend (lista)* - kao *append()* samo dodaje više elemenata odjednom"
   ]
  },
  {
   "cell_type": "code",
   "execution_count": null,
   "id": "064dd33b",
   "metadata": {},
   "outputs": [],
   "source": []
  },
  {
   "cell_type": "code",
   "execution_count": null,
   "id": "67581876",
   "metadata": {},
   "outputs": [],
   "source": []
  },
  {
   "cell_type": "code",
   "execution_count": null,
   "id": "cdf858fb",
   "metadata": {},
   "outputs": [],
   "source": []
  },
  {
   "attachments": {},
   "cell_type": "markdown",
   "id": "c33bd9d4",
   "metadata": {},
   "source": [
    "- *remove()* - prvo pronađe element pa ga ukloni iz liste\n",
    "- *pop(index)* - obrnuto od *insert()*, uklanja element s pozicije navedenog indeksa"
   ]
  },
  {
   "cell_type": "code",
   "execution_count": null,
   "id": "1fd33fe0",
   "metadata": {},
   "outputs": [],
   "source": []
  },
  {
   "cell_type": "code",
   "execution_count": null,
   "id": "6481d778",
   "metadata": {},
   "outputs": [],
   "source": []
  },
  {
   "attachments": {},
   "cell_type": "markdown",
   "id": "a5aadbf8",
   "metadata": {},
   "source": [
    "Provjera postoji li neka vrijednost u listi:"
   ]
  },
  {
   "cell_type": "code",
   "execution_count": null,
   "id": "4c4ac0f2",
   "metadata": {},
   "outputs": [],
   "source": []
  },
  {
   "cell_type": "markdown",
   "id": "14849836",
   "metadata": {},
   "source": [
    "*Slice* liste"
   ]
  },
  {
   "cell_type": "code",
   "execution_count": null,
   "id": "1c542b07",
   "metadata": {},
   "outputs": [],
   "source": []
  },
  {
   "attachments": {},
   "cell_type": "markdown",
   "id": "3ea7730d",
   "metadata": {},
   "source": [
    "**Sortiranje**\n",
    "\n",
    "*.sorted(lista)* - privremeno promijeni redoslijed elemenata:"
   ]
  },
  {
   "cell_type": "code",
   "execution_count": null,
   "id": "711394a6",
   "metadata": {
    "scrolled": true
   },
   "outputs": [],
   "source": []
  },
  {
   "cell_type": "code",
   "execution_count": null,
   "id": "6768fa41",
   "metadata": {
    "scrolled": true
   },
   "outputs": [],
   "source": []
  },
  {
   "attachments": {},
   "cell_type": "markdown",
   "id": "90e9f834",
   "metadata": {},
   "source": [
    "*.sort()* trajno promijeni redoslijed elemenata:"
   ]
  },
  {
   "cell_type": "code",
   "execution_count": null,
   "id": "6f877f9b",
   "metadata": {
    "scrolled": true
   },
   "outputs": [],
   "source": []
  },
  {
   "attachments": {},
   "cell_type": "markdown",
   "id": "1c78134a",
   "metadata": {},
   "source": [
    "*reversed()* metoda obrnuta je od *sorted()*.\n",
    "\n",
    "**NAPOMENA: *reserved()* generira novu listu tako da ju je potrebno pohraniti u varijablu ili samo objekt pretvoriti metodom u listu.**"
   ]
  },
  {
   "cell_type": "code",
   "execution_count": null,
   "id": "9bea7c7b",
   "metadata": {},
   "outputs": [],
   "source": []
  },
  {
   "cell_type": "code",
   "execution_count": null,
   "id": "3b5af9d7",
   "metadata": {
    "scrolled": true
   },
   "outputs": [],
   "source": []
  },
  {
   "attachments": {},
   "cell_type": "markdown",
   "id": "e1edb23d",
   "metadata": {},
   "source": [
    "#### *Dict* ili *Dictionary* ili rječnik\n",
    "\n",
    "Kolekcija podataka specifična po tome što umjesto indeksa koristi par ključ/vrijednost. Pod ključem čuva jednu ili više vrijednosti."
   ]
  },
  {
   "cell_type": "code",
   "execution_count": null,
   "id": "7f0630ad",
   "metadata": {},
   "outputs": [],
   "source": []
  },
  {
   "attachments": {},
   "cell_type": "markdown",
   "id": "1471189a",
   "metadata": {},
   "source": [
    "Većina metoda koja vrijedi za liste, vrijedi i za rječnik.\n",
    "\n",
    "Neke su ipak specifične:\n",
    "- *keys() - tuple* s kolekcijom svih ključeva\n",
    "- *values() - tuple* s kolekcijom svih vrijednosti\n",
    "- *items() - tuple* s kolekcijom svih ključeva i vrijednosti."
   ]
  },
  {
   "cell_type": "code",
   "execution_count": null,
   "id": "869bcd0b",
   "metadata": {},
   "outputs": [],
   "source": []
  },
  {
   "cell_type": "code",
   "execution_count": null,
   "id": "cf18777b",
   "metadata": {},
   "outputs": [],
   "source": []
  },
  {
   "cell_type": "code",
   "execution_count": null,
   "id": "48105fb3",
   "metadata": {},
   "outputs": [],
   "source": []
  },
  {
   "attachments": {},
   "cell_type": "markdown",
   "id": "38a07886",
   "metadata": {},
   "source": [
    "#### *Tuple*\n",
    "\n",
    "*Tuple* ili n-terac kolekcija je podataka fiksne dužine, dakle fiksnog broja elemenata. To znači kako *tuple* nije moguće mijenjati.\n",
    "\n",
    "Sve što smo koristili u vezi lista, možemo koristiti uz *tuple*, osim metoda koje dodaju, uklanjaju ili mijenjaju elemente. *Tuple* je jako koristan kod učitavanja podataka iz baze zato jer želimo imati kolekciju podataka kakvi se nalaze u bazi i želimo se osigurati da se to ne može promijeniti tijekom njihovog korištenja."
   ]
  },
  {
   "cell_type": "code",
   "execution_count": null,
   "id": "db1e0ccd",
   "metadata": {},
   "outputs": [],
   "source": []
  },
  {
   "cell_type": "code",
   "execution_count": null,
   "id": "14f712e7",
   "metadata": {},
   "outputs": [],
   "source": []
  },
  {
   "attachments": {},
   "cell_type": "markdown",
   "id": "3fccd99a",
   "metadata": {},
   "source": [
    "**PITANJE<br>\n",
    "Možemo li izvršiti kôd u sljedećoj ćeliji?**"
   ]
  },
  {
   "cell_type": "code",
   "execution_count": null,
   "id": "434423ae",
   "metadata": {},
   "outputs": [],
   "source": []
  },
  {
   "attachments": {},
   "cell_type": "markdown",
   "id": "74ad1009",
   "metadata": {},
   "source": [
    "**ODGOVOR<br>**\n",
    "**Nismo mijenjali *tuple*, nego listu koja je element *tuplea*. Dakle, *tuple* kao kolekcija elemenata NIJE promjenjiva, ali ako je neki element tuplea promjenjiv, kao lista na primjer, onda tu listu možemo mijenjati.**"
   ]
  },
  {
   "cell_type": "markdown",
   "id": "75cd1d46",
   "metadata": {},
   "source": [
    "#### *Set*\n",
    "\n",
    "*Set* je nesortirana kolekcija jedinstvenih podataka."
   ]
  },
  {
   "cell_type": "code",
   "execution_count": null,
   "id": "e1ff0b59",
   "metadata": {},
   "outputs": [],
   "source": []
  },
  {
   "cell_type": "code",
   "execution_count": null,
   "id": "1585171a",
   "metadata": {},
   "outputs": [],
   "source": []
  },
  {
   "attachments": {},
   "cell_type": "markdown",
   "id": "a8cf0967",
   "metadata": {},
   "source": [
    "*set()* metoda \"preuzme\" samo jedinstvene vrijednosti. Ako se neka vrijednost ponavlja, jednostavno je izostavi."
   ]
  },
  {
   "attachments": {},
   "cell_type": "markdown",
   "id": "83103f16",
   "metadata": {},
   "source": [
    "### *String*\n",
    "\n",
    "*String* kao tekstualni tip varijable smo već spomenuli tijekom opisa *print()* funkcije. Potrebno je još samo navesti kako je *string* u stvari kolekcija znakova koju NE možemo mijenjati i koju jednostavno možemo pretvoriti u neku listu."
   ]
  },
  {
   "cell_type": "code",
   "execution_count": null,
   "id": "9759c9f8",
   "metadata": {
    "scrolled": true
   },
   "outputs": [],
   "source": []
  },
  {
   "attachments": {},
   "cell_type": "markdown",
   "id": "0713d09e",
   "metadata": {},
   "source": [
    "Ili ako kolekciju znakova pretvorimo u *set*, onda ćemo iz rečenice dobiti kolekciju jedinstvenih znakova. Ponekad ćemo trebati i tu funkcionalnost pa ju je dobro znati."
   ]
  },
  {
   "cell_type": "code",
   "execution_count": null,
   "id": "176b0db7",
   "metadata": {},
   "outputs": [],
   "source": []
  },
  {
   "attachments": {},
   "cell_type": "markdown",
   "id": "7cf0dece",
   "metadata": {},
   "source": [
    "Ako je *string* kolekcija znakova, onda bismo trebali moći koristiti *slice* naredbu."
   ]
  },
  {
   "cell_type": "code",
   "execution_count": null,
   "id": "858a041a",
   "metadata": {},
   "outputs": [],
   "source": []
  },
  {
   "attachments": {},
   "cell_type": "markdown",
   "id": "6dbfbb8b",
   "metadata": {},
   "source": [
    "Radi.\n",
    "\n",
    "Kako se tekstualni podaci najčešće pohranjuju kao *string*, onda je jako korisno poznavati mogućnosti toga kako se može formatirati prikaz tog teksta.\n",
    "\n",
    "Posebni znakovi, koje nazivamo *escape*, koriste se za prikaz nekih posebnih znakova u koje ubrajamo novi red i *tab*:\n",
    "- *\\n* - novi red\n",
    "- *\\t* - tab ili uvlaka\n",
    "- *\\\\\"* - dvostruki navodnici\n",
    "- *\\\\'* - jednostruki navodnici\n",
    "- *\\* - kosa crta (backslash)."
   ]
  },
  {
   "cell_type": "code",
   "execution_count": null,
   "id": "58eed3d6",
   "metadata": {},
   "outputs": [],
   "source": []
  },
  {
   "attachments": {},
   "cell_type": "markdown",
   "id": "b0543a26",
   "metadata": {},
   "source": [
    "Ako ispred navodnika, unutar kojih upisujemo znakove koji čine *string*, napišemo slovo **r**, poništit ćemo svo formatiranje koje smo postigli uporabom *escape* znakova.\n",
    "\n",
    "Slovo *r* je od engleske riječi *raw* što znači sirovo."
   ]
  },
  {
   "cell_type": "code",
   "execution_count": null,
   "id": "5212bc70",
   "metadata": {},
   "outputs": [],
   "source": []
  },
  {
   "attachments": {},
   "cell_type": "markdown",
   "id": "53c3d1d5",
   "metadata": {},
   "source": [
    "**PITANJE<br>**\n",
    "**Osim slova *r*, postoje li još neke slične modifikacije* string* varijable? Istražite na internetu.**\n",
    "\n",
    "*.format()* metoda je dostupna nad *str* objektom i koristimo je kada želimo izravno, unutar rečenice, (*string* varijable) umetnuti vrijednosti varijabli. To je jako korisno jer onda točno znamo na kojem mjestu će doći vrijednost varijable te koji će se znakovi ispisati oko te vrijednosti.\n",
    "\n",
    "Osim toga, postoje još i modifikatori koji služe za promjenu prikaza vrijednosti varijable, kao na primjer prikaz valuta.\n",
    "\n",
    "- *{0:.2f}* - koristi se za formatiranje decimalnih brojeva (zato ima ono slovo *f*), a broj decimalnih mjesta je definiran nakon točke - u ovom slučaju to je broj 2. Nula, koja je prvi znak unutar vitičastih zagrada, označava indeks elementa unutar liste varijabli koje se prosljeđuju kao argument metode *.format()*.\n",
    "- *{1:s}* - formatiraj vrijednost varijable kao tekst.\n",
    "- *{2:d}* - formatiraj vrijednost varijable kao broj (*d* kao prvo slovo od riječi *digit*)."
   ]
  },
  {
   "cell_type": "code",
   "execution_count": null,
   "id": "3184293e",
   "metadata": {},
   "outputs": [],
   "source": []
  },
  {
   "attachments": {},
   "cell_type": "markdown",
   "id": "6de64074",
   "metadata": {},
   "source": [
    "### *Boolean* kao istina ili laž\n",
    "\n",
    "Python, kao i svaki drugi jezik, ima tip varijable *Boolean* koji označava je li neki izraz istina ili laž, *True* ili *False*. Koristi se kod uvjetnog grananja kôda, ali i kod raznih provjera ima li neka varijabla traženu vrijednost ili ne."
   ]
  },
  {
   "attachments": {},
   "cell_type": "markdown",
   "id": "a3e997e6",
   "metadata": {},
   "source": [
    "### *None* kao podatak bez vrijednosti\n",
    "\n",
    "*None* je Python oznaka toga da varijabla **NEMA vrijednost**. Dakle, ako je u nekoj varijabli pohranjen broj 0, onda ta varijabla NEMA vrijednost *None*, već nulu."
   ]
  },
  {
   "cell_type": "markdown",
   "id": "c1e3f9eb",
   "metadata": {},
   "source": [
    "### Kontrola toka izvršavanja programa"
   ]
  },
  {
   "cell_type": "markdown",
   "id": "e36a747b",
   "metadata": {},
   "source": [
    "**Uvjetno izvršavanje**<br>\n",
    "if<br>\n",
    "if ... else<br>\n",
    "if ... elif ... else<br>\n",
    "<br>\n",
    "**Ponavljajuće izvršavanje**<br>\n",
    "while<br>\n",
    "for<br>"
   ]
  },
  {
   "cell_type": "markdown",
   "id": "3b7a02be",
   "metadata": {},
   "source": [
    "**if**"
   ]
  },
  {
   "cell_type": "code",
   "execution_count": null,
   "id": "56631914",
   "metadata": {},
   "outputs": [],
   "source": []
  },
  {
   "cell_type": "markdown",
   "id": "62c9ecdb",
   "metadata": {},
   "source": [
    "**if ... else**"
   ]
  },
  {
   "cell_type": "code",
   "execution_count": null,
   "id": "9b617648",
   "metadata": {},
   "outputs": [],
   "source": []
  },
  {
   "cell_type": "markdown",
   "id": "a458b9da",
   "metadata": {},
   "source": [
    "**if ... elif ... else**"
   ]
  },
  {
   "cell_type": "code",
   "execution_count": null,
   "id": "af0e3cce",
   "metadata": {},
   "outputs": [],
   "source": []
  },
  {
   "cell_type": "markdown",
   "id": "62f13e53",
   "metadata": {},
   "source": [
    "**while**"
   ]
  },
  {
   "cell_type": "code",
   "execution_count": null,
   "id": "dd028c9f",
   "metadata": {},
   "outputs": [],
   "source": []
  },
  {
   "cell_type": "markdown",
   "id": "ec163c3a",
   "metadata": {},
   "source": [
    "**for**"
   ]
  },
  {
   "cell_type": "code",
   "execution_count": null,
   "id": "fef6d818",
   "metadata": {},
   "outputs": [],
   "source": []
  },
  {
   "cell_type": "markdown",
   "id": "31c940a3",
   "metadata": {},
   "source": [
    "#### Python način kraćeg pisanja kôda"
   ]
  },
  {
   "cell_type": "code",
   "execution_count": null,
   "id": "dcd0dac5",
   "metadata": {},
   "outputs": [],
   "source": []
  },
  {
   "cell_type": "markdown",
   "id": "71420dfb",
   "metadata": {},
   "source": [
    "Ili kraće"
   ]
  },
  {
   "cell_type": "code",
   "execution_count": null,
   "id": "8b0379fd",
   "metadata": {},
   "outputs": [],
   "source": []
  },
  {
   "attachments": {},
   "cell_type": "markdown",
   "id": "d265cb12",
   "metadata": {},
   "source": [
    "Sve stavimo u uglate zagrade kako bismo kreirali listu. Zatim navedemo što želimo raditi. U našem slučaju: slova iz varijable *X* (naziv koji mi definiramo) pretvori u velika slova. Varijablu *X* dobit ćete tako što ćete *FOR* petljom proći kroz listu RIJEČI i jedan po jedan element liste dodijeliti varijabli *X*, ali samo ako zadovoljava uvjet da je dužina te riječi veća od 2.\n",
    "\n",
    "Kada se naviknete na ovaj način pisanja, postat će vam razumljiv i bit će vam jako teško prihvatiti pisanje komplicirane, dugačke konstrukcije u drugim programskim jezicima.\n",
    "\n",
    "**Konstrukcija DICT kolekcije**\n",
    "\n",
    "*Dict_konstrukcija = {kljuc_naredba : vrijednost_naredba for vrijednost in kolekcija if uvjet}.*<br>\n",
    "Kljuc_naredba - predstavlja jednu liniju kao što smo imali u *x.upper()*, dakle predstavlja kako ćemo dobiti ključ. Isto se odnosi  i na vrijednost.\n",
    "\n",
    "**Konstrukcija SET kolekcije**<br>\n",
    "*dict_comp = {naredba for vrijednost in kolekcija if uvjet}*\n",
    "\n",
    "**PRIMJER**"
   ]
  },
  {
   "cell_type": "code",
   "execution_count": null,
   "id": "5995ca37",
   "metadata": {},
   "outputs": [],
   "source": []
  },
  {
   "attachments": {},
   "cell_type": "markdown",
   "id": "5f13c927",
   "metadata": {},
   "source": [
    "**ZADATAK<br>**\n",
    "Kreirajte program koji će prikazati:\n",
    "\n",
    "- minimalnu dnevnu temperaturu\n",
    "- maksimalnu dnevnu temperaturu\n",
    "- prosječnu dnevnu temperaturu\n",
    "- broj mjerenja (očitanja senzora) temperature."
   ]
  },
  {
   "cell_type": "code",
   "execution_count": null,
   "id": "797f73df",
   "metadata": {},
   "outputs": [],
   "source": []
  },
  {
   "cell_type": "markdown",
   "id": "2cf67b2b",
   "metadata": {},
   "source": [
    "## Python moduli\n",
    "### Python integrirani moduli"
   ]
  },
  {
   "attachments": {},
   "cell_type": "markdown",
   "id": "6b4c4540",
   "metadata": {},
   "source": [
    "Već smo krenuli s obradom podataka tražeći ekstreme (najmanju i najveću vrijednost), prosjek i broj ponavljanja. U podatkovnoj znanosti, intenzivno se koriste ove vrijednosti kako bi se dobila gruba slika kvalitete podataka. Međutim, nedostaju još tri jednako važne vrijednosti koje opisuju vrijednosti grupirane oko sredine. \n",
    "\n",
    "- **Prosjek ili srednja vrijednost (eng. mean)** - predstavlja zbroj svih vrijednosti neke liste podataka, podijeljen s ukupnim brojem elemenata te liste. Koristan podatak, ali nekada ne daje kvalitetnu sliku zato jer na srednju vrijednost jako utječu granične vrijednosti.\n",
    "- **Medijan (eng. median)** - vrijednost središnjeg podatka koji podatke poredane po veličini dijeli u dva jednako brojna dijela. Ako je broj podataka neparan, medijan je vrijednost središnjeg podatka, a ako je broj podataka paran, medijan predstavlja srednju vrijednost dva središnja podatka.\n",
    "- **Mod (eng. mode)** — vrijednost podatka koji se najčešće ponavlja u listi."
   ]
  },
  {
   "attachments": {},
   "cell_type": "markdown",
   "id": "936e86a4",
   "metadata": {},
   "source": [
    "Python je programski jezik uz koji se isporučuju baterije, odnosno sve ono što je potrebno za programiranje velike većine aplikacija. Razlog tome je velika količina integriranih modula u programski jezik. Ovi moduli se nazivaju **Python Standard Library** moduli. Neke od njih smo koristili, a neke ćemo koristiti tijekom ovog seminara:<br>\n",
    "- **collections** - modul s dodatnim kolekcijama podataka, osim lista, n-teraca (*tuple*), rječnika i setova\n",
    "- **csv** - modul za procesiranje sadržaja *CSV* datoteka\n",
    "- **datetime, time** - rad s vremenom i datumima kao tipovima podataka\n",
    "- **decimal** - računanje s fiksnim i promjenjivim decimalnim mjestima, uključujući i monetarne izračune\n",
    "- **json** - modul za procesiranje json (*JavaScript Object Notation (JSON)*)\n",
    "- **math** - najčešće matematičke konstante i operacije vezane uz njih\n",
    "- **os** - modul za interakciju s operacijskim sustavom računala\n",
    "- **timeit** - modul za analizu performansi algoritma (cilj je da nam obrada podataka bude brza)\n",
    "- **random** - generator nasumičnih brojeva\n",
    "- **re** - modul za rad s *\"Regular expressions\"*, odnosno za provjeru unesenih podataka na osnovu prethodno definiranih predložaka, recimo provjera je li unos u neko polje unutar forme u formatu *email* adrese ili je samo nekakva hrpa nabacanih slova\n",
    "- **sqlite3** - modul za rad s SQLite bazom podataka\n",
    "- **statistics** - statističke matematičke funkcije kao \"mean\", \"median\", \"mode\", \"variance\" \n",
    "- **string** - obrada tekstualnih tipova podataka\n",
    "- **sys** - prilikom pokretanja Python skripti (datoteke s *.py* ekstenzijom) u konzoli možemo proslijediti neke podatke koji će se iskoristiti kod pokretanja skripte *.modul sys* koji je namijenjen procesiranju tih dodatnih argumenata."
   ]
  },
  {
   "attachments": {},
   "cell_type": "markdown",
   "id": "ca3a8c59",
   "metadata": {},
   "source": [
    "### Python moduli koji se koriste u podatkovnoj znanosti"
   ]
  },
  {
   "attachments": {},
   "cell_type": "markdown",
   "id": "61a3f33a",
   "metadata": {},
   "source": [
    "- **NumPy** - *Numerical Python* - modul za statističke proračune nad listama i matricama (matrice se mogu najjednostavnije predstaviti kao tabela s kolonama i redovima)\n",
    "- **Pandas** - modul manipulacije s podacima i njihove analize\n",
    "- **Matplotlib** - vizualizacija podataka"
   ]
  },
  {
   "attachments": {},
   "cell_type": "markdown",
   "id": "8d7b2172",
   "metadata": {},
   "source": [
    "Krenimo prvo s ugrađenim modulima.\n",
    "\n",
    "Pokažimo na primjerima statističkih vrijednosti za srednju vrijednost, medijan i mod, ali uz pomoć ugrađenog modula Pythona **statistics**.\n"
   ]
  },
  {
   "cell_type": "code",
   "execution_count": null,
   "id": "60b403bd",
   "metadata": {},
   "outputs": [],
   "source": []
  },
  {
   "cell_type": "markdown",
   "id": "fe9f8319",
   "metadata": {},
   "source": [
    "#### Datumi i vrijeme\n",
    "\n"
   ]
  },
  {
   "cell_type": "code",
   "execution_count": null,
   "id": "6d2b5686",
   "metadata": {},
   "outputs": [],
   "source": []
  },
  {
   "cell_type": "code",
   "execution_count": null,
   "id": "702326f4",
   "metadata": {},
   "outputs": [],
   "source": []
  },
  {
   "cell_type": "code",
   "execution_count": null,
   "id": "cb69d05b",
   "metadata": {},
   "outputs": [],
   "source": []
  },
  {
   "cell_type": "code",
   "execution_count": null,
   "id": "35db1e4c",
   "metadata": {},
   "outputs": [],
   "source": []
  },
  {
   "cell_type": "code",
   "execution_count": null,
   "id": "bef4f09c",
   "metadata": {},
   "outputs": [],
   "source": []
  },
  {
   "cell_type": "code",
   "execution_count": null,
   "id": "9f126f7d",
   "metadata": {},
   "outputs": [],
   "source": []
  },
  {
   "cell_type": "code",
   "execution_count": null,
   "id": "d3a21fa0",
   "metadata": {},
   "outputs": [],
   "source": []
  },
  {
   "cell_type": "code",
   "execution_count": null,
   "id": "d50c2c8c",
   "metadata": {},
   "outputs": [],
   "source": []
  },
  {
   "cell_type": "code",
   "execution_count": null,
   "id": "5892199a",
   "metadata": {},
   "outputs": [],
   "source": []
  },
  {
   "attachments": {},
   "cell_type": "markdown",
   "id": "076b5321",
   "metadata": {},
   "source": [
    "Vidjeli smo kako možemo upravljati varijablama koje čuvaju podatke o datumu i vremenu, kako možemo računati razliku između dva datuma (*timedelta()*) te kako možemo formatirati (*str**f**time*) i čitati, odnosno pisati (*str**p**time*) tekst u varijablama i iz varijabli tipa datum i vrijeme.\n",
    "\n",
    "Pomoću kombinacije znaka postotak i slova, možemo odrediti u koji dio *datetime* varijable će se neki tekst učitati ili iz kojeg ćemo dijela te iste varijable dohvatiti vrijednost:<br>\n",
    "- **%Y** - godina zapisana kao četveroznamenkasti broj\n",
    "- **%y** - godina zapisana kao dvoznamenkasti broj (21 za 2021. godinu)\n",
    "- **%m** - mjesec zapisan kao dvoznamenkasti broj (01, 02, 12)\n",
    "- **%d** - dan zapisan kao dvoznamenkasti broj (01, 02, 23, 31)\n",
    "- **%H** - sat u 24-satnom formatu zapisa (00, 01, 23)\n",
    "- **%I** - sat u 12-satnom formatu zapisa (00, 01, 12)\n",
    "- **%M** - minute zapisane kao dvoznamenkasti broj (01, 02, 59)\n",
    "- **%S** - sekunde zapisane kao dvoznamenkasti broj (01, 02, 59)\n",
    "- **%w** - dan u tjednu kao broj od 0 do 6 za ponedjeljak do nedjelje\n",
    "- **%U** - dvoznamenkasti broj tjedna u godini. *Nedjelja* se smatra prvim danom u tjednu i dani poslije prve nedjelje u godini smatraju se dijelom 00 tjedna.\n",
    "- **%W** - dvoznamenkasti broj tjedna u godini. *Ponedjeljak* se smatra prvim danom u tjednu i dani poslije prve nedjelje u godini smatraju se dijelom 00 tjedna.\n",
    "- **%z** - odstupanje od UTC vremenske zone kao +HHHH ili -HHHH (sati).\n",
    "- **%F** - skraćeni oblik za format: %Y-%m-%d (2021-9-18)\n",
    "- **%D** - skraćeni oblik za format: %m/%d/%y (09/18/21)"
   ]
  },
  {
   "attachments": {},
   "cell_type": "markdown",
   "id": "bd4ba12c",
   "metadata": {},
   "source": [
    "**PITANJE<br>**\n",
    "**Pronađite koje još formate datuma i vremena imate unutar *datetime* modula. Kao pomoć: možemo li dobiti to da za dan u tjednu ispiše Petak, a ne broj 4?**\n",
    "\n",
    "**Pomoću *locale* modula, prikažite datum: *Petak, 24. Rujan 2021. godine* na hrvatskom, engleskom i njemačkom jeziku.**"
   ]
  },
  {
   "attachments": {},
   "cell_type": "markdown",
   "id": "da9a6c32",
   "metadata": {},
   "source": [
    "**ZADATAK**<br>\n",
    "**Napravite aplikaciju koja će generirati nasumične podatke, tako da simulira dnevni rast temperature od jutra do poslijepodneva i zatim pad do ranog jutra. Podatke treba pohraniti u rječnik, tako da je ključ datum, a podaci lista parova vrijednosti (*tuple*) vremena i temperature. Temperatura treba biti izmjerena svakih 15 minuta.**\n",
    "\n",
    "- **Temperatura zraka od -25 do +39 stupnjeva Celzijusa**\n",
    "- **Početni datum i vrijeme trebaju biti uneseni od strane korisnika, a moraju biti minimalno dvije godine prije današnjeg datuma.**\n",
    "\n",
    "**Podacima se mogu dodati i informacije o vlažnosti zraka (vrijednosti od 15% do 95%) te tlak zraka (990 hPa do 1035 hPa).**"
   ]
  },
  {
   "cell_type": "code",
   "execution_count": null,
   "id": "822c090e",
   "metadata": {},
   "outputs": [],
   "source": []
  }
 ],
 "metadata": {
  "celltoolbar": "Raw Cell Format",
  "kernelspec": {
   "display_name": "Python 3 (ipykernel)",
   "language": "python",
   "name": "python3"
  },
  "language_info": {
   "codemirror_mode": {
    "name": "ipython",
    "version": 3
   },
   "file_extension": ".py",
   "mimetype": "text/x-python",
   "name": "python",
   "nbconvert_exporter": "python",
   "pygments_lexer": "ipython3",
   "version": "3.12.0"
  }
 },
 "nbformat": 4,
 "nbformat_minor": 5
}
