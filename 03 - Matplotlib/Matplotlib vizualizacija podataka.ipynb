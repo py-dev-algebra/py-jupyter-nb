{
 "cells": [
  {
   "attachments": {},
   "cell_type": "markdown",
   "id": "3949730b",
   "metadata": {},
   "source": [
    "<a href='http://www.algebra.hr'> <img src='../algebra_logo_color_h.png' alt=\"Algebra\" width=\"500\" /></a>\n",
    "___\n",
    "# Matplotlib - Vizualizacija podataka\n",
    "\n",
    "Čovjekov mozak puno lakše \"čita\" grafičke prikaze podataka, nego tablične prikaze s brojevima. Do sada smo se bavili tabličnim prikazom podataka pa je vrijeme za prikaz podataka u obliku grafova. Tijekom ovog seminara, nećemo se baviti animacijom niti 3D prikazom podataka, ali svakako podržavamo svaki nastavak istraživanja u području podatkovne znanosti i vizualizacije podataka.\n",
    "\n",
    "Python ima jako puno biblioteka koje mogu grafički prikazati podatke, ali se, za potrebe analize podataka (podatkovne znanosti), *matplotlib* pokazao kao jedna od najboljih. Matplotlib je (više detalja na stranici: https://matplotlib.org/2.0.2/index.html) Python biblioteka namijenjena za 2D grafički prikaz podataka. Standardni je dio Anaconda distribucije, a naravno, može se instalirati zasebno.\n",
    "\n",
    "Matplotlib nije tako jednostavna biblioteka za korištenje, ali zahvaljujući Pandas biblioteci, u kojoj imamo pomoćne metode, korištenje matplotlib biblioteke prilično je jednostavno.\n",
    "\n",
    "Za potrebe ovog dijela koristit ćemo se *casedistribution.csv* te *csv* datotekama koje smo koristili u prethodnim vježbama i primjerima. Ipak, primarna *csv* datoteka bit će *casedistribution.csv* datoteka, dostupna na adresi: https://opendata.ecdc.europa.eu/covid19/casedistribution/csv, a preuzeta je 29.08.2021.\n",
    "\n",
    "Korištenje matplotlib biblioteke započinje njezinim dodavanjem u skriptu naredbom *import*."
   ]
  },
  {
   "cell_type": "code",
   "execution_count": 1,
   "id": "d7abdc7d",
   "metadata": {},
   "outputs": [],
   "source": [
    "import matplotlib.pyplot as plt\n",
    "# Uobicajena terminologija za matplotlib -> plt"
   ]
  },
  {
   "attachments": {},
   "cell_type": "markdown",
   "id": "86851343",
   "metadata": {},
   "source": [
    "Jupyter Notebook omogućava takozvane *magic commands* koje uvijek započinju znakom *%*. Tako postoji i *magic* naredba za matplotlib (odnosno dvije):"
   ]
  },
  {
   "cell_type": "code",
   "execution_count": 2,
   "id": "16f92061",
   "metadata": {},
   "outputs": [],
   "source": [
    "%matplotlib inline"
   ]
  },
  {
   "attachments": {},
   "cell_type": "markdown",
   "id": "bdd64779",
   "metadata": {},
   "source": [
    "Omogućava integraciju statičkih prikaza grafova unutar Jupyter Notebook dokumenta. Osim toga, samo unutar Jupyter Notebook dokumenta omogućava prikaz grafova bez pozivanja naredbe *plt.show()*.\n",
    "\n",
    "Druga *magic* naredba je *%matplotlib notebook* koja dodaje određenu razinu interaktivnosti, ali u nekim situacijama može kreirati bugove pa ćemo je većinom izbjegavati.\n",
    "\n",
    "Kreirajmo naš prvi graf. Osim što smo uključili matplotlib, potreban nam je i Pandas da bismo učitali podatke iz *csv* datoteke."
   ]
  },
  {
   "cell_type": "code",
   "execution_count": 3,
   "id": "6ce82496",
   "metadata": {},
   "outputs": [],
   "source": [
    "import pandas as pd"
   ]
  },
  {
   "cell_type": "code",
   "execution_count": 9,
   "id": "da3cd955",
   "metadata": {},
   "outputs": [
    {
     "data": {
      "text/html": [
       "<div>\n",
       "<style scoped>\n",
       "    .dataframe tbody tr th:only-of-type {\n",
       "        vertical-align: middle;\n",
       "    }\n",
       "\n",
       "    .dataframe tbody tr th {\n",
       "        vertical-align: top;\n",
       "    }\n",
       "\n",
       "    .dataframe thead th {\n",
       "        text-align: right;\n",
       "    }\n",
       "</style>\n",
       "<table border=\"1\" class=\"dataframe\">\n",
       "  <thead>\n",
       "    <tr style=\"text-align: right;\">\n",
       "      <th></th>\n",
       "      <th>dateRep</th>\n",
       "      <th>day</th>\n",
       "      <th>month</th>\n",
       "      <th>year</th>\n",
       "      <th>cases</th>\n",
       "      <th>deaths</th>\n",
       "      <th>countriesAndTerritories</th>\n",
       "      <th>geoId</th>\n",
       "      <th>countryterritoryCode</th>\n",
       "      <th>popData2019</th>\n",
       "      <th>continentExp</th>\n",
       "      <th>Cumulative_number_for_14_days_of_COVID-19_cases_per_100000</th>\n",
       "    </tr>\n",
       "  </thead>\n",
       "  <tbody>\n",
       "    <tr>\n",
       "      <th>0</th>\n",
       "      <td>2020-12-14</td>\n",
       "      <td>14</td>\n",
       "      <td>12</td>\n",
       "      <td>2020</td>\n",
       "      <td>746</td>\n",
       "      <td>6</td>\n",
       "      <td>Afghanistan</td>\n",
       "      <td>AF</td>\n",
       "      <td>AFG</td>\n",
       "      <td>38041757.0</td>\n",
       "      <td>Asia</td>\n",
       "      <td>9.013779</td>\n",
       "    </tr>\n",
       "    <tr>\n",
       "      <th>1</th>\n",
       "      <td>2020-12-13</td>\n",
       "      <td>13</td>\n",
       "      <td>12</td>\n",
       "      <td>2020</td>\n",
       "      <td>298</td>\n",
       "      <td>9</td>\n",
       "      <td>Afghanistan</td>\n",
       "      <td>AF</td>\n",
       "      <td>AFG</td>\n",
       "      <td>38041757.0</td>\n",
       "      <td>Asia</td>\n",
       "      <td>7.052776</td>\n",
       "    </tr>\n",
       "    <tr>\n",
       "      <th>2</th>\n",
       "      <td>2020-12-12</td>\n",
       "      <td>12</td>\n",
       "      <td>12</td>\n",
       "      <td>2020</td>\n",
       "      <td>113</td>\n",
       "      <td>11</td>\n",
       "      <td>Afghanistan</td>\n",
       "      <td>AF</td>\n",
       "      <td>AFG</td>\n",
       "      <td>38041757.0</td>\n",
       "      <td>Asia</td>\n",
       "      <td>6.868768</td>\n",
       "    </tr>\n",
       "    <tr>\n",
       "      <th>3</th>\n",
       "      <td>2020-12-11</td>\n",
       "      <td>11</td>\n",
       "      <td>12</td>\n",
       "      <td>2020</td>\n",
       "      <td>63</td>\n",
       "      <td>10</td>\n",
       "      <td>Afghanistan</td>\n",
       "      <td>AF</td>\n",
       "      <td>AFG</td>\n",
       "      <td>38041757.0</td>\n",
       "      <td>Asia</td>\n",
       "      <td>7.134266</td>\n",
       "    </tr>\n",
       "    <tr>\n",
       "      <th>4</th>\n",
       "      <td>2020-12-10</td>\n",
       "      <td>10</td>\n",
       "      <td>12</td>\n",
       "      <td>2020</td>\n",
       "      <td>202</td>\n",
       "      <td>16</td>\n",
       "      <td>Afghanistan</td>\n",
       "      <td>AF</td>\n",
       "      <td>AFG</td>\n",
       "      <td>38041757.0</td>\n",
       "      <td>Asia</td>\n",
       "      <td>6.968658</td>\n",
       "    </tr>\n",
       "    <tr>\n",
       "      <th>...</th>\n",
       "      <td>...</td>\n",
       "      <td>...</td>\n",
       "      <td>...</td>\n",
       "      <td>...</td>\n",
       "      <td>...</td>\n",
       "      <td>...</td>\n",
       "      <td>...</td>\n",
       "      <td>...</td>\n",
       "      <td>...</td>\n",
       "      <td>...</td>\n",
       "      <td>...</td>\n",
       "      <td>...</td>\n",
       "    </tr>\n",
       "    <tr>\n",
       "      <th>61895</th>\n",
       "      <td>2020-03-25</td>\n",
       "      <td>25</td>\n",
       "      <td>3</td>\n",
       "      <td>2020</td>\n",
       "      <td>0</td>\n",
       "      <td>0</td>\n",
       "      <td>Zimbabwe</td>\n",
       "      <td>ZW</td>\n",
       "      <td>ZWE</td>\n",
       "      <td>14645473.0</td>\n",
       "      <td>Africa</td>\n",
       "      <td>NaN</td>\n",
       "    </tr>\n",
       "    <tr>\n",
       "      <th>61896</th>\n",
       "      <td>2020-03-24</td>\n",
       "      <td>24</td>\n",
       "      <td>3</td>\n",
       "      <td>2020</td>\n",
       "      <td>0</td>\n",
       "      <td>1</td>\n",
       "      <td>Zimbabwe</td>\n",
       "      <td>ZW</td>\n",
       "      <td>ZWE</td>\n",
       "      <td>14645473.0</td>\n",
       "      <td>Africa</td>\n",
       "      <td>NaN</td>\n",
       "    </tr>\n",
       "    <tr>\n",
       "      <th>61897</th>\n",
       "      <td>2020-03-23</td>\n",
       "      <td>23</td>\n",
       "      <td>3</td>\n",
       "      <td>2020</td>\n",
       "      <td>0</td>\n",
       "      <td>0</td>\n",
       "      <td>Zimbabwe</td>\n",
       "      <td>ZW</td>\n",
       "      <td>ZWE</td>\n",
       "      <td>14645473.0</td>\n",
       "      <td>Africa</td>\n",
       "      <td>NaN</td>\n",
       "    </tr>\n",
       "    <tr>\n",
       "      <th>61898</th>\n",
       "      <td>2020-03-22</td>\n",
       "      <td>22</td>\n",
       "      <td>3</td>\n",
       "      <td>2020</td>\n",
       "      <td>1</td>\n",
       "      <td>0</td>\n",
       "      <td>Zimbabwe</td>\n",
       "      <td>ZW</td>\n",
       "      <td>ZWE</td>\n",
       "      <td>14645473.0</td>\n",
       "      <td>Africa</td>\n",
       "      <td>NaN</td>\n",
       "    </tr>\n",
       "    <tr>\n",
       "      <th>61899</th>\n",
       "      <td>2020-03-21</td>\n",
       "      <td>21</td>\n",
       "      <td>3</td>\n",
       "      <td>2020</td>\n",
       "      <td>1</td>\n",
       "      <td>0</td>\n",
       "      <td>Zimbabwe</td>\n",
       "      <td>ZW</td>\n",
       "      <td>ZWE</td>\n",
       "      <td>14645473.0</td>\n",
       "      <td>Africa</td>\n",
       "      <td>NaN</td>\n",
       "    </tr>\n",
       "  </tbody>\n",
       "</table>\n",
       "<p>61900 rows × 12 columns</p>\n",
       "</div>"
      ],
      "text/plain": [
       "         dateRep  day  month  year  cases  deaths countriesAndTerritories  \\\n",
       "0     2020-12-14   14     12  2020    746       6             Afghanistan   \n",
       "1     2020-12-13   13     12  2020    298       9             Afghanistan   \n",
       "2     2020-12-12   12     12  2020    113      11             Afghanistan   \n",
       "3     2020-12-11   11     12  2020     63      10             Afghanistan   \n",
       "4     2020-12-10   10     12  2020    202      16             Afghanistan   \n",
       "...          ...  ...    ...   ...    ...     ...                     ...   \n",
       "61895 2020-03-25   25      3  2020      0       0                Zimbabwe   \n",
       "61896 2020-03-24   24      3  2020      0       1                Zimbabwe   \n",
       "61897 2020-03-23   23      3  2020      0       0                Zimbabwe   \n",
       "61898 2020-03-22   22      3  2020      1       0                Zimbabwe   \n",
       "61899 2020-03-21   21      3  2020      1       0                Zimbabwe   \n",
       "\n",
       "      geoId countryterritoryCode  popData2019 continentExp  \\\n",
       "0        AF                  AFG   38041757.0         Asia   \n",
       "1        AF                  AFG   38041757.0         Asia   \n",
       "2        AF                  AFG   38041757.0         Asia   \n",
       "3        AF                  AFG   38041757.0         Asia   \n",
       "4        AF                  AFG   38041757.0         Asia   \n",
       "...     ...                  ...          ...          ...   \n",
       "61895    ZW                  ZWE   14645473.0       Africa   \n",
       "61896    ZW                  ZWE   14645473.0       Africa   \n",
       "61897    ZW                  ZWE   14645473.0       Africa   \n",
       "61898    ZW                  ZWE   14645473.0       Africa   \n",
       "61899    ZW                  ZWE   14645473.0       Africa   \n",
       "\n",
       "       Cumulative_number_for_14_days_of_COVID-19_cases_per_100000  \n",
       "0                                               9.013779           \n",
       "1                                               7.052776           \n",
       "2                                               6.868768           \n",
       "3                                               7.134266           \n",
       "4                                               6.968658           \n",
       "...                                                  ...           \n",
       "61895                                                NaN           \n",
       "61896                                                NaN           \n",
       "61897                                                NaN           \n",
       "61898                                                NaN           \n",
       "61899                                                NaN           \n",
       "\n",
       "[61900 rows x 12 columns]"
      ]
     },
     "execution_count": 9,
     "metadata": {},
     "output_type": "execute_result"
    }
   ],
   "source": [
    "# casedistribution_df = pd.read_csv('../Data/Vjezbe_Primjeri/casedistribution.csv')\n",
    "casedistribution_df = pd.read_csv('../Data/Vjezbe_Primjeri/casedistribution.csv', parse_dates=['dateRep'], dayfirst=True)\n",
    "casedistribution_df"
   ]
  },
  {
   "attachments": {},
   "cell_type": "markdown",
   "id": "72ccdbdc",
   "metadata": {},
   "source": [
    "Nakon što smo učitali podatke, u *plt.plot* metodu proslijedit ćemo podatke za x i y os grafa te na kraju pozvati *plt.show()* metodu koja će stvarno iscrtati graf.\n",
    "\n",
    "**NAPOMENA: naredbu *plt.show()* nije nužno koristiti jer koristimo magic naredbu, ali smo je naveli kako bismo vam ukazali na potrebu njezinog korištenja unutar drugih razvojnih okruženja.**"
   ]
  },
  {
   "cell_type": "code",
   "execution_count": 10,
   "id": "01ffadba",
   "metadata": {},
   "outputs": [
    {
     "data": {
      "image/png": "[encoded data removed]",
      "text/plain": [
       "<Figure size 640x480 with 1 Axes>"
      ]
     },
     "metadata": {},
     "output_type": "display_data"
    }
   ],
   "source": [
    "plt.plot(casedistribution_df.dateRep, casedistribution_df.cases)\n",
    "plt.show()"
   ]
  },
  {
   "attachments": {},
   "cell_type": "markdown",
   "id": "01ed0e7c",
   "metadata": {},
   "source": [
    "Iz ovog se grafa ništa ne može vidjeti.\n",
    "\n",
    "**PITANJE**<br>\n",
    "**Što mislite da treba napraviti da bi se graf ljepše iscrtao?**\n",
    "\n",
    "ODGOVOR<br>\n",
    "To je zbog načina pretvaranja datuma iz kolone \"dateRep\". Za sada će biti dovoljno samo malo grupirati podatke i graf će izgledati čitljivije."
   ]
  },
  {
   "cell_type": "code",
   "execution_count": 14,
   "id": "774fb1ed",
   "metadata": {},
   "outputs": [
    {
     "data": {
      "text/html": [
       "<div>\n",
       "<style scoped>\n",
       "    .dataframe tbody tr th:only-of-type {\n",
       "        vertical-align: middle;\n",
       "    }\n",
       "\n",
       "    .dataframe tbody tr th {\n",
       "        vertical-align: top;\n",
       "    }\n",
       "\n",
       "    .dataframe thead th {\n",
       "        text-align: right;\n",
       "    }\n",
       "</style>\n",
       "<table border=\"1\" class=\"dataframe\">\n",
       "  <thead>\n",
       "    <tr style=\"text-align: right;\">\n",
       "      <th></th>\n",
       "      <th>dateRep</th>\n",
       "      <th>cases</th>\n",
       "    </tr>\n",
       "  </thead>\n",
       "  <tbody>\n",
       "    <tr>\n",
       "      <th>0</th>\n",
       "      <td>2019-12-31</td>\n",
       "      <td>0.0</td>\n",
       "    </tr>\n",
       "    <tr>\n",
       "      <th>1</th>\n",
       "      <td>2020-01-01</td>\n",
       "      <td>0.0</td>\n",
       "    </tr>\n",
       "    <tr>\n",
       "      <th>2</th>\n",
       "      <td>2020-01-02</td>\n",
       "      <td>0.0</td>\n",
       "    </tr>\n",
       "    <tr>\n",
       "      <th>3</th>\n",
       "      <td>2020-01-03</td>\n",
       "      <td>0.0</td>\n",
       "    </tr>\n",
       "    <tr>\n",
       "      <th>4</th>\n",
       "      <td>2020-01-04</td>\n",
       "      <td>0.0</td>\n",
       "    </tr>\n",
       "    <tr>\n",
       "      <th>...</th>\n",
       "      <td>...</td>\n",
       "      <td>...</td>\n",
       "    </tr>\n",
       "    <tr>\n",
       "      <th>345</th>\n",
       "      <td>2020-12-10</td>\n",
       "      <td>125.0</td>\n",
       "    </tr>\n",
       "    <tr>\n",
       "      <th>346</th>\n",
       "      <td>2020-12-11</td>\n",
       "      <td>116.0</td>\n",
       "    </tr>\n",
       "    <tr>\n",
       "      <th>347</th>\n",
       "      <td>2020-12-12</td>\n",
       "      <td>83.0</td>\n",
       "    </tr>\n",
       "    <tr>\n",
       "      <th>348</th>\n",
       "      <td>2020-12-13</td>\n",
       "      <td>87.0</td>\n",
       "    </tr>\n",
       "    <tr>\n",
       "      <th>349</th>\n",
       "      <td>2020-12-14</td>\n",
       "      <td>71.5</td>\n",
       "    </tr>\n",
       "  </tbody>\n",
       "</table>\n",
       "<p>350 rows × 2 columns</p>\n",
       "</div>"
      ],
      "text/plain": [
       "       dateRep  cases\n",
       "0   2019-12-31    0.0\n",
       "1   2020-01-01    0.0\n",
       "2   2020-01-02    0.0\n",
       "3   2020-01-03    0.0\n",
       "4   2020-01-04    0.0\n",
       "..         ...    ...\n",
       "345 2020-12-10  125.0\n",
       "346 2020-12-11  116.0\n",
       "347 2020-12-12   83.0\n",
       "348 2020-12-13   87.0\n",
       "349 2020-12-14   71.5\n",
       "\n",
       "[350 rows x 2 columns]"
      ]
     },
     "execution_count": 14,
     "metadata": {},
     "output_type": "execute_result"
    }
   ],
   "source": [
    "cases_plot = casedistribution_df[['dateRep', 'cases']].groupby('dateRep', as_index=False).median()\n"
   ]
  },
  {
   "attachments": {},
   "cell_type": "markdown",
   "id": "59dbdc2c",
   "metadata": {},
   "source": [
    "Kao što smo naveli, *plt.plot()* metoda kao prvi argument koristi podatke za x (horizontalnu os), a kao drugi argument za y (okomitu os). Treći argument koristi se za format grafa. Format grafa (linije) je tekstualna varijabla od tri elementa *'\\[marker\\]\\[stil_linije\\]\\[boja\\]'*. Isprobajmo prikazati graf s plavim kružićima za svaku točku:"
   ]
  },
  {
   "cell_type": "code",
   "execution_count": null,
   "id": "73f2bf5b",
   "metadata": {},
   "outputs": [],
   "source": []
  },
  {
   "attachments": {},
   "cell_type": "markdown",
   "id": "995d1369",
   "metadata": {},
   "source": [
    "**Zadatak**<br>\n",
    "**Iscrtajte gornji graf zelenim crticama!**\n",
    "\n",
    "U nastavku su primjeri formatiranja linija grafa."
   ]
  },
  {
   "cell_type": "markdown",
   "id": "aabdc9d9",
   "metadata": {},
   "source": [
    "|Marker|Stil linije|Boja|Format|Rezultat|\n",
    "|------|-----------|----|------|--------|\n",
    "| |-|b|-b|plava puna linija|\n",
    "|.||k|.k|crne točke|\n",
    "| |--|r|--r|crvena isprekidana linija|\n",
    "|o|-|g|o-g|zelena puna linija s kružićima|\n",
    "| |:|m|:m|magenta točkasta linija|\n",
    "|x|-.|c|x-.c|ljubičasta (cyan) crta-točka linija s x-ićima|"
   ]
  },
  {
   "attachments": {},
   "cell_type": "markdown",
   "id": "11bfa047",
   "metadata": {},
   "source": [
    "Okvir u kojem je prikazan graf predstavlja objekt koji se zove *figure* (više detalja na: https://matplotlib.org/2.0.2/faq/usage_faq.html#figure). Međutim, umjesto da kreiramo *figure* objekt metodom \"*plt.figure()*\" i u njemu zasebno sve elemente, mi ćemo za cijeli *plt import* podesiti parametre za veličinu okvira kako bi nam prikaz grafova bio jasniji."
   ]
  },
  {
   "cell_type": "code",
   "execution_count": null,
   "id": "cf1aa065",
   "metadata": {},
   "outputs": [],
   "source": []
  },
  {
   "attachments": {},
   "cell_type": "markdown",
   "id": "aac2ce71",
   "metadata": {},
   "source": [
    "*INFORMACIJA<br>\n",
    "Malo kasnije ćemo se detaljnije upoznati s \"plot\" i \"figure\" objektom.*\n",
    "\n",
    "Ponovimo prikaz gornjeg grafa."
   ]
  },
  {
   "cell_type": "code",
   "execution_count": null,
   "id": "2e30b9c1",
   "metadata": {},
   "outputs": [],
   "source": []
  },
  {
   "attachments": {},
   "cell_type": "markdown",
   "id": "a5165dbf",
   "metadata": {},
   "source": [
    "Puno bolje i jasnije.\n",
    "\n",
    "Na trenutak zastanimo i analizirajmo ovaj graf. Lako možemo uočiti obrise krivulje na lijevoj strani, na početku, bliže x osi, a prema desno se sve više odvaja od nje. Isto tako, možemo vidjeti kako ima određeni broj točkica koje su \"razbacane\" po cijelom grafu. Te točke su ekstremne vrijednosti.\n",
    "\n",
    "Iscrtajmo još jednom graf običnom linijom, a koji nam može reći puno više o podacima."
   ]
  },
  {
   "cell_type": "code",
   "execution_count": null,
   "id": "7dc0a4f9",
   "metadata": {},
   "outputs": [],
   "source": []
  },
  {
   "attachments": {},
   "cell_type": "markdown",
   "id": "76e911b8",
   "metadata": {},
   "source": [
    "Ovaj graf pokazuje da se u određenim intervalima pojavljuju skokovi u broju zaraženih, ali i isto tako da se ukupni broj zaraženih s vremenom povećava.\n",
    "\n",
    "### plt.plot() i \"Figure\" objekt\n",
    "\n",
    "Upoznali smo se s *matplotlib.plot()* ili *plt.plot()* metodom. Sad je vrijeme da se upoznamo s *Figure* objektom koji metoda *plt.plot()* kreira u pozadini. *Figure* je glavni objekt u matplotlib biblioteci (kao što je *DataFrame* u Pandas biblioteci). Dakle, *Figure* objekt u sebi čuva podatke o osima (*Axes*, X i Y os), a svaka os ima podatke o linijama, točkama itd. Što je točno uključeno u *Figure* objekt opisuje slika:<br>\n",
    "<img src='../matplotlib_anatomy_figure.png' alt=\"Algebra\" width=\"800\" />\n",
    "<br>\n",
    "**Anatomija matplotlib Figure objekta**<br>\n",
    "Preuzeto s: https://matplotlib.org/stable/gallery/showcase/anatomy.html.\n",
    "\n",
    "*Figure* objekt možemo kreirati izravno i u njega naknadno dodavati elemente. Matplotlib za kreiranje *Figure* objekta ima *figure()* metodu. Pogledajmo kako radi i što sve možemo s *Figure* objektom. Kreirat ćemo jedan objekt naziva \"okvir\"."
   ]
  },
  {
   "cell_type": "code",
   "execution_count": null,
   "id": "c019961e",
   "metadata": {},
   "outputs": [],
   "source": []
  },
  {
   "attachments": {},
   "cell_type": "markdown",
   "id": "e223cc47",
   "metadata": {},
   "source": [
    "Pojednostavljeno, dobili smo jedan prazan okvir za graf koji trenutno nema definirane osi, niti linije. Dodajmo osi metodom *add_axes(\\[lijevo, dolje, sirina, visina\\])* u naš okvir.\n",
    "\n",
    "*<Figure size 1000x800 with 0 Axes> *\n",
    "\n",
    "Prvo ćemo definirati veličinu našeg okvira pomoću argumenta *figsize=()*. Iz gornjeg rezultata vidi se da je veličina 1000x800 pixela. To je rezultat postavki koje smo definirali nekoliko ćelija iznad.\n",
    "\n",
    "Predefinirana jedinica za veličinu okvira su inči (*inch*). Za korištenje drugih jedinica kod zadavanja veličine trebamo uključiti preračunavanje.\n",
    "\n",
    "Ako želimo vratiti incijalne postavke, jednostavno pozovemo *plt.rcdefaults()* metodu koja će postavke veličine vratiti na početne postavke."
   ]
  },
  {
   "cell_type": "code",
   "execution_count": null,
   "id": "de167265",
   "metadata": {},
   "outputs": [],
   "source": []
  },
  {
   "attachments": {},
   "cell_type": "markdown",
   "id": "3c0380f2",
   "metadata": {},
   "source": [
    "Unutar okvira možemo dodavati više grafova koje definiramo kroz metodu *add_axes()*. Tako možemo dodati graf unutar grafa."
   ]
  },
  {
   "cell_type": "code",
   "execution_count": null,
   "id": "0fa6fcdd",
   "metadata": {},
   "outputs": [],
   "source": []
  },
  {
   "attachments": {},
   "cell_type": "markdown",
   "id": "954d5b95",
   "metadata": {},
   "source": [
    "**Zadatak**<br>\n",
    "**Promjenom parametara metode add_axes(), pozicionirajte unutarnji okvir u:**\n",
    "- **gornji lijevi kut**\n",
    "- **donji lijevi kut**\n",
    "- **sredinu**\n",
    "\n",
    "Isto tako, unutar okvira možemo definirati mrežu kolona i redova (kao tabela) te unutar njih dodavati grafove, bolje rečeno podgrafove."
   ]
  },
  {
   "cell_type": "code",
   "execution_count": null,
   "id": "17223aac",
   "metadata": {},
   "outputs": [],
   "source": []
  },
  {
   "attachments": {},
   "cell_type": "markdown",
   "id": "07227451",
   "metadata": {},
   "source": [
    "**Zadatak**<br>\n",
    "**Promjenom parametara metoda add_gridspec() i add_subplot(), kreirajte gornji raspored okvira kao u ogledalu.**<br>\n",
    "**Promjenom parametara metoda add_gridspec() i add_subplot(), kreirajte raspored okvira tako da je jedan okvir unutar svake ćelije.**<br>\n",
    "**Promjenom parametara metoda add_gridspec() i add_subplot(), kreirajte raspored okvira tako da je jedan okvir unutar svakog reda.**<br>\n",
    "**Promjenom parametara metoda add_gridspec() i add_subplot(), kreirajte raspored okvira tako da je jedan okvir unutar svakog stupca.**\n",
    "\n",
    "Već smo spomenuli podokvire te jedan okvir unutar drugog i sl. To možemo napraviti tijekom inicijalizacije pa tako možemo okvir podijeliti na redove i kolone te odmah definirati i osi. Pomoću *plt.subplot()* metode kreirat ćemo broj redova (prvi argument) i broj stupaca (drugi argument).\n",
    "\n",
    "Kreirat ćemo jedan veliki okvir, u kojemu će biti dvije kolone i jedan red."
   ]
  },
  {
   "cell_type": "code",
   "execution_count": null,
   "id": "ff3004d8",
   "metadata": {},
   "outputs": [],
   "source": []
  },
  {
   "attachments": {},
   "cell_type": "markdown",
   "id": "3f4cdc1b",
   "metadata": {},
   "source": [
    "**Zadatak**<br>\n",
    "**Promjenom parametara metode *subplots()*, kreirajte raspored okvira s tri kolone i dva reda. Prilagodite veličinu okvira.**"
   ]
  },
  {
   "attachments": {},
   "cell_type": "markdown",
   "id": "2efa8628",
   "metadata": {},
   "source": [
    "## Vizualizacija unutar Pandas biblioteke\n",
    "\n",
    "Već smo se upoznali s Pandas bibliotekom i  spomenuli da je ta biblioteka razvijena na NumPy biblioteci, što znači da ona koristi tu biblioteku za svoj rad. Nismo spomenuli da Pandas za oba tipa objekata (*Serise i DataFrame*) ima ugrađenu *plot()* metodu. Pandas *.plot()* metoda u pozadini koristi matplotlib biblioteku.<br>\n",
    "Više detalja na: https://pandas.pydata.org/docs/reference/api/pandas.DataFrame.plot.html.\n",
    "\n",
    "Neki od najčešće korištenih argumenata Pandas *.plot()* metode:\n",
    "- *kind* - definira tip grafa - *string*\n",
    "- *x* ili *y* - definira jednu ili više kolona koje će biti na navedenoj osi - *string* ili lista *stringova*\n",
    "- *subplots* - pomoću *Boolean* uključuje ili ne uključuje dodatne grafove\n",
    "- *layout* - pomoću redova, kolona definira broj dodatnih grafova\n",
    "- *figsize* - pomoću širina, visina definira veličinu okvira\n",
    "- *title* - definira naslov grafa - *string*\n",
    "- *grid* - pomoću *Boolean* varijable uključuje linije mreže\n",
    "- *color* - pomoću r, g, b (crvene, zelene, plave) definira boju grafa.\n",
    "\n",
    "Argumenata ima jako puno pa je najbolje da krenemo s primjerima kako bismo se upoznali s mogućnostima.\n",
    "\n",
    "Dodat ćemo novi skup podataka kako bismo lakše opisali neke funkcionalnosti. Koristit ćemo podatke o ocjenama korisnika trgovačkog lanca \"mall_customers.csv\" koji se nalazi u mapi *Data/Vjezbe_Primjeri/*.\n",
    "\n",
    "Prvo ćemo napraviti *import* u Pandas."
   ]
  },
  {
   "cell_type": "code",
   "execution_count": null,
   "id": "2e3a20fe",
   "metadata": {},
   "outputs": [],
   "source": []
  },
  {
   "attachments": {},
   "cell_type": "markdown",
   "id": "3c5bc5ff",
   "metadata": {},
   "source": [
    "Sljedeći korak je korištenje metode *.plot()* nad upravo kreiranim *DataFrame* objektom."
   ]
  },
  {
   "cell_type": "code",
   "execution_count": null,
   "id": "4b0242de",
   "metadata": {},
   "outputs": [],
   "source": []
  },
  {
   "attachments": {},
   "cell_type": "markdown",
   "id": "9f0fdedc",
   "metadata": {},
   "source": [
    "Vizualizacija dobro izgleda. Probajmo to napraviti s *DataFrame* objektom vezanim uz broj oboljelih od Covid virusa."
   ]
  },
  {
   "cell_type": "code",
   "execution_count": null,
   "id": "0495b3b5",
   "metadata": {
    "scrolled": true
   },
   "outputs": [],
   "source": []
  },
  {
   "attachments": {},
   "cell_type": "markdown",
   "id": "76f44c65",
   "metadata": {},
   "source": [
    "Dobili smo poruku:<br>\n",
    "*ValueError: Date ordinal -71697858.65 converts to -194333-12-06T08:23:59.998976 (using epoch 1970-01-01T00:00:00), but Matplotlib dates must be between year 0001 and 9999.*\n",
    "\n",
    "Ukratko, problem je u tome što imamo kolonu s datumima koje matplotlib želi pretvoriti u \"svoj\" format datuma. Matplotlib ima klasu *mdates* koja ima metodu *date2num*, a ona datum pretvara u matplotlib format vremena.\n",
    "\n",
    "Prvo moramo napraviti import mdates klase iz matplotlib biblioteke te kolonu \"*dateRep*\" pretvoriti u prikladan format i pokrenuti *.plot()* metodu nad skupom podataka."
   ]
  },
  {
   "cell_type": "code",
   "execution_count": null,
   "id": "cd1fd99a",
   "metadata": {},
   "outputs": [],
   "source": []
  },
  {
   "attachments": {},
   "cell_type": "markdown",
   "id": "8ea05788",
   "metadata": {},
   "source": [
    "Gornji graf je u redu, ali neki podaci se ne vide i to nije ono što bismo željeli. Probajmo iskoristiti neke argumente koje smo prethodno spomenuli.\n",
    "\n",
    "Napisat ćemo da je graf linijski tip, os X će biti kolona \"dateRep\", a Y će biti kolona \"cases\", veličina okvira neka bude širina 10, a visina 5. Uključit ćemo opis (*Legend*), a naslov neka bude \"Broj Covid slucajeva\". Dodat ćemo i style opciju pomoću koje ćemo podesiti tip i boju linije. Postavke će biti \"-b\", dakle puna linija plave boje."
   ]
  },
  {
   "cell_type": "code",
   "execution_count": null,
   "id": "13216265",
   "metadata": {},
   "outputs": [],
   "source": []
  },
  {
   "attachments": {},
   "cell_type": "markdown",
   "id": "7d4efdf4",
   "metadata": {},
   "source": [
    "Opet smo dobili isti graf kao na samom početku kada smo koristili matplotlib. Tada smo za prikaz koristili grupiranje rezultata po datumima. Probajmo ponovno, ali ćemo na kraju dodati samo *.plot()* metodu koju smo gore već koristili."
   ]
  },
  {
   "cell_type": "code",
   "execution_count": null,
   "id": "b1f908cb",
   "metadata": {},
   "outputs": [],
   "source": []
  },
  {
   "attachments": {},
   "cell_type": "markdown",
   "id": "40c81d9a",
   "metadata": {},
   "source": [
    "Vizualizacija izgleda puno bolje.\n",
    "\n",
    "**Vježba**<br>\n",
    "**Na stranici: https://pandas.pydata.org/docs/reference/api/pandas.DataFrame.plot.html imate popis vrijednosti koje \"*kind*\" argument može imati, isprobajte ih na *DataFrame* objektu s Covid podacima. Osim toga, mijenjajte \"*style*\" argument tako što ćete mu dodjeliti vrijednosti identične za format linije iz matplotlib biblioteke.**\n",
    "\n",
    "Obratite pažnju na prvu liniju rezultata:\n",
    "\n",
    "*<AxesSubplot:title={'center':'Naslov grafa'}, xlabel='dateRep'>*\n",
    "\n",
    "Prvi se dio odnosi na naslov grafa: *title={'center':'Naslov grafa'}*, a označuje kako možemo koristi rječnik, u kojemu je ključ poravnanje, a vrijednost tekst koji želimo prikazati kao naslov grafa. Međutim, ovo je moguće samo ako koristimo više grafova unutar jednog okvira. Argument je \"*subplots=True*\".\n",
    "\n",
    "Drugi se dio odnosi na oznaku uz X os: *xlabel='dateRep'*. Podesimo i ovaj parametar, ali analogno predloženom, pokušajmo dodati i za Y os.<br>\n",
    "*xlabel='Datum'*<br>\n",
    "*ylabel='Broj zarazenih'*\n",
    "\n",
    "Provjerimo kako radi."
   ]
  },
  {
   "cell_type": "code",
   "execution_count": null,
   "id": "36eb5677",
   "metadata": {},
   "outputs": [],
   "source": []
  },
  {
   "attachments": {},
   "cell_type": "markdown",
   "id": "8caa2e1f",
   "metadata": {},
   "source": [
    "Kao što je bilo za očekivati, graf sada ima više informacija i korisniji je. Na početku ovog dijela, u kojem se bavimo iscrtavanjem grafova pomoću Pandas biblioteke, dobili samo više kolona odjednom. Probajmo to ponoviti, ali tako da navedemo samo one kolone koje su nama zanimljive. Uz broj zaraženih probajmo uključiti i broj smrtnih slučajeva.\n",
    "\n",
    "**VJEŽBA**<br>\n",
    "**Popis vrijednosti koje mogu biti dodijeljene uz *linestyle* argument imate na stranici: https://matplotlib.org/stable/gallery/lines_bars_and_markers/linestyles.html. Isprobajte neke od njih.**"
   ]
  },
  {
   "cell_type": "code",
   "execution_count": null,
   "id": "8a0aec63",
   "metadata": {},
   "outputs": [],
   "source": []
  },
  {
   "attachments": {},
   "cell_type": "markdown",
   "id": "79e0a200",
   "metadata": {},
   "source": [
    "Srećom, broj je smrtnih slučajeva malen pa se ti podaci, u odnosu na broj zaraženih, gotovo niti ne vide na grafu, odnosno izgledaju kao ravna linija na dnu grafa. Možda da,  umjesto svih redaka, probamo dohvatiti prvih 40 redaka."
   ]
  },
  {
   "cell_type": "code",
   "execution_count": null,
   "id": "43882d85",
   "metadata": {},
   "outputs": [],
   "source": []
  },
  {
   "attachments": {},
   "cell_type": "markdown",
   "id": "9e23d5df",
   "metadata": {},
   "source": [
    "Vizualizacija izgleda bolje, ali je velika razlika. Izbacimo broj slučajeva iz grafa i prikažimo samo broj smrtnih slučajeva."
   ]
  },
  {
   "cell_type": "code",
   "execution_count": null,
   "id": "3b3bc75a",
   "metadata": {},
   "outputs": [],
   "source": []
  },
  {
   "attachments": {},
   "cell_type": "markdown",
   "id": "c09130ab",
   "metadata": {},
   "source": [
    "Graf je gotovo identičan broju slučajeva, ali obratite pažnju na Y os, sada se brojevi kreću od 0 do 60, a za broj zaraženih je bio od 0 do 3000 i više.\n",
    "\n",
    "Ovo je odličan primjer za uključiti više grafova u jedan okvir. Srećom, Pandas nam omogućava jednostavno dodavanje više grafova unutar jednog okvira. Potrebno je samo uključiti \"subplots\" i definirati raspored, odnosno layout, a sve ostalo je isto kao i prije.\n",
    "\n",
    "*INFORMACIJA*<br>\n",
    "*Naravno, trebamo dodati i više kolona koje želimo uključiti, a za koje će se iscrtati dodatni grafovi.*"
   ]
  },
  {
   "cell_type": "code",
   "execution_count": null,
   "id": "5f72eb30",
   "metadata": {},
   "outputs": [],
   "source": []
  },
  {
   "attachments": {},
   "cell_type": "markdown",
   "id": "48f71245",
   "metadata": {},
   "source": [
    "**VJEŽBA**<br>\n",
    "**Isključili smo argumente: *xlabel='Datum'*, *ylabel='Broj smrtnih sluacjeva'*, *color='red'* te *legend=True*. Uključite ih te provjerite što se događa s iscrtavanjem grafova.**\n",
    "\n",
    "**ZADATAK**<br>\n",
    "**Napravite iscrtavanje onolikog broja grafova koliko je potrebno za skup podataka mall_customers_df te dodajte dodatne elemente u okvir ili pojedinačne grafove.\n",
    "\n",
    "Prethodni grafovi su dobri, ali ponekad želimo iscrtati više \"zasebnih\" grafova jedan pored drugog. Za to ćemo morati koristiti pomoć matplotlib biblioteke.\n",
    "\n",
    "Prvo ćemo kreirati Pivot tabelu s jednom dodatnom metodom *rolling()* koja računa srednju vrijednost za grupe podataka definirane pomoću argumenta. Dakle, *rolling()* grupira podatke po datumu i uzima okvir od 7 dana (toliko smo definirali kroz argument) i onda za te podatke računa prosječnu vrijednost, zatim uzima sljedećih 7 dana te tako prolazi kroz cijeli skup podataka.\n",
    "\n",
    "Sljedeći korak je kreiranje grafova pomoću *subplots()* metode iz matplotlib biblioteke. Definirali smo jedan redak i tri kolone te smo dodali da je širina okvira 15 inča, a visina 5. To smo pohranili u varijable okvir i axes kao osi.\n",
    "\n",
    "Zatim ćemo iz Pivot tabele uzeti po jednu kolonu, za nju ćemo pokrenuti iscrtavanje grafa, ali tako da ćemo za argument ax (os) pridružiti prvi element prethodno kreirane varijable axes (liste praznih osi). To ćemo učiniti za svaki graf pojedinačno. Pri tome ćemo za svaki graf pojedinačno definirati dodatne elemente grafa."
   ]
  },
  {
   "cell_type": "code",
   "execution_count": null,
   "id": "9fc3579e",
   "metadata": {},
   "outputs": [],
   "source": []
  },
  {
   "attachments": {},
   "cell_type": "markdown",
   "id": "730561e7",
   "metadata": {},
   "source": [
    "Ponekad želimo saznati odnos između varijabli. Recimo, vrijednosti nekih varijabli su grupirane oko jedne vrijednosti druge varijable i sl. Na takav način može se uočiti veza između tih varijabli. Odnos između varijabli može biti linearan ili nelinearan, a to puno lakše možemo uočiti vizualno, pomoću grafa. Tip grafa koji je idealan za ovu namjenu zovemo \"scatter\" ili raspršeni oblik. Najbolje je pokazati primjerom pa ćemo vidjeti kakav je to tip grafa.\n",
    "\n",
    "Za ovaj ćemo tip grafa koristiti skup podataka o ocjenama."
   ]
  },
  {
   "cell_type": "code",
   "execution_count": null,
   "id": "75dc73a5",
   "metadata": {},
   "outputs": [],
   "source": []
  },
  {
   "cell_type": "code",
   "execution_count": null,
   "id": "d9a0d780",
   "metadata": {},
   "outputs": [],
   "source": []
  },
  {
   "attachments": {},
   "cell_type": "markdown",
   "id": "a17c00d2",
   "metadata": {},
   "source": [
    "Iz grafa možemo uočiti povezanost između ove dvije varijable te možemo zaključiti to da veći broj sati učenja, rezultira i većom ocjenom. Postoji nekoliko točaka koje odstupaju od tog pravila. Te vrijednosti su također jako korisne jer nam ukazuju na kvalitetu naših podataka. Dakle, postoje neke vrijednosti koje su izvan okvira i koje značajno odstupaju od pravila. Takve vrijednosti nazivaju se ekstremi ili *outlier*.\n",
    "\n",
    "**VJEŽBA**<br>\n",
    "**Isprobajte \"scatter\" tip grafa na druge kolone skupina podataka o ocjenama, ali i na skupinu podataka o broju zaraženih Covid-19 virusom.**\n",
    "\n",
    "Započeli smo s upoznavanjem drugih tipova grafova pa nastavimo s drugim tipovima.\n",
    "\n",
    "*INFORMACIJA: tijekom ovog seminara nećemo stići niti možemo objasniti sve tipove grafova, njihovu primjenu, konfiguraciju i slično. Jednostavno nemamo toliko vremena, ali svakako potičemo na dodatno samostalno istraživanje i učenje.*\n",
    "\n",
    "**Histogram** je oblik grafa koji pokazuje distribuciju vrijednosti određenih varijabli, odnosno koliko često se određena vrijednost pojavljuje na skupu podataka."
   ]
  },
  {
   "cell_type": "code",
   "execution_count": null,
   "id": "d20a104b",
   "metadata": {},
   "outputs": [],
   "source": []
  },
  {
   "attachments": {},
   "cell_type": "markdown",
   "id": "cb599246",
   "metadata": {},
   "source": [
    "Isprobajmo isti tip na podacima s ocjenama korisnika trgovačkog centra."
   ]
  },
  {
   "cell_type": "code",
   "execution_count": null,
   "id": "01713130",
   "metadata": {},
   "outputs": [],
   "source": []
  },
  {
   "attachments": {},
   "cell_type": "markdown",
   "id": "ae6c599c",
   "metadata": {},
   "source": [
    "Zanemarimo što imamo i kolonu \"CustomerID\".\n",
    "\n",
    "Za kontinuirane tipove podataka, kao što su cijene dionica ili kretanje kupovne moći korisnika i slično, za koje i dalje želimo vidjeti distribuciju podataka, koristimo poseban tip grafa naziva \"KDE\", što je skraćenica od \"Kernel Density Estimation\". Provjerimo kako KDE graf izgleda."
   ]
  },
  {
   "cell_type": "code",
   "execution_count": null,
   "id": "135bb37c",
   "metadata": {},
   "outputs": [],
   "source": []
  },
  {
   "attachments": {},
   "cell_type": "markdown",
   "id": "b8ec2502",
   "metadata": {},
   "source": [
    "Mogli bismo pojednostavljeno reći kako je oblik, odnosno silueta koju opisuju krivulje \"KDE\" grafa, vrh histogram grafa. Probajmo vrhove iscrtati jedan preko drugog. To ćemo napraviti tako što ćemo jedan graf pohraniti u varijablu i onda vrijednost te varijable proslijediti kao argument \"ax\" u drugi graf."
   ]
  },
  {
   "cell_type": "code",
   "execution_count": null,
   "id": "36c7fa4d",
   "metadata": {},
   "outputs": [],
   "source": []
  },
  {
   "attachments": {},
   "cell_type": "markdown",
   "id": "a8f6b1f1",
   "metadata": {},
   "source": [
    "Već smo spomenuli *outlier* ili ekstremne vrijednosti nekih varijabli. Idealan je graf za otkrivanje takvih vrijednosti, ali i prikaz raspona unutar kojeg se nalaze vrijednosti određene varijable, \"box\" tip grafa.\n",
    "\n",
    "Iscrtajmo *box* tip grafa nad skupom podataka o ocjenama."
   ]
  },
  {
   "cell_type": "code",
   "execution_count": null,
   "id": "2dba1809",
   "metadata": {},
   "outputs": [],
   "source": []
  },
  {
   "attachments": {},
   "cell_type": "markdown",
   "id": "ca3900bb",
   "metadata": {},
   "source": [
    "Prvo ćemo opisati izgled grafa. Graf se sastoji od \"kutije\" koja u sredini ima jednu crtu. Ovaj graf prikazuje statističke vrijednosti za svaku pojedinu varijablu (kolonu).\n",
    "\n",
    "Točke koje stoje samostalno (kolona \"grade\" oko vrijednosti 40) su iznimke, ekstremi, odnosno *outlier* vrijednosti. Neke varijable ih nemaju.\n",
    "\n",
    "Najniža crta predstavlja najmanju vrijednost (min) u skladu s time, a najviše crta prestavlja maksimalnu vrijednost (max).\n",
    "\n",
    "Crta u sredini pravokutnika predstavlja vrijednost u sredini nakon što se podaci sortiraju (medijan).\n",
    "\n",
    "Donja stranica pravokutnika predstavlja donji kvartil. To je 25% (jedna četvrtina) vrijednosti koje pripadaju u prvu četvrtinu. Dakle, kada skup podataka podijelimo na četiri jednaka skupa, dobijemo određene vrijednosti za granice između tih skupina. Q1 predstavlja skup svih vrijednosti koje su niže od granice između prve i druge četvrtine. Ovo je najjednostavniji opis kvartila.\n",
    "\n",
    "Pretpostavljate da je onda gornja stranica četverokuta Q3 ili gornji kvartil, odnosno 75% vrijednosti neke varijable.\n",
    "\n",
    "Postoji opcija \"notch\" za *box* tip grafa koju možemo uključiti, a koja dodaje zarez na pravokutniku na kojemu je medijan linija."
   ]
  },
  {
   "cell_type": "code",
   "execution_count": null,
   "id": "4add78c5",
   "metadata": {},
   "outputs": [],
   "source": []
  },
  {
   "attachments": {},
   "cell_type": "markdown",
   "id": "1251ea41",
   "metadata": {},
   "source": [
    "Primjenjuje se isključivo radi bolje čitljivosti, ali ponekad to može biti i kontraproduktivno."
   ]
  },
  {
   "cell_type": "code",
   "execution_count": null,
   "id": "2ea15db6",
   "metadata": {},
   "outputs": [],
   "source": []
  },
  {
   "attachments": {},
   "cell_type": "markdown",
   "id": "2dc62b5b",
   "metadata": {},
   "source": [
    "Za pravu snagu \"box\" grafa dodat ćemo skup podataka o zemljotresima te ćemo pomoću \"box\" tipa grafa prikazati distribuciju magnituda zemljotresa u odnosu na tip magnitude.\n",
    "\n",
    "Prvo ćemo učitati skup podataka o zemljotresima."
   ]
  },
  {
   "cell_type": "code",
   "execution_count": null,
   "id": "c1b9bf14",
   "metadata": {},
   "outputs": [],
   "source": []
  },
  {
   "attachments": {},
   "cell_type": "markdown",
   "id": "61172435",
   "metadata": {},
   "source": [
    "Zatim ćemo grupirati podatke za varijable (kolone) o magnitudama i tipovima magnitude te iscrtati graf.\n",
    "\n",
    "*INFORMACIJA*<br>\n",
    "*Obratite pažnju na to da koristimo metodu \".boxplot()\". Za neke grafove, Pandas nam omogućava korištenje metode za iscrtavanje grafova. Isto smo tako, za iscrtavanje naslova grafa te naziva Y osi, koristili matplotlib biblioteku i svojstva plt.title() te plt.ylabel().*"
   ]
  },
  {
   "cell_type": "code",
   "execution_count": null,
   "id": "c42a2bd9",
   "metadata": {},
   "outputs": [],
   "source": []
  },
  {
   "attachments": {},
   "cell_type": "markdown",
   "id": "fe1fe98c",
   "metadata": {},
   "source": [
    "X os prikazuje tipove magnituda. Opis što znači \"mb\", \"ml\" ... imate na poveznici: https://earthquake.usgs.gov/learn/glossary/?term=magnitude.\n",
    "\n",
    "Iskoristimo skup podataka o zemljotresima kako bismo se upoznali s još jednim često korištenim tipom prikaza podataka naziva \"bar\". Tip ćemo zvati tako jer prijevod \"šipka\" nije uobičajen. \n",
    "\n",
    "Ovaj tip ne treba miješati s histogramom zato jer \"bar\" tip grafa koristimo za prikaz broja ponavljanja vrijednosti u nekoj varijabli (*count*).\n",
    "\n",
    "Prikažimo \"bar\" grafom koliko se puta dogodio zemljotres napojedinim lokacijama."
   ]
  },
  {
   "cell_type": "code",
   "execution_count": null,
   "id": "2de6d51d",
   "metadata": {},
   "outputs": [],
   "source": []
  },
  {
   "attachments": {},
   "cell_type": "markdown",
   "id": "c441444f",
   "metadata": {},
   "source": [
    "Prvo ćemo pojasniti sintaksu. Umjesto *earthquakes_df\\['place'\\]* mi smo koristili *earthquakes_df.place*. Dakle, Pandas nam omogućava da pojedinim varijablama, odnosno kolonama pristupamo kao svojstvima nekog objekta.\n",
    "\n",
    "Sljedeći korak je korištenje metode *value_counts()* kako bismo prebrojali vrijednosti za tu varijablu.\n",
    "\n",
    "Indeks reda ili *iloc\\[15::-1,\\]* - *iloc* predstavlja \"*index location*\". Mi smo, zahvaljajući Python sintaksi, sa \"*slice*\" liste uzeli zadnjih 15 vrijednosti (obratite pažnju da je korak -1)  i onda smo pozvali metodu plot za iscrtavanje grafa tipa *'barh'* (dodatak slova h označava iscrtavanje grafa s HORIZONTALNIM \"šipkama\"), a 'bar' iscrtava vertikalne.\n",
    "\n",
    "Ovaj skup podataka ima i podatke o cunamijima.\n",
    "\n",
    "Za cunami ćemo podatke morati malo drugačije izdvojiti. Prvo ćemo grupirati sve podatke po varijabli mjesta, zatim ćemo iz te skupine podataka nad kolonom \"tsunami\", pokrenuti metodu \"*sum()*\" kako bismo zbrojili sve cunamije na toj lokaciji i na kraju sortirali vrijednosti te izabrali samo zadnjih 15. Naravno, na kraju smo pomoću *.plot()* metode iscrtali te podatke."
   ]
  },
  {
   "cell_type": "code",
   "execution_count": null,
   "id": "806f426d",
   "metadata": {},
   "outputs": [],
   "source": []
  },
  {
   "attachments": {},
   "cell_type": "markdown",
   "id": "07ac0d69",
   "metadata": {},
   "source": [
    "Ovo je odličan primjer zbog čega podatke trebamo prilagoditi prije vizualizacije. Isto tako, služi kao dokaz tomu kako ćemo obradu podataka raditi paralelno s vizualizacijom jer ponekad otkrijemo da ne možemo koristiti podatke pa ih onda još jednom \"presložimo\" kako bi nam bili korisniji.\n",
    "\n",
    "Problem u gornjem grafu je taj što imamo jako puno PONAVLJANJA, koja se za Indoneziju drugačije tretiraju. Odnosno cunamiji bi u Indoneziji, u našem slučaju, trebali biti objedinjeni pod jednom vrijednosti. Ponekad će biti korisno znati distribuciju po regijama unutar neke zemlje, recimo Indonezije.\n",
    "\n",
    "Vratimo se na naš primjer. Pokušajmo pomoću Pythona preimenovati vrijednosti za mjesta tako da ih učinimo nama korisnijima. Koristit ćemo metodu *.replace()* unutar \"*str*\" objekta tako što ćemo proći kroz sve vrijednosti u koloni \"place\", počistiti \"višak\" informacija i sve pohraniti u novu kolonu.\n",
    "\n",
    "**NAPOMENA:  ako trebate mijenjati podatke unutar skupa podatka, najbolje je kreirati novu kolonu u koju ćete pohraniti nove vrijednosti.**\n",
    "\n",
    "Koristiti ćemo i \"REGEX - Regular expressions\" argument koji nam omogućava provjeru znakova unutar nekog teksta na osnovi predefiniranog predloška. Regex se jako često koristi u programiranju za kontrolu unosa podataka. Kada u neku formu unosite podatke o broju telefona ili email adresi, regex definira kako će izgledati oblik broja telefona pa nećete moći unijeti broj u obliku 00385011234567 nego kao +385 (0)1 1234 567. Više detalja na poveznici: https://docs.python.org/3/howto/regex.html.\n",
    "\n",
    "Osim *regex=True* koristimo i oznaku *r* ispred početka string varijable. Ovo malo slovo *r* označava \"*row string*\". Više detalja u Python dokumentaciji: https://docs.python.org/3/reference/lexical_analysis.html#string-and-bytes-literals.\n",
    "\n",
    "Prvo ćemo zamijeniti praznim stringom sve:\n",
    "- *r'.* *of ', ''* - iza točke što ima \"*of*\"\n",
    "- *'the ', ''* - što počinje s *the*. \n",
    "\n",
    "Zatim ćemo promijeniti skraćenice u pune nazive za:\n",
    "- California\n",
    "- Nevada\n",
    "- Mexico. \n",
    "\n",
    "Preimenovati neke lokacije:\n",
    "- Fiji Islands u Fiji.\n",
    "\n",
    "Na kraju, pomoću *.strip()* metode, maknite preostale prazne znakove (primjer: razmaci koji su ostali uz riječi).\n",
    "\n",
    "Dodatno ćemo ispisati mjesta koja smo dobili kao provjeru."
   ]
  },
  {
   "cell_type": "code",
   "execution_count": null,
   "id": "bc913787",
   "metadata": {},
   "outputs": [],
   "source": []
  },
  {
   "attachments": {},
   "cell_type": "markdown",
   "id": "bae66880",
   "metadata": {},
   "source": [
    "Probajmo sada iscrtati isti graf, ali nad novom kolonom u kojoj smo preuredili nazive mjesta."
   ]
  },
  {
   "cell_type": "code",
   "execution_count": null,
   "id": "5ae8d201",
   "metadata": {},
   "outputs": [],
   "source": []
  },
  {
   "attachments": {},
   "cell_type": "markdown",
   "id": "2fb54422",
   "metadata": {},
   "source": [
    "Dobivamo graf koji je puno korisniji.\n",
    "\n",
    "Vidimo da Indonezija prednjači u cunamijima. Iscrtajmo graf koji će nam pokazati vrijednosti za broj zemljotresa i cunamija u Indoneziji po danu.\n",
    "\n",
    "Opet ćemo morati malo preurediti podatke."
   ]
  },
  {
   "cell_type": "code",
   "execution_count": null,
   "id": "8f58fa94",
   "metadata": {},
   "outputs": [],
   "source": []
  },
  {
   "attachments": {},
   "cell_type": "markdown",
   "id": "902c5f66",
   "metadata": {},
   "source": [
    "Dana 28.9.  dogodio se veliki broj zemljotresa koji su izazvali veliki broj cunamija. Moguće je da se radi o jednom velikom i puno manjih.\n",
    "\n",
    "Možemo vidjeti i koliko se često poslije zemljotresa pojavi cunami na pojedinoj lokaciji. To ćemo napraviti pomoću *groupby()* i *unstack()* metoda."
   ]
  },
  {
   "cell_type": "code",
   "execution_count": null,
   "id": "10a4e7ca",
   "metadata": {},
   "outputs": [],
   "source": []
  },
  {
   "attachments": {},
   "cell_type": "markdown",
   "id": "7c118198",
   "metadata": {},
   "source": [
    "Iscrtajmo jedan 'bar' graf s vertikalnim linijama. Prikažimo broj zemljotresa za svaki tip magnitude."
   ]
  },
  {
   "cell_type": "code",
   "execution_count": null,
   "id": "aed20bd8",
   "metadata": {},
   "outputs": [],
   "source": []
  },
  {
   "attachments": {},
   "cell_type": "markdown",
   "id": "2929eee9",
   "metadata": {},
   "source": [
    "Vidimo da je najviše zemljotresa magnitude 'ml'. Dodajmo i podatak o vrijednosti jačine zemljotresa u graf. Za ovo ćemo morati koristiti Pivot tabelu i NumPy biblioteku jer Python metodu *math.floor()* možemo koristiti samo za pojedinačne podatke, a mi imamo seriju podataka."
   ]
  },
  {
   "cell_type": "code",
   "execution_count": null,
   "id": "e5fb3ed4",
   "metadata": {},
   "outputs": [],
   "source": []
  },
  {
   "attachments": {},
   "cell_type": "markdown",
   "id": "ac708491",
   "metadata": {},
   "source": [
    "Vidimo da najviše ima zemljotresa jačine 1, magnitude \"ml\".\n",
    "\n",
    "**ZADATAK**<br>\n",
    "**Probajte gore pokazane primjere koristiti za iscrtavanje bar grafova na skupinama podataka s ocjenama studenata te ocjenama trgovačkog lanca.\n",
    "\n",
    "Na kraju ovog poglavlja, upoznajmo se s jednim modulom za vizualizaciju podataka iz Pandas biblioteke. To je modul *plotting()*.\n",
    "\n",
    "Upoznat ćemo se s jednom metodom iz tog modula koja prikazuje korelaciju, odnos između varijabli unutar skupine podataka. To je metoda \"autocorrelation_plot\".\n",
    "\n",
    "Idemo vidjeti kako se koristi i što nam pokazuje."
   ]
  },
  {
   "cell_type": "code",
   "execution_count": null,
   "id": "4ba9f1ff",
   "metadata": {},
   "outputs": [],
   "source": []
  },
  {
   "attachments": {},
   "cell_type": "markdown",
   "id": "3f0f19b0",
   "metadata": {},
   "source": [
    "Graf nam prikazuje postoji li za ovu varijablu neka druga s kojom je varijabla u nekom odnosu. Što je vrijednosti bliža 1, to je korelacija veća, a što je bliža 0, to je korelacija manja.\n",
    "\n",
    "Probajmo s varijablom 'Spending Score (1-100)'."
   ]
  },
  {
   "cell_type": "code",
   "execution_count": null,
   "id": "237c278f",
   "metadata": {},
   "outputs": [],
   "source": []
  },
  {
   "attachments": {},
   "cell_type": "markdown",
   "id": "b30d79e5",
   "metadata": {},
   "source": [
    "Očigledno postoji neko podudaranje. Sjećate li se metode *corr()* iz Pandas biblioteke? Pogledajmo što nam ta metoda pokazuje."
   ]
  },
  {
   "cell_type": "code",
   "execution_count": null,
   "id": "950d51d4",
   "metadata": {
    "scrolled": true
   },
   "outputs": [],
   "source": []
  },
  {
   "attachments": {},
   "cell_type": "markdown",
   "id": "56d02128",
   "metadata": {},
   "source": [
    "Varijable 'Annual Income (k$)' i 'Spending Score (1-100)' imaju najveće vrijednosti. Prikažimo graf za sve varijable."
   ]
  },
  {
   "cell_type": "code",
   "execution_count": null,
   "id": "4b5424ec",
   "metadata": {},
   "outputs": [],
   "source": []
  },
  {
   "attachments": {},
   "cell_type": "markdown",
   "id": "ca34d465",
   "metadata": {},
   "source": [
    "Vidimo da su zadnje dvije varijable u određenom odnosu. Time se može pretpostaviti da će ovisno o visini plaća, \"score\" potrošnje biti veći.\n",
    "\n",
    "**ZADATAK**<br>\n",
    "**Na stranici https://www.gapminder.org/data/ preuzmite po jednu csv datoteku (po izboru) iz:**\n",
    "- **Economy**\n",
    "- **Communication**\n",
    "- **Education**\n",
    "\n",
    "**Preuzete podatke iz skupina podataka obradite pomoću Pandas biblioteke tako da ih prilagodite za vizualizaciju i daljnju obradu. Prilikom obrade podataka, osim tabličnog prikaza, koristite i grafove kako biste uočili neke anomalije u podacima.**\n",
    "\n",
    "**Nakon što ste obradili podatke, koristeći sve grafove koje smo do sada naučili (ako mislite da je važno za bolju vizualizaciju podatka, dodajte i drugi tip grafa, koji nismo ovdje obradili), prikažite grafički obrađene podatke.**"
   ]
  }
 ],
 "metadata": {
  "kernelspec": {
   "display_name": "Python 3 (ipykernel)",
   "language": "python",
   "name": "python3"
  },
  "language_info": {
   "codemirror_mode": {
    "name": "ipython",
    "version": 3
   },
   "file_extension": ".py",
   "mimetype": "text/x-python",
   "name": "python",
   "nbconvert_exporter": "python",
   "pygments_lexer": "ipython3",
   "version": "3.12.0"
  }
 },
 "nbformat": 4,
 "nbformat_minor": 5
}
