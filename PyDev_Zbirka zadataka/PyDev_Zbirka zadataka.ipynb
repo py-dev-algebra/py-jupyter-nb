{
 "cells": [
  {
   "attachments": {},
   "cell_type": "markdown",
   "id": "65440b13-b26b-425f-86e4-7fd7a45e34d6",
   "metadata": {
    "deletable": false,
    "editable": false,
    "tags": []
   },
   "source": [
    "<a href=\"https://www.algebra.hr/cjelozivotno-obrazovanje/\" target=\"_blank\">\n",
    "    <img src=\"media/algebra_logo.jpg\" alt=\"Algebra d.o.o. obrazovanje odraslih\" height=\"50\">\n",
    "</a>\n"
   ]
  },
  {
   "attachments": {},
   "cell_type": "markdown",
   "id": "2849e7b1-2135-4328-b476-3e7ea7fceb40",
   "metadata": {
    "deletable": false,
    "editable": false,
    "tags": []
   },
   "source": [
    "### <center>Algebra - Obrazovanje odraslih</center>\n",
    "\n",
    "\n",
    "# <center>Zbirka zadataka: Python developer</center>"
   ]
  },
  {
   "attachments": {},
   "cell_type": "markdown",
   "id": "025ed952-3709-40a3-b865-14881ab381f1",
   "metadata": {
    "deletable": false,
    "editable": false,
    "tags": []
   },
   "source": [
    "---"
   ]
  },
  {
   "attachments": {},
   "cell_type": "markdown",
   "id": "7ae3943a",
   "metadata": {
    "deletable": false,
    "editable": false,
    "tags": []
   },
   "source": [
    "## Autori:\n",
    "\n",
    "\n",
    "* Grđan Andreas\n",
    "* Lujić Krunoslav\n",
    "* Šantl Dino\n",
    "* Škalec Davor\n",
    "* Zbodulja Vesna\n",
    "\n",
    "*Popis autora je naveden abecednim redom prvog slova prezimena.*"
   ]
  },
  {
   "attachments": {},
   "cell_type": "markdown",
   "id": "c102195e-2d7d-4d8f-8c11-063d3b6afb68",
   "metadata": {
    "deletable": false,
    "editable": false,
    "tags": []
   },
   "source": [
    "***Sva prava pridržana. Niti jedan dio ove zbirke ne smije se reproducirati ili prenositi u bilo kojem obliku, niti na koji način. Zabranjeno je svako kopiranje, citiranje te upotreba zbirke u javnim i privatnim edukacijskim organizacijama u svrhu organiziranih školovanja, a bez pisanog odobrenja autorskih prava.***\n",
    "\n",
    "**Copyright &copy; Algebra d.o.o.**"
   ]
  },
  {
   "attachments": {},
   "cell_type": "markdown",
   "id": "e11e6f82-763d-4f88-b69a-8981826efb99",
   "metadata": {
    "deletable": false,
    "editable": false,
    "tags": []
   },
   "source": [
    "## Sadržaj\n",
    "\n",
    "* [Uvod](#uvod)\n",
    "* [Seminar 1 - Uvod u računalno razmišljanje](#modul1)\n",
    "    * [Dekompozicija](#modul1-dekompozicija)\n",
    "    * [Uočavanje uzoraka](#modul1-uocavanje-uzoraka)\n",
    "    * [Apstrakcija](#modul1-apstrakcija)\n",
    "    * [Algoritam i pseudo kod](#modul1-algoritam)\n",
    "    * [Provjera rješenja](#modul1-provjera-rjesenja)\n",
    "    * [Pseudo kôd](#modul1-pseudo-kod)\n",
    "* [Seminar 2 - Osnove programiranja u Pythonu](#modul2)\n",
    "    * [IDE](#modul2-ide)\n",
    "    * [Varijable i tipovi podataka](#modul2-varijable)\n",
    "    * [print() / input()](#modul2-print-input)\n",
    "    * [Debugging](#modul2-debugging)\n",
    "    * [FOR petlja](#modul2-for)\n",
    "    * [Lista](#modul2-lista)\n",
    "    * [Tuple, n-torka](#modul2-tuple)\n",
    "    * [Set](#modul2-set)\n",
    "    * [Dictionary / rječnik](#modul2-dictionay)\n",
    "    * [IF, WHILE petlja](#modul2-if-while)\n",
    "    * [Funkcije](#modul2-funkcije)\n",
    "* [Seminar 3 - Programiranje u programskom jeziku Python](#modul3)\n",
    "    * [Klase / razredi](#modul3-klase)\n",
    "    * [Moduli i paketi](#modul3-moduli)\n",
    "    * [Datetime, Pillow, Beautiful Soup …](#modul3-datetime)\n",
    "    * [TRY EXCEPT FINALLY](#modul3-try-except)\n",
    "    * [Datoteke](#modul3-datoteke)\n",
    "    * [JSON i WebAPI usluge](#modul3-json)\n",
    "    * [Baze](#modul3-baze)\n",
    "    * [SQL jezik](#modul3-sql)\n",
    "    * [SQLite](#modul3-sqlite)\n",
    "    * [SQL Alchemy](#modul3-sql-alchemy)\n",
    "    * [GUI](#modul3-gui)\n",
    "* [Seminar 4 - IoT](#modul4)\n",
    "    * [SenseHAT emulator](#modul4-sense-hat-emu)\n",
    "    * [Primjena senzora u aplikacijama](#modul4-primjena-senzora)\n",
    "* [Seminar 5 - Data science](#modul5)\n",
    "    * [Pandas](#modul5-pandas)\n",
    "    * [Matplotlib](#modul5-matplotlib)\n",
    "    * [NumPy](#modul5-numpy)\n"
   ]
  },
  {
   "attachments": {},
   "cell_type": "markdown",
   "id": "a638bf3e-9908-42eb-aa2c-afc539cbb98f",
   "metadata": {
    "deletable": false,
    "editable": false,
    "tags": []
   },
   "source": [
    "## Uvod  <a class=\"anchor\" id=\"uvod\"></a>\n",
    "\n",
    "**Zbirka zadataka uz program obrazovanja *Python Developer*** \n",
    "\n",
    "Zbirka zadataka za program obrazovanja Python Developer usklađena je i tematski prati nastavu programa obrazovanja. Na početku svake nove tematske jedinice nalazi se teorijski okvir koji sažima ključne pojmove unutar pojedine teme. \n",
    "\n",
    "Zbirka sadrži repozitorij zadataka za vježbu i organizirana je tako da, tijekom rješavanja zadataka, rješavate dijelove cijeloga projekta – **aplikacije za *online video streaming*** (poput Netflixa, HBO-a, Amazon Videa i sl.). Zbog specifičnosti određenih tema (npr. klase, IoT), pojedini zadaci ne prate tematiku projekta (filmska industrija i aplikacija za *online video streaming*).\n",
    "\n",
    "Velik dio programiranja čini upravo Vaša samostalna aktivnost, učenje i istraživanje. Ova zbirka može Vam pomoći u praćenju same nastave, samostalnom uvježbavanju dijelova programskog koda, detektiranju potencijalnih nejasnoća te pripremi za izradu seminarskog rada i završni ispit. Ono najvažnije – može biti odlična podrška uspješnom završetku programa obrazovanja! \n",
    "\n",
    "*Napomena:* Preporuka je riješiti sve zadatke. Ipak, ako imate iskustva u programiranju (općenito ili i u Python programskom jeziku) nije nužno riješiti sve zadatke. \n",
    "\n",
    "\n",
    "### Upute za rješavanje zadataka\n",
    "\n",
    "Zadatke rješavate tako da u ćeliji ispod zadatke pišete Vaš kod. Jupyter Notebook omogućava povezivanje rezultata izvršavanja kod između ćelija pa možete koristiti importirane module iz prethodnih ćelija, ali isto tako to nije potrebno, odnosno možete za svako rješenje koristiti puni kod. \n",
    "\n",
    "**Rješenja zadataka nalaze se u zasebnoj datoteci *\"PyDev_Rješenja zbirke zadataka\"*.** "
   ]
  },
  {
   "attachments": {},
   "cell_type": "markdown",
   "id": "1015be2e-9cba-41c2-8899-111b755e9df1",
   "metadata": {
    "deletable": false,
    "editable": false,
    "tags": []
   },
   "source": [
    "## Seminar 1 - Uvod u računalno razmišljanje <a class=\"anchor\" id=\"modul1\"></a>"
   ]
  },
  {
   "attachments": {},
   "cell_type": "markdown",
   "id": "f64ab6f0-df39-4489-b6d9-cd166987d9b7",
   "metadata": {
    "deletable": false,
    "editable": false,
    "tags": []
   },
   "source": [
    "Računalno razmišljanje je misaoni proces tijekom kojeg definiramo problem te njegove manje dijelove na način da se rješenje može opisati kao slijed jednoznačno definiranih koraka. Važno je primjetiti da računalno razmišljanje nije vezano samo uz računalnu znanost, nego općenito na na rješavanje velikih i malih problema iz svakodnevnog života. Velika je vjerojatnost da neke elemente računalnog razmišljanja već koristite u rješavanju svakodnenvih problem, ali toga niste svjesni. \n",
    "\n",
    "Računalnim razmišljanjem možemo doći do rješenja za kompleksni problem te dobiveno rješenje predstaviti na način kojeg mogu razumjeti osobe, računala ili oboje."
   ]
  },
  {
   "attachments": {},
   "cell_type": "markdown",
   "id": "67f3eae6-7a6a-4a96-bbeb-7f2d628e8dbe",
   "metadata": {
    "deletable": false,
    "editable": false,
    "tags": []
   },
   "source": [
    "#### Ključni elementi računalnog razmišljanja\n",
    "\n",
    "- **Dekompozicija** - rastavi problem na manje djelove\n",
    "- **Uočavanje uzoraka** - uoči ponavljanja i sličnosti\n",
    "- **Apstrakcija** - identifikacija i fokus samo na važne elemente rješenja\n",
    "- **Algoritam** - uputa korak po korak kako doći do rješenja\n",
    "- **Provjera kvalitete rješenja / testiranje dobivenog rješenja** - ne ulazi u osnovne elemente, ali to je nužan korak za kvalitetno i ispravno rješavanje problema.\n",
    "\n",
    "Ako računalno razmišljanje primjenjujemo za rješavanje problema vezanih za računalnu znanost, onda je, nakon što prođemo sve prethodno navedene korake procesa računalnog razmišljanja, zadnji korak **pisanje programskog kôda** koristeći pravila, odnosno sintaksu kako bi računala razumjela instrukcije."
   ]
  },
  {
   "attachments": {},
   "cell_type": "markdown",
   "id": "d4b2a7fa-287c-4cee-9e71-9091a9ec084d",
   "metadata": {
    "deletable": false,
    "editable": false,
    "tags": []
   },
   "source": [
    "#### Pesudo kôd\n",
    "\n",
    "Pseudo kôd **nije programski kôd**, nego predstavlja primjenu govornog, svakodnevnog jezika kako bi se opisalo rješenje nekog problema ili koraci algoritma. Pseudo kôd nije vezan uz određeni programski jezik, kao niti uz bilo koji govorni, nacionalni jezik. Dakle pseudo kôd možete pisati na hrvatskom, engleskom, njemačkom ili bilo kojem drugom jeziku i bilo kojim pismom. To je isključivo Vaš izbor. Ipak, preporuka je koristiti engleski jezik jer je velika vjerojatnost rada u timovima u kojima je jezik sporazumijevanja engleski jezik.\n",
    "\n",
    "Pseudo kôd može sličiti programskom kôdu nekog programskog jezika, ali pseudo kôd **nema definiranu sintaksu**."
   ]
  },
  {
   "attachments": {},
   "cell_type": "markdown",
   "id": "ddaa4fa9-3931-43f5-ac23-7e341f8a9b9b",
   "metadata": {
    "deletable": false,
    "editable": false,
    "tags": []
   },
   "source": [
    "### Dekompozicija <a class=\"anchor\" id=\"modul1-dekompozicija\"></a>"
   ]
  },
  {
   "attachments": {},
   "cell_type": "markdown",
   "id": "9e77b606-acb6-49eb-9d40-ee876a72e18b",
   "metadata": {
    "deletable": false,
    "editable": false,
    "tags": []
   },
   "source": [
    "#### Zadaci"
   ]
  },
  {
   "attachments": {},
   "cell_type": "markdown",
   "id": "6dd9d6a3-e801-455f-91e9-061a69b15a62",
   "metadata": {
    "deletable": false,
    "editable": false,
    "tags": []
   },
   "source": [
    "**Zadatak 1**\n",
    "\n",
    "Nekada su videoteke bile neizostavni dio svakog kvarta. Razvojem Interneta i povećanjem brzine pristupa, videoteke su se preselile na Internet. Vlasnik kvartovske videoteke želi svojim članovima omogućiti pristup filmovima videoteke, ali naravno preko Interneta, odnosno *online*. Zamolio Vas je da mu pomognete kod izrade računalnog sustava koji bi mu omogućio realizaciju takve ideje. \n",
    "\n",
    "Napišite koje sve komponente i podkomponente bi takav sustav trebao imati."
   ]
  },
  {
   "attachments": {},
   "cell_type": "markdown",
   "id": "89dd0315-27f2-49eb-84a7-aaf324ebab57",
   "metadata": {},
   "source": []
  },
  {
   "attachments": {},
   "cell_type": "markdown",
   "id": "426a2ed0-4594-43cf-9d69-5227ca9ac388",
   "metadata": {
    "deletable": false,
    "editable": false,
    "tags": []
   },
   "source": [
    "**Zadatak 2**\n",
    "\n",
    "Tijekom razrade ideje, odlučeno je da će se članovima nuditi svi filmovi. To znači da je, osim novih filmova koji su vlasniku videoteke dostupni u obliku koji je već pripremljen za *streaming*, potrebno omogućiti i pristup filmovima koje videoteka posjeduje i za koje ima pravo iznajmljivanja. Međutim, ti filmovi su na raznim medijima: VHS kazete, DVD te BlueRay diskovi. \n",
    "\n",
    "Što sve treba osigurati te na što sve treba paziti da bi se i ti filmovi digitalizirali i pripremili za *streaming* preko Interneta?"
   ]
  },
  {
   "attachments": {},
   "cell_type": "markdown",
   "id": "4a220fed-acaa-47fb-8812-964e11af0455",
   "metadata": {},
   "source": []
  },
  {
   "attachments": {},
   "cell_type": "markdown",
   "id": "10e667e1-2866-4656-8dd1-06c5595839dc",
   "metadata": {
    "deletable": false,
    "editable": false,
    "tags": []
   },
   "source": [
    "### Uočavanje uzoraka <a class=\"anchor\" id=\"modul1-uocavanje-uzoraka\"></a>"
   ]
  },
  {
   "attachments": {},
   "cell_type": "markdown",
   "id": "e5458417-dd75-4f11-b2cc-188a47e036c0",
   "metadata": {
    "deletable": false,
    "editable": false,
    "tags": []
   },
   "source": [
    "#### Zadaci"
   ]
  },
  {
   "attachments": {},
   "cell_type": "markdown",
   "id": "703266a0-4902-4f1b-8233-dd5cc6e253f1",
   "metadata": {
    "deletable": false,
    "editable": false,
    "tags": []
   },
   "source": [
    "**Zadatak 1**\n",
    "\n",
    "Iz prethodna dva zadatka izdvojite sve elemente koji se ponavljaju, odnosno koji se mogu koristiti unutar nekoliko elemenata kako ih ne biste trebali raditi više puta. \n",
    "\n",
    "Na primjer, provjera je li korisnik prijavljen na sustav te ima li pravo pristupa i pokretanja željenih akcija. *Ovo je zaseban dio koji se proteže kroz gotovo sve komponente sustava.*"
   ]
  },
  {
   "attachments": {},
   "cell_type": "markdown",
   "id": "29c1efc5-be0f-4ba1-83ba-fadd4de7dea3",
   "metadata": {},
   "source": []
  },
  {
   "attachments": {},
   "cell_type": "markdown",
   "id": "d6fd35c3-9122-4009-b2d7-1434413f31af",
   "metadata": {
    "deletable": false,
    "editable": false,
    "tags": []
   },
   "source": [
    "### Apstrakcija <a class=\"anchor\" id=\"modul1-apstrakcija\"></a>"
   ]
  },
  {
   "attachments": {},
   "cell_type": "markdown",
   "id": "a1eb122d-15f0-4ebb-9b16-41ac39499210",
   "metadata": {
    "deletable": false,
    "editable": false,
    "tags": []
   },
   "source": [
    "#### Zadaci"
   ]
  },
  {
   "attachments": {},
   "cell_type": "markdown",
   "id": "5766d428-f17a-4886-864d-7721454a0065",
   "metadata": {
    "deletable": false,
    "editable": false,
    "tags": []
   },
   "source": [
    "**Zadatak 1**\n",
    "\n",
    "Izradite listu svojstava i funkcionalnosti koje će objekti prethodno opisanog sustava imati? Što više objekata izdvojite - to bolje. \n",
    "\n",
    "Primjer objekta je Član videoteke koji ima ime i prezime, adresu, email i broj telefona. Isto tako, ima pridružen drugi objekt, korisnički račun koji ima email kao korisničkko ime, lozinku, datum zadnje prijave te informaciju je li zaključan zbog krivog pokušaja prijave, odnosno je li aktivan."
   ]
  },
  {
   "attachments": {},
   "cell_type": "markdown",
   "id": "defeac03-8c08-4a3d-a3c6-d6cd1b4552f3",
   "metadata": {},
   "source": []
  },
  {
   "attachments": {},
   "cell_type": "markdown",
   "id": "2b7d4965-a986-4dd8-bfa5-51687bc9a5d4",
   "metadata": {
    "deletable": false,
    "editable": false,
    "tags": []
   },
   "source": [
    "### Algoritam i pseudo kod <a class=\"anchor\" id=\"modul1-algoritam\"></a>\n",
    "\n",
    "Algoritam je slijed koraka koje je potrebno napraviti kako bi se postigao određeni cilj."
   ]
  },
  {
   "attachments": {},
   "cell_type": "markdown",
   "id": "a940f316-07a4-4dfd-b5ab-d72ab15ce37c",
   "metadata": {
    "deletable": false,
    "editable": false,
    "tags": []
   },
   "source": [
    "#### Zadaci"
   ]
  },
  {
   "attachments": {},
   "cell_type": "markdown",
   "id": "d538bb7b-7458-4cfd-8437-49fa589f6c41",
   "metadata": {
    "deletable": false,
    "editable": false,
    "tags": []
   },
   "source": [
    "**Zadatak 1**\n",
    "\n",
    "Izradite algoritam, odnosno slijed koraka za:\n",
    "- registraciju novog člana videoteke\n",
    "- posudbu filma"
   ]
  },
  {
   "attachments": {},
   "cell_type": "markdown",
   "id": "af333251-cc45-440c-8332-04d4bbe4bc9d",
   "metadata": {},
   "source": []
  },
  {
   "attachments": {},
   "cell_type": "markdown",
   "id": "a5305b8e-355d-4488-aedc-58e17ea9d0bf",
   "metadata": {
    "deletable": false,
    "editable": false,
    "tags": []
   },
   "source": [
    "### Provjera rješenja <a class=\"anchor\" id=\"modul1-provjera-rjesenja\"></a>"
   ]
  },
  {
   "attachments": {},
   "cell_type": "markdown",
   "id": "bbf4a409-0a54-4f57-b035-9def22c15656",
   "metadata": {
    "deletable": false,
    "editable": false,
    "tags": []
   },
   "source": [
    "#### Zadaci"
   ]
  },
  {
   "attachments": {},
   "cell_type": "markdown",
   "id": "09fb224f-c8b5-4ec5-8f0f-1e174f09f99e",
   "metadata": {
    "deletable": false,
    "editable": false,
    "tags": []
   },
   "source": [
    "**Zadatak 1**\n",
    "\n",
    "Provjerite uspješnost slijeda koraka za mogućnost gledanja filma:\n",
    "\n",
    "- gledanje filma:\n",
    "    1. pokreni video\n",
    "    2. prikaži opcije za izbor poglavlja, glasnoće\n",
    "    3. zatvori gledanje filma\n",
    "    4. vrati se na početnu stranicu\n",
    "    \n",
    "Je li raspisani slijed koraka u redu? Ako je, zašto je? Ako nije, zašto nije?"
   ]
  },
  {
   "attachments": {},
   "cell_type": "markdown",
   "id": "4252f2c2-f158-4304-b30c-ead70572008e",
   "metadata": {},
   "source": []
  },
  {
   "attachments": {},
   "cell_type": "markdown",
   "id": "963087ad-2fd6-4956-b3b6-9fe14d0d1e6c",
   "metadata": {
    "deletable": false,
    "editable": false,
    "tags": []
   },
   "source": [
    "### Pesudo kôd <a class=\"anchor\" id=\"modul1-pseudo-kod\"></a>"
   ]
  },
  {
   "attachments": {},
   "cell_type": "markdown",
   "id": "0b1f7b27-a9b1-4122-a315-e40d9ace5e73",
   "metadata": {
    "deletable": false,
    "editable": false,
    "tags": []
   },
   "source": [
    "#### Zadaci"
   ]
  },
  {
   "attachments": {},
   "cell_type": "markdown",
   "id": "41fa7812-fd64-4bd0-b163-e2b86aafe818",
   "metadata": {
    "deletable": false,
    "editable": false,
    "tags": []
   },
   "source": [
    "**Zadatak 1**\n",
    "\n",
    "Koristeći pesudo kôd, napišite rješenje za komponentu sustava za dodavanje novog filma u ponudu."
   ]
  },
  {
   "attachments": {},
   "cell_type": "markdown",
   "id": "d5170179-c0b7-4724-8ca1-5767d494d385",
   "metadata": {},
   "source": []
  },
  {
   "attachments": {},
   "cell_type": "markdown",
   "id": "4b6b2c95-769b-4633-b97d-e69ded1a524f",
   "metadata": {
    "deletable": false,
    "editable": false,
    "tags": []
   },
   "source": [
    "**Zadatak 2**\n",
    "\n",
    "Koristeći pesudo kôd, napišite rješenje za komponentu sustava za registraciju, prijavu te prvo pokretanje aplikacije."
   ]
  },
  {
   "attachments": {},
   "cell_type": "markdown",
   "id": "81b56c24-c69d-4116-ba18-bd84134ef285",
   "metadata": {},
   "source": []
  },
  {
   "attachments": {},
   "cell_type": "markdown",
   "id": "f746bb18-3294-4bef-94f3-f21b58ef6cf6",
   "metadata": {
    "deletable": false,
    "editable": false,
    "tags": []
   },
   "source": [
    "## Seminar 2 - Osnove programiranja u Pythonu <a class=\"anchor\" id=\"modul2\"></a>\n",
    "\n",
    "Python je programski jezik nastao krajem 80-ih godina prošlog stoljeća. Međutim, prva objava bila je **1991. godine**. Autor jezika je nizozemac Guido van Rossum, a jezik je dobio ime po popularnoj humorističnoj TV seriji *Monty Python's Flying Circus*.\n",
    "**Python PEP *(Python Enhancement Proposals)***\n",
    "\n",
    "Python PEP predstavlja skup dokumenta i pravila koji definiraju dizajn, pravila i konvenciju pisanja Python kôda napisanih za Python korisnike. Prvotni je oblik bio *mailing lista* na koju su prvi korisnici slali prijedloge za poboljšanja jezika. \n",
    "\n",
    "Svaki prijedlog ima svoj broj. Najpoznatiji je *PEP 20* poznatiji kao *The Zen of Python*, autora Tim Petersa, u kojem su opisane glavne smjernice za razvoj i korištenje Python programskog jezika. Ove smjernice su napisane u obliku 20 aforizama, ali ih je samo 19 zapisano.\n",
    "\n",
    " <a href=\"https://peps.python.org/pep-0020/\" target=\"_blank\">The Zen of Python</a>\n",
    "\n",
    "Drugi, isto tako bitan prijedlog, je *PEP 8 – Style Guide for Python Code* (<a href=\"https://peps.python.org/pep-0008/\" target=\"_blank\">Style Guide for Python Code</a>). Ovaj prijedlog opisuje kako treba pisati nazive varijabli, funkcija, objekata, razreda/ klasa itd. u programskom jeziku Python."
   ]
  },
  {
   "attachments": {},
   "cell_type": "markdown",
   "id": "fffa572a-c1c0-43c1-8305-2583f6b8f3a9",
   "metadata": {
    "deletable": false,
    "editable": false,
    "tags": []
   },
   "source": [
    "**Instalacija programskog jezika Python**\n",
    "\n",
    "Prije nego počnete razvijati aplikacije u programskom jeziku Python, potrebno je provjeriti imate li instaliran programski jezik na računalu. Ovisno o operacijskom sustavu, Python može biti predinstaliran ili ga je potrebno instalirati. Ako koristite Linux operacijski sustav, uključujući i MacOS onda sigurano imate instaliran Python 2, a moguće (uz neke distribucije) i Python 3. Ako koristite Windows operacijski sustav ili Linux na kojem nemate instaliranu verziju Python 3 (jedina trenutno podržana verzija programskog jezika Python), onda instalacijski paket možete preuzeti s ovog lika <a href=\"https://www.python.org/downloads/\" target=\"_blank\">Python Download</a>."
   ]
  },
  {
   "attachments": {},
   "cell_type": "markdown",
   "id": "7924b9e7-d33c-40c0-a8bf-39c0c9855c0c",
   "metadata": {
    "deletable": false,
    "editable": false,
    "tags": []
   },
   "source": [
    "### IDE <a class=\"anchor\" id=\"modul2-ide\"></a>\n",
    "\n",
    "Za pisanje programskog koda (izvorni kod / *source code*) koristimo integrirano razvojno okruženje (eng. *Integrated Development Environment - IDE*). \n",
    "\n",
    "Jupyter Notebook, u kojem je pisana ova zbirka je jedno od njih. Najčešće korištena razvojna okruženja za razvoj aplikacija u Python programskom jeziku su (navedena abecednim redom):\n",
    "\n",
    "* JetBrains PyCharm - <a href=\"https://www.jetbrains.com/products/compare/?product=pycharm&product=pycharm-ce\" target=\"_blank\"> Link za preuzimanje instalacije</a>\n",
    "* Microsoft Visual Studio Code - <a href=\"https://code.visualstudio.com/\" target=\"_blank\"> Link za preuzimanje instalacije</a>\n",
    "\n",
    "Svako od gore navedenih okruženja, uključujući i Jupyter Notebook, ima svoje prednosti i mane. Svi alati rade na danas najkoristenijim operacijskim sustavima: Windows, Linux te MacOS."
   ]
  },
  {
   "attachments": {},
   "cell_type": "markdown",
   "id": "52fd4ea8-f6a9-4541-b10b-7ea54c58ca81",
   "metadata": {
    "deletable": false,
    "editable": false,
    "tags": []
   },
   "source": [
    "### Varijable i tipovi podataka <a class=\"anchor\" id=\"modul2-varijable\"></a>\n",
    "\n",
    "Varijable su ljudima čitljivi nazivi memorijskih lokacija na kojima su u računalu pohranjeni određeni podaci. Dakle, ako u računalo želimo pohraniti neki podatak koji ćemo koristiti u našoj aplikaciji, onda za pristup do tog podatka koristimo nama lako čitljiv i pamtljiv naziv umjesto šifru memorijske lokacije.\n",
    "\n",
    "*Primjer varijable:* `movie_title` - predstavlja varijablu u kojoj čuvajmo podatak o nazivu filma. Lako razumljiv i pamtljiv.<br/>\n",
    "*Primjer memorijske adrese:* `0x1025c4ed0` ili `0x10e2f23ab` - teško je zapamtiti koji podatak je na kojoj memorijskoj lokaciji.\n",
    "\n",
    "**Imenovanje varijabli**\n",
    "\n",
    "Varijable u Pythonu pišemo **malim slovima**. Ako varijabla ima više riječi, tada se riječi odvajaju podvlakom (znak: _ ) zato jer je **razmak zabranjen znak u imenovanju** općenito u svim programskim jezicima.\n",
    "\n",
    "Općenito, u nazivima se mogu koristiti sva velika i mala slova engleskog alfabeta, brojevi, -, _ . Naziv ne smije početi brojkom te ne smije biti isti kao ključne riječi u Pythonu. Popis ključnih riječi mozete pronaći <a href=\"https://docs.python.org/3/reference/lexical_analysis.html#keywords\" target=\"_blank\">ovdje</a>."
   ]
  },
  {
   "attachments": {},
   "cell_type": "markdown",
   "id": "a521eecf-9ff5-4ca5-9811-f2920c4f4275",
   "metadata": {
    "deletable": false,
    "editable": false,
    "tags": []
   },
   "source": [
    "**Tipovi podataka**\n",
    "\n",
    "Osim naziva varijable, moramo voditi računa o tipu podatka - vrijednosti koja će biti pohranjena u tu varijablu. Postoje ugrađeni tipovi podataka ili *primitivni* tipovi podataka. To su oni tipovi podataka od koji su svi drugi građeni. To su:\n",
    "- *Integer* - predstavlja cijele brojeve - `int()`\n",
    "- *Float* - predstavlja decimalne brojeve - `float()`\n",
    "- *Char* - predstavlja znak - `chr()`\n",
    "- *String* - predstavlja tekstualni tip podatka - `str()` (*NAPOMENA*: String ili tekstualni tip podatka je u stvari izvedeni tip, jer je to kolekcija znakova, ali ga ubrajamo u osnovne tipove podataka.)\n",
    "\n",
    "*Izvedeni tipovi podataka* su razne kolekcije primitivnih tipova podataka ili njihovih izvedenica, kao i korisnički definirani tipovi podataka, odnosno klase (razredi). Više će riječi o tom tipu podataka biti u nastavku zbirke zadataka."
   ]
  },
  {
   "attachments": {},
   "cell_type": "markdown",
   "id": "c77b5aac-1537-42c3-b225-98b0d531ebd0",
   "metadata": {
    "deletable": false,
    "editable": false,
    "tags": []
   },
   "source": [
    "#### Zadaci"
   ]
  },
  {
   "attachments": {},
   "cell_type": "markdown",
   "id": "a5c08324-2d70-47f3-8377-18f28660c926",
   "metadata": {
    "deletable": false,
    "editable": false,
    "tags": []
   },
   "source": [
    "**Zadatak 1**\n",
    "\n",
    "Koristeći Python preporuke za imenovanje varijabli, kreirajte varijablu u kojoj ćete čuvati podatak o nazivu filma."
   ]
  },
  {
   "cell_type": "code",
   "execution_count": null,
   "id": "bbaaada1-11a2-4b93-841d-e099ecf3e381",
   "metadata": {},
   "outputs": [],
   "source": []
  },
  {
   "attachments": {},
   "cell_type": "markdown",
   "id": "9c77b77e-902f-4a4f-b2f4-3b1e07e311b2",
   "metadata": {
    "deletable": false,
    "editable": false,
    "tags": []
   },
   "source": [
    "**Zadatak 2**\n",
    "\n",
    "Koristeći Python preporuke za imenovanje varijabli, kreirajte varijable u kojima ćete čuvati podatke o:\n",
    "* nazivu filma\n",
    "* godini proizvodnje filma\n",
    "* žanru \n",
    "* zemlji prijekla\n",
    "* prosječnoj cjeni od gledatelja"
   ]
  },
  {
   "cell_type": "code",
   "execution_count": null,
   "id": "4e083b1d-a057-4f24-8a3d-7a45e7c80495",
   "metadata": {},
   "outputs": [],
   "source": []
  },
  {
   "attachments": {},
   "cell_type": "markdown",
   "id": "48f0c038-42e0-44e7-8ec5-45aec9100b0d",
   "metadata": {
    "deletable": false,
    "editable": false,
    "tags": []
   },
   "source": [
    "**Zadatak 3**\n",
    "\n",
    "Koristeći Python preporuke za imenovanje varijabli, kreirajte varijable u kojima ćete čuvati podatke o:\n",
    "* nazivu videoteke\n",
    "* godini, mjesecu i danu osnivanja tvrtke,\n",
    "* adresi sjedišta (ulica i broj, poštanski broj, naziv grada te države)\n",
    "* zemlji porijekla"
   ]
  },
  {
   "cell_type": "code",
   "execution_count": null,
   "id": "aea5f3d9-5b7c-4ed0-9e19-816713ee0017",
   "metadata": {},
   "outputs": [],
   "source": []
  },
  {
   "attachments": {},
   "cell_type": "markdown",
   "id": "1863639a-b721-4535-a596-e4b347ba4c24",
   "metadata": {
    "deletable": false,
    "editable": false,
    "tags": []
   },
   "source": [
    "**Zadatak 4**\n",
    "\n",
    "Koristeći Python preporuke za imenovanje varijabli, kreirajte varijable u kojima ćete čuvati podatke o korisničkom računu člana. Kreirajte sve potrebne podatke koje korisnički račun treba imati."
   ]
  },
  {
   "cell_type": "code",
   "execution_count": null,
   "id": "82625bc4-2a64-41a0-a73d-ac7159c56dec",
   "metadata": {},
   "outputs": [],
   "source": []
  },
  {
   "attachments": {},
   "cell_type": "markdown",
   "id": "be314a36-8db7-4b18-a61e-ee2f4a9aabdd",
   "metadata": {
    "deletable": false,
    "editable": false,
    "tags": []
   },
   "source": [
    "**Zadatak 5**\n",
    "\n",
    "Koristeći Python preporuke za imenovanje varijabli, kreirajte varijable u kojima ćete čuvati sve osobne podatke o osnivaču videoteke, g. Peri Periću."
   ]
  },
  {
   "cell_type": "code",
   "execution_count": null,
   "id": "fbc49928-6fef-4dfc-ae67-c5d8a423db62",
   "metadata": {},
   "outputs": [],
   "source": []
  },
  {
   "attachments": {},
   "cell_type": "markdown",
   "id": "85c65ea5-df1e-4ab3-b617-551498147004",
   "metadata": {
    "deletable": false,
    "editable": false,
    "tags": []
   },
   "source": [
    "### print() / input() <a class=\"anchor\" id=\"modul2-print-input\"></a>\n",
    "\n",
    "Naredbe `print()` i `input()` služe za **prikaz i unos** podataka korisniku aplikacije."
   ]
  },
  {
   "attachments": {},
   "cell_type": "markdown",
   "id": "c7fd4007-18d6-46de-bd6e-dbdf2d0f6086",
   "metadata": {
    "deletable": false,
    "editable": false,
    "tags": []
   },
   "source": [
    "**<code>print()</code>**\n",
    "\n",
    "Naredba <code>print()</code> služi za **ispis tekstualne poruke** u konzolu (naredbena linija, command line, terminal).\n",
    "\n",
    "*Primjer:* `print('Pozdrav. Nalazite se u PyDev zbirci zadataka.')`"
   ]
  },
  {
   "attachments": {},
   "cell_type": "markdown",
   "id": "b7f535be-f922-4e82-ae06-e93303c6b36d",
   "metadata": {
    "deletable": false,
    "editable": false,
    "tags": []
   },
   "source": [
    "**<code>input()</code>**\n",
    "\n",
    "Naredba <code>input()</code> služi za **unos tekstualnog** tipa podataka u aplikaciju od strane korisnika aplikacije, ali s tipkovnice. Dakle, ova naredba n.\n",
    "\n",
    "*Primjer:* `varijabla = input('Upisite neku vrijednost u varijablu: ')`"
   ]
  },
  {
   "attachments": {},
   "cell_type": "markdown",
   "id": "454efffb-b286-46de-ac28-211767ee706d",
   "metadata": {
    "deletable": false,
    "editable": false,
    "tags": []
   },
   "source": [
    "#### Zadaci"
   ]
  },
  {
   "attachments": {},
   "cell_type": "markdown",
   "id": "fb39de82-7e6b-444d-8ea3-482d4fe97bc1",
   "metadata": {
    "deletable": false,
    "editable": false,
    "tags": []
   },
   "source": [
    "**Zadatak 1**\n",
    "\n",
    "Primjenom `input()` i `print()` funkcija prepravite prva tri zadatka iz prethodnog poglavlja (*Varijable i tipovi podataka*), ali tako da podatke unosi korisnik i nakon unosa svih podataka te podatke ispišite na ekran korisniku. Iako se radi o aplikaciji koja nema grafičko sučelje, vodite računa o korisničkom iskustvu - dodajte sve potrebne upute korisniku te neka ispis bude lijepo formatiran.\n",
    "\n",
    "*NAPOMENA*: Nije nužno raditi kompleksne validacije unosa podataka."
   ]
  },
  {
   "cell_type": "code",
   "execution_count": null,
   "id": "90177a79-8f75-4106-a5f9-ea30926bad66",
   "metadata": {},
   "outputs": [],
   "source": []
  },
  {
   "cell_type": "code",
   "execution_count": null,
   "id": "725fa098-a120-4f6d-a033-1a77426de5ac",
   "metadata": {},
   "outputs": [],
   "source": []
  },
  {
   "cell_type": "code",
   "execution_count": null,
   "id": "7ba2c525-dc68-4ae3-b487-d1ca5c82de4e",
   "metadata": {},
   "outputs": [],
   "source": []
  },
  {
   "attachments": {},
   "cell_type": "markdown",
   "id": "b1cee46b-5f15-4b1d-8608-220255483c91",
   "metadata": {
    "deletable": false,
    "editable": false,
    "tags": []
   },
   "source": [
    "**Zadatak 2**\n",
    "\n",
    "Napišite program koji ispisuje zaglavlje s nazivom videoteke \"Internet Video Kvart\". Zatim, neka u glavnom dijelu programa bude dio za prijavu člana videoteke u sustav. Nakon što se član prijavi, ispišite sve podatke o članu."
   ]
  },
  {
   "cell_type": "code",
   "execution_count": null,
   "id": "a19314bf-0778-4654-b143-fff783ae6906",
   "metadata": {},
   "outputs": [],
   "source": []
  },
  {
   "attachments": {},
   "cell_type": "markdown",
   "id": "d2108cb7-9164-4367-b022-ffcdf03eaf39",
   "metadata": {
    "deletable": false,
    "editable": false,
    "tags": []
   },
   "source": [
    "### Debugging <a class=\"anchor\" id=\"modul2-debugging\"></a>\n",
    "\n",
    "Često se dogodi da se kôd ne izvršava onako kako smo planirali, odnosno željeli. Razloga može biti jako puno i njih se nećemo doticati. Svi programeri griješe i svi trebaju pomoć kod otklanjanja grešaka. Jedan od razloga korištenja integriranih razvojnih okruženja je i otklanjanje grešaka, odnosno *Debugging*.\n",
    "\n",
    "*Debugging* je pokretanje naše aplikacije u posebnom načinu koji nam omogućava da zaustavimo izvršavanje aplikacije u točno određenoj liniji (*Breakpoint*) te nakon toga kontroliramo izvršavanje aplikacije do razine da pokrećemo liniju po liniju ako nam to odgovara. Najvažniji dio ovog procesa je uvid u vrijednosti koje naše variajble, objekti imaju te kojim smjerom se u određenom trenutku izvršava naša aplikacija. Na taj način lako možemo uočiti u kojoj liniji aplikacije je uzrok problema i otkloniti ga.\n",
    "\n",
    "Ovaj način pokretanja kôda koristite kada god \"zapnete\" i ne znate kako riješiti problem."
   ]
  },
  {
   "attachments": {},
   "cell_type": "markdown",
   "id": "a05582eb-cffd-46e5-aa19-37cb1bb1192b",
   "metadata": {
    "deletable": false,
    "editable": false,
    "tags": []
   },
   "source": [
    "### FOR petlja <a class=\"anchor\" id=\"modul2-for\"></a>"
   ]
  },
  {
   "attachments": {},
   "cell_type": "markdown",
   "id": "e2b3c8fe-b17e-4e5e-bc03-8401b4bbd2e0",
   "metadata": {
    "deletable": false,
    "editable": false,
    "tags": []
   },
   "source": [
    "FOR petlja omogućava pokretanje jedne li više linija kôda ne više od predefiniranog konačnog broj. Točan broj ponavljanja može ovisiti o broju elemenata neke kolekcije ili broju ponavljanja koji je upisao korisnik aplikacije, ali važno je da će se taj blok koda izvršiti **maksimalno onoliko puta koliko je definirano gornjom granicom**. Moguć je manji broj ponavljanja ako se ispuni neki od potencijalnih uvjeta."
   ]
  },
  {
   "attachments": {},
   "cell_type": "markdown",
   "id": "7fe66e36-4201-4343-8a7d-70e840ed184e",
   "metadata": {
    "deletable": false,
    "editable": false,
    "tags": []
   },
   "source": [
    "Sintaksa FOR petlje:\\\n",
    "`for element in kolekcija:`\\\n",
    "&nbsp;&nbsp;&nbsp;&nbsp;`naredbe vezane uz element`"
   ]
  },
  {
   "attachments": {},
   "cell_type": "markdown",
   "id": "d881ba35-260e-4aff-bfbe-d2c892769e19",
   "metadata": {
    "deletable": false,
    "editable": false,
    "tags": []
   },
   "source": [
    "### Lista <a class=\"anchor\" id=\"modul2-lista\"></a>"
   ]
  },
  {
   "attachments": {},
   "cell_type": "markdown",
   "id": "6e0f9fc7-37cc-4ee2-9907-23fdb482a9f4",
   "metadata": {
    "deletable": false,
    "editable": false,
    "tags": []
   },
   "source": [
    "Lista je tip podatka u Pythonu kojeg je najbolje opisati kao kolekciju podataka. Elementi liste su međusobno odvojeni zarezima te zokruženi uglatim zagradama:\\\n",
    "`lista = [element1, element2, ...].`\n",
    "\n",
    "Pri tome je važno da **članovi liste mogu biti iz različitih tipova podataka** pa čak i drugih lista. Svaka lista, osim vrijednosti, čuva i indeks pozicije člana u listi. Indeks je isključivo cijeli broj koji počinje od broj 0 (nula) za prvi element.\n",
    "\n",
    "Za dohvat nekog elementa liste koristimo indeks na način:\\\n",
    "`naziv_liste[indeks]`\n",
    "\n",
    "Primjenom indeksa možemo dohvatiti neki element liste te ga pohraniti u neku varijablu ili iskoristiti kao argument funkcije i sl. Isti način možemo iskoristiti i da promjenu vrijednosti elementa na određenom indeksu."
   ]
  },
  {
   "attachments": {},
   "cell_type": "markdown",
   "id": "c8fc17b7-dd19-4dff-9bd1-7892183e708d",
   "metadata": {
    "deletable": false,
    "editable": false,
    "tags": []
   },
   "source": [
    "**Metode za rad s članovima liste**\n",
    "\n",
    "- `list.append(novi_clan)` - Dodaje novi element *novi_clan* na kraj liste, odnosno kao zadnji element liste.\n",
    "- `list.extend(druga_kolekcija)` - Proširuje listu tako da na kraj nadoda članove *druga_kolekcija* kolekcije.\n",
    "- `list.insert(indeks, novi_clan)` - Na poziciju označenu brojem *indeks*, ubacuje *novi_clan* u listu.\n",
    "- `list.remove(clan_liste)` - Briše člana *clan_liste* iz liste. Ukoliko član nije u listi onda prijavi *ValueError* grešku.\n",
    "- `list.pop([i])` - Remove the item at the given position in the list, and return it. If no index is specified, a.pop() removes and returns the last item in the list. (The square brackets around the i in the method signature denote that the parameter is optional, not that you should type square brackets at that position. You will see this notation frequently in the Python Library Reference.).\n",
    "- `list.clear()` - Briše sve članove s liste. Ekvivalentna del a[:].\n",
    "- `list.index(x[, start[, end]])` - Return zero-based index in the list of the first item whose value is equal to x. Raises a ValueError if there is no such item.\\\n",
    "    The optional arguments start and end are interpreted as in the slice notation and are used to limit the search to a particular subsequence of the list. The returned index is computed relative to the beginning of the full sequence rather than the start argument.\n",
    "- `list.count(x)` - Return the number of times x appears in the list.\n",
    "- `list.sort(*, key=None, reverse=False)` - Sort the items of the list in place (the arguments can be used for sort customization, see sorted() for their explanation).\n",
    "- `list.reverse()` - Reverse the elements of the list in place.\n",
    "- `list.copy()` - Return a shallow copy of the list. Equivalent to a[:]."
   ]
  },
  {
   "attachments": {},
   "cell_type": "markdown",
   "id": "e0ff9a4c-6d3b-48e5-829a-3a3412703281",
   "metadata": {
    "deletable": false,
    "editable": false,
    "tags": []
   },
   "source": [
    "**Slice notation**\n",
    "\n",
    "Već smo spomenuli indekse. *Slice notation* je prošireni način korištenja indeksa. To možemo opisati kao način kako možemo dohvatiti specifični segment neke liste, odnosno kolekcije.\\\n",
    "Sintaksa `naziv_liste[pocetni_indeks : zavrsni_indeks, korak]`\\\n",
    "- *pocetni_indeks* - predstavlja indeks elementa kojim segment počinje. Ovaj element je uključen u segment.\n",
    "- *zavrsni_indeks* - predstavlja indeks elementa kojim segment završava . Ovaj element NIJE uključen u segment, nego je u segment uključen element prije njega.\n",
    "- *korak* - predstavlja korak, odnosno broj koliko će se indeksa preskočiti. Isto tako, ako je ovaj broj negativan, onda označava smjer koji element je prvi, a koji posljednji u segmentu na način da je smjer od desna prema lijevo.\n",
    "\n",
    "Primjeri:\n",
    "* naziv_liste[0] - prvi element liste\n",
    "* naziv_liste[1] - drugi element liste\n",
    "* naziv_liste[-1] - zadnji element liste\n",
    "* naziv_liste[1 : 4] - segment od drugog elementa (uključivo) do petog elementa, ali peti element nije uključen\n",
    "* naziv_liste[4 : 1 : -1] - segment od petog elementa (uključivo) do prvog elementa, ali tako da je smjer kretanja indeksa negativan"
   ]
  },
  {
   "attachments": {},
   "cell_type": "markdown",
   "id": "bf75c5a5-ae7f-48d5-a2e3-91f77511306d",
   "metadata": {
    "deletable": false,
    "editable": false,
    "tags": []
   },
   "source": [
    "#### Zadaci"
   ]
  },
  {
   "attachments": {},
   "cell_type": "markdown",
   "id": "fcc22230-d687-4df0-add7-496f1f5fda69",
   "metadata": {
    "deletable": false,
    "editable": false,
    "tags": []
   },
   "source": [
    "**Zadatak 1**\n",
    "\n",
    "Kreirajte listu koja čuva podatke o:\n",
    "* 5 žanrova filmova\n",
    "* nazivima 5 filmova"
   ]
  },
  {
   "cell_type": "code",
   "execution_count": null,
   "id": "9b5ecb03-ccb7-420f-9d46-65dd8dcdb9b3",
   "metadata": {},
   "outputs": [],
   "source": []
  },
  {
   "attachments": {},
   "cell_type": "markdown",
   "id": "6fcfcae8-69ec-484d-af5b-46c44d2d2237",
   "metadata": {
    "deletable": false,
    "editable": false,
    "tags": []
   },
   "source": [
    "**Zadatak 2**\n",
    "\n",
    "Kreirajte listu koja čuva podatke o imenima i prezimenima 10 glumica i glumaca, ali tako da imena i prezimena unese korisnik. Nakon unosa liste, ispišite listu tako da svaki element liste bude ispisan u novom redu na način:\\\n",
    "`Ime: ime_glumca - Prezime: prezime_glumca`\\\n",
    "`...`"
   ]
  },
  {
   "cell_type": "code",
   "execution_count": null,
   "id": "8fb42cd0-0e93-4b67-b329-109d063a1032",
   "metadata": {},
   "outputs": [],
   "source": []
  },
  {
   "attachments": {},
   "cell_type": "markdown",
   "id": "adbd26a6-edb2-492d-836e-f37f1621459a",
   "metadata": {
    "deletable": false,
    "editable": false,
    "tags": []
   },
   "source": [
    "**Zadatak 3**\n",
    "\n",
    "Kreirajte listu koja čuva podatke (naziv, godina proizvodnje, žanr, glavna uloga, redatelj) za 10 filmova, ali tako da podatke unese korisnik. Nakon unosa liste, ispišite listu tako da svaki element liste bude ispisan u novom redu, ali odvojen razmakom te da svaki podatka filma također bude ispisan u novi red\\\n",
    "`Naziv: naziv_filma`\\\n",
    "`Godina proizvodnje: godina_proizvodnje`\\\n",
    "`...`"
   ]
  },
  {
   "cell_type": "code",
   "execution_count": null,
   "id": "2f3e9e1e-3ca9-48d4-be20-978ab8314a2a",
   "metadata": {},
   "outputs": [],
   "source": []
  },
  {
   "attachments": {},
   "cell_type": "markdown",
   "id": "1c2108d9-e2d6-44a4-820e-2230ea26abac",
   "metadata": {
    "deletable": false,
    "editable": false,
    "tags": []
   },
   "source": [
    "**Zadatak 4**\n",
    "\n",
    "Proširite prethodni zadatak tako da uz svaki film dodate i popis glumaca i glumica kojeg će upisivati korisnik i isto tako će biti primjereno ispisan popis glumaca."
   ]
  },
  {
   "cell_type": "code",
   "execution_count": null,
   "id": "4f54fd5f-d8b2-4337-acfc-2cd5b3298e71",
   "metadata": {},
   "outputs": [],
   "source": []
  },
  {
   "attachments": {},
   "cell_type": "markdown",
   "id": "ee5f0c50-02b4-48a2-ae7a-ceb16b2fbd1b",
   "metadata": {
    "deletable": false,
    "editable": false,
    "tags": []
   },
   "source": [
    "**Zadatak 5**\n",
    "\n",
    "Napravite listu s deset omiljenih filmova, sortirajte ih abecedno i ispišite ih na ekran."
   ]
  },
  {
   "cell_type": "code",
   "execution_count": null,
   "id": "b579e817-cb34-4f9e-9c9f-b4086c836188",
   "metadata": {},
   "outputs": [],
   "source": []
  },
  {
   "attachments": {},
   "cell_type": "markdown",
   "id": "4bc8f7cf-71dc-4da1-949f-3f9e3b12685d",
   "metadata": {
    "deletable": false,
    "editable": false,
    "tags": []
   },
   "source": [
    "**Zadatak 6**\n",
    "\n",
    "Izračunajte prosječnu ocjenu za pet filmova koje ste nedavno pogledali. Unesite ocjene u listu i iskoristite funkciju za izračun prosjeka."
   ]
  },
  {
   "cell_type": "code",
   "execution_count": null,
   "id": "0b29602f-3afc-4930-b60e-e926dbd232a7",
   "metadata": {},
   "outputs": [],
   "source": []
  },
  {
   "attachments": {},
   "cell_type": "markdown",
   "id": "9ed5a18e-d46e-4fdf-9220-d8b10c3c76aa",
   "metadata": {
    "deletable": false,
    "editable": false,
    "tags": []
   },
   "source": [
    "**Zadatak 7**\n",
    "\n",
    "Napravite dvije liste s naslovima filmova i njihovim godinama izlaska. Zatim spojite te dvije liste u jednu listu tako da svaki element bude niz koji sadrži naziv filma i godinu izlaska."
   ]
  },
  {
   "cell_type": "code",
   "execution_count": null,
   "id": "37afd5be-6185-42f5-a3a0-03c5ed6af9f1",
   "metadata": {},
   "outputs": [],
   "source": []
  },
  {
   "attachments": {},
   "cell_type": "markdown",
   "id": "8c08f1ab-1fe9-4f48-b4c7-f07bb04eed56",
   "metadata": {
    "deletable": false,
    "editable": false,
    "tags": []
   },
   "source": [
    "**Zadatak 8**\n",
    "\n",
    "Napravite listu s pet različitih žanrova filmova i ispišite ih na ekran. Zatim izradite drugu listu koja sadrži pet filmova, pri čemu svaki film pripada jednom od žanrova iz prve liste."
   ]
  },
  {
   "cell_type": "code",
   "execution_count": null,
   "id": "0360e026-0c75-4cd7-86d5-ecd50a8e37e2",
   "metadata": {},
   "outputs": [],
   "source": []
  },
  {
   "attachments": {},
   "cell_type": "markdown",
   "id": "0e99f852-93b9-4d59-bc7f-0541df8469f0",
   "metadata": {
    "deletable": false,
    "editable": false,
    "tags": []
   },
   "source": [
    "**Zadatak 9**\n",
    "\n",
    "Napravite listu s pet filmova koje želite pogledati i listu s pet filmova koje ste već pogledali. Zatim napravite novu listu koja će sadržavati filmove koje ste pogledali i koje biste ponovno pogledali."
   ]
  },
  {
   "cell_type": "code",
   "execution_count": null,
   "id": "46458ed3-459c-4a17-9926-3fe3a5c3e73b",
   "metadata": {},
   "outputs": [],
   "source": []
  },
  {
   "attachments": {},
   "cell_type": "markdown",
   "id": "91a31e72-4926-4d12-9ce4-9616dbc8f96a",
   "metadata": {
    "deletable": false,
    "editable": false,
    "tags": []
   },
   "source": [
    "**Zadatak 10**\n",
    "\n",
    "Izračunajte prosječno trajanje filmova u listi koju ste odabrali."
   ]
  },
  {
   "cell_type": "code",
   "execution_count": null,
   "id": "264175df-bdbc-498b-8a54-2a7265d094e4",
   "metadata": {},
   "outputs": [],
   "source": []
  },
  {
   "attachments": {},
   "cell_type": "markdown",
   "id": "41c88b6f-5e49-43b0-aba3-59fef81db215",
   "metadata": {
    "deletable": false,
    "editable": false,
    "tags": []
   },
   "source": [
    "**Zadatak 11**\n",
    "\n",
    "Napravite listu s naslovima filmova i njihovim glavnim glumcima. Zatim izradite drugu listu koja sadrži samo imena glumaca."
   ]
  },
  {
   "cell_type": "code",
   "execution_count": null,
   "id": "c949e618-a3b2-4117-96db-5526cade7ec9",
   "metadata": {},
   "outputs": [],
   "source": []
  },
  {
   "attachments": {},
   "cell_type": "markdown",
   "id": "456510b9-d8d2-4c0b-86c8-2caf83d20d6f",
   "metadata": {
    "deletable": false,
    "editable": false,
    "tags": []
   },
   "source": [
    "**Zadatak 12**\n",
    "\n",
    "Napravite listu koja sadrži nekoliko filmskih redatelja. Zatim napravite pet listi, pri čemu svaka lista sadrži pet filmova koje je režirao jedan od redatelja iz prve liste."
   ]
  },
  {
   "cell_type": "code",
   "execution_count": null,
   "id": "4244fb69-8e4a-473e-8c59-ce2d0ca3090f",
   "metadata": {},
   "outputs": [],
   "source": []
  },
  {
   "attachments": {},
   "cell_type": "markdown",
   "id": "a9d0946c-1c0c-42c5-be50-13fac6ad47be",
   "metadata": {
    "deletable": false,
    "editable": false,
    "tags": []
   },
   "source": [
    "**Zadatak 13**\n",
    "\n",
    "Napravite listu koja sadrži pet filmova s najboljim ocjenama na IMDB-u. Zatim pronađite godine izlaska tih filmova i izračunajte prosječnu dob filma."
   ]
  },
  {
   "cell_type": "code",
   "execution_count": null,
   "id": "c268952e-c604-496f-a453-b39dd527de40",
   "metadata": {},
   "outputs": [],
   "source": []
  },
  {
   "attachments": {},
   "cell_type": "markdown",
   "id": "091afcfa-8568-45ad-ad5d-03b984c4bb33",
   "metadata": {
    "deletable": false,
    "editable": false,
    "tags": []
   },
   "source": [
    "**Zadatak 14**\n",
    "\n",
    "Napravite listu koja sadrži pet filmova koji su osvojili nagradu Oscar za najbolji film. Zatim napravite drugu listu koja sadrži sve glavne glumce koji su glumili u tim filmovima."
   ]
  },
  {
   "cell_type": "code",
   "execution_count": null,
   "id": "c6aa0d3d-b052-4bba-8909-77657b973451",
   "metadata": {},
   "outputs": [],
   "source": []
  },
  {
   "attachments": {},
   "cell_type": "markdown",
   "id": "1b1a1a97-002c-47a8-bf46-b8ffcdcd6ae5",
   "metadata": {
    "deletable": false,
    "editable": false,
    "tags": []
   },
   "source": [
    "### Tuple, n-torka <a class=\"anchor\" id=\"modul2-tuple\"></a>\n",
    "\n",
    "Tuple, n-terac ili n-torka je kolekcija podataka koje **nakon kreiranja nije moguće promjeniti**. Elementi n-torke također imaju indekse za manipulaciju elementima (kao i lista), ali nije moguće mijenjati vrijednosti elemenata.\n",
    "\n",
    "`n_torka1 = (element1, element2, ...)` ili\\\n",
    "`n_torka2 = element1, element2, ...`"
   ]
  },
  {
   "attachments": {},
   "cell_type": "markdown",
   "id": "f8b5c1a4-3e1a-4460-88fc-210f0093ad3a",
   "metadata": {
    "deletable": false,
    "editable": false,
    "tags": []
   },
   "source": [
    "#### Zadaci"
   ]
  },
  {
   "attachments": {},
   "cell_type": "markdown",
   "id": "46566813-35ff-4186-b161-5e74a0a9ff74",
   "metadata": {
    "deletable": false,
    "editable": false,
    "tags": []
   },
   "source": [
    "**Zadatak 1**\n",
    "\n",
    "Napravite tuple s imenima svojih najdražih glumaca i ispišite ih."
   ]
  },
  {
   "cell_type": "code",
   "execution_count": null,
   "id": "67bd0633-3b7e-4c9a-8060-e0a78e2f8b5b",
   "metadata": {},
   "outputs": [],
   "source": []
  },
  {
   "attachments": {},
   "cell_type": "markdown",
   "id": "7b11643c-eefd-4301-b1e3-150afeb3a2fe",
   "metadata": {
    "deletable": false,
    "editable": false,
    "tags": []
   },
   "source": [
    "**Zadatak 2**\n",
    "\n",
    "Napravite tuple s ocjenama svojih najdražih filmova te izračunajte prosječnu ocjenu."
   ]
  },
  {
   "cell_type": "code",
   "execution_count": null,
   "id": "d24d80e7-8373-4d36-a8ae-39d3a31b1fb7",
   "metadata": {},
   "outputs": [],
   "source": []
  },
  {
   "attachments": {},
   "cell_type": "markdown",
   "id": "d3bef84e-eaec-4e96-93d8-2c5e68d6df88",
   "metadata": {
    "deletable": false,
    "editable": false,
    "tags": []
   },
   "source": [
    "**Zadatak 3**\n",
    "\n",
    "Napravite tuple s imenima filmova te izbacite zadnji element iz tupla."
   ]
  },
  {
   "cell_type": "code",
   "execution_count": null,
   "id": "e497e864-2099-43f8-8ab6-3f20e3aba9ed",
   "metadata": {},
   "outputs": [],
   "source": []
  },
  {
   "attachments": {},
   "cell_type": "markdown",
   "id": "27b2fc9f-fcdf-4555-8322-91a232319ee7",
   "metadata": {
    "deletable": false,
    "editable": false,
    "tags": []
   },
   "source": [
    "**Zadatak 4**\n",
    "\n",
    "Napravite tuple s brojevima od 1 do 10, a zatim ih ispišite u obrnutom redoslijedu."
   ]
  },
  {
   "cell_type": "code",
   "execution_count": null,
   "id": "ce128deb-9032-4045-8bd5-a4cdaba20019",
   "metadata": {},
   "outputs": [],
   "source": []
  },
  {
   "attachments": {},
   "cell_type": "markdown",
   "id": "3f6eea34-47fd-4e4b-9f56-8fcc81ea4712",
   "metadata": {
    "deletable": false,
    "editable": false,
    "tags": []
   },
   "source": [
    "**Zadatak 5**\n",
    "\n",
    "Napravite dva tupla i spojite ih u jedan novi tuple."
   ]
  },
  {
   "cell_type": "code",
   "execution_count": null,
   "id": "b367d212-d15e-49fd-8d24-f940f6c20a18",
   "metadata": {},
   "outputs": [],
   "source": []
  },
  {
   "attachments": {},
   "cell_type": "markdown",
   "id": "b1fd4f11-52fc-442c-9cf6-5411bc638aaa",
   "metadata": {
    "deletable": false,
    "editable": false,
    "tags": []
   },
   "source": [
    "**Zadatak 6**\n",
    "\n",
    "Napravite tuple s brojevima te izračunajte sumu prvih pet brojeva."
   ]
  },
  {
   "cell_type": "code",
   "execution_count": null,
   "id": "85071f93-2f7d-4d47-bbd4-6d4c7ec49e32",
   "metadata": {},
   "outputs": [],
   "source": []
  },
  {
   "attachments": {},
   "cell_type": "markdown",
   "id": "01642f00-bde1-4a52-b6f0-3b5b0372fa48",
   "metadata": {
    "deletable": false,
    "editable": false,
    "tags": []
   },
   "source": [
    "### Set <a class=\"anchor\" id=\"modul2-set\"></a>\n",
    "\n",
    "Set je promjenjiva kolekcija podataka u Pythonu koja je specifična po tome što ne dopušta dodavanja istih elemenata, odnosno **dva ista elementa ne mogu biti unutar Set kolekcije podataka**. Specifična je i po tome što umjesto uglatih zagrada koristi vitičaste {}.\n",
    "\n",
    "`set_01 = {element_1, element_2, ...}`"
   ]
  },
  {
   "attachments": {},
   "cell_type": "markdown",
   "id": "edf35e4a-b174-4501-8844-39945f1815dc",
   "metadata": {
    "deletable": false,
    "editable": false,
    "tags": []
   },
   "source": [
    "#### Zadaci"
   ]
  },
  {
   "attachments": {},
   "cell_type": "markdown",
   "id": "9ac6d80f-7a30-4e39-978a-75e261e1a46a",
   "metadata": {
    "deletable": false,
    "editable": false,
    "tags": []
   },
   "source": [
    "**Zadatak 1**\n",
    "\n",
    "Napravi set s imenima svojih najdražih režisera."
   ]
  },
  {
   "cell_type": "code",
   "execution_count": null,
   "id": "eb2d6ae1-f584-4fa3-b8f8-5892bd6f5c04",
   "metadata": {},
   "outputs": [],
   "source": []
  },
  {
   "attachments": {},
   "cell_type": "markdown",
   "id": "7196a000-fa85-4d2e-a0ed-533697574a17",
   "metadata": {
    "deletable": false,
    "editable": false,
    "tags": []
   },
   "source": [
    "**Zadatak 2**\n",
    "\n",
    "Napravite set s imenima filmova koje ste pogledali ove godine."
   ]
  },
  {
   "cell_type": "code",
   "execution_count": null,
   "id": "de42347a-64a9-41c3-8181-dcfb4c44cb83",
   "metadata": {},
   "outputs": [],
   "source": []
  },
  {
   "attachments": {},
   "cell_type": "markdown",
   "id": "1c42d981-f674-47f8-a6ac-822fd1ba1686",
   "metadata": {
    "deletable": false,
    "editable": false,
    "tags": []
   },
   "source": [
    "**Zadatak 3**\n",
    "\n",
    "Napravite set s imenima serija koje ste pogledali ove godine."
   ]
  },
  {
   "cell_type": "code",
   "execution_count": null,
   "id": "0439b4e8-a1d6-464e-ae7c-40cf34743427",
   "metadata": {},
   "outputs": [],
   "source": []
  },
  {
   "attachments": {},
   "cell_type": "markdown",
   "id": "79c3f967-3c2f-4cd5-b8bf-345fe33c295f",
   "metadata": {
    "deletable": false,
    "editable": false,
    "tags": []
   },
   "source": [
    "**Zadatak 4**\n",
    "\n",
    "Napravite dva seta i izračunajte njihov presjek."
   ]
  },
  {
   "cell_type": "code",
   "execution_count": null,
   "id": "4ddaa6fc-690a-404d-ad75-281e0dc3ff81",
   "metadata": {},
   "outputs": [],
   "source": []
  },
  {
   "attachments": {},
   "cell_type": "markdown",
   "id": "6d170ba8-126d-4cb9-98ee-27dfdee94e5a",
   "metadata": {
    "deletable": false,
    "editable": false,
    "tags": []
   },
   "source": [
    "**Zadatak 5**\n",
    "\n",
    "Napravite set s imenima filmova u kojima glume vaši najdraži glumci."
   ]
  },
  {
   "cell_type": "code",
   "execution_count": null,
   "id": "447f0324-30b5-42b5-aa67-3a56595fe6da",
   "metadata": {},
   "outputs": [],
   "source": []
  },
  {
   "attachments": {},
   "cell_type": "markdown",
   "id": "4c182839-8eae-4ffd-a773-20ba8cc2e643",
   "metadata": {
    "deletable": false,
    "editable": false,
    "tags": []
   },
   "source": [
    "**Zadatak 6**\n",
    "\n",
    "Napravite set s imenima žanrova filmova te izbacite duplikate."
   ]
  },
  {
   "cell_type": "code",
   "execution_count": null,
   "id": "c34b7997-add6-471c-b72a-3288864dc424",
   "metadata": {},
   "outputs": [],
   "source": []
  },
  {
   "attachments": {},
   "cell_type": "markdown",
   "id": "535939ca-66f0-4766-8fb4-d4600fe9b48c",
   "metadata": {
    "deletable": false,
    "editable": false,
    "tags": []
   },
   "source": [
    "**Zadatak 7**\n",
    "\n",
    "Napravite set s imenima filmova i ispišite ih abecednim redom."
   ]
  },
  {
   "cell_type": "code",
   "execution_count": null,
   "id": "ca2f2fbf-2524-4780-8963-5f0ec2e03334",
   "metadata": {},
   "outputs": [],
   "source": []
  },
  {
   "attachments": {},
   "cell_type": "markdown",
   "id": "b2a6d3f7-a4ae-4036-bfb4-8b9f56771454",
   "metadata": {
    "deletable": false,
    "editable": false,
    "tags": []
   },
   "source": [
    "### Dictionary / rječnik <a class=\"anchor\" id=\"modul2-dictionay\"></a>\n",
    "\n",
    "Rječnik je najčešće korištena kolekcija u Pythonu. Specifičan je po tome što svaki element rječnika predstavlja par podataka: *ključ i vrijednost*. Dakle, umjesto indeksa koristi se ključ.\n",
    "\n",
    "* `rjecnik_01.keys()` - je metoda koja dohvaća kolekciju klučeva u rječniku, bez vrijednosti.\n",
    "* `rjecnik_01.values()` - je metoda koja dohvaća kolekciju vrijednosti u rječniku, bez ključeva.\n",
    "* `rjecnik_01.items()` - je metoda koja dohvaća kolekciju elementa rječnika tako da uvijek vrati i ključ i vrijednost elementa."
   ]
  },
  {
   "attachments": {},
   "cell_type": "markdown",
   "id": "2ade4b27-9309-4dec-8a93-c1455624a10b",
   "metadata": {
    "deletable": false,
    "editable": false,
    "tags": []
   },
   "source": [
    "#### Zadaci"
   ]
  },
  {
   "attachments": {},
   "cell_type": "markdown",
   "id": "8422ce07-0741-442f-86bb-5a422188c06a",
   "metadata": {
    "deletable": false,
    "editable": false,
    "tags": []
   },
   "source": [
    "**Zadatak 1**\n",
    "\n",
    "Napravite dictionary s imenima filmova i njihovim godinama izlaska."
   ]
  },
  {
   "cell_type": "code",
   "execution_count": null,
   "id": "a7ada963-8694-43a2-ad8c-fff09a79ab10",
   "metadata": {},
   "outputs": [],
   "source": []
  },
  {
   "attachments": {},
   "cell_type": "markdown",
   "id": "24d05dd2-27c4-481a-b757-c821b144c7fd",
   "metadata": {
    "deletable": false,
    "editable": false,
    "tags": []
   },
   "source": [
    "**Zadatak 2**\n",
    "\n",
    "Napravite dictionary s imenima glumaca i njihovim najpoznatijim ulogama."
   ]
  },
  {
   "cell_type": "code",
   "execution_count": null,
   "id": "d885bd97-83b7-4fc6-8e3a-9de380f5af9c",
   "metadata": {},
   "outputs": [],
   "source": []
  },
  {
   "attachments": {},
   "cell_type": "markdown",
   "id": "ac6a1d0f-331c-4e4f-984e-e0d3a9355200",
   "metadata": {
    "deletable": false,
    "editable": false,
    "tags": []
   },
   "source": [
    "**Zadatak 3**\n",
    "\n",
    "Napravite dictionary s ocjenama svojih najdražih filmova."
   ]
  },
  {
   "cell_type": "code",
   "execution_count": null,
   "id": "5b403dab-d544-45af-8f80-1b7328b43fdd",
   "metadata": {},
   "outputs": [],
   "source": []
  },
  {
   "attachments": {},
   "cell_type": "markdown",
   "id": "dd78d1e6-7e3f-41ce-a49e-4b569f2303c1",
   "metadata": {
    "deletable": false,
    "editable": false,
    "tags": []
   },
   "source": [
    "**Zadatak 4**\n",
    "\n",
    "Napravite dictionary s imenima filmova i njihovim žanrovima."
   ]
  },
  {
   "cell_type": "code",
   "execution_count": null,
   "id": "7fedc495-c3e5-4b63-9c39-80fdb6d13a63",
   "metadata": {},
   "outputs": [],
   "source": []
  },
  {
   "attachments": {},
   "cell_type": "markdown",
   "id": "a256ed85-723d-4654-85d6-9496880d4831",
   "metadata": {
    "deletable": false,
    "editable": false,
    "tags": []
   },
   "source": [
    "**Zadatak 5**\n",
    "\n",
    "Napravite dictionary s imenima filmova i glavnim glumcima."
   ]
  },
  {
   "cell_type": "code",
   "execution_count": null,
   "id": "604e3ffd-2910-434a-9906-53a8bc497c21",
   "metadata": {},
   "outputs": [],
   "source": []
  },
  {
   "attachments": {},
   "cell_type": "markdown",
   "id": "98c4ea02-7b43-45cd-af08-200868286437",
   "metadata": {
    "deletable": false,
    "editable": false,
    "tags": []
   },
   "source": [
    "**Zadatak 6**\n",
    "\n",
    "Napravite dictionary s imenima filmova i njihovim trajanjima u minutama."
   ]
  },
  {
   "cell_type": "code",
   "execution_count": null,
   "id": "30b01640-a4a9-4077-8fc8-c447bc9c4c9e",
   "metadata": {},
   "outputs": [],
   "source": []
  },
  {
   "attachments": {},
   "cell_type": "markdown",
   "id": "ec894599-19ff-46cc-b77b-450afc3755ff",
   "metadata": {
    "deletable": false,
    "editable": false,
    "tags": []
   },
   "source": [
    "**Zadatak 7**\n",
    "\n",
    "Napravite dictionary s imenima režisera i brojem filmova koje su režirali."
   ]
  },
  {
   "cell_type": "code",
   "execution_count": null,
   "id": "722a0133-ad43-4eb4-be97-4f40c8990a79",
   "metadata": {},
   "outputs": [],
   "source": []
  },
  {
   "attachments": {},
   "cell_type": "markdown",
   "id": "5c174a39-bc79-414c-bd7d-19d4ce6fdcbc",
   "metadata": {
    "deletable": false,
    "editable": false,
    "tags": []
   },
   "source": [
    "### IF, WHILE petlja <a class=\"anchor\" id=\"modul2-if-while\"></a>\n",
    "\n",
    "IF kao i WHILE petlje, za izvršavanje nekog bloka kôda, zahtijevaju ispunjavanje određenog uvjeta. Samo ako je rezultat logičkog uvjeta točan (True), onda će se taj dio kôda izvršiti, u protivnom će se preškočiti."
   ]
  },
  {
   "attachments": {},
   "cell_type": "markdown",
   "id": "6fb90941-2add-4ac3-bfdd-92c0c133f0c8",
   "metadata": {
    "deletable": false,
    "editable": false,
    "tags": []
   },
   "source": [
    "`if uvjet==True:`\\\n",
    "&nbsp;&nbsp;&nbsp;&nbsp;`pokreni blok kôda`"
   ]
  },
  {
   "attachments": {},
   "cell_type": "markdown",
   "id": "340d10b2-9a6e-4eee-a277-163a05d1de15",
   "metadata": {
    "deletable": false,
    "editable": false,
    "tags": []
   },
   "source": [
    "#### Zadaci"
   ]
  },
  {
   "attachments": {},
   "cell_type": "markdown",
   "id": "4af5d3bc-ee2d-4945-98fa-56503c1f1426",
   "metadata": {
    "deletable": false,
    "editable": false,
    "tags": []
   },
   "source": [
    "**Zadatak 1**\n",
    "\n",
    "Napravite program koji pita korisnika da unese svoj omiljeni film, a zatim ispisuje poruku \"To je sjajan izbor!\" ako je film \"The Godfather\", \"To je odličan izbor!\" ako je film \"Pulp Fiction\" i \"To je dobar izbor!\" za sve ostale filmove."
   ]
  },
  {
   "cell_type": "code",
   "execution_count": null,
   "id": "d76d712c-7749-43c9-a797-a073f52bf514",
   "metadata": {},
   "outputs": [],
   "source": []
  },
  {
   "attachments": {},
   "cell_type": "markdown",
   "id": "abf152cb-b8c8-4c76-b8d2-8ffb5c084d53",
   "metadata": {
    "deletable": false,
    "editable": false,
    "tags": []
   },
   "source": [
    "**Zadatak 2**\n",
    "\n",
    "Napravite program koji ima listu filmova i provjerava postoji li film \"The Shawshank Redemption\" u listi. Ako postoji, ispišite poruku \"Ovo je jedan od najboljih filmova svih vremena!\", a ako ne postoji, ispišite poruku \"Ovaj film nije na listi.\""
   ]
  },
  {
   "cell_type": "code",
   "execution_count": null,
   "id": "92b818e2-21e9-4031-a599-f859a3105c7f",
   "metadata": {},
   "outputs": [],
   "source": []
  },
  {
   "attachments": {},
   "cell_type": "markdown",
   "id": "6c2996db-da20-4e21-8aa6-009ef429f502",
   "metadata": {
    "deletable": false,
    "editable": false,
    "tags": []
   },
   "source": [
    "**Zadatak 3**\n",
    "\n",
    "Napravite program koji ima listu filmova i vraća najstariji film u listi."
   ]
  },
  {
   "cell_type": "code",
   "execution_count": null,
   "id": "456b7bd6-2d6d-4315-aeb1-46c96c3ba5f3",
   "metadata": {},
   "outputs": [],
   "source": []
  },
  {
   "attachments": {},
   "cell_type": "markdown",
   "id": "ca33471b-dcb7-4439-b349-543857e1096b",
   "metadata": {
    "deletable": false,
    "editable": false,
    "tags": []
   },
   "source": [
    "**Zadatak 4**\n",
    "\n",
    "Napravite program koji ima rječnik filmova s godinama izlaska kao vrijednostima i provjerava je li film \"The Matrix\" izašao prije filma \"The Shawshank Redemption\". Ako je točno, ispišite poruku \"The Matrix je izašao prije The Shawshank Redemptiona!\", a ako nije, ispišite poruku \"The Shawshank Redemption je izašao prije The Matrixa!\"."
   ]
  },
  {
   "cell_type": "code",
   "execution_count": null,
   "id": "b3f57ad3-997e-4470-a0ba-6e9b6f7cd437",
   "metadata": {},
   "outputs": [],
   "source": []
  },
  {
   "attachments": {},
   "cell_type": "markdown",
   "id": "d1c30a98-04ac-4350-9c99-6cb7324e35ea",
   "metadata": {
    "deletable": false,
    "editable": false,
    "tags": []
   },
   "source": [
    "**Zadatak 5**\n",
    "\n",
    "Napravite program koji ima listu filmova i provjerava je li film \"The Godfather\" u njoj. Ako je, izbrišite ga iz liste i ispišite poruku \"The Godfather je uklonjen iz liste!\", a ako ne, ispišite poruku \"The Godfather nije na listi!\"."
   ]
  },
  {
   "cell_type": "code",
   "execution_count": null,
   "id": "ddf8cece-299c-4f9d-839b-a9a30529cd2a",
   "metadata": {},
   "outputs": [],
   "source": []
  },
  {
   "attachments": {},
   "cell_type": "markdown",
   "id": "c5155cf8-8fd0-4f72-b2dc-8891881092d3",
   "metadata": {
    "deletable": false,
    "editable": false,
    "tags": []
   },
   "source": [
    "**Zadatak 6**\n",
    "\n",
    "Napravite program koji ima listu filmova i vraća najnoviji film u listi."
   ]
  },
  {
   "cell_type": "code",
   "execution_count": null,
   "id": "eceba453-4217-482e-975b-1b73ca1355b0",
   "metadata": {},
   "outputs": [],
   "source": []
  },
  {
   "attachments": {},
   "cell_type": "markdown",
   "id": "b11b2aa0-5a0b-4a19-8f04-6191a4e34108",
   "metadata": {
    "deletable": false,
    "editable": false,
    "tags": []
   },
   "source": [
    "**Zadatak 7**\n",
    "\n",
    "Napravite program koji ima listu filmova i broji koliko filmova u njoj počinje slovom \"T\"."
   ]
  },
  {
   "cell_type": "code",
   "execution_count": null,
   "id": "b9477121-fe58-4a12-a8a0-21eefd108ee4",
   "metadata": {},
   "outputs": [],
   "source": []
  },
  {
   "attachments": {},
   "cell_type": "markdown",
   "id": "fc873a37-7f51-4699-aa41-3dfc46d0455f",
   "metadata": {
    "deletable": false,
    "editable": false,
    "tags": []
   },
   "source": [
    "**Zadatak 8**\n",
    "\n",
    "Napravite program koji ima rječnik u kojem su ključevi nazivi filmova, a vrijednosti su godine izlaska tih filmova. Korisnik treba unijeti godinu, a program treba ispisati sve filmove koji su izašli nakon te godine."
   ]
  },
  {
   "cell_type": "code",
   "execution_count": null,
   "id": "31b4d380-1453-4526-b06d-9b59fe94e42f",
   "metadata": {},
   "outputs": [],
   "source": []
  },
  {
   "attachments": {},
   "cell_type": "markdown",
   "id": "542f59bd-8497-4da9-ba40-69a258a4c061",
   "metadata": {
    "deletable": false,
    "editable": false,
    "tags": []
   },
   "source": [
    "**Zadatak 9**\n",
    "\n",
    "Napravite program koji ima set s imenima glumaca. Korisnik treba unijeti ime glumca, a program treba provjeriti nalazi li se to ime u setu. Ako se nalazi, ispišite poruku \"Ovo je popularan glumac!\", a ako ne, ispišite poruku \"Ovo nije popularan glumac.\""
   ]
  },
  {
   "cell_type": "code",
   "execution_count": null,
   "id": "279f8948-1fc7-4914-a967-82d1823c344e",
   "metadata": {},
   "outputs": [],
   "source": []
  },
  {
   "attachments": {},
   "cell_type": "markdown",
   "id": "9c57638a-893e-45cd-8df7-e1b0cc3b38e2",
   "metadata": {
    "deletable": false,
    "editable": false,
    "tags": []
   },
   "source": [
    "**Zadatak 10**\n",
    "\n",
    "Napravite program koji ima listu filmova i broji koliko se puta svaki film pojavljuje u listi."
   ]
  },
  {
   "cell_type": "code",
   "execution_count": null,
   "id": "7b909e8d-4b40-4116-a412-10a28f37d8a3",
   "metadata": {},
   "outputs": [],
   "source": []
  },
  {
   "attachments": {},
   "cell_type": "markdown",
   "id": "ad899c07-71f6-4fb9-9271-bb75f7a9aeb5",
   "metadata": {
    "deletable": false,
    "editable": false,
    "tags": []
   },
   "source": [
    "### Funkcije <a class=\"anchor\" id=\"modul2-funkcije\"></a>\n",
    "\n",
    "Funkcije, kao i u svakom programskom jeziku omogućavaju da **izdvojimo dio kôda koji se ponavlja te ga po potrebi \"pozovemo\"**, odnosno pokrenemo kada nam treba. Isto tako moguće je u funkciju proslijediti neke vrijednosti, pomoću argumenata funkcije. Ako funkcija treba \"vratiti\" određeni rezultat obrade dobivenih podatka, onda se koristi ključna riječ `return`."
   ]
  },
  {
   "attachments": {},
   "cell_type": "markdown",
   "id": "87634ff9-a6ac-4a81-b83c-914705ec1dec",
   "metadata": {
    "deletable": false,
    "editable": false,
    "tags": []
   },
   "source": [
    "**Deklaracija funkcije:**\\\n",
    "`def naziv_funkcije(argument1, argument2, ...):`\\\n",
    "&nbsp;&nbsp;&nbsp;&nbsp;`blok koda unutar funkcije koji radi željenu aktivnost`\n",
    "\n",
    "**Poziv funkcije:**\\\n",
    "`naziv_funkcije(vrijednost1, vrijednost, ...)`"
   ]
  },
  {
   "attachments": {},
   "cell_type": "markdown",
   "id": "a133ea36-4032-47d6-a1c9-f8da34156022",
   "metadata": {
    "deletable": false,
    "editable": false,
    "tags": []
   },
   "source": [
    "#### Zadaci"
   ]
  },
  {
   "attachments": {},
   "cell_type": "markdown",
   "id": "d09cfabe-2df5-45a6-88f8-bb51f6ee1b79",
   "metadata": {
    "deletable": false,
    "editable": false,
    "tags": []
   },
   "source": [
    "**Zadatak 1**\n",
    "\n",
    "Napišite funkciju koja prima listu filmova i vraća samo one filmove čije su godine izlaska veće od 2000."
   ]
  },
  {
   "cell_type": "code",
   "execution_count": null,
   "id": "f14f5137-ae50-4a49-a8a8-1272ee4eb0e6",
   "metadata": {},
   "outputs": [],
   "source": []
  },
  {
   "attachments": {},
   "cell_type": "markdown",
   "id": "30ced491-47c5-4e7c-a01c-8414e2af9f31",
   "metadata": {
    "deletable": false,
    "editable": false,
    "tags": []
   },
   "source": [
    "**Zadatak 2**\n",
    "\n",
    "Napišite funkciju koja prima rječnik sa žanrovima filmova i vraća samo one žanrove koji se pojavljuju u više od 5 filmova."
   ]
  },
  {
   "cell_type": "code",
   "execution_count": null,
   "id": "fa82734f-6b95-4901-b223-dbf4d129e361",
   "metadata": {},
   "outputs": [],
   "source": []
  },
  {
   "attachments": {},
   "cell_type": "markdown",
   "id": "6207cd72-f5f3-4c61-b85d-b990c72c071c",
   "metadata": {
    "deletable": false,
    "editable": false,
    "tags": []
   },
   "source": [
    "**Zadatak 3**\n",
    "\n",
    "Napišite funkciju koja prima listu filmova i vraća rječnik u kojem su ključevi godine izlaska, a vrijednosti su liste filmova koji su izašli te godine."
   ]
  },
  {
   "cell_type": "code",
   "execution_count": null,
   "id": "1272cf4e-caf2-4065-be1c-9b27c23fb266",
   "metadata": {},
   "outputs": [],
   "source": []
  },
  {
   "attachments": {},
   "cell_type": "markdown",
   "id": "1a33220f-208b-45e6-9939-9641dbb53472",
   "metadata": {
    "deletable": false,
    "editable": false,
    "tags": []
   },
   "source": [
    "**Zadatak 4**\n",
    "\n",
    "Napišite funkciju koja prima listu filmova i vraća samo one filmove koji sadrže riječ \"*action*\" u nazivu."
   ]
  },
  {
   "cell_type": "code",
   "execution_count": null,
   "id": "5981bbdc-63e7-4a1f-bc79-e4d1ef32db45",
   "metadata": {},
   "outputs": [],
   "source": []
  },
  {
   "attachments": {},
   "cell_type": "markdown",
   "id": "2bd02c48-e15b-4d75-ae7b-c97239ffbf11",
   "metadata": {
    "deletable": false,
    "editable": false,
    "tags": []
   },
   "source": [
    "**Zadatak 5**\n",
    "\n",
    "Napišite funkciju koja prima listu filmova i sortira ih po godinama izlaska, od najstarijeg prema najnovijem."
   ]
  },
  {
   "cell_type": "code",
   "execution_count": null,
   "id": "7050d253-13ae-4ef6-84ec-fecb0197814b",
   "metadata": {},
   "outputs": [],
   "source": []
  },
  {
   "attachments": {},
   "cell_type": "markdown",
   "id": "2d7ce6cd-01e6-4675-becf-ab0754dbcc05",
   "metadata": {
    "deletable": false,
    "editable": false,
    "tags": []
   },
   "source": [
    "**Zadatak 6**\n",
    "\n",
    "Napišite funkciju koja prima rječnik sa žanrovima filmova i vraća samo one žanrove koji sadrže riječ \"*comedy*\"."
   ]
  },
  {
   "cell_type": "code",
   "execution_count": null,
   "id": "48d0f407-63df-4727-bf22-0931d94995a1",
   "metadata": {},
   "outputs": [],
   "source": []
  },
  {
   "attachments": {},
   "cell_type": "markdown",
   "id": "e9c520c5-408c-423b-b3f4-b87a7f93c540",
   "metadata": {
    "deletable": false,
    "editable": false,
    "tags": []
   },
   "source": [
    "**Zadatak 7**\n",
    "\n",
    "Napišite funkciju koja prima listu filmova i vraća broj filmova koji su izašli u posljednjih 5 godina."
   ]
  },
  {
   "cell_type": "code",
   "execution_count": null,
   "id": "1f3b64e7-c125-4c06-844c-11366b79a29c",
   "metadata": {},
   "outputs": [],
   "source": []
  },
  {
   "attachments": {},
   "cell_type": "markdown",
   "id": "07aa303e-8224-43bd-9b86-84f9cf75a03d",
   "metadata": {
    "deletable": false,
    "editable": false,
    "tags": []
   },
   "source": [
    "**Zadatak 8**\n",
    "\n",
    "Napišite funkciju koja prima listu filmova i vraća samo one filmove koji su trajanja dužeg od 2 sata."
   ]
  },
  {
   "cell_type": "code",
   "execution_count": null,
   "id": "9846a636-1f95-41ae-999a-e9ad3b1278dc",
   "metadata": {},
   "outputs": [],
   "source": []
  },
  {
   "attachments": {},
   "cell_type": "markdown",
   "id": "b4b7a648-5f32-4d20-9cfd-d7ba9cd3003a",
   "metadata": {
    "deletable": false,
    "editable": false,
    "tags": []
   },
   "source": [
    "**Zadatak 9**\n",
    "\n",
    "Napišite funkciju koja prima rječnik sa žanrovima filmova i vraća ukupan broj filmova po žanru."
   ]
  },
  {
   "cell_type": "code",
   "execution_count": null,
   "id": "77246e4c-9998-4861-be02-4106e4f1679c",
   "metadata": {},
   "outputs": [],
   "source": []
  },
  {
   "attachments": {},
   "cell_type": "markdown",
   "id": "1b0c32ae-5c8c-4dad-9647-c199a42b15f5",
   "metadata": {
    "deletable": false,
    "editable": false,
    "tags": []
   },
   "source": [
    "**Zadatak 10**\n",
    "\n",
    "Napišite funkciju koja prima listu filmova i vraća naziv filma s najdužim nazivom."
   ]
  },
  {
   "cell_type": "code",
   "execution_count": null,
   "id": "09861807-d4ac-4604-bfe0-97110f50c464",
   "metadata": {},
   "outputs": [],
   "source": []
  },
  {
   "attachments": {},
   "cell_type": "markdown",
   "id": "808556b7-b66a-4ac0-88d7-89f063fef1b0",
   "metadata": {
    "deletable": false,
    "editable": false,
    "tags": []
   },
   "source": [
    "## Seminar 3 - Programiranje u programskom jeziku Python <a class=\"anchor\" id=\"modul3\"></a>"
   ]
  },
  {
   "attachments": {},
   "cell_type": "markdown",
   "id": "8db817eb-c8d0-4b31-8de7-270749efcd5f",
   "metadata": {
    "deletable": false,
    "editable": false,
    "tags": []
   },
   "source": [
    "### Klase / razredi <a class=\"anchor\" id=\"modul3-klase\"></a>\n",
    "\n",
    "Klase ili razredi predstavljaju korisnički tip podatka, predložak, odnosno **nacrt na temelju kojeg se kreiraju varijable** koje ćemo koristiti u programu. Prilikom kreiranja klase definiramo svojstva ili atribute i radnje ili funkcije koje varijable tog tipa mogu obavljati. \n",
    "\n",
    "Klase se primjenjuju u **objektno orjentiranom programiranju**. To je tehnika programiranja koja omogućava organizaciju programskog kôda u kolekcije objekata koje se mogu više puta koristiti te čija međusobna interakcija osigurava traženo rješenje problema."
   ]
  },
  {
   "attachments": {},
   "cell_type": "markdown",
   "id": "ac6cee4b-1072-4460-a063-fb020bed8e01",
   "metadata": {
    "deletable": false,
    "editable": false,
    "tags": []
   },
   "source": [
    "Kada konkretiziramo varijablu određene klase, dobili smo objekt kao instancu te klase. \n",
    "Primjeri klase i objekata:"
   ]
  },
  {
   "attachments": {},
   "cell_type": "markdown",
   "id": "225b45ed-10e4-4f36-be58-89fe9cf94e97",
   "metadata": {
    "deletable": false,
    "editable": false,
    "tags": []
   },
   "source": [
    "- klasa **Osoba** sa svojstvima: ime, prezime, OIB, adresa, mobitel, zaposlenost i sl. - objekti: Marko Marković, Ana Anić...\n",
    "- klasa **Knjiga** sa svojstvima: naslov, autor, godina izdanja, broj stranica, izdavačka kuća... - objekti: Zlatarovo zlato, Vlak u snijegu...\n",
    "- klasa **Vozilo** sa svojstvima: tip, marka, godina prve registracije, masa, registracija, cijena... - objekti: kamion reg. oznake ZG-001AA, automobil reg. oznake RI-002AB..."
   ]
  },
  {
   "attachments": {},
   "cell_type": "markdown",
   "id": "29d6e265",
   "metadata": {
    "deletable": false,
    "editable": false,
    "tags": []
   },
   "source": [
    "Kada uočimo da bi se u nekoliko klasa mogla definirati ista svojstva i/ili metode, koristimo svojstvo nasljeđivanja. U tom slučaju jedna klasa postaje **klasa-roditelj (_parent class_)**, a klasa koja ju nasljeđuje postaje **klasa-dijete (_child class_)**.  \n",
    "Primjeri ovakvih klasa:\n",
    "- klasa **Osoba** kao klasa roditelj, a klase Ucenik, Kupac, Djelatnik, Student, Umirovljenik mogu biti klase djeca - zajednička svojstva: ime, prezime, OIB, adresa, mobitel, e-mail...\n",
    "- klasa **Vozilo** kao klasa roditelj, klase Automobil, Autobus, Motocikl kao klase djeca - zajednička svojstva i metode: proizvođač, godina proizvodnje, broj kotača, konjske snage, maksimalna brzina..."
   ]
  },
  {
   "attachments": {},
   "cell_type": "markdown",
   "id": "d43d5dcb-838b-4353-b81b-65ea7f69e13d",
   "metadata": {
    "deletable": false,
    "editable": false,
    "tags": []
   },
   "source": [
    "#### Zadaci"
   ]
  },
  {
   "attachments": {},
   "cell_type": "markdown",
   "id": "4c824b8e",
   "metadata": {
    "deletable": false,
    "editable": false,
    "tags": []
   },
   "source": [
    "**Zadatak 1**\n",
    "\n",
    "Zadan je rječnik **vozni_park**:\n"
   ]
  },
  {
   "cell_type": "code",
   "execution_count": 1,
   "id": "b9dcc65c",
   "metadata": {},
   "outputs": [],
   "source": [
    "vozni_park = {\n",
    "    1 : ['Kamion', 'Iveco', 'OS 001 ZZ', 2015, 45000.00],\n",
    "    2 : ['Kamion', 'Iveco', 'OS 002 ZZ', 2015, 47000.00],\n",
    "    3 : ['Tegljač', 'MAN', 'RI 001 ZZ', 2018, 78000.00],\n",
    "    4 : ['Tegljač', 'MAN', 'RI 002 ZZ', 2020, 97000.00],\n",
    "    5 : ['Kombi', 'Mercedes Benz', 'ST 001 ZZ',2013, 12000.00],\n",
    "    6 : ['Kombi', 'Volkswagen', 'ST 002 ZZ', 2021, 35000.00],\n",
    "    7 : ['Dostavno vozilo', 'Volkswagen', 'ZG 001 ZZ', 2010, 9000.00],\n",
    "    8 : ['Dostavno vozilo', 'Volkswagen', 'ZG 002 ZZ', 2010, 9300.00]\n",
    "}"
   ]
  },
  {
   "attachments": {},
   "cell_type": "markdown",
   "id": "0c5ed121",
   "metadata": {
    "deletable": false,
    "editable": false,
    "tags": []
   },
   "source": [
    "1.1. Prema rječniku __vozni_park__ kreirati klasu **Vozilo**, a zatim kreirati 8 objekata te klase (prema podacima iz rječnika)."
   ]
  },
  {
   "attachments": {},
   "cell_type": "markdown",
   "id": "cd9a0133",
   "metadata": {
    "deletable": false,
    "editable": false,
    "tags": []
   },
   "source": [
    "1.2. Napraviti metode za:\n",
    "\n",
    "-\tispis svih vozila starijih od 2015. godine\n",
    "-\tispis svih vozila marke Volkswagen\n",
    "-\tispis svih vozila skupljih od 20000 eura\n",
    "-\tispis svih podataka o vozilu određene registracije (traži se unosom)\n"
   ]
  },
  {
   "attachments": {},
   "cell_type": "markdown",
   "id": "b98c2c54-6fec-465d-8b99-c773b371be89",
   "metadata": {
    "deletable": false,
    "editable": false,
    "tags": []
   },
   "source": [
    "**Zadatak 2**\n",
    "\n",
    "Zadana su tri rječnika o proizvodima: Proizvodi, Svjetiljke i Stolovi:"
   ]
  },
  {
   "cell_type": "code",
   "execution_count": 3,
   "id": "bf356843-e2dd-4cf8-b570-ccb18f8fd8b4",
   "metadata": {},
   "outputs": [],
   "source": [
    "stolovi_rjecnik = {\n",
    "    '0186': ['stol Jack', 700.00, True, 'smeđa', 'drvo', 4],\n",
    "    '0203': ['stol Kathy', 880.00, True, 'smeđa', 'staklo', 3],\n",
    "    '1234': ['stol Tomy', 1250.00, True, 'bijela', 'staklo', 4],\n",
    "    '4002': ['stol Ohm', 940.00, True, 'crna', 'metal', 1],\n",
    "    '0923': ['stol Heda', 940.00, False, 'crna', 'drvo', 1],\n",
    "    '1773': ['stol Lucas', 940.00, True, 'crna', 'drvo', 4]\n",
    "}\n",
    "\n",
    "svjetiljke_rjecnik = {\n",
    "    '0001': ['svjetiljka Zadar', 1200.00, True, 'zlatna', 'zlato', 'zarulja'],\n",
    "    '0002': ['svjetiljka Zagreb', 2800.00, True, 'plava', 'staklo', 'zarulja'],\n",
    "    '0003': ['svjetiljka Dubrava', 800.00, False, 'zelena', 'srebro', 'bez'],\n",
    "    '0004': ['svjetiljka Rijeka', 400.00, False, 'roza', 'zlato', 'bez'],\n",
    "    '0005': ['svjetiljka Dubrovnik', 5400.00, True, 'magenta', 'platina', 'zarulja'],\n",
    "    '0006': ['svjetiljka Madrid', 55950.00, True, 'crvena', 'platina', 'bez']\n",
    "}\n",
    "\n",
    "tepisi_rjecnik = {\n",
    "    '0007': ['tepih Melita', 8000.00, True, 'zlatna', 'pamuk', 'okrugao'],\n",
    "    '0008': ['tepih Lana', 7200.00, True, 'plava', 'svila', 'pravokutni'],\n",
    "    '0009': ['tepih Sanja', 480.00, False, 'zelena', 'pamuk', 'okrugao'],\n",
    "    '0010': ['tepih Emina', 525.00, False, 'roza', 'plastika', 'pravokutni'],\n",
    "    '0011': ['tepih Laura', 320.00, True, 'magenta', 'plastika', 'okrugao'],\n",
    "    '0012': ['tepih Tea', 12524.00, True, 'crvena', 'svila', 'pravokutni']\n",
    "}\n"
   ]
  },
  {
   "attachments": {},
   "cell_type": "markdown",
   "id": "05e71baa-2874-4b32-9c96-2bec51008814",
   "metadata": {
    "deletable": false,
    "editable": false,
    "tags": []
   },
   "source": [
    "2.1. Izradite klasu **Proizvod** te tri klase **Stol**, **Svjetiljka** i **Tepih** koje nasljeđuju klasu Proizvod. (predložena svojstva: šifra, cijena, raspoloživost, boja, dimenzije, materijal, oblik, žarulja….)"
   ]
  },
  {
   "attachments": {},
   "cell_type": "markdown",
   "id": "49ebda0a",
   "metadata": {
    "deletable": false,
    "editable": false,
    "tags": []
   },
   "source": [
    "2.2. Od pripremljenih rječnika s podacima izradite objekte za sve elemente."
   ]
  },
  {
   "attachments": {},
   "cell_type": "markdown",
   "id": "eb6c17f5",
   "metadata": {
    "deletable": false,
    "editable": false,
    "tags": []
   },
   "source": [
    "2.3. Napišite metode za pronalazak i ispis:\n",
    "\n",
    "- svjetiljke sa žaruljom\n",
    "- drveni stolovi\n",
    "- okrugli tepisi\n",
    "- proizvodi s cijenom ispod 1000 kn\n",
    "- raspoložive proizvode\n",
    "- ukupnu cijenu svih svjetiljki\n",
    " "
   ]
  },
  {
   "attachments": {},
   "cell_type": "markdown",
   "id": "9945336a-b0ba-4dd3-997c-0c641daa7231",
   "metadata": {
    "deletable": false,
    "editable": false,
    "tags": []
   },
   "source": [
    "**Zadatak 3**\n",
    "\n",
    "Napravite razred Film koji sadrži atribute ime filma, žanr i godinu izlaska filma. Upišite tri različita filma kao objekte ovog razreda te ispišite njihove atribute."
   ]
  },
  {
   "cell_type": "code",
   "execution_count": null,
   "id": "383a5f9f-7827-4ac7-9141-d49bcbfe7f0d",
   "metadata": {},
   "outputs": [],
   "source": []
  },
  {
   "attachments": {},
   "cell_type": "markdown",
   "id": "f8d8b85d-10b4-4fbc-ba2c-a9bb9487110f",
   "metadata": {
    "deletable": false,
    "editable": false,
    "tags": []
   },
   "source": [
    "**Zadatak 4**\n",
    "\n",
    "Napravite razred Glumac koji sadrži atribute ime, prezime, godinu rođenja i popis filmova u kojima je glumio. Upišite tri različita glumca kao objekte ovog razreda te ispišite njihove atribute."
   ]
  },
  {
   "cell_type": "code",
   "execution_count": null,
   "id": "b96dfb14-f87f-4d9d-9d90-b760215761ff",
   "metadata": {},
   "outputs": [],
   "source": []
  },
  {
   "attachments": {},
   "cell_type": "markdown",
   "id": "d8e5087f-f14a-4ec7-bcc2-858d5637af3d",
   "metadata": {
    "deletable": false,
    "editable": false,
    "tags": []
   },
   "source": [
    "**Zadatak 5**\n",
    "\n",
    "Napravite razred Kino koji sadrži atribute naziv kina, adresu i popis filmova koji se prikazuju u kinu. Dodajte metodu dodaj_film koja omogućava dodavanje novog filma u popis filmova u kinu. Upišite dva različita kina kao objekte ovog razreda te dodajte po tri različita filma u svako kino."
   ]
  },
  {
   "cell_type": "code",
   "execution_count": null,
   "id": "0888ee1c-ccda-4603-a180-57f984c49e2d",
   "metadata": {},
   "outputs": [],
   "source": []
  },
  {
   "attachments": {},
   "cell_type": "markdown",
   "id": "1d5304fd-7135-476f-81d3-f0f2b1caebc9",
   "metadata": {
    "deletable": false,
    "editable": false,
    "tags": []
   },
   "source": [
    "**Zadatak 6**\n",
    "\n",
    "Napravite razred Projekcija koji sadrži atribute film, vrijeme početka i dvoranu u kojoj se film prikazuje. Upišite tri različite projekcije kao objekte ovog razreda te ispišite njihove atribute."
   ]
  },
  {
   "cell_type": "code",
   "execution_count": null,
   "id": "7e6ac6a8-36c7-43fc-972a-bfcc828963e0",
   "metadata": {},
   "outputs": [],
   "source": []
  },
  {
   "attachments": {},
   "cell_type": "markdown",
   "id": "3e3ee42a-2bf4-4982-93c4-60429a97d750",
   "metadata": {
    "deletable": false,
    "editable": false,
    "tags": []
   },
   "source": [
    "**Zadatak 7**\n",
    "\n",
    "Napravite razred Statistika koji sadrži atribute poput ukupnog broja filmova, broja filmova po žanrovima, najuspješnijih glumaca po broju filmova i slično. Dodajte metode za izračunavanje ovih atributa te ispišite njihove vrijednosti za zadani skup filmova."
   ]
  },
  {
   "cell_type": "code",
   "execution_count": null,
   "id": "45fa76e5-0e27-4350-a2c9-f59701668b46",
   "metadata": {},
   "outputs": [],
   "source": []
  },
  {
   "attachments": {},
   "cell_type": "markdown",
   "id": "3851c0c4-11bb-4026-853f-f28b6204e0ca",
   "metadata": {
    "deletable": false,
    "editable": false,
    "tags": []
   },
   "source": [
    "### Moduli i paketi <a class=\"anchor\" id=\"modul3-moduli\"></a>\n",
    "\n",
    "Moduli i paketi pridonose optimizaciji programskog koda na način da se **jedan (veliki) programski kod (Python datoteka) razdijeli u više datoteka** koje se zovu moduli. Također, prilikom timskog rada, svaki član može raditi na jednom modulu koji se kasnije jednostavno uključuje u aplikaciju i poziva u glavnom programu. Najčešće se u zasebne datoteke izdvajaju slične funkcionalnosti. Primjerice, sve funkcionalnosti vezane za rad s datotekama su u jednoj datoteci, sve funkcionalnosti vezane uz rad s proizvodima neke tvrtke su u drugoj i slično - ovisno o namjeni aplikacije.\n"
   ]
  },
  {
   "attachments": {},
   "cell_type": "markdown",
   "id": "aa6a1c90-f063-4897-a540-d388aa0d46b7",
   "metadata": {
    "deletable": false,
    "editable": false,
    "tags": []
   },
   "source": [
    "Po definiciji, modul predstavlja **svaku .py datoteku s programskim kôdom**. Dok bi paket bio jedna mapa u kojoj je jedna ili više .py datoteka s programskim kôdom te obvezno s jednom \\__init__.py datotekom. Ova \\__init__.py datoteka je važna jer omogućava jednostavniji import klasa, metoda i funkcija iz Paketa. Ta datoteka može biti i prazna (tada nema spomenutih funkcionalnosti), ali svakako mora biti u mapi kako bi Python tu mapu s .py datotekama prepoznao kao paket.\n"
   ]
  },
  {
   "attachments": {},
   "cell_type": "markdown",
   "id": "ab7c03a2-005c-463e-a904-cff0c1aa4d96",
   "metadata": {
    "deletable": false,
    "editable": false,
    "tags": []
   },
   "source": [
    "#### Zadaci"
   ]
  },
  {
   "attachments": {},
   "cell_type": "markdown",
   "id": "2792b17e-95b6-46e7-8c63-3ad0e83c8d05",
   "metadata": {
    "deletable": false,
    "editable": false,
    "tags": []
   },
   "source": [
    "**Zadatak 1**\n",
    "\n",
    "Kreirajte modul koji uključuje funkciju za čitanje JSON datoteke koja sadrži informacije o filmovima, kao što su naslov, godina i redatelj. Upotrijebite biblioteku zahtjeva za dobivanje podataka iz API-ja poput IMDb."
   ]
  },
  {
   "cell_type": "code",
   "execution_count": null,
   "id": "6ab58fe0-76de-4b6d-9ef4-c6492512e0fe",
   "metadata": {},
   "outputs": [],
   "source": []
  },
  {
   "attachments": {},
   "cell_type": "markdown",
   "id": "8574fa77-0b78-442f-a468-12506e293e37",
   "metadata": {
    "deletable": false,
    "editable": false,
    "tags": []
   },
   "source": [
    "**Zadatak 2**\n",
    "\n",
    "Kreirajte modul koji uključuje klasu za predstavljanje filma, s atributima kao što su naslov, godina, redatelj i ocjena. Upotrijebite funkcije za rukovanje datotekama u Pythonu za čitanje i pisanje informacija o filmu u tekstualnu datoteku."
   ]
  },
  {
   "cell_type": "code",
   "execution_count": null,
   "id": "06180295-b941-4132-b11c-3669c6932d8b",
   "metadata": {},
   "outputs": [],
   "source": []
  },
  {
   "attachments": {},
   "cell_type": "markdown",
   "id": "a2f8a38b-892f-4097-acdb-c2d46183603f",
   "metadata": {
    "deletable": false,
    "editable": false,
    "tags": []
   },
   "source": [
    "**Zadatak 3**\n",
    "\n",
    "Kreirajte modul koji uključuje funkciju za dohvaćanje informacija o filmu iz API-ja poput IMDb i funkciju za pisanje informacija u CSV datoteku."
   ]
  },
  {
   "cell_type": "code",
   "execution_count": null,
   "id": "3ecc032f-10ef-4535-8709-10f339409e74",
   "metadata": {},
   "outputs": [],
   "source": []
  },
  {
   "attachments": {},
   "cell_type": "markdown",
   "id": "b746bf22-7943-466a-97e9-f2629f1fd177",
   "metadata": {
    "deletable": false,
    "editable": false,
    "tags": []
   },
   "source": [
    "**Zadatak 4**\n",
    "\n",
    "Kreirajte modul koji uključuje klasu za predstavljanje baze podataka filmova s metodama za dodavanje, uklanjanje i ažuriranje informacija o filmu. Upotrijebite SQLite za spremanje podataka."
   ]
  },
  {
   "cell_type": "code",
   "execution_count": null,
   "id": "e8ec9212-20df-4844-b921-24d418d9bcab",
   "metadata": {},
   "outputs": [],
   "source": []
  },
  {
   "attachments": {},
   "cell_type": "markdown",
   "id": "2e46ef80-f4e0-4b5d-9585-277853fa2c72",
   "metadata": {
    "deletable": false,
    "editable": false,
    "tags": []
   },
   "source": [
    "**Zadatak 5**\n",
    "\n",
    "Kreirajte modul koji uključuje klasu za predstavljanje kina s metodama za dodavanje, uklanjanje i ažuriranje vremena prikazivanja filmova. Upotrijebite modul datetime u Pythonu za rad s datumima i vremenima."
   ]
  },
  {
   "cell_type": "code",
   "execution_count": null,
   "id": "eafebb0e-2fe3-4682-b563-bcfc9b9bcc6c",
   "metadata": {},
   "outputs": [],
   "source": []
  },
  {
   "attachments": {},
   "cell_type": "markdown",
   "id": "8fa48862-fc44-448c-b0eb-a781a207f1fd",
   "metadata": {
    "deletable": false,
    "editable": false,
    "tags": []
   },
   "source": [
    "**Zadatak 6**\n",
    "\n",
    "Kreirajte modul koji uključuje klasu za predstavljanje dućana za iznajmljivanje filmova s metodama za iznajmljivanje i vraćanje filmova, i praćenje informacija o kupcu. Upotrijebite principe objektno orijentiranog programiranja za dizajn klase."
   ]
  },
  {
   "cell_type": "code",
   "execution_count": null,
   "id": "a13a5c23-66d6-4cc9-a894-8e526dfd4529",
   "metadata": {},
   "outputs": [],
   "source": []
  },
  {
   "attachments": {},
   "cell_type": "markdown",
   "id": "48be37bb-5b56-4b77-aa48-090e93a1cb33",
   "metadata": {
    "deletable": false,
    "editable": false,
    "tags": []
   },
   "source": [
    "### Datetime, Pillow, Beautiful Soup … <a class=\"anchor\" id=\"modul3-datetime\"></a>\n",
    "\n",
    "\n",
    "#### Datetime\n",
    "\n",
    "Modul *datetime* je modul koji je već integriran u Pythonu, a omogućava programiranje aplikacija ili dijelova aplikacije kojima je namjena računanje datuma i vremena. Uz njega za rad s vremenskim zonama koristimo još jedan pomoćni modul dateutil. \n",
    "\n",
    "Za rad s datumima i vremenom možemo koristiti i *time modul*. Specifičnost ovog modula je rad s UNIX Epoch vremenom. UNIX Epoch predstavlja vrijeme izraženo u sekundama proteklim od 01.01.1970. točno u 00:00:00. Dakle, vrijeme je predstavljeno jednim cijelim brojem koji predstavlja protekle sekunde od UNIX Epoch trenutka i za prikaz nekog vremenskog trenutka potrebno je preračunati koliko je sekundi između tog trenutka i UNIX Epoch vremena. Mi ćemo datume i vrijeme upisivati u nama razumljivijem formatu i za to koristiti datetime + dateutil module, a time modul većinom za pauziranje izvršavanja programa pomoću metode time.sleep() kojoj kao argument prosljeđujemo broj sekundi koliko želimo pauzirati izvršavanje programa.\n"
   ]
  },
  {
   "attachments": {},
   "cell_type": "markdown",
   "id": "864db6b4-7a0c-495f-8507-387718d91c53",
   "metadata": {
    "deletable": false,
    "editable": false,
    "tags": []
   },
   "source": [
    "#### PIL ili *Python Imaging Library*\n",
    "\n",
    "Biblioteka za rad s foto datotekama u Pythonu.\n",
    "\n",
    "Instalacija: `pip install Pillow`"
   ]
  },
  {
   "attachments": {},
   "cell_type": "markdown",
   "id": "6a990938-17d4-4e3c-a5e4-3e4756798595",
   "metadata": {
    "deletable": false,
    "editable": false,
    "tags": []
   },
   "source": [
    "#### Beautiful Soup - biblioteka za \"čitanje\" podataka s Internet stranica\n",
    "\n",
    "Instalacija: `pip install beautifulsoup4`"
   ]
  },
  {
   "attachments": {},
   "cell_type": "markdown",
   "id": "fcc8c137-7afd-4196-918c-09187eee87a0",
   "metadata": {
    "deletable": false,
    "editable": false,
    "tags": []
   },
   "source": [
    "#### Zadaci"
   ]
  },
  {
   "attachments": {},
   "cell_type": "markdown",
   "id": "1f3cf759-1b3d-422c-9ebb-a077582e7129",
   "metadata": {
    "deletable": false,
    "editable": false,
    "tags": []
   },
   "source": [
    "**Zadatak 1**\n",
    "\n",
    "Napraviti aplikaciju koja će tražiti korisnika da unese datum i vrijeme te ispisati samo dan ili samo godinu ili samo dio koji se odnosi na dio za vrijeme, a datum ignorira. "
   ]
  },
  {
   "cell_type": "code",
   "execution_count": null,
   "id": "16cd83c7-1fd3-42b2-91d2-4e138a6770f1",
   "metadata": {},
   "outputs": [],
   "source": []
  },
  {
   "attachments": {},
   "cell_type": "markdown",
   "id": "79762a15-eea9-4a7e-86e9-0d7b1e0ac012",
   "metadata": {
    "deletable": false,
    "editable": false,
    "tags": []
   },
   "source": [
    "**Zadatak 2**\n",
    "\n",
    "Neka korisnik unese datum i vrijeme, a aplikacija neka ispiše koji će dan u tjednu biti na uneseni datum."
   ]
  },
  {
   "cell_type": "code",
   "execution_count": null,
   "id": "41268db2-7c90-42f5-8246-0cd86efdceba",
   "metadata": {},
   "outputs": [],
   "source": []
  },
  {
   "attachments": {},
   "cell_type": "markdown",
   "id": "4e7a5c70",
   "metadata": {
    "deletable": false,
    "editable": false,
    "tags": []
   },
   "source": [
    "**Zadatak 3**\n",
    "\n",
    "Ako su Olimpijske igre u Tokiju od 23.07.2021. do 08.08.2021. Koji dan u tjednu je ceremonija otvaranja, a koji dan ceremonija zatvaranja? Koliko dana ima do početka, a koliko do završetka od današnjeg datuma (.today()) i od sadašnjeg trenutka (.now()). Koliko dana i sati ima do početka OI ako se nalazimo u Tokiju, Melbourneu, Dubaiju, Moskvi, Zagrebu, Londonu, New Yorku i Los Angelesu?"
   ]
  },
  {
   "cell_type": "code",
   "execution_count": null,
   "id": "4daf0b81",
   "metadata": {},
   "outputs": [],
   "source": []
  },
  {
   "attachments": {},
   "cell_type": "markdown",
   "id": "2209e9a1-59cb-48bf-adbb-b82c0f926e16",
   "metadata": {
    "deletable": false,
    "editable": false,
    "tags": []
   },
   "source": [
    "**Zadatak 4**\n",
    "\n",
    "Napravite program koji iz web stranice <a href=\"https://www.imdb.com/chart/top\" target=\"_blank\">\"https://www.imdb.com/chart/top\"</a> izvlači nazive prvih 10 filmova, njihove ocjene i godine izdavanja te ih sprema u rječnik. Ispišite dobiveni rječnik."
   ]
  },
  {
   "cell_type": "code",
   "execution_count": null,
   "id": "89eff916-a16a-4684-ab9c-67851f195570",
   "metadata": {},
   "outputs": [],
   "source": []
  },
  {
   "attachments": {},
   "cell_type": "markdown",
   "id": "017c36eb-4901-4729-806b-37f6d69acba8",
   "metadata": {
    "deletable": false,
    "editable": false,
    "tags": []
   },
   "source": [
    "**Zadatak 5**\n",
    "\n",
    "Napravite program koji iz web stranice <a href=\"https://www.boxofficemojo.com/year/world/\" target=\"_blank\">\"https://www.boxofficemojo.com/year/world/\"</a> izvlači nazive prvih 10 filmova po zaradi u zadnjoj godini, njihove zarade i godine izdavanja te ih sprema u rječnik. Ispišite dobiveni rječnik."
   ]
  },
  {
   "cell_type": "code",
   "execution_count": null,
   "id": "8b7a41f8-590a-4de9-b71a-800d5604a697",
   "metadata": {},
   "outputs": [],
   "source": []
  },
  {
   "attachments": {},
   "cell_type": "markdown",
   "id": "3231e01f-e012-48c6-88ff-9ab6b50ce8d4",
   "metadata": {
    "deletable": false,
    "editable": false,
    "tags": []
   },
   "source": [
    "**Zadatak 6**\n",
    "\n",
    "Napišite program koji učitava sliku filma i smanjuje njenu širinu i visinu za polovicu.\\\n",
    "*NAPOMENA*: Učitajte sliku po želji."
   ]
  },
  {
   "cell_type": "code",
   "execution_count": null,
   "id": "5c9e6234-6822-49f8-bd25-ce0e173680b0",
   "metadata": {},
   "outputs": [],
   "source": []
  },
  {
   "attachments": {},
   "cell_type": "markdown",
   "id": "ec52cc37-c27f-4a0d-bd60-729c4d22b0d6",
   "metadata": {
    "deletable": false,
    "editable": false,
    "tags": []
   },
   "source": [
    "**Zadatak 7**\n",
    "\n",
    "Napišite program koji učitava sliku filma i primjenjuje crno-bijeli filter.\\\n",
    "*NAPOMENA*: Učitajte sliku po želji."
   ]
  },
  {
   "cell_type": "code",
   "execution_count": null,
   "id": "27eacaa2-7d49-4d69-88c6-976072c734b6",
   "metadata": {},
   "outputs": [],
   "source": []
  },
  {
   "attachments": {},
   "cell_type": "markdown",
   "id": "65de1f47-12a2-4d3c-a720-598c39ff7f9e",
   "metadata": {
    "deletable": false,
    "editable": false,
    "tags": []
   },
   "source": [
    "### TRY EXCEPT FINALLY <a class=\"anchor\" id=\"modul3-try-except\"></a>\n",
    "\n",
    "Da se naš program ne bi \"raspao\" i korisniku se prikazala neka ružna, nerazumljiva poruka, u Pythonu, kao i u drugim programskim jezicima, za ove slučajeve se koristi mehanizam koji osigurava da program \"pokuša\" pristupiti, odnosno izvršiti jedan dio kôda i, ako uspije, super - idemo dalje. Ako ne uspije, onda se izvršava drugi dio kôda koji smo pripremili u toj situaciji.\n",
    "\n",
    "Taj mehanizam se u nekim jezicima zove zove *Try Catch* (pokušaj i ulovi grešku), a u Pythonu je *Try-Except* (pokušaj, a za iznimku napravi …). \n",
    "\n",
    "Python dodatno koristi i Else, no on se zaista rijetko koristi, tako da je najbolji način koristiti **try-except-finally**, a ponekad i samo **try-except**.  "
   ]
  },
  {
   "attachments": {},
   "cell_type": "markdown",
   "id": "a4cc0e19-e840-4f50-acbb-9aa83490796d",
   "metadata": {
    "deletable": false,
    "editable": false,
    "tags": []
   },
   "source": [
    "### Datoteke <a class=\"anchor\" id=\"modul3-datoteke\"></a>\n",
    "\n",
    "Gotovo svi programski jezici imaju ugrađenu potporu pristupa datotekama. Na kraju, programski kôd je zapisan u datoteku.\n",
    "\n",
    "Rad s datotekama u Pythonu je vrlo jednostavan. U ovom dijelu radit ćemo s tekstualnim datotekama. To su datoteke koje se mogu otvoriti pomoću Notepada ili nekog drugog *tekst editora*. Najčešća ekstenzija ovih datoteka je .txt, ali mogu biti i .json, .log, .ini, .config i slično."
   ]
  },
  {
   "attachments": {},
   "cell_type": "markdown",
   "id": "9729e715-6bf1-412a-a260-6ab5ea7aa102",
   "metadata": {
    "deletable": false,
    "editable": false,
    "tags": []
   },
   "source": [
    "Datoteke ulaze u resurse računala nad kojima nemamo izravnu kontrolu unutar našeg programskog kôda. Osim datoteka, to su baze podataka, druge aplikacije, Internet stranice i slično. Za datoteke najčešće ne smijemo pretpostaviti da će korisnik našeg programa imati prava pisati ili čitati po disku gdje smo pretpostavili da će biti datoteka. Možda te datoteke neće biti u mapi u kojoj je mi očekujemo, možda se datoteka ne zove onako kako smo očekivali ili postoji drugi razlog zbog kojeg se može dogoditi problem s pristupom do datoteke. "
   ]
  },
  {
   "attachments": {},
   "cell_type": "markdown",
   "id": "19335393-a194-4fec-a1c3-0c9d5ac78b8f",
   "metadata": {
    "deletable": false,
    "editable": false,
    "tags": []
   },
   "source": [
    "**Čitanje iz txt datoteke:**"
   ]
  },
  {
   "cell_type": "code",
   "execution_count": null,
   "id": "cf916db7",
   "metadata": {
    "deletable": false,
    "editable": false,
    "tags": []
   },
   "outputs": [],
   "source": [
    "try:\n",
    "    with open('adresar.txt', 'r') as file_reader:\n",
    "        file_data = file_reader.read()\n",
    "        print(file_data)\n",
    "            \n",
    "except Exception as e:\n",
    "    print(f'Dogodila se pogreska {e}')"
   ]
  },
  {
   "attachments": {},
   "cell_type": "markdown",
   "id": "34ff3468-d644-40b4-8e77-565c07a06b62",
   "metadata": {
    "deletable": false,
    "editable": false,
    "tags": []
   },
   "source": [
    "#### Zadaci"
   ]
  },
  {
   "attachments": {},
   "cell_type": "markdown",
   "id": "d69435ac-fd35-4516-b104-c81adf8bb247",
   "metadata": {
    "deletable": false,
    "editable": false,
    "tags": []
   },
   "source": [
    "**Zadatak 1**\n",
    "\n",
    "1.1 Podatke iz rječnika **vozni_park** upišite u txt datoteku vozni_park.txt  \n",
    "1.2 Podatke iz rječnika o proizvodima: Stolovi, Svjetiljke i Tepisi upišite svaki u svoju datoteku."
   ]
  },
  {
   "cell_type": "code",
   "execution_count": null,
   "id": "5976147a-097c-410c-b032-5b053c45f2dd",
   "metadata": {},
   "outputs": [],
   "source": []
  },
  {
   "attachments": {},
   "cell_type": "markdown",
   "id": "fb4671fa-a670-494f-a004-3fafb43336cd",
   "metadata": {
    "deletable": false,
    "editable": false,
    "tags": []
   },
   "source": [
    "**Zadatak 2**\n",
    "\n",
    "2.1. Sadržaj datoteka iz prethodnog zadatka 1.1. pročitajte tako da ih smjestite u klasu Vozila, odnosno kreirate objekte.  \n",
    "2.2. Sadržaj datoteka iz prethodnog zadatka 1.2. pročitajte tako da ih smjestite u klase Stol, Svjetiljka, Tepih, odnosno kreirate objekte."
   ]
  },
  {
   "cell_type": "code",
   "execution_count": null,
   "id": "57cd7bb4-7155-4047-b563-6948ecb00af1",
   "metadata": {},
   "outputs": [],
   "source": []
  },
  {
   "attachments": {},
   "cell_type": "markdown",
   "id": "1dad2f66",
   "metadata": {
    "deletable": false,
    "editable": false,
    "tags": []
   },
   "source": [
    "**Zadatak 3**\n",
    "\n",
    "Iz zadatka gdje ste izradili sljedeće metode:\n",
    "\n",
    "- svjetiljke sa žaruljom\n",
    "- drveni stolovi\n",
    "- okrugli tepisi\n",
    "- proizvodi s cijenom ispod 1000 kn\n",
    "- raspoložive proizvode\n",
    "- ukupnu cijenu svih svjetiljki\n",
    "\n",
    "napravite da se njihovi rezultati upisuju u datoteke."
   ]
  },
  {
   "cell_type": "code",
   "execution_count": null,
   "id": "caa487aa",
   "metadata": {},
   "outputs": [],
   "source": []
  },
  {
   "attachments": {},
   "cell_type": "markdown",
   "id": "c88c3bb2-010e-41f6-b374-ab7e645c3a3a",
   "metadata": {
    "deletable": false,
    "editable": false,
    "tags": []
   },
   "source": [
    "**Zadatak 4**\n",
    "\n",
    "Napišite Python program koji će pročitati datoteku \"filmovi.txt\" i ispisati sve retke koji počinju s određenim slovom koje unosi korisnik."
   ]
  },
  {
   "cell_type": "code",
   "execution_count": null,
   "id": "0d7568a5-b13a-43ba-bd92-95e6a6830467",
   "metadata": {},
   "outputs": [],
   "source": []
  },
  {
   "attachments": {},
   "cell_type": "markdown",
   "id": "fd33648a-a741-4985-affc-a2c82225ab1f",
   "metadata": {
    "deletable": false,
    "editable": false,
    "tags": []
   },
   "source": [
    "**Zadatak 5**\n",
    "\n",
    "Napišite Python program koji će pročitati datoteku \"filmovi.txt\" i ispisati broj riječi u svakom retku."
   ]
  },
  {
   "cell_type": "code",
   "execution_count": null,
   "id": "6df2aad3-3aee-407b-b02c-0f84513e4af5",
   "metadata": {},
   "outputs": [],
   "source": []
  },
  {
   "attachments": {},
   "cell_type": "markdown",
   "id": "af070c95-19e4-4cf2-a819-07f9cd7fa9ac",
   "metadata": {
    "deletable": false,
    "editable": false,
    "tags": []
   },
   "source": [
    "**Zadatak 6**\n",
    "\n",
    "Napišite Python program koji će zapisati u datoteku \"filmovi.txt\" sve naslove filmova iz liste u novi red, svaki naslov u zasebnom retku."
   ]
  },
  {
   "cell_type": "code",
   "execution_count": null,
   "id": "3a8c5700-84e1-41d4-84f0-ec832db786d9",
   "metadata": {},
   "outputs": [],
   "source": []
  },
  {
   "attachments": {},
   "cell_type": "markdown",
   "id": "1b9c5598-91e5-47cf-9f85-8ee500cb7574",
   "metadata": {
    "deletable": false,
    "editable": false,
    "tags": []
   },
   "source": [
    "**Zadatak 7**\n",
    "\n",
    "Napišite Python program koji će pročitati datoteku \"filmovi.txt\" i ispisati najduži naslov filma."
   ]
  },
  {
   "cell_type": "code",
   "execution_count": null,
   "id": "4e251ca6-3a5c-4ab5-99c2-6699c30b7d85",
   "metadata": {},
   "outputs": [],
   "source": []
  },
  {
   "attachments": {},
   "cell_type": "markdown",
   "id": "4843f4e9-898c-4077-a047-69484c056d2c",
   "metadata": {
    "deletable": false,
    "editable": false,
    "tags": []
   },
   "source": [
    "**Zadatak 8**\n",
    "\n",
    "Napišite Python program koji će pročitati datoteku \"filmovi.txt\" i ispisati prosječnu duljinu naslova filmova."
   ]
  },
  {
   "cell_type": "code",
   "execution_count": null,
   "id": "df1a9a5d-10e8-49e6-8466-ddcf68fc5a65",
   "metadata": {},
   "outputs": [],
   "source": []
  },
  {
   "attachments": {},
   "cell_type": "markdown",
   "id": "b6afb966-f027-47bd-a0e3-e715d8a0f253",
   "metadata": {
    "deletable": false,
    "editable": false,
    "tags": []
   },
   "source": [
    "### JSON i WebAPI usluge <a class=\"anchor\" id=\"modul3-json\"></a>\n",
    "\n",
    "\n",
    "#### JSON ili *JavaScript Object Notation* \n",
    "JSON ili *JavaScript Object Notation* je način zapisivanja podataka u tekstualnim datotekama. Taj format nastao je kao odgovor na XML format koje je ljudima kompliciran za čitanje dok, naravno, računalima nije. Osim toga, nešto je kompliciranije programirati rješenje koje će čitati XML (zahtjeva puno programskog kôda).\n",
    "\n",
    "Zbog toga je JSON postao jako dobro prihvaćen. Ljudima ga je lako čitati, a programska rješenja koja ga koriste su jednostavna pa je format ubrzo postao opće prihvaćen te je, osim u nekim starijim sustavima, u cijelosti zamijenio kompliciraniji XML (ili se koristi paralelno s XML formatom te je krajnjim korisnicima ostavljeno na biranje).\n",
    "\n",
    "Specifičnost JSON formata je **sintaksa zapisa u formatu Key:Value**, što je format zapisa i za Dictionary."
   ]
  },
  {
   "attachments": {},
   "cell_type": "markdown",
   "id": "06ab1f76-1663-4851-aead-879ae47b1075",
   "metadata": {
    "deletable": false,
    "editable": false,
    "tags": []
   },
   "source": [
    "#### Zadaci"
   ]
  },
  {
   "attachments": {},
   "cell_type": "markdown",
   "id": "b6f344d0-48a3-4993-9457-1eaceac91acd",
   "metadata": {
    "deletable": false,
    "editable": false,
    "tags": []
   },
   "source": [
    "**Zadatak 1**\n",
    "\n",
    "1.1 Pripremljeni rječnik **user** spremite u user.json datoteku.\n",
    "\n",
    "user = {\n",
    "            \"id\": 1,\n",
    "            \"firstName\": \"Petar\",\n",
    "            \"lastName\": \"Peric\",\n",
    "            \"username\": \"pperic\",\n",
    "            \"email\": \"pperic@email.com\",\n",
    "            \"address\": {\n",
    "                \"street\": \"Ilica 256\",\n",
    "                \"city\": \"Zagreb\",\n",
    "                \"zipcode\": \"10000\"\n",
    "            },\n",
    "            \"phone\": \"+385 1 8031 564\",\n",
    "            \"website\": \"web.adresa\",\n",
    "            \"company\": {\n",
    "                \"name\": \"Medvednica d.o.o.\",\n",
    "                \"catchPhrase\": \"Razvoj specijaliziranih Python aplikacija\",\n",
    "                \"bs\": \"Najbolja poslovna rjesenja\"\n",
    "            }\n",
    "        }\n",
    "        \n",
    "1.2 Iz datoteke user.json pročitajte sadržaj i iz sadržaja ispišite na zaslon ime, prezime i točnu kućnu adresu za dostavu."
   ]
  },
  {
   "cell_type": "code",
   "execution_count": null,
   "id": "0c2fc4cb-4c99-444b-9859-5a1e065515a5",
   "metadata": {},
   "outputs": [],
   "source": []
  },
  {
   "attachments": {},
   "cell_type": "markdown",
   "id": "52e01730-d231-4433-ac1c-40a4d1f13e78",
   "metadata": {
    "deletable": false,
    "editable": false,
    "tags": []
   },
   "source": [
    "**Zadatak 2**\n",
    "\n",
    "Sadržaj s linka <a href=\"https://jsonplaceholder.typicode.com/users\" target=\"_blank\">\"https://jsonplaceholder.typicode.com/users\"</a> unesite u json datoteku, zatim pročitajte. Izdvojite podatke *ime, prezime i telefon* te kreirajte poseban rječnik od tih podataka (ključ možete koristiti id, a ostatak podataka vrijednost), zatim ga unesite u txt datoteku."
   ]
  },
  {
   "cell_type": "code",
   "execution_count": null,
   "id": "5a28340b-0766-4fb0-aab2-3208f0920318",
   "metadata": {},
   "outputs": [],
   "source": []
  },
  {
   "attachments": {},
   "cell_type": "markdown",
   "id": "170ca93a",
   "metadata": {
    "deletable": false,
    "editable": false,
    "tags": []
   },
   "source": [
    "#### WebAPI usluge - Internet podaci\n",
    "\n",
    "Internet predstavlja nepresušan izvor različitih podataka. Ako ih znamo koristiti, ti podaci mogu biti vrlo korisni.\n",
    "\n",
    "Na internetu se nalaze informacije u tekstualnom, audio, foto i video formatu. Pretraživanje tih podataka predstavlja izazov ako se pretražuje \"ručno\" - jednostavnije je koristiti računala koja za nas \"odrađuju posao\". Izradu uputa računalima kako dohvatiti željene informacije s Interneta zovemo ***Web Scraping*** ili, grubo prevedeno, *struganje Weba*.\n",
    "\n",
    "Za pristup Internet stranici iz programskog kôda u Pythonu koristi se integrirani modul **urllib**. \n",
    "\n",
    "Web Scraping predstavlja dohvat podataka s Interneta tako da ćemo uvijek koristiti **http request get metodu** koja je namijenjena za dohvat podataka. Osim toga, koristit ćemo samo javne stranice. Točnije, za primjere ćemo koristiti specijaliziranu stranicu koja je namijenjena podučavanju *Web Scraping* tehnika."
   ]
  },
  {
   "attachments": {},
   "cell_type": "markdown",
   "id": "31361f66",
   "metadata": {
    "deletable": false,
    "editable": false,
    "tags": []
   },
   "source": [
    "**Redoslijed koraka za pristup do web stranice u tekstualnom obliku (html):**"
   ]
  },
  {
   "cell_type": "code",
   "execution_count": null,
   "id": "b23173e5",
   "metadata": {
    "deletable": false,
    "editable": false,
    "tags": []
   },
   "outputs": [],
   "source": [
    "import urllib.request\n",
    "URL = 'https://www.algebra.hr'\n",
    "konekcija = urllib.request.urlopen(URL)\n",
    "sadrzaj = konekcija.read().decode()\n",
    "print(sadrzaj)"
   ]
  },
  {
   "attachments": {},
   "cell_type": "markdown",
   "id": "7f52b24f",
   "metadata": {
    "deletable": false,
    "editable": false,
    "tags": []
   },
   "source": [
    "Dohvaća se cijela stranica u html formatu. Kako bismo mogli iskoristiti podatke koje se nalaze na stranici, važno je poznavati strukturu html jezika, a nakon toga ćemo lako pronaći gdje se na stranici nalazi tražena informacija.\n",
    "\n",
    "Da se ne bismo \"mučili\" dok ne dobijemo informaciju koju želimo, koristit ćemo alat ili modul **_Beautiful Soup_** koji je namijenjen jednostavnom \"čitanju\" html dokumenata unutar Python programskog kôda. Autori _Beautiful Soup_ alata, html kôd koji učitamo sa Internet stranice smatraju kao \"juhu\" iz koje možemo izvući korisne informacije na jednostavan način."
   ]
  },
  {
   "attachments": {},
   "cell_type": "markdown",
   "id": "9322f779",
   "metadata": {},
   "source": [
    "Kôd kojim se ispisuju svi html elementi na stranici koji počinju oznakom \\<p> i završavaju \\</p>:"
   ]
  },
  {
   "cell_type": "code",
   "execution_count": null,
   "id": "2bcfa9bb",
   "metadata": {},
   "outputs": [],
   "source": [
    "import urllib.request\n",
    "from bs4 import BeautifulSoup\n",
    "\n",
    "URL = 'https://www.algebra.hr'\n",
    "konekcija = urllib.request.urlopen(URL)\n",
    "sadrzaj = konekcija.read().decode()\n",
    "\n",
    "podaci = BeautifulSoup(sadrzaj, 'html.parser')\n",
    "paragrafi = podaci.find_all('p')\n",
    "for paragraf in paragrafi:\n",
    "   print(paragraf)"
   ]
  },
  {
   "attachments": {},
   "cell_type": "markdown",
   "id": "27677e19-4bb0-4a31-a3d0-d0ccc63b846b",
   "metadata": {
    "deletable": false,
    "editable": false,
    "tags": []
   },
   "source": [
    "**Python Requests**\n",
    "\n",
    "Daleko jednostavnij rad s RESTapi servisima na Internetu je pomoću modula *requests*.\n",
    "\n",
    "Instalacija: `pip install requests`."
   ]
  },
  {
   "attachments": {},
   "cell_type": "markdown",
   "id": "a87e317e",
   "metadata": {
    "deletable": false,
    "editable": false,
    "tags": []
   },
   "source": [
    "**Zadatak 1**\n",
    "\n",
    "S navedene stranice <a href=\"https://www.klubsumica.com/manje-privatne-zabave/\" target=\"_blank\">\"https://www.klubsumica.com/manje-privatne-zabave/\"</a> izdvojite sve odlomke (tekstove) i spremite u txt datoteku. Izdvojite kontakt (e-mail i broj mobitela) prikažite ih na zaslonu."
   ]
  },
  {
   "cell_type": "code",
   "execution_count": null,
   "id": "6b9a97ef",
   "metadata": {},
   "outputs": [],
   "source": []
  },
  {
   "attachments": {},
   "cell_type": "markdown",
   "id": "0ae2cba6",
   "metadata": {
    "deletable": false,
    "editable": false,
    "tags": []
   },
   "source": [
    "**Zadatak 2**\n",
    "\n",
    "S navedene stranice <a href=\"https://www.scrapethissite.com/pages/simple/\" target=\"_blank\">\"https://www.scrapethissite.com/pages/simple/\"</a> dohvatiti podatke i modificirati na način da se spremaju:\n",
    "- Liste država, glavnih gradova, populacije i površina\n",
    "- Rječnici u kojem je država ključ, a ostatak vrijednost \n",
    "- Objekti klase Drzava – u klasi izraditi metode za:\n",
    "- Ispis najveće i najmanje države na svijetu\n",
    "- Ispis države s najmanje i najviše stanovništva\n",
    "- Spremiti dobivene podatke u txt i json datoteku\n",
    "- Spremiti dobivene podatke u SQLite bazu podataka"
   ]
  },
  {
   "cell_type": "code",
   "execution_count": null,
   "id": "f798e6ef",
   "metadata": {},
   "outputs": [],
   "source": []
  },
  {
   "attachments": {},
   "cell_type": "markdown",
   "id": "9fd80edc-ccf5-4ef4-b232-abe71e9e6e30",
   "metadata": {
    "deletable": false,
    "editable": false,
    "tags": []
   },
   "source": [
    "**Zadatak 3**\n",
    "\n",
    "Napišite program koji će preuzeti podatke o filmu s ID brojem 123456 pomoću API-ja i ispisati naziv filma. Adresa API-ja je <a href=\"https://example.com/api/film/123456\" target=\"_blank\">\"https://example.com/api/film/123456\"</a>, a naziv filma se nalazi u ključu \"title\"."
   ]
  },
  {
   "cell_type": "code",
   "execution_count": null,
   "id": "e14986e7-6b89-48ad-aac4-d06d2f4a9eac",
   "metadata": {},
   "outputs": [],
   "source": []
  },
  {
   "attachments": {},
   "cell_type": "markdown",
   "id": "c1f81ddc-c119-4c31-9221-5764d7f76183",
   "metadata": {
    "deletable": false,
    "editable": false,
    "tags": []
   },
   "source": [
    "**Zadatak 4**\n",
    "\n",
    "Napišite program koji će preuzeti podatke o deset najpopularnijih filmova u 2022. godini pomoću API-ja i ispisati njihove nazive. Adresa API-ja je <a href=\"https://example.com/api/popular_movies?year=2022\" target=\"_blank\">\"https://example.com/api/popular_movies?year=2022\"</a>, a nazivi filmova se nalaze u ključu \"title\"."
   ]
  },
  {
   "cell_type": "code",
   "execution_count": null,
   "id": "987b7dcd-3841-446c-a7fe-18619dfc555a",
   "metadata": {},
   "outputs": [],
   "source": []
  },
  {
   "attachments": {},
   "cell_type": "markdown",
   "id": "a4a3f6c0-664a-403d-9473-3f73cb1b0c70",
   "metadata": {
    "deletable": false,
    "editable": false,
    "tags": []
   },
   "source": [
    "**Zadatak 5**\n",
    "\n",
    "Napišite program koji će preuzeti podatke o filmu po nazivu pomoću API-ja i ispisati godinu izlaska tog filma. Adresa API-ja je <a href=\"https://example.com/api/search?title=Naziv%20filma\" target=\"_blank\">\"https://example.com/api/search?title=Naziv%20filma\"</a>, a godina izlaska se nalazi u ključu \"release_year\"."
   ]
  },
  {
   "cell_type": "code",
   "execution_count": null,
   "id": "e41d9db4-9685-4827-8b00-65be9b4d8c59",
   "metadata": {},
   "outputs": [],
   "source": []
  },
  {
   "attachments": {},
   "cell_type": "markdown",
   "id": "c2f58da8-933b-46a1-be5b-01b2ec5f471c",
   "metadata": {
    "deletable": false,
    "editable": false,
    "tags": []
   },
   "source": [
    "**Zadatak 6**\n",
    "\n",
    "Napišite program koji će preuzeti podatke o svim filmovima koje je režirao određeni redatelj pomoću API-ja i ispisati njihove nazive. Adresa API-ja je <a href=\"https://example.com/api/director_movies?name=Ime%20redatelja\" target=\"_blank\">\"https://example.com/api/director_movies?name=Ime%20redatelja\"</a>, a nazivi filmova se nalaze u ključu \"title\"."
   ]
  },
  {
   "cell_type": "code",
   "execution_count": null,
   "id": "6519bcfc-835d-4d24-920d-f8416dda65d3",
   "metadata": {},
   "outputs": [],
   "source": []
  },
  {
   "attachments": {},
   "cell_type": "markdown",
   "id": "9198c760-22ad-4e83-865b-3c97364f7137",
   "metadata": {
    "deletable": false,
    "editable": false,
    "tags": []
   },
   "source": [
    "**Zadatak 7**\n",
    "\n",
    "Napišite program koji će preuzeti podatke o filmu s najvišom ocjenom pomoću API-ja i ispisati naziv filma i njegovu ocjenu. Adresa API-ja je <a href=\"https://example.com/api/top_rated_movie\" target=\"_blank\">\"https://example.com/api/top_rated_movie\"</a>, a naziv filma se nalazi u ključu \"title\", a ocjena u ključu \"rating\"."
   ]
  },
  {
   "cell_type": "code",
   "execution_count": null,
   "id": "e0173275",
   "metadata": {},
   "outputs": [],
   "source": []
  },
  {
   "attachments": {},
   "cell_type": "markdown",
   "id": "a462e2fa-c225-421f-bdde-ab9be693fb1c",
   "metadata": {
    "deletable": false,
    "editable": false,
    "tags": []
   },
   "source": [
    "### Baze <a class=\"anchor\" id=\"modul3-baze\"></a>\n",
    "\n",
    "Baze podatka u Pythonu, kao i u drugim programskim jezicima, služe za **trajnu i strukturiranu pohranu podataka**. Python podržava rad s više različitih tipova baza podatka, a mi ćemo raditi samo s **SQLite**, integriranom relacijskom bazom podataka."
   ]
  },
  {
   "attachments": {},
   "cell_type": "markdown",
   "id": "22ed45be-1a76-4793-8b95-d3188769d4e3",
   "metadata": {
    "deletable": false,
    "editable": false,
    "tags": []
   },
   "source": [
    "### SQL jezik <a class=\"anchor\" id=\"modul3-sql\"></a>"
   ]
  },
  {
   "attachments": {},
   "cell_type": "markdown",
   "id": "b825483f-9a70-4578-a9df-894d4ad70f7d",
   "metadata": {
    "deletable": false,
    "editable": false,
    "tags": []
   },
   "source": [
    "Programski jezik za manipulaciju elementima i podacima u relacijskoj bazi podataka."
   ]
  },
  {
   "attachments": {},
   "cell_type": "markdown",
   "id": "802b1ed2-a617-460e-b0b1-f7ba6c47ec9e",
   "metadata": {
    "deletable": false,
    "editable": false,
    "tags": []
   },
   "source": [
    "**Dohvat**\\\n",
    "`SELECT lista_stupaca`\\\n",
    "`FROM naziv_tabele`"
   ]
  },
  {
   "attachments": {},
   "cell_type": "markdown",
   "id": "0d4d15da-2069-4d4e-94c7-cbcbe6a4dbe8",
   "metadata": {
    "deletable": false,
    "editable": false,
    "tags": []
   },
   "source": [
    "**Dodavanje / *Insert***\\\n",
    "`INSERT INTO naziv_tabele (stupac1,stupac2 ,..)`\\\n",
    "`VALUES(vrijednost1,vrijednost2 ,...);`"
   ]
  },
  {
   "attachments": {},
   "cell_type": "markdown",
   "id": "27e4eec2-22e1-4382-ad6c-d61cb23fbc38",
   "metadata": {
    "deletable": false,
    "editable": false,
    "tags": []
   },
   "source": [
    "**Ažuriranje / *Update***\\\n",
    "`UPDATE naziv_tabele`\\\n",
    "`SET stupac1 = nova_vrijednost1,`\\\n",
    "&nbsp;&nbsp;&nbsp;&nbsp;`stupac2 = nova_vrijednost2`\\\n",
    "`WHERE`\\\n",
    "&nbsp;&nbsp;&nbsp;&nbsp;`uvjet`"
   ]
  },
  {
   "attachments": {},
   "cell_type": "markdown",
   "id": "41cbb89f-7b11-452e-ae79-4bc08acd594d",
   "metadata": {
    "deletable": false,
    "editable": false,
    "tags": []
   },
   "source": [
    "**Brisanje / *Delete***\\\n",
    "`DELETE FROM naziv_tabele`\\\n",
    "`WHERE uvjet;`"
   ]
  },
  {
   "attachments": {},
   "cell_type": "markdown",
   "id": "bfc8053d-4a23-40d8-9cbc-9ab866264af5",
   "metadata": {
    "deletable": false,
    "editable": false,
    "tags": []
   },
   "source": [
    "### SQLite <a class=\"anchor\" id=\"modul3-sqlite\"></a>"
   ]
  },
  {
   "attachments": {},
   "cell_type": "markdown",
   "id": "bc9c6088-f587-4ea4-b479-22e08cdb0c4b",
   "metadata": {
    "deletable": false,
    "editable": false,
    "tags": []
   },
   "source": [
    "Kako koristiti baze podataka pomoću sqlite3 ugrađenog Python modula:"
   ]
  },
  {
   "cell_type": "code",
   "execution_count": 2,
   "id": "1340ccc1-5f0e-44b8-9dca-7780f2220d57",
   "metadata": {
    "deletable": false,
    "editable": false,
    "tags": []
   },
   "outputs": [
    {
     "name": "stdout",
     "output_type": "stream",
     "text": [
      "[('3.39.4',)]\n"
     ]
    }
   ],
   "source": [
    "import sqlite3\n",
    "\n",
    "try:\n",
    "    # 1. korak otvori konekciju prema bazi\n",
    "    db_connection = sqlite3.connect('putanja do datoteke u kojoj je baza')\n",
    "    # 2. korak kreiranje kursora za izvršavanje akcija na bazi podataka\n",
    "    cursor = db_connection.cursor()\n",
    "\n",
    "    # 3. korak pokreni sql upit\n",
    "    #cursor.execute('SQL Query upit za rad s podacima u bazi')\n",
    "    cursor.execute('SELECT sqlite_version()')\n",
    "\n",
    "    # 3.1. korak ako je upit za dohvati podataka (select) onda pozovemo fetchall()\n",
    "    record_set = cursor.fetchall()\n",
    "    print(record_set)\n",
    "\n",
    "    # 3.2. korak a ako je upit za promjenu podataka (insert, update i delete) onda pozovemo commit()\n",
    "    # ili snimi izmjene u bazu\n",
    "    #db_connection.commit()\n",
    "\n",
    "    # 4. korak zatvorimo cursor objekt\n",
    "    cursor.close()\n",
    "\n",
    "except sqlite3.Error as error:\n",
    "    print(f'Dogodila se SQL greska: {error}')\n",
    "except Exception as ex:\n",
    "    print(f'Dogodila se greska: {ex}')\n",
    "\n",
    "finally:\n",
    "    # Finalni korak zatvoriti konekciju prema bazi podataka\n",
    "    if db_connection:\n",
    "        db_connection.close()"
   ]
  },
  {
   "attachments": {},
   "cell_type": "markdown",
   "id": "aa8d78fc-2d74-4d8d-b3b7-9bf910ce34f1",
   "metadata": {
    "deletable": false,
    "editable": false,
    "tags": []
   },
   "source": [
    "#### Zadaci"
   ]
  },
  {
   "attachments": {},
   "cell_type": "markdown",
   "id": "ea2ec200-2e20-4792-bdc0-3d9def311aaf",
   "metadata": {
    "deletable": false,
    "editable": false,
    "tags": []
   },
   "source": [
    "**Zadatak 1**\n",
    "\n",
    "Kreirajte bazu podataka \"filmovi.db\" koja sadrži tablicu \"filmovi\" s poljima \"naslov\" (tekst), \"godina\" (broj) i \"ocjena\" (broj). Dodajte tri filma u tablicu (npr. \"Titanik\", 1997, 9.5; \"Prijatelji s povlasticama\", 1989, 8.2; \"Zvjezdani ratovi: Epizoda IV - Nova nada\", 1977, 8.7)."
   ]
  },
  {
   "cell_type": "code",
   "execution_count": null,
   "id": "173e052d-0023-4f54-8f87-c2f8ef278d9c",
   "metadata": {},
   "outputs": [],
   "source": []
  },
  {
   "attachments": {},
   "cell_type": "markdown",
   "id": "a8a1387d-951e-4076-93f6-c543bc1c64eb",
   "metadata": {
    "deletable": false,
    "editable": false,
    "tags": []
   },
   "source": [
    "**Zadatak 2**\n",
    "\n",
    "Kreirajte program koji korisniku omogućuje dodavanje novih filmova u bazu podataka \"filmovi.db\". Program treba pitati korisnika za unos naslova, godine i ocjene filma te ih spremiti u tablicu \"filmovi\"."
   ]
  },
  {
   "cell_type": "code",
   "execution_count": null,
   "id": "bf68d53b-9f09-4369-9c87-faf05c0d8e1d",
   "metadata": {},
   "outputs": [],
   "source": []
  },
  {
   "attachments": {},
   "cell_type": "markdown",
   "id": "d636b005-a8c1-40c1-8f7a-fad5ba27a949",
   "metadata": {
    "deletable": false,
    "editable": false,
    "tags": []
   },
   "source": [
    "**Zadatak 3**\n",
    "\n",
    "Napravite program koji prikazuje sve filmove u bazi podataka \"filmovi.db\" sortirane po godini. Za svaki film prikažite naslov, godinu i ocjenu."
   ]
  },
  {
   "cell_type": "code",
   "execution_count": null,
   "id": "332aa77b-be80-4934-90ab-88ce1b3297b1",
   "metadata": {},
   "outputs": [],
   "source": []
  },
  {
   "attachments": {},
   "cell_type": "markdown",
   "id": "776acdf0-77af-4b92-a0f4-ea60bc8be149",
   "metadata": {
    "deletable": false,
    "editable": false,
    "tags": []
   },
   "source": [
    "**Zadatak 4**\n",
    "\n",
    "Napravite program koji prikazuje sve filmove u bazi podataka \"filmovi.db\" čija je ocjena veća od 8.0. Za svaki film prikažite naslov, godinu i ocjenu."
   ]
  },
  {
   "cell_type": "code",
   "execution_count": null,
   "id": "941f1fea-48df-4cd8-8c74-e5abe8a404ba",
   "metadata": {},
   "outputs": [],
   "source": []
  },
  {
   "attachments": {},
   "cell_type": "markdown",
   "id": "fd5203f5-89e6-4288-a9b1-c4a9f829fdad",
   "metadata": {
    "deletable": false,
    "editable": false,
    "tags": []
   },
   "source": [
    "**Zadatak 5**\n",
    "\n",
    "Napravite program koji omogućuje korisniku ažuriranje ocjene filma u bazi podataka \"filmovi.db\". Program treba pitati korisnika za unos naslova filma te novu ocjenu. Potom treba ažurirati ocjenu filma u tablici \"filmovi\"."
   ]
  },
  {
   "cell_type": "code",
   "execution_count": null,
   "id": "c632fce5-e93e-4194-95e0-8c7d6e1d6087",
   "metadata": {},
   "outputs": [],
   "source": []
  },
  {
   "attachments": {},
   "cell_type": "markdown",
   "id": "b51d27e6-3c70-4718-85fc-bcce5324094f",
   "metadata": {
    "deletable": false,
    "editable": false,
    "tags": []
   },
   "source": [
    "### SQL Alchemy <a class=\"anchor\" id=\"modul3-sql-alchemy\"></a>\n",
    "\n",
    "SQL Alchemy je biblioteka koja omogućuje rad Python aplikacija s bazama podataka.\n",
    "\n",
    "Instalacija:\\\n",
    "`pip install SQLAlchemy`"
   ]
  },
  {
   "attachments": {},
   "cell_type": "markdown",
   "id": "7012df4c-34b0-4d40-8fc4-93c215bd4de7",
   "metadata": {
    "deletable": false,
    "editable": false,
    "tags": []
   },
   "source": [
    "Kako koristiti baze podataka pomoću SQL Alchemy biblioteke:"
   ]
  },
  {
   "cell_type": "code",
   "execution_count": null,
   "id": "974e1e9d-cb6c-423f-80bd-468a36be23dd",
   "metadata": {
    "deletable": false,
    "editable": false,
    "tags": []
   },
   "outputs": [],
   "source": [
    "from sqlalchemy import (create_engine,\n",
    "    Column, Integer, String, ForeignKey)\n",
    "\n",
    "from sqlalchemy.orm import (sessionmaker,\n",
    "    declarative_base, relationship, backref)\n",
    "\n",
    "\n",
    "Base = declarative_base()\n",
    "\n",
    "# Deklaracija Tablica\n",
    "class Company(Base):\n",
    "    __tablename__ = 'companies'\n",
    "    id = Column(Integer, primary_key=True, autoincrement=True)\n",
    "    name = Column(String(150), nullable=False)\n",
    "    vat_id = Column(String(11), nullable=False)\n",
    "    email = Column(String(150), nullable=True)\n",
    "    phone = Column(String(50), nullable=True)\n",
    "\n",
    "    employees = relationship('Employee', backref=backref('company'))\n",
    "\n",
    "\n",
    "class Employee(Base):\n",
    "    __tablename__ = 'employees'\n",
    "    id = Column(Integer, primary_key=True, autoincrement=True)\n",
    "    first_name = Column(String(150), nullable=True)\n",
    "    last_name = Column(String(150), nullable=False)\n",
    "    email = Column(String(150), nullable=True)\n",
    "    phone = Column(String(50), nullable=True)\n",
    "\n",
    "    company_id = Column(Integer, ForeignKey('companies.id'), nullable=False)\n",
    "\n",
    "\n",
    "# Kreiranje baze\n",
    "db_path = 'sqlite:///db_data/py_bank.db'\n",
    "db_engine = create_engine(db_path)\n",
    "Base.metadata.create_all(db_engine)\n",
    "\n",
    "# Kreiranje session objekta - slično kao cursor u sqlite3 modulu\n",
    "Session = sessionmaker()\n",
    "Session.configure(bind=db_engine)\n",
    "session = Session()\n",
    "\n",
    "\n",
    "company = Company(\n",
    "        name = 'Firma 01',\n",
    "        vat_id = '123',\n",
    "        email = 'firma01@firma01.com',\n",
    "        phone = '123456'\n",
    "    )\n",
    "\n",
    "session.add(company)\n",
    "session.commit()\n"
   ]
  },
  {
   "attachments": {},
   "cell_type": "markdown",
   "id": "77b985ba-75e7-49da-abba-534670d03500",
   "metadata": {
    "deletable": false,
    "editable": false,
    "tags": []
   },
   "source": [
    "#### Zadaci"
   ]
  },
  {
   "attachments": {},
   "cell_type": "markdown",
   "id": "224c6b47-37e9-4784-ad64-6d3affa2c1a2",
   "metadata": {
    "deletable": false,
    "editable": false,
    "tags": []
   },
   "source": [
    "**Zadatak 1**\n",
    "\n",
    "Kreirajte bazu podataka \"movies\" s tablicom \"filmovi\" koja ima sljedeće stupce: id (integer, primarni ključ), naslov (tekst), godina (integer), žanr (tekst), ocjena (integer)."
   ]
  },
  {
   "cell_type": "code",
   "execution_count": null,
   "id": "16ab97d8-7162-4546-a478-bc238da6bc99",
   "metadata": {},
   "outputs": [],
   "source": []
  },
  {
   "attachments": {},
   "cell_type": "markdown",
   "id": "c42b2b02-4dab-45b9-a5db-9f95fbde7d8a",
   "metadata": {
    "deletable": false,
    "editable": false,
    "tags": []
   },
   "source": [
    "**Zadatak 2**\n",
    "\n",
    "Napravite funkciju \"unesi_film\" koja će omogućiti korisniku da unese novi film u bazu podataka. Funkcija treba tražiti unos naslova, godine, žanra i ocjene, a zatim spremiti te podatke u bazu."
   ]
  },
  {
   "cell_type": "code",
   "execution_count": null,
   "id": "b601acab-a9ad-4480-886f-c0d529a34d4e",
   "metadata": {},
   "outputs": [],
   "source": []
  },
  {
   "attachments": {},
   "cell_type": "markdown",
   "id": "d5866d56-b3e3-492d-8ebd-b5d69a19ce62",
   "metadata": {
    "deletable": false,
    "editable": false,
    "tags": []
   },
   "source": [
    "**Zadatak 3**\n",
    "\n",
    "Napravite funkciju \"izlistaj_filmove\" koja će ispisati sve filmove iz baze podataka, sortirane po godini, a zatim po ocjeni. Funkcija treba ispisati naslov, godinu, žanr i ocjenu za svaki film."
   ]
  },
  {
   "cell_type": "code",
   "execution_count": null,
   "id": "f69a83a0-ff1a-45cb-a316-316df958690e",
   "metadata": {},
   "outputs": [],
   "source": []
  },
  {
   "attachments": {},
   "cell_type": "markdown",
   "id": "95a988d3-e441-4102-b12d-aa0a302a7187",
   "metadata": {
    "deletable": false,
    "editable": false,
    "tags": []
   },
   "source": [
    "**Zadatak 4**\n",
    "\n",
    "Napravite funkciju \"promijeni_ocjenu\" koja će omogućiti korisniku da promijeni ocjenu nekog filma. Funkcija treba tražiti unos naslova filma i nove ocjene, a zatim ažurirati bazu podataka."
   ]
  },
  {
   "cell_type": "code",
   "execution_count": null,
   "id": "47fbcc08-6c1b-4fe3-b3e0-a43c29801554",
   "metadata": {},
   "outputs": [],
   "source": []
  },
  {
   "attachments": {},
   "cell_type": "markdown",
   "id": "ad55c3c8-bfd3-46f0-b411-7959a505c17b",
   "metadata": {
    "deletable": false,
    "editable": false,
    "tags": []
   },
   "source": [
    "**Zadatak 5**\n",
    "\n",
    "Napravite funkciju \"izbriši_film\" koja će omogućiti korisniku da izbriše neki film iz baze podataka. Funkcija treba tražiti unos naslova filma koji se briše, a zatim izbrisati taj film iz baze podataka."
   ]
  },
  {
   "cell_type": "code",
   "execution_count": null,
   "id": "f109be3a-078e-42f7-9eb5-177caab30b58",
   "metadata": {},
   "outputs": [],
   "source": []
  },
  {
   "attachments": {},
   "cell_type": "markdown",
   "id": "5a59be06-6232-4af2-a7f4-4bdd4bd1744c",
   "metadata": {
    "deletable": false,
    "editable": false,
    "tags": []
   },
   "source": [
    "### GUI <a class=\"anchor\" id=\"modul3-gui\"></a>\n",
    "\n"
   ]
  },
  {
   "attachments": {},
   "cell_type": "markdown",
   "id": "bb28ee7d",
   "metadata": {},
   "source": [
    "Grafičko korisničko sučelje (end. *Graphical User Interface*) danas je neizostavan dio bilo koje korisnički orijentirane aplikacije. Tkinter je modul koji se isporučuje uz Python, a namijenjen je za izradu grafičkog sučelja."
   ]
  },
  {
   "cell_type": "code",
   "execution_count": null,
   "id": "4d5cc89f-9fc4-4a9a-ab8b-dc2f85fabe21",
   "metadata": {
    "deletable": false,
    "editable": false,
    "tags": []
   },
   "outputs": [],
   "source": [
    "import tkinter\n",
    "\n",
    "\n",
    "def btn_save_handler():\n",
    "    print('Button Save je kliknut')\n",
    "\n",
    "\n",
    "def btn_cancel_handler():\n",
    "    print('Button Cancel je kliknut')\n",
    "\n",
    "\n",
    "\n",
    "main_window = tkinter.Tk()\n",
    "main_window.title('Naslov glavnog prozora')\n",
    "main_window.geometry('600x400')\n",
    "\n",
    "\n",
    "labela = tkinter.Label(main_window,\n",
    "                                   text='Tekstualna poruka:',\n",
    "                                   font=('Segoe UI', 14))\n",
    "labela.grid(row=0, column=0,\n",
    "            padx=10, pady=15,\n",
    "            sticky=tkinter.E)\n",
    "\n",
    "entry_var = tkinter.StringVar()\n",
    "entry = tkinter.Entry(main_window,\n",
    "                      font=('Segoe UI', 14),\n",
    "                      textvariable=entry_var)\n",
    "entry.grid(row=0, column=1, columnspan=2,\n",
    "           padx=10, pady=15,\n",
    "           sticky=tkinter.W)\n",
    "\n",
    "\n",
    "btn_save = tkinter.Button(main_window,\n",
    "                               text='Snimi',\n",
    "                               font=('Segoe UI', 12),\n",
    "                               command=btn_save_handler)\n",
    "btn_save.grid(row=1, column=0,\n",
    "                   padx=10, pady=15,\n",
    "                   sticky=tkinter.W)\n",
    "\n",
    "btn_cancel = tkinter.Button(main_window,\n",
    "                                 text='Odustani',\n",
    "                                 font=('Segoe UI', 12),\n",
    "                                 command=btn_cancel_handler)\n",
    "btn_cancel.grid(row=1, column=1,\n",
    "                     padx=10, pady=15,\n",
    "                     sticky=tkinter.E)\n",
    "\n",
    "\n",
    "\n",
    "main_window.mainloop()"
   ]
  },
  {
   "attachments": {},
   "cell_type": "markdown",
   "id": "f503d9fb-e7ce-438e-a98e-2ad9e0cc0ebb",
   "metadata": {
    "deletable": false,
    "editable": false,
    "tags": []
   },
   "source": [
    "#### Zadaci"
   ]
  },
  {
   "attachments": {},
   "cell_type": "markdown",
   "id": "90aa46de-071d-4daa-89bd-ab8fe86800e3",
   "metadata": {
    "deletable": false,
    "editable": false,
    "tags": []
   },
   "source": [
    "**Zadatak 1**\n",
    "\n",
    "Napravite program koji ima jedno polje za unos teksta, gumb za pretragu i tekstovno polje za prikaz rezultata pretrage. Korisnik će upisati ime filma u polje za unos teksta, pritiskom na gumb pretrage će se pretražiti baza podataka s filmovima i prikazati svi filmovi koji sadrže taj tekst u nazivu ili opisu filma."
   ]
  },
  {
   "cell_type": "code",
   "execution_count": null,
   "id": "0ee253a2-6c98-4df1-b513-49e3b96304be",
   "metadata": {},
   "outputs": [],
   "source": []
  },
  {
   "attachments": {},
   "cell_type": "markdown",
   "id": "2a2390b8-d712-4e7b-a56e-af1109522ff9",
   "metadata": {
    "deletable": false,
    "editable": false,
    "tags": []
   },
   "source": [
    "**Zadatak 2**\n",
    "\n",
    "Napravite program koji prikazuje naslovnicu određenog filma. Korisnik će upisati ime filma u polje za unos teksta, pritiskom na gumb prikazat će se naslovna slika filma, ako postoji u bazi podataka."
   ]
  },
  {
   "cell_type": "code",
   "execution_count": null,
   "id": "f46b04ec-a2c0-498e-9bc9-bc08c335834d",
   "metadata": {},
   "outputs": [],
   "source": []
  },
  {
   "attachments": {},
   "cell_type": "markdown",
   "id": "b00202df-4e03-431c-83be-e3cfb69cb9a6",
   "metadata": {
    "deletable": false,
    "editable": false,
    "tags": []
   },
   "source": [
    "**Zadatak 3**\n",
    "\n",
    "Napravite program koji ima padajući izbornik s popisom svih filmova u bazi podataka, gumb za prikaz detalja filma i tekstovno polje za prikaz detalja. Korisnik će odabrati film iz padajućeg izbornika, pritiskom na gumb prikazat će se detalji odabranog filma, ako postoje u bazi podataka."
   ]
  },
  {
   "cell_type": "code",
   "execution_count": null,
   "id": "0ce414c6-7f53-47cf-b0da-6f2178a8dde9",
   "metadata": {},
   "outputs": [],
   "source": []
  },
  {
   "attachments": {},
   "cell_type": "markdown",
   "id": "563c7448-3e2f-4f10-b1ce-1c7b65058354",
   "metadata": {
    "deletable": false,
    "editable": false,
    "tags": []
   },
   "source": [
    "**Zadatak 4**\n",
    "\n",
    "Napravite program za unos novog filma u bazu podataka. Program treba imati polja za unos naziva filma, godine izdanja, žanra i opisa filma te gumb za spremanje novog filma u bazu podataka."
   ]
  },
  {
   "cell_type": "code",
   "execution_count": null,
   "id": "dc827dd4-d975-40e6-bf88-2232355d619b",
   "metadata": {},
   "outputs": [],
   "source": []
  },
  {
   "attachments": {},
   "cell_type": "markdown",
   "id": "6ca8c41a-9c9a-4790-a09c-a6f0aaf955f4",
   "metadata": {
    "deletable": false,
    "editable": false,
    "tags": []
   },
   "source": [
    "**Zadatak 5**\n",
    "\n",
    "Napravite program koji ima padajući izbornik s popisom svih žanrova u bazi podataka, gumb za prikaz filmova za odabrani žanr i tekstovno polje za prikaz rezultata pretrage. Korisnik će odabrati žanr iz padajućeg izbornika, pritiskom na gumb pretrage će se pretražiti baza podataka i prikazati svi filmovi koji pripadaju odabranom žanru."
   ]
  },
  {
   "cell_type": "code",
   "execution_count": null,
   "id": "72ecb6a4-19c3-4876-9d7d-92d9d2abac98",
   "metadata": {},
   "outputs": [],
   "source": []
  },
  {
   "attachments": {},
   "cell_type": "markdown",
   "id": "1c2637bc-06a2-476d-9cbb-084ae5baf96c",
   "metadata": {
    "deletable": false,
    "editable": false,
    "tags": []
   },
   "source": [
    "**Zadatak 6**\n",
    "\n",
    "Napravite program koji ima padajući izbornik s popisom svih godina izdanja filmova u bazi podataka, gumb za prikaz filmova iz odabrane godine i tekstovno polje za prikaz rezultata pretrage. Korisnik će odabrati godinu izdanja iz padajućeg izbornika, pritiskom na gumb pretrage će se pretražiti baza podataka i prikazati svi filmovi iz odabrane godine."
   ]
  },
  {
   "cell_type": "code",
   "execution_count": null,
   "id": "502294b5-f813-40c1-a8e2-0bc9c655be6a",
   "metadata": {},
   "outputs": [],
   "source": []
  },
  {
   "attachments": {},
   "cell_type": "markdown",
   "id": "1c3ac103-b2f4-4549-93e5-9cf2d2fe3043",
   "metadata": {
    "deletable": false,
    "editable": false,
    "tags": []
   },
   "source": [
    "**Zadatak 7**\n",
    "\n",
    "Napravite program za uređivanje podataka o postojećem filmu u bazi podataka. Program treba imati padajući izbornik s popisom svih filmova u bazi podataka, polja za unos novih podataka (naziv filma, godina izdanja, žanr, opis) te gumb za spremanje izmjena u bazu podataka."
   ]
  },
  {
   "cell_type": "code",
   "execution_count": null,
   "id": "bf03548b-9a5f-4e41-a1b3-9f9db4dfeee5",
   "metadata": {},
   "outputs": [],
   "source": []
  },
  {
   "attachments": {},
   "cell_type": "markdown",
   "id": "f4cfbe46-3128-49fd-94a0-92d3fd6ef2bf",
   "metadata": {
    "deletable": false,
    "editable": false,
    "tags": []
   },
   "source": [
    "**Zadatak 8**\n",
    "\n",
    "Napravite program za brisanje filma iz baze podataka. Program treba imati padajući izbornik s popisom svih filmova u bazi podataka te gumb za brisanje odabranog filma iz baze podataka."
   ]
  },
  {
   "cell_type": "code",
   "execution_count": null,
   "id": "bb44be37-9804-4dce-88e2-436d88800d86",
   "metadata": {},
   "outputs": [],
   "source": []
  },
  {
   "attachments": {},
   "cell_type": "markdown",
   "id": "91a2efd1-5da5-46d9-b5c3-f5d54157eb2f",
   "metadata": {
    "deletable": false,
    "editable": false,
    "tags": []
   },
   "source": [
    "## Seminar 4 - IoT <a class=\"anchor\" id=\"modul4\"></a>\n",
    "\n",
    "Pojam s kojim se sve česće susrećemo u svakodnevnom životu i primjećujemo da sve više stvari oko nas postaje \"pametno\". *Internet Of Things* (hrv. Internet stvari, u nastavku IoT) je **naziv za mrežu elektroničkih sustava povezanih putem Interneta**. Kada pričamo o IoT sustavima, to su sustavi koji sadrže *hardware* sa senzorima koji prikupljaju podatke, prenose ih putem radio signala do *collector* uređaja koji podatke distribuira na neko centralno mjesto (*cloud*) gdje se podaci obrađuju i koriste."
   ]
  },
  {
   "attachments": {},
   "cell_type": "markdown",
   "id": "74739a82-3ccf-44b6-b8b9-4054591c7d02",
   "metadata": {
    "deletable": false,
    "editable": false,
    "tags": []
   },
   "source": [
    "**Primjer sustava**\n",
    "\n",
    "Kada pričamo o hardware-u sustav se najčešće sastoji od *microcontrollera* (npr. Arduino) ili *single-board computera* (u nastavku SBC) (rjeđe, ali može se koristiti npr. Raspberry Pi) na koji je spojen neki senzor (ili više njih) ovisno o potrebi. Putem senzora se fizikalne veličine pretvaraju u digitalni signal i vrijednost. \n",
    "\n",
    "U pojedinim sustavima takvih uređaja može biti mnogo (npr. 100+) i mogu biti na nedostupnim mjestima. Omogućiti svakom takvom uređaju vezu s Internetom može biti skupo ili nemoguće. U takvim uvjetima ti uređaji najčešće nemaju pristup napajanju pa ih često pokreću baterije, što stvara nove izazove implementacije jer ti uređaji, iako rade na baterije, trebaju imati dug vijek trajanja (primjerice, minimalno tri godine). \n",
    "\n",
    "Kako bi ispunili sve prethodne kriterije, zaključak je kako je najbolji način implementacije (zbog potrošnje energije) da ti uređaji preko radio signala (npr. LoRa, Sigfox) šalju očitane vrijednosti na neki centralni uređaj (koji onda najčešće ima pristup napajanju i internetu) koji služi da bi prenio podatke (prethodno spomenutih 100+) uređaja u neki *cloud*. Taj centralni uređaj (*collector*) može također biti *microcontroller*, ali češće je SBC (npr. Raspberry Pi). "
   ]
  },
  {
   "attachments": {},
   "cell_type": "markdown",
   "id": "3296a953-38dc-4e85-854e-4c2b25b6708b",
   "metadata": {
    "deletable": false,
    "editable": false,
    "tags": []
   },
   "source": [
    "### SenseHAT emulator <a class=\"anchor\" id=\"modul4-sense-hat-emu\"></a>\n",
    "\n",
    "Na ovoj edukaciji koristit će se **RaspbianOS** - stvarni operacijski sustav koji se koristi na Raspberry Pi uređajima, sa **SenseHAT emulatorom** (softverska kopija stvarne elektroničke pločice koja se spaja s Raspberry Pi-om) koji simulira rad određenih senzora i elektroničkih komponenti kojima možemo upravljati preko Pythona.\n",
    "\n",
    "Emulator ima primjere koda koje možete koristiti kako biste dobili uvid u to kako koristiti vrijednosti pojedinog senzora."
   ]
  },
  {
   "attachments": {},
   "cell_type": "markdown",
   "id": "8b43946a",
   "metadata": {
    "deletable": false,
    "editable": false,
    "tags": []
   },
   "source": [
    "### Thread\n",
    "\n",
    "Kako su zadaci u IoT modulu složeniji, postoji potreba za korištenjem dretvi (Thread-ova) kako bi određene radnje i simulacije mogli izvršavati paralelno s našim aplikacijama. \n",
    "\n",
    "Do sada su se sve aplikacije odvijale sinkrono i nismo imali potrebe uvoditi paralelizam u aplikacije. Korištenjem senzora gdje aplikacija može primati podatke u pozadini (*background job*) neovisno o našem korištenju, da bi aplikacija radila bez prekida i nesmetano, koristimo Thread.\n",
    "\n",
    "Kako biste lakše razumjeli Threading u programiranju, slijedi nekoliko primjera:"
   ]
  },
  {
   "cell_type": "code",
   "execution_count": 11,
   "id": "3d14cefe",
   "metadata": {
    "deletable": false,
    "editable": false,
    "tags": []
   },
   "outputs": [
    {
     "name": "stdout",
     "output_type": "stream",
     "text": [
      "[Petlja 1]: 1\n",
      "[Petlja 1]: 2\n",
      "[Petlja 1]: 3\n",
      "[Petlja 1]: 4\n",
      "[Petlja 1]: 5\n",
      "[Petlja 2]: 1\n",
      "[Petlja 2]: 2\n",
      "[Petlja 2]: 3\n",
      "[Petlja 2]: 4\n",
      "[Petlja 2]: 5\n"
     ]
    }
   ],
   "source": [
    "from time import sleep as delay\n",
    "\n",
    "class Petlja:\n",
    "    \n",
    "    def __init__(self, name):\n",
    "        self.name = name\n",
    "        \n",
    "    def pokreni(self):\n",
    "        for i in range(5):\n",
    "            print(f\"[{self.name}]: {i + 1}\")\n",
    "            delay(1)\n",
    "\n",
    "if __name__ == '__main__':\n",
    "    p1 = Petlja(\"Petlja 1\")\n",
    "    p2 = Petlja(\"Petlja 2\")\n",
    "    p1.pokreni()\n",
    "    p2.pokreni()\n",
    "    "
   ]
  },
  {
   "attachments": {},
   "cell_type": "markdown",
   "id": "8bdf0b73",
   "metadata": {
    "deletable": false,
    "editable": false,
    "tags": []
   },
   "source": [
    "U primjeru iznad vidimo da, kad pokrenemo aplikaciju s dvije petlje, kada prva petlja krene u izvođenje,  aplikacija je \"zaključana\" i ne može raditi ništa drugo tako dugo dok petlja ne završi s izvođenjem (delay, odnosno sleep je korišten za bolji dojam, da nam petlja traje ~5 sekundi). Tek nakon što prva petlja završi s izvođenjem, kreće druga petlja koja opet \"zaključa\" aplikaciju i ne može se izvoditi ništa drugo kad traje izvođenje petlje. **Pokušajte na klik gumba u tkinter aplikaciji staviti petlju iz primjera iznad i probajte kliknuti nešto drugo u aplikaciji - što se dogodi?**"
   ]
  },
  {
   "cell_type": "code",
   "execution_count": 18,
   "id": "8619bd57",
   "metadata": {
    "deletable": false,
    "editable": false,
    "scrolled": true,
    "tags": []
   },
   "outputs": [
    {
     "name": "stdout",
     "output_type": "stream",
     "text": [
      "[Petlja 1]: 1\n",
      "[Petlja 2]: 1\n",
      "Obje dretve pokrenute\n",
      "[Petlja 1]: 2\n",
      "[Petlja 2]: 2\n",
      "[Petlja 1]: 3[Petlja 2]: 3\n",
      "\n",
      "[Petlja 2]: 4\n",
      "[Petlja 1]: 4\n",
      "[Petlja 1]: 5\n",
      "[Petlja 2]: 5\n",
      "[Petlja 1]: 6\n",
      "[Petlja 2]: 6\n",
      "[Petlja 1]: 7\n",
      "[Petlja 2]: 7\n",
      "[Petlja 1]: 8\n",
      "[Petlja 2]: 8\n",
      "[Petlja 1]: 9\n",
      "[Petlja 2]: 9\n",
      "[Petlja 1]: 10\n",
      "[Petlja 2]: 10\n",
      "[Petlja 1]: 1\n",
      "[Petlja 1]: 2\n",
      "[Petlja 1]: 3\n",
      "[Petlja 1]: 4\n",
      "[Petlja 1]: 5\n",
      "[Petlja 1]: 6\n",
      "[Petlja 1]: 7\n",
      "[Petlja 1]: 8\n",
      "[Petlja 1]: 9\n",
      "[Petlja 1]: 10\n",
      "[Petlja 2]: 1\n",
      "[Petlja 2]: 2\n",
      "[Petlja 2]: 3\n",
      "[Petlja 2]: 4\n",
      "[Petlja 2]: 5\n",
      "[Petlja 2]: 6\n",
      "[Petlja 2]: 7\n",
      "[Petlja 2]: 8\n",
      "[Petlja 2]: 9\n",
      "[Petlja 2]: 10\n",
      "Obje metode test zavrsene\n"
     ]
    }
   ],
   "source": [
    "from time import sleep as delay\n",
    "from threading import Thread\n",
    "\n",
    "class Dretva(Thread):\n",
    "\n",
    "    def __init__(self, name):\n",
    "        super().__init__()\n",
    "        self.name = name\n",
    "\n",
    "    def run(self):\n",
    "        for i in range(10):\n",
    "            print(f\"[{self.name}]: {i + 1}\")\n",
    "            delay(1)\n",
    "    \n",
    "    def test(self):\n",
    "        for i in range(10):\n",
    "            print(f\"[{self.name}]: {i + 1}\")\n",
    "            delay(0.5)\n",
    "    \n",
    "            \n",
    "if __name__ == '__main__':\n",
    "    d1 = Dretva(\"Petlja 1\")\n",
    "    d2 = Dretva(\"Petlja 2\")\n",
    "    d1.start()\n",
    "    d2.start()\n",
    "    print(\"Obje dretve pokrenute\")\n",
    "    delay(11)\n",
    "    d1.test()\n",
    "    d2.test()\n",
    "    print(\"Obje metode test zavrsene\")\n"
   ]
  },
  {
   "attachments": {},
   "cell_type": "markdown",
   "id": "7289d53d",
   "metadata": {
    "deletable": false,
    "editable": false,
    "tags": []
   },
   "source": [
    "S uvođenjem thread-a, petlje se izvršavaju paralelno.<br> \n",
    "\n",
    "**Bitno** kod implementacije Thredova:\n",
    " - Klasa koju implementiramo mora naslijediti klasu Thread.\n",
    " - Klasa koja je naslijedila Thread **obavezno** treba imati metodu **run()** jer kad pokrenemo thread preko          metode start() (dakle ne pozivamo objekt.run() nego obavezno objekt.start()), pokreće se metoda **run()** koja      je jedina metoda koja se izvršava asinkrono (vidimo da su se obje petlje pokrenule i da se ispisao print()        implementiran ispod, što nam daje informaciju da kad preko metode start() pokrenemo thread, aplikacija            nastavlja normalno izvršavati). Također, kad pozovemo metode test(), one se izvršavaju          jednako kao i u primjeru bez thredova.\n",
    " \n",
    "Metoda run() moze pokrenuti i beskonačnu while True: petlju koja se može izvršavati tokom cijelog izvođenja naše aplikacije."
   ]
  },
  {
   "attachments": {},
   "cell_type": "markdown",
   "id": "e5b4dea6",
   "metadata": {
    "deletable": false,
    "editable": false,
    "tags": []
   },
   "source": [
    "## MQTT\n",
    "\n",
    "MQTT je *messaging protokol* često korišten u IoT svijetu. Baziran je na TCP/IP protokolu, a radi na modelu *publish/subscribe*. MQTT radi na način da svaki uređaj u sustavu može primati poruke (na *topic* na koji je pretplaćen (*subscribe-an*)) i slati poruke na proizvoljan *topic* u sustavu (komunikacija je dvosmjerna za svaku aplikaciju koja ima *MQTT client*).\n",
    "\n",
    "Ako pričamo u uređajima IoT sustava, postoje oni koji sadrže senzore i pojedine fizikalne veličine (temperatura, vlaga, tlak i sl.) pretvaraju u digitalni signal (vrijednosti) te ih distribuiraju u sustav, dok su s druge strane aplikacijski sustavi koje te iste vrijednosti obrađuju, spremaju ili ih koriste na neki specifičan način.\n",
    "\n",
    "**Stvari koje su nam potrebne da koristimo MQTT su:** \n",
    " - internet veza\n",
    " - server (MQTT broker) koji služi za distribuiranje poruka kroz sustav\n",
    " - port (1883 ili 8883) ovisno o tome je li server otvoren ili su potrebni autorizacijski podaci da bi se mogli\n",
    "   spojiti. Default je 1883 i za isti nisu potrebni korisničko ime i lozinka.\n",
    "\n",
    "**Primjer sustava:**\n",
    "Aplikacija (*collector*) koja sakuplja podatke od senzora.\n",
    "Tri raspberry pi uređaja s temperaturnim senzorima koji očitavaju vrijednosti temperature svakih 30 minuta i šalju ih aplikaciji.\n",
    "\n",
    "Svakiom raspberry pi-u dodjelimo alias (da bi znali s kojeg uređaja je stigla vrijednost), npr.\n",
    "RPI-kupaona, RPI-dvoriste i RPI-spavaca.\n",
    "\n",
    "Topic nam je kanal koji nam služi kako bi jednoznačno dodjelili ime našem sustavu npr IoTHome.\n",
    "Da bi dobili predodžbu kako topici rade, u ovom slučaju imali bi tri topica (jedan za svaki raspberry pi):<br>\n",
    "topic IoTHome/RPI-kupaona<br>\n",
    "topic IoTHome/RPI-dvoriste<br>\n",
    "topic IoTHome/RPI-spavaca<br>\n",
    "\n",
    "Dakle, *root topic* nam je IoTHome, dok svaki od raspberry pi-a koristi svoj pojedinačni topic koji koristi kao kanal na koji šalje (*publish-a*) svoje temperature.\n",
    "Aplikacija bi se trebala pretplatiti (*subscribe-ati*) na tri topica spomenuta gore kako bi mogla prihvatiti poruke od svakog pojedinog raspberry pi-a. Kako bi izbjegli *subscribe* na tri različita topica i prilagodili se sustavu, topic na koji se *subscribe-amo* mozemo definirati na način da pretplatu napravimo na IoTHome/+ te na ovakav način preko jednog *subscribe-a* možemo \"slušati\" sve poruke koje nam stižu u aplikaciju.<br>\n",
    "\n",
    "**Napomena**: <br>Znak \"/\" nam sluzi kako bi odvajali različite razine topica, tako da IoTHome/+ ne bi primao poruke s topica IoTHome/RPI/1 (jer sadrži dva znaka \"/\"), na takav topic bi se trebali pretplatiti s IoTHome/RPI/+ ili IoTHome/+/+. \n",
    "\n",
    "Library koji se koristi u primjeru je paho-mqtt (pa je, da bismo koristili isti, potrebno instalirati s \n",
    "**pip install paho-mqtt**.\n",
    "\n",
    "**HOW TO**<br>\n",
    "Primjer za MQTT client ispod se može koristiti as-is te isti možete kopirati u projekt.\n",
    "Kada ga kopirate u projekt potrebno je u konstruktor proslijediti tri parametra:<br>\n",
    "1. server = \"edu-agrdan.plusvps.com\" # postoje public/free MQTT brokeri koji se mogu koristiti, ali možete koristiti <br>                                  # ovaj iz primjera<br>\n",
    "2. port = 1883<br>\n",
    "3. topic = \"IoTHome/+\"<br>\n",
    "\n",
    "mqtt = MqttClient(server, port, topic)<br>\n",
    "mqtt.start() # MqttClient nam nasljeđuje Thread pa je potrebno pozvati start(), da se pokrene metoda run()<br>\n",
    " - ako su podaci ispravni u termnalu se ispisuje poruka 'Uspjesno spojeni na server!'\n",
    "\n",
    "za publish na topic koristimo<br>\n",
    "mqtt.publish(\"23.4\", \"IoTHome/RPI-kupaona\") # prvi param je poruka, drugi param je topic<br>\n",
    " - za publish netrebamo biti subscribe-ani na isti topic\n",
    " \n",
    "Nakon izvršene linije iznad, svi uređaji koji su pretplaćeni na topic na koji smo publishali\n",
    "primaju pruke u metodi **onMessage**.<br>\n",
    "Sve poruke se spremaju u queue kako bi ih mogli čitati i obrađivati intenzitetom kojim želimo.\n",
    "U queue se poruka sprema u formatu \"{topic};{message}\" da bi imali informacije o topicu (uređaju s kojeg je stigla) i vrednosti koja je poslana. Kad dohvatimo poruku preko metode **getFromQueue()** istu je potrebno splitati s \";\". Queue nam je mehanizam koji se prazni svaki put kad pozovemo metodu, po principu FIFO (*first in first out*), dakle prva poruka koju prihvatimo će prva ući u obradu nakon što je dohvatimo.\n",
    "\n"
   ]
  },
  {
   "cell_type": "code",
   "execution_count": null,
   "id": "72dbf112",
   "metadata": {
    "deletable": false,
    "editable": false,
    "tags": []
   },
   "outputs": [],
   "source": [
    "from collections import deque\n",
    "from threading import Thread\n",
    "import paho.mqtt.client as mqtt\n",
    "\n",
    "\n",
    "class MqttClient(Thread):\n",
    "\n",
    "    def __init__(self, serverUrl, port, topic):\n",
    "        super().__init__()\n",
    "        self.mqttc = mqtt.Client()\n",
    "        self.server = serverUrl\n",
    "        self.port = port\n",
    "        self.topic = topic\n",
    "        self.queue = deque()\n",
    "\n",
    "    def run(self):\n",
    "        self.mqttc.on_connect = self.onConnect\n",
    "        self.mqttc.on_disconnect = self.onDisconnect\n",
    "        self.mqttc.on_subscribe = self.onSubscribe\n",
    "        self.mqttc.on_message = self.onMessage\n",
    "        self.mqttc.connect(host=self.server, port=self.port)\n",
    "        self.mqttc.loop_forever()\n",
    "\n",
    "    def onConnect(self, mqttc, userdata, flags, rc):\n",
    "        print(\"Uspjesno spojeni na server!\")\n",
    "        self.mqttc.subscribe(topic=self.topic, qos=0)\n",
    "\n",
    "    def onDisconnect(self, mqttc, userdata, rc):\n",
    "        print(\"Disconnected...\")\n",
    "\n",
    "    def onSubscribe(self, mqttc, userdata, mid, granted_qos):\n",
    "        print(\"Uspjesno pretplaceni sa qos: \" + str(granted_qos))\n",
    "        \n",
    "    def get_status(self):\n",
    "        return self.mqttc.is_connected()\n",
    "\n",
    "    def onMessage(self, mqttc, userdata, msg):\n",
    "        print(msg.topic + \" - \" + msg.payload.decode(\"utf-8\"))\n",
    "        self.queue.append(f\"{msg.topic};{msg.payload.decode('utf-8')}\")\n",
    "\n",
    "    def publish(self, msg, topic):\n",
    "        print(f\"Publishing... topic[{topic}]: {msg}\")\n",
    "        self.mqttc.publish(topic, msg, 0, False)\n",
    "\n",
    "    def getFromQueue(self):\n",
    "        if len(self.queue) != 0:\n",
    "            return self.queue.popleft()\n",
    "        else:\n",
    "            return None\n"
   ]
  },
  {
   "attachments": {},
   "cell_type": "markdown",
   "id": "b69397fd-ae1a-4707-bbd5-5c4e715ad062",
   "metadata": {
    "deletable": false,
    "editable": false,
    "tags": []
   },
   "source": [
    "## Zadaci"
   ]
  },
  {
   "attachments": {},
   "cell_type": "markdown",
   "id": "b9efc5e6-6930-4aae-8c37-460c18397511",
   "metadata": {
    "deletable": false,
    "editable": false,
    "tags": []
   },
   "source": [
    "**Zadatak 1**\n",
    "\n",
    "Na RaspbianOS-u pogledati primjere koji koriste temperaturu, vlagu i tlak. Ubaciti kod za MqttClient u projekt na RaspbianOS-u te napraviti publish pojedinih vrijednosti sa SenseHat emulatora na topic koji sami odredite (preporuka je da koristite nešto jednoznačno za naziv topic-a kako se poruke ne bi pomješale s ostalim polaznicima koji rješavaju zadatke npr. unique_name_inicijali/temperatura, unique_name_inicijali/vlaga itd. ili slično).\n",
    "\n",
    "Napraviti aplikaciju na lokalnom računalu (iskoristite isti MqttClient) i pretplatite se na isti topic koji ste definirali u aplikaciji na RaspbianOSu. Cilj je prihvatiti poruke publish-ane s RaspbianOS-a na Vašem lokalnom računalu."
   ]
  },
  {
   "attachments": {},
   "cell_type": "markdown",
   "id": "d6b65197",
   "metadata": {},
   "source": []
  },
  {
   "attachments": {},
   "cell_type": "markdown",
   "id": "15346049-f31e-43f2-966e-1953748e9e88",
   "metadata": {
    "deletable": false,
    "editable": false,
    "tags": []
   },
   "source": [
    "**Zadatak 2**\n",
    "\n",
    "Preko tkintera napraviti aplikaciju s grafičkim sučeljem. Početni screen neka sadrži elemente za unos podataka potrebnih za spajanje na MqttClient. 3 Entry widgeta - server, port, topic koje korisnik unosi u grafičko sučelje (sva 3 polja su obavezna) i button \"Connect\". Napraviti provjeru da li su podaci validni (da li se aplikacija spojila na server).Ako podaci nisu validni, obavjestiti korisnika o tome i tražiti da unese nove vrijednosti, a ako su podaci validni, otvoriti novi prozor koji ce sadržavati widget Text iz tkinter library-a te 2 Entry-a. \n",
    "\n",
    "Text widget neka služi za ispis svih poruka koje stignu na pretplaćeni topic, dok Entry služi za unos poruke i topica. Korisnik upisuje topic i poruke u pojedini Entry widget. Entry za poruke treba imati bind na \"Enter\", odnosno, da se poruka pošalje (publisha) kada korisnik pritisne \"Enter\". Kad se poruka pošalje, Entry za poruke se treba isprazniti (pripremiti za novu poruku), dok Entry topic ostane nepromjenjen (dok ga korisnik ne promjeni ručno)."
   ]
  },
  {
   "attachments": {},
   "cell_type": "markdown",
   "id": "908b2359-707d-417c-93b2-4da77a7a638e",
   "metadata": {},
   "source": []
  },
  {
   "attachments": {},
   "cell_type": "markdown",
   "id": "1f8c1b3f-3b94-40d3-ab7e-8e784a144dad",
   "metadata": {
    "deletable": false,
    "editable": false,
    "tags": []
   },
   "source": [
    "### Primjena senzora u aplikacijama\n",
    "\n",
    "Bez upotrebe stvarnih senzora (ako im nemamo pristup) za simulaciju senzora možemo koristiti maštu i dosad stečeno znanje Pythona.\n",
    "\n",
    "Razmisliti koje sve senzore i na koji način bi mogli simulirati njihove vrijednosti ili ponašanje.\n",
    "Primjeri senzora:\n",
    " - PIR (detektor pokreta)\n",
    " - Ultrazvučni senzor\n",
    " - Temperatura\n",
    " - Vlaga\n",
    " - Tlak\n",
    " - Kvaliteta zraka\n",
    " - Detekcija plinova u zraku\n",
    " - LED (svijetla)\n",
    "\n",
    "\n",
    "Prijedlog implementacije pojedinih senzora:\n",
    "- svaki senzor se može aktivirati putem widgeta u tkinter aplikaciji, ali možemo koristiti i nasumičnost podataka\n",
    "\n",
    "Za nasumičnost se može koristiti neki api (requests) ili *random generator* kako bismo mogli pojedine stvari aktivirati neovisno o našim aktivnostima.\n",
    "Dakle, koristiti Thread koji periodički svakih npr. jednu minutu poziva api i provjerimo je li nam se u requestu vratio paran broj ili, ako nam se vratila rečenica/riječ, sadrži li neko određeno slovo (ili koristiti neku implementaciju koja vam \"padne na pamet\", a da se može primjeniti na određeni request)."
   ]
  },
  {
   "attachments": {},
   "cell_type": "markdown",
   "id": "e7764cf3-5b99-409c-8bf8-71c6c70baab5",
   "metadata": {
    "deletable": false,
    "editable": false,
    "tags": []
   },
   "source": [
    "#### Zadaci"
   ]
  },
  {
   "attachments": {},
   "cell_type": "markdown",
   "id": "7da59051-9743-4f3f-aeda-dab3d1867d28",
   "metadata": {
    "deletable": false,
    "editable": false,
    "tags": []
   },
   "source": [
    "**Zadatak 1**\n",
    "\n",
    "Napraviti vlastiti grafički simulator za simulaciju temperature, vlage, tlaka, simulaciju kiše i simulaciju snijega. Za simulaciju pojedinih vrijednosti (temperature, vlaga i tlak) koristiti Scale widget iz tkintera (slideri). Za simulaciju kiše/snijega koristiti checkButton. Vrijednosti publishati na MQTT (naziv topic-a se unosi u Entry widget aplikacije). Vrijednosti publishati periodički (svakih X sekundi/minuta) ili na pritisak Buttona."
   ]
  },
  {
   "attachments": {},
   "cell_type": "markdown",
   "id": "21fa99a0",
   "metadata": {},
   "source": []
  },
  {
   "attachments": {},
   "cell_type": "markdown",
   "id": "2c18c529-646a-4707-9145-007c40cb1912",
   "metadata": {
    "deletable": false,
    "editable": false,
    "tags": []
   },
   "source": [
    "**Zadatak 2 (preduvjet - Zadatak 1 iz primjene senzora)**\n",
    "\n",
    "Ako preduvjet nije ispunjen, napraviti grafičko sučelje kakvo je predviđeno u Zadatku 1, ali nije potrebno koristiti MQTT jer se sve odvija unutar jedne aplikacij). **Napomena**: ako radite na ovakav način zanemarite u zadatku sve vezano uz publish/subscribe.\n",
    "\n",
    "Napraviti grafičku aplikaciju koja će prihvačati i reagirati na vrijednosti publish-ane sa simulatora. Pretplatiti se na topic na koji aplikacija vlastitog simulatora publisha podatke. Pripremiti dvije labele u aplikaciji koje će prikazivati slike ovisno o situaciji (vremenu) kakvo je simulirano. Skinuti slike s interneta: crveni X (za grešku), sunce, kišobran, pahuljica, zimska jakna, vesta, kratka majca, palma/more (pripaziti na autorska prava). Prva labela prikazuje situaciju vremena: ako nije simulirana ni kiša ni snijeg, tada je prikazano sunce. Druga labela označava preporuku odjeće - što obući.\n",
    "\n",
    "Labela vremena:\n",
    " - ako je označena kiša - prikazati kišobran\n",
    " - ako je označen snijeg - prikazati pahuljicu\n",
    " - ako nije označeno ni jedno od navedenog prikazati sunce\n",
    " - ako je označena i kiša i snijeg - ispisati poruku - greška (ili slika crveni X)\n",
    " - ako je označen snijeg (provjeriti temperaturu - ako je temperatura nelogična i pada snijeg) - greška\n",
    " \n",
    "Labela odjeće:\n",
    " - temperatura <= 10 - zimska jakna\n",
    " - temperatura > 10 && temperatura < 23 - vesta\n",
    " - temperatura >= 23 && temperatura < 34 - kratka majca\n",
    " - temperatura >= 34 - palma/more\n",
    " "
   ]
  },
  {
   "attachments": {},
   "cell_type": "markdown",
   "id": "c80b5a2f",
   "metadata": {},
   "source": []
  },
  {
   "attachments": {},
   "cell_type": "markdown",
   "id": "b7346918-4982-414b-a726-ad4bc00e4f52",
   "metadata": {
    "deletable": false,
    "editable": false,
    "tags": []
   },
   "source": [
    "## Seminar 5 - Data science <a class=\"anchor\" id=\"modul5\"></a>\n",
    "\n"
   ]
  },
  {
   "attachments": {},
   "cell_type": "markdown",
   "id": "0bfc030a-39e2-4ffb-8e04-4149cfab2bc3",
   "metadata": {
    "deletable": false,
    "editable": false,
    "tags": []
   },
   "source": [
    "### Pandas <a class=\"anchor\" id=\"modul5-pandas\"></a>\n",
    "\n",
    "Pandas je Python paket koji **omogućava rad s tabelama heterogenih tipova podataka** kao u bazama podataka ili Excel tablicama i to sve pomoću Python programskog jezika, unutar Python aplikacije.\n",
    "\n",
    "Pandas nije standardni dio Python distribucije te ga je potrebno instalirati zasebno. Postoji nekoliko mogućnosti instalacija Pandas paketa, ali najjednostavniji je:\n",
    "- pomoću Anaconda distribucije uz koju dolaze i drugi povezani paketi\n",
    "- PyPi - pip install pandas\n",
    "\n",
    "Postoje i neki drugi načini, ali nisu tako jednostavni. Bez obzira na način instalacije, prije uporabe Pandas paketa potrebno ga je instalirati."
   ]
  },
  {
   "attachments": {},
   "cell_type": "markdown",
   "id": "15fd4576-32df-49f0-92b2-f2458120edb1",
   "metadata": {
    "deletable": false,
    "editable": false,
    "tags": []
   },
   "source": [
    "#### Pandas strukture podataka - Serise i DataFrame\n",
    "\n",
    "Pandas Series je jednodimenzionalna struktura podataka.\n",
    "\n",
    "Primjer Pandas Serise nastale na osnovu rječnika (dictionary):"
   ]
  },
  {
   "cell_type": "code",
   "execution_count": null,
   "id": "89ad0e40",
   "metadata": {
    "deletable": false,
    "editable": false,
    "tags": []
   },
   "outputs": [],
   "source": [
    "import pandas as pd\n",
    "\n",
    "categories_dict = { 1: 'Desktop', 2: 'Laptop', 3: 'Tablet', 4: 'Mobitel'}\n",
    "\n",
    "categories_pd_series = pd.Series(categories_dict)"
   ]
  },
  {
   "attachments": {},
   "cell_type": "markdown",
   "id": "d57d3920-1d9b-4cec-82e0-b7aa757147ec",
   "metadata": {
    "deletable": false,
    "editable": false,
    "tags": []
   },
   "source": [
    "Pandas DataFrame je dvodimenzionalna struktura podataka koju je najlakše opisati kao tabelu.\n",
    "\n",
    "Primjer Pandas DataFrame strukture nastale na osnovu rječnika:"
   ]
  },
  {
   "cell_type": "code",
   "execution_count": null,
   "id": "f7aeb9da",
   "metadata": {
    "deletable": false,
    "editable": false,
    "tags": []
   },
   "outputs": [],
   "source": [
    "import pandas as pd\n",
    "\n",
    "grades_dict = { \n",
    "    'Matematika': [4, 5, 3, 4, 5, 5, 5, 3, 2],\n",
    "    'Fizika': [4, 5, 5, 5, 5, 5, 5, 3, 2],\n",
    "    'Kemija': [4, 2, 3, 4, 3, 3, 5, 3, 2],\n",
    "}\n",
    "\n",
    "grades_pd_series = pd.Series(grades_dict)"
   ]
  },
  {
   "attachments": {},
   "cell_type": "markdown",
   "id": "d433baa8-87be-4e56-a928-131850dc91ae",
   "metadata": {
    "deletable": false,
    "editable": false,
    "tags": []
   },
   "source": [
    "#### Zadaci"
   ]
  },
  {
   "attachments": {},
   "cell_type": "markdown",
   "id": "1065d9de",
   "metadata": {
    "deletable": false,
    "editable": false,
    "tags": []
   },
   "source": [
    "***Napomena:* Unutar mape *datasets* nalazi se csv datoteka *movies.csv* u kojoj su nazivi filmova s kategorijama. Za slijedeće zadatke koristite navedeni dataset.**\n",
    "\n",
    "Također, za zadatke u vezi s filmovima možete koristiti IMDb (*Internet Movie Database*) kao izvor podataka. IMDb ima javno dostupnu bazu podataka s informacijama o filmovima koju možete preuzeti s njihove web stranice. Također, postoji i IMDb API koji vam omogućuje dohvaćanje podataka o filmovima putem programskog sučelja."
   ]
  },
  {
   "attachments": {},
   "cell_type": "markdown",
   "id": "495c53d2-4b90-44bb-835a-b6ecaf8c7ae0",
   "metadata": {
    "deletable": false,
    "editable": false,
    "tags": []
   },
   "source": [
    "**Zadatak 1**\n",
    "\n",
    "Učitajte sve filmove iz movies.csv datoteke u Pandas DataFrame objekt. Sortirajte ih po imenu."
   ]
  },
  {
   "cell_type": "code",
   "execution_count": null,
   "id": "374bb794-c700-4359-8002-1d050055b597",
   "metadata": {},
   "outputs": [],
   "source": []
  },
  {
   "attachments": {},
   "cell_type": "markdown",
   "id": "d028ea03-7bcb-4cfd-aed5-86cbf4aab37d",
   "metadata": {
    "deletable": false,
    "editable": false,
    "tags": []
   },
   "source": [
    "**Zadatak 2**\n",
    "\n",
    "Prethodno učtane filmove iz movies.csv datoteke u Pandas DataFrame objekt. Sortirajte ih po žanru."
   ]
  },
  {
   "cell_type": "code",
   "execution_count": null,
   "id": "81e51f4c-5126-4c2a-ab8b-bb2199a25f65",
   "metadata": {},
   "outputs": [],
   "source": []
  },
  {
   "attachments": {},
   "cell_type": "markdown",
   "id": "43d09ca2",
   "metadata": {
    "deletable": false,
    "editable": false,
    "tags": []
   },
   "source": [
    "**Zadatak 3**\n",
    "\n",
    "U prethodno kreiranom Pandas Data Frame objektu iz movies.csv datoteke, dodajte kolonu u kojoj će biti prosjek ocjena svakog filma. Neka ocjena budu nasumično generirani broj od 0.1 do 5.0"
   ]
  },
  {
   "cell_type": "code",
   "execution_count": null,
   "id": "5ce693af",
   "metadata": {},
   "outputs": [],
   "source": []
  },
  {
   "attachments": {},
   "cell_type": "markdown",
   "id": "0a6c7f4f",
   "metadata": {
    "deletable": false,
    "editable": false,
    "tags": []
   },
   "source": [
    "**Zadatak 4**\n",
    "\n",
    "U prethodno kreiranom Pandas Data Frame objektu iz movies.csv datoteke grupirajte filmove po kategoriji."
   ]
  },
  {
   "cell_type": "code",
   "execution_count": null,
   "id": "84586bf5",
   "metadata": {},
   "outputs": [],
   "source": []
  },
  {
   "attachments": {},
   "cell_type": "markdown",
   "id": "8659c429-c689-4c51-9371-236ae77ee660",
   "metadata": {
    "deletable": false,
    "editable": false,
    "tags": []
   },
   "source": [
    "**Zadatak 5**\n",
    "\n",
    "Izračunaj prosječni broj gledatelja po filmu u određenoj godini."
   ]
  },
  {
   "cell_type": "code",
   "execution_count": null,
   "id": "bbf6a1b2-c985-453c-9dc1-534ae38c95cd",
   "metadata": {},
   "outputs": [],
   "source": []
  },
  {
   "attachments": {},
   "cell_type": "markdown",
   "id": "1e73c46d-fdcf-4635-9274-32b12c207ed8",
   "metadata": {
    "deletable": false,
    "editable": false,
    "tags": []
   },
   "source": [
    "**Zadatak 6**\n",
    "\n",
    "Prikazati deset najbolje ocijenjenih filmova i njihove osnovne informacije (naslov, godina, ocjena) u tablici."
   ]
  },
  {
   "cell_type": "code",
   "execution_count": null,
   "id": "f706b6c9-453f-4bd2-be3c-22df8e1c0398",
   "metadata": {},
   "outputs": [],
   "source": []
  },
  {
   "attachments": {},
   "cell_type": "markdown",
   "id": "99bc4fd3-377b-406c-a3bb-b417b7f917da",
   "metadata": {
    "deletable": false,
    "editable": false,
    "tags": []
   },
   "source": [
    "**Zadatak 7**\n",
    "\n",
    "Izračunaj ukupni prihod od filma za svaki film u određenoj godini i sortiraj ih od najvećeg do najmanjeg prihoda."
   ]
  },
  {
   "cell_type": "code",
   "execution_count": null,
   "id": "860c3a00-0629-4ee5-b19a-56679fd1fc4d",
   "metadata": {},
   "outputs": [],
   "source": []
  },
  {
   "attachments": {},
   "cell_type": "markdown",
   "id": "8d7bc0d6-ab8b-450f-98a5-19edf657968d",
   "metadata": {
    "deletable": false,
    "editable": false,
    "tags": []
   },
   "source": [
    "**Zadatak 8**\n",
    "\n",
    "Izračunaj prosječnu ocjenu za filmove u kojima je određeni glumac igrao."
   ]
  },
  {
   "cell_type": "code",
   "execution_count": null,
   "id": "d84ae305-1134-4659-9d10-3941f39b6851",
   "metadata": {},
   "outputs": [],
   "source": []
  },
  {
   "attachments": {},
   "cell_type": "markdown",
   "id": "2ca4c6df-8501-490c-92b4-5ebcb1ea643e",
   "metadata": {
    "deletable": false,
    "editable": false,
    "tags": []
   },
   "source": [
    "**Zadatak 9**\n",
    "\n",
    "Izlistaj sve filmove koje je režirao određeni redatelj, sortirane po godini izlaska filma."
   ]
  },
  {
   "cell_type": "code",
   "execution_count": null,
   "id": "b3ce8f85-1ab8-489b-b5ea-ba93b410124b",
   "metadata": {},
   "outputs": [],
   "source": []
  },
  {
   "attachments": {},
   "cell_type": "markdown",
   "id": "12cd3847-a9fb-4c2e-addc-2259d557dff3",
   "metadata": {
    "deletable": false,
    "editable": false,
    "tags": []
   },
   "source": [
    "### Matplotlib <a class=\"anchor\" id=\"modul5-matplotlib\"></a>\n",
    "\n",
    "matplotlib je Python bilbioteka za vizualizaciju podataka. Dio je Anaconda distribucije, ali moguće je i instalirati samostalno:\\\n",
    "`python -m pip install -U pip`\\\n",
    "`python -m pip install -U matplotlib`"
   ]
  },
  {
   "attachments": {},
   "cell_type": "markdown",
   "id": "11f69f11-c5fc-412e-964a-54f57e8d0d83",
   "metadata": {
    "deletable": false,
    "editable": false,
    "tags": []
   },
   "source": [
    "#### Zadaci"
   ]
  },
  {
   "attachments": {},
   "cell_type": "markdown",
   "id": "7531903c-8c84-482a-8a0f-f907ac027ce2",
   "metadata": {
    "deletable": false,
    "editable": false,
    "tags": []
   },
   "source": [
    "**Zadatak 1**\n",
    "\n",
    "Napravite linijeni grafikon koji prikazuje godišnji prihod top 5 najuspješnijih filmskih studija u posljednjih 10 godina."
   ]
  },
  {
   "cell_type": "code",
   "execution_count": null,
   "id": "850afc32-6d1d-40a0-ab40-52ccfe2a0c9d",
   "metadata": {},
   "outputs": [],
   "source": []
  },
  {
   "attachments": {},
   "cell_type": "markdown",
   "id": "713d1ff4-7643-4484-a99d-50491944fbea",
   "metadata": {
    "deletable": false,
    "editable": false,
    "tags": []
   },
   "source": [
    "**Zadatak 2**\n",
    "\n",
    "Napravite histogram koji prikazuje broj filmova po godinama za jednog od najuspješnijih redatelja u Hollywoodu."
   ]
  },
  {
   "cell_type": "code",
   "execution_count": null,
   "id": "ef1ed412-4a02-4b2a-bc24-9d799d19dc1e",
   "metadata": {},
   "outputs": [],
   "source": []
  },
  {
   "attachments": {},
   "cell_type": "markdown",
   "id": "081630e4-de51-4213-b277-d65837be9af4",
   "metadata": {
    "deletable": false,
    "editable": false,
    "tags": []
   },
   "source": [
    "**Zadatak 3**\n",
    "\n",
    "Napravite pie chart koji prikazuje udio prihoda od prodaje kinoulaznica za različite žanrove filmova u protekloj godini."
   ]
  },
  {
   "cell_type": "code",
   "execution_count": null,
   "id": "206b5f4c-e549-44bc-8715-a94d89229454",
   "metadata": {},
   "outputs": [],
   "source": []
  },
  {
   "attachments": {},
   "cell_type": "markdown",
   "id": "9702287f-a00f-4445-931c-31a44b45b80b",
   "metadata": {
    "deletable": false,
    "editable": false,
    "tags": []
   },
   "source": [
    "**Zadatak 4**\n",
    "\n",
    "Napravite scatter plot koji prikazuje korelaciju između ocjene filma i njegovog uspjeha na blagajnama."
   ]
  },
  {
   "cell_type": "code",
   "execution_count": null,
   "id": "6bb64d24-9177-44f8-9724-c15b34380482",
   "metadata": {},
   "outputs": [],
   "source": []
  },
  {
   "attachments": {},
   "cell_type": "markdown",
   "id": "2f5a2e31-2d40-438e-8be5-1b22b98decdb",
   "metadata": {
    "deletable": false,
    "editable": false,
    "tags": []
   },
   "source": [
    "**Zadatak 5**\n",
    "\n",
    "Napravite bar chart koji prikazuje prihode od prodaje kinoulaznica za 10 najuspješnijih filmova u posljednjih 5 godina."
   ]
  },
  {
   "cell_type": "code",
   "execution_count": null,
   "id": "8dca0e97-65e3-4ad2-a734-7267811ea970",
   "metadata": {},
   "outputs": [],
   "source": []
  },
  {
   "attachments": {},
   "cell_type": "markdown",
   "id": "e9108945-9888-4cee-85eb-a6d2f79be687",
   "metadata": {
    "deletable": false,
    "editable": false,
    "tags": []
   },
   "source": [
    "### NumPy <a class=\"anchor\" id=\"modul5-numpy\"></a>\n",
    "\n",
    "NumPy je kao i Pandas Python biblioteka specijalizirana za rad s numeričkim podacima. Gotovo da nema niti jedne grane znanosti u kojoj NumPy nema primjenu.\n",
    "\n",
    "Isto tako kao i većina Python biblioteka/paketa prije uporabe potrebno je instalirati NumPy. Najjednostavniji način je preko PyPi repozirotija *pip install numpy*, ali može se instalirati i preko Anaconda distribucije."
   ]
  },
  {
   "attachments": {},
   "cell_type": "markdown",
   "id": "13eb5c74-2698-421b-9574-f494bd7eb0c7",
   "metadata": {
    "deletable": false,
    "editable": false,
    "tags": []
   },
   "source": [
    "Prije korištenja NumPy biblioteke obvezno treba uključiti NumPy u skriptu pomoću import naredbe"
   ]
  },
  {
   "cell_type": "code",
   "execution_count": null,
   "id": "5b71e853",
   "metadata": {
    "deletable": false,
    "editable": false,
    "tags": []
   },
   "outputs": [],
   "source": [
    "import numpy as np"
   ]
  },
  {
   "attachments": {},
   "cell_type": "markdown",
   "id": "d950af39-1664-4e34-a157-2e3ef0d14129",
   "metadata": {
    "deletable": false,
    "editable": false,
    "tags": []
   },
   "source": [
    "#### Zadaci"
   ]
  },
  {
   "attachments": {},
   "cell_type": "markdown",
   "id": "2fc03253-0860-40c3-81c0-22c9ba956757",
   "metadata": {
    "deletable": false,
    "editable": false,
    "tags": []
   },
   "source": [
    "**Zadatak 1**\n",
    "\n",
    "Koristeći osnovne NumPy naredbe kreirajte nizove brojeva:\n",
    "- nula\n",
    "- jedinica\n",
    "- nasumične brojeve\n",
    "- niz počevši od broja 10 do broja 42"
   ]
  },
  {
   "cell_type": "code",
   "execution_count": null,
   "id": "e4dd0226-56ad-48c4-86b3-f03e7242d159",
   "metadata": {},
   "outputs": [],
   "source": []
  },
  {
   "attachments": {},
   "cell_type": "markdown",
   "id": "3dc065dd-9bda-4646-a0ea-90a8cd5e914c",
   "metadata": {
    "deletable": false,
    "editable": false,
    "tags": []
   },
   "source": [
    "**Zadatak 2**\n",
    "\n",
    "Niz godina u kojima su snimljeni filmovi Marvelovog univerzuma (MCU) je [2008, 2010, 2011, 2012, 2013, 2014, 2015, 2016, 2017, 2018, 2019, 2021]. Stvorite numpy niz iz ovih godina i pronađite najraniju i najkasniju godinu kada je snimljen film."
   ]
  },
  {
   "cell_type": "code",
   "execution_count": null,
   "id": "3ef4a876-141d-461c-b930-80c82818cfa5",
   "metadata": {},
   "outputs": [],
   "source": []
  },
  {
   "attachments": {},
   "cell_type": "markdown",
   "id": "daf101ea-04c8-4bd8-885d-e0a07159867d",
   "metadata": {
    "deletable": false,
    "editable": false,
    "tags": []
   },
   "source": [
    "**Zadatak 3**\n",
    "\n",
    "Uzmimo sljedeće ocjene za film Avengers: Endgame: [8.4, 8.5, 9.0, 8.9, 8.7, 8.5, 8.8, 8.6, 8.9, 9.0]. Stvorite numpy niz iz ovih ocjena i pronađite prosječnu ocjenu i standardnu devijaciju."
   ]
  },
  {
   "cell_type": "code",
   "execution_count": null,
   "id": "d3b04384-e585-4000-881e-d9f03fc1c5ae",
   "metadata": {},
   "outputs": [],
   "source": []
  },
  {
   "attachments": {},
   "cell_type": "markdown",
   "id": "952faa97-432f-486d-b30e-d12f23d7eb64",
   "metadata": {
    "deletable": false,
    "editable": false,
    "tags": []
   },
   "source": [
    "**Zadatak 4**\n",
    "\n",
    "Postoje podaci o prihodima filma \"The Dark Knight\" u sljedećim zemljama: \n",
    "* Sjedinjene Američke Države 158.411.483,00 &dollar;\n",
    "* Ujedinjeno Kraljevstvo 66.929.262,00 &dollar;\n",
    "* Australija 44.005.407,00 &dollar;\n",
    "* Njemačka 43.536.273,00 &dollar;\n",
    "* Francuska 44.650.728,00 &dollar;\n",
    "\n",
    "Stvorite numpy niz za ove prihode i izračunajte ukupni prihod filma."
   ]
  },
  {
   "cell_type": "code",
   "execution_count": null,
   "id": "b63c6ec8-1fdd-42fb-bc9b-7c04f1e61670",
   "metadata": {},
   "outputs": [],
   "source": []
  },
  {
   "attachments": {},
   "cell_type": "markdown",
   "id": "0dc2c4c7-8e58-489f-8e74-760a8cc32cf6",
   "metadata": {
    "deletable": false,
    "editable": false,
    "tags": []
   },
   "source": [
    "**Zadatak 5**\n",
    "\n",
    "Uzmimo sljedeći numpy niz ocjena filmova:\n",
    "[8.4, 7.8, 9.2, 6.5, 8.9, 7.7, 8.5, 7.2, 6.7, 8.1]\n",
    "Kako biste proveli ocjenu iznad 8.0, stvorite novi numpy niz koji sadrži vrijednosti True i False gdje True označava da ocjena zadovoljava uvjet, a False inače."
   ]
  },
  {
   "cell_type": "code",
   "execution_count": null,
   "id": "a29b6f42-6b9e-4506-8498-68c1138093df",
   "metadata": {},
   "outputs": [],
   "source": []
  },
  {
   "attachments": {},
   "cell_type": "markdown",
   "id": "22c4984d-a00e-49d2-8249-72a0bcffdb6e",
   "metadata": {
    "deletable": false,
    "editable": false,
    "tags": []
   },
   "source": [
    "**Zadatak 6**\n",
    "\n",
    "Stvorite numpy niz dimenzija 3x3 koji sadrži ocjene za tri filma. Ispišite ocjene u prvom redu. Zatim, zamijenite ocjene u prvom i trećem redu i ponovo ispišite niz."
   ]
  },
  {
   "cell_type": "code",
   "execution_count": null,
   "id": "7159c2de-d40f-4c60-900e-a8e150188ed8",
   "metadata": {},
   "outputs": [],
   "source": []
  }
 ],
 "metadata": {
  "kernelspec": {
   "display_name": "Python 3 (ipykernel)",
   "language": "python",
   "name": "python3"
  },
  "language_info": {
   "codemirror_mode": {
    "name": "ipython",
    "version": 3
   },
   "file_extension": ".py",
   "mimetype": "text/x-python",
   "name": "python",
   "nbconvert_exporter": "python",
   "pygments_lexer": "ipython3",
   "version": "3.11.2"
  }
 },
 "nbformat": 4,
 "nbformat_minor": 5
}
